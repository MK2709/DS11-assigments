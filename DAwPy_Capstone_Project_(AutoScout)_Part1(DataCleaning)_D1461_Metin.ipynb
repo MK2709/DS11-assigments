{
  "cells": [
    {
      "cell_type": "markdown",
      "metadata": {
        "id": "view-in-github",
        "colab_type": "text"
      },
      "source": [
        "<a href=\"https://colab.research.google.com/github/MK2709/DS11-assigments/blob/main/DAwPy_Capstone_Project_(AutoScout)_Part1(DataCleaning)_D1461_Metin.ipynb\" target=\"_parent\"><img src=\"https://colab.research.google.com/assets/colab-badge.svg\" alt=\"Open In Colab\"/></a>"
      ]
    },
    {
      "cell_type": "markdown",
      "metadata": {
        "id": "Bv1I7_aas1L3"
      },
      "source": [
        "___\n",
        "\n",
        "<p style=\"text-align: center;\"><img src=\"https://docs.google.com/uc?id=1lY0Uj5R04yMY3-ZppPWxqCr5pvBLYPnV\" class=\"img-fluid\" \n",
        "alt=\"CLRSWY\"></p>\n",
        "\n",
        "## <p style=\"background-color:#FDFEFE; font-family:newtimeroman; color:#9d4f8c; font-size:100%; text-align:center; border-radius:10px 10px;\">WAY TO REINVENT YOURSELF</p>"
      ]
    },
    {
      "cell_type": "markdown",
      "metadata": {
        "id": "Bkw3_pB0s1L-"
      },
      "source": [
        "<img src=https://i.ibb.co/wJW61Y2/Used-cars.jpg width=\"700\" height=\"200\">\n",
        "\n",
        "## <p style=\"background-color:#FDFEFE; font-family:newtimeroman; color:#060108; font-size:200%; text-align:center; border-radius:10px 10px;\">The Capstone Project of Data Analytics Module</p>\n",
        "\n",
        "## <p style=\"background-color:#FDFEFE; font-family:newtimeroman; color:#060108; font-size:150%; text-align:center; border-radius:10px 10px;\">Car Price Prediction EDA</p>"
      ]
    },
    {
      "cell_type": "markdown",
      "metadata": {
        "id": "Z_oWczxZs1MA"
      },
      "source": [
        "## Introduction\n",
        "Welcome to \"***AutoScout Data Analysis Project***\". This is the capstone project of ***Data Analysis*** Module. **Auto Scout** data which using for this project, scraped from the on-line car trading company in 2019, contains many features of 9 different car models. In this project, you will have the opportunity to apply many commonly used algorithms for Data Cleaning and Exploratory Data Analysis by using many Python libraries such as Numpy, Pandas, Matplotlib, Seaborn, Scipy you will analyze clean dataset.\n",
        "\n",
        "### Some Reminders on Exploratory data analysis (EDA)\n",
        "\n",
        "Exploratory data analysis (EDA) is an especially important activity in the routine of a data analyst or scientist. It enables an in depth understanding of the dataset, define or discard hypotheses and create predictive models on a solid basis. It uses data manipulation techniques and several statistical tools to describe and understand the relationship between variables and how these can impact business. By means of EDA, we can obtain meaningful insights that can impact analysis under the following questions (If a checklist is good enough for pilots to use every flight, it’s good enough for data scientists to use with every dataset).\n",
        "1. What question are you trying to solve (or prove wrong)?\n",
        "2. What kind of data do you have?\n",
        "3. What’s missing from the data?\n",
        "4. Where are the outliers?\n",
        "5. How can you add, change or remove features to get more out of your data?\n",
        "\n",
        "**``Exploratory data analysis (EDA)``** is often an **iterative brainstorming process** where you pose a question, review the data, and develop further questions to investigate before beginning model development work. The image below shows how the brainstorming phase is connected with that of understanding the variables and how this in turn is connected again with the brainstorming phase.<br>\n",
        "\n",
        "<img src=https://i.ibb.co/k0MC950/EDA-Process.png width=\"300\" height=\"100\">\n",
        "\n",
        "[Image Credit: Andrew D.](https://towardsdatascience.com/exploratory-data-analysis-in-python-a-step-by-step-process-d0dfa6bf94ee)\n",
        "\n",
        "**``In this context, the project consists of 3 parts in general:``**\n",
        "* **The first part** is related to 'Data Cleaning'. It deals with Incorrect Headers, Incorrect Format, Anomalies, and Dropping useless columns.\n",
        "* **The second part** is related to 'Filling Data', in other words 'Imputation'. It deals with Missing Values. Categorical to numeric transformation is done as well.\n",
        "* **The third part** is related to 'Handling Outliers of Data' via Visualization libraries. So, some insights will be extracted.\n",
        "\n",
        "**``NOTE:``**  However, you are free to create your own style. You do NOT have to stick to the steps above. We, the DA & DV instructors, recommend you study each part separately to create a source notebook for each part title for your further studies. "
      ]
    },
    {
      "cell_type": "markdown",
      "metadata": {
        "id": "vvgJ5KWTs1MB"
      },
      "source": [
        "# PART- 1 `( Data Cleaning )`"
      ]
    },
    {
      "cell_type": "code",
      "source": [
        "pip install skimpy --user"
      ],
      "metadata": {
        "colab": {
          "base_uri": "https://localhost:8080/"
        },
        "id": "83TfCfCfQks_",
        "outputId": "3e18bd6c-e3b8-4fb6-b51f-400aa111da5a"
      },
      "execution_count": 144,
      "outputs": [
        {
          "output_type": "stream",
          "name": "stdout",
          "text": [
            "Looking in indexes: https://pypi.org/simple, https://us-python.pkg.dev/colab-wheels/public/simple/\n",
            "Requirement already satisfied: skimpy in /root/.local/lib/python3.7/site-packages (0.0.5)\n",
            "Requirement already satisfied: Pygments<3.0.0,>=2.10.0 in /root/.local/lib/python3.7/site-packages (from skimpy) (2.12.0)\n",
            "Requirement already satisfied: click==7.1.2 in /usr/local/lib/python3.7/dist-packages (from skimpy) (7.1.2)\n",
            "Requirement already satisfied: pandas<2.0.0,>=1.3.2 in /usr/local/lib/python3.7/dist-packages (from skimpy) (1.3.5)\n",
            "Requirement already satisfied: rich<11.0.0,>=10.9.0 in /root/.local/lib/python3.7/site-packages (from skimpy) (10.16.2)\n",
            "Requirement already satisfied: typeguard<3.0.0,>=2.12.1 in /root/.local/lib/python3.7/site-packages (from skimpy) (2.13.3)\n",
            "Requirement already satisfied: python-dateutil>=2.7.3 in /usr/local/lib/python3.7/dist-packages (from pandas<2.0.0,>=1.3.2->skimpy) (2.8.2)\n",
            "Requirement already satisfied: pytz>=2017.3 in /usr/local/lib/python3.7/dist-packages (from pandas<2.0.0,>=1.3.2->skimpy) (2022.1)\n",
            "Requirement already satisfied: numpy>=1.17.3 in /usr/local/lib/python3.7/dist-packages (from pandas<2.0.0,>=1.3.2->skimpy) (1.21.6)\n",
            "Requirement already satisfied: six>=1.5 in /usr/local/lib/python3.7/dist-packages (from python-dateutil>=2.7.3->pandas<2.0.0,>=1.3.2->skimpy) (1.15.0)\n",
            "Requirement already satisfied: colorama<0.5.0,>=0.4.0 in /root/.local/lib/python3.7/site-packages (from rich<11.0.0,>=10.9.0->skimpy) (0.4.5)\n",
            "Requirement already satisfied: commonmark<0.10.0,>=0.9.0 in /root/.local/lib/python3.7/site-packages (from rich<11.0.0,>=10.9.0->skimpy) (0.9.1)\n",
            "Requirement already satisfied: typing-extensions<5.0,>=3.7.4 in /usr/local/lib/python3.7/dist-packages (from rich<11.0.0,>=10.9.0->skimpy) (4.1.1)\n"
          ]
        }
      ]
    },
    {
      "cell_type": "code",
      "source": [
        "import numpy as np\n",
        "import pandas as pd\n",
        "import seaborn as sns \n",
        "import matplotlib.pyplot as plt\n",
        "from skimpy import clean_columns\n",
        "\n",
        "import warnings\n",
        "warnings.filterwarnings(\"ignore\")\n",
        "warnings.warn(\"this will not show\")\n",
        "\n",
        "%matplotlib inline\n",
        "# %matplotlib notebook\n",
        "\n",
        "plt.rcParams[\"figure.figsize\"] = (10,6)\n",
        "# plt.rcParams['figure.dpi'] = 100\n",
        "\n",
        "sns.set_style(\"whitegrid\")\n",
        "pd.set_option('display.float_format', lambda x: '%.2f' % x)\n",
        "\n",
        "pd.options.display.max_rows = 100\n",
        "pd.options.display.max_columns = 100"
      ],
      "metadata": {
        "id": "7iy0cMS7Qkqb"
      },
      "execution_count": 145,
      "outputs": []
    },
    {
      "cell_type": "code",
      "source": [
        "df = pd.read_json('scout_car.json', lines=True)\n"
      ],
      "metadata": {
        "id": "cIxf4h49Qkn-"
      },
      "execution_count": 844,
      "outputs": []
    },
    {
      "cell_type": "code",
      "source": [
        "df_yedek=df.copy()\n",
        "#creating a copy of a raw data-set just incase"
      ],
      "metadata": {
        "id": "NsC7K4HIQklk"
      },
      "execution_count": 845,
      "outputs": []
    },
    {
      "cell_type": "code",
      "source": [
        "df.head(3)"
      ],
      "metadata": {
        "colab": {
          "base_uri": "https://localhost:8080/",
          "height": 537
        },
        "id": "gqNhAF0WUxm-",
        "outputId": "c19ae3e1-f28c-4842-cb57-339b9cd7302d"
      },
      "execution_count": 846,
      "outputs": [
        {
          "output_type": "execute_result",
          "data": {
            "text/plain": [
              "                                                 url make_model  \\\n",
              "0  https://www.autoscout24.com//offers/audi-a1-sp...    Audi A1   \n",
              "1  https://www.autoscout24.com//offers/audi-a1-1-...    Audi A1   \n",
              "2  https://www.autoscout24.com//offers/audi-a1-sp...    Audi A1   \n",
              "\n",
              "                                   short_description body_type  price  \\\n",
              "0        Sportback 1.4 TDI S-tronic Xenon Navi Klima    Sedans  15770   \n",
              "1                                     1.8 TFSI sport    Sedans  14500   \n",
              "2  Sportback 1.6 TDI S tronic Einparkhilfe plus+m...    Sedans  14640   \n",
              "\n",
              "                vat         km registration         prev_owner  kW      hp  \\\n",
              "0    VAT deductible  56,013 km      01/2016  2 previous owners NaN   66 kW   \n",
              "1  Price negotiable  80,000 km      03/2017               None NaN  141 kW   \n",
              "2    VAT deductible  83,450 km      02/2016   1 previous owner NaN   85 kW   \n",
              "\n",
              "                                      Type Previous Owners  \\\n",
              "0  [, Used, , Diesel (Particulate Filter)]           \\n2\\n   \n",
              "1                     [, Used, , Gasoline]             NaN   \n",
              "2  [, Used, , Diesel (Particulate Filter)]           \\n1\\n   \n",
              "\n",
              "                         Next Inspection         Inspection new  \\\n",
              "0  [\\n06/2021\\n, \\n99 g CO2/km (comb)\\n]  [\\nYes\\n, \\nEuro 6\\n]   \n",
              "1                                    NaN                    NaN   \n",
              "2                                    NaN                    NaN   \n",
              "\n",
              "                           Warranty Full Service Non-smoking Vehicle null  \\\n",
              "0           [\\n, \\n, \\n4 (Green)\\n]     [\\n, \\n]            [\\n, \\n]   []   \n",
              "1                               NaN          NaN                 NaN   []   \n",
              "2  [\\n, \\n, \\n99 g CO2/km (comb)\\n]          NaN                 NaN   []   \n",
              "\n",
              "       Make         Model     Offer Number First Registration  \\\n",
              "0  \\nAudi\\n  [\\n, A1, \\n]  [\\nLR-062483\\n]     [\\n, 2016, \\n]   \n",
              "1  \\nAudi\\n  [\\n, A1, \\n]              NaN     [\\n, 2017, \\n]   \n",
              "2  \\nAudi\\n  [\\n, A1, \\n]   [\\nAM-95365\\n]     [\\n, 2016, \\n]   \n",
              "\n",
              "        Body Color      Paint Type           Body Color Original  \\\n",
              "0  [\\n, Black, \\n]  [\\nMetallic\\n]           [\\nMythosschwarz\\n]   \n",
              "1    [\\n, Red, \\n]             NaN                           NaN   \n",
              "2  [\\n, Black, \\n]  [\\nMetallic\\n]  [\\nmythosschwarz metallic\\n]   \n",
              "\n",
              "           Upholstery              Body Nr. of Doors Nr. of Seats  \\\n",
              "0  [\\nCloth, Black\\n]  [\\n, Sedans, \\n]      [\\n5\\n]      [\\n5\\n]   \n",
              "1   [\\nCloth, Grey\\n]  [\\n, Sedans, \\n]      [\\n3\\n]      [\\n4\\n]   \n",
              "2  [\\nCloth, Black\\n]  [\\n, Sedans, \\n]      [\\n4\\n]      [\\n4\\n]   \n",
              "\n",
              "       Model Code         Gearing Type    Displacement Cylinders  \\\n",
              "0  [\\n0588/BDF\\n]  [\\n, Automatic, \\n]  [\\n1,422 cc\\n]   [\\n3\\n]   \n",
              "1  [\\n0588/BCY\\n]  [\\n, Automatic, \\n]  [\\n1,798 cc\\n]   [\\n4\\n]   \n",
              "2             NaN  [\\n, Automatic, \\n]  [\\n1,598 cc\\n]       NaN   \n",
              "\n",
              "           Weight  Drive chain                                   Fuel  \\\n",
              "0  [\\n1,220 kg\\n]  [\\nfront\\n]  [\\n, Diesel (Particulate Filter), \\n]   \n",
              "1  [\\n1,255 kg\\n]  [\\nfront\\n]                     [\\n, Gasoline, \\n]   \n",
              "2             NaN  [\\nfront\\n]  [\\n, Diesel (Particulate Filter), \\n]   \n",
              "\n",
              "                                         Consumption  \\\n",
              "0  [[3.8 l/100 km (comb)], [4.3 l/100 km (city)],...   \n",
              "1  [[5.6 l/100 km (comb)], [7.1 l/100 km (city)],...   \n",
              "2  [[3.8 l/100 km (comb)], [4.4 l/100 km (city)],...   \n",
              "\n",
              "                CO2 Emission Emission Class  \\\n",
              "0   [\\n99 g CO2/km (comb)\\n]   [\\nEuro 6\\n]   \n",
              "1  [\\n129 g CO2/km (comb)\\n]   [\\nEuro 6\\n]   \n",
              "2   [\\n99 g CO2/km (comb)\\n]   [\\nEuro 6\\n]   \n",
              "\n",
              "                           \\nComfort & Convenience\\n  \\\n",
              "0  [Air conditioning, Armrest, Automatic climate ...   \n",
              "1  [Air conditioning, Automatic climate control, ...   \n",
              "2  [Air conditioning, Cruise control, Electrical ...   \n",
              "\n",
              "                           \\nEntertainment & Media\\n  \\\n",
              "0  [Bluetooth, Hands-free equipment, On-board com...   \n",
              "1  [Bluetooth, Hands-free equipment, On-board com...   \n",
              "2                           [MP3, On-board computer]   \n",
              "\n",
              "                                          \\nExtras\\n  \\\n",
              "0  [Alloy wheels, Catalytic Converter, Voice Cont...   \n",
              "1  [Alloy wheels, Sport seats, Sport suspension, ...   \n",
              "2                      [Alloy wheels, Voice Control]   \n",
              "\n",
              "                               \\nSafety & Security\\n  \\\n",
              "0  [ABS, Central door lock, Daytime running light...   \n",
              "1  [ABS, Central door lock, Central door lock wit...   \n",
              "2  [ABS, Central door lock, Daytime running light...   \n",
              "\n",
              "                                         description   Emission Label  \\\n",
              "0  [\\n, Sicherheit:,  , Deaktivierung für Beifahr...              NaN   \n",
              "1  [\\nLangstreckenfahrzeug daher die hohe Kilomet...  [\\n4 (Green)\\n]   \n",
              "2  [\\n, Fahrzeug-Nummer: AM-95365,  , Ehem. UPE 2...  [\\n4 (Green)\\n]   \n",
              "\n",
              "     Gears Country version Electricity consumption Last Service Date  \\\n",
              "0      NaN             NaN                     NaN               NaN   \n",
              "1  [\\n7\\n]             NaN                     NaN               NaN   \n",
              "2      NaN             NaN                     NaN               NaN   \n",
              "\n",
              "  Other Fuel Types Availability Last Timing Belt Service Date Available from  \n",
              "0              NaN          NaN                           NaN            NaN  \n",
              "1              NaN          NaN                           NaN            NaN  \n",
              "2              NaN          NaN                           NaN            NaN  "
            ],
            "text/html": [
              "\n",
              "  <div id=\"df-5d3e87a5-28a0-43fd-8c1a-ae7107d7e5b8\">\n",
              "    <div class=\"colab-df-container\">\n",
              "      <div>\n",
              "<style scoped>\n",
              "    .dataframe tbody tr th:only-of-type {\n",
              "        vertical-align: middle;\n",
              "    }\n",
              "\n",
              "    .dataframe tbody tr th {\n",
              "        vertical-align: top;\n",
              "    }\n",
              "\n",
              "    .dataframe thead th {\n",
              "        text-align: right;\n",
              "    }\n",
              "</style>\n",
              "<table border=\"1\" class=\"dataframe\">\n",
              "  <thead>\n",
              "    <tr style=\"text-align: right;\">\n",
              "      <th></th>\n",
              "      <th>url</th>\n",
              "      <th>make_model</th>\n",
              "      <th>short_description</th>\n",
              "      <th>body_type</th>\n",
              "      <th>price</th>\n",
              "      <th>vat</th>\n",
              "      <th>km</th>\n",
              "      <th>registration</th>\n",
              "      <th>prev_owner</th>\n",
              "      <th>kW</th>\n",
              "      <th>hp</th>\n",
              "      <th>Type</th>\n",
              "      <th>Previous Owners</th>\n",
              "      <th>Next Inspection</th>\n",
              "      <th>Inspection new</th>\n",
              "      <th>Warranty</th>\n",
              "      <th>Full Service</th>\n",
              "      <th>Non-smoking Vehicle</th>\n",
              "      <th>null</th>\n",
              "      <th>Make</th>\n",
              "      <th>Model</th>\n",
              "      <th>Offer Number</th>\n",
              "      <th>First Registration</th>\n",
              "      <th>Body Color</th>\n",
              "      <th>Paint Type</th>\n",
              "      <th>Body Color Original</th>\n",
              "      <th>Upholstery</th>\n",
              "      <th>Body</th>\n",
              "      <th>Nr. of Doors</th>\n",
              "      <th>Nr. of Seats</th>\n",
              "      <th>Model Code</th>\n",
              "      <th>Gearing Type</th>\n",
              "      <th>Displacement</th>\n",
              "      <th>Cylinders</th>\n",
              "      <th>Weight</th>\n",
              "      <th>Drive chain</th>\n",
              "      <th>Fuel</th>\n",
              "      <th>Consumption</th>\n",
              "      <th>CO2 Emission</th>\n",
              "      <th>Emission Class</th>\n",
              "      <th>\\nComfort &amp; Convenience\\n</th>\n",
              "      <th>\\nEntertainment &amp; Media\\n</th>\n",
              "      <th>\\nExtras\\n</th>\n",
              "      <th>\\nSafety &amp; Security\\n</th>\n",
              "      <th>description</th>\n",
              "      <th>Emission Label</th>\n",
              "      <th>Gears</th>\n",
              "      <th>Country version</th>\n",
              "      <th>Electricity consumption</th>\n",
              "      <th>Last Service Date</th>\n",
              "      <th>Other Fuel Types</th>\n",
              "      <th>Availability</th>\n",
              "      <th>Last Timing Belt Service Date</th>\n",
              "      <th>Available from</th>\n",
              "    </tr>\n",
              "  </thead>\n",
              "  <tbody>\n",
              "    <tr>\n",
              "      <th>0</th>\n",
              "      <td>https://www.autoscout24.com//offers/audi-a1-sp...</td>\n",
              "      <td>Audi A1</td>\n",
              "      <td>Sportback 1.4 TDI S-tronic Xenon Navi Klima</td>\n",
              "      <td>Sedans</td>\n",
              "      <td>15770</td>\n",
              "      <td>VAT deductible</td>\n",
              "      <td>56,013 km</td>\n",
              "      <td>01/2016</td>\n",
              "      <td>2 previous owners</td>\n",
              "      <td>NaN</td>\n",
              "      <td>66 kW</td>\n",
              "      <td>[, Used, , Diesel (Particulate Filter)]</td>\n",
              "      <td>\\n2\\n</td>\n",
              "      <td>[\\n06/2021\\n, \\n99 g CO2/km (comb)\\n]</td>\n",
              "      <td>[\\nYes\\n, \\nEuro 6\\n]</td>\n",
              "      <td>[\\n, \\n, \\n4 (Green)\\n]</td>\n",
              "      <td>[\\n, \\n]</td>\n",
              "      <td>[\\n, \\n]</td>\n",
              "      <td>[]</td>\n",
              "      <td>\\nAudi\\n</td>\n",
              "      <td>[\\n, A1, \\n]</td>\n",
              "      <td>[\\nLR-062483\\n]</td>\n",
              "      <td>[\\n, 2016, \\n]</td>\n",
              "      <td>[\\n, Black, \\n]</td>\n",
              "      <td>[\\nMetallic\\n]</td>\n",
              "      <td>[\\nMythosschwarz\\n]</td>\n",
              "      <td>[\\nCloth, Black\\n]</td>\n",
              "      <td>[\\n, Sedans, \\n]</td>\n",
              "      <td>[\\n5\\n]</td>\n",
              "      <td>[\\n5\\n]</td>\n",
              "      <td>[\\n0588/BDF\\n]</td>\n",
              "      <td>[\\n, Automatic, \\n]</td>\n",
              "      <td>[\\n1,422 cc\\n]</td>\n",
              "      <td>[\\n3\\n]</td>\n",
              "      <td>[\\n1,220 kg\\n]</td>\n",
              "      <td>[\\nfront\\n]</td>\n",
              "      <td>[\\n, Diesel (Particulate Filter), \\n]</td>\n",
              "      <td>[[3.8 l/100 km (comb)], [4.3 l/100 km (city)],...</td>\n",
              "      <td>[\\n99 g CO2/km (comb)\\n]</td>\n",
              "      <td>[\\nEuro 6\\n]</td>\n",
              "      <td>[Air conditioning, Armrest, Automatic climate ...</td>\n",
              "      <td>[Bluetooth, Hands-free equipment, On-board com...</td>\n",
              "      <td>[Alloy wheels, Catalytic Converter, Voice Cont...</td>\n",
              "      <td>[ABS, Central door lock, Daytime running light...</td>\n",
              "      <td>[\\n, Sicherheit:,  , Deaktivierung für Beifahr...</td>\n",
              "      <td>NaN</td>\n",
              "      <td>NaN</td>\n",
              "      <td>NaN</td>\n",
              "      <td>NaN</td>\n",
              "      <td>NaN</td>\n",
              "      <td>NaN</td>\n",
              "      <td>NaN</td>\n",
              "      <td>NaN</td>\n",
              "      <td>NaN</td>\n",
              "    </tr>\n",
              "    <tr>\n",
              "      <th>1</th>\n",
              "      <td>https://www.autoscout24.com//offers/audi-a1-1-...</td>\n",
              "      <td>Audi A1</td>\n",
              "      <td>1.8 TFSI sport</td>\n",
              "      <td>Sedans</td>\n",
              "      <td>14500</td>\n",
              "      <td>Price negotiable</td>\n",
              "      <td>80,000 km</td>\n",
              "      <td>03/2017</td>\n",
              "      <td>None</td>\n",
              "      <td>NaN</td>\n",
              "      <td>141 kW</td>\n",
              "      <td>[, Used, , Gasoline]</td>\n",
              "      <td>NaN</td>\n",
              "      <td>NaN</td>\n",
              "      <td>NaN</td>\n",
              "      <td>NaN</td>\n",
              "      <td>NaN</td>\n",
              "      <td>NaN</td>\n",
              "      <td>[]</td>\n",
              "      <td>\\nAudi\\n</td>\n",
              "      <td>[\\n, A1, \\n]</td>\n",
              "      <td>NaN</td>\n",
              "      <td>[\\n, 2017, \\n]</td>\n",
              "      <td>[\\n, Red, \\n]</td>\n",
              "      <td>NaN</td>\n",
              "      <td>NaN</td>\n",
              "      <td>[\\nCloth, Grey\\n]</td>\n",
              "      <td>[\\n, Sedans, \\n]</td>\n",
              "      <td>[\\n3\\n]</td>\n",
              "      <td>[\\n4\\n]</td>\n",
              "      <td>[\\n0588/BCY\\n]</td>\n",
              "      <td>[\\n, Automatic, \\n]</td>\n",
              "      <td>[\\n1,798 cc\\n]</td>\n",
              "      <td>[\\n4\\n]</td>\n",
              "      <td>[\\n1,255 kg\\n]</td>\n",
              "      <td>[\\nfront\\n]</td>\n",
              "      <td>[\\n, Gasoline, \\n]</td>\n",
              "      <td>[[5.6 l/100 km (comb)], [7.1 l/100 km (city)],...</td>\n",
              "      <td>[\\n129 g CO2/km (comb)\\n]</td>\n",
              "      <td>[\\nEuro 6\\n]</td>\n",
              "      <td>[Air conditioning, Automatic climate control, ...</td>\n",
              "      <td>[Bluetooth, Hands-free equipment, On-board com...</td>\n",
              "      <td>[Alloy wheels, Sport seats, Sport suspension, ...</td>\n",
              "      <td>[ABS, Central door lock, Central door lock wit...</td>\n",
              "      <td>[\\nLangstreckenfahrzeug daher die hohe Kilomet...</td>\n",
              "      <td>[\\n4 (Green)\\n]</td>\n",
              "      <td>[\\n7\\n]</td>\n",
              "      <td>NaN</td>\n",
              "      <td>NaN</td>\n",
              "      <td>NaN</td>\n",
              "      <td>NaN</td>\n",
              "      <td>NaN</td>\n",
              "      <td>NaN</td>\n",
              "      <td>NaN</td>\n",
              "    </tr>\n",
              "    <tr>\n",
              "      <th>2</th>\n",
              "      <td>https://www.autoscout24.com//offers/audi-a1-sp...</td>\n",
              "      <td>Audi A1</td>\n",
              "      <td>Sportback 1.6 TDI S tronic Einparkhilfe plus+m...</td>\n",
              "      <td>Sedans</td>\n",
              "      <td>14640</td>\n",
              "      <td>VAT deductible</td>\n",
              "      <td>83,450 km</td>\n",
              "      <td>02/2016</td>\n",
              "      <td>1 previous owner</td>\n",
              "      <td>NaN</td>\n",
              "      <td>85 kW</td>\n",
              "      <td>[, Used, , Diesel (Particulate Filter)]</td>\n",
              "      <td>\\n1\\n</td>\n",
              "      <td>NaN</td>\n",
              "      <td>NaN</td>\n",
              "      <td>[\\n, \\n, \\n99 g CO2/km (comb)\\n]</td>\n",
              "      <td>NaN</td>\n",
              "      <td>NaN</td>\n",
              "      <td>[]</td>\n",
              "      <td>\\nAudi\\n</td>\n",
              "      <td>[\\n, A1, \\n]</td>\n",
              "      <td>[\\nAM-95365\\n]</td>\n",
              "      <td>[\\n, 2016, \\n]</td>\n",
              "      <td>[\\n, Black, \\n]</td>\n",
              "      <td>[\\nMetallic\\n]</td>\n",
              "      <td>[\\nmythosschwarz metallic\\n]</td>\n",
              "      <td>[\\nCloth, Black\\n]</td>\n",
              "      <td>[\\n, Sedans, \\n]</td>\n",
              "      <td>[\\n4\\n]</td>\n",
              "      <td>[\\n4\\n]</td>\n",
              "      <td>NaN</td>\n",
              "      <td>[\\n, Automatic, \\n]</td>\n",
              "      <td>[\\n1,598 cc\\n]</td>\n",
              "      <td>NaN</td>\n",
              "      <td>NaN</td>\n",
              "      <td>[\\nfront\\n]</td>\n",
              "      <td>[\\n, Diesel (Particulate Filter), \\n]</td>\n",
              "      <td>[[3.8 l/100 km (comb)], [4.4 l/100 km (city)],...</td>\n",
              "      <td>[\\n99 g CO2/km (comb)\\n]</td>\n",
              "      <td>[\\nEuro 6\\n]</td>\n",
              "      <td>[Air conditioning, Cruise control, Electrical ...</td>\n",
              "      <td>[MP3, On-board computer]</td>\n",
              "      <td>[Alloy wheels, Voice Control]</td>\n",
              "      <td>[ABS, Central door lock, Daytime running light...</td>\n",
              "      <td>[\\n, Fahrzeug-Nummer: AM-95365,  , Ehem. UPE 2...</td>\n",
              "      <td>[\\n4 (Green)\\n]</td>\n",
              "      <td>NaN</td>\n",
              "      <td>NaN</td>\n",
              "      <td>NaN</td>\n",
              "      <td>NaN</td>\n",
              "      <td>NaN</td>\n",
              "      <td>NaN</td>\n",
              "      <td>NaN</td>\n",
              "      <td>NaN</td>\n",
              "    </tr>\n",
              "  </tbody>\n",
              "</table>\n",
              "</div>\n",
              "      <button class=\"colab-df-convert\" onclick=\"convertToInteractive('df-5d3e87a5-28a0-43fd-8c1a-ae7107d7e5b8')\"\n",
              "              title=\"Convert this dataframe to an interactive table.\"\n",
              "              style=\"display:none;\">\n",
              "        \n",
              "  <svg xmlns=\"http://www.w3.org/2000/svg\" height=\"24px\"viewBox=\"0 0 24 24\"\n",
              "       width=\"24px\">\n",
              "    <path d=\"M0 0h24v24H0V0z\" fill=\"none\"/>\n",
              "    <path d=\"M18.56 5.44l.94 2.06.94-2.06 2.06-.94-2.06-.94-.94-2.06-.94 2.06-2.06.94zm-11 1L8.5 8.5l.94-2.06 2.06-.94-2.06-.94L8.5 2.5l-.94 2.06-2.06.94zm10 10l.94 2.06.94-2.06 2.06-.94-2.06-.94-.94-2.06-.94 2.06-2.06.94z\"/><path d=\"M17.41 7.96l-1.37-1.37c-.4-.4-.92-.59-1.43-.59-.52 0-1.04.2-1.43.59L10.3 9.45l-7.72 7.72c-.78.78-.78 2.05 0 2.83L4 21.41c.39.39.9.59 1.41.59.51 0 1.02-.2 1.41-.59l7.78-7.78 2.81-2.81c.8-.78.8-2.07 0-2.86zM5.41 20L4 18.59l7.72-7.72 1.47 1.35L5.41 20z\"/>\n",
              "  </svg>\n",
              "      </button>\n",
              "      \n",
              "  <style>\n",
              "    .colab-df-container {\n",
              "      display:flex;\n",
              "      flex-wrap:wrap;\n",
              "      gap: 12px;\n",
              "    }\n",
              "\n",
              "    .colab-df-convert {\n",
              "      background-color: #E8F0FE;\n",
              "      border: none;\n",
              "      border-radius: 50%;\n",
              "      cursor: pointer;\n",
              "      display: none;\n",
              "      fill: #1967D2;\n",
              "      height: 32px;\n",
              "      padding: 0 0 0 0;\n",
              "      width: 32px;\n",
              "    }\n",
              "\n",
              "    .colab-df-convert:hover {\n",
              "      background-color: #E2EBFA;\n",
              "      box-shadow: 0px 1px 2px rgba(60, 64, 67, 0.3), 0px 1px 3px 1px rgba(60, 64, 67, 0.15);\n",
              "      fill: #174EA6;\n",
              "    }\n",
              "\n",
              "    [theme=dark] .colab-df-convert {\n",
              "      background-color: #3B4455;\n",
              "      fill: #D2E3FC;\n",
              "    }\n",
              "\n",
              "    [theme=dark] .colab-df-convert:hover {\n",
              "      background-color: #434B5C;\n",
              "      box-shadow: 0px 1px 3px 1px rgba(0, 0, 0, 0.15);\n",
              "      filter: drop-shadow(0px 1px 2px rgba(0, 0, 0, 0.3));\n",
              "      fill: #FFFFFF;\n",
              "    }\n",
              "  </style>\n",
              "\n",
              "      <script>\n",
              "        const buttonEl =\n",
              "          document.querySelector('#df-5d3e87a5-28a0-43fd-8c1a-ae7107d7e5b8 button.colab-df-convert');\n",
              "        buttonEl.style.display =\n",
              "          google.colab.kernel.accessAllowed ? 'block' : 'none';\n",
              "\n",
              "        async function convertToInteractive(key) {\n",
              "          const element = document.querySelector('#df-5d3e87a5-28a0-43fd-8c1a-ae7107d7e5b8');\n",
              "          const dataTable =\n",
              "            await google.colab.kernel.invokeFunction('convertToInteractive',\n",
              "                                                     [key], {});\n",
              "          if (!dataTable) return;\n",
              "\n",
              "          const docLinkHtml = 'Like what you see? Visit the ' +\n",
              "            '<a target=\"_blank\" href=https://colab.research.google.com/notebooks/data_table.ipynb>data table notebook</a>'\n",
              "            + ' to learn more about interactive tables.';\n",
              "          element.innerHTML = '';\n",
              "          dataTable['output_type'] = 'display_data';\n",
              "          await google.colab.output.renderOutput(dataTable, element);\n",
              "          const docLink = document.createElement('div');\n",
              "          docLink.innerHTML = docLinkHtml;\n",
              "          element.appendChild(docLink);\n",
              "        }\n",
              "      </script>\n",
              "    </div>\n",
              "  </div>\n",
              "  "
            ]
          },
          "metadata": {},
          "execution_count": 846
        }
      ]
    },
    {
      "cell_type": "code",
      "source": [
        "df.head(3).T"
      ],
      "metadata": {
        "colab": {
          "base_uri": "https://localhost:8080/",
          "height": 1000
        },
        "id": "z4IApZzSU17u",
        "outputId": "ec9bc394-4d6b-47ab-93b9-1151b9137e5c"
      },
      "execution_count": 847,
      "outputs": [
        {
          "output_type": "execute_result",
          "data": {
            "text/plain": [
              "                                                                               0  \\\n",
              "url                            https://www.autoscout24.com//offers/audi-a1-sp...   \n",
              "make_model                                                               Audi A1   \n",
              "short_description                    Sportback 1.4 TDI S-tronic Xenon Navi Klima   \n",
              "body_type                                                                 Sedans   \n",
              "price                                                                      15770   \n",
              "vat                                                               VAT deductible   \n",
              "km                                                                     56,013 km   \n",
              "registration                                                             01/2016   \n",
              "prev_owner                                                     2 previous owners   \n",
              "kW                                                                           NaN   \n",
              "hp                                                                         66 kW   \n",
              "Type                                     [, Used, , Diesel (Particulate Filter)]   \n",
              "Previous Owners                                                            \\n2\\n   \n",
              "Next Inspection                            [\\n06/2021\\n, \\n99 g CO2/km (comb)\\n]   \n",
              "Inspection new                                             [\\nYes\\n, \\nEuro 6\\n]   \n",
              "Warranty                                                 [\\n, \\n, \\n4 (Green)\\n]   \n",
              "Full Service                                                            [\\n, \\n]   \n",
              "Non-smoking Vehicle                                                     [\\n, \\n]   \n",
              "null                                                                          []   \n",
              "Make                                                                    \\nAudi\\n   \n",
              "Model                                                               [\\n, A1, \\n]   \n",
              "Offer Number                                                     [\\nLR-062483\\n]   \n",
              "First Registration                                                [\\n, 2016, \\n]   \n",
              "Body Color                                                       [\\n, Black, \\n]   \n",
              "Paint Type                                                        [\\nMetallic\\n]   \n",
              "Body Color Original                                          [\\nMythosschwarz\\n]   \n",
              "Upholstery                                                    [\\nCloth, Black\\n]   \n",
              "Body                                                            [\\n, Sedans, \\n]   \n",
              "Nr. of Doors                                                             [\\n5\\n]   \n",
              "Nr. of Seats                                                             [\\n5\\n]   \n",
              "Model Code                                                        [\\n0588/BDF\\n]   \n",
              "Gearing Type                                                 [\\n, Automatic, \\n]   \n",
              "Displacement                                                      [\\n1,422 cc\\n]   \n",
              "Cylinders                                                                [\\n3\\n]   \n",
              "Weight                                                            [\\n1,220 kg\\n]   \n",
              "Drive chain                                                          [\\nfront\\n]   \n",
              "Fuel                                       [\\n, Diesel (Particulate Filter), \\n]   \n",
              "Consumption                    [[3.8 l/100 km (comb)], [4.3 l/100 km (city)],...   \n",
              "CO2 Emission                                            [\\n99 g CO2/km (comb)\\n]   \n",
              "Emission Class                                                      [\\nEuro 6\\n]   \n",
              "\\nComfort & Convenience\\n      [Air conditioning, Armrest, Automatic climate ...   \n",
              "\\nEntertainment & Media\\n      [Bluetooth, Hands-free equipment, On-board com...   \n",
              "\\nExtras\\n                     [Alloy wheels, Catalytic Converter, Voice Cont...   \n",
              "\\nSafety & Security\\n          [ABS, Central door lock, Daytime running light...   \n",
              "description                    [\\n, Sicherheit:,  , Deaktivierung für Beifahr...   \n",
              "Emission Label                                                               NaN   \n",
              "Gears                                                                        NaN   \n",
              "Country version                                                              NaN   \n",
              "Electricity consumption                                                      NaN   \n",
              "Last Service Date                                                            NaN   \n",
              "Other Fuel Types                                                             NaN   \n",
              "Availability                                                                 NaN   \n",
              "Last Timing Belt Service Date                                                NaN   \n",
              "Available from                                                               NaN   \n",
              "\n",
              "                                                                               1  \\\n",
              "url                            https://www.autoscout24.com//offers/audi-a1-1-...   \n",
              "make_model                                                               Audi A1   \n",
              "short_description                                                 1.8 TFSI sport   \n",
              "body_type                                                                 Sedans   \n",
              "price                                                                      14500   \n",
              "vat                                                             Price negotiable   \n",
              "km                                                                     80,000 km   \n",
              "registration                                                             03/2017   \n",
              "prev_owner                                                                  None   \n",
              "kW                                                                           NaN   \n",
              "hp                                                                        141 kW   \n",
              "Type                                                        [, Used, , Gasoline]   \n",
              "Previous Owners                                                              NaN   \n",
              "Next Inspection                                                              NaN   \n",
              "Inspection new                                                               NaN   \n",
              "Warranty                                                                     NaN   \n",
              "Full Service                                                                 NaN   \n",
              "Non-smoking Vehicle                                                          NaN   \n",
              "null                                                                          []   \n",
              "Make                                                                    \\nAudi\\n   \n",
              "Model                                                               [\\n, A1, \\n]   \n",
              "Offer Number                                                                 NaN   \n",
              "First Registration                                                [\\n, 2017, \\n]   \n",
              "Body Color                                                         [\\n, Red, \\n]   \n",
              "Paint Type                                                                   NaN   \n",
              "Body Color Original                                                          NaN   \n",
              "Upholstery                                                     [\\nCloth, Grey\\n]   \n",
              "Body                                                            [\\n, Sedans, \\n]   \n",
              "Nr. of Doors                                                             [\\n3\\n]   \n",
              "Nr. of Seats                                                             [\\n4\\n]   \n",
              "Model Code                                                        [\\n0588/BCY\\n]   \n",
              "Gearing Type                                                 [\\n, Automatic, \\n]   \n",
              "Displacement                                                      [\\n1,798 cc\\n]   \n",
              "Cylinders                                                                [\\n4\\n]   \n",
              "Weight                                                            [\\n1,255 kg\\n]   \n",
              "Drive chain                                                          [\\nfront\\n]   \n",
              "Fuel                                                          [\\n, Gasoline, \\n]   \n",
              "Consumption                    [[5.6 l/100 km (comb)], [7.1 l/100 km (city)],...   \n",
              "CO2 Emission                                           [\\n129 g CO2/km (comb)\\n]   \n",
              "Emission Class                                                      [\\nEuro 6\\n]   \n",
              "\\nComfort & Convenience\\n      [Air conditioning, Automatic climate control, ...   \n",
              "\\nEntertainment & Media\\n      [Bluetooth, Hands-free equipment, On-board com...   \n",
              "\\nExtras\\n                     [Alloy wheels, Sport seats, Sport suspension, ...   \n",
              "\\nSafety & Security\\n          [ABS, Central door lock, Central door lock wit...   \n",
              "description                    [\\nLangstreckenfahrzeug daher die hohe Kilomet...   \n",
              "Emission Label                                                   [\\n4 (Green)\\n]   \n",
              "Gears                                                                    [\\n7\\n]   \n",
              "Country version                                                              NaN   \n",
              "Electricity consumption                                                      NaN   \n",
              "Last Service Date                                                            NaN   \n",
              "Other Fuel Types                                                             NaN   \n",
              "Availability                                                                 NaN   \n",
              "Last Timing Belt Service Date                                                NaN   \n",
              "Available from                                                               NaN   \n",
              "\n",
              "                                                                               2  \n",
              "url                            https://www.autoscout24.com//offers/audi-a1-sp...  \n",
              "make_model                                                               Audi A1  \n",
              "short_description              Sportback 1.6 TDI S tronic Einparkhilfe plus+m...  \n",
              "body_type                                                                 Sedans  \n",
              "price                                                                      14640  \n",
              "vat                                                               VAT deductible  \n",
              "km                                                                     83,450 km  \n",
              "registration                                                             02/2016  \n",
              "prev_owner                                                      1 previous owner  \n",
              "kW                                                                           NaN  \n",
              "hp                                                                         85 kW  \n",
              "Type                                     [, Used, , Diesel (Particulate Filter)]  \n",
              "Previous Owners                                                            \\n1\\n  \n",
              "Next Inspection                                                              NaN  \n",
              "Inspection new                                                               NaN  \n",
              "Warranty                                        [\\n, \\n, \\n99 g CO2/km (comb)\\n]  \n",
              "Full Service                                                                 NaN  \n",
              "Non-smoking Vehicle                                                          NaN  \n",
              "null                                                                          []  \n",
              "Make                                                                    \\nAudi\\n  \n",
              "Model                                                               [\\n, A1, \\n]  \n",
              "Offer Number                                                      [\\nAM-95365\\n]  \n",
              "First Registration                                                [\\n, 2016, \\n]  \n",
              "Body Color                                                       [\\n, Black, \\n]  \n",
              "Paint Type                                                        [\\nMetallic\\n]  \n",
              "Body Color Original                                 [\\nmythosschwarz metallic\\n]  \n",
              "Upholstery                                                    [\\nCloth, Black\\n]  \n",
              "Body                                                            [\\n, Sedans, \\n]  \n",
              "Nr. of Doors                                                             [\\n4\\n]  \n",
              "Nr. of Seats                                                             [\\n4\\n]  \n",
              "Model Code                                                                   NaN  \n",
              "Gearing Type                                                 [\\n, Automatic, \\n]  \n",
              "Displacement                                                      [\\n1,598 cc\\n]  \n",
              "Cylinders                                                                    NaN  \n",
              "Weight                                                                       NaN  \n",
              "Drive chain                                                          [\\nfront\\n]  \n",
              "Fuel                                       [\\n, Diesel (Particulate Filter), \\n]  \n",
              "Consumption                    [[3.8 l/100 km (comb)], [4.4 l/100 km (city)],...  \n",
              "CO2 Emission                                            [\\n99 g CO2/km (comb)\\n]  \n",
              "Emission Class                                                      [\\nEuro 6\\n]  \n",
              "\\nComfort & Convenience\\n      [Air conditioning, Cruise control, Electrical ...  \n",
              "\\nEntertainment & Media\\n                               [MP3, On-board computer]  \n",
              "\\nExtras\\n                                         [Alloy wheels, Voice Control]  \n",
              "\\nSafety & Security\\n          [ABS, Central door lock, Daytime running light...  \n",
              "description                    [\\n, Fahrzeug-Nummer: AM-95365,  , Ehem. UPE 2...  \n",
              "Emission Label                                                   [\\n4 (Green)\\n]  \n",
              "Gears                                                                        NaN  \n",
              "Country version                                                              NaN  \n",
              "Electricity consumption                                                      NaN  \n",
              "Last Service Date                                                            NaN  \n",
              "Other Fuel Types                                                             NaN  \n",
              "Availability                                                                 NaN  \n",
              "Last Timing Belt Service Date                                                NaN  \n",
              "Available from                                                               NaN  "
            ],
            "text/html": [
              "\n",
              "  <div id=\"df-e8274d1c-cc6a-4af9-9c9e-2255d46c9eb8\">\n",
              "    <div class=\"colab-df-container\">\n",
              "      <div>\n",
              "<style scoped>\n",
              "    .dataframe tbody tr th:only-of-type {\n",
              "        vertical-align: middle;\n",
              "    }\n",
              "\n",
              "    .dataframe tbody tr th {\n",
              "        vertical-align: top;\n",
              "    }\n",
              "\n",
              "    .dataframe thead th {\n",
              "        text-align: right;\n",
              "    }\n",
              "</style>\n",
              "<table border=\"1\" class=\"dataframe\">\n",
              "  <thead>\n",
              "    <tr style=\"text-align: right;\">\n",
              "      <th></th>\n",
              "      <th>0</th>\n",
              "      <th>1</th>\n",
              "      <th>2</th>\n",
              "    </tr>\n",
              "  </thead>\n",
              "  <tbody>\n",
              "    <tr>\n",
              "      <th>url</th>\n",
              "      <td>https://www.autoscout24.com//offers/audi-a1-sp...</td>\n",
              "      <td>https://www.autoscout24.com//offers/audi-a1-1-...</td>\n",
              "      <td>https://www.autoscout24.com//offers/audi-a1-sp...</td>\n",
              "    </tr>\n",
              "    <tr>\n",
              "      <th>make_model</th>\n",
              "      <td>Audi A1</td>\n",
              "      <td>Audi A1</td>\n",
              "      <td>Audi A1</td>\n",
              "    </tr>\n",
              "    <tr>\n",
              "      <th>short_description</th>\n",
              "      <td>Sportback 1.4 TDI S-tronic Xenon Navi Klima</td>\n",
              "      <td>1.8 TFSI sport</td>\n",
              "      <td>Sportback 1.6 TDI S tronic Einparkhilfe plus+m...</td>\n",
              "    </tr>\n",
              "    <tr>\n",
              "      <th>body_type</th>\n",
              "      <td>Sedans</td>\n",
              "      <td>Sedans</td>\n",
              "      <td>Sedans</td>\n",
              "    </tr>\n",
              "    <tr>\n",
              "      <th>price</th>\n",
              "      <td>15770</td>\n",
              "      <td>14500</td>\n",
              "      <td>14640</td>\n",
              "    </tr>\n",
              "    <tr>\n",
              "      <th>vat</th>\n",
              "      <td>VAT deductible</td>\n",
              "      <td>Price negotiable</td>\n",
              "      <td>VAT deductible</td>\n",
              "    </tr>\n",
              "    <tr>\n",
              "      <th>km</th>\n",
              "      <td>56,013 km</td>\n",
              "      <td>80,000 km</td>\n",
              "      <td>83,450 km</td>\n",
              "    </tr>\n",
              "    <tr>\n",
              "      <th>registration</th>\n",
              "      <td>01/2016</td>\n",
              "      <td>03/2017</td>\n",
              "      <td>02/2016</td>\n",
              "    </tr>\n",
              "    <tr>\n",
              "      <th>prev_owner</th>\n",
              "      <td>2 previous owners</td>\n",
              "      <td>None</td>\n",
              "      <td>1 previous owner</td>\n",
              "    </tr>\n",
              "    <tr>\n",
              "      <th>kW</th>\n",
              "      <td>NaN</td>\n",
              "      <td>NaN</td>\n",
              "      <td>NaN</td>\n",
              "    </tr>\n",
              "    <tr>\n",
              "      <th>hp</th>\n",
              "      <td>66 kW</td>\n",
              "      <td>141 kW</td>\n",
              "      <td>85 kW</td>\n",
              "    </tr>\n",
              "    <tr>\n",
              "      <th>Type</th>\n",
              "      <td>[, Used, , Diesel (Particulate Filter)]</td>\n",
              "      <td>[, Used, , Gasoline]</td>\n",
              "      <td>[, Used, , Diesel (Particulate Filter)]</td>\n",
              "    </tr>\n",
              "    <tr>\n",
              "      <th>Previous Owners</th>\n",
              "      <td>\\n2\\n</td>\n",
              "      <td>NaN</td>\n",
              "      <td>\\n1\\n</td>\n",
              "    </tr>\n",
              "    <tr>\n",
              "      <th>Next Inspection</th>\n",
              "      <td>[\\n06/2021\\n, \\n99 g CO2/km (comb)\\n]</td>\n",
              "      <td>NaN</td>\n",
              "      <td>NaN</td>\n",
              "    </tr>\n",
              "    <tr>\n",
              "      <th>Inspection new</th>\n",
              "      <td>[\\nYes\\n, \\nEuro 6\\n]</td>\n",
              "      <td>NaN</td>\n",
              "      <td>NaN</td>\n",
              "    </tr>\n",
              "    <tr>\n",
              "      <th>Warranty</th>\n",
              "      <td>[\\n, \\n, \\n4 (Green)\\n]</td>\n",
              "      <td>NaN</td>\n",
              "      <td>[\\n, \\n, \\n99 g CO2/km (comb)\\n]</td>\n",
              "    </tr>\n",
              "    <tr>\n",
              "      <th>Full Service</th>\n",
              "      <td>[\\n, \\n]</td>\n",
              "      <td>NaN</td>\n",
              "      <td>NaN</td>\n",
              "    </tr>\n",
              "    <tr>\n",
              "      <th>Non-smoking Vehicle</th>\n",
              "      <td>[\\n, \\n]</td>\n",
              "      <td>NaN</td>\n",
              "      <td>NaN</td>\n",
              "    </tr>\n",
              "    <tr>\n",
              "      <th>null</th>\n",
              "      <td>[]</td>\n",
              "      <td>[]</td>\n",
              "      <td>[]</td>\n",
              "    </tr>\n",
              "    <tr>\n",
              "      <th>Make</th>\n",
              "      <td>\\nAudi\\n</td>\n",
              "      <td>\\nAudi\\n</td>\n",
              "      <td>\\nAudi\\n</td>\n",
              "    </tr>\n",
              "    <tr>\n",
              "      <th>Model</th>\n",
              "      <td>[\\n, A1, \\n]</td>\n",
              "      <td>[\\n, A1, \\n]</td>\n",
              "      <td>[\\n, A1, \\n]</td>\n",
              "    </tr>\n",
              "    <tr>\n",
              "      <th>Offer Number</th>\n",
              "      <td>[\\nLR-062483\\n]</td>\n",
              "      <td>NaN</td>\n",
              "      <td>[\\nAM-95365\\n]</td>\n",
              "    </tr>\n",
              "    <tr>\n",
              "      <th>First Registration</th>\n",
              "      <td>[\\n, 2016, \\n]</td>\n",
              "      <td>[\\n, 2017, \\n]</td>\n",
              "      <td>[\\n, 2016, \\n]</td>\n",
              "    </tr>\n",
              "    <tr>\n",
              "      <th>Body Color</th>\n",
              "      <td>[\\n, Black, \\n]</td>\n",
              "      <td>[\\n, Red, \\n]</td>\n",
              "      <td>[\\n, Black, \\n]</td>\n",
              "    </tr>\n",
              "    <tr>\n",
              "      <th>Paint Type</th>\n",
              "      <td>[\\nMetallic\\n]</td>\n",
              "      <td>NaN</td>\n",
              "      <td>[\\nMetallic\\n]</td>\n",
              "    </tr>\n",
              "    <tr>\n",
              "      <th>Body Color Original</th>\n",
              "      <td>[\\nMythosschwarz\\n]</td>\n",
              "      <td>NaN</td>\n",
              "      <td>[\\nmythosschwarz metallic\\n]</td>\n",
              "    </tr>\n",
              "    <tr>\n",
              "      <th>Upholstery</th>\n",
              "      <td>[\\nCloth, Black\\n]</td>\n",
              "      <td>[\\nCloth, Grey\\n]</td>\n",
              "      <td>[\\nCloth, Black\\n]</td>\n",
              "    </tr>\n",
              "    <tr>\n",
              "      <th>Body</th>\n",
              "      <td>[\\n, Sedans, \\n]</td>\n",
              "      <td>[\\n, Sedans, \\n]</td>\n",
              "      <td>[\\n, Sedans, \\n]</td>\n",
              "    </tr>\n",
              "    <tr>\n",
              "      <th>Nr. of Doors</th>\n",
              "      <td>[\\n5\\n]</td>\n",
              "      <td>[\\n3\\n]</td>\n",
              "      <td>[\\n4\\n]</td>\n",
              "    </tr>\n",
              "    <tr>\n",
              "      <th>Nr. of Seats</th>\n",
              "      <td>[\\n5\\n]</td>\n",
              "      <td>[\\n4\\n]</td>\n",
              "      <td>[\\n4\\n]</td>\n",
              "    </tr>\n",
              "    <tr>\n",
              "      <th>Model Code</th>\n",
              "      <td>[\\n0588/BDF\\n]</td>\n",
              "      <td>[\\n0588/BCY\\n]</td>\n",
              "      <td>NaN</td>\n",
              "    </tr>\n",
              "    <tr>\n",
              "      <th>Gearing Type</th>\n",
              "      <td>[\\n, Automatic, \\n]</td>\n",
              "      <td>[\\n, Automatic, \\n]</td>\n",
              "      <td>[\\n, Automatic, \\n]</td>\n",
              "    </tr>\n",
              "    <tr>\n",
              "      <th>Displacement</th>\n",
              "      <td>[\\n1,422 cc\\n]</td>\n",
              "      <td>[\\n1,798 cc\\n]</td>\n",
              "      <td>[\\n1,598 cc\\n]</td>\n",
              "    </tr>\n",
              "    <tr>\n",
              "      <th>Cylinders</th>\n",
              "      <td>[\\n3\\n]</td>\n",
              "      <td>[\\n4\\n]</td>\n",
              "      <td>NaN</td>\n",
              "    </tr>\n",
              "    <tr>\n",
              "      <th>Weight</th>\n",
              "      <td>[\\n1,220 kg\\n]</td>\n",
              "      <td>[\\n1,255 kg\\n]</td>\n",
              "      <td>NaN</td>\n",
              "    </tr>\n",
              "    <tr>\n",
              "      <th>Drive chain</th>\n",
              "      <td>[\\nfront\\n]</td>\n",
              "      <td>[\\nfront\\n]</td>\n",
              "      <td>[\\nfront\\n]</td>\n",
              "    </tr>\n",
              "    <tr>\n",
              "      <th>Fuel</th>\n",
              "      <td>[\\n, Diesel (Particulate Filter), \\n]</td>\n",
              "      <td>[\\n, Gasoline, \\n]</td>\n",
              "      <td>[\\n, Diesel (Particulate Filter), \\n]</td>\n",
              "    </tr>\n",
              "    <tr>\n",
              "      <th>Consumption</th>\n",
              "      <td>[[3.8 l/100 km (comb)], [4.3 l/100 km (city)],...</td>\n",
              "      <td>[[5.6 l/100 km (comb)], [7.1 l/100 km (city)],...</td>\n",
              "      <td>[[3.8 l/100 km (comb)], [4.4 l/100 km (city)],...</td>\n",
              "    </tr>\n",
              "    <tr>\n",
              "      <th>CO2 Emission</th>\n",
              "      <td>[\\n99 g CO2/km (comb)\\n]</td>\n",
              "      <td>[\\n129 g CO2/km (comb)\\n]</td>\n",
              "      <td>[\\n99 g CO2/km (comb)\\n]</td>\n",
              "    </tr>\n",
              "    <tr>\n",
              "      <th>Emission Class</th>\n",
              "      <td>[\\nEuro 6\\n]</td>\n",
              "      <td>[\\nEuro 6\\n]</td>\n",
              "      <td>[\\nEuro 6\\n]</td>\n",
              "    </tr>\n",
              "    <tr>\n",
              "      <th>\\nComfort &amp; Convenience\\n</th>\n",
              "      <td>[Air conditioning, Armrest, Automatic climate ...</td>\n",
              "      <td>[Air conditioning, Automatic climate control, ...</td>\n",
              "      <td>[Air conditioning, Cruise control, Electrical ...</td>\n",
              "    </tr>\n",
              "    <tr>\n",
              "      <th>\\nEntertainment &amp; Media\\n</th>\n",
              "      <td>[Bluetooth, Hands-free equipment, On-board com...</td>\n",
              "      <td>[Bluetooth, Hands-free equipment, On-board com...</td>\n",
              "      <td>[MP3, On-board computer]</td>\n",
              "    </tr>\n",
              "    <tr>\n",
              "      <th>\\nExtras\\n</th>\n",
              "      <td>[Alloy wheels, Catalytic Converter, Voice Cont...</td>\n",
              "      <td>[Alloy wheels, Sport seats, Sport suspension, ...</td>\n",
              "      <td>[Alloy wheels, Voice Control]</td>\n",
              "    </tr>\n",
              "    <tr>\n",
              "      <th>\\nSafety &amp; Security\\n</th>\n",
              "      <td>[ABS, Central door lock, Daytime running light...</td>\n",
              "      <td>[ABS, Central door lock, Central door lock wit...</td>\n",
              "      <td>[ABS, Central door lock, Daytime running light...</td>\n",
              "    </tr>\n",
              "    <tr>\n",
              "      <th>description</th>\n",
              "      <td>[\\n, Sicherheit:,  , Deaktivierung für Beifahr...</td>\n",
              "      <td>[\\nLangstreckenfahrzeug daher die hohe Kilomet...</td>\n",
              "      <td>[\\n, Fahrzeug-Nummer: AM-95365,  , Ehem. UPE 2...</td>\n",
              "    </tr>\n",
              "    <tr>\n",
              "      <th>Emission Label</th>\n",
              "      <td>NaN</td>\n",
              "      <td>[\\n4 (Green)\\n]</td>\n",
              "      <td>[\\n4 (Green)\\n]</td>\n",
              "    </tr>\n",
              "    <tr>\n",
              "      <th>Gears</th>\n",
              "      <td>NaN</td>\n",
              "      <td>[\\n7\\n]</td>\n",
              "      <td>NaN</td>\n",
              "    </tr>\n",
              "    <tr>\n",
              "      <th>Country version</th>\n",
              "      <td>NaN</td>\n",
              "      <td>NaN</td>\n",
              "      <td>NaN</td>\n",
              "    </tr>\n",
              "    <tr>\n",
              "      <th>Electricity consumption</th>\n",
              "      <td>NaN</td>\n",
              "      <td>NaN</td>\n",
              "      <td>NaN</td>\n",
              "    </tr>\n",
              "    <tr>\n",
              "      <th>Last Service Date</th>\n",
              "      <td>NaN</td>\n",
              "      <td>NaN</td>\n",
              "      <td>NaN</td>\n",
              "    </tr>\n",
              "    <tr>\n",
              "      <th>Other Fuel Types</th>\n",
              "      <td>NaN</td>\n",
              "      <td>NaN</td>\n",
              "      <td>NaN</td>\n",
              "    </tr>\n",
              "    <tr>\n",
              "      <th>Availability</th>\n",
              "      <td>NaN</td>\n",
              "      <td>NaN</td>\n",
              "      <td>NaN</td>\n",
              "    </tr>\n",
              "    <tr>\n",
              "      <th>Last Timing Belt Service Date</th>\n",
              "      <td>NaN</td>\n",
              "      <td>NaN</td>\n",
              "      <td>NaN</td>\n",
              "    </tr>\n",
              "    <tr>\n",
              "      <th>Available from</th>\n",
              "      <td>NaN</td>\n",
              "      <td>NaN</td>\n",
              "      <td>NaN</td>\n",
              "    </tr>\n",
              "  </tbody>\n",
              "</table>\n",
              "</div>\n",
              "      <button class=\"colab-df-convert\" onclick=\"convertToInteractive('df-e8274d1c-cc6a-4af9-9c9e-2255d46c9eb8')\"\n",
              "              title=\"Convert this dataframe to an interactive table.\"\n",
              "              style=\"display:none;\">\n",
              "        \n",
              "  <svg xmlns=\"http://www.w3.org/2000/svg\" height=\"24px\"viewBox=\"0 0 24 24\"\n",
              "       width=\"24px\">\n",
              "    <path d=\"M0 0h24v24H0V0z\" fill=\"none\"/>\n",
              "    <path d=\"M18.56 5.44l.94 2.06.94-2.06 2.06-.94-2.06-.94-.94-2.06-.94 2.06-2.06.94zm-11 1L8.5 8.5l.94-2.06 2.06-.94-2.06-.94L8.5 2.5l-.94 2.06-2.06.94zm10 10l.94 2.06.94-2.06 2.06-.94-2.06-.94-.94-2.06-.94 2.06-2.06.94z\"/><path d=\"M17.41 7.96l-1.37-1.37c-.4-.4-.92-.59-1.43-.59-.52 0-1.04.2-1.43.59L10.3 9.45l-7.72 7.72c-.78.78-.78 2.05 0 2.83L4 21.41c.39.39.9.59 1.41.59.51 0 1.02-.2 1.41-.59l7.78-7.78 2.81-2.81c.8-.78.8-2.07 0-2.86zM5.41 20L4 18.59l7.72-7.72 1.47 1.35L5.41 20z\"/>\n",
              "  </svg>\n",
              "      </button>\n",
              "      \n",
              "  <style>\n",
              "    .colab-df-container {\n",
              "      display:flex;\n",
              "      flex-wrap:wrap;\n",
              "      gap: 12px;\n",
              "    }\n",
              "\n",
              "    .colab-df-convert {\n",
              "      background-color: #E8F0FE;\n",
              "      border: none;\n",
              "      border-radius: 50%;\n",
              "      cursor: pointer;\n",
              "      display: none;\n",
              "      fill: #1967D2;\n",
              "      height: 32px;\n",
              "      padding: 0 0 0 0;\n",
              "      width: 32px;\n",
              "    }\n",
              "\n",
              "    .colab-df-convert:hover {\n",
              "      background-color: #E2EBFA;\n",
              "      box-shadow: 0px 1px 2px rgba(60, 64, 67, 0.3), 0px 1px 3px 1px rgba(60, 64, 67, 0.15);\n",
              "      fill: #174EA6;\n",
              "    }\n",
              "\n",
              "    [theme=dark] .colab-df-convert {\n",
              "      background-color: #3B4455;\n",
              "      fill: #D2E3FC;\n",
              "    }\n",
              "\n",
              "    [theme=dark] .colab-df-convert:hover {\n",
              "      background-color: #434B5C;\n",
              "      box-shadow: 0px 1px 3px 1px rgba(0, 0, 0, 0.15);\n",
              "      filter: drop-shadow(0px 1px 2px rgba(0, 0, 0, 0.3));\n",
              "      fill: #FFFFFF;\n",
              "    }\n",
              "  </style>\n",
              "\n",
              "      <script>\n",
              "        const buttonEl =\n",
              "          document.querySelector('#df-e8274d1c-cc6a-4af9-9c9e-2255d46c9eb8 button.colab-df-convert');\n",
              "        buttonEl.style.display =\n",
              "          google.colab.kernel.accessAllowed ? 'block' : 'none';\n",
              "\n",
              "        async function convertToInteractive(key) {\n",
              "          const element = document.querySelector('#df-e8274d1c-cc6a-4af9-9c9e-2255d46c9eb8');\n",
              "          const dataTable =\n",
              "            await google.colab.kernel.invokeFunction('convertToInteractive',\n",
              "                                                     [key], {});\n",
              "          if (!dataTable) return;\n",
              "\n",
              "          const docLinkHtml = 'Like what you see? Visit the ' +\n",
              "            '<a target=\"_blank\" href=https://colab.research.google.com/notebooks/data_table.ipynb>data table notebook</a>'\n",
              "            + ' to learn more about interactive tables.';\n",
              "          element.innerHTML = '';\n",
              "          dataTable['output_type'] = 'display_data';\n",
              "          await google.colab.output.renderOutput(dataTable, element);\n",
              "          const docLink = document.createElement('div');\n",
              "          docLink.innerHTML = docLinkHtml;\n",
              "          element.appendChild(docLink);\n",
              "        }\n",
              "      </script>\n",
              "    </div>\n",
              "  </div>\n",
              "  "
            ]
          },
          "metadata": {},
          "execution_count": 847
        }
      ]
    },
    {
      "cell_type": "code",
      "source": [
        "df.info()"
      ],
      "metadata": {
        "colab": {
          "base_uri": "https://localhost:8080/"
        },
        "id": "7MG1XtvwQkiz",
        "outputId": "cf8ff594-5f9b-47c9-b498-0b93cb2c7b54"
      },
      "execution_count": 848,
      "outputs": [
        {
          "output_type": "stream",
          "name": "stdout",
          "text": [
            "<class 'pandas.core.frame.DataFrame'>\n",
            "RangeIndex: 15919 entries, 0 to 15918\n",
            "Data columns (total 54 columns):\n",
            " #   Column                         Non-Null Count  Dtype  \n",
            "---  ------                         --------------  -----  \n",
            " 0   url                            15919 non-null  object \n",
            " 1   make_model                     15919 non-null  object \n",
            " 2   short_description              15873 non-null  object \n",
            " 3   body_type                      15859 non-null  object \n",
            " 4   price                          15919 non-null  int64  \n",
            " 5   vat                            11406 non-null  object \n",
            " 6   km                             15919 non-null  object \n",
            " 7   registration                   15919 non-null  object \n",
            " 8   prev_owner                     9091 non-null   object \n",
            " 9   kW                             0 non-null      float64\n",
            " 10  hp                             15919 non-null  object \n",
            " 11  Type                           15917 non-null  object \n",
            " 12  Previous Owners                9279 non-null   object \n",
            " 13  Next Inspection                3535 non-null   object \n",
            " 14  Inspection new                 3932 non-null   object \n",
            " 15  Warranty                       10499 non-null  object \n",
            " 16  Full Service                   8215 non-null   object \n",
            " 17  Non-smoking Vehicle            7177 non-null   object \n",
            " 18  null                           15919 non-null  object \n",
            " 19  Make                           15919 non-null  object \n",
            " 20  Model                          15919 non-null  object \n",
            " 21  Offer Number                   12744 non-null  object \n",
            " 22  First Registration             14322 non-null  object \n",
            " 23  Body Color                     15322 non-null  object \n",
            " 24  Paint Type                     10147 non-null  object \n",
            " 25  Body Color Original            12160 non-null  object \n",
            " 26  Upholstery                     12199 non-null  object \n",
            " 27  Body                           15859 non-null  object \n",
            " 28  Nr. of Doors                   15707 non-null  object \n",
            " 29  Nr. of Seats                   14942 non-null  object \n",
            " 30  Model Code                     4978 non-null   object \n",
            " 31  Gearing Type                   15919 non-null  object \n",
            " 32  Displacement                   15423 non-null  object \n",
            " 33  Cylinders                      10239 non-null  object \n",
            " 34  Weight                         8945 non-null   object \n",
            " 35  Drive chain                    9061 non-null   object \n",
            " 36  Fuel                           15919 non-null  object \n",
            " 37  Consumption                    14013 non-null  object \n",
            " 38  CO2 Emission                   14111 non-null  object \n",
            " 39  Emission Class                 12898 non-null  object \n",
            " 40  \n",
            "Comfort & Convenience\n",
            "        14999 non-null  object \n",
            " 41  \n",
            "Entertainment & Media\n",
            "        14545 non-null  object \n",
            " 42  \n",
            "Extras\n",
            "                       12957 non-null  object \n",
            " 43  \n",
            "Safety & Security\n",
            "            14937 non-null  object \n",
            " 44  description                    15919 non-null  object \n",
            " 45  Emission Label                 3985 non-null   object \n",
            " 46  Gears                          11207 non-null  object \n",
            " 47  Country version                7586 non-null   object \n",
            " 48  Electricity consumption        137 non-null    object \n",
            " 49  Last Service Date              566 non-null    object \n",
            " 50  Other Fuel Types               880 non-null    object \n",
            " 51  Availability                   635 non-null    object \n",
            " 52  Last Timing Belt Service Date  16 non-null     object \n",
            " 53  Available from                 272 non-null    object \n",
            "dtypes: float64(1), int64(1), object(52)\n",
            "memory usage: 6.6+ MB\n"
          ]
        }
      ]
    },
    {
      "cell_type": "code",
      "source": [
        "df.columns"
      ],
      "metadata": {
        "colab": {
          "base_uri": "https://localhost:8080/"
        },
        "id": "qUSgvQ3wQkgT",
        "outputId": "d8344bd5-ada8-4caa-a146-cdfa898e6779"
      },
      "execution_count": 849,
      "outputs": [
        {
          "output_type": "execute_result",
          "data": {
            "text/plain": [
              "Index(['url', 'make_model', 'short_description', 'body_type', 'price', 'vat',\n",
              "       'km', 'registration', 'prev_owner', 'kW', 'hp', 'Type',\n",
              "       'Previous Owners', 'Next Inspection', 'Inspection new', 'Warranty',\n",
              "       'Full Service', 'Non-smoking Vehicle', 'null', 'Make', 'Model',\n",
              "       'Offer Number', 'First Registration', 'Body Color', 'Paint Type',\n",
              "       'Body Color Original', 'Upholstery', 'Body', 'Nr. of Doors',\n",
              "       'Nr. of Seats', 'Model Code', 'Gearing Type', 'Displacement',\n",
              "       'Cylinders', 'Weight', 'Drive chain', 'Fuel', 'Consumption',\n",
              "       'CO2 Emission', 'Emission Class', '\\nComfort & Convenience\\n',\n",
              "       '\\nEntertainment & Media\\n', '\\nExtras\\n', '\\nSafety & Security\\n',\n",
              "       'description', 'Emission Label', 'Gears', 'Country version',\n",
              "       'Electricity consumption', 'Last Service Date', 'Other Fuel Types',\n",
              "       'Availability', 'Last Timing Belt Service Date', 'Available from'],\n",
              "      dtype='object')"
            ]
          },
          "metadata": {},
          "execution_count": 849
        }
      ]
    },
    {
      "cell_type": "code",
      "source": [
        "#correcting column names\n",
        "df=clean_columns(df)\n",
        "df.columns"
      ],
      "metadata": {
        "colab": {
          "base_uri": "https://localhost:8080/"
        },
        "id": "BYybBWKXQkdv",
        "outputId": "4687dfe3-5259-4464-e0b2-09eb8d0921ee"
      },
      "execution_count": 850,
      "outputs": [
        {
          "output_type": "execute_result",
          "data": {
            "text/plain": [
              "Index(['url', 'make_model', 'short_description', 'body_type', 'price', 'vat',\n",
              "       'km', 'registration', 'prev_owner', 'k_w', 'hp', 'type',\n",
              "       'previous_owners', 'next_inspection', 'inspection_new', 'warranty',\n",
              "       'full_service', 'non_smoking_vehicle', 'null', 'make', 'model',\n",
              "       'offer_number', 'first_registration', 'body_color', 'paint_type',\n",
              "       'body_color_original', 'upholstery', 'body', 'nr_of_doors',\n",
              "       'nr_of_seats', 'model_code', 'gearing_type', 'displacement',\n",
              "       'cylinders', 'weight', 'drive_chain', 'fuel', 'consumption',\n",
              "       'co_2_emission', 'emission_class', 'comfort_&_convenience',\n",
              "       'entertainment_&_media', 'extras', 'safety_&_security', 'description',\n",
              "       'emission_label', 'gears', 'country_version', 'electricity_consumption',\n",
              "       'last_service_date', 'other_fuel_types', 'availability',\n",
              "       'last_timing_belt_service_date', 'available_from'],\n",
              "      dtype='object')"
            ]
          },
          "metadata": {},
          "execution_count": 850
        }
      ]
    },
    {
      "cell_type": "code",
      "source": [
        "df.columns=['URL', 'Make_Model', 'Short_Description', 'Body_Type', 'Price', 'Vat',\n",
        "       'Km', 'Registration', 'Prev_Owner', 'k_w', 'hp', 'type',\n",
        "       'Previous_Owners', 'Next_inspection', 'Inspection_new', 'Warranty',\n",
        "       'Full_Service', 'Non_Smoking_Vehicle', 'Null', 'Make', 'Model',\n",
        "       'Offer_Number', 'First_Registration', 'Body_Color', 'Paint_Type',\n",
        "       'Body_Color_Original', 'Upholstery', 'Body', 'Nr_of_Doors',\n",
        "       'Nr_of_Seats', 'Model_Code', 'Gearing_Type', 'Displacement',\n",
        "       'Cylinders', 'Weight', 'Drive_Chain', 'Fuel', 'Consumption',\n",
        "       'Co_2_Emission', 'Emission_Class', 'Comfort_&_Convenience',\n",
        "       'Entertainment_&_Media', 'Extras', 'Safety_&_Security', 'Description',\n",
        "       'Emission_Label', 'Gears', 'Country_Version', 'Electricity_Consumption',\n",
        "       'Last_Service_Date', 'Other_Fuel_Types', 'Availability',\n",
        "       'Last_Timing_Belt_Service_Date', 'Available_From']"
      ],
      "metadata": {
        "id": "qXKkYi1BWLr-"
      },
      "execution_count": 851,
      "outputs": []
    },
    {
      "cell_type": "code",
      "source": [
        "df.head(3).T"
      ],
      "metadata": {
        "colab": {
          "base_uri": "https://localhost:8080/",
          "height": 1000
        },
        "id": "s3xrc9DJQkar",
        "outputId": "ad71ca2d-01c0-43e4-aee5-02fbad6173a0"
      },
      "execution_count": 852,
      "outputs": [
        {
          "output_type": "execute_result",
          "data": {
            "text/plain": [
              "                                                                               0  \\\n",
              "URL                            https://www.autoscout24.com//offers/audi-a1-sp...   \n",
              "Make_Model                                                               Audi A1   \n",
              "Short_Description                    Sportback 1.4 TDI S-tronic Xenon Navi Klima   \n",
              "Body_Type                                                                 Sedans   \n",
              "Price                                                                      15770   \n",
              "Vat                                                               VAT deductible   \n",
              "Km                                                                     56,013 km   \n",
              "Registration                                                             01/2016   \n",
              "Prev_Owner                                                     2 previous owners   \n",
              "k_w                                                                          NaN   \n",
              "hp                                                                         66 kW   \n",
              "type                                     [, Used, , Diesel (Particulate Filter)]   \n",
              "Previous_Owners                                                            \\n2\\n   \n",
              "Next_inspection                            [\\n06/2021\\n, \\n99 g CO2/km (comb)\\n]   \n",
              "Inspection_new                                             [\\nYes\\n, \\nEuro 6\\n]   \n",
              "Warranty                                                 [\\n, \\n, \\n4 (Green)\\n]   \n",
              "Full_Service                                                            [\\n, \\n]   \n",
              "Non_Smoking_Vehicle                                                     [\\n, \\n]   \n",
              "Null                                                                          []   \n",
              "Make                                                                    \\nAudi\\n   \n",
              "Model                                                               [\\n, A1, \\n]   \n",
              "Offer_Number                                                     [\\nLR-062483\\n]   \n",
              "First_Registration                                                [\\n, 2016, \\n]   \n",
              "Body_Color                                                       [\\n, Black, \\n]   \n",
              "Paint_Type                                                        [\\nMetallic\\n]   \n",
              "Body_Color_Original                                          [\\nMythosschwarz\\n]   \n",
              "Upholstery                                                    [\\nCloth, Black\\n]   \n",
              "Body                                                            [\\n, Sedans, \\n]   \n",
              "Nr_of_Doors                                                              [\\n5\\n]   \n",
              "Nr_of_Seats                                                              [\\n5\\n]   \n",
              "Model_Code                                                        [\\n0588/BDF\\n]   \n",
              "Gearing_Type                                                 [\\n, Automatic, \\n]   \n",
              "Displacement                                                      [\\n1,422 cc\\n]   \n",
              "Cylinders                                                                [\\n3\\n]   \n",
              "Weight                                                            [\\n1,220 kg\\n]   \n",
              "Drive_Chain                                                          [\\nfront\\n]   \n",
              "Fuel                                       [\\n, Diesel (Particulate Filter), \\n]   \n",
              "Consumption                    [[3.8 l/100 km (comb)], [4.3 l/100 km (city)],...   \n",
              "Co_2_Emission                                           [\\n99 g CO2/km (comb)\\n]   \n",
              "Emission_Class                                                      [\\nEuro 6\\n]   \n",
              "Comfort_&_Convenience          [Air conditioning, Armrest, Automatic climate ...   \n",
              "Entertainment_&_Media          [Bluetooth, Hands-free equipment, On-board com...   \n",
              "Extras                         [Alloy wheels, Catalytic Converter, Voice Cont...   \n",
              "Safety_&_Security              [ABS, Central door lock, Daytime running light...   \n",
              "Description                    [\\n, Sicherheit:,  , Deaktivierung für Beifahr...   \n",
              "Emission_Label                                                               NaN   \n",
              "Gears                                                                        NaN   \n",
              "Country_Version                                                              NaN   \n",
              "Electricity_Consumption                                                      NaN   \n",
              "Last_Service_Date                                                            NaN   \n",
              "Other_Fuel_Types                                                             NaN   \n",
              "Availability                                                                 NaN   \n",
              "Last_Timing_Belt_Service_Date                                                NaN   \n",
              "Available_From                                                               NaN   \n",
              "\n",
              "                                                                               1  \\\n",
              "URL                            https://www.autoscout24.com//offers/audi-a1-1-...   \n",
              "Make_Model                                                               Audi A1   \n",
              "Short_Description                                                 1.8 TFSI sport   \n",
              "Body_Type                                                                 Sedans   \n",
              "Price                                                                      14500   \n",
              "Vat                                                             Price negotiable   \n",
              "Km                                                                     80,000 km   \n",
              "Registration                                                             03/2017   \n",
              "Prev_Owner                                                                  None   \n",
              "k_w                                                                          NaN   \n",
              "hp                                                                        141 kW   \n",
              "type                                                        [, Used, , Gasoline]   \n",
              "Previous_Owners                                                              NaN   \n",
              "Next_inspection                                                              NaN   \n",
              "Inspection_new                                                               NaN   \n",
              "Warranty                                                                     NaN   \n",
              "Full_Service                                                                 NaN   \n",
              "Non_Smoking_Vehicle                                                          NaN   \n",
              "Null                                                                          []   \n",
              "Make                                                                    \\nAudi\\n   \n",
              "Model                                                               [\\n, A1, \\n]   \n",
              "Offer_Number                                                                 NaN   \n",
              "First_Registration                                                [\\n, 2017, \\n]   \n",
              "Body_Color                                                         [\\n, Red, \\n]   \n",
              "Paint_Type                                                                   NaN   \n",
              "Body_Color_Original                                                          NaN   \n",
              "Upholstery                                                     [\\nCloth, Grey\\n]   \n",
              "Body                                                            [\\n, Sedans, \\n]   \n",
              "Nr_of_Doors                                                              [\\n3\\n]   \n",
              "Nr_of_Seats                                                              [\\n4\\n]   \n",
              "Model_Code                                                        [\\n0588/BCY\\n]   \n",
              "Gearing_Type                                                 [\\n, Automatic, \\n]   \n",
              "Displacement                                                      [\\n1,798 cc\\n]   \n",
              "Cylinders                                                                [\\n4\\n]   \n",
              "Weight                                                            [\\n1,255 kg\\n]   \n",
              "Drive_Chain                                                          [\\nfront\\n]   \n",
              "Fuel                                                          [\\n, Gasoline, \\n]   \n",
              "Consumption                    [[5.6 l/100 km (comb)], [7.1 l/100 km (city)],...   \n",
              "Co_2_Emission                                          [\\n129 g CO2/km (comb)\\n]   \n",
              "Emission_Class                                                      [\\nEuro 6\\n]   \n",
              "Comfort_&_Convenience          [Air conditioning, Automatic climate control, ...   \n",
              "Entertainment_&_Media          [Bluetooth, Hands-free equipment, On-board com...   \n",
              "Extras                         [Alloy wheels, Sport seats, Sport suspension, ...   \n",
              "Safety_&_Security              [ABS, Central door lock, Central door lock wit...   \n",
              "Description                    [\\nLangstreckenfahrzeug daher die hohe Kilomet...   \n",
              "Emission_Label                                                   [\\n4 (Green)\\n]   \n",
              "Gears                                                                    [\\n7\\n]   \n",
              "Country_Version                                                              NaN   \n",
              "Electricity_Consumption                                                      NaN   \n",
              "Last_Service_Date                                                            NaN   \n",
              "Other_Fuel_Types                                                             NaN   \n",
              "Availability                                                                 NaN   \n",
              "Last_Timing_Belt_Service_Date                                                NaN   \n",
              "Available_From                                                               NaN   \n",
              "\n",
              "                                                                               2  \n",
              "URL                            https://www.autoscout24.com//offers/audi-a1-sp...  \n",
              "Make_Model                                                               Audi A1  \n",
              "Short_Description              Sportback 1.6 TDI S tronic Einparkhilfe plus+m...  \n",
              "Body_Type                                                                 Sedans  \n",
              "Price                                                                      14640  \n",
              "Vat                                                               VAT deductible  \n",
              "Km                                                                     83,450 km  \n",
              "Registration                                                             02/2016  \n",
              "Prev_Owner                                                      1 previous owner  \n",
              "k_w                                                                          NaN  \n",
              "hp                                                                         85 kW  \n",
              "type                                     [, Used, , Diesel (Particulate Filter)]  \n",
              "Previous_Owners                                                            \\n1\\n  \n",
              "Next_inspection                                                              NaN  \n",
              "Inspection_new                                                               NaN  \n",
              "Warranty                                        [\\n, \\n, \\n99 g CO2/km (comb)\\n]  \n",
              "Full_Service                                                                 NaN  \n",
              "Non_Smoking_Vehicle                                                          NaN  \n",
              "Null                                                                          []  \n",
              "Make                                                                    \\nAudi\\n  \n",
              "Model                                                               [\\n, A1, \\n]  \n",
              "Offer_Number                                                      [\\nAM-95365\\n]  \n",
              "First_Registration                                                [\\n, 2016, \\n]  \n",
              "Body_Color                                                       [\\n, Black, \\n]  \n",
              "Paint_Type                                                        [\\nMetallic\\n]  \n",
              "Body_Color_Original                                 [\\nmythosschwarz metallic\\n]  \n",
              "Upholstery                                                    [\\nCloth, Black\\n]  \n",
              "Body                                                            [\\n, Sedans, \\n]  \n",
              "Nr_of_Doors                                                              [\\n4\\n]  \n",
              "Nr_of_Seats                                                              [\\n4\\n]  \n",
              "Model_Code                                                                   NaN  \n",
              "Gearing_Type                                                 [\\n, Automatic, \\n]  \n",
              "Displacement                                                      [\\n1,598 cc\\n]  \n",
              "Cylinders                                                                    NaN  \n",
              "Weight                                                                       NaN  \n",
              "Drive_Chain                                                          [\\nfront\\n]  \n",
              "Fuel                                       [\\n, Diesel (Particulate Filter), \\n]  \n",
              "Consumption                    [[3.8 l/100 km (comb)], [4.4 l/100 km (city)],...  \n",
              "Co_2_Emission                                           [\\n99 g CO2/km (comb)\\n]  \n",
              "Emission_Class                                                      [\\nEuro 6\\n]  \n",
              "Comfort_&_Convenience          [Air conditioning, Cruise control, Electrical ...  \n",
              "Entertainment_&_Media                                   [MP3, On-board computer]  \n",
              "Extras                                             [Alloy wheels, Voice Control]  \n",
              "Safety_&_Security              [ABS, Central door lock, Daytime running light...  \n",
              "Description                    [\\n, Fahrzeug-Nummer: AM-95365,  , Ehem. UPE 2...  \n",
              "Emission_Label                                                   [\\n4 (Green)\\n]  \n",
              "Gears                                                                        NaN  \n",
              "Country_Version                                                              NaN  \n",
              "Electricity_Consumption                                                      NaN  \n",
              "Last_Service_Date                                                            NaN  \n",
              "Other_Fuel_Types                                                             NaN  \n",
              "Availability                                                                 NaN  \n",
              "Last_Timing_Belt_Service_Date                                                NaN  \n",
              "Available_From                                                               NaN  "
            ],
            "text/html": [
              "\n",
              "  <div id=\"df-c357657b-8d8c-4155-bd25-df0cae4b906f\">\n",
              "    <div class=\"colab-df-container\">\n",
              "      <div>\n",
              "<style scoped>\n",
              "    .dataframe tbody tr th:only-of-type {\n",
              "        vertical-align: middle;\n",
              "    }\n",
              "\n",
              "    .dataframe tbody tr th {\n",
              "        vertical-align: top;\n",
              "    }\n",
              "\n",
              "    .dataframe thead th {\n",
              "        text-align: right;\n",
              "    }\n",
              "</style>\n",
              "<table border=\"1\" class=\"dataframe\">\n",
              "  <thead>\n",
              "    <tr style=\"text-align: right;\">\n",
              "      <th></th>\n",
              "      <th>0</th>\n",
              "      <th>1</th>\n",
              "      <th>2</th>\n",
              "    </tr>\n",
              "  </thead>\n",
              "  <tbody>\n",
              "    <tr>\n",
              "      <th>URL</th>\n",
              "      <td>https://www.autoscout24.com//offers/audi-a1-sp...</td>\n",
              "      <td>https://www.autoscout24.com//offers/audi-a1-1-...</td>\n",
              "      <td>https://www.autoscout24.com//offers/audi-a1-sp...</td>\n",
              "    </tr>\n",
              "    <tr>\n",
              "      <th>Make_Model</th>\n",
              "      <td>Audi A1</td>\n",
              "      <td>Audi A1</td>\n",
              "      <td>Audi A1</td>\n",
              "    </tr>\n",
              "    <tr>\n",
              "      <th>Short_Description</th>\n",
              "      <td>Sportback 1.4 TDI S-tronic Xenon Navi Klima</td>\n",
              "      <td>1.8 TFSI sport</td>\n",
              "      <td>Sportback 1.6 TDI S tronic Einparkhilfe plus+m...</td>\n",
              "    </tr>\n",
              "    <tr>\n",
              "      <th>Body_Type</th>\n",
              "      <td>Sedans</td>\n",
              "      <td>Sedans</td>\n",
              "      <td>Sedans</td>\n",
              "    </tr>\n",
              "    <tr>\n",
              "      <th>Price</th>\n",
              "      <td>15770</td>\n",
              "      <td>14500</td>\n",
              "      <td>14640</td>\n",
              "    </tr>\n",
              "    <tr>\n",
              "      <th>Vat</th>\n",
              "      <td>VAT deductible</td>\n",
              "      <td>Price negotiable</td>\n",
              "      <td>VAT deductible</td>\n",
              "    </tr>\n",
              "    <tr>\n",
              "      <th>Km</th>\n",
              "      <td>56,013 km</td>\n",
              "      <td>80,000 km</td>\n",
              "      <td>83,450 km</td>\n",
              "    </tr>\n",
              "    <tr>\n",
              "      <th>Registration</th>\n",
              "      <td>01/2016</td>\n",
              "      <td>03/2017</td>\n",
              "      <td>02/2016</td>\n",
              "    </tr>\n",
              "    <tr>\n",
              "      <th>Prev_Owner</th>\n",
              "      <td>2 previous owners</td>\n",
              "      <td>None</td>\n",
              "      <td>1 previous owner</td>\n",
              "    </tr>\n",
              "    <tr>\n",
              "      <th>k_w</th>\n",
              "      <td>NaN</td>\n",
              "      <td>NaN</td>\n",
              "      <td>NaN</td>\n",
              "    </tr>\n",
              "    <tr>\n",
              "      <th>hp</th>\n",
              "      <td>66 kW</td>\n",
              "      <td>141 kW</td>\n",
              "      <td>85 kW</td>\n",
              "    </tr>\n",
              "    <tr>\n",
              "      <th>type</th>\n",
              "      <td>[, Used, , Diesel (Particulate Filter)]</td>\n",
              "      <td>[, Used, , Gasoline]</td>\n",
              "      <td>[, Used, , Diesel (Particulate Filter)]</td>\n",
              "    </tr>\n",
              "    <tr>\n",
              "      <th>Previous_Owners</th>\n",
              "      <td>\\n2\\n</td>\n",
              "      <td>NaN</td>\n",
              "      <td>\\n1\\n</td>\n",
              "    </tr>\n",
              "    <tr>\n",
              "      <th>Next_inspection</th>\n",
              "      <td>[\\n06/2021\\n, \\n99 g CO2/km (comb)\\n]</td>\n",
              "      <td>NaN</td>\n",
              "      <td>NaN</td>\n",
              "    </tr>\n",
              "    <tr>\n",
              "      <th>Inspection_new</th>\n",
              "      <td>[\\nYes\\n, \\nEuro 6\\n]</td>\n",
              "      <td>NaN</td>\n",
              "      <td>NaN</td>\n",
              "    </tr>\n",
              "    <tr>\n",
              "      <th>Warranty</th>\n",
              "      <td>[\\n, \\n, \\n4 (Green)\\n]</td>\n",
              "      <td>NaN</td>\n",
              "      <td>[\\n, \\n, \\n99 g CO2/km (comb)\\n]</td>\n",
              "    </tr>\n",
              "    <tr>\n",
              "      <th>Full_Service</th>\n",
              "      <td>[\\n, \\n]</td>\n",
              "      <td>NaN</td>\n",
              "      <td>NaN</td>\n",
              "    </tr>\n",
              "    <tr>\n",
              "      <th>Non_Smoking_Vehicle</th>\n",
              "      <td>[\\n, \\n]</td>\n",
              "      <td>NaN</td>\n",
              "      <td>NaN</td>\n",
              "    </tr>\n",
              "    <tr>\n",
              "      <th>Null</th>\n",
              "      <td>[]</td>\n",
              "      <td>[]</td>\n",
              "      <td>[]</td>\n",
              "    </tr>\n",
              "    <tr>\n",
              "      <th>Make</th>\n",
              "      <td>\\nAudi\\n</td>\n",
              "      <td>\\nAudi\\n</td>\n",
              "      <td>\\nAudi\\n</td>\n",
              "    </tr>\n",
              "    <tr>\n",
              "      <th>Model</th>\n",
              "      <td>[\\n, A1, \\n]</td>\n",
              "      <td>[\\n, A1, \\n]</td>\n",
              "      <td>[\\n, A1, \\n]</td>\n",
              "    </tr>\n",
              "    <tr>\n",
              "      <th>Offer_Number</th>\n",
              "      <td>[\\nLR-062483\\n]</td>\n",
              "      <td>NaN</td>\n",
              "      <td>[\\nAM-95365\\n]</td>\n",
              "    </tr>\n",
              "    <tr>\n",
              "      <th>First_Registration</th>\n",
              "      <td>[\\n, 2016, \\n]</td>\n",
              "      <td>[\\n, 2017, \\n]</td>\n",
              "      <td>[\\n, 2016, \\n]</td>\n",
              "    </tr>\n",
              "    <tr>\n",
              "      <th>Body_Color</th>\n",
              "      <td>[\\n, Black, \\n]</td>\n",
              "      <td>[\\n, Red, \\n]</td>\n",
              "      <td>[\\n, Black, \\n]</td>\n",
              "    </tr>\n",
              "    <tr>\n",
              "      <th>Paint_Type</th>\n",
              "      <td>[\\nMetallic\\n]</td>\n",
              "      <td>NaN</td>\n",
              "      <td>[\\nMetallic\\n]</td>\n",
              "    </tr>\n",
              "    <tr>\n",
              "      <th>Body_Color_Original</th>\n",
              "      <td>[\\nMythosschwarz\\n]</td>\n",
              "      <td>NaN</td>\n",
              "      <td>[\\nmythosschwarz metallic\\n]</td>\n",
              "    </tr>\n",
              "    <tr>\n",
              "      <th>Upholstery</th>\n",
              "      <td>[\\nCloth, Black\\n]</td>\n",
              "      <td>[\\nCloth, Grey\\n]</td>\n",
              "      <td>[\\nCloth, Black\\n]</td>\n",
              "    </tr>\n",
              "    <tr>\n",
              "      <th>Body</th>\n",
              "      <td>[\\n, Sedans, \\n]</td>\n",
              "      <td>[\\n, Sedans, \\n]</td>\n",
              "      <td>[\\n, Sedans, \\n]</td>\n",
              "    </tr>\n",
              "    <tr>\n",
              "      <th>Nr_of_Doors</th>\n",
              "      <td>[\\n5\\n]</td>\n",
              "      <td>[\\n3\\n]</td>\n",
              "      <td>[\\n4\\n]</td>\n",
              "    </tr>\n",
              "    <tr>\n",
              "      <th>Nr_of_Seats</th>\n",
              "      <td>[\\n5\\n]</td>\n",
              "      <td>[\\n4\\n]</td>\n",
              "      <td>[\\n4\\n]</td>\n",
              "    </tr>\n",
              "    <tr>\n",
              "      <th>Model_Code</th>\n",
              "      <td>[\\n0588/BDF\\n]</td>\n",
              "      <td>[\\n0588/BCY\\n]</td>\n",
              "      <td>NaN</td>\n",
              "    </tr>\n",
              "    <tr>\n",
              "      <th>Gearing_Type</th>\n",
              "      <td>[\\n, Automatic, \\n]</td>\n",
              "      <td>[\\n, Automatic, \\n]</td>\n",
              "      <td>[\\n, Automatic, \\n]</td>\n",
              "    </tr>\n",
              "    <tr>\n",
              "      <th>Displacement</th>\n",
              "      <td>[\\n1,422 cc\\n]</td>\n",
              "      <td>[\\n1,798 cc\\n]</td>\n",
              "      <td>[\\n1,598 cc\\n]</td>\n",
              "    </tr>\n",
              "    <tr>\n",
              "      <th>Cylinders</th>\n",
              "      <td>[\\n3\\n]</td>\n",
              "      <td>[\\n4\\n]</td>\n",
              "      <td>NaN</td>\n",
              "    </tr>\n",
              "    <tr>\n",
              "      <th>Weight</th>\n",
              "      <td>[\\n1,220 kg\\n]</td>\n",
              "      <td>[\\n1,255 kg\\n]</td>\n",
              "      <td>NaN</td>\n",
              "    </tr>\n",
              "    <tr>\n",
              "      <th>Drive_Chain</th>\n",
              "      <td>[\\nfront\\n]</td>\n",
              "      <td>[\\nfront\\n]</td>\n",
              "      <td>[\\nfront\\n]</td>\n",
              "    </tr>\n",
              "    <tr>\n",
              "      <th>Fuel</th>\n",
              "      <td>[\\n, Diesel (Particulate Filter), \\n]</td>\n",
              "      <td>[\\n, Gasoline, \\n]</td>\n",
              "      <td>[\\n, Diesel (Particulate Filter), \\n]</td>\n",
              "    </tr>\n",
              "    <tr>\n",
              "      <th>Consumption</th>\n",
              "      <td>[[3.8 l/100 km (comb)], [4.3 l/100 km (city)],...</td>\n",
              "      <td>[[5.6 l/100 km (comb)], [7.1 l/100 km (city)],...</td>\n",
              "      <td>[[3.8 l/100 km (comb)], [4.4 l/100 km (city)],...</td>\n",
              "    </tr>\n",
              "    <tr>\n",
              "      <th>Co_2_Emission</th>\n",
              "      <td>[\\n99 g CO2/km (comb)\\n]</td>\n",
              "      <td>[\\n129 g CO2/km (comb)\\n]</td>\n",
              "      <td>[\\n99 g CO2/km (comb)\\n]</td>\n",
              "    </tr>\n",
              "    <tr>\n",
              "      <th>Emission_Class</th>\n",
              "      <td>[\\nEuro 6\\n]</td>\n",
              "      <td>[\\nEuro 6\\n]</td>\n",
              "      <td>[\\nEuro 6\\n]</td>\n",
              "    </tr>\n",
              "    <tr>\n",
              "      <th>Comfort_&amp;_Convenience</th>\n",
              "      <td>[Air conditioning, Armrest, Automatic climate ...</td>\n",
              "      <td>[Air conditioning, Automatic climate control, ...</td>\n",
              "      <td>[Air conditioning, Cruise control, Electrical ...</td>\n",
              "    </tr>\n",
              "    <tr>\n",
              "      <th>Entertainment_&amp;_Media</th>\n",
              "      <td>[Bluetooth, Hands-free equipment, On-board com...</td>\n",
              "      <td>[Bluetooth, Hands-free equipment, On-board com...</td>\n",
              "      <td>[MP3, On-board computer]</td>\n",
              "    </tr>\n",
              "    <tr>\n",
              "      <th>Extras</th>\n",
              "      <td>[Alloy wheels, Catalytic Converter, Voice Cont...</td>\n",
              "      <td>[Alloy wheels, Sport seats, Sport suspension, ...</td>\n",
              "      <td>[Alloy wheels, Voice Control]</td>\n",
              "    </tr>\n",
              "    <tr>\n",
              "      <th>Safety_&amp;_Security</th>\n",
              "      <td>[ABS, Central door lock, Daytime running light...</td>\n",
              "      <td>[ABS, Central door lock, Central door lock wit...</td>\n",
              "      <td>[ABS, Central door lock, Daytime running light...</td>\n",
              "    </tr>\n",
              "    <tr>\n",
              "      <th>Description</th>\n",
              "      <td>[\\n, Sicherheit:,  , Deaktivierung für Beifahr...</td>\n",
              "      <td>[\\nLangstreckenfahrzeug daher die hohe Kilomet...</td>\n",
              "      <td>[\\n, Fahrzeug-Nummer: AM-95365,  , Ehem. UPE 2...</td>\n",
              "    </tr>\n",
              "    <tr>\n",
              "      <th>Emission_Label</th>\n",
              "      <td>NaN</td>\n",
              "      <td>[\\n4 (Green)\\n]</td>\n",
              "      <td>[\\n4 (Green)\\n]</td>\n",
              "    </tr>\n",
              "    <tr>\n",
              "      <th>Gears</th>\n",
              "      <td>NaN</td>\n",
              "      <td>[\\n7\\n]</td>\n",
              "      <td>NaN</td>\n",
              "    </tr>\n",
              "    <tr>\n",
              "      <th>Country_Version</th>\n",
              "      <td>NaN</td>\n",
              "      <td>NaN</td>\n",
              "      <td>NaN</td>\n",
              "    </tr>\n",
              "    <tr>\n",
              "      <th>Electricity_Consumption</th>\n",
              "      <td>NaN</td>\n",
              "      <td>NaN</td>\n",
              "      <td>NaN</td>\n",
              "    </tr>\n",
              "    <tr>\n",
              "      <th>Last_Service_Date</th>\n",
              "      <td>NaN</td>\n",
              "      <td>NaN</td>\n",
              "      <td>NaN</td>\n",
              "    </tr>\n",
              "    <tr>\n",
              "      <th>Other_Fuel_Types</th>\n",
              "      <td>NaN</td>\n",
              "      <td>NaN</td>\n",
              "      <td>NaN</td>\n",
              "    </tr>\n",
              "    <tr>\n",
              "      <th>Availability</th>\n",
              "      <td>NaN</td>\n",
              "      <td>NaN</td>\n",
              "      <td>NaN</td>\n",
              "    </tr>\n",
              "    <tr>\n",
              "      <th>Last_Timing_Belt_Service_Date</th>\n",
              "      <td>NaN</td>\n",
              "      <td>NaN</td>\n",
              "      <td>NaN</td>\n",
              "    </tr>\n",
              "    <tr>\n",
              "      <th>Available_From</th>\n",
              "      <td>NaN</td>\n",
              "      <td>NaN</td>\n",
              "      <td>NaN</td>\n",
              "    </tr>\n",
              "  </tbody>\n",
              "</table>\n",
              "</div>\n",
              "      <button class=\"colab-df-convert\" onclick=\"convertToInteractive('df-c357657b-8d8c-4155-bd25-df0cae4b906f')\"\n",
              "              title=\"Convert this dataframe to an interactive table.\"\n",
              "              style=\"display:none;\">\n",
              "        \n",
              "  <svg xmlns=\"http://www.w3.org/2000/svg\" height=\"24px\"viewBox=\"0 0 24 24\"\n",
              "       width=\"24px\">\n",
              "    <path d=\"M0 0h24v24H0V0z\" fill=\"none\"/>\n",
              "    <path d=\"M18.56 5.44l.94 2.06.94-2.06 2.06-.94-2.06-.94-.94-2.06-.94 2.06-2.06.94zm-11 1L8.5 8.5l.94-2.06 2.06-.94-2.06-.94L8.5 2.5l-.94 2.06-2.06.94zm10 10l.94 2.06.94-2.06 2.06-.94-2.06-.94-.94-2.06-.94 2.06-2.06.94z\"/><path d=\"M17.41 7.96l-1.37-1.37c-.4-.4-.92-.59-1.43-.59-.52 0-1.04.2-1.43.59L10.3 9.45l-7.72 7.72c-.78.78-.78 2.05 0 2.83L4 21.41c.39.39.9.59 1.41.59.51 0 1.02-.2 1.41-.59l7.78-7.78 2.81-2.81c.8-.78.8-2.07 0-2.86zM5.41 20L4 18.59l7.72-7.72 1.47 1.35L5.41 20z\"/>\n",
              "  </svg>\n",
              "      </button>\n",
              "      \n",
              "  <style>\n",
              "    .colab-df-container {\n",
              "      display:flex;\n",
              "      flex-wrap:wrap;\n",
              "      gap: 12px;\n",
              "    }\n",
              "\n",
              "    .colab-df-convert {\n",
              "      background-color: #E8F0FE;\n",
              "      border: none;\n",
              "      border-radius: 50%;\n",
              "      cursor: pointer;\n",
              "      display: none;\n",
              "      fill: #1967D2;\n",
              "      height: 32px;\n",
              "      padding: 0 0 0 0;\n",
              "      width: 32px;\n",
              "    }\n",
              "\n",
              "    .colab-df-convert:hover {\n",
              "      background-color: #E2EBFA;\n",
              "      box-shadow: 0px 1px 2px rgba(60, 64, 67, 0.3), 0px 1px 3px 1px rgba(60, 64, 67, 0.15);\n",
              "      fill: #174EA6;\n",
              "    }\n",
              "\n",
              "    [theme=dark] .colab-df-convert {\n",
              "      background-color: #3B4455;\n",
              "      fill: #D2E3FC;\n",
              "    }\n",
              "\n",
              "    [theme=dark] .colab-df-convert:hover {\n",
              "      background-color: #434B5C;\n",
              "      box-shadow: 0px 1px 3px 1px rgba(0, 0, 0, 0.15);\n",
              "      filter: drop-shadow(0px 1px 2px rgba(0, 0, 0, 0.3));\n",
              "      fill: #FFFFFF;\n",
              "    }\n",
              "  </style>\n",
              "\n",
              "      <script>\n",
              "        const buttonEl =\n",
              "          document.querySelector('#df-c357657b-8d8c-4155-bd25-df0cae4b906f button.colab-df-convert');\n",
              "        buttonEl.style.display =\n",
              "          google.colab.kernel.accessAllowed ? 'block' : 'none';\n",
              "\n",
              "        async function convertToInteractive(key) {\n",
              "          const element = document.querySelector('#df-c357657b-8d8c-4155-bd25-df0cae4b906f');\n",
              "          const dataTable =\n",
              "            await google.colab.kernel.invokeFunction('convertToInteractive',\n",
              "                                                     [key], {});\n",
              "          if (!dataTable) return;\n",
              "\n",
              "          const docLinkHtml = 'Like what you see? Visit the ' +\n",
              "            '<a target=\"_blank\" href=https://colab.research.google.com/notebooks/data_table.ipynb>data table notebook</a>'\n",
              "            + ' to learn more about interactive tables.';\n",
              "          element.innerHTML = '';\n",
              "          dataTable['output_type'] = 'display_data';\n",
              "          await google.colab.output.renderOutput(dataTable, element);\n",
              "          const docLink = document.createElement('div');\n",
              "          docLink.innerHTML = docLinkHtml;\n",
              "          element.appendChild(docLink);\n",
              "        }\n",
              "      </script>\n",
              "    </div>\n",
              "  </div>\n",
              "  "
            ]
          },
          "metadata": {},
          "execution_count": 852
        }
      ]
    },
    {
      "cell_type": "code",
      "source": [
        "df.info()"
      ],
      "metadata": {
        "colab": {
          "base_uri": "https://localhost:8080/"
        },
        "id": "VJrxTDP0QkQp",
        "outputId": "0f1d7893-5415-4a97-a411-89dafe8d9b3a"
      },
      "execution_count": 853,
      "outputs": [
        {
          "output_type": "stream",
          "name": "stdout",
          "text": [
            "<class 'pandas.core.frame.DataFrame'>\n",
            "RangeIndex: 15919 entries, 0 to 15918\n",
            "Data columns (total 54 columns):\n",
            " #   Column                         Non-Null Count  Dtype  \n",
            "---  ------                         --------------  -----  \n",
            " 0   URL                            15919 non-null  object \n",
            " 1   Make_Model                     15919 non-null  object \n",
            " 2   Short_Description              15873 non-null  object \n",
            " 3   Body_Type                      15859 non-null  object \n",
            " 4   Price                          15919 non-null  int64  \n",
            " 5   Vat                            11406 non-null  object \n",
            " 6   Km                             15919 non-null  object \n",
            " 7   Registration                   15919 non-null  object \n",
            " 8   Prev_Owner                     9091 non-null   object \n",
            " 9   k_w                            0 non-null      float64\n",
            " 10  hp                             15919 non-null  object \n",
            " 11  type                           15917 non-null  object \n",
            " 12  Previous_Owners                9279 non-null   object \n",
            " 13  Next_inspection                3535 non-null   object \n",
            " 14  Inspection_new                 3932 non-null   object \n",
            " 15  Warranty                       10499 non-null  object \n",
            " 16  Full_Service                   8215 non-null   object \n",
            " 17  Non_Smoking_Vehicle            7177 non-null   object \n",
            " 18  Null                           15919 non-null  object \n",
            " 19  Make                           15919 non-null  object \n",
            " 20  Model                          15919 non-null  object \n",
            " 21  Offer_Number                   12744 non-null  object \n",
            " 22  First_Registration             14322 non-null  object \n",
            " 23  Body_Color                     15322 non-null  object \n",
            " 24  Paint_Type                     10147 non-null  object \n",
            " 25  Body_Color_Original            12160 non-null  object \n",
            " 26  Upholstery                     12199 non-null  object \n",
            " 27  Body                           15859 non-null  object \n",
            " 28  Nr_of_Doors                    15707 non-null  object \n",
            " 29  Nr_of_Seats                    14942 non-null  object \n",
            " 30  Model_Code                     4978 non-null   object \n",
            " 31  Gearing_Type                   15919 non-null  object \n",
            " 32  Displacement                   15423 non-null  object \n",
            " 33  Cylinders                      10239 non-null  object \n",
            " 34  Weight                         8945 non-null   object \n",
            " 35  Drive_Chain                    9061 non-null   object \n",
            " 36  Fuel                           15919 non-null  object \n",
            " 37  Consumption                    14013 non-null  object \n",
            " 38  Co_2_Emission                  14111 non-null  object \n",
            " 39  Emission_Class                 12898 non-null  object \n",
            " 40  Comfort_&_Convenience          14999 non-null  object \n",
            " 41  Entertainment_&_Media          14545 non-null  object \n",
            " 42  Extras                         12957 non-null  object \n",
            " 43  Safety_&_Security              14937 non-null  object \n",
            " 44  Description                    15919 non-null  object \n",
            " 45  Emission_Label                 3985 non-null   object \n",
            " 46  Gears                          11207 non-null  object \n",
            " 47  Country_Version                7586 non-null   object \n",
            " 48  Electricity_Consumption        137 non-null    object \n",
            " 49  Last_Service_Date              566 non-null    object \n",
            " 50  Other_Fuel_Types               880 non-null    object \n",
            " 51  Availability                   635 non-null    object \n",
            " 52  Last_Timing_Belt_Service_Date  16 non-null     object \n",
            " 53  Available_From                 272 non-null    object \n",
            "dtypes: float64(1), int64(1), object(52)\n",
            "memory usage: 6.6+ MB\n"
          ]
        }
      ]
    },
    {
      "cell_type": "code",
      "execution_count": 854,
      "metadata": {
        "id": "Y13_gId7s1MC",
        "colab": {
          "base_uri": "https://localhost:8080/"
        },
        "outputId": "1683a67c-7bea-4939-b297-9c7697787a00"
      },
      "outputs": [
        {
          "output_type": "execute_result",
          "data": {
            "text/plain": [
              "(15919, 54)"
            ]
          },
          "metadata": {},
          "execution_count": 854
        }
      ],
      "source": [
        "df.shape"
      ]
    },
    {
      "cell_type": "code",
      "source": [
        "df.isnull().sum()"
      ],
      "metadata": {
        "colab": {
          "base_uri": "https://localhost:8080/"
        },
        "id": "32M8_zsZXo8j",
        "outputId": "e5210345-3ca2-4b45-9d1b-56370904c6ee"
      },
      "execution_count": 855,
      "outputs": [
        {
          "output_type": "execute_result",
          "data": {
            "text/plain": [
              "URL                                  0\n",
              "Make_Model                           0\n",
              "Short_Description                   46\n",
              "Body_Type                           60\n",
              "Price                                0\n",
              "Vat                               4513\n",
              "Km                                   0\n",
              "Registration                         0\n",
              "Prev_Owner                        6828\n",
              "k_w                              15919\n",
              "hp                                   0\n",
              "type                                 2\n",
              "Previous_Owners                   6640\n",
              "Next_inspection                  12384\n",
              "Inspection_new                   11987\n",
              "Warranty                          5420\n",
              "Full_Service                      7704\n",
              "Non_Smoking_Vehicle               8742\n",
              "Null                                 0\n",
              "Make                                 0\n",
              "Model                                0\n",
              "Offer_Number                      3175\n",
              "First_Registration                1597\n",
              "Body_Color                         597\n",
              "Paint_Type                        5772\n",
              "Body_Color_Original               3759\n",
              "Upholstery                        3720\n",
              "Body                                60\n",
              "Nr_of_Doors                        212\n",
              "Nr_of_Seats                        977\n",
              "Model_Code                       10941\n",
              "Gearing_Type                         0\n",
              "Displacement                       496\n",
              "Cylinders                         5680\n",
              "Weight                            6974\n",
              "Drive_Chain                       6858\n",
              "Fuel                                 0\n",
              "Consumption                       1906\n",
              "Co_2_Emission                     1808\n",
              "Emission_Class                    3021\n",
              "Comfort_&_Convenience              920\n",
              "Entertainment_&_Media             1374\n",
              "Extras                            2962\n",
              "Safety_&_Security                  982\n",
              "Description                          0\n",
              "Emission_Label                   11934\n",
              "Gears                             4712\n",
              "Country_Version                   8333\n",
              "Electricity_Consumption          15782\n",
              "Last_Service_Date                15353\n",
              "Other_Fuel_Types                 15039\n",
              "Availability                     15284\n",
              "Last_Timing_Belt_Service_Date    15903\n",
              "Available_From                   15647\n",
              "dtype: int64"
            ]
          },
          "metadata": {},
          "execution_count": 855
        }
      ]
    },
    {
      "cell_type": "code",
      "source": [
        "df.shape\n",
        "df.shape[0]"
      ],
      "metadata": {
        "colab": {
          "base_uri": "https://localhost:8080/"
        },
        "id": "XiOPN7BRarWC",
        "outputId": "a55fbe32-f09b-4850-c3c9-90630f8a166f"
      },
      "execution_count": 856,
      "outputs": [
        {
          "output_type": "execute_result",
          "data": {
            "text/plain": [
              "15919"
            ]
          },
          "metadata": {},
          "execution_count": 856
        }
      ]
    },
    {
      "cell_type": "code",
      "source": [
        "df.isnull().sum()*100/df.shape[0]\n",
        "#find the percentage of null values"
      ],
      "metadata": {
        "colab": {
          "base_uri": "https://localhost:8080/"
        },
        "id": "Y50StGm0Xo6V",
        "outputId": "4520bdb5-8809-4d45-9139-1d8129cb5a57"
      },
      "execution_count": 857,
      "outputs": [
        {
          "output_type": "execute_result",
          "data": {
            "text/plain": [
              "URL                               0.00\n",
              "Make_Model                        0.00\n",
              "Short_Description                 0.29\n",
              "Body_Type                         0.38\n",
              "Price                             0.00\n",
              "Vat                              28.35\n",
              "Km                                0.00\n",
              "Registration                      0.00\n",
              "Prev_Owner                       42.89\n",
              "k_w                             100.00\n",
              "hp                                0.00\n",
              "type                              0.01\n",
              "Previous_Owners                  41.71\n",
              "Next_inspection                  77.79\n",
              "Inspection_new                   75.30\n",
              "Warranty                         34.05\n",
              "Full_Service                     48.39\n",
              "Non_Smoking_Vehicle              54.92\n",
              "Null                              0.00\n",
              "Make                              0.00\n",
              "Model                             0.00\n",
              "Offer_Number                     19.94\n",
              "First_Registration               10.03\n",
              "Body_Color                        3.75\n",
              "Paint_Type                       36.26\n",
              "Body_Color_Original              23.61\n",
              "Upholstery                       23.37\n",
              "Body                              0.38\n",
              "Nr_of_Doors                       1.33\n",
              "Nr_of_Seats                       6.14\n",
              "Model_Code                       68.73\n",
              "Gearing_Type                      0.00\n",
              "Displacement                      3.12\n",
              "Cylinders                        35.68\n",
              "Weight                           43.81\n",
              "Drive_Chain                      43.08\n",
              "Fuel                              0.00\n",
              "Consumption                      11.97\n",
              "Co_2_Emission                    11.36\n",
              "Emission_Class                   18.98\n",
              "Comfort_&_Convenience             5.78\n",
              "Entertainment_&_Media             8.63\n",
              "Extras                           18.61\n",
              "Safety_&_Security                 6.17\n",
              "Description                       0.00\n",
              "Emission_Label                   74.97\n",
              "Gears                            29.60\n",
              "Country_Version                  52.35\n",
              "Electricity_Consumption          99.14\n",
              "Last_Service_Date                96.44\n",
              "Other_Fuel_Types                 94.47\n",
              "Availability                     96.01\n",
              "Last_Timing_Belt_Service_Date    99.90\n",
              "Available_From                   98.29\n",
              "dtype: float64"
            ]
          },
          "metadata": {},
          "execution_count": 857
        }
      ]
    },
    {
      "cell_type": "code",
      "source": [
        "missing_values = df.isnull().sum()*100 / df.shape[0]\n",
        "missing_values"
      ],
      "metadata": {
        "colab": {
          "base_uri": "https://localhost:8080/"
        },
        "id": "zrKR37t_bKO9",
        "outputId": "380a2b56-ee0b-458c-c1f8-36538220f348"
      },
      "execution_count": 858,
      "outputs": [
        {
          "output_type": "execute_result",
          "data": {
            "text/plain": [
              "URL                               0.00\n",
              "Make_Model                        0.00\n",
              "Short_Description                 0.29\n",
              "Body_Type                         0.38\n",
              "Price                             0.00\n",
              "Vat                              28.35\n",
              "Km                                0.00\n",
              "Registration                      0.00\n",
              "Prev_Owner                       42.89\n",
              "k_w                             100.00\n",
              "hp                                0.00\n",
              "type                              0.01\n",
              "Previous_Owners                  41.71\n",
              "Next_inspection                  77.79\n",
              "Inspection_new                   75.30\n",
              "Warranty                         34.05\n",
              "Full_Service                     48.39\n",
              "Non_Smoking_Vehicle              54.92\n",
              "Null                              0.00\n",
              "Make                              0.00\n",
              "Model                             0.00\n",
              "Offer_Number                     19.94\n",
              "First_Registration               10.03\n",
              "Body_Color                        3.75\n",
              "Paint_Type                       36.26\n",
              "Body_Color_Original              23.61\n",
              "Upholstery                       23.37\n",
              "Body                              0.38\n",
              "Nr_of_Doors                       1.33\n",
              "Nr_of_Seats                       6.14\n",
              "Model_Code                       68.73\n",
              "Gearing_Type                      0.00\n",
              "Displacement                      3.12\n",
              "Cylinders                        35.68\n",
              "Weight                           43.81\n",
              "Drive_Chain                      43.08\n",
              "Fuel                              0.00\n",
              "Consumption                      11.97\n",
              "Co_2_Emission                    11.36\n",
              "Emission_Class                   18.98\n",
              "Comfort_&_Convenience             5.78\n",
              "Entertainment_&_Media             8.63\n",
              "Extras                           18.61\n",
              "Safety_&_Security                 6.17\n",
              "Description                       0.00\n",
              "Emission_Label                   74.97\n",
              "Gears                            29.60\n",
              "Country_Version                  52.35\n",
              "Electricity_Consumption          99.14\n",
              "Last_Service_Date                96.44\n",
              "Other_Fuel_Types                 94.47\n",
              "Availability                     96.01\n",
              "Last_Timing_Belt_Service_Date    99.90\n",
              "Available_From                   98.29\n",
              "dtype: float64"
            ]
          },
          "metadata": {},
          "execution_count": 858
        }
      ]
    },
    {
      "cell_type": "code",
      "source": [
        "def df_nans(df, limit):\n",
        "    missing_values = df.isnull().sum()*100 / df.shape[0]\n",
        "    return missing_values.loc[lambda x : x >= limit]"
      ],
      "metadata": {
        "id": "xitvBHk3Xo0W"
      },
      "execution_count": 859,
      "outputs": []
    },
    {
      "cell_type": "code",
      "source": [
        "df_nans(df,90)"
      ],
      "metadata": {
        "colab": {
          "base_uri": "https://localhost:8080/"
        },
        "id": "21pft9iYXox3",
        "outputId": "5f7430e1-11c0-4af2-da4d-4140a585ae32"
      },
      "execution_count": 860,
      "outputs": [
        {
          "output_type": "execute_result",
          "data": {
            "text/plain": [
              "k_w                             100.00\n",
              "Electricity_Consumption          99.14\n",
              "Last_Service_Date                96.44\n",
              "Other_Fuel_Types                 94.47\n",
              "Availability                     96.01\n",
              "Last_Timing_Belt_Service_Date    99.90\n",
              "Available_From                   98.29\n",
              "dtype: float64"
            ]
          },
          "metadata": {},
          "execution_count": 860
        }
      ]
    },
    {
      "cell_type": "code",
      "source": [
        "df_nans(df,70)"
      ],
      "metadata": {
        "colab": {
          "base_uri": "https://localhost:8080/"
        },
        "id": "yxC7K6ULXovc",
        "outputId": "34909c9f-7a47-4aa9-c3fe-54275d0f3c12"
      },
      "execution_count": 861,
      "outputs": [
        {
          "output_type": "execute_result",
          "data": {
            "text/plain": [
              "k_w                             100.00\n",
              "Next_inspection                  77.79\n",
              "Inspection_new                   75.30\n",
              "Emission_Label                   74.97\n",
              "Electricity_Consumption          99.14\n",
              "Last_Service_Date                96.44\n",
              "Other_Fuel_Types                 94.47\n",
              "Availability                     96.01\n",
              "Last_Timing_Belt_Service_Date    99.90\n",
              "Available_From                   98.29\n",
              "dtype: float64"
            ]
          },
          "metadata": {},
          "execution_count": 861
        }
      ]
    },
    {
      "cell_type": "code",
      "source": [
        "df[\"Emission_Label\"]"
      ],
      "metadata": {
        "colab": {
          "base_uri": "https://localhost:8080/"
        },
        "id": "OrtSi0bjXosn",
        "outputId": "5af1f04a-b3e4-4237-cfc1-26f85ef2dd87"
      },
      "execution_count": 862,
      "outputs": [
        {
          "output_type": "execute_result",
          "data": {
            "text/plain": [
              "0                    NaN\n",
              "1        [\\n4 (Green)\\n]\n",
              "2        [\\n4 (Green)\\n]\n",
              "3                    NaN\n",
              "4                    NaN\n",
              "              ...       \n",
              "15914                NaN\n",
              "15915                NaN\n",
              "15916                NaN\n",
              "15917                NaN\n",
              "15918    [\\n4 (Green)\\n]\n",
              "Name: Emission_Label, Length: 15919, dtype: object"
            ]
          },
          "metadata": {},
          "execution_count": 862
        }
      ]
    },
    {
      "cell_type": "code",
      "source": [
        "df[\"Emission_Label\"].isnull().sum()*100/df[\"Emission_Label\"].shape[0]\n",
        "df[\"Emission_Label\"].isnull().sum()*100/df.shape[0]\n",
        "#df[\"Emission_Label\"].shape\n",
        "#df.shape[0]"
      ],
      "metadata": {
        "colab": {
          "base_uri": "https://localhost:8080/"
        },
        "id": "UQV5EA-DgSNx",
        "outputId": "b82a8100-4ad1-4e90-83ef-5b60f2025464"
      },
      "execution_count": 863,
      "outputs": [
        {
          "output_type": "execute_result",
          "data": {
            "text/plain": [
              "74.9670205414913"
            ]
          },
          "metadata": {},
          "execution_count": 863
        }
      ]
    },
    {
      "cell_type": "code",
      "source": [
        "def column_nan(column_name):\n",
        "  return column_name.isnull().sum()*100/column_name.shape[0]"
      ],
      "metadata": {
        "id": "mg9k7Q4pXoqL"
      },
      "execution_count": 864,
      "outputs": []
    },
    {
      "cell_type": "code",
      "source": [
        "column_nan(df[\"Emission_Label\"])"
      ],
      "metadata": {
        "colab": {
          "base_uri": "https://localhost:8080/"
        },
        "id": "H0DN6tsGXonp",
        "outputId": "bbfac041-f5a6-494f-93fc-214fcf968e9e"
      },
      "execution_count": 865,
      "outputs": [
        {
          "output_type": "execute_result",
          "data": {
            "text/plain": [
              "74.9670205414913"
            ]
          },
          "metadata": {},
          "execution_count": 865
        }
      ]
    },
    {
      "cell_type": "code",
      "source": [
        "df_nans(df,90)\n",
        "df_nans(df,90).index"
      ],
      "metadata": {
        "colab": {
          "base_uri": "https://localhost:8080/"
        },
        "id": "M-JTLZbGXok8",
        "outputId": "8aa687ee-c6d6-4e7a-fee7-d72cdd2ca539"
      },
      "execution_count": 866,
      "outputs": [
        {
          "output_type": "execute_result",
          "data": {
            "text/plain": [
              "Index(['k_w', 'Electricity_Consumption', 'Last_Service_Date',\n",
              "       'Other_Fuel_Types', 'Availability', 'Last_Timing_Belt_Service_Date',\n",
              "       'Available_From'],\n",
              "      dtype='object')"
            ]
          },
          "metadata": {},
          "execution_count": 866
        }
      ]
    },
    {
      "cell_type": "markdown",
      "source": [
        "Let's Drop the Columns contain 90% missing values."
      ],
      "metadata": {
        "id": "2VaQVgwmiHQp"
      }
    },
    {
      "cell_type": "code",
      "source": [
        "dropping_columns=df_nans(df,90).index\n",
        "dropping_columns"
      ],
      "metadata": {
        "colab": {
          "base_uri": "https://localhost:8080/"
        },
        "id": "rBCGlwtPXoib",
        "outputId": "7275264a-163e-444c-daa7-59a1fa1f28c0"
      },
      "execution_count": 867,
      "outputs": [
        {
          "output_type": "execute_result",
          "data": {
            "text/plain": [
              "Index(['k_w', 'Electricity_Consumption', 'Last_Service_Date',\n",
              "       'Other_Fuel_Types', 'Availability', 'Last_Timing_Belt_Service_Date',\n",
              "       'Available_From'],\n",
              "      dtype='object')"
            ]
          },
          "metadata": {},
          "execution_count": 867
        }
      ]
    },
    {
      "cell_type": "code",
      "source": [
        "df.drop(dropping_columns,axis=1, inplace=True)\n"
      ],
      "metadata": {
        "id": "ra1pDAOvXofw"
      },
      "execution_count": 868,
      "outputs": []
    },
    {
      "cell_type": "code",
      "source": [
        "df.info()"
      ],
      "metadata": {
        "colab": {
          "base_uri": "https://localhost:8080/"
        },
        "id": "1PZwrjZzhdQs",
        "outputId": "95474427-7888-4381-80ff-98fe562e13d2"
      },
      "execution_count": 869,
      "outputs": [
        {
          "output_type": "stream",
          "name": "stdout",
          "text": [
            "<class 'pandas.core.frame.DataFrame'>\n",
            "RangeIndex: 15919 entries, 0 to 15918\n",
            "Data columns (total 47 columns):\n",
            " #   Column                 Non-Null Count  Dtype \n",
            "---  ------                 --------------  ----- \n",
            " 0   URL                    15919 non-null  object\n",
            " 1   Make_Model             15919 non-null  object\n",
            " 2   Short_Description      15873 non-null  object\n",
            " 3   Body_Type              15859 non-null  object\n",
            " 4   Price                  15919 non-null  int64 \n",
            " 5   Vat                    11406 non-null  object\n",
            " 6   Km                     15919 non-null  object\n",
            " 7   Registration           15919 non-null  object\n",
            " 8   Prev_Owner             9091 non-null   object\n",
            " 9   hp                     15919 non-null  object\n",
            " 10  type                   15917 non-null  object\n",
            " 11  Previous_Owners        9279 non-null   object\n",
            " 12  Next_inspection        3535 non-null   object\n",
            " 13  Inspection_new         3932 non-null   object\n",
            " 14  Warranty               10499 non-null  object\n",
            " 15  Full_Service           8215 non-null   object\n",
            " 16  Non_Smoking_Vehicle    7177 non-null   object\n",
            " 17  Null                   15919 non-null  object\n",
            " 18  Make                   15919 non-null  object\n",
            " 19  Model                  15919 non-null  object\n",
            " 20  Offer_Number           12744 non-null  object\n",
            " 21  First_Registration     14322 non-null  object\n",
            " 22  Body_Color             15322 non-null  object\n",
            " 23  Paint_Type             10147 non-null  object\n",
            " 24  Body_Color_Original    12160 non-null  object\n",
            " 25  Upholstery             12199 non-null  object\n",
            " 26  Body                   15859 non-null  object\n",
            " 27  Nr_of_Doors            15707 non-null  object\n",
            " 28  Nr_of_Seats            14942 non-null  object\n",
            " 29  Model_Code             4978 non-null   object\n",
            " 30  Gearing_Type           15919 non-null  object\n",
            " 31  Displacement           15423 non-null  object\n",
            " 32  Cylinders              10239 non-null  object\n",
            " 33  Weight                 8945 non-null   object\n",
            " 34  Drive_Chain            9061 non-null   object\n",
            " 35  Fuel                   15919 non-null  object\n",
            " 36  Consumption            14013 non-null  object\n",
            " 37  Co_2_Emission          14111 non-null  object\n",
            " 38  Emission_Class         12898 non-null  object\n",
            " 39  Comfort_&_Convenience  14999 non-null  object\n",
            " 40  Entertainment_&_Media  14545 non-null  object\n",
            " 41  Extras                 12957 non-null  object\n",
            " 42  Safety_&_Security      14937 non-null  object\n",
            " 43  Description            15919 non-null  object\n",
            " 44  Emission_Label         3985 non-null   object\n",
            " 45  Gears                  11207 non-null  object\n",
            " 46  Country_Version        7586 non-null   object\n",
            "dtypes: int64(1), object(46)\n",
            "memory usage: 5.7+ MB\n"
          ]
        }
      ]
    },
    {
      "cell_type": "code",
      "source": [
        "df.head(3).T"
      ],
      "metadata": {
        "colab": {
          "base_uri": "https://localhost:8080/",
          "height": 1000
        },
        "id": "b0z3QuUPhdOW",
        "outputId": "618b8759-99b4-4b39-b470-f1c41e6a813a"
      },
      "execution_count": 870,
      "outputs": [
        {
          "output_type": "execute_result",
          "data": {
            "text/plain": [
              "                                                                       0  \\\n",
              "URL                    https://www.autoscout24.com//offers/audi-a1-sp...   \n",
              "Make_Model                                                       Audi A1   \n",
              "Short_Description            Sportback 1.4 TDI S-tronic Xenon Navi Klima   \n",
              "Body_Type                                                         Sedans   \n",
              "Price                                                              15770   \n",
              "Vat                                                       VAT deductible   \n",
              "Km                                                             56,013 km   \n",
              "Registration                                                     01/2016   \n",
              "Prev_Owner                                             2 previous owners   \n",
              "hp                                                                 66 kW   \n",
              "type                             [, Used, , Diesel (Particulate Filter)]   \n",
              "Previous_Owners                                                    \\n2\\n   \n",
              "Next_inspection                    [\\n06/2021\\n, \\n99 g CO2/km (comb)\\n]   \n",
              "Inspection_new                                     [\\nYes\\n, \\nEuro 6\\n]   \n",
              "Warranty                                         [\\n, \\n, \\n4 (Green)\\n]   \n",
              "Full_Service                                                    [\\n, \\n]   \n",
              "Non_Smoking_Vehicle                                             [\\n, \\n]   \n",
              "Null                                                                  []   \n",
              "Make                                                            \\nAudi\\n   \n",
              "Model                                                       [\\n, A1, \\n]   \n",
              "Offer_Number                                             [\\nLR-062483\\n]   \n",
              "First_Registration                                        [\\n, 2016, \\n]   \n",
              "Body_Color                                               [\\n, Black, \\n]   \n",
              "Paint_Type                                                [\\nMetallic\\n]   \n",
              "Body_Color_Original                                  [\\nMythosschwarz\\n]   \n",
              "Upholstery                                            [\\nCloth, Black\\n]   \n",
              "Body                                                    [\\n, Sedans, \\n]   \n",
              "Nr_of_Doors                                                      [\\n5\\n]   \n",
              "Nr_of_Seats                                                      [\\n5\\n]   \n",
              "Model_Code                                                [\\n0588/BDF\\n]   \n",
              "Gearing_Type                                         [\\n, Automatic, \\n]   \n",
              "Displacement                                              [\\n1,422 cc\\n]   \n",
              "Cylinders                                                        [\\n3\\n]   \n",
              "Weight                                                    [\\n1,220 kg\\n]   \n",
              "Drive_Chain                                                  [\\nfront\\n]   \n",
              "Fuel                               [\\n, Diesel (Particulate Filter), \\n]   \n",
              "Consumption            [[3.8 l/100 km (comb)], [4.3 l/100 km (city)],...   \n",
              "Co_2_Emission                                   [\\n99 g CO2/km (comb)\\n]   \n",
              "Emission_Class                                              [\\nEuro 6\\n]   \n",
              "Comfort_&_Convenience  [Air conditioning, Armrest, Automatic climate ...   \n",
              "Entertainment_&_Media  [Bluetooth, Hands-free equipment, On-board com...   \n",
              "Extras                 [Alloy wheels, Catalytic Converter, Voice Cont...   \n",
              "Safety_&_Security      [ABS, Central door lock, Daytime running light...   \n",
              "Description            [\\n, Sicherheit:,  , Deaktivierung für Beifahr...   \n",
              "Emission_Label                                                       NaN   \n",
              "Gears                                                                NaN   \n",
              "Country_Version                                                      NaN   \n",
              "\n",
              "                                                                       1  \\\n",
              "URL                    https://www.autoscout24.com//offers/audi-a1-1-...   \n",
              "Make_Model                                                       Audi A1   \n",
              "Short_Description                                         1.8 TFSI sport   \n",
              "Body_Type                                                         Sedans   \n",
              "Price                                                              14500   \n",
              "Vat                                                     Price negotiable   \n",
              "Km                                                             80,000 km   \n",
              "Registration                                                     03/2017   \n",
              "Prev_Owner                                                          None   \n",
              "hp                                                                141 kW   \n",
              "type                                                [, Used, , Gasoline]   \n",
              "Previous_Owners                                                      NaN   \n",
              "Next_inspection                                                      NaN   \n",
              "Inspection_new                                                       NaN   \n",
              "Warranty                                                             NaN   \n",
              "Full_Service                                                         NaN   \n",
              "Non_Smoking_Vehicle                                                  NaN   \n",
              "Null                                                                  []   \n",
              "Make                                                            \\nAudi\\n   \n",
              "Model                                                       [\\n, A1, \\n]   \n",
              "Offer_Number                                                         NaN   \n",
              "First_Registration                                        [\\n, 2017, \\n]   \n",
              "Body_Color                                                 [\\n, Red, \\n]   \n",
              "Paint_Type                                                           NaN   \n",
              "Body_Color_Original                                                  NaN   \n",
              "Upholstery                                             [\\nCloth, Grey\\n]   \n",
              "Body                                                    [\\n, Sedans, \\n]   \n",
              "Nr_of_Doors                                                      [\\n3\\n]   \n",
              "Nr_of_Seats                                                      [\\n4\\n]   \n",
              "Model_Code                                                [\\n0588/BCY\\n]   \n",
              "Gearing_Type                                         [\\n, Automatic, \\n]   \n",
              "Displacement                                              [\\n1,798 cc\\n]   \n",
              "Cylinders                                                        [\\n4\\n]   \n",
              "Weight                                                    [\\n1,255 kg\\n]   \n",
              "Drive_Chain                                                  [\\nfront\\n]   \n",
              "Fuel                                                  [\\n, Gasoline, \\n]   \n",
              "Consumption            [[5.6 l/100 km (comb)], [7.1 l/100 km (city)],...   \n",
              "Co_2_Emission                                  [\\n129 g CO2/km (comb)\\n]   \n",
              "Emission_Class                                              [\\nEuro 6\\n]   \n",
              "Comfort_&_Convenience  [Air conditioning, Automatic climate control, ...   \n",
              "Entertainment_&_Media  [Bluetooth, Hands-free equipment, On-board com...   \n",
              "Extras                 [Alloy wheels, Sport seats, Sport suspension, ...   \n",
              "Safety_&_Security      [ABS, Central door lock, Central door lock wit...   \n",
              "Description            [\\nLangstreckenfahrzeug daher die hohe Kilomet...   \n",
              "Emission_Label                                           [\\n4 (Green)\\n]   \n",
              "Gears                                                            [\\n7\\n]   \n",
              "Country_Version                                                      NaN   \n",
              "\n",
              "                                                                       2  \n",
              "URL                    https://www.autoscout24.com//offers/audi-a1-sp...  \n",
              "Make_Model                                                       Audi A1  \n",
              "Short_Description      Sportback 1.6 TDI S tronic Einparkhilfe plus+m...  \n",
              "Body_Type                                                         Sedans  \n",
              "Price                                                              14640  \n",
              "Vat                                                       VAT deductible  \n",
              "Km                                                             83,450 km  \n",
              "Registration                                                     02/2016  \n",
              "Prev_Owner                                              1 previous owner  \n",
              "hp                                                                 85 kW  \n",
              "type                             [, Used, , Diesel (Particulate Filter)]  \n",
              "Previous_Owners                                                    \\n1\\n  \n",
              "Next_inspection                                                      NaN  \n",
              "Inspection_new                                                       NaN  \n",
              "Warranty                                [\\n, \\n, \\n99 g CO2/km (comb)\\n]  \n",
              "Full_Service                                                         NaN  \n",
              "Non_Smoking_Vehicle                                                  NaN  \n",
              "Null                                                                  []  \n",
              "Make                                                            \\nAudi\\n  \n",
              "Model                                                       [\\n, A1, \\n]  \n",
              "Offer_Number                                              [\\nAM-95365\\n]  \n",
              "First_Registration                                        [\\n, 2016, \\n]  \n",
              "Body_Color                                               [\\n, Black, \\n]  \n",
              "Paint_Type                                                [\\nMetallic\\n]  \n",
              "Body_Color_Original                         [\\nmythosschwarz metallic\\n]  \n",
              "Upholstery                                            [\\nCloth, Black\\n]  \n",
              "Body                                                    [\\n, Sedans, \\n]  \n",
              "Nr_of_Doors                                                      [\\n4\\n]  \n",
              "Nr_of_Seats                                                      [\\n4\\n]  \n",
              "Model_Code                                                           NaN  \n",
              "Gearing_Type                                         [\\n, Automatic, \\n]  \n",
              "Displacement                                              [\\n1,598 cc\\n]  \n",
              "Cylinders                                                            NaN  \n",
              "Weight                                                               NaN  \n",
              "Drive_Chain                                                  [\\nfront\\n]  \n",
              "Fuel                               [\\n, Diesel (Particulate Filter), \\n]  \n",
              "Consumption            [[3.8 l/100 km (comb)], [4.4 l/100 km (city)],...  \n",
              "Co_2_Emission                                   [\\n99 g CO2/km (comb)\\n]  \n",
              "Emission_Class                                              [\\nEuro 6\\n]  \n",
              "Comfort_&_Convenience  [Air conditioning, Cruise control, Electrical ...  \n",
              "Entertainment_&_Media                           [MP3, On-board computer]  \n",
              "Extras                                     [Alloy wheels, Voice Control]  \n",
              "Safety_&_Security      [ABS, Central door lock, Daytime running light...  \n",
              "Description            [\\n, Fahrzeug-Nummer: AM-95365,  , Ehem. UPE 2...  \n",
              "Emission_Label                                           [\\n4 (Green)\\n]  \n",
              "Gears                                                                NaN  \n",
              "Country_Version                                                      NaN  "
            ],
            "text/html": [
              "\n",
              "  <div id=\"df-6bf6f921-e53c-4cf2-adf4-050258c94fda\">\n",
              "    <div class=\"colab-df-container\">\n",
              "      <div>\n",
              "<style scoped>\n",
              "    .dataframe tbody tr th:only-of-type {\n",
              "        vertical-align: middle;\n",
              "    }\n",
              "\n",
              "    .dataframe tbody tr th {\n",
              "        vertical-align: top;\n",
              "    }\n",
              "\n",
              "    .dataframe thead th {\n",
              "        text-align: right;\n",
              "    }\n",
              "</style>\n",
              "<table border=\"1\" class=\"dataframe\">\n",
              "  <thead>\n",
              "    <tr style=\"text-align: right;\">\n",
              "      <th></th>\n",
              "      <th>0</th>\n",
              "      <th>1</th>\n",
              "      <th>2</th>\n",
              "    </tr>\n",
              "  </thead>\n",
              "  <tbody>\n",
              "    <tr>\n",
              "      <th>URL</th>\n",
              "      <td>https://www.autoscout24.com//offers/audi-a1-sp...</td>\n",
              "      <td>https://www.autoscout24.com//offers/audi-a1-1-...</td>\n",
              "      <td>https://www.autoscout24.com//offers/audi-a1-sp...</td>\n",
              "    </tr>\n",
              "    <tr>\n",
              "      <th>Make_Model</th>\n",
              "      <td>Audi A1</td>\n",
              "      <td>Audi A1</td>\n",
              "      <td>Audi A1</td>\n",
              "    </tr>\n",
              "    <tr>\n",
              "      <th>Short_Description</th>\n",
              "      <td>Sportback 1.4 TDI S-tronic Xenon Navi Klima</td>\n",
              "      <td>1.8 TFSI sport</td>\n",
              "      <td>Sportback 1.6 TDI S tronic Einparkhilfe plus+m...</td>\n",
              "    </tr>\n",
              "    <tr>\n",
              "      <th>Body_Type</th>\n",
              "      <td>Sedans</td>\n",
              "      <td>Sedans</td>\n",
              "      <td>Sedans</td>\n",
              "    </tr>\n",
              "    <tr>\n",
              "      <th>Price</th>\n",
              "      <td>15770</td>\n",
              "      <td>14500</td>\n",
              "      <td>14640</td>\n",
              "    </tr>\n",
              "    <tr>\n",
              "      <th>Vat</th>\n",
              "      <td>VAT deductible</td>\n",
              "      <td>Price negotiable</td>\n",
              "      <td>VAT deductible</td>\n",
              "    </tr>\n",
              "    <tr>\n",
              "      <th>Km</th>\n",
              "      <td>56,013 km</td>\n",
              "      <td>80,000 km</td>\n",
              "      <td>83,450 km</td>\n",
              "    </tr>\n",
              "    <tr>\n",
              "      <th>Registration</th>\n",
              "      <td>01/2016</td>\n",
              "      <td>03/2017</td>\n",
              "      <td>02/2016</td>\n",
              "    </tr>\n",
              "    <tr>\n",
              "      <th>Prev_Owner</th>\n",
              "      <td>2 previous owners</td>\n",
              "      <td>None</td>\n",
              "      <td>1 previous owner</td>\n",
              "    </tr>\n",
              "    <tr>\n",
              "      <th>hp</th>\n",
              "      <td>66 kW</td>\n",
              "      <td>141 kW</td>\n",
              "      <td>85 kW</td>\n",
              "    </tr>\n",
              "    <tr>\n",
              "      <th>type</th>\n",
              "      <td>[, Used, , Diesel (Particulate Filter)]</td>\n",
              "      <td>[, Used, , Gasoline]</td>\n",
              "      <td>[, Used, , Diesel (Particulate Filter)]</td>\n",
              "    </tr>\n",
              "    <tr>\n",
              "      <th>Previous_Owners</th>\n",
              "      <td>\\n2\\n</td>\n",
              "      <td>NaN</td>\n",
              "      <td>\\n1\\n</td>\n",
              "    </tr>\n",
              "    <tr>\n",
              "      <th>Next_inspection</th>\n",
              "      <td>[\\n06/2021\\n, \\n99 g CO2/km (comb)\\n]</td>\n",
              "      <td>NaN</td>\n",
              "      <td>NaN</td>\n",
              "    </tr>\n",
              "    <tr>\n",
              "      <th>Inspection_new</th>\n",
              "      <td>[\\nYes\\n, \\nEuro 6\\n]</td>\n",
              "      <td>NaN</td>\n",
              "      <td>NaN</td>\n",
              "    </tr>\n",
              "    <tr>\n",
              "      <th>Warranty</th>\n",
              "      <td>[\\n, \\n, \\n4 (Green)\\n]</td>\n",
              "      <td>NaN</td>\n",
              "      <td>[\\n, \\n, \\n99 g CO2/km (comb)\\n]</td>\n",
              "    </tr>\n",
              "    <tr>\n",
              "      <th>Full_Service</th>\n",
              "      <td>[\\n, \\n]</td>\n",
              "      <td>NaN</td>\n",
              "      <td>NaN</td>\n",
              "    </tr>\n",
              "    <tr>\n",
              "      <th>Non_Smoking_Vehicle</th>\n",
              "      <td>[\\n, \\n]</td>\n",
              "      <td>NaN</td>\n",
              "      <td>NaN</td>\n",
              "    </tr>\n",
              "    <tr>\n",
              "      <th>Null</th>\n",
              "      <td>[]</td>\n",
              "      <td>[]</td>\n",
              "      <td>[]</td>\n",
              "    </tr>\n",
              "    <tr>\n",
              "      <th>Make</th>\n",
              "      <td>\\nAudi\\n</td>\n",
              "      <td>\\nAudi\\n</td>\n",
              "      <td>\\nAudi\\n</td>\n",
              "    </tr>\n",
              "    <tr>\n",
              "      <th>Model</th>\n",
              "      <td>[\\n, A1, \\n]</td>\n",
              "      <td>[\\n, A1, \\n]</td>\n",
              "      <td>[\\n, A1, \\n]</td>\n",
              "    </tr>\n",
              "    <tr>\n",
              "      <th>Offer_Number</th>\n",
              "      <td>[\\nLR-062483\\n]</td>\n",
              "      <td>NaN</td>\n",
              "      <td>[\\nAM-95365\\n]</td>\n",
              "    </tr>\n",
              "    <tr>\n",
              "      <th>First_Registration</th>\n",
              "      <td>[\\n, 2016, \\n]</td>\n",
              "      <td>[\\n, 2017, \\n]</td>\n",
              "      <td>[\\n, 2016, \\n]</td>\n",
              "    </tr>\n",
              "    <tr>\n",
              "      <th>Body_Color</th>\n",
              "      <td>[\\n, Black, \\n]</td>\n",
              "      <td>[\\n, Red, \\n]</td>\n",
              "      <td>[\\n, Black, \\n]</td>\n",
              "    </tr>\n",
              "    <tr>\n",
              "      <th>Paint_Type</th>\n",
              "      <td>[\\nMetallic\\n]</td>\n",
              "      <td>NaN</td>\n",
              "      <td>[\\nMetallic\\n]</td>\n",
              "    </tr>\n",
              "    <tr>\n",
              "      <th>Body_Color_Original</th>\n",
              "      <td>[\\nMythosschwarz\\n]</td>\n",
              "      <td>NaN</td>\n",
              "      <td>[\\nmythosschwarz metallic\\n]</td>\n",
              "    </tr>\n",
              "    <tr>\n",
              "      <th>Upholstery</th>\n",
              "      <td>[\\nCloth, Black\\n]</td>\n",
              "      <td>[\\nCloth, Grey\\n]</td>\n",
              "      <td>[\\nCloth, Black\\n]</td>\n",
              "    </tr>\n",
              "    <tr>\n",
              "      <th>Body</th>\n",
              "      <td>[\\n, Sedans, \\n]</td>\n",
              "      <td>[\\n, Sedans, \\n]</td>\n",
              "      <td>[\\n, Sedans, \\n]</td>\n",
              "    </tr>\n",
              "    <tr>\n",
              "      <th>Nr_of_Doors</th>\n",
              "      <td>[\\n5\\n]</td>\n",
              "      <td>[\\n3\\n]</td>\n",
              "      <td>[\\n4\\n]</td>\n",
              "    </tr>\n",
              "    <tr>\n",
              "      <th>Nr_of_Seats</th>\n",
              "      <td>[\\n5\\n]</td>\n",
              "      <td>[\\n4\\n]</td>\n",
              "      <td>[\\n4\\n]</td>\n",
              "    </tr>\n",
              "    <tr>\n",
              "      <th>Model_Code</th>\n",
              "      <td>[\\n0588/BDF\\n]</td>\n",
              "      <td>[\\n0588/BCY\\n]</td>\n",
              "      <td>NaN</td>\n",
              "    </tr>\n",
              "    <tr>\n",
              "      <th>Gearing_Type</th>\n",
              "      <td>[\\n, Automatic, \\n]</td>\n",
              "      <td>[\\n, Automatic, \\n]</td>\n",
              "      <td>[\\n, Automatic, \\n]</td>\n",
              "    </tr>\n",
              "    <tr>\n",
              "      <th>Displacement</th>\n",
              "      <td>[\\n1,422 cc\\n]</td>\n",
              "      <td>[\\n1,798 cc\\n]</td>\n",
              "      <td>[\\n1,598 cc\\n]</td>\n",
              "    </tr>\n",
              "    <tr>\n",
              "      <th>Cylinders</th>\n",
              "      <td>[\\n3\\n]</td>\n",
              "      <td>[\\n4\\n]</td>\n",
              "      <td>NaN</td>\n",
              "    </tr>\n",
              "    <tr>\n",
              "      <th>Weight</th>\n",
              "      <td>[\\n1,220 kg\\n]</td>\n",
              "      <td>[\\n1,255 kg\\n]</td>\n",
              "      <td>NaN</td>\n",
              "    </tr>\n",
              "    <tr>\n",
              "      <th>Drive_Chain</th>\n",
              "      <td>[\\nfront\\n]</td>\n",
              "      <td>[\\nfront\\n]</td>\n",
              "      <td>[\\nfront\\n]</td>\n",
              "    </tr>\n",
              "    <tr>\n",
              "      <th>Fuel</th>\n",
              "      <td>[\\n, Diesel (Particulate Filter), \\n]</td>\n",
              "      <td>[\\n, Gasoline, \\n]</td>\n",
              "      <td>[\\n, Diesel (Particulate Filter), \\n]</td>\n",
              "    </tr>\n",
              "    <tr>\n",
              "      <th>Consumption</th>\n",
              "      <td>[[3.8 l/100 km (comb)], [4.3 l/100 km (city)],...</td>\n",
              "      <td>[[5.6 l/100 km (comb)], [7.1 l/100 km (city)],...</td>\n",
              "      <td>[[3.8 l/100 km (comb)], [4.4 l/100 km (city)],...</td>\n",
              "    </tr>\n",
              "    <tr>\n",
              "      <th>Co_2_Emission</th>\n",
              "      <td>[\\n99 g CO2/km (comb)\\n]</td>\n",
              "      <td>[\\n129 g CO2/km (comb)\\n]</td>\n",
              "      <td>[\\n99 g CO2/km (comb)\\n]</td>\n",
              "    </tr>\n",
              "    <tr>\n",
              "      <th>Emission_Class</th>\n",
              "      <td>[\\nEuro 6\\n]</td>\n",
              "      <td>[\\nEuro 6\\n]</td>\n",
              "      <td>[\\nEuro 6\\n]</td>\n",
              "    </tr>\n",
              "    <tr>\n",
              "      <th>Comfort_&amp;_Convenience</th>\n",
              "      <td>[Air conditioning, Armrest, Automatic climate ...</td>\n",
              "      <td>[Air conditioning, Automatic climate control, ...</td>\n",
              "      <td>[Air conditioning, Cruise control, Electrical ...</td>\n",
              "    </tr>\n",
              "    <tr>\n",
              "      <th>Entertainment_&amp;_Media</th>\n",
              "      <td>[Bluetooth, Hands-free equipment, On-board com...</td>\n",
              "      <td>[Bluetooth, Hands-free equipment, On-board com...</td>\n",
              "      <td>[MP3, On-board computer]</td>\n",
              "    </tr>\n",
              "    <tr>\n",
              "      <th>Extras</th>\n",
              "      <td>[Alloy wheels, Catalytic Converter, Voice Cont...</td>\n",
              "      <td>[Alloy wheels, Sport seats, Sport suspension, ...</td>\n",
              "      <td>[Alloy wheels, Voice Control]</td>\n",
              "    </tr>\n",
              "    <tr>\n",
              "      <th>Safety_&amp;_Security</th>\n",
              "      <td>[ABS, Central door lock, Daytime running light...</td>\n",
              "      <td>[ABS, Central door lock, Central door lock wit...</td>\n",
              "      <td>[ABS, Central door lock, Daytime running light...</td>\n",
              "    </tr>\n",
              "    <tr>\n",
              "      <th>Description</th>\n",
              "      <td>[\\n, Sicherheit:,  , Deaktivierung für Beifahr...</td>\n",
              "      <td>[\\nLangstreckenfahrzeug daher die hohe Kilomet...</td>\n",
              "      <td>[\\n, Fahrzeug-Nummer: AM-95365,  , Ehem. UPE 2...</td>\n",
              "    </tr>\n",
              "    <tr>\n",
              "      <th>Emission_Label</th>\n",
              "      <td>NaN</td>\n",
              "      <td>[\\n4 (Green)\\n]</td>\n",
              "      <td>[\\n4 (Green)\\n]</td>\n",
              "    </tr>\n",
              "    <tr>\n",
              "      <th>Gears</th>\n",
              "      <td>NaN</td>\n",
              "      <td>[\\n7\\n]</td>\n",
              "      <td>NaN</td>\n",
              "    </tr>\n",
              "    <tr>\n",
              "      <th>Country_Version</th>\n",
              "      <td>NaN</td>\n",
              "      <td>NaN</td>\n",
              "      <td>NaN</td>\n",
              "    </tr>\n",
              "  </tbody>\n",
              "</table>\n",
              "</div>\n",
              "      <button class=\"colab-df-convert\" onclick=\"convertToInteractive('df-6bf6f921-e53c-4cf2-adf4-050258c94fda')\"\n",
              "              title=\"Convert this dataframe to an interactive table.\"\n",
              "              style=\"display:none;\">\n",
              "        \n",
              "  <svg xmlns=\"http://www.w3.org/2000/svg\" height=\"24px\"viewBox=\"0 0 24 24\"\n",
              "       width=\"24px\">\n",
              "    <path d=\"M0 0h24v24H0V0z\" fill=\"none\"/>\n",
              "    <path d=\"M18.56 5.44l.94 2.06.94-2.06 2.06-.94-2.06-.94-.94-2.06-.94 2.06-2.06.94zm-11 1L8.5 8.5l.94-2.06 2.06-.94-2.06-.94L8.5 2.5l-.94 2.06-2.06.94zm10 10l.94 2.06.94-2.06 2.06-.94-2.06-.94-.94-2.06-.94 2.06-2.06.94z\"/><path d=\"M17.41 7.96l-1.37-1.37c-.4-.4-.92-.59-1.43-.59-.52 0-1.04.2-1.43.59L10.3 9.45l-7.72 7.72c-.78.78-.78 2.05 0 2.83L4 21.41c.39.39.9.59 1.41.59.51 0 1.02-.2 1.41-.59l7.78-7.78 2.81-2.81c.8-.78.8-2.07 0-2.86zM5.41 20L4 18.59l7.72-7.72 1.47 1.35L5.41 20z\"/>\n",
              "  </svg>\n",
              "      </button>\n",
              "      \n",
              "  <style>\n",
              "    .colab-df-container {\n",
              "      display:flex;\n",
              "      flex-wrap:wrap;\n",
              "      gap: 12px;\n",
              "    }\n",
              "\n",
              "    .colab-df-convert {\n",
              "      background-color: #E8F0FE;\n",
              "      border: none;\n",
              "      border-radius: 50%;\n",
              "      cursor: pointer;\n",
              "      display: none;\n",
              "      fill: #1967D2;\n",
              "      height: 32px;\n",
              "      padding: 0 0 0 0;\n",
              "      width: 32px;\n",
              "    }\n",
              "\n",
              "    .colab-df-convert:hover {\n",
              "      background-color: #E2EBFA;\n",
              "      box-shadow: 0px 1px 2px rgba(60, 64, 67, 0.3), 0px 1px 3px 1px rgba(60, 64, 67, 0.15);\n",
              "      fill: #174EA6;\n",
              "    }\n",
              "\n",
              "    [theme=dark] .colab-df-convert {\n",
              "      background-color: #3B4455;\n",
              "      fill: #D2E3FC;\n",
              "    }\n",
              "\n",
              "    [theme=dark] .colab-df-convert:hover {\n",
              "      background-color: #434B5C;\n",
              "      box-shadow: 0px 1px 3px 1px rgba(0, 0, 0, 0.15);\n",
              "      filter: drop-shadow(0px 1px 2px rgba(0, 0, 0, 0.3));\n",
              "      fill: #FFFFFF;\n",
              "    }\n",
              "  </style>\n",
              "\n",
              "      <script>\n",
              "        const buttonEl =\n",
              "          document.querySelector('#df-6bf6f921-e53c-4cf2-adf4-050258c94fda button.colab-df-convert');\n",
              "        buttonEl.style.display =\n",
              "          google.colab.kernel.accessAllowed ? 'block' : 'none';\n",
              "\n",
              "        async function convertToInteractive(key) {\n",
              "          const element = document.querySelector('#df-6bf6f921-e53c-4cf2-adf4-050258c94fda');\n",
              "          const dataTable =\n",
              "            await google.colab.kernel.invokeFunction('convertToInteractive',\n",
              "                                                     [key], {});\n",
              "          if (!dataTable) return;\n",
              "\n",
              "          const docLinkHtml = 'Like what you see? Visit the ' +\n",
              "            '<a target=\"_blank\" href=https://colab.research.google.com/notebooks/data_table.ipynb>data table notebook</a>'\n",
              "            + ' to learn more about interactive tables.';\n",
              "          element.innerHTML = '';\n",
              "          dataTable['output_type'] = 'display_data';\n",
              "          await google.colab.output.renderOutput(dataTable, element);\n",
              "          const docLink = document.createElement('div');\n",
              "          docLink.innerHTML = docLinkHtml;\n",
              "          element.appendChild(docLink);\n",
              "        }\n",
              "      </script>\n",
              "    </div>\n",
              "  </div>\n",
              "  "
            ]
          },
          "metadata": {},
          "execution_count": 870
        }
      ]
    },
    {
      "cell_type": "markdown",
      "source": [
        "We should drop \"Null\" column as well.."
      ],
      "metadata": {
        "id": "Jfba3YsYjVbo"
      }
    },
    {
      "cell_type": "code",
      "source": [
        "df.drop(\"Null\",axis=1,inplace=True)\n",
        "df.info()"
      ],
      "metadata": {
        "colab": {
          "base_uri": "https://localhost:8080/"
        },
        "id": "RVBySjT4hdL6",
        "outputId": "52308662-1aad-43a5-f144-2ae04705dfe7"
      },
      "execution_count": 871,
      "outputs": [
        {
          "output_type": "stream",
          "name": "stdout",
          "text": [
            "<class 'pandas.core.frame.DataFrame'>\n",
            "RangeIndex: 15919 entries, 0 to 15918\n",
            "Data columns (total 46 columns):\n",
            " #   Column                 Non-Null Count  Dtype \n",
            "---  ------                 --------------  ----- \n",
            " 0   URL                    15919 non-null  object\n",
            " 1   Make_Model             15919 non-null  object\n",
            " 2   Short_Description      15873 non-null  object\n",
            " 3   Body_Type              15859 non-null  object\n",
            " 4   Price                  15919 non-null  int64 \n",
            " 5   Vat                    11406 non-null  object\n",
            " 6   Km                     15919 non-null  object\n",
            " 7   Registration           15919 non-null  object\n",
            " 8   Prev_Owner             9091 non-null   object\n",
            " 9   hp                     15919 non-null  object\n",
            " 10  type                   15917 non-null  object\n",
            " 11  Previous_Owners        9279 non-null   object\n",
            " 12  Next_inspection        3535 non-null   object\n",
            " 13  Inspection_new         3932 non-null   object\n",
            " 14  Warranty               10499 non-null  object\n",
            " 15  Full_Service           8215 non-null   object\n",
            " 16  Non_Smoking_Vehicle    7177 non-null   object\n",
            " 17  Make                   15919 non-null  object\n",
            " 18  Model                  15919 non-null  object\n",
            " 19  Offer_Number           12744 non-null  object\n",
            " 20  First_Registration     14322 non-null  object\n",
            " 21  Body_Color             15322 non-null  object\n",
            " 22  Paint_Type             10147 non-null  object\n",
            " 23  Body_Color_Original    12160 non-null  object\n",
            " 24  Upholstery             12199 non-null  object\n",
            " 25  Body                   15859 non-null  object\n",
            " 26  Nr_of_Doors            15707 non-null  object\n",
            " 27  Nr_of_Seats            14942 non-null  object\n",
            " 28  Model_Code             4978 non-null   object\n",
            " 29  Gearing_Type           15919 non-null  object\n",
            " 30  Displacement           15423 non-null  object\n",
            " 31  Cylinders              10239 non-null  object\n",
            " 32  Weight                 8945 non-null   object\n",
            " 33  Drive_Chain            9061 non-null   object\n",
            " 34  Fuel                   15919 non-null  object\n",
            " 35  Consumption            14013 non-null  object\n",
            " 36  Co_2_Emission          14111 non-null  object\n",
            " 37  Emission_Class         12898 non-null  object\n",
            " 38  Comfort_&_Convenience  14999 non-null  object\n",
            " 39  Entertainment_&_Media  14545 non-null  object\n",
            " 40  Extras                 12957 non-null  object\n",
            " 41  Safety_&_Security      14937 non-null  object\n",
            " 42  Description            15919 non-null  object\n",
            " 43  Emission_Label         3985 non-null   object\n",
            " 44  Gears                  11207 non-null  object\n",
            " 45  Country_Version        7586 non-null   object\n",
            "dtypes: int64(1), object(45)\n",
            "memory usage: 5.6+ MB\n"
          ]
        }
      ]
    },
    {
      "cell_type": "markdown",
      "source": [
        "# Analyze Columns 1by1"
      ],
      "metadata": {
        "id": "eY8bfQJkkVvL"
      }
    },
    {
      "cell_type": "markdown",
      "source": [
        "URL\n",
        "This column has only url adress so we might as well drop it. "
      ],
      "metadata": {
        "id": "l0g9VtqykjdJ"
      }
    },
    {
      "cell_type": "code",
      "source": [
        "df.URL.value_counts()"
      ],
      "metadata": {
        "colab": {
          "base_uri": "https://localhost:8080/"
        },
        "id": "6sLHPzkuhdJP",
        "outputId": "fb5b0cc2-04f7-456e-f844-071ad69b2a26"
      },
      "execution_count": 872,
      "outputs": [
        {
          "output_type": "execute_result",
          "data": {
            "text/plain": [
              "https://www.autoscout24.com//offers/audi-a1-sportback-1-4-tdi-s-tronic-xenon-navi-klima-diesel-black-bdab349a-caa5-41b0-98eb-c1345b84445e                  1\n",
              "https://www.autoscout24.com//offers/opel-insignia-bus-inno-2-0-cdti-aut-navi-bi-xe-led-e6-diesel-black-8710b253-dd98-4ed0-9d46-cbad2d79532b                1\n",
              "https://www.autoscout24.com//offers/opel-insignia-sport-tourer-opel-sport-tourer-1-6-cdti-136-ch-a-c-diesel-silver-10b7463b-9f56-4348-af35-df3432b2b585    1\n",
              "https://www.autoscout24.com//offers/opel-insignia-2-0cdti-st-business-innovation-navi-bt-diesel-black-ba5a3368-dedc-4e51-9127-3976b26e93c2                 1\n",
              "https://www.autoscout24.com//offers/opel-insignia-sport-tourer-opel-sport-tourer-1-6-cdti-136-ch-a-c-diesel-silver-7b52f054-78d3-4d5e-9370-8a7d081d7edd    1\n",
              "                                                                                                                                                          ..\n",
              "https://www.autoscout24.com//offers/audi-a3-sb-30-1-6-tdi-business-116cv-s-tronic-diesel-black-cf50f7b1-4d7b-466f-93a2-4e11ec0b4107                        1\n",
              "https://www.autoscout24.com//offers/audi-a3-sb-30-1-6-tdi-business-116cv-s-tronic-diesel-grey-3f47eb34-15c4-4763-860d-78fcbbd2c9ff                         1\n",
              "https://www.autoscout24.com//offers/audi-a3-sb-30-1-6-tdi-business-116cv-s-tronic-diesel-silver-f7a4bc95-b2ef-4bac-9497-6bcbcd05db0b                       1\n",
              "https://www.autoscout24.com//offers/audi-a3-sb-30-1-6-tdi-business-116cv-s-tronic-diesel-silver-1c94c7a2-67b5-49ca-ae42-42a6800fb3f5                       1\n",
              "https://www.autoscout24.com//offers/renault-espace-initiale-paris-tce-225-edc-gpf-navi-shz-aux-gasoline-grey-0bd690d9-7e93-4cab-bc5a-9d5b63402481          1\n",
              "Name: URL, Length: 15919, dtype: int64"
            ]
          },
          "metadata": {},
          "execution_count": 872
        }
      ]
    },
    {
      "cell_type": "code",
      "source": [
        "df.drop(\"URL\",axis=1,inplace=True)"
      ],
      "metadata": {
        "id": "2mbWUzZshdGz"
      },
      "execution_count": 873,
      "outputs": []
    },
    {
      "cell_type": "code",
      "source": [
        "df.info()"
      ],
      "metadata": {
        "colab": {
          "base_uri": "https://localhost:8080/"
        },
        "id": "8dY-gSRghdEM",
        "outputId": "b5d79be6-5ff1-4178-d341-7d3b10c85b84"
      },
      "execution_count": 874,
      "outputs": [
        {
          "output_type": "stream",
          "name": "stdout",
          "text": [
            "<class 'pandas.core.frame.DataFrame'>\n",
            "RangeIndex: 15919 entries, 0 to 15918\n",
            "Data columns (total 45 columns):\n",
            " #   Column                 Non-Null Count  Dtype \n",
            "---  ------                 --------------  ----- \n",
            " 0   Make_Model             15919 non-null  object\n",
            " 1   Short_Description      15873 non-null  object\n",
            " 2   Body_Type              15859 non-null  object\n",
            " 3   Price                  15919 non-null  int64 \n",
            " 4   Vat                    11406 non-null  object\n",
            " 5   Km                     15919 non-null  object\n",
            " 6   Registration           15919 non-null  object\n",
            " 7   Prev_Owner             9091 non-null   object\n",
            " 8   hp                     15919 non-null  object\n",
            " 9   type                   15917 non-null  object\n",
            " 10  Previous_Owners        9279 non-null   object\n",
            " 11  Next_inspection        3535 non-null   object\n",
            " 12  Inspection_new         3932 non-null   object\n",
            " 13  Warranty               10499 non-null  object\n",
            " 14  Full_Service           8215 non-null   object\n",
            " 15  Non_Smoking_Vehicle    7177 non-null   object\n",
            " 16  Make                   15919 non-null  object\n",
            " 17  Model                  15919 non-null  object\n",
            " 18  Offer_Number           12744 non-null  object\n",
            " 19  First_Registration     14322 non-null  object\n",
            " 20  Body_Color             15322 non-null  object\n",
            " 21  Paint_Type             10147 non-null  object\n",
            " 22  Body_Color_Original    12160 non-null  object\n",
            " 23  Upholstery             12199 non-null  object\n",
            " 24  Body                   15859 non-null  object\n",
            " 25  Nr_of_Doors            15707 non-null  object\n",
            " 26  Nr_of_Seats            14942 non-null  object\n",
            " 27  Model_Code             4978 non-null   object\n",
            " 28  Gearing_Type           15919 non-null  object\n",
            " 29  Displacement           15423 non-null  object\n",
            " 30  Cylinders              10239 non-null  object\n",
            " 31  Weight                 8945 non-null   object\n",
            " 32  Drive_Chain            9061 non-null   object\n",
            " 33  Fuel                   15919 non-null  object\n",
            " 34  Consumption            14013 non-null  object\n",
            " 35  Co_2_Emission          14111 non-null  object\n",
            " 36  Emission_Class         12898 non-null  object\n",
            " 37  Comfort_&_Convenience  14999 non-null  object\n",
            " 38  Entertainment_&_Media  14545 non-null  object\n",
            " 39  Extras                 12957 non-null  object\n",
            " 40  Safety_&_Security      14937 non-null  object\n",
            " 41  Description            15919 non-null  object\n",
            " 42  Emission_Label         3985 non-null   object\n",
            " 43  Gears                  11207 non-null  object\n",
            " 44  Country_Version        7586 non-null   object\n",
            "dtypes: int64(1), object(44)\n",
            "memory usage: 5.5+ MB\n"
          ]
        }
      ]
    },
    {
      "cell_type": "markdown",
      "source": [
        "Make_Model"
      ],
      "metadata": {
        "id": "HUIWIyC2mHy-"
      }
    },
    {
      "cell_type": "code",
      "source": [
        "df[\"Make_Model\"]\n",
        "df.Make_Model.value_counts(dropna=False)"
      ],
      "metadata": {
        "colab": {
          "base_uri": "https://localhost:8080/"
        },
        "id": "DuBvJXVemHjy",
        "outputId": "f94c733f-13f3-4997-9480-8efad71fb5cc"
      },
      "execution_count": 875,
      "outputs": [
        {
          "output_type": "execute_result",
          "data": {
            "text/plain": [
              "Audi A3           3097\n",
              "Audi A1           2614\n",
              "Opel Insignia     2598\n",
              "Opel Astra        2526\n",
              "Opel Corsa        2219\n",
              "Renault Clio      1839\n",
              "Renault Espace     991\n",
              "Renault Duster      34\n",
              "Audi A2              1\n",
              "Name: Make_Model, dtype: int64"
            ]
          },
          "metadata": {},
          "execution_count": 875
        }
      ]
    },
    {
      "cell_type": "markdown",
      "source": [
        "## Make"
      ],
      "metadata": {
        "id": "asUY8yrkm_dJ"
      }
    },
    {
      "cell_type": "code",
      "source": [
        "df[\"Make\"]\n",
        "df.Make.value_counts(dropna=False)"
      ],
      "metadata": {
        "colab": {
          "base_uri": "https://localhost:8080/"
        },
        "id": "USpoWEFWmHhL",
        "outputId": "c2d822fe-f6c9-42ed-b3ce-00ec63f4b53a"
      },
      "execution_count": 876,
      "outputs": [
        {
          "output_type": "execute_result",
          "data": {
            "text/plain": [
              "\\nOpel\\n       7343\n",
              "\\nAudi\\n       5712\n",
              "\\nRenault\\n    2864\n",
              "Name: Make, dtype: int64"
            ]
          },
          "metadata": {},
          "execution_count": 876
        }
      ]
    },
    {
      "cell_type": "code",
      "source": [
        "df[\"Make\"]=df.Make.str.strip('\\n')\n",
        "df[\"Make\"]"
      ],
      "metadata": {
        "colab": {
          "base_uri": "https://localhost:8080/"
        },
        "id": "Tjci5DG2mHey",
        "outputId": "7cb4d8d8-def0-4990-b651-ba3b67b72ab3"
      },
      "execution_count": 877,
      "outputs": [
        {
          "output_type": "execute_result",
          "data": {
            "text/plain": [
              "0           Audi\n",
              "1           Audi\n",
              "2           Audi\n",
              "3           Audi\n",
              "4           Audi\n",
              "          ...   \n",
              "15914    Renault\n",
              "15915    Renault\n",
              "15916    Renault\n",
              "15917    Renault\n",
              "15918    Renault\n",
              "Name: Make, Length: 15919, dtype: object"
            ]
          },
          "metadata": {},
          "execution_count": 877
        }
      ]
    },
    {
      "cell_type": "code",
      "source": [
        "df.Make.value_counts(dropna=False)"
      ],
      "metadata": {
        "colab": {
          "base_uri": "https://localhost:8080/"
        },
        "id": "3a9J-qnTmHW8",
        "outputId": "6ee1745c-10ab-40b8-cc69-024ec3c7fa24"
      },
      "execution_count": 878,
      "outputs": [
        {
          "output_type": "execute_result",
          "data": {
            "text/plain": [
              "Opel       7343\n",
              "Audi       5712\n",
              "Renault    2864\n",
              "Name: Make, dtype: int64"
            ]
          },
          "metadata": {},
          "execution_count": 878
        }
      ]
    },
    {
      "cell_type": "markdown",
      "source": [
        "## Model"
      ],
      "metadata": {
        "id": "2-zxlzjwodwj"
      }
    },
    {
      "cell_type": "code",
      "source": [
        "df[\"Model\"]\n",
        "#data type object not int"
      ],
      "metadata": {
        "colab": {
          "base_uri": "https://localhost:8080/"
        },
        "id": "0FTp31-omHRq",
        "outputId": "3d40b94c-f659-4b51-f93a-85b71522858f"
      },
      "execution_count": 879,
      "outputs": [
        {
          "output_type": "execute_result",
          "data": {
            "text/plain": [
              "0            [\\n, A1, \\n]\n",
              "1            [\\n, A1, \\n]\n",
              "2            [\\n, A1, \\n]\n",
              "3            [\\n, A1, \\n]\n",
              "4            [\\n, A1, \\n]\n",
              "               ...       \n",
              "15914    [\\n, Espace, \\n]\n",
              "15915    [\\n, Espace, \\n]\n",
              "15916    [\\n, Espace, \\n]\n",
              "15917    [\\n, Espace, \\n]\n",
              "15918    [\\n, Espace, \\n]\n",
              "Name: Model, Length: 15919, dtype: object"
            ]
          },
          "metadata": {},
          "execution_count": 879
        }
      ]
    },
    {
      "cell_type": "code",
      "source": [
        "df[\"Model\"][0]\n",
        "df[\"Model\"][0][1]"
      ],
      "metadata": {
        "colab": {
          "base_uri": "https://localhost:8080/",
          "height": 36
        },
        "id": "-TBLQ2JJhdBr",
        "outputId": "145be130-8d3b-4b33-ced9-647120ee31bb"
      },
      "execution_count": 880,
      "outputs": [
        {
          "output_type": "execute_result",
          "data": {
            "text/plain": [
              "'A1'"
            ],
            "application/vnd.google.colaboratory.intrinsic+json": {
              "type": "string"
            }
          },
          "metadata": {},
          "execution_count": 880
        }
      ]
    },
    {
      "cell_type": "code",
      "source": [
        "df.head(3).T"
      ],
      "metadata": {
        "colab": {
          "base_uri": "https://localhost:8080/",
          "height": 1000
        },
        "id": "STJ_G9VvuvAz",
        "outputId": "9c54d280-b2ae-4065-e6d9-8f23552f4ad9"
      },
      "execution_count": 881,
      "outputs": [
        {
          "output_type": "execute_result",
          "data": {
            "text/plain": [
              "                                                                       0  \\\n",
              "Make_Model                                                       Audi A1   \n",
              "Short_Description            Sportback 1.4 TDI S-tronic Xenon Navi Klima   \n",
              "Body_Type                                                         Sedans   \n",
              "Price                                                              15770   \n",
              "Vat                                                       VAT deductible   \n",
              "Km                                                             56,013 km   \n",
              "Registration                                                     01/2016   \n",
              "Prev_Owner                                             2 previous owners   \n",
              "hp                                                                 66 kW   \n",
              "type                             [, Used, , Diesel (Particulate Filter)]   \n",
              "Previous_Owners                                                    \\n2\\n   \n",
              "Next_inspection                    [\\n06/2021\\n, \\n99 g CO2/km (comb)\\n]   \n",
              "Inspection_new                                     [\\nYes\\n, \\nEuro 6\\n]   \n",
              "Warranty                                         [\\n, \\n, \\n4 (Green)\\n]   \n",
              "Full_Service                                                    [\\n, \\n]   \n",
              "Non_Smoking_Vehicle                                             [\\n, \\n]   \n",
              "Make                                                                Audi   \n",
              "Model                                                       [\\n, A1, \\n]   \n",
              "Offer_Number                                             [\\nLR-062483\\n]   \n",
              "First_Registration                                        [\\n, 2016, \\n]   \n",
              "Body_Color                                               [\\n, Black, \\n]   \n",
              "Paint_Type                                                [\\nMetallic\\n]   \n",
              "Body_Color_Original                                  [\\nMythosschwarz\\n]   \n",
              "Upholstery                                            [\\nCloth, Black\\n]   \n",
              "Body                                                    [\\n, Sedans, \\n]   \n",
              "Nr_of_Doors                                                      [\\n5\\n]   \n",
              "Nr_of_Seats                                                      [\\n5\\n]   \n",
              "Model_Code                                                [\\n0588/BDF\\n]   \n",
              "Gearing_Type                                         [\\n, Automatic, \\n]   \n",
              "Displacement                                              [\\n1,422 cc\\n]   \n",
              "Cylinders                                                        [\\n3\\n]   \n",
              "Weight                                                    [\\n1,220 kg\\n]   \n",
              "Drive_Chain                                                  [\\nfront\\n]   \n",
              "Fuel                               [\\n, Diesel (Particulate Filter), \\n]   \n",
              "Consumption            [[3.8 l/100 km (comb)], [4.3 l/100 km (city)],...   \n",
              "Co_2_Emission                                   [\\n99 g CO2/km (comb)\\n]   \n",
              "Emission_Class                                              [\\nEuro 6\\n]   \n",
              "Comfort_&_Convenience  [Air conditioning, Armrest, Automatic climate ...   \n",
              "Entertainment_&_Media  [Bluetooth, Hands-free equipment, On-board com...   \n",
              "Extras                 [Alloy wheels, Catalytic Converter, Voice Cont...   \n",
              "Safety_&_Security      [ABS, Central door lock, Daytime running light...   \n",
              "Description            [\\n, Sicherheit:,  , Deaktivierung für Beifahr...   \n",
              "Emission_Label                                                       NaN   \n",
              "Gears                                                                NaN   \n",
              "Country_Version                                                      NaN   \n",
              "\n",
              "                                                                       1  \\\n",
              "Make_Model                                                       Audi A1   \n",
              "Short_Description                                         1.8 TFSI sport   \n",
              "Body_Type                                                         Sedans   \n",
              "Price                                                              14500   \n",
              "Vat                                                     Price negotiable   \n",
              "Km                                                             80,000 km   \n",
              "Registration                                                     03/2017   \n",
              "Prev_Owner                                                          None   \n",
              "hp                                                                141 kW   \n",
              "type                                                [, Used, , Gasoline]   \n",
              "Previous_Owners                                                      NaN   \n",
              "Next_inspection                                                      NaN   \n",
              "Inspection_new                                                       NaN   \n",
              "Warranty                                                             NaN   \n",
              "Full_Service                                                         NaN   \n",
              "Non_Smoking_Vehicle                                                  NaN   \n",
              "Make                                                                Audi   \n",
              "Model                                                       [\\n, A1, \\n]   \n",
              "Offer_Number                                                         NaN   \n",
              "First_Registration                                        [\\n, 2017, \\n]   \n",
              "Body_Color                                                 [\\n, Red, \\n]   \n",
              "Paint_Type                                                           NaN   \n",
              "Body_Color_Original                                                  NaN   \n",
              "Upholstery                                             [\\nCloth, Grey\\n]   \n",
              "Body                                                    [\\n, Sedans, \\n]   \n",
              "Nr_of_Doors                                                      [\\n3\\n]   \n",
              "Nr_of_Seats                                                      [\\n4\\n]   \n",
              "Model_Code                                                [\\n0588/BCY\\n]   \n",
              "Gearing_Type                                         [\\n, Automatic, \\n]   \n",
              "Displacement                                              [\\n1,798 cc\\n]   \n",
              "Cylinders                                                        [\\n4\\n]   \n",
              "Weight                                                    [\\n1,255 kg\\n]   \n",
              "Drive_Chain                                                  [\\nfront\\n]   \n",
              "Fuel                                                  [\\n, Gasoline, \\n]   \n",
              "Consumption            [[5.6 l/100 km (comb)], [7.1 l/100 km (city)],...   \n",
              "Co_2_Emission                                  [\\n129 g CO2/km (comb)\\n]   \n",
              "Emission_Class                                              [\\nEuro 6\\n]   \n",
              "Comfort_&_Convenience  [Air conditioning, Automatic climate control, ...   \n",
              "Entertainment_&_Media  [Bluetooth, Hands-free equipment, On-board com...   \n",
              "Extras                 [Alloy wheels, Sport seats, Sport suspension, ...   \n",
              "Safety_&_Security      [ABS, Central door lock, Central door lock wit...   \n",
              "Description            [\\nLangstreckenfahrzeug daher die hohe Kilomet...   \n",
              "Emission_Label                                           [\\n4 (Green)\\n]   \n",
              "Gears                                                            [\\n7\\n]   \n",
              "Country_Version                                                      NaN   \n",
              "\n",
              "                                                                       2  \n",
              "Make_Model                                                       Audi A1  \n",
              "Short_Description      Sportback 1.6 TDI S tronic Einparkhilfe plus+m...  \n",
              "Body_Type                                                         Sedans  \n",
              "Price                                                              14640  \n",
              "Vat                                                       VAT deductible  \n",
              "Km                                                             83,450 km  \n",
              "Registration                                                     02/2016  \n",
              "Prev_Owner                                              1 previous owner  \n",
              "hp                                                                 85 kW  \n",
              "type                             [, Used, , Diesel (Particulate Filter)]  \n",
              "Previous_Owners                                                    \\n1\\n  \n",
              "Next_inspection                                                      NaN  \n",
              "Inspection_new                                                       NaN  \n",
              "Warranty                                [\\n, \\n, \\n99 g CO2/km (comb)\\n]  \n",
              "Full_Service                                                         NaN  \n",
              "Non_Smoking_Vehicle                                                  NaN  \n",
              "Make                                                                Audi  \n",
              "Model                                                       [\\n, A1, \\n]  \n",
              "Offer_Number                                              [\\nAM-95365\\n]  \n",
              "First_Registration                                        [\\n, 2016, \\n]  \n",
              "Body_Color                                               [\\n, Black, \\n]  \n",
              "Paint_Type                                                [\\nMetallic\\n]  \n",
              "Body_Color_Original                         [\\nmythosschwarz metallic\\n]  \n",
              "Upholstery                                            [\\nCloth, Black\\n]  \n",
              "Body                                                    [\\n, Sedans, \\n]  \n",
              "Nr_of_Doors                                                      [\\n4\\n]  \n",
              "Nr_of_Seats                                                      [\\n4\\n]  \n",
              "Model_Code                                                           NaN  \n",
              "Gearing_Type                                         [\\n, Automatic, \\n]  \n",
              "Displacement                                              [\\n1,598 cc\\n]  \n",
              "Cylinders                                                            NaN  \n",
              "Weight                                                               NaN  \n",
              "Drive_Chain                                                  [\\nfront\\n]  \n",
              "Fuel                               [\\n, Diesel (Particulate Filter), \\n]  \n",
              "Consumption            [[3.8 l/100 km (comb)], [4.4 l/100 km (city)],...  \n",
              "Co_2_Emission                                   [\\n99 g CO2/km (comb)\\n]  \n",
              "Emission_Class                                              [\\nEuro 6\\n]  \n",
              "Comfort_&_Convenience  [Air conditioning, Cruise control, Electrical ...  \n",
              "Entertainment_&_Media                           [MP3, On-board computer]  \n",
              "Extras                                     [Alloy wheels, Voice Control]  \n",
              "Safety_&_Security      [ABS, Central door lock, Daytime running light...  \n",
              "Description            [\\n, Fahrzeug-Nummer: AM-95365,  , Ehem. UPE 2...  \n",
              "Emission_Label                                           [\\n4 (Green)\\n]  \n",
              "Gears                                                                NaN  \n",
              "Country_Version                                                      NaN  "
            ],
            "text/html": [
              "\n",
              "  <div id=\"df-a82fd3e3-594d-4894-a5c4-11a88bc1e259\">\n",
              "    <div class=\"colab-df-container\">\n",
              "      <div>\n",
              "<style scoped>\n",
              "    .dataframe tbody tr th:only-of-type {\n",
              "        vertical-align: middle;\n",
              "    }\n",
              "\n",
              "    .dataframe tbody tr th {\n",
              "        vertical-align: top;\n",
              "    }\n",
              "\n",
              "    .dataframe thead th {\n",
              "        text-align: right;\n",
              "    }\n",
              "</style>\n",
              "<table border=\"1\" class=\"dataframe\">\n",
              "  <thead>\n",
              "    <tr style=\"text-align: right;\">\n",
              "      <th></th>\n",
              "      <th>0</th>\n",
              "      <th>1</th>\n",
              "      <th>2</th>\n",
              "    </tr>\n",
              "  </thead>\n",
              "  <tbody>\n",
              "    <tr>\n",
              "      <th>Make_Model</th>\n",
              "      <td>Audi A1</td>\n",
              "      <td>Audi A1</td>\n",
              "      <td>Audi A1</td>\n",
              "    </tr>\n",
              "    <tr>\n",
              "      <th>Short_Description</th>\n",
              "      <td>Sportback 1.4 TDI S-tronic Xenon Navi Klima</td>\n",
              "      <td>1.8 TFSI sport</td>\n",
              "      <td>Sportback 1.6 TDI S tronic Einparkhilfe plus+m...</td>\n",
              "    </tr>\n",
              "    <tr>\n",
              "      <th>Body_Type</th>\n",
              "      <td>Sedans</td>\n",
              "      <td>Sedans</td>\n",
              "      <td>Sedans</td>\n",
              "    </tr>\n",
              "    <tr>\n",
              "      <th>Price</th>\n",
              "      <td>15770</td>\n",
              "      <td>14500</td>\n",
              "      <td>14640</td>\n",
              "    </tr>\n",
              "    <tr>\n",
              "      <th>Vat</th>\n",
              "      <td>VAT deductible</td>\n",
              "      <td>Price negotiable</td>\n",
              "      <td>VAT deductible</td>\n",
              "    </tr>\n",
              "    <tr>\n",
              "      <th>Km</th>\n",
              "      <td>56,013 km</td>\n",
              "      <td>80,000 km</td>\n",
              "      <td>83,450 km</td>\n",
              "    </tr>\n",
              "    <tr>\n",
              "      <th>Registration</th>\n",
              "      <td>01/2016</td>\n",
              "      <td>03/2017</td>\n",
              "      <td>02/2016</td>\n",
              "    </tr>\n",
              "    <tr>\n",
              "      <th>Prev_Owner</th>\n",
              "      <td>2 previous owners</td>\n",
              "      <td>None</td>\n",
              "      <td>1 previous owner</td>\n",
              "    </tr>\n",
              "    <tr>\n",
              "      <th>hp</th>\n",
              "      <td>66 kW</td>\n",
              "      <td>141 kW</td>\n",
              "      <td>85 kW</td>\n",
              "    </tr>\n",
              "    <tr>\n",
              "      <th>type</th>\n",
              "      <td>[, Used, , Diesel (Particulate Filter)]</td>\n",
              "      <td>[, Used, , Gasoline]</td>\n",
              "      <td>[, Used, , Diesel (Particulate Filter)]</td>\n",
              "    </tr>\n",
              "    <tr>\n",
              "      <th>Previous_Owners</th>\n",
              "      <td>\\n2\\n</td>\n",
              "      <td>NaN</td>\n",
              "      <td>\\n1\\n</td>\n",
              "    </tr>\n",
              "    <tr>\n",
              "      <th>Next_inspection</th>\n",
              "      <td>[\\n06/2021\\n, \\n99 g CO2/km (comb)\\n]</td>\n",
              "      <td>NaN</td>\n",
              "      <td>NaN</td>\n",
              "    </tr>\n",
              "    <tr>\n",
              "      <th>Inspection_new</th>\n",
              "      <td>[\\nYes\\n, \\nEuro 6\\n]</td>\n",
              "      <td>NaN</td>\n",
              "      <td>NaN</td>\n",
              "    </tr>\n",
              "    <tr>\n",
              "      <th>Warranty</th>\n",
              "      <td>[\\n, \\n, \\n4 (Green)\\n]</td>\n",
              "      <td>NaN</td>\n",
              "      <td>[\\n, \\n, \\n99 g CO2/km (comb)\\n]</td>\n",
              "    </tr>\n",
              "    <tr>\n",
              "      <th>Full_Service</th>\n",
              "      <td>[\\n, \\n]</td>\n",
              "      <td>NaN</td>\n",
              "      <td>NaN</td>\n",
              "    </tr>\n",
              "    <tr>\n",
              "      <th>Non_Smoking_Vehicle</th>\n",
              "      <td>[\\n, \\n]</td>\n",
              "      <td>NaN</td>\n",
              "      <td>NaN</td>\n",
              "    </tr>\n",
              "    <tr>\n",
              "      <th>Make</th>\n",
              "      <td>Audi</td>\n",
              "      <td>Audi</td>\n",
              "      <td>Audi</td>\n",
              "    </tr>\n",
              "    <tr>\n",
              "      <th>Model</th>\n",
              "      <td>[\\n, A1, \\n]</td>\n",
              "      <td>[\\n, A1, \\n]</td>\n",
              "      <td>[\\n, A1, \\n]</td>\n",
              "    </tr>\n",
              "    <tr>\n",
              "      <th>Offer_Number</th>\n",
              "      <td>[\\nLR-062483\\n]</td>\n",
              "      <td>NaN</td>\n",
              "      <td>[\\nAM-95365\\n]</td>\n",
              "    </tr>\n",
              "    <tr>\n",
              "      <th>First_Registration</th>\n",
              "      <td>[\\n, 2016, \\n]</td>\n",
              "      <td>[\\n, 2017, \\n]</td>\n",
              "      <td>[\\n, 2016, \\n]</td>\n",
              "    </tr>\n",
              "    <tr>\n",
              "      <th>Body_Color</th>\n",
              "      <td>[\\n, Black, \\n]</td>\n",
              "      <td>[\\n, Red, \\n]</td>\n",
              "      <td>[\\n, Black, \\n]</td>\n",
              "    </tr>\n",
              "    <tr>\n",
              "      <th>Paint_Type</th>\n",
              "      <td>[\\nMetallic\\n]</td>\n",
              "      <td>NaN</td>\n",
              "      <td>[\\nMetallic\\n]</td>\n",
              "    </tr>\n",
              "    <tr>\n",
              "      <th>Body_Color_Original</th>\n",
              "      <td>[\\nMythosschwarz\\n]</td>\n",
              "      <td>NaN</td>\n",
              "      <td>[\\nmythosschwarz metallic\\n]</td>\n",
              "    </tr>\n",
              "    <tr>\n",
              "      <th>Upholstery</th>\n",
              "      <td>[\\nCloth, Black\\n]</td>\n",
              "      <td>[\\nCloth, Grey\\n]</td>\n",
              "      <td>[\\nCloth, Black\\n]</td>\n",
              "    </tr>\n",
              "    <tr>\n",
              "      <th>Body</th>\n",
              "      <td>[\\n, Sedans, \\n]</td>\n",
              "      <td>[\\n, Sedans, \\n]</td>\n",
              "      <td>[\\n, Sedans, \\n]</td>\n",
              "    </tr>\n",
              "    <tr>\n",
              "      <th>Nr_of_Doors</th>\n",
              "      <td>[\\n5\\n]</td>\n",
              "      <td>[\\n3\\n]</td>\n",
              "      <td>[\\n4\\n]</td>\n",
              "    </tr>\n",
              "    <tr>\n",
              "      <th>Nr_of_Seats</th>\n",
              "      <td>[\\n5\\n]</td>\n",
              "      <td>[\\n4\\n]</td>\n",
              "      <td>[\\n4\\n]</td>\n",
              "    </tr>\n",
              "    <tr>\n",
              "      <th>Model_Code</th>\n",
              "      <td>[\\n0588/BDF\\n]</td>\n",
              "      <td>[\\n0588/BCY\\n]</td>\n",
              "      <td>NaN</td>\n",
              "    </tr>\n",
              "    <tr>\n",
              "      <th>Gearing_Type</th>\n",
              "      <td>[\\n, Automatic, \\n]</td>\n",
              "      <td>[\\n, Automatic, \\n]</td>\n",
              "      <td>[\\n, Automatic, \\n]</td>\n",
              "    </tr>\n",
              "    <tr>\n",
              "      <th>Displacement</th>\n",
              "      <td>[\\n1,422 cc\\n]</td>\n",
              "      <td>[\\n1,798 cc\\n]</td>\n",
              "      <td>[\\n1,598 cc\\n]</td>\n",
              "    </tr>\n",
              "    <tr>\n",
              "      <th>Cylinders</th>\n",
              "      <td>[\\n3\\n]</td>\n",
              "      <td>[\\n4\\n]</td>\n",
              "      <td>NaN</td>\n",
              "    </tr>\n",
              "    <tr>\n",
              "      <th>Weight</th>\n",
              "      <td>[\\n1,220 kg\\n]</td>\n",
              "      <td>[\\n1,255 kg\\n]</td>\n",
              "      <td>NaN</td>\n",
              "    </tr>\n",
              "    <tr>\n",
              "      <th>Drive_Chain</th>\n",
              "      <td>[\\nfront\\n]</td>\n",
              "      <td>[\\nfront\\n]</td>\n",
              "      <td>[\\nfront\\n]</td>\n",
              "    </tr>\n",
              "    <tr>\n",
              "      <th>Fuel</th>\n",
              "      <td>[\\n, Diesel (Particulate Filter), \\n]</td>\n",
              "      <td>[\\n, Gasoline, \\n]</td>\n",
              "      <td>[\\n, Diesel (Particulate Filter), \\n]</td>\n",
              "    </tr>\n",
              "    <tr>\n",
              "      <th>Consumption</th>\n",
              "      <td>[[3.8 l/100 km (comb)], [4.3 l/100 km (city)],...</td>\n",
              "      <td>[[5.6 l/100 km (comb)], [7.1 l/100 km (city)],...</td>\n",
              "      <td>[[3.8 l/100 km (comb)], [4.4 l/100 km (city)],...</td>\n",
              "    </tr>\n",
              "    <tr>\n",
              "      <th>Co_2_Emission</th>\n",
              "      <td>[\\n99 g CO2/km (comb)\\n]</td>\n",
              "      <td>[\\n129 g CO2/km (comb)\\n]</td>\n",
              "      <td>[\\n99 g CO2/km (comb)\\n]</td>\n",
              "    </tr>\n",
              "    <tr>\n",
              "      <th>Emission_Class</th>\n",
              "      <td>[\\nEuro 6\\n]</td>\n",
              "      <td>[\\nEuro 6\\n]</td>\n",
              "      <td>[\\nEuro 6\\n]</td>\n",
              "    </tr>\n",
              "    <tr>\n",
              "      <th>Comfort_&amp;_Convenience</th>\n",
              "      <td>[Air conditioning, Armrest, Automatic climate ...</td>\n",
              "      <td>[Air conditioning, Automatic climate control, ...</td>\n",
              "      <td>[Air conditioning, Cruise control, Electrical ...</td>\n",
              "    </tr>\n",
              "    <tr>\n",
              "      <th>Entertainment_&amp;_Media</th>\n",
              "      <td>[Bluetooth, Hands-free equipment, On-board com...</td>\n",
              "      <td>[Bluetooth, Hands-free equipment, On-board com...</td>\n",
              "      <td>[MP3, On-board computer]</td>\n",
              "    </tr>\n",
              "    <tr>\n",
              "      <th>Extras</th>\n",
              "      <td>[Alloy wheels, Catalytic Converter, Voice Cont...</td>\n",
              "      <td>[Alloy wheels, Sport seats, Sport suspension, ...</td>\n",
              "      <td>[Alloy wheels, Voice Control]</td>\n",
              "    </tr>\n",
              "    <tr>\n",
              "      <th>Safety_&amp;_Security</th>\n",
              "      <td>[ABS, Central door lock, Daytime running light...</td>\n",
              "      <td>[ABS, Central door lock, Central door lock wit...</td>\n",
              "      <td>[ABS, Central door lock, Daytime running light...</td>\n",
              "    </tr>\n",
              "    <tr>\n",
              "      <th>Description</th>\n",
              "      <td>[\\n, Sicherheit:,  , Deaktivierung für Beifahr...</td>\n",
              "      <td>[\\nLangstreckenfahrzeug daher die hohe Kilomet...</td>\n",
              "      <td>[\\n, Fahrzeug-Nummer: AM-95365,  , Ehem. UPE 2...</td>\n",
              "    </tr>\n",
              "    <tr>\n",
              "      <th>Emission_Label</th>\n",
              "      <td>NaN</td>\n",
              "      <td>[\\n4 (Green)\\n]</td>\n",
              "      <td>[\\n4 (Green)\\n]</td>\n",
              "    </tr>\n",
              "    <tr>\n",
              "      <th>Gears</th>\n",
              "      <td>NaN</td>\n",
              "      <td>[\\n7\\n]</td>\n",
              "      <td>NaN</td>\n",
              "    </tr>\n",
              "    <tr>\n",
              "      <th>Country_Version</th>\n",
              "      <td>NaN</td>\n",
              "      <td>NaN</td>\n",
              "      <td>NaN</td>\n",
              "    </tr>\n",
              "  </tbody>\n",
              "</table>\n",
              "</div>\n",
              "      <button class=\"colab-df-convert\" onclick=\"convertToInteractive('df-a82fd3e3-594d-4894-a5c4-11a88bc1e259')\"\n",
              "              title=\"Convert this dataframe to an interactive table.\"\n",
              "              style=\"display:none;\">\n",
              "        \n",
              "  <svg xmlns=\"http://www.w3.org/2000/svg\" height=\"24px\"viewBox=\"0 0 24 24\"\n",
              "       width=\"24px\">\n",
              "    <path d=\"M0 0h24v24H0V0z\" fill=\"none\"/>\n",
              "    <path d=\"M18.56 5.44l.94 2.06.94-2.06 2.06-.94-2.06-.94-.94-2.06-.94 2.06-2.06.94zm-11 1L8.5 8.5l.94-2.06 2.06-.94-2.06-.94L8.5 2.5l-.94 2.06-2.06.94zm10 10l.94 2.06.94-2.06 2.06-.94-2.06-.94-.94-2.06-.94 2.06-2.06.94z\"/><path d=\"M17.41 7.96l-1.37-1.37c-.4-.4-.92-.59-1.43-.59-.52 0-1.04.2-1.43.59L10.3 9.45l-7.72 7.72c-.78.78-.78 2.05 0 2.83L4 21.41c.39.39.9.59 1.41.59.51 0 1.02-.2 1.41-.59l7.78-7.78 2.81-2.81c.8-.78.8-2.07 0-2.86zM5.41 20L4 18.59l7.72-7.72 1.47 1.35L5.41 20z\"/>\n",
              "  </svg>\n",
              "      </button>\n",
              "      \n",
              "  <style>\n",
              "    .colab-df-container {\n",
              "      display:flex;\n",
              "      flex-wrap:wrap;\n",
              "      gap: 12px;\n",
              "    }\n",
              "\n",
              "    .colab-df-convert {\n",
              "      background-color: #E8F0FE;\n",
              "      border: none;\n",
              "      border-radius: 50%;\n",
              "      cursor: pointer;\n",
              "      display: none;\n",
              "      fill: #1967D2;\n",
              "      height: 32px;\n",
              "      padding: 0 0 0 0;\n",
              "      width: 32px;\n",
              "    }\n",
              "\n",
              "    .colab-df-convert:hover {\n",
              "      background-color: #E2EBFA;\n",
              "      box-shadow: 0px 1px 2px rgba(60, 64, 67, 0.3), 0px 1px 3px 1px rgba(60, 64, 67, 0.15);\n",
              "      fill: #174EA6;\n",
              "    }\n",
              "\n",
              "    [theme=dark] .colab-df-convert {\n",
              "      background-color: #3B4455;\n",
              "      fill: #D2E3FC;\n",
              "    }\n",
              "\n",
              "    [theme=dark] .colab-df-convert:hover {\n",
              "      background-color: #434B5C;\n",
              "      box-shadow: 0px 1px 3px 1px rgba(0, 0, 0, 0.15);\n",
              "      filter: drop-shadow(0px 1px 2px rgba(0, 0, 0, 0.3));\n",
              "      fill: #FFFFFF;\n",
              "    }\n",
              "  </style>\n",
              "\n",
              "      <script>\n",
              "        const buttonEl =\n",
              "          document.querySelector('#df-a82fd3e3-594d-4894-a5c4-11a88bc1e259 button.colab-df-convert');\n",
              "        buttonEl.style.display =\n",
              "          google.colab.kernel.accessAllowed ? 'block' : 'none';\n",
              "\n",
              "        async function convertToInteractive(key) {\n",
              "          const element = document.querySelector('#df-a82fd3e3-594d-4894-a5c4-11a88bc1e259');\n",
              "          const dataTable =\n",
              "            await google.colab.kernel.invokeFunction('convertToInteractive',\n",
              "                                                     [key], {});\n",
              "          if (!dataTable) return;\n",
              "\n",
              "          const docLinkHtml = 'Like what you see? Visit the ' +\n",
              "            '<a target=\"_blank\" href=https://colab.research.google.com/notebooks/data_table.ipynb>data table notebook</a>'\n",
              "            + ' to learn more about interactive tables.';\n",
              "          element.innerHTML = '';\n",
              "          dataTable['output_type'] = 'display_data';\n",
              "          await google.colab.output.renderOutput(dataTable, element);\n",
              "          const docLink = document.createElement('div');\n",
              "          docLink.innerHTML = docLinkHtml;\n",
              "          element.appendChild(docLink);\n",
              "        }\n",
              "      </script>\n",
              "    </div>\n",
              "  </div>\n",
              "  "
            ]
          },
          "metadata": {},
          "execution_count": 881
        }
      ]
    },
    {
      "cell_type": "code",
      "source": [
        "df[\"Model\"].apply(lambda x: x[1])"
      ],
      "metadata": {
        "colab": {
          "base_uri": "https://localhost:8080/"
        },
        "id": "IEPnldmkhc_P",
        "outputId": "cb096dc4-beff-46a2-92f5-86c89bc4022f"
      },
      "execution_count": 882,
      "outputs": [
        {
          "output_type": "execute_result",
          "data": {
            "text/plain": [
              "0            A1\n",
              "1            A1\n",
              "2            A1\n",
              "3            A1\n",
              "4            A1\n",
              "          ...  \n",
              "15914    Espace\n",
              "15915    Espace\n",
              "15916    Espace\n",
              "15917    Espace\n",
              "15918    Espace\n",
              "Name: Model, Length: 15919, dtype: object"
            ]
          },
          "metadata": {},
          "execution_count": 882
        }
      ]
    },
    {
      "cell_type": "code",
      "source": [
        "df.Model.str[1]"
      ],
      "metadata": {
        "colab": {
          "base_uri": "https://localhost:8080/"
        },
        "id": "Up_8gkuIhc8n",
        "outputId": "57671dd1-ae96-42fd-9540-b001b5a9aae3"
      },
      "execution_count": 883,
      "outputs": [
        {
          "output_type": "execute_result",
          "data": {
            "text/plain": [
              "0            A1\n",
              "1            A1\n",
              "2            A1\n",
              "3            A1\n",
              "4            A1\n",
              "          ...  \n",
              "15914    Espace\n",
              "15915    Espace\n",
              "15916    Espace\n",
              "15917    Espace\n",
              "15918    Espace\n",
              "Name: Model, Length: 15919, dtype: object"
            ]
          },
          "metadata": {},
          "execution_count": 883
        }
      ]
    },
    {
      "cell_type": "code",
      "source": [
        "df[\"Model\"]=df.Model.str[1]"
      ],
      "metadata": {
        "id": "ea7g0CiRuNr_"
      },
      "execution_count": 884,
      "outputs": []
    },
    {
      "cell_type": "code",
      "source": [
        "df.Model.value_counts(dropna=False)"
      ],
      "metadata": {
        "colab": {
          "base_uri": "https://localhost:8080/"
        },
        "id": "dxqcwaNnuNpe",
        "outputId": "898f05fc-76c2-42ac-f24d-ee96311c3e84"
      },
      "execution_count": 885,
      "outputs": [
        {
          "output_type": "execute_result",
          "data": {
            "text/plain": [
              "A3          3097\n",
              "A1          2614\n",
              "Insignia    2598\n",
              "Astra       2526\n",
              "Corsa       2219\n",
              "Clio        1839\n",
              "Espace       991\n",
              "Duster        34\n",
              "A2             1\n",
              "Name: Model, dtype: int64"
            ]
          },
          "metadata": {},
          "execution_count": 885
        }
      ]
    },
    {
      "cell_type": "markdown",
      "source": [
        "I decided to keep \"Make&Model\" column and drop \"Make\" and \"Model\" columns .. "
      ],
      "metadata": {
        "id": "q0nYPWr7yQIf"
      }
    },
    {
      "cell_type": "code",
      "source": [
        "df.drop([\"Make\",\"Model\"], axis=1, inplace=True)"
      ],
      "metadata": {
        "id": "9XjrerT4uNm9"
      },
      "execution_count": 886,
      "outputs": []
    },
    {
      "cell_type": "markdown",
      "source": [
        "## short_description & description"
      ],
      "metadata": {
        "id": "HZusF9aqyns4"
      }
    },
    {
      "cell_type": "code",
      "source": [
        "df.info()"
      ],
      "metadata": {
        "colab": {
          "base_uri": "https://localhost:8080/"
        },
        "id": "akEoS7oCyxRa",
        "outputId": "67545436-d7c2-4e62-8241-779ef9ff6393"
      },
      "execution_count": 887,
      "outputs": [
        {
          "output_type": "stream",
          "name": "stdout",
          "text": [
            "<class 'pandas.core.frame.DataFrame'>\n",
            "RangeIndex: 15919 entries, 0 to 15918\n",
            "Data columns (total 43 columns):\n",
            " #   Column                 Non-Null Count  Dtype \n",
            "---  ------                 --------------  ----- \n",
            " 0   Make_Model             15919 non-null  object\n",
            " 1   Short_Description      15873 non-null  object\n",
            " 2   Body_Type              15859 non-null  object\n",
            " 3   Price                  15919 non-null  int64 \n",
            " 4   Vat                    11406 non-null  object\n",
            " 5   Km                     15919 non-null  object\n",
            " 6   Registration           15919 non-null  object\n",
            " 7   Prev_Owner             9091 non-null   object\n",
            " 8   hp                     15919 non-null  object\n",
            " 9   type                   15917 non-null  object\n",
            " 10  Previous_Owners        9279 non-null   object\n",
            " 11  Next_inspection        3535 non-null   object\n",
            " 12  Inspection_new         3932 non-null   object\n",
            " 13  Warranty               10499 non-null  object\n",
            " 14  Full_Service           8215 non-null   object\n",
            " 15  Non_Smoking_Vehicle    7177 non-null   object\n",
            " 16  Offer_Number           12744 non-null  object\n",
            " 17  First_Registration     14322 non-null  object\n",
            " 18  Body_Color             15322 non-null  object\n",
            " 19  Paint_Type             10147 non-null  object\n",
            " 20  Body_Color_Original    12160 non-null  object\n",
            " 21  Upholstery             12199 non-null  object\n",
            " 22  Body                   15859 non-null  object\n",
            " 23  Nr_of_Doors            15707 non-null  object\n",
            " 24  Nr_of_Seats            14942 non-null  object\n",
            " 25  Model_Code             4978 non-null   object\n",
            " 26  Gearing_Type           15919 non-null  object\n",
            " 27  Displacement           15423 non-null  object\n",
            " 28  Cylinders              10239 non-null  object\n",
            " 29  Weight                 8945 non-null   object\n",
            " 30  Drive_Chain            9061 non-null   object\n",
            " 31  Fuel                   15919 non-null  object\n",
            " 32  Consumption            14013 non-null  object\n",
            " 33  Co_2_Emission          14111 non-null  object\n",
            " 34  Emission_Class         12898 non-null  object\n",
            " 35  Comfort_&_Convenience  14999 non-null  object\n",
            " 36  Entertainment_&_Media  14545 non-null  object\n",
            " 37  Extras                 12957 non-null  object\n",
            " 38  Safety_&_Security      14937 non-null  object\n",
            " 39  Description            15919 non-null  object\n",
            " 40  Emission_Label         3985 non-null   object\n",
            " 41  Gears                  11207 non-null  object\n",
            " 42  Country_Version        7586 non-null   object\n",
            "dtypes: int64(1), object(42)\n",
            "memory usage: 5.2+ MB\n"
          ]
        }
      ]
    },
    {
      "cell_type": "code",
      "source": [
        "df.head(3)"
      ],
      "metadata": {
        "colab": {
          "base_uri": "https://localhost:8080/",
          "height": 433
        },
        "id": "pYefjE_wy-yo",
        "outputId": "86f148a3-f6c7-4bb2-c9ff-e5ab72ea00af"
      },
      "execution_count": 888,
      "outputs": [
        {
          "output_type": "execute_result",
          "data": {
            "text/plain": [
              "  Make_Model                                  Short_Description Body_Type  \\\n",
              "0    Audi A1        Sportback 1.4 TDI S-tronic Xenon Navi Klima    Sedans   \n",
              "1    Audi A1                                     1.8 TFSI sport    Sedans   \n",
              "2    Audi A1  Sportback 1.6 TDI S tronic Einparkhilfe plus+m...    Sedans   \n",
              "\n",
              "   Price               Vat         Km Registration         Prev_Owner      hp  \\\n",
              "0  15770    VAT deductible  56,013 km      01/2016  2 previous owners   66 kW   \n",
              "1  14500  Price negotiable  80,000 km      03/2017               None  141 kW   \n",
              "2  14640    VAT deductible  83,450 km      02/2016   1 previous owner   85 kW   \n",
              "\n",
              "                                      type Previous_Owners  \\\n",
              "0  [, Used, , Diesel (Particulate Filter)]           \\n2\\n   \n",
              "1                     [, Used, , Gasoline]             NaN   \n",
              "2  [, Used, , Diesel (Particulate Filter)]           \\n1\\n   \n",
              "\n",
              "                         Next_inspection         Inspection_new  \\\n",
              "0  [\\n06/2021\\n, \\n99 g CO2/km (comb)\\n]  [\\nYes\\n, \\nEuro 6\\n]   \n",
              "1                                    NaN                    NaN   \n",
              "2                                    NaN                    NaN   \n",
              "\n",
              "                           Warranty Full_Service Non_Smoking_Vehicle  \\\n",
              "0           [\\n, \\n, \\n4 (Green)\\n]     [\\n, \\n]            [\\n, \\n]   \n",
              "1                               NaN          NaN                 NaN   \n",
              "2  [\\n, \\n, \\n99 g CO2/km (comb)\\n]          NaN                 NaN   \n",
              "\n",
              "      Offer_Number First_Registration       Body_Color      Paint_Type  \\\n",
              "0  [\\nLR-062483\\n]     [\\n, 2016, \\n]  [\\n, Black, \\n]  [\\nMetallic\\n]   \n",
              "1              NaN     [\\n, 2017, \\n]    [\\n, Red, \\n]             NaN   \n",
              "2   [\\nAM-95365\\n]     [\\n, 2016, \\n]  [\\n, Black, \\n]  [\\nMetallic\\n]   \n",
              "\n",
              "            Body_Color_Original          Upholstery              Body  \\\n",
              "0           [\\nMythosschwarz\\n]  [\\nCloth, Black\\n]  [\\n, Sedans, \\n]   \n",
              "1                           NaN   [\\nCloth, Grey\\n]  [\\n, Sedans, \\n]   \n",
              "2  [\\nmythosschwarz metallic\\n]  [\\nCloth, Black\\n]  [\\n, Sedans, \\n]   \n",
              "\n",
              "  Nr_of_Doors Nr_of_Seats      Model_Code         Gearing_Type  \\\n",
              "0     [\\n5\\n]     [\\n5\\n]  [\\n0588/BDF\\n]  [\\n, Automatic, \\n]   \n",
              "1     [\\n3\\n]     [\\n4\\n]  [\\n0588/BCY\\n]  [\\n, Automatic, \\n]   \n",
              "2     [\\n4\\n]     [\\n4\\n]             NaN  [\\n, Automatic, \\n]   \n",
              "\n",
              "     Displacement Cylinders          Weight  Drive_Chain  \\\n",
              "0  [\\n1,422 cc\\n]   [\\n3\\n]  [\\n1,220 kg\\n]  [\\nfront\\n]   \n",
              "1  [\\n1,798 cc\\n]   [\\n4\\n]  [\\n1,255 kg\\n]  [\\nfront\\n]   \n",
              "2  [\\n1,598 cc\\n]       NaN             NaN  [\\nfront\\n]   \n",
              "\n",
              "                                    Fuel  \\\n",
              "0  [\\n, Diesel (Particulate Filter), \\n]   \n",
              "1                     [\\n, Gasoline, \\n]   \n",
              "2  [\\n, Diesel (Particulate Filter), \\n]   \n",
              "\n",
              "                                         Consumption  \\\n",
              "0  [[3.8 l/100 km (comb)], [4.3 l/100 km (city)],...   \n",
              "1  [[5.6 l/100 km (comb)], [7.1 l/100 km (city)],...   \n",
              "2  [[3.8 l/100 km (comb)], [4.4 l/100 km (city)],...   \n",
              "\n",
              "               Co_2_Emission Emission_Class  \\\n",
              "0   [\\n99 g CO2/km (comb)\\n]   [\\nEuro 6\\n]   \n",
              "1  [\\n129 g CO2/km (comb)\\n]   [\\nEuro 6\\n]   \n",
              "2   [\\n99 g CO2/km (comb)\\n]   [\\nEuro 6\\n]   \n",
              "\n",
              "                               Comfort_&_Convenience  \\\n",
              "0  [Air conditioning, Armrest, Automatic climate ...   \n",
              "1  [Air conditioning, Automatic climate control, ...   \n",
              "2  [Air conditioning, Cruise control, Electrical ...   \n",
              "\n",
              "                               Entertainment_&_Media  \\\n",
              "0  [Bluetooth, Hands-free equipment, On-board com...   \n",
              "1  [Bluetooth, Hands-free equipment, On-board com...   \n",
              "2                           [MP3, On-board computer]   \n",
              "\n",
              "                                              Extras  \\\n",
              "0  [Alloy wheels, Catalytic Converter, Voice Cont...   \n",
              "1  [Alloy wheels, Sport seats, Sport suspension, ...   \n",
              "2                      [Alloy wheels, Voice Control]   \n",
              "\n",
              "                                   Safety_&_Security  \\\n",
              "0  [ABS, Central door lock, Daytime running light...   \n",
              "1  [ABS, Central door lock, Central door lock wit...   \n",
              "2  [ABS, Central door lock, Daytime running light...   \n",
              "\n",
              "                                         Description   Emission_Label  \\\n",
              "0  [\\n, Sicherheit:,  , Deaktivierung für Beifahr...              NaN   \n",
              "1  [\\nLangstreckenfahrzeug daher die hohe Kilomet...  [\\n4 (Green)\\n]   \n",
              "2  [\\n, Fahrzeug-Nummer: AM-95365,  , Ehem. UPE 2...  [\\n4 (Green)\\n]   \n",
              "\n",
              "     Gears Country_Version  \n",
              "0      NaN             NaN  \n",
              "1  [\\n7\\n]             NaN  \n",
              "2      NaN             NaN  "
            ],
            "text/html": [
              "\n",
              "  <div id=\"df-1a86d1ad-c85b-49d5-a2e6-7be2d5eb0dd8\">\n",
              "    <div class=\"colab-df-container\">\n",
              "      <div>\n",
              "<style scoped>\n",
              "    .dataframe tbody tr th:only-of-type {\n",
              "        vertical-align: middle;\n",
              "    }\n",
              "\n",
              "    .dataframe tbody tr th {\n",
              "        vertical-align: top;\n",
              "    }\n",
              "\n",
              "    .dataframe thead th {\n",
              "        text-align: right;\n",
              "    }\n",
              "</style>\n",
              "<table border=\"1\" class=\"dataframe\">\n",
              "  <thead>\n",
              "    <tr style=\"text-align: right;\">\n",
              "      <th></th>\n",
              "      <th>Make_Model</th>\n",
              "      <th>Short_Description</th>\n",
              "      <th>Body_Type</th>\n",
              "      <th>Price</th>\n",
              "      <th>Vat</th>\n",
              "      <th>Km</th>\n",
              "      <th>Registration</th>\n",
              "      <th>Prev_Owner</th>\n",
              "      <th>hp</th>\n",
              "      <th>type</th>\n",
              "      <th>Previous_Owners</th>\n",
              "      <th>Next_inspection</th>\n",
              "      <th>Inspection_new</th>\n",
              "      <th>Warranty</th>\n",
              "      <th>Full_Service</th>\n",
              "      <th>Non_Smoking_Vehicle</th>\n",
              "      <th>Offer_Number</th>\n",
              "      <th>First_Registration</th>\n",
              "      <th>Body_Color</th>\n",
              "      <th>Paint_Type</th>\n",
              "      <th>Body_Color_Original</th>\n",
              "      <th>Upholstery</th>\n",
              "      <th>Body</th>\n",
              "      <th>Nr_of_Doors</th>\n",
              "      <th>Nr_of_Seats</th>\n",
              "      <th>Model_Code</th>\n",
              "      <th>Gearing_Type</th>\n",
              "      <th>Displacement</th>\n",
              "      <th>Cylinders</th>\n",
              "      <th>Weight</th>\n",
              "      <th>Drive_Chain</th>\n",
              "      <th>Fuel</th>\n",
              "      <th>Consumption</th>\n",
              "      <th>Co_2_Emission</th>\n",
              "      <th>Emission_Class</th>\n",
              "      <th>Comfort_&amp;_Convenience</th>\n",
              "      <th>Entertainment_&amp;_Media</th>\n",
              "      <th>Extras</th>\n",
              "      <th>Safety_&amp;_Security</th>\n",
              "      <th>Description</th>\n",
              "      <th>Emission_Label</th>\n",
              "      <th>Gears</th>\n",
              "      <th>Country_Version</th>\n",
              "    </tr>\n",
              "  </thead>\n",
              "  <tbody>\n",
              "    <tr>\n",
              "      <th>0</th>\n",
              "      <td>Audi A1</td>\n",
              "      <td>Sportback 1.4 TDI S-tronic Xenon Navi Klima</td>\n",
              "      <td>Sedans</td>\n",
              "      <td>15770</td>\n",
              "      <td>VAT deductible</td>\n",
              "      <td>56,013 km</td>\n",
              "      <td>01/2016</td>\n",
              "      <td>2 previous owners</td>\n",
              "      <td>66 kW</td>\n",
              "      <td>[, Used, , Diesel (Particulate Filter)]</td>\n",
              "      <td>\\n2\\n</td>\n",
              "      <td>[\\n06/2021\\n, \\n99 g CO2/km (comb)\\n]</td>\n",
              "      <td>[\\nYes\\n, \\nEuro 6\\n]</td>\n",
              "      <td>[\\n, \\n, \\n4 (Green)\\n]</td>\n",
              "      <td>[\\n, \\n]</td>\n",
              "      <td>[\\n, \\n]</td>\n",
              "      <td>[\\nLR-062483\\n]</td>\n",
              "      <td>[\\n, 2016, \\n]</td>\n",
              "      <td>[\\n, Black, \\n]</td>\n",
              "      <td>[\\nMetallic\\n]</td>\n",
              "      <td>[\\nMythosschwarz\\n]</td>\n",
              "      <td>[\\nCloth, Black\\n]</td>\n",
              "      <td>[\\n, Sedans, \\n]</td>\n",
              "      <td>[\\n5\\n]</td>\n",
              "      <td>[\\n5\\n]</td>\n",
              "      <td>[\\n0588/BDF\\n]</td>\n",
              "      <td>[\\n, Automatic, \\n]</td>\n",
              "      <td>[\\n1,422 cc\\n]</td>\n",
              "      <td>[\\n3\\n]</td>\n",
              "      <td>[\\n1,220 kg\\n]</td>\n",
              "      <td>[\\nfront\\n]</td>\n",
              "      <td>[\\n, Diesel (Particulate Filter), \\n]</td>\n",
              "      <td>[[3.8 l/100 km (comb)], [4.3 l/100 km (city)],...</td>\n",
              "      <td>[\\n99 g CO2/km (comb)\\n]</td>\n",
              "      <td>[\\nEuro 6\\n]</td>\n",
              "      <td>[Air conditioning, Armrest, Automatic climate ...</td>\n",
              "      <td>[Bluetooth, Hands-free equipment, On-board com...</td>\n",
              "      <td>[Alloy wheels, Catalytic Converter, Voice Cont...</td>\n",
              "      <td>[ABS, Central door lock, Daytime running light...</td>\n",
              "      <td>[\\n, Sicherheit:,  , Deaktivierung für Beifahr...</td>\n",
              "      <td>NaN</td>\n",
              "      <td>NaN</td>\n",
              "      <td>NaN</td>\n",
              "    </tr>\n",
              "    <tr>\n",
              "      <th>1</th>\n",
              "      <td>Audi A1</td>\n",
              "      <td>1.8 TFSI sport</td>\n",
              "      <td>Sedans</td>\n",
              "      <td>14500</td>\n",
              "      <td>Price negotiable</td>\n",
              "      <td>80,000 km</td>\n",
              "      <td>03/2017</td>\n",
              "      <td>None</td>\n",
              "      <td>141 kW</td>\n",
              "      <td>[, Used, , Gasoline]</td>\n",
              "      <td>NaN</td>\n",
              "      <td>NaN</td>\n",
              "      <td>NaN</td>\n",
              "      <td>NaN</td>\n",
              "      <td>NaN</td>\n",
              "      <td>NaN</td>\n",
              "      <td>NaN</td>\n",
              "      <td>[\\n, 2017, \\n]</td>\n",
              "      <td>[\\n, Red, \\n]</td>\n",
              "      <td>NaN</td>\n",
              "      <td>NaN</td>\n",
              "      <td>[\\nCloth, Grey\\n]</td>\n",
              "      <td>[\\n, Sedans, \\n]</td>\n",
              "      <td>[\\n3\\n]</td>\n",
              "      <td>[\\n4\\n]</td>\n",
              "      <td>[\\n0588/BCY\\n]</td>\n",
              "      <td>[\\n, Automatic, \\n]</td>\n",
              "      <td>[\\n1,798 cc\\n]</td>\n",
              "      <td>[\\n4\\n]</td>\n",
              "      <td>[\\n1,255 kg\\n]</td>\n",
              "      <td>[\\nfront\\n]</td>\n",
              "      <td>[\\n, Gasoline, \\n]</td>\n",
              "      <td>[[5.6 l/100 km (comb)], [7.1 l/100 km (city)],...</td>\n",
              "      <td>[\\n129 g CO2/km (comb)\\n]</td>\n",
              "      <td>[\\nEuro 6\\n]</td>\n",
              "      <td>[Air conditioning, Automatic climate control, ...</td>\n",
              "      <td>[Bluetooth, Hands-free equipment, On-board com...</td>\n",
              "      <td>[Alloy wheels, Sport seats, Sport suspension, ...</td>\n",
              "      <td>[ABS, Central door lock, Central door lock wit...</td>\n",
              "      <td>[\\nLangstreckenfahrzeug daher die hohe Kilomet...</td>\n",
              "      <td>[\\n4 (Green)\\n]</td>\n",
              "      <td>[\\n7\\n]</td>\n",
              "      <td>NaN</td>\n",
              "    </tr>\n",
              "    <tr>\n",
              "      <th>2</th>\n",
              "      <td>Audi A1</td>\n",
              "      <td>Sportback 1.6 TDI S tronic Einparkhilfe plus+m...</td>\n",
              "      <td>Sedans</td>\n",
              "      <td>14640</td>\n",
              "      <td>VAT deductible</td>\n",
              "      <td>83,450 km</td>\n",
              "      <td>02/2016</td>\n",
              "      <td>1 previous owner</td>\n",
              "      <td>85 kW</td>\n",
              "      <td>[, Used, , Diesel (Particulate Filter)]</td>\n",
              "      <td>\\n1\\n</td>\n",
              "      <td>NaN</td>\n",
              "      <td>NaN</td>\n",
              "      <td>[\\n, \\n, \\n99 g CO2/km (comb)\\n]</td>\n",
              "      <td>NaN</td>\n",
              "      <td>NaN</td>\n",
              "      <td>[\\nAM-95365\\n]</td>\n",
              "      <td>[\\n, 2016, \\n]</td>\n",
              "      <td>[\\n, Black, \\n]</td>\n",
              "      <td>[\\nMetallic\\n]</td>\n",
              "      <td>[\\nmythosschwarz metallic\\n]</td>\n",
              "      <td>[\\nCloth, Black\\n]</td>\n",
              "      <td>[\\n, Sedans, \\n]</td>\n",
              "      <td>[\\n4\\n]</td>\n",
              "      <td>[\\n4\\n]</td>\n",
              "      <td>NaN</td>\n",
              "      <td>[\\n, Automatic, \\n]</td>\n",
              "      <td>[\\n1,598 cc\\n]</td>\n",
              "      <td>NaN</td>\n",
              "      <td>NaN</td>\n",
              "      <td>[\\nfront\\n]</td>\n",
              "      <td>[\\n, Diesel (Particulate Filter), \\n]</td>\n",
              "      <td>[[3.8 l/100 km (comb)], [4.4 l/100 km (city)],...</td>\n",
              "      <td>[\\n99 g CO2/km (comb)\\n]</td>\n",
              "      <td>[\\nEuro 6\\n]</td>\n",
              "      <td>[Air conditioning, Cruise control, Electrical ...</td>\n",
              "      <td>[MP3, On-board computer]</td>\n",
              "      <td>[Alloy wheels, Voice Control]</td>\n",
              "      <td>[ABS, Central door lock, Daytime running light...</td>\n",
              "      <td>[\\n, Fahrzeug-Nummer: AM-95365,  , Ehem. UPE 2...</td>\n",
              "      <td>[\\n4 (Green)\\n]</td>\n",
              "      <td>NaN</td>\n",
              "      <td>NaN</td>\n",
              "    </tr>\n",
              "  </tbody>\n",
              "</table>\n",
              "</div>\n",
              "      <button class=\"colab-df-convert\" onclick=\"convertToInteractive('df-1a86d1ad-c85b-49d5-a2e6-7be2d5eb0dd8')\"\n",
              "              title=\"Convert this dataframe to an interactive table.\"\n",
              "              style=\"display:none;\">\n",
              "        \n",
              "  <svg xmlns=\"http://www.w3.org/2000/svg\" height=\"24px\"viewBox=\"0 0 24 24\"\n",
              "       width=\"24px\">\n",
              "    <path d=\"M0 0h24v24H0V0z\" fill=\"none\"/>\n",
              "    <path d=\"M18.56 5.44l.94 2.06.94-2.06 2.06-.94-2.06-.94-.94-2.06-.94 2.06-2.06.94zm-11 1L8.5 8.5l.94-2.06 2.06-.94-2.06-.94L8.5 2.5l-.94 2.06-2.06.94zm10 10l.94 2.06.94-2.06 2.06-.94-2.06-.94-.94-2.06-.94 2.06-2.06.94z\"/><path d=\"M17.41 7.96l-1.37-1.37c-.4-.4-.92-.59-1.43-.59-.52 0-1.04.2-1.43.59L10.3 9.45l-7.72 7.72c-.78.78-.78 2.05 0 2.83L4 21.41c.39.39.9.59 1.41.59.51 0 1.02-.2 1.41-.59l7.78-7.78 2.81-2.81c.8-.78.8-2.07 0-2.86zM5.41 20L4 18.59l7.72-7.72 1.47 1.35L5.41 20z\"/>\n",
              "  </svg>\n",
              "      </button>\n",
              "      \n",
              "  <style>\n",
              "    .colab-df-container {\n",
              "      display:flex;\n",
              "      flex-wrap:wrap;\n",
              "      gap: 12px;\n",
              "    }\n",
              "\n",
              "    .colab-df-convert {\n",
              "      background-color: #E8F0FE;\n",
              "      border: none;\n",
              "      border-radius: 50%;\n",
              "      cursor: pointer;\n",
              "      display: none;\n",
              "      fill: #1967D2;\n",
              "      height: 32px;\n",
              "      padding: 0 0 0 0;\n",
              "      width: 32px;\n",
              "    }\n",
              "\n",
              "    .colab-df-convert:hover {\n",
              "      background-color: #E2EBFA;\n",
              "      box-shadow: 0px 1px 2px rgba(60, 64, 67, 0.3), 0px 1px 3px 1px rgba(60, 64, 67, 0.15);\n",
              "      fill: #174EA6;\n",
              "    }\n",
              "\n",
              "    [theme=dark] .colab-df-convert {\n",
              "      background-color: #3B4455;\n",
              "      fill: #D2E3FC;\n",
              "    }\n",
              "\n",
              "    [theme=dark] .colab-df-convert:hover {\n",
              "      background-color: #434B5C;\n",
              "      box-shadow: 0px 1px 3px 1px rgba(0, 0, 0, 0.15);\n",
              "      filter: drop-shadow(0px 1px 2px rgba(0, 0, 0, 0.3));\n",
              "      fill: #FFFFFF;\n",
              "    }\n",
              "  </style>\n",
              "\n",
              "      <script>\n",
              "        const buttonEl =\n",
              "          document.querySelector('#df-1a86d1ad-c85b-49d5-a2e6-7be2d5eb0dd8 button.colab-df-convert');\n",
              "        buttonEl.style.display =\n",
              "          google.colab.kernel.accessAllowed ? 'block' : 'none';\n",
              "\n",
              "        async function convertToInteractive(key) {\n",
              "          const element = document.querySelector('#df-1a86d1ad-c85b-49d5-a2e6-7be2d5eb0dd8');\n",
              "          const dataTable =\n",
              "            await google.colab.kernel.invokeFunction('convertToInteractive',\n",
              "                                                     [key], {});\n",
              "          if (!dataTable) return;\n",
              "\n",
              "          const docLinkHtml = 'Like what you see? Visit the ' +\n",
              "            '<a target=\"_blank\" href=https://colab.research.google.com/notebooks/data_table.ipynb>data table notebook</a>'\n",
              "            + ' to learn more about interactive tables.';\n",
              "          element.innerHTML = '';\n",
              "          dataTable['output_type'] = 'display_data';\n",
              "          await google.colab.output.renderOutput(dataTable, element);\n",
              "          const docLink = document.createElement('div');\n",
              "          docLink.innerHTML = docLinkHtml;\n",
              "          element.appendChild(docLink);\n",
              "        }\n",
              "      </script>\n",
              "    </div>\n",
              "  </div>\n",
              "  "
            ]
          },
          "metadata": {},
          "execution_count": 888
        }
      ]
    },
    {
      "cell_type": "code",
      "source": [
        "df.Short_Description.value_counts(dropna=False)\n",
        "#we can obtaiın tese informations from other columns"
      ],
      "metadata": {
        "colab": {
          "base_uri": "https://localhost:8080/"
        },
        "id": "xc_2WKibuNkc",
        "outputId": "0b7d52f7-f5d9-4de0-a0dc-a3a85ea77f57"
      },
      "execution_count": 889,
      "outputs": [
        {
          "output_type": "execute_result",
          "data": {
            "text/plain": [
              "SPB 1.6 TDI 116 CV S tronic Sport                 64\n",
              "NaN                                               46\n",
              "1.4 66kW (90CV) Selective                         40\n",
              "MOVE KLIMA CD USB ALLWETTER BLUETOOTH             38\n",
              "SPB 30 TDI S tronic Business                      35\n",
              "                                                  ..\n",
              "K Sports Tourer Business **Navi*Voll**             1\n",
              "1.0 Turbo ecoFLEX Automatic Elective Park Navi     1\n",
              "1.6 CDTI Business *Navi*Automatik*Spurh.*          1\n",
              "1.6 136 CV Automatica Navi E 6 Garanzia Full       1\n",
              "TCe 225 EDC GPF LIM Deluxe Pano,RFK                1\n",
              "Name: Short_Description, Length: 10002, dtype: int64"
            ]
          },
          "metadata": {},
          "execution_count": 889
        }
      ]
    },
    {
      "cell_type": "code",
      "source": [
        "df['Description'].astype('str').value_counts(dropna=False)"
      ],
      "metadata": {
        "colab": {
          "base_uri": "https://localhost:8080/"
        },
        "id": "6_m-AaeLz-ij",
        "outputId": "1a50c51b-716c-432b-ed32-062b4554f233"
      },
      "execution_count": 890,
      "outputs": [
        {
          "output_type": "execute_result",
          "data": {
            "text/plain": [
              "[]                                                                                                                                                                                                                                                                                                                                                                                                                                                                                                                                                                                                                                                                                                                                                                                                                                                                                                                                                                                                                                                                                                                                                                                                                                                                                                                                                                                                                                                                                                                                                                                                                                                                                                                                                                                                                                                                                                                                                                                                                                                                                                                                                                                                                                                                                                                                                                                                                                                                                                                                                                                                                                                                                                                                                                                                                                                                                               636\n",
              "['\\n', '\\n']                                                                                                                                                                                                                                                                                                                                                                                                                                                                                                                                                                                                                                                                                                                                                                                                                                                                                                                                                                                                                                                                                                                                                                                                                                                                                                                                                                                                                                                                                                                                                                                                                                                                                                                                                                                                                                                                                                                                                                                                                                                                                                                                                                                                                                                                                                                                                                                                                                                                                                                                                                                                                                                                                                                                                                                                                                                                                      30\n",
              "['\\n', 'Fahrzeugbeschreibung', ' Sichern Sie sich diesen Renault Clio 1.6 TCE Energy Sport Trophy zum Top-Preis inklusive dem ', 'AUTOHERO-RUNDUM-SORGLOS-PAKET', ' ', 'Infos:', ' 1.Hand, deutsche Auslieferung, Unfallfrei, scheckheftgepflegt', ' ', 'Highlights', ' ', 'Audio-Navigationssystem R-Link Evolution mit Touchscreen und Carminat TomTom', ' ', 'Sportsitze ', ' ', 'Sportfahrwerk', ' ', 'Scheinwerfer Full-LED ', 'Komfort', ' ', 'Geschwindigkeits-Regelanlage (Tempomat) ', ' ', 'Klimaanlage', ' ', 'Einparkhilfe hinten', ' ', 'Multifunktionslenkrad (Sport/Leder) mit Schaltwippen/-tasten ', ' ', 'Fensterheber elektr. mit Impulsgeber links/rechts vorn', ' ', 'Zentralverriegelung / Startanlage Handsfree Entry & Drive ', ' ', 'Berganfahr-Assistent (HSA) ', 'Multimedia', ' ', 'Audiosystem: Radio R & GO (Bluetooth, DAB-Tuner)', ' ', 'Bordcomputer', ' ', 'Freisprecheinrichtung Bluetooth ', ' ', 'USB-Anschluss inkl. AUX-IN-Anschluss (Plug & Music) ', 'Licht und Sicht', ' ', 'Außenspiegel elektr. verstell- und heizbar ', ' ', 'Licht- und Regensensor ', ' ', 'Tagfahrlicht LED ', ' ', 'Nebelscheinwerfer LED ', ' ', 'Coming-Home-Lichtfunktion ', ' ', 'Heckleuchten LED ', 'Sicherheit', ' ', 'Isofix-Aufnahmen für Kindersitz ', ' ', 'Seitenairbag vorn', ' ', 'Wegfahrsperre', ' ', 'Differentialsperre', ' ', 'Bremsassistent ', ' ', 'Elektron. Stabilitäts-Programm (ESP)', ' ', 'Anti-Blockier-System (ABS)', ' ', 'Anti-Submarining-Airbag im Fond', ' ', 'Airbag Fahrer-/Beifahrerseite ', ' ', 'Differentialsperre ', ' ', 'Reifendruck-Kontrollsystem ', ' ', 'Untersteuerungskontrolle (USC) ', ' ', 'Antischlupfregelung (ASR) ', 'Weiteres', ' ', 'Start/Stop-Anlage ', ' ', 'Servolenkung geschwindigkeitsabhängig', ' ', 'R.S. Drive (Fahrmodusschalter) ', ' ', 'Gepäckraumabdeckung / Rollo ', ' ', 'Heckdiffusor ', ' ', 'LM-Felgen ', ' ', 'Heckspoiler (Renault Sport) ', ' ', 'Pedale Aluminium ', ' ', 'Energierückgewinnung (Energy Smart Management) ', ' ', 'Elektr. Bremskraftverteilung ', ' ', 'Reifen-Reparaturkit ', ' ', 'Sitzbezug / Polsterung: Stoff ', ' Ihr ', 'AUTOHERO-RUNDUM-SORGLOS-PAKET', ' beinhaltet:', 'Kostenlose Lieferung in Ihre Nähe', 'Optische & technische Aufbereitung', 'Mindestens 12 Monate gültige HU und AU', '1-Jahr-Premium-Garantie', 'Zulassung inklusive ', '14-Tage-Rückgaberecht', 'Markenunabhängige Inzahlungnahme ', 'Individuelle Finanzierungen zu fairen Konditionen', ' ', 'HIER GEHT ES ZUR 360° - ANSICHT DES FAHRZEUGES:', ':', 'https://www.autohero.com/de/renault-clio-1-6-tce-energy-renault-sport-trophy/id/f7ca29bf-e005-453f-bbc9-8c6fe892dec6/', ' ', 'Haftungsausschluss', ':', 'Für Angaben vom Verkäufer, des Herstellers oder von Datenbankabfragen übernimmt Autohero keine Haftung. Änderungen, Zwischenverkauf und Irrtümer sind vorbehalten.\\n']     27\n",
              "['\\nPosibilidad de prueba del vehículo hasta 5 días. Consultar condiciones. PVP para particulares. Varias unidades y colores disponibles. Precios publicados para vehículos industriales (furgonetas) válidos para compradores autónomos o empresas, consultar condiciones para particulares. Las imágenes y kilómetros pueden no corresponder con el modelo anunciado. Para confirmar póngase en contacto con nuestro departamento comercial. Consulta las excepcionales condiciones de financiación que tenemos disponibles. Precio de venta final IVA y gastos de transferencia incluidos. Horario de atención al cliente: Lunes a Viernes de 09:00 a 18:00.\\n']                                                                                                                                                                                                                                                                                                                                                                                                                                                                                                                                                                                                                                                                                                                                                                                                                                                                                                                                                                                                                                                                                                                                                                                                                                                                                                                                                                                                                                                                                                                                                                                                                                                                                                                                                                                                                                                                                                                                                                                                                                                                                                                                                                                                                               27\n",
              "['\\nSichern Sie sich diesen RENAULT CLIO 1.2 LIMITED zum Top-Preis inklusive dem', 'AUTOHERO-RUNDUM-SORGLOS-PAKET', ' ', 'Infos:', ' 2.Hand, mindestens 12 Monate gültige HU und AU, deutsche Ausführung, unfallfrei ', ' ', 'Highlights', ' ', 'Audio-Navigationssystem mit Touchscreen-Farbdisplay', 'Komfort', ' ', 'Klimaanlage ', ' ', 'Multifunktionslenkrad in Leder ', ' ', 'Berganfahr-Assistent (HSA)', ' ', 'Fensterheber elektrisch vorn ', ' ', 'Geschwindigkeits-Regelanlage (Tempomat) ', ' ', 'Heckscheibe heizbar ', ' ', 'Sitz vorn links höhenverstellbar', ' ', 'Sitz vorn rechts umklappbar ', ' ', 'Stau-/Ablagefach im Laderaumboden ', ' ', 'Zentralverriegelung mit Fernbedienung ', 'Multimedia', ' ', 'Radio R&GO', ' ', 'Bluetooth Freisprechanlage ', ' ', 'USB-/AUX-Schnittstelle ', ' ', 'Bordcomputer', ' ', 'Licht und Sicht', ' ', 'Tagfahrlicht LED ', ' ', 'Außenspiegel elektrisch verstell- und heizbar', 'Sicherheit', ' ', 'Airbag für Fahrer und Beifahrer', ' ', 'Beifahrerairbag deaktivierbar ', ' ', 'Seitenairbags vorn ', ' ', 'Kopfairbagsystem', ' ', 'Anti-Blockier-System (ABS)', ' ', 'Elektronische Bremskraftverteilung ', ' ', 'Elektronische Stabilitäts-Programm (ESP) ', ' ', 'Reifen-Reparaturkit ', ' ', 'Reifendruck-Kontrollsystem ', ' ', 'Untersteuerungskontrolle (USC) ', ' ', 'ISOFIX Kindersitzverankerung ', 'Weiteres', ' ', 'Dachreling silber ', ' ', 'Look-Paket Chrom (außen) ', ' ', 'Look-Paket Grau (innen) ', ' ', 'R&GO-Paket ', ' ', 'Style-Paket ', ' Ihr ', 'AUTOHERO-RUNDUM-SORGLOS-PAKET', ' beinhaltet:', 'Kostenlose Lieferung in Ihre Nähe', 'Optische & technische Aufbereitung', 'Mindestens 12 Monate gültige HU und AU', '1-Jahr-Premium-Garantie', 'Zulassung inklusive ', '14-Tage-Rückgaberecht', 'Markenunabhängige Inzahlungnahme ', 'Individuelle Finanzierungen zu fairen Konditionen', ' ', 'HIER GEHT ES ZUR 360° - ANSICHT DES FAHRZEUGES:', ':', 'https://www.autohero.com/de/renault-clio-1-2-limited/id/30f99516-8785-47e7-a4a3-6cdac4d8e633/', ' ', 'Haftungsausschluss', ':', 'Für Angaben vom Verkäufer, des Herstellers oder von Datenbankabfragen übernimmt Autohero keine Haftung. Änderungen, Zwischenverkauf und Irrtümer sind vorbehalten.\\n']                                                                                                                                                                                                                                                                                                                                                                                                                                                                                                                                                                                                                                   27\n",
              "                                                                                                                                                                                                                                                                                                                                                                                                                                                                                                                                                                                                                                                                                                                                                                                                                                                                                                                                                                                                                                                                                                                                                                                                                                                                                                                                                                                                                                                                                                                                                                                                                                                                                                                                                                                                                                                                                                                                                                                                                                                                                                                                                                                                                                                                                                                                                                                                                                                                                                                                                                                                                                                                                                                                                                                                                                                                                                ... \n",
              "['\\nPratica\\xa067374', 'Airbag fullsize per conducente e passeggero, Alzacristalli elettrici ant. e post. con funzione attivaz. a pressione, Assetto dinamico, Audi drive select, Inserti in micrometallic argento, Kit riparazione pneumatici, Pacchetto di navigazione, Piano di copertura del vano bagagli estraibile, Presa AUX-IN, Proiettori allo Xenon Plus con reg. aut. prof. fari, Lavafari, Rivestimenti dei sedili in tessuto, Serbatoio AdBlue, Sistema controllo pressione pneumatici, Sistema di ancoraggio ISOFIX e 3° punto di ancoraggio Top Tether sui sedili post. laterali, Sistema di informazioni per il conducente con display monocromatico, Tappetini anteriori e posteriori, Versione Business, Volante sportivo multifunzionale in pelle 3 razze, ABS, EBV (Ripartitore elettronico della forza frenante), Airbag laterali anteriori integrati negli schienali dei sedili, Airbag per la testa, Airbag per le ginocchia (lato conducente), Appoggiatesta anteriori (2) e posteriori (3) regolabili, Radio MMI plus, Interfaccia Bluetooth, Appoggiabraccia centrale anteriore, Cambio manuale, Cerchi in lega 7 J x 16\" a 5 razze a stella, Chiusura centralizzata con telecomando, Regolatore di velocità, ESC - Sistema elettronico di controllo della stabilizzazione con bloccaggio trasversale elettronico, ASR - Dispositivo di controllo della trazione, EDS (Dispositivo antislittamento in partenza), Filtro anti particolato, Cinture di sicurezza con pretensionatore, Specchietti retrovisivi esterni riscaldabili e ripiegabili elettricamente, Schienale del sedile posteriore ribaltabile (divisibile in rapporto 40:60 o ribaltabile completam.), Sistema di ausilio al parcheggio posteriore, Servosterzo elettromeccanico, Tergilunotto\\n']                                                                                                                                                                                                                                                                                                                                                                                                                                                                                                                                                                                                                                                                                                                                                                                                                                                                                                                                                                                                                                                                                                          1\n",
              "['\\n', 'Getriebe:', ' Schaltgetriebe', 'Technik:', ' Bordcomputer, Start-Stop-Automatik', 'Assistenten:', ' Regensensor, Lichtsensor, Berganfahrassistent', 'Komfort:', ' Servolenkung, Zentralverriegelung, Elektrischer Fensterheber, Sitzheizung, Elektrische Aussenspiegel, Teilbare Ruecksitzlehne, Tempomat, Park Distance Control, Multifunktionslenkrad, Innenspiegel autom. abblendbar, Mittelarmlehne, Innenraumfilter, Lenksaeule einstellbar, Sportsitze, Klimaautomatik-2-Zonen', 'Sicht:', ' Xenon Scheinwerfer, Colorverglasung, Scheinwerferreinigung, Aussenspiegel beheizbar, Privacyverglasung', 'Sicherheit:', ' ABS, Airbag, Beifahrer-Airbag, Wegfahrsperre, Seitenairbags, ESP, Antriebsschlupfregelung, Reifendruckkontrolle, Traktionskontrolle, Kopfairbag, Knieairbag, Kindersitzbefestigung, Pannenkit', 'Entertainment:', ' CD, Radio, AUX-In, USB-Anschluss, MP3, Bluetooth, Freisprecheinrichtung', 'Umwelt:', ' Grüne Umweltplakette, ', 'Energieeffizienzklasse B', 'Qualität:', ' Garantie, Scheckheftgepflegt, HUAU neu, Nichtraucherfahrzeug', 'Sonstiges:', ' Metallic, Alufelgen, Dachreling, Gepaeckraumabdeckung, Stossfaenger in Wagenfarbe, Sportfahrwerk', 'Weiteres:', ' Connectivity-Paket inkl. Bluetooth-Schnittstelle, Klimaautomatik 2-Zonen, Optik-Paket schwarz Audi exclusive, Einparkhilfe (APS), Verglasung hinten abgedunkelt, Sitzheizung vorn, Dachreling (Aluminium), Soundsystem DSP / Audi Sound-System, Ablage- und Gepäckraum-Paket, Audi music interface, Scheibenwaschdüsen heizbar, Vorbereitung Navigationssystem, Adaptives Bremslicht, Anfahr-Assistent (hold assist), Antriebsart: Frontantrieb, Audi Drive Select, Außenspiegel Wagenfarbe, Blinkleuchten LED in Außenspiegel integriert, Bremsanlage mit Rekuperation - Bremsenergierückgewinnung, Bremsassistent, Dachspoiler, Dekoreinlagen Aluminium Mistral, Einstiegsleisten Aluminium, Elektron. Differentialsperre (EDS), Elektron. Stabilitätskontrolle (ESC), Elektron. Stabilitäts-Programm, Euro 6, Fahrer-Informations-System (FIS), Fensterheber elektrisch vorn und hinten, Frontscheibe Akustikglas, Fußmatten Velours, Getriebe 6-Gang, Heckscheibe heizbar, Interieur Aluminium-Optik, Isofix-Aufnahmen für Kindersitz, Kopfstützen hinten, Multi-Media-Interface MMI, Parkbremse elektro-mechanisch, Polster: Stoff Rallye, Servolenkung elektro-mechanisch, Sitze vorn mit ausziehbarer Oberschenkelauflage, Sitzhöhenverstellung, Sport/Lederlenkrad, Sport-Fahrwerk, Start/Stop-Anlage, Telefon-Vorbereitung mit Bluetooth-Schnittstelle, Wagenheber, Wärmeschutzverglasung, Xenon Plus, ZV mit Fernbedienung', '... Änderungen, Zwischenverkauf und Irrtümer vorbehalten.', ' by CG360.de\\n']                                                                                                                                                         1\n",
              "['\\n', 'Getriebe', '6-Gang', 'Licht und Sicht', 'Xenon-Scheinwerfer Plus (Abblend- und Fernlicht)', 'Technik und Sicherheit', 'Fahrerairbag', 'Airbag Fahrer-/Beifahrerseite', 'Seitenairbag vorn', 'Kopfairbags', 'Anti-Blockier-System (ABS)', 'Elektron. Stabilitätskontrolle (ESC)', 'Elektron. Differentialsperre (EDS)', 'Zentralverriegelung mit Fernbedienung', 'Schließ-/Startsystem Advanced Key (Komfortschlüssel)', 'Servolenkung elektro-mechanisch', 'Geschwindigkeits-Regelanlage (Tempomat)', 'Elektronische Wegfahrsperre', 'Bordcomputer', 'Reifendruck-Kontrollsystem', 'Assistenzsysteme', 'Fahrassistenz-System: Anfahr-Assistent (hold assist)', 'Multimedia', 'Multi-Media-Interface MMI Basic Plus / MMI Radio Plus', 'Audi Smartphone Interface', 'Komfort', 'Komfort-Klimaautomatik 2-Zonen', 'Einparkhilfe hinten (APS)', 'Fensterheber elektrisch', 'Licht- und Regensensor', 'Außenspiegel elektr. verstellbar beide', 'Scheibenwaschdüsen und Außenspiegel beheizt', 'Wärmeschutzverglasung grün getönt', 'Innenausstattung', 'Sitzheizung vorn', 'Lenkrad (Sport/Leder - 3-Speichen) mit Multifunktion', 'Mittelarmlehne vorn', 'Rücksitzlehne geteilt/klappbar', 'Aussenausstattung', 'LM-Felgen', 'Pakete', 'Komfort-Paket', 'Sonstiges', 'Rußpartikelfilter', 'Scheckheftgepflegt', 'Nichtraucherfahrzeug', 'Weitere Informationen', 'Schadstoffklasse: EURO 6D-TEMP', 'Connectivity-Paket', 'Glanz-Paket', 'LM-Felgen 7.5x17 (5-Speichen Y-Design)', 'Progressivlenkung', 'Antriebs-Schlupfregelung (ASR)', 'Elektron. Stabilitäts-Programm (ESP)', 'Getriebe 6-Gang', 'Lenkrad (Sport - 3-Speichen)', 'Parkbremse elektro-mechanisch', 'Sitze vorn höhenverstellbar', 'Vorrüstung Mobiltelefon/Handy mit Bluetooth-Schnittstelle', 'Audi music interface', 'Außenspiegel elektr. verstell- und heizbar beide', 'Vorbereitung Navigationssystem', 'Irrtümer und Änderungen vorbehalten.', 'Die im Internet angebotene Ausstattung ist kein Vertragsbestandteil.', 'Die Ausstattung muss vor Ort geprüft werden.', 'Das angebotene Fahrzeug kann von einer Rückrufaktion betroffen sein. Co2 Angaben können abweichen.', '\\n']                                                                                                                                                                                                                                                                                                                                                                                                                                                                                                                                                                                                                                                                                                                                   1\n",
              "['\\n', 'Aluminium-Gussräder im 5-Speichen-Stern-Design Größe 7 J x 16 mit Reifen 205/55 R 16', 'Dachreling eloxiert', 'Einparkhilfe hinten', 'Fahrerinformationssystem mit Farbdisplay', 'Lederlenkrad im 3-Speichen-Design mit Multifunktion plus', 'Ablage-/Gepäckraumpaket mit erweitertem USB-Buchsen-Angebot', 'Lichtpaket', \"Reifen 16'\", 'Anlaufvariante RdW', 'Vorbereitung für Anhängevorrichtung', 'Audi sound system', 'Reifen 205/55 R16 91W', 'Xenon plus', 'Allwetterlicht', 'Kopfstützen hinten (3 Stück)', 'MMI Radio plus', 'Zentralverriegelung mit Funkschlüssel', 'Bluetooth-Schnittstelle', 'Innenspiegel abblendbar', 'elektronische Stabilisierungskontrolle (ESC)', 'Airbags', '6-Gang-Schaltgetriebe', 'Seitenairbags vorn und Kopfairbagsystem', 'elektromechanische Servolenkung', 'Leuchtweitenregulierung automatisch-statisch', 'Scheibenwaschdüsen beheizbar vorn', 'Reifendruck-Kontrollanzeige', 'Tagfahrlicht', 'Start-Stop-System', 'AUX-IN-Anschluss', 'Kindersitzverankerung ISOFIX und Top Tether für die äußeren Fondsitze', 'Sitzbezüge in Stoff Index', 'Wärmeschutzverglasung', 'Akustikfrontscheibe', 'Außenspiegel links asphärisch', 'Außen-Sound Standard', 'Außenspiegel rechts (großes Sichtfeld) konvex', 'elektromechanische Parkbremse', 'Dachhimmel in Stoff felsgrau', 'Kraftstoffsystem Otto-Einspritzer', 'Linkslenker', 'Reifenreparaturset', 'Heckleuchten', 'Scheibenwaschanlage', 'Entriegelung Hintersitz Standard', 'Waschwasserstandsanzeige', 'Abgaskonzept EU6 AG/H/I', 'Frontantrieb', 'A3', 'Außenspiegelgehäuse in Wagenfarbe', 'Ohne erweitertem Sicherheitssystem', 'Geschwindigkeitsbegrenzungsanlage', 'Dachkantenspoiler', 'Heckscheibenwischer', 'Sportback', 'Kindersicherung manuell', 'Ohne Kamerasysteme/Umfeldsensorik', '4-Zyl. Ottomotor 1 5 L/110KW TSI Grundmotor ist: TJ7/N09/T9F', 'Nebelschlussleuchten', 'Nichtraucherausführung', 'Radstand', 'Doppeltonfanfare', 'Serienfahrwerk', '4 Türen', 'Modellbezeichnung gemäß neuer Leistungskennzeichnung', 'Warnleuchten', 'Zierleisten schwarz', 'Nichtraucherfahrzeug', 'Irrtümer Änderungen und Zwischenverkauf vorbehalten', 'sehr guter Zustand', 'Komfortklima', 'Aussenspiegel heizbar', 'elektrische Aussenspiegel', 'geteilte Rückbank', 'Scheckheft gepflegt', 'Fahrersitz höhenverstellbar', 'Beifahrersitz höhenverstellbar', '\\n']                                                                                                                                                                                                                                                                                                                                                                                                                                                                                                                 1\n",
              "['\\nDEK:[2691331]', 'Renault Espace Blue dCi 200CV EDC Business', 'Nuova da Immatricolare', 'COLORE: Grigio Titanio', 'INTERNO: Pelle+Tessuto', 'TRASMISSIONE: Cambio Automatico EDC', '---', 'ACCESSORI: ', '7 Posti', ', ', 'Cerchi in Lega 17, Navigatore con Display 8.7, Clima Automatico, Sensori di Parcheggio Anteriori e Posteriori con Retrocamera, Fari Full LED Pure Vision, Cruise Control, Renault Multisense', '---', 'Listino Nuovo 44.300 Euro', 'Prezzo Gruppo Carmeli: 39.700 Euro (Esclusa IPT e Messa in Strada)', 'IVA Esposta', 'In caso di Adesione alla PROMO GRUPPO CARMELI puoi Averla a 36.000 Euro', 'Contattaci per scoprire tutti i vantaggi della PROMO GRUPPO CARMELI', '____________________________________', 'Gruppo Carmeli S.p.A. è Concessionaria e Service ufficiale dei Marchi Renault, Dacia, Nissan, Mercedes e Smart per la provincia di Brescia e Bergamo ed opera nel mercato dell’auto da più di 40 anni.', 'Nelle sedi di Brescia (Nissan e Renault-Dacia Autospazio), di Coccaglio (Renault-Dacia e Nissan) e di Bergamo (Nissan) oltre a tutta la gamma di veicoli dei Marchi rappresentati, propone anche 2.000 auto a Km Zero e Aziendali di tutte le marche.', 'Offriamo Servizi:', '-VALUTAZIONE e PERMUTA del tuo USATO', '-ACQUISTO con pagamento immediato del tuo USATO', '-FINANZIAMENTI e LEASING agevolati', '-NOLEGGIO A LUNGO TERMINE di veicoli di tutte le marche', '-PACCHETTI ASSICURATIVI su misura con possibilità di garanzia del valore a Nuovo', '____________________________________', \"Sebbene sia stato fatto ogni ragionevole sforzo per assicurare l'esattezza delle informazioni riportate, vi potrebbero essere involontarie incongruenze riguardanti le immagini e la descrizione degli accessori, che pertanto non rappresentano vincolo contrattuale. Per ulteriori informazioni sulle condizioni economiche ti invitiamo a contattarci.\", '\\n']                                                                                                                                                                                                                                                                                                                                                                                                                                                                                                                                                                                                                                                                                                                                                                                                                                                                                                                                                                1\n",
              "Name: Description, Length: 12874, dtype: int64"
            ]
          },
          "metadata": {},
          "execution_count": 890
        }
      ]
    },
    {
      "cell_type": "code",
      "source": [
        "df[\"Description\"]\n",
        "#Description in German so its not useful"
      ],
      "metadata": {
        "colab": {
          "base_uri": "https://localhost:8080/"
        },
        "id": "jVlo-m6nuNh0",
        "outputId": "57e32eda-c06b-42ac-a9b4-b1bc0c19c0c6"
      },
      "execution_count": 891,
      "outputs": [
        {
          "output_type": "execute_result",
          "data": {
            "text/plain": [
              "0        [\\n, Sicherheit:,  , Deaktivierung für Beifahr...\n",
              "1        [\\nLangstreckenfahrzeug daher die hohe Kilomet...\n",
              "2        [\\n, Fahrzeug-Nummer: AM-95365,  , Ehem. UPE 2...\n",
              "3        [\\nAudi A1: , - 1e eigenaar , - Perfecte staat...\n",
              "4        [\\n, Technik & Sicherheit:, Xenon plus, Klimaa...\n",
              "                               ...                        \n",
              "15914    [\\nVettura visionabile nella sede in Via Roma ...\n",
              "15915    [\\nDach: Panorama-Glas-Schiebedach, Lackierung...\n",
              "15916    [\\n, Getriebe:,  Automatik, Technik:,  Bordcom...\n",
              "15917    [\\nDEK:[2691331], Renault Espace Blue dCi 200C...\n",
              "15918    [\\n, Sicherheit Airbags:,  , Seitenairbag,  , ...\n",
              "Name: Description, Length: 15919, dtype: object"
            ]
          },
          "metadata": {},
          "execution_count": 891
        }
      ]
    },
    {
      "cell_type": "code",
      "source": [
        "df.drop([\"Short_Description\",\"Description\"], axis=1, inplace=True)"
      ],
      "metadata": {
        "id": "C3ZfHaAeuNfO"
      },
      "execution_count": 892,
      "outputs": []
    },
    {
      "cell_type": "code",
      "source": [
        "df.head(5)"
      ],
      "metadata": {
        "colab": {
          "base_uri": "https://localhost:8080/",
          "height": 634
        },
        "id": "xNDYK_LVuNcu",
        "outputId": "6d12cd79-578a-4663-f234-5d067ffff1e4"
      },
      "execution_count": 893,
      "outputs": [
        {
          "output_type": "execute_result",
          "data": {
            "text/plain": [
              "  Make_Model Body_Type  Price               Vat         Km Registration  \\\n",
              "0    Audi A1    Sedans  15770    VAT deductible  56,013 km      01/2016   \n",
              "1    Audi A1    Sedans  14500  Price negotiable  80,000 km      03/2017   \n",
              "2    Audi A1    Sedans  14640    VAT deductible  83,450 km      02/2016   \n",
              "3    Audi A1    Sedans  14500              None  73,000 km      08/2016   \n",
              "4    Audi A1    Sedans  16790              None  16,200 km      05/2016   \n",
              "\n",
              "          Prev_Owner      hp                                     type  \\\n",
              "0  2 previous owners   66 kW  [, Used, , Diesel (Particulate Filter)]   \n",
              "1               None  141 kW                     [, Used, , Gasoline]   \n",
              "2   1 previous owner   85 kW  [, Used, , Diesel (Particulate Filter)]   \n",
              "3   1 previous owner   66 kW  [, Used, , Diesel (Particulate Filter)]   \n",
              "4   1 previous owner   66 kW  [, Used, , Diesel (Particulate Filter)]   \n",
              "\n",
              "  Previous_Owners                        Next_inspection  \\\n",
              "0           \\n2\\n  [\\n06/2021\\n, \\n99 g CO2/km (comb)\\n]   \n",
              "1             NaN                                    NaN   \n",
              "2           \\n1\\n                                    NaN   \n",
              "3           \\n1\\n                                    NaN   \n",
              "4           \\n1\\n                                    NaN   \n",
              "\n",
              "                       Inspection_new                          Warranty  \\\n",
              "0               [\\nYes\\n, \\nEuro 6\\n]           [\\n, \\n, \\n4 (Green)\\n]   \n",
              "1                                 NaN                               NaN   \n",
              "2                                 NaN  [\\n, \\n, \\n99 g CO2/km (comb)\\n]   \n",
              "3                                 NaN                               NaN   \n",
              "4  [\\nYes\\n, \\n109 g CO2/km (comb)\\n]              [\\n, \\n, \\nEuro 6\\n]   \n",
              "\n",
              "                       Full_Service   Non_Smoking_Vehicle     Offer_Number  \\\n",
              "0                          [\\n, \\n]              [\\n, \\n]  [\\nLR-062483\\n]   \n",
              "1                               NaN                   NaN              NaN   \n",
              "2                               NaN                   NaN   [\\nAM-95365\\n]   \n",
              "3  [\\n, \\n, \\n99 g CO2/km (comb)\\n]  [\\n, \\n, \\nEuro 6\\n]              NaN   \n",
              "4           [\\n, \\n, \\n4 (Green)\\n]              [\\n, \\n]      [\\nC1626\\n]   \n",
              "\n",
              "  First_Registration       Body_Color      Paint_Type  \\\n",
              "0     [\\n, 2016, \\n]  [\\n, Black, \\n]  [\\nMetallic\\n]   \n",
              "1     [\\n, 2017, \\n]    [\\n, Red, \\n]             NaN   \n",
              "2     [\\n, 2016, \\n]  [\\n, Black, \\n]  [\\nMetallic\\n]   \n",
              "3     [\\n, 2016, \\n]  [\\n, Brown, \\n]  [\\nMetallic\\n]   \n",
              "4     [\\n, 2016, \\n]  [\\n, Black, \\n]  [\\nMetallic\\n]   \n",
              "\n",
              "            Body_Color_Original          Upholstery              Body  \\\n",
              "0           [\\nMythosschwarz\\n]  [\\nCloth, Black\\n]  [\\n, Sedans, \\n]   \n",
              "1                           NaN   [\\nCloth, Grey\\n]  [\\n, Sedans, \\n]   \n",
              "2  [\\nmythosschwarz metallic\\n]  [\\nCloth, Black\\n]  [\\n, Sedans, \\n]   \n",
              "3                           NaN                 NaN  [\\n, Sedans, \\n]   \n",
              "4  [\\nMythosschwarz Metallic\\n]  [\\nCloth, Black\\n]  [\\n, Sedans, \\n]   \n",
              "\n",
              "  Nr_of_Doors Nr_of_Seats      Model_Code         Gearing_Type  \\\n",
              "0     [\\n5\\n]     [\\n5\\n]  [\\n0588/BDF\\n]  [\\n, Automatic, \\n]   \n",
              "1     [\\n3\\n]     [\\n4\\n]  [\\n0588/BCY\\n]  [\\n, Automatic, \\n]   \n",
              "2     [\\n4\\n]     [\\n4\\n]             NaN  [\\n, Automatic, \\n]   \n",
              "3     [\\n3\\n]     [\\n4\\n]             NaN  [\\n, Automatic, \\n]   \n",
              "4     [\\n5\\n]     [\\n5\\n]  [\\n0588/BDF\\n]  [\\n, Automatic, \\n]   \n",
              "\n",
              "     Displacement Cylinders          Weight  Drive_Chain  \\\n",
              "0  [\\n1,422 cc\\n]   [\\n3\\n]  [\\n1,220 kg\\n]  [\\nfront\\n]   \n",
              "1  [\\n1,798 cc\\n]   [\\n4\\n]  [\\n1,255 kg\\n]  [\\nfront\\n]   \n",
              "2  [\\n1,598 cc\\n]       NaN             NaN  [\\nfront\\n]   \n",
              "3  [\\n1,422 cc\\n]   [\\n3\\n]  [\\n1,195 kg\\n]          NaN   \n",
              "4  [\\n1,422 cc\\n]   [\\n3\\n]             NaN  [\\nfront\\n]   \n",
              "\n",
              "                                    Fuel  \\\n",
              "0  [\\n, Diesel (Particulate Filter), \\n]   \n",
              "1                     [\\n, Gasoline, \\n]   \n",
              "2  [\\n, Diesel (Particulate Filter), \\n]   \n",
              "3  [\\n, Diesel (Particulate Filter), \\n]   \n",
              "4  [\\n, Diesel (Particulate Filter), \\n]   \n",
              "\n",
              "                                         Consumption  \\\n",
              "0  [[3.8 l/100 km (comb)], [4.3 l/100 km (city)],...   \n",
              "1  [[5.6 l/100 km (comb)], [7.1 l/100 km (city)],...   \n",
              "2  [[3.8 l/100 km (comb)], [4.4 l/100 km (city)],...   \n",
              "3  [[3.8 l/100 km (comb)], [4.3 l/100 km (city)],...   \n",
              "4  [[4.1 l/100 km (comb)], [4.6 l/100 km (city)],...   \n",
              "\n",
              "               Co_2_Emission Emission_Class  \\\n",
              "0   [\\n99 g CO2/km (comb)\\n]   [\\nEuro 6\\n]   \n",
              "1  [\\n129 g CO2/km (comb)\\n]   [\\nEuro 6\\n]   \n",
              "2   [\\n99 g CO2/km (comb)\\n]   [\\nEuro 6\\n]   \n",
              "3   [\\n99 g CO2/km (comb)\\n]   [\\nEuro 6\\n]   \n",
              "4  [\\n109 g CO2/km (comb)\\n]   [\\nEuro 6\\n]   \n",
              "\n",
              "                               Comfort_&_Convenience  \\\n",
              "0  [Air conditioning, Armrest, Automatic climate ...   \n",
              "1  [Air conditioning, Automatic climate control, ...   \n",
              "2  [Air conditioning, Cruise control, Electrical ...   \n",
              "3  [Air suspension, Armrest, Auxiliary heating, E...   \n",
              "4  [Air conditioning, Armrest, Automatic climate ...   \n",
              "\n",
              "                               Entertainment_&_Media  \\\n",
              "0  [Bluetooth, Hands-free equipment, On-board com...   \n",
              "1  [Bluetooth, Hands-free equipment, On-board com...   \n",
              "2                           [MP3, On-board computer]   \n",
              "3  [Bluetooth, CD player, Hands-free equipment, M...   \n",
              "4  [Bluetooth, CD player, Hands-free equipment, M...   \n",
              "\n",
              "                                              Extras  \\\n",
              "0  [Alloy wheels, Catalytic Converter, Voice Cont...   \n",
              "1  [Alloy wheels, Sport seats, Sport suspension, ...   \n",
              "2                      [Alloy wheels, Voice Control]   \n",
              "3         [Alloy wheels, Sport seats, Voice Control]   \n",
              "4  [Alloy wheels, Sport package, Sport suspension...   \n",
              "\n",
              "                                   Safety_&_Security   Emission_Label  \\\n",
              "0  [ABS, Central door lock, Daytime running light...              NaN   \n",
              "1  [ABS, Central door lock, Central door lock wit...  [\\n4 (Green)\\n]   \n",
              "2  [ABS, Central door lock, Daytime running light...  [\\n4 (Green)\\n]   \n",
              "3  [ABS, Alarm system, Central door lock with rem...              NaN   \n",
              "4  [ABS, Central door lock, Driver-side airbag, E...              NaN   \n",
              "\n",
              "     Gears Country_Version  \n",
              "0      NaN             NaN  \n",
              "1  [\\n7\\n]             NaN  \n",
              "2      NaN             NaN  \n",
              "3  [\\n6\\n]             NaN  \n",
              "4      NaN   [\\nGermany\\n]  "
            ],
            "text/html": [
              "\n",
              "  <div id=\"df-31744b40-2265-4038-af98-bbf69da558d1\">\n",
              "    <div class=\"colab-df-container\">\n",
              "      <div>\n",
              "<style scoped>\n",
              "    .dataframe tbody tr th:only-of-type {\n",
              "        vertical-align: middle;\n",
              "    }\n",
              "\n",
              "    .dataframe tbody tr th {\n",
              "        vertical-align: top;\n",
              "    }\n",
              "\n",
              "    .dataframe thead th {\n",
              "        text-align: right;\n",
              "    }\n",
              "</style>\n",
              "<table border=\"1\" class=\"dataframe\">\n",
              "  <thead>\n",
              "    <tr style=\"text-align: right;\">\n",
              "      <th></th>\n",
              "      <th>Make_Model</th>\n",
              "      <th>Body_Type</th>\n",
              "      <th>Price</th>\n",
              "      <th>Vat</th>\n",
              "      <th>Km</th>\n",
              "      <th>Registration</th>\n",
              "      <th>Prev_Owner</th>\n",
              "      <th>hp</th>\n",
              "      <th>type</th>\n",
              "      <th>Previous_Owners</th>\n",
              "      <th>Next_inspection</th>\n",
              "      <th>Inspection_new</th>\n",
              "      <th>Warranty</th>\n",
              "      <th>Full_Service</th>\n",
              "      <th>Non_Smoking_Vehicle</th>\n",
              "      <th>Offer_Number</th>\n",
              "      <th>First_Registration</th>\n",
              "      <th>Body_Color</th>\n",
              "      <th>Paint_Type</th>\n",
              "      <th>Body_Color_Original</th>\n",
              "      <th>Upholstery</th>\n",
              "      <th>Body</th>\n",
              "      <th>Nr_of_Doors</th>\n",
              "      <th>Nr_of_Seats</th>\n",
              "      <th>Model_Code</th>\n",
              "      <th>Gearing_Type</th>\n",
              "      <th>Displacement</th>\n",
              "      <th>Cylinders</th>\n",
              "      <th>Weight</th>\n",
              "      <th>Drive_Chain</th>\n",
              "      <th>Fuel</th>\n",
              "      <th>Consumption</th>\n",
              "      <th>Co_2_Emission</th>\n",
              "      <th>Emission_Class</th>\n",
              "      <th>Comfort_&amp;_Convenience</th>\n",
              "      <th>Entertainment_&amp;_Media</th>\n",
              "      <th>Extras</th>\n",
              "      <th>Safety_&amp;_Security</th>\n",
              "      <th>Emission_Label</th>\n",
              "      <th>Gears</th>\n",
              "      <th>Country_Version</th>\n",
              "    </tr>\n",
              "  </thead>\n",
              "  <tbody>\n",
              "    <tr>\n",
              "      <th>0</th>\n",
              "      <td>Audi A1</td>\n",
              "      <td>Sedans</td>\n",
              "      <td>15770</td>\n",
              "      <td>VAT deductible</td>\n",
              "      <td>56,013 km</td>\n",
              "      <td>01/2016</td>\n",
              "      <td>2 previous owners</td>\n",
              "      <td>66 kW</td>\n",
              "      <td>[, Used, , Diesel (Particulate Filter)]</td>\n",
              "      <td>\\n2\\n</td>\n",
              "      <td>[\\n06/2021\\n, \\n99 g CO2/km (comb)\\n]</td>\n",
              "      <td>[\\nYes\\n, \\nEuro 6\\n]</td>\n",
              "      <td>[\\n, \\n, \\n4 (Green)\\n]</td>\n",
              "      <td>[\\n, \\n]</td>\n",
              "      <td>[\\n, \\n]</td>\n",
              "      <td>[\\nLR-062483\\n]</td>\n",
              "      <td>[\\n, 2016, \\n]</td>\n",
              "      <td>[\\n, Black, \\n]</td>\n",
              "      <td>[\\nMetallic\\n]</td>\n",
              "      <td>[\\nMythosschwarz\\n]</td>\n",
              "      <td>[\\nCloth, Black\\n]</td>\n",
              "      <td>[\\n, Sedans, \\n]</td>\n",
              "      <td>[\\n5\\n]</td>\n",
              "      <td>[\\n5\\n]</td>\n",
              "      <td>[\\n0588/BDF\\n]</td>\n",
              "      <td>[\\n, Automatic, \\n]</td>\n",
              "      <td>[\\n1,422 cc\\n]</td>\n",
              "      <td>[\\n3\\n]</td>\n",
              "      <td>[\\n1,220 kg\\n]</td>\n",
              "      <td>[\\nfront\\n]</td>\n",
              "      <td>[\\n, Diesel (Particulate Filter), \\n]</td>\n",
              "      <td>[[3.8 l/100 km (comb)], [4.3 l/100 km (city)],...</td>\n",
              "      <td>[\\n99 g CO2/km (comb)\\n]</td>\n",
              "      <td>[\\nEuro 6\\n]</td>\n",
              "      <td>[Air conditioning, Armrest, Automatic climate ...</td>\n",
              "      <td>[Bluetooth, Hands-free equipment, On-board com...</td>\n",
              "      <td>[Alloy wheels, Catalytic Converter, Voice Cont...</td>\n",
              "      <td>[ABS, Central door lock, Daytime running light...</td>\n",
              "      <td>NaN</td>\n",
              "      <td>NaN</td>\n",
              "      <td>NaN</td>\n",
              "    </tr>\n",
              "    <tr>\n",
              "      <th>1</th>\n",
              "      <td>Audi A1</td>\n",
              "      <td>Sedans</td>\n",
              "      <td>14500</td>\n",
              "      <td>Price negotiable</td>\n",
              "      <td>80,000 km</td>\n",
              "      <td>03/2017</td>\n",
              "      <td>None</td>\n",
              "      <td>141 kW</td>\n",
              "      <td>[, Used, , Gasoline]</td>\n",
              "      <td>NaN</td>\n",
              "      <td>NaN</td>\n",
              "      <td>NaN</td>\n",
              "      <td>NaN</td>\n",
              "      <td>NaN</td>\n",
              "      <td>NaN</td>\n",
              "      <td>NaN</td>\n",
              "      <td>[\\n, 2017, \\n]</td>\n",
              "      <td>[\\n, Red, \\n]</td>\n",
              "      <td>NaN</td>\n",
              "      <td>NaN</td>\n",
              "      <td>[\\nCloth, Grey\\n]</td>\n",
              "      <td>[\\n, Sedans, \\n]</td>\n",
              "      <td>[\\n3\\n]</td>\n",
              "      <td>[\\n4\\n]</td>\n",
              "      <td>[\\n0588/BCY\\n]</td>\n",
              "      <td>[\\n, Automatic, \\n]</td>\n",
              "      <td>[\\n1,798 cc\\n]</td>\n",
              "      <td>[\\n4\\n]</td>\n",
              "      <td>[\\n1,255 kg\\n]</td>\n",
              "      <td>[\\nfront\\n]</td>\n",
              "      <td>[\\n, Gasoline, \\n]</td>\n",
              "      <td>[[5.6 l/100 km (comb)], [7.1 l/100 km (city)],...</td>\n",
              "      <td>[\\n129 g CO2/km (comb)\\n]</td>\n",
              "      <td>[\\nEuro 6\\n]</td>\n",
              "      <td>[Air conditioning, Automatic climate control, ...</td>\n",
              "      <td>[Bluetooth, Hands-free equipment, On-board com...</td>\n",
              "      <td>[Alloy wheels, Sport seats, Sport suspension, ...</td>\n",
              "      <td>[ABS, Central door lock, Central door lock wit...</td>\n",
              "      <td>[\\n4 (Green)\\n]</td>\n",
              "      <td>[\\n7\\n]</td>\n",
              "      <td>NaN</td>\n",
              "    </tr>\n",
              "    <tr>\n",
              "      <th>2</th>\n",
              "      <td>Audi A1</td>\n",
              "      <td>Sedans</td>\n",
              "      <td>14640</td>\n",
              "      <td>VAT deductible</td>\n",
              "      <td>83,450 km</td>\n",
              "      <td>02/2016</td>\n",
              "      <td>1 previous owner</td>\n",
              "      <td>85 kW</td>\n",
              "      <td>[, Used, , Diesel (Particulate Filter)]</td>\n",
              "      <td>\\n1\\n</td>\n",
              "      <td>NaN</td>\n",
              "      <td>NaN</td>\n",
              "      <td>[\\n, \\n, \\n99 g CO2/km (comb)\\n]</td>\n",
              "      <td>NaN</td>\n",
              "      <td>NaN</td>\n",
              "      <td>[\\nAM-95365\\n]</td>\n",
              "      <td>[\\n, 2016, \\n]</td>\n",
              "      <td>[\\n, Black, \\n]</td>\n",
              "      <td>[\\nMetallic\\n]</td>\n",
              "      <td>[\\nmythosschwarz metallic\\n]</td>\n",
              "      <td>[\\nCloth, Black\\n]</td>\n",
              "      <td>[\\n, Sedans, \\n]</td>\n",
              "      <td>[\\n4\\n]</td>\n",
              "      <td>[\\n4\\n]</td>\n",
              "      <td>NaN</td>\n",
              "      <td>[\\n, Automatic, \\n]</td>\n",
              "      <td>[\\n1,598 cc\\n]</td>\n",
              "      <td>NaN</td>\n",
              "      <td>NaN</td>\n",
              "      <td>[\\nfront\\n]</td>\n",
              "      <td>[\\n, Diesel (Particulate Filter), \\n]</td>\n",
              "      <td>[[3.8 l/100 km (comb)], [4.4 l/100 km (city)],...</td>\n",
              "      <td>[\\n99 g CO2/km (comb)\\n]</td>\n",
              "      <td>[\\nEuro 6\\n]</td>\n",
              "      <td>[Air conditioning, Cruise control, Electrical ...</td>\n",
              "      <td>[MP3, On-board computer]</td>\n",
              "      <td>[Alloy wheels, Voice Control]</td>\n",
              "      <td>[ABS, Central door lock, Daytime running light...</td>\n",
              "      <td>[\\n4 (Green)\\n]</td>\n",
              "      <td>NaN</td>\n",
              "      <td>NaN</td>\n",
              "    </tr>\n",
              "    <tr>\n",
              "      <th>3</th>\n",
              "      <td>Audi A1</td>\n",
              "      <td>Sedans</td>\n",
              "      <td>14500</td>\n",
              "      <td>None</td>\n",
              "      <td>73,000 km</td>\n",
              "      <td>08/2016</td>\n",
              "      <td>1 previous owner</td>\n",
              "      <td>66 kW</td>\n",
              "      <td>[, Used, , Diesel (Particulate Filter)]</td>\n",
              "      <td>\\n1\\n</td>\n",
              "      <td>NaN</td>\n",
              "      <td>NaN</td>\n",
              "      <td>NaN</td>\n",
              "      <td>[\\n, \\n, \\n99 g CO2/km (comb)\\n]</td>\n",
              "      <td>[\\n, \\n, \\nEuro 6\\n]</td>\n",
              "      <td>NaN</td>\n",
              "      <td>[\\n, 2016, \\n]</td>\n",
              "      <td>[\\n, Brown, \\n]</td>\n",
              "      <td>[\\nMetallic\\n]</td>\n",
              "      <td>NaN</td>\n",
              "      <td>NaN</td>\n",
              "      <td>[\\n, Sedans, \\n]</td>\n",
              "      <td>[\\n3\\n]</td>\n",
              "      <td>[\\n4\\n]</td>\n",
              "      <td>NaN</td>\n",
              "      <td>[\\n, Automatic, \\n]</td>\n",
              "      <td>[\\n1,422 cc\\n]</td>\n",
              "      <td>[\\n3\\n]</td>\n",
              "      <td>[\\n1,195 kg\\n]</td>\n",
              "      <td>NaN</td>\n",
              "      <td>[\\n, Diesel (Particulate Filter), \\n]</td>\n",
              "      <td>[[3.8 l/100 km (comb)], [4.3 l/100 km (city)],...</td>\n",
              "      <td>[\\n99 g CO2/km (comb)\\n]</td>\n",
              "      <td>[\\nEuro 6\\n]</td>\n",
              "      <td>[Air suspension, Armrest, Auxiliary heating, E...</td>\n",
              "      <td>[Bluetooth, CD player, Hands-free equipment, M...</td>\n",
              "      <td>[Alloy wheels, Sport seats, Voice Control]</td>\n",
              "      <td>[ABS, Alarm system, Central door lock with rem...</td>\n",
              "      <td>NaN</td>\n",
              "      <td>[\\n6\\n]</td>\n",
              "      <td>NaN</td>\n",
              "    </tr>\n",
              "    <tr>\n",
              "      <th>4</th>\n",
              "      <td>Audi A1</td>\n",
              "      <td>Sedans</td>\n",
              "      <td>16790</td>\n",
              "      <td>None</td>\n",
              "      <td>16,200 km</td>\n",
              "      <td>05/2016</td>\n",
              "      <td>1 previous owner</td>\n",
              "      <td>66 kW</td>\n",
              "      <td>[, Used, , Diesel (Particulate Filter)]</td>\n",
              "      <td>\\n1\\n</td>\n",
              "      <td>NaN</td>\n",
              "      <td>[\\nYes\\n, \\n109 g CO2/km (comb)\\n]</td>\n",
              "      <td>[\\n, \\n, \\nEuro 6\\n]</td>\n",
              "      <td>[\\n, \\n, \\n4 (Green)\\n]</td>\n",
              "      <td>[\\n, \\n]</td>\n",
              "      <td>[\\nC1626\\n]</td>\n",
              "      <td>[\\n, 2016, \\n]</td>\n",
              "      <td>[\\n, Black, \\n]</td>\n",
              "      <td>[\\nMetallic\\n]</td>\n",
              "      <td>[\\nMythosschwarz Metallic\\n]</td>\n",
              "      <td>[\\nCloth, Black\\n]</td>\n",
              "      <td>[\\n, Sedans, \\n]</td>\n",
              "      <td>[\\n5\\n]</td>\n",
              "      <td>[\\n5\\n]</td>\n",
              "      <td>[\\n0588/BDF\\n]</td>\n",
              "      <td>[\\n, Automatic, \\n]</td>\n",
              "      <td>[\\n1,422 cc\\n]</td>\n",
              "      <td>[\\n3\\n]</td>\n",
              "      <td>NaN</td>\n",
              "      <td>[\\nfront\\n]</td>\n",
              "      <td>[\\n, Diesel (Particulate Filter), \\n]</td>\n",
              "      <td>[[4.1 l/100 km (comb)], [4.6 l/100 km (city)],...</td>\n",
              "      <td>[\\n109 g CO2/km (comb)\\n]</td>\n",
              "      <td>[\\nEuro 6\\n]</td>\n",
              "      <td>[Air conditioning, Armrest, Automatic climate ...</td>\n",
              "      <td>[Bluetooth, CD player, Hands-free equipment, M...</td>\n",
              "      <td>[Alloy wheels, Sport package, Sport suspension...</td>\n",
              "      <td>[ABS, Central door lock, Driver-side airbag, E...</td>\n",
              "      <td>NaN</td>\n",
              "      <td>NaN</td>\n",
              "      <td>[\\nGermany\\n]</td>\n",
              "    </tr>\n",
              "  </tbody>\n",
              "</table>\n",
              "</div>\n",
              "      <button class=\"colab-df-convert\" onclick=\"convertToInteractive('df-31744b40-2265-4038-af98-bbf69da558d1')\"\n",
              "              title=\"Convert this dataframe to an interactive table.\"\n",
              "              style=\"display:none;\">\n",
              "        \n",
              "  <svg xmlns=\"http://www.w3.org/2000/svg\" height=\"24px\"viewBox=\"0 0 24 24\"\n",
              "       width=\"24px\">\n",
              "    <path d=\"M0 0h24v24H0V0z\" fill=\"none\"/>\n",
              "    <path d=\"M18.56 5.44l.94 2.06.94-2.06 2.06-.94-2.06-.94-.94-2.06-.94 2.06-2.06.94zm-11 1L8.5 8.5l.94-2.06 2.06-.94-2.06-.94L8.5 2.5l-.94 2.06-2.06.94zm10 10l.94 2.06.94-2.06 2.06-.94-2.06-.94-.94-2.06-.94 2.06-2.06.94z\"/><path d=\"M17.41 7.96l-1.37-1.37c-.4-.4-.92-.59-1.43-.59-.52 0-1.04.2-1.43.59L10.3 9.45l-7.72 7.72c-.78.78-.78 2.05 0 2.83L4 21.41c.39.39.9.59 1.41.59.51 0 1.02-.2 1.41-.59l7.78-7.78 2.81-2.81c.8-.78.8-2.07 0-2.86zM5.41 20L4 18.59l7.72-7.72 1.47 1.35L5.41 20z\"/>\n",
              "  </svg>\n",
              "      </button>\n",
              "      \n",
              "  <style>\n",
              "    .colab-df-container {\n",
              "      display:flex;\n",
              "      flex-wrap:wrap;\n",
              "      gap: 12px;\n",
              "    }\n",
              "\n",
              "    .colab-df-convert {\n",
              "      background-color: #E8F0FE;\n",
              "      border: none;\n",
              "      border-radius: 50%;\n",
              "      cursor: pointer;\n",
              "      display: none;\n",
              "      fill: #1967D2;\n",
              "      height: 32px;\n",
              "      padding: 0 0 0 0;\n",
              "      width: 32px;\n",
              "    }\n",
              "\n",
              "    .colab-df-convert:hover {\n",
              "      background-color: #E2EBFA;\n",
              "      box-shadow: 0px 1px 2px rgba(60, 64, 67, 0.3), 0px 1px 3px 1px rgba(60, 64, 67, 0.15);\n",
              "      fill: #174EA6;\n",
              "    }\n",
              "\n",
              "    [theme=dark] .colab-df-convert {\n",
              "      background-color: #3B4455;\n",
              "      fill: #D2E3FC;\n",
              "    }\n",
              "\n",
              "    [theme=dark] .colab-df-convert:hover {\n",
              "      background-color: #434B5C;\n",
              "      box-shadow: 0px 1px 3px 1px rgba(0, 0, 0, 0.15);\n",
              "      filter: drop-shadow(0px 1px 2px rgba(0, 0, 0, 0.3));\n",
              "      fill: #FFFFFF;\n",
              "    }\n",
              "  </style>\n",
              "\n",
              "      <script>\n",
              "        const buttonEl =\n",
              "          document.querySelector('#df-31744b40-2265-4038-af98-bbf69da558d1 button.colab-df-convert');\n",
              "        buttonEl.style.display =\n",
              "          google.colab.kernel.accessAllowed ? 'block' : 'none';\n",
              "\n",
              "        async function convertToInteractive(key) {\n",
              "          const element = document.querySelector('#df-31744b40-2265-4038-af98-bbf69da558d1');\n",
              "          const dataTable =\n",
              "            await google.colab.kernel.invokeFunction('convertToInteractive',\n",
              "                                                     [key], {});\n",
              "          if (!dataTable) return;\n",
              "\n",
              "          const docLinkHtml = 'Like what you see? Visit the ' +\n",
              "            '<a target=\"_blank\" href=https://colab.research.google.com/notebooks/data_table.ipynb>data table notebook</a>'\n",
              "            + ' to learn more about interactive tables.';\n",
              "          element.innerHTML = '';\n",
              "          dataTable['output_type'] = 'display_data';\n",
              "          await google.colab.output.renderOutput(dataTable, element);\n",
              "          const docLink = document.createElement('div');\n",
              "          docLink.innerHTML = docLinkHtml;\n",
              "          element.appendChild(docLink);\n",
              "        }\n",
              "      </script>\n",
              "    </div>\n",
              "  </div>\n",
              "  "
            ]
          },
          "metadata": {},
          "execution_count": 893
        }
      ]
    },
    {
      "cell_type": "code",
      "source": [
        "df.info()"
      ],
      "metadata": {
        "colab": {
          "base_uri": "https://localhost:8080/"
        },
        "id": "6r9VM1em3DiO",
        "outputId": "d5718a79-c37f-4601-f822-bfe8675ad663"
      },
      "execution_count": 894,
      "outputs": [
        {
          "output_type": "stream",
          "name": "stdout",
          "text": [
            "<class 'pandas.core.frame.DataFrame'>\n",
            "RangeIndex: 15919 entries, 0 to 15918\n",
            "Data columns (total 41 columns):\n",
            " #   Column                 Non-Null Count  Dtype \n",
            "---  ------                 --------------  ----- \n",
            " 0   Make_Model             15919 non-null  object\n",
            " 1   Body_Type              15859 non-null  object\n",
            " 2   Price                  15919 non-null  int64 \n",
            " 3   Vat                    11406 non-null  object\n",
            " 4   Km                     15919 non-null  object\n",
            " 5   Registration           15919 non-null  object\n",
            " 6   Prev_Owner             9091 non-null   object\n",
            " 7   hp                     15919 non-null  object\n",
            " 8   type                   15917 non-null  object\n",
            " 9   Previous_Owners        9279 non-null   object\n",
            " 10  Next_inspection        3535 non-null   object\n",
            " 11  Inspection_new         3932 non-null   object\n",
            " 12  Warranty               10499 non-null  object\n",
            " 13  Full_Service           8215 non-null   object\n",
            " 14  Non_Smoking_Vehicle    7177 non-null   object\n",
            " 15  Offer_Number           12744 non-null  object\n",
            " 16  First_Registration     14322 non-null  object\n",
            " 17  Body_Color             15322 non-null  object\n",
            " 18  Paint_Type             10147 non-null  object\n",
            " 19  Body_Color_Original    12160 non-null  object\n",
            " 20  Upholstery             12199 non-null  object\n",
            " 21  Body                   15859 non-null  object\n",
            " 22  Nr_of_Doors            15707 non-null  object\n",
            " 23  Nr_of_Seats            14942 non-null  object\n",
            " 24  Model_Code             4978 non-null   object\n",
            " 25  Gearing_Type           15919 non-null  object\n",
            " 26  Displacement           15423 non-null  object\n",
            " 27  Cylinders              10239 non-null  object\n",
            " 28  Weight                 8945 non-null   object\n",
            " 29  Drive_Chain            9061 non-null   object\n",
            " 30  Fuel                   15919 non-null  object\n",
            " 31  Consumption            14013 non-null  object\n",
            " 32  Co_2_Emission          14111 non-null  object\n",
            " 33  Emission_Class         12898 non-null  object\n",
            " 34  Comfort_&_Convenience  14999 non-null  object\n",
            " 35  Entertainment_&_Media  14545 non-null  object\n",
            " 36  Extras                 12957 non-null  object\n",
            " 37  Safety_&_Security      14937 non-null  object\n",
            " 38  Emission_Label         3985 non-null   object\n",
            " 39  Gears                  11207 non-null  object\n",
            " 40  Country_Version        7586 non-null   object\n",
            "dtypes: int64(1), object(40)\n",
            "memory usage: 5.0+ MB\n"
          ]
        }
      ]
    },
    {
      "cell_type": "markdown",
      "source": [
        "## Body&Body_Type"
      ],
      "metadata": {
        "id": "IPcimFmu28k9"
      }
    },
    {
      "cell_type": "code",
      "source": [
        "df.Body_Type.value_counts(dropna=False)"
      ],
      "metadata": {
        "colab": {
          "base_uri": "https://localhost:8080/"
        },
        "id": "3Oep0Ku1uNXy",
        "outputId": "5f2d1dff-ed56-4f23-fc64-a05c73e72dfc"
      },
      "execution_count": 895,
      "outputs": [
        {
          "output_type": "execute_result",
          "data": {
            "text/plain": [
              "Sedans           7903\n",
              "Station wagon    3553\n",
              "Compact          3153\n",
              "Van               783\n",
              "Other             290\n",
              "Transporter        88\n",
              "NaN                60\n",
              "Off-Road           56\n",
              "Coupe              25\n",
              "Convertible         8\n",
              "Name: Body_Type, dtype: int64"
            ]
          },
          "metadata": {},
          "execution_count": 895
        }
      ]
    },
    {
      "cell_type": "code",
      "source": [
        "df[\"Body\"]"
      ],
      "metadata": {
        "colab": {
          "base_uri": "https://localhost:8080/"
        },
        "id": "HYzzbEQ5uNVC",
        "outputId": "3ae37208-ea65-41d6-836d-39da6d5277b9"
      },
      "execution_count": 896,
      "outputs": [
        {
          "output_type": "execute_result",
          "data": {
            "text/plain": [
              "0        [\\n, Sedans, \\n]\n",
              "1        [\\n, Sedans, \\n]\n",
              "2        [\\n, Sedans, \\n]\n",
              "3        [\\n, Sedans, \\n]\n",
              "4        [\\n, Sedans, \\n]\n",
              "               ...       \n",
              "15914       [\\n, Van, \\n]\n",
              "15915       [\\n, Van, \\n]\n",
              "15916       [\\n, Van, \\n]\n",
              "15917       [\\n, Van, \\n]\n",
              "15918       [\\n, Van, \\n]\n",
              "Name: Body, Length: 15919, dtype: object"
            ]
          },
          "metadata": {},
          "execution_count": 896
        }
      ]
    },
    {
      "cell_type": "code",
      "source": [
        "df.Body.astype(\"str\").value_counts()"
      ],
      "metadata": {
        "colab": {
          "base_uri": "https://localhost:8080/"
        },
        "id": "rK_lUJBU0nXW",
        "outputId": "7bc2b8d6-fdbe-4788-bdb1-94b7a1976c6b"
      },
      "execution_count": 897,
      "outputs": [
        {
          "output_type": "execute_result",
          "data": {
            "text/plain": [
              "['\\n', 'Sedans', '\\n']           7903\n",
              "['\\n', 'Station wagon', '\\n']    3553\n",
              "['\\n', 'Compact', '\\n']          3153\n",
              "['\\n', 'Van', '\\n']               783\n",
              "['\\n', 'Other', '\\n']             290\n",
              "['\\n', 'Transporter', '\\n']        88\n",
              "nan                                60\n",
              "['\\n', 'Off-Road', '\\n']           56\n",
              "['\\n', 'Coupe', '\\n']              25\n",
              "['\\n', 'Convertible', '\\n']         8\n",
              "Name: Body, dtype: int64"
            ]
          },
          "metadata": {},
          "execution_count": 897
        }
      ]
    },
    {
      "cell_type": "code",
      "source": [
        "df[\"Body\"]=df.Body.str[1]\n",
        "df.Body.value_counts(dropna=False)"
      ],
      "metadata": {
        "colab": {
          "base_uri": "https://localhost:8080/"
        },
        "id": "spm1aHj85i7O",
        "outputId": "661fbd2d-20f0-4e33-9c21-427f8b03d32a"
      },
      "execution_count": 898,
      "outputs": [
        {
          "output_type": "execute_result",
          "data": {
            "text/plain": [
              "Sedans           7903\n",
              "Station wagon    3553\n",
              "Compact          3153\n",
              "Van               783\n",
              "Other             290\n",
              "Transporter        88\n",
              "NaN                60\n",
              "Off-Road           56\n",
              "Coupe              25\n",
              "Convertible         8\n",
              "Name: Body, dtype: int64"
            ]
          },
          "metadata": {},
          "execution_count": 898
        }
      ]
    },
    {
      "cell_type": "markdown",
      "source": [
        "## Since both \"Body\" and \"Body_Type\" are same, we drop Body.."
      ],
      "metadata": {
        "id": "qkg0wqQi8V18"
      }
    },
    {
      "cell_type": "code",
      "source": [
        "df.drop(\"Body\",axis=1, inplace=True)"
      ],
      "metadata": {
        "id": "p89ZgdAJ0nLJ"
      },
      "execution_count": 899,
      "outputs": []
    },
    {
      "cell_type": "code",
      "source": [
        "df.head(3).T"
      ],
      "metadata": {
        "colab": {
          "base_uri": "https://localhost:8080/",
          "height": 1000
        },
        "id": "n8eTNOIW0nJA",
        "outputId": "79bd7de2-c2b9-4b97-eee4-0c1d54b66b8f"
      },
      "execution_count": 900,
      "outputs": [
        {
          "output_type": "execute_result",
          "data": {
            "text/plain": [
              "                                                                       0  \\\n",
              "Make_Model                                                       Audi A1   \n",
              "Body_Type                                                         Sedans   \n",
              "Price                                                              15770   \n",
              "Vat                                                       VAT deductible   \n",
              "Km                                                             56,013 km   \n",
              "Registration                                                     01/2016   \n",
              "Prev_Owner                                             2 previous owners   \n",
              "hp                                                                 66 kW   \n",
              "type                             [, Used, , Diesel (Particulate Filter)]   \n",
              "Previous_Owners                                                    \\n2\\n   \n",
              "Next_inspection                    [\\n06/2021\\n, \\n99 g CO2/km (comb)\\n]   \n",
              "Inspection_new                                     [\\nYes\\n, \\nEuro 6\\n]   \n",
              "Warranty                                         [\\n, \\n, \\n4 (Green)\\n]   \n",
              "Full_Service                                                    [\\n, \\n]   \n",
              "Non_Smoking_Vehicle                                             [\\n, \\n]   \n",
              "Offer_Number                                             [\\nLR-062483\\n]   \n",
              "First_Registration                                        [\\n, 2016, \\n]   \n",
              "Body_Color                                               [\\n, Black, \\n]   \n",
              "Paint_Type                                                [\\nMetallic\\n]   \n",
              "Body_Color_Original                                  [\\nMythosschwarz\\n]   \n",
              "Upholstery                                            [\\nCloth, Black\\n]   \n",
              "Nr_of_Doors                                                      [\\n5\\n]   \n",
              "Nr_of_Seats                                                      [\\n5\\n]   \n",
              "Model_Code                                                [\\n0588/BDF\\n]   \n",
              "Gearing_Type                                         [\\n, Automatic, \\n]   \n",
              "Displacement                                              [\\n1,422 cc\\n]   \n",
              "Cylinders                                                        [\\n3\\n]   \n",
              "Weight                                                    [\\n1,220 kg\\n]   \n",
              "Drive_Chain                                                  [\\nfront\\n]   \n",
              "Fuel                               [\\n, Diesel (Particulate Filter), \\n]   \n",
              "Consumption            [[3.8 l/100 km (comb)], [4.3 l/100 km (city)],...   \n",
              "Co_2_Emission                                   [\\n99 g CO2/km (comb)\\n]   \n",
              "Emission_Class                                              [\\nEuro 6\\n]   \n",
              "Comfort_&_Convenience  [Air conditioning, Armrest, Automatic climate ...   \n",
              "Entertainment_&_Media  [Bluetooth, Hands-free equipment, On-board com...   \n",
              "Extras                 [Alloy wheels, Catalytic Converter, Voice Cont...   \n",
              "Safety_&_Security      [ABS, Central door lock, Daytime running light...   \n",
              "Emission_Label                                                       NaN   \n",
              "Gears                                                                NaN   \n",
              "Country_Version                                                      NaN   \n",
              "\n",
              "                                                                       1  \\\n",
              "Make_Model                                                       Audi A1   \n",
              "Body_Type                                                         Sedans   \n",
              "Price                                                              14500   \n",
              "Vat                                                     Price negotiable   \n",
              "Km                                                             80,000 km   \n",
              "Registration                                                     03/2017   \n",
              "Prev_Owner                                                          None   \n",
              "hp                                                                141 kW   \n",
              "type                                                [, Used, , Gasoline]   \n",
              "Previous_Owners                                                      NaN   \n",
              "Next_inspection                                                      NaN   \n",
              "Inspection_new                                                       NaN   \n",
              "Warranty                                                             NaN   \n",
              "Full_Service                                                         NaN   \n",
              "Non_Smoking_Vehicle                                                  NaN   \n",
              "Offer_Number                                                         NaN   \n",
              "First_Registration                                        [\\n, 2017, \\n]   \n",
              "Body_Color                                                 [\\n, Red, \\n]   \n",
              "Paint_Type                                                           NaN   \n",
              "Body_Color_Original                                                  NaN   \n",
              "Upholstery                                             [\\nCloth, Grey\\n]   \n",
              "Nr_of_Doors                                                      [\\n3\\n]   \n",
              "Nr_of_Seats                                                      [\\n4\\n]   \n",
              "Model_Code                                                [\\n0588/BCY\\n]   \n",
              "Gearing_Type                                         [\\n, Automatic, \\n]   \n",
              "Displacement                                              [\\n1,798 cc\\n]   \n",
              "Cylinders                                                        [\\n4\\n]   \n",
              "Weight                                                    [\\n1,255 kg\\n]   \n",
              "Drive_Chain                                                  [\\nfront\\n]   \n",
              "Fuel                                                  [\\n, Gasoline, \\n]   \n",
              "Consumption            [[5.6 l/100 km (comb)], [7.1 l/100 km (city)],...   \n",
              "Co_2_Emission                                  [\\n129 g CO2/km (comb)\\n]   \n",
              "Emission_Class                                              [\\nEuro 6\\n]   \n",
              "Comfort_&_Convenience  [Air conditioning, Automatic climate control, ...   \n",
              "Entertainment_&_Media  [Bluetooth, Hands-free equipment, On-board com...   \n",
              "Extras                 [Alloy wheels, Sport seats, Sport suspension, ...   \n",
              "Safety_&_Security      [ABS, Central door lock, Central door lock wit...   \n",
              "Emission_Label                                           [\\n4 (Green)\\n]   \n",
              "Gears                                                            [\\n7\\n]   \n",
              "Country_Version                                                      NaN   \n",
              "\n",
              "                                                                       2  \n",
              "Make_Model                                                       Audi A1  \n",
              "Body_Type                                                         Sedans  \n",
              "Price                                                              14640  \n",
              "Vat                                                       VAT deductible  \n",
              "Km                                                             83,450 km  \n",
              "Registration                                                     02/2016  \n",
              "Prev_Owner                                              1 previous owner  \n",
              "hp                                                                 85 kW  \n",
              "type                             [, Used, , Diesel (Particulate Filter)]  \n",
              "Previous_Owners                                                    \\n1\\n  \n",
              "Next_inspection                                                      NaN  \n",
              "Inspection_new                                                       NaN  \n",
              "Warranty                                [\\n, \\n, \\n99 g CO2/km (comb)\\n]  \n",
              "Full_Service                                                         NaN  \n",
              "Non_Smoking_Vehicle                                                  NaN  \n",
              "Offer_Number                                              [\\nAM-95365\\n]  \n",
              "First_Registration                                        [\\n, 2016, \\n]  \n",
              "Body_Color                                               [\\n, Black, \\n]  \n",
              "Paint_Type                                                [\\nMetallic\\n]  \n",
              "Body_Color_Original                         [\\nmythosschwarz metallic\\n]  \n",
              "Upholstery                                            [\\nCloth, Black\\n]  \n",
              "Nr_of_Doors                                                      [\\n4\\n]  \n",
              "Nr_of_Seats                                                      [\\n4\\n]  \n",
              "Model_Code                                                           NaN  \n",
              "Gearing_Type                                         [\\n, Automatic, \\n]  \n",
              "Displacement                                              [\\n1,598 cc\\n]  \n",
              "Cylinders                                                            NaN  \n",
              "Weight                                                               NaN  \n",
              "Drive_Chain                                                  [\\nfront\\n]  \n",
              "Fuel                               [\\n, Diesel (Particulate Filter), \\n]  \n",
              "Consumption            [[3.8 l/100 km (comb)], [4.4 l/100 km (city)],...  \n",
              "Co_2_Emission                                   [\\n99 g CO2/km (comb)\\n]  \n",
              "Emission_Class                                              [\\nEuro 6\\n]  \n",
              "Comfort_&_Convenience  [Air conditioning, Cruise control, Electrical ...  \n",
              "Entertainment_&_Media                           [MP3, On-board computer]  \n",
              "Extras                                     [Alloy wheels, Voice Control]  \n",
              "Safety_&_Security      [ABS, Central door lock, Daytime running light...  \n",
              "Emission_Label                                           [\\n4 (Green)\\n]  \n",
              "Gears                                                                NaN  \n",
              "Country_Version                                                      NaN  "
            ],
            "text/html": [
              "\n",
              "  <div id=\"df-1df50f2a-58f6-468c-a3a2-3013e8ba4fac\">\n",
              "    <div class=\"colab-df-container\">\n",
              "      <div>\n",
              "<style scoped>\n",
              "    .dataframe tbody tr th:only-of-type {\n",
              "        vertical-align: middle;\n",
              "    }\n",
              "\n",
              "    .dataframe tbody tr th {\n",
              "        vertical-align: top;\n",
              "    }\n",
              "\n",
              "    .dataframe thead th {\n",
              "        text-align: right;\n",
              "    }\n",
              "</style>\n",
              "<table border=\"1\" class=\"dataframe\">\n",
              "  <thead>\n",
              "    <tr style=\"text-align: right;\">\n",
              "      <th></th>\n",
              "      <th>0</th>\n",
              "      <th>1</th>\n",
              "      <th>2</th>\n",
              "    </tr>\n",
              "  </thead>\n",
              "  <tbody>\n",
              "    <tr>\n",
              "      <th>Make_Model</th>\n",
              "      <td>Audi A1</td>\n",
              "      <td>Audi A1</td>\n",
              "      <td>Audi A1</td>\n",
              "    </tr>\n",
              "    <tr>\n",
              "      <th>Body_Type</th>\n",
              "      <td>Sedans</td>\n",
              "      <td>Sedans</td>\n",
              "      <td>Sedans</td>\n",
              "    </tr>\n",
              "    <tr>\n",
              "      <th>Price</th>\n",
              "      <td>15770</td>\n",
              "      <td>14500</td>\n",
              "      <td>14640</td>\n",
              "    </tr>\n",
              "    <tr>\n",
              "      <th>Vat</th>\n",
              "      <td>VAT deductible</td>\n",
              "      <td>Price negotiable</td>\n",
              "      <td>VAT deductible</td>\n",
              "    </tr>\n",
              "    <tr>\n",
              "      <th>Km</th>\n",
              "      <td>56,013 km</td>\n",
              "      <td>80,000 km</td>\n",
              "      <td>83,450 km</td>\n",
              "    </tr>\n",
              "    <tr>\n",
              "      <th>Registration</th>\n",
              "      <td>01/2016</td>\n",
              "      <td>03/2017</td>\n",
              "      <td>02/2016</td>\n",
              "    </tr>\n",
              "    <tr>\n",
              "      <th>Prev_Owner</th>\n",
              "      <td>2 previous owners</td>\n",
              "      <td>None</td>\n",
              "      <td>1 previous owner</td>\n",
              "    </tr>\n",
              "    <tr>\n",
              "      <th>hp</th>\n",
              "      <td>66 kW</td>\n",
              "      <td>141 kW</td>\n",
              "      <td>85 kW</td>\n",
              "    </tr>\n",
              "    <tr>\n",
              "      <th>type</th>\n",
              "      <td>[, Used, , Diesel (Particulate Filter)]</td>\n",
              "      <td>[, Used, , Gasoline]</td>\n",
              "      <td>[, Used, , Diesel (Particulate Filter)]</td>\n",
              "    </tr>\n",
              "    <tr>\n",
              "      <th>Previous_Owners</th>\n",
              "      <td>\\n2\\n</td>\n",
              "      <td>NaN</td>\n",
              "      <td>\\n1\\n</td>\n",
              "    </tr>\n",
              "    <tr>\n",
              "      <th>Next_inspection</th>\n",
              "      <td>[\\n06/2021\\n, \\n99 g CO2/km (comb)\\n]</td>\n",
              "      <td>NaN</td>\n",
              "      <td>NaN</td>\n",
              "    </tr>\n",
              "    <tr>\n",
              "      <th>Inspection_new</th>\n",
              "      <td>[\\nYes\\n, \\nEuro 6\\n]</td>\n",
              "      <td>NaN</td>\n",
              "      <td>NaN</td>\n",
              "    </tr>\n",
              "    <tr>\n",
              "      <th>Warranty</th>\n",
              "      <td>[\\n, \\n, \\n4 (Green)\\n]</td>\n",
              "      <td>NaN</td>\n",
              "      <td>[\\n, \\n, \\n99 g CO2/km (comb)\\n]</td>\n",
              "    </tr>\n",
              "    <tr>\n",
              "      <th>Full_Service</th>\n",
              "      <td>[\\n, \\n]</td>\n",
              "      <td>NaN</td>\n",
              "      <td>NaN</td>\n",
              "    </tr>\n",
              "    <tr>\n",
              "      <th>Non_Smoking_Vehicle</th>\n",
              "      <td>[\\n, \\n]</td>\n",
              "      <td>NaN</td>\n",
              "      <td>NaN</td>\n",
              "    </tr>\n",
              "    <tr>\n",
              "      <th>Offer_Number</th>\n",
              "      <td>[\\nLR-062483\\n]</td>\n",
              "      <td>NaN</td>\n",
              "      <td>[\\nAM-95365\\n]</td>\n",
              "    </tr>\n",
              "    <tr>\n",
              "      <th>First_Registration</th>\n",
              "      <td>[\\n, 2016, \\n]</td>\n",
              "      <td>[\\n, 2017, \\n]</td>\n",
              "      <td>[\\n, 2016, \\n]</td>\n",
              "    </tr>\n",
              "    <tr>\n",
              "      <th>Body_Color</th>\n",
              "      <td>[\\n, Black, \\n]</td>\n",
              "      <td>[\\n, Red, \\n]</td>\n",
              "      <td>[\\n, Black, \\n]</td>\n",
              "    </tr>\n",
              "    <tr>\n",
              "      <th>Paint_Type</th>\n",
              "      <td>[\\nMetallic\\n]</td>\n",
              "      <td>NaN</td>\n",
              "      <td>[\\nMetallic\\n]</td>\n",
              "    </tr>\n",
              "    <tr>\n",
              "      <th>Body_Color_Original</th>\n",
              "      <td>[\\nMythosschwarz\\n]</td>\n",
              "      <td>NaN</td>\n",
              "      <td>[\\nmythosschwarz metallic\\n]</td>\n",
              "    </tr>\n",
              "    <tr>\n",
              "      <th>Upholstery</th>\n",
              "      <td>[\\nCloth, Black\\n]</td>\n",
              "      <td>[\\nCloth, Grey\\n]</td>\n",
              "      <td>[\\nCloth, Black\\n]</td>\n",
              "    </tr>\n",
              "    <tr>\n",
              "      <th>Nr_of_Doors</th>\n",
              "      <td>[\\n5\\n]</td>\n",
              "      <td>[\\n3\\n]</td>\n",
              "      <td>[\\n4\\n]</td>\n",
              "    </tr>\n",
              "    <tr>\n",
              "      <th>Nr_of_Seats</th>\n",
              "      <td>[\\n5\\n]</td>\n",
              "      <td>[\\n4\\n]</td>\n",
              "      <td>[\\n4\\n]</td>\n",
              "    </tr>\n",
              "    <tr>\n",
              "      <th>Model_Code</th>\n",
              "      <td>[\\n0588/BDF\\n]</td>\n",
              "      <td>[\\n0588/BCY\\n]</td>\n",
              "      <td>NaN</td>\n",
              "    </tr>\n",
              "    <tr>\n",
              "      <th>Gearing_Type</th>\n",
              "      <td>[\\n, Automatic, \\n]</td>\n",
              "      <td>[\\n, Automatic, \\n]</td>\n",
              "      <td>[\\n, Automatic, \\n]</td>\n",
              "    </tr>\n",
              "    <tr>\n",
              "      <th>Displacement</th>\n",
              "      <td>[\\n1,422 cc\\n]</td>\n",
              "      <td>[\\n1,798 cc\\n]</td>\n",
              "      <td>[\\n1,598 cc\\n]</td>\n",
              "    </tr>\n",
              "    <tr>\n",
              "      <th>Cylinders</th>\n",
              "      <td>[\\n3\\n]</td>\n",
              "      <td>[\\n4\\n]</td>\n",
              "      <td>NaN</td>\n",
              "    </tr>\n",
              "    <tr>\n",
              "      <th>Weight</th>\n",
              "      <td>[\\n1,220 kg\\n]</td>\n",
              "      <td>[\\n1,255 kg\\n]</td>\n",
              "      <td>NaN</td>\n",
              "    </tr>\n",
              "    <tr>\n",
              "      <th>Drive_Chain</th>\n",
              "      <td>[\\nfront\\n]</td>\n",
              "      <td>[\\nfront\\n]</td>\n",
              "      <td>[\\nfront\\n]</td>\n",
              "    </tr>\n",
              "    <tr>\n",
              "      <th>Fuel</th>\n",
              "      <td>[\\n, Diesel (Particulate Filter), \\n]</td>\n",
              "      <td>[\\n, Gasoline, \\n]</td>\n",
              "      <td>[\\n, Diesel (Particulate Filter), \\n]</td>\n",
              "    </tr>\n",
              "    <tr>\n",
              "      <th>Consumption</th>\n",
              "      <td>[[3.8 l/100 km (comb)], [4.3 l/100 km (city)],...</td>\n",
              "      <td>[[5.6 l/100 km (comb)], [7.1 l/100 km (city)],...</td>\n",
              "      <td>[[3.8 l/100 km (comb)], [4.4 l/100 km (city)],...</td>\n",
              "    </tr>\n",
              "    <tr>\n",
              "      <th>Co_2_Emission</th>\n",
              "      <td>[\\n99 g CO2/km (comb)\\n]</td>\n",
              "      <td>[\\n129 g CO2/km (comb)\\n]</td>\n",
              "      <td>[\\n99 g CO2/km (comb)\\n]</td>\n",
              "    </tr>\n",
              "    <tr>\n",
              "      <th>Emission_Class</th>\n",
              "      <td>[\\nEuro 6\\n]</td>\n",
              "      <td>[\\nEuro 6\\n]</td>\n",
              "      <td>[\\nEuro 6\\n]</td>\n",
              "    </tr>\n",
              "    <tr>\n",
              "      <th>Comfort_&amp;_Convenience</th>\n",
              "      <td>[Air conditioning, Armrest, Automatic climate ...</td>\n",
              "      <td>[Air conditioning, Automatic climate control, ...</td>\n",
              "      <td>[Air conditioning, Cruise control, Electrical ...</td>\n",
              "    </tr>\n",
              "    <tr>\n",
              "      <th>Entertainment_&amp;_Media</th>\n",
              "      <td>[Bluetooth, Hands-free equipment, On-board com...</td>\n",
              "      <td>[Bluetooth, Hands-free equipment, On-board com...</td>\n",
              "      <td>[MP3, On-board computer]</td>\n",
              "    </tr>\n",
              "    <tr>\n",
              "      <th>Extras</th>\n",
              "      <td>[Alloy wheels, Catalytic Converter, Voice Cont...</td>\n",
              "      <td>[Alloy wheels, Sport seats, Sport suspension, ...</td>\n",
              "      <td>[Alloy wheels, Voice Control]</td>\n",
              "    </tr>\n",
              "    <tr>\n",
              "      <th>Safety_&amp;_Security</th>\n",
              "      <td>[ABS, Central door lock, Daytime running light...</td>\n",
              "      <td>[ABS, Central door lock, Central door lock wit...</td>\n",
              "      <td>[ABS, Central door lock, Daytime running light...</td>\n",
              "    </tr>\n",
              "    <tr>\n",
              "      <th>Emission_Label</th>\n",
              "      <td>NaN</td>\n",
              "      <td>[\\n4 (Green)\\n]</td>\n",
              "      <td>[\\n4 (Green)\\n]</td>\n",
              "    </tr>\n",
              "    <tr>\n",
              "      <th>Gears</th>\n",
              "      <td>NaN</td>\n",
              "      <td>[\\n7\\n]</td>\n",
              "      <td>NaN</td>\n",
              "    </tr>\n",
              "    <tr>\n",
              "      <th>Country_Version</th>\n",
              "      <td>NaN</td>\n",
              "      <td>NaN</td>\n",
              "      <td>NaN</td>\n",
              "    </tr>\n",
              "  </tbody>\n",
              "</table>\n",
              "</div>\n",
              "      <button class=\"colab-df-convert\" onclick=\"convertToInteractive('df-1df50f2a-58f6-468c-a3a2-3013e8ba4fac')\"\n",
              "              title=\"Convert this dataframe to an interactive table.\"\n",
              "              style=\"display:none;\">\n",
              "        \n",
              "  <svg xmlns=\"http://www.w3.org/2000/svg\" height=\"24px\"viewBox=\"0 0 24 24\"\n",
              "       width=\"24px\">\n",
              "    <path d=\"M0 0h24v24H0V0z\" fill=\"none\"/>\n",
              "    <path d=\"M18.56 5.44l.94 2.06.94-2.06 2.06-.94-2.06-.94-.94-2.06-.94 2.06-2.06.94zm-11 1L8.5 8.5l.94-2.06 2.06-.94-2.06-.94L8.5 2.5l-.94 2.06-2.06.94zm10 10l.94 2.06.94-2.06 2.06-.94-2.06-.94-.94-2.06-.94 2.06-2.06.94z\"/><path d=\"M17.41 7.96l-1.37-1.37c-.4-.4-.92-.59-1.43-.59-.52 0-1.04.2-1.43.59L10.3 9.45l-7.72 7.72c-.78.78-.78 2.05 0 2.83L4 21.41c.39.39.9.59 1.41.59.51 0 1.02-.2 1.41-.59l7.78-7.78 2.81-2.81c.8-.78.8-2.07 0-2.86zM5.41 20L4 18.59l7.72-7.72 1.47 1.35L5.41 20z\"/>\n",
              "  </svg>\n",
              "      </button>\n",
              "      \n",
              "  <style>\n",
              "    .colab-df-container {\n",
              "      display:flex;\n",
              "      flex-wrap:wrap;\n",
              "      gap: 12px;\n",
              "    }\n",
              "\n",
              "    .colab-df-convert {\n",
              "      background-color: #E8F0FE;\n",
              "      border: none;\n",
              "      border-radius: 50%;\n",
              "      cursor: pointer;\n",
              "      display: none;\n",
              "      fill: #1967D2;\n",
              "      height: 32px;\n",
              "      padding: 0 0 0 0;\n",
              "      width: 32px;\n",
              "    }\n",
              "\n",
              "    .colab-df-convert:hover {\n",
              "      background-color: #E2EBFA;\n",
              "      box-shadow: 0px 1px 2px rgba(60, 64, 67, 0.3), 0px 1px 3px 1px rgba(60, 64, 67, 0.15);\n",
              "      fill: #174EA6;\n",
              "    }\n",
              "\n",
              "    [theme=dark] .colab-df-convert {\n",
              "      background-color: #3B4455;\n",
              "      fill: #D2E3FC;\n",
              "    }\n",
              "\n",
              "    [theme=dark] .colab-df-convert:hover {\n",
              "      background-color: #434B5C;\n",
              "      box-shadow: 0px 1px 3px 1px rgba(0, 0, 0, 0.15);\n",
              "      filter: drop-shadow(0px 1px 2px rgba(0, 0, 0, 0.3));\n",
              "      fill: #FFFFFF;\n",
              "    }\n",
              "  </style>\n",
              "\n",
              "      <script>\n",
              "        const buttonEl =\n",
              "          document.querySelector('#df-1df50f2a-58f6-468c-a3a2-3013e8ba4fac button.colab-df-convert');\n",
              "        buttonEl.style.display =\n",
              "          google.colab.kernel.accessAllowed ? 'block' : 'none';\n",
              "\n",
              "        async function convertToInteractive(key) {\n",
              "          const element = document.querySelector('#df-1df50f2a-58f6-468c-a3a2-3013e8ba4fac');\n",
              "          const dataTable =\n",
              "            await google.colab.kernel.invokeFunction('convertToInteractive',\n",
              "                                                     [key], {});\n",
              "          if (!dataTable) return;\n",
              "\n",
              "          const docLinkHtml = 'Like what you see? Visit the ' +\n",
              "            '<a target=\"_blank\" href=https://colab.research.google.com/notebooks/data_table.ipynb>data table notebook</a>'\n",
              "            + ' to learn more about interactive tables.';\n",
              "          element.innerHTML = '';\n",
              "          dataTable['output_type'] = 'display_data';\n",
              "          await google.colab.output.renderOutput(dataTable, element);\n",
              "          const docLink = document.createElement('div');\n",
              "          docLink.innerHTML = docLinkHtml;\n",
              "          element.appendChild(docLink);\n",
              "        }\n",
              "      </script>\n",
              "    </div>\n",
              "  </div>\n",
              "  "
            ]
          },
          "metadata": {},
          "execution_count": 900
        }
      ]
    },
    {
      "cell_type": "markdown",
      "source": [
        "##Price(Target Columns)"
      ],
      "metadata": {
        "id": "Smv56-BK9mB2"
      }
    },
    {
      "cell_type": "code",
      "source": [
        "df.Price.value_counts(dropna=False)"
      ],
      "metadata": {
        "colab": {
          "base_uri": "https://localhost:8080/"
        },
        "id": "DfY09j3z0nGH",
        "outputId": "ce3cc016-edbc-4fed-df12-d0a16b5e3145"
      },
      "execution_count": 901,
      "outputs": [
        {
          "output_type": "execute_result",
          "data": {
            "text/plain": [
              "14990    154\n",
              "15990    151\n",
              "10990    139\n",
              "15900    106\n",
              "17990    102\n",
              "        ... \n",
              "17559      1\n",
              "17560      1\n",
              "17570      1\n",
              "17575      1\n",
              "39875      1\n",
              "Name: Price, Length: 2956, dtype: int64"
            ]
          },
          "metadata": {},
          "execution_count": 901
        }
      ]
    },
    {
      "cell_type": "code",
      "source": [
        "df[\"Price\"]"
      ],
      "metadata": {
        "colab": {
          "base_uri": "https://localhost:8080/"
        },
        "id": "ltKm3SuP8s2d",
        "outputId": "8d4fcc10-d360-48bd-b905-3f681b42ef5a"
      },
      "execution_count": 902,
      "outputs": [
        {
          "output_type": "execute_result",
          "data": {
            "text/plain": [
              "0        15770\n",
              "1        14500\n",
              "2        14640\n",
              "3        14500\n",
              "4        16790\n",
              "         ...  \n",
              "15914    39950\n",
              "15915    39885\n",
              "15916    39875\n",
              "15917    39700\n",
              "15918    40999\n",
              "Name: Price, Length: 15919, dtype: int64"
            ]
          },
          "metadata": {},
          "execution_count": 902
        }
      ]
    },
    {
      "cell_type": "code",
      "source": [
        "df"
      ],
      "metadata": {
        "colab": {
          "base_uri": "https://localhost:8080/",
          "height": 1000
        },
        "id": "HWf3e8jfAI2f",
        "outputId": "36dfed54-c932-4057-b80e-a68ba1cb5219"
      },
      "execution_count": 903,
      "outputs": [
        {
          "output_type": "execute_result",
          "data": {
            "text/plain": [
              "           Make_Model Body_Type  Price               Vat         Km  \\\n",
              "0             Audi A1    Sedans  15770    VAT deductible  56,013 km   \n",
              "1             Audi A1    Sedans  14500  Price negotiable  80,000 km   \n",
              "2             Audi A1    Sedans  14640    VAT deductible  83,450 km   \n",
              "3             Audi A1    Sedans  14500              None  73,000 km   \n",
              "4             Audi A1    Sedans  16790              None  16,200 km   \n",
              "...               ...       ...    ...               ...        ...   \n",
              "15914  Renault Espace       Van  39950    VAT deductible       - km   \n",
              "15915  Renault Espace       Van  39885    VAT deductible   9,900 km   \n",
              "15916  Renault Espace       Van  39875    VAT deductible      15 km   \n",
              "15917  Renault Espace       Van  39700    VAT deductible      10 km   \n",
              "15918  Renault Espace       Van  40999    VAT deductible       - km   \n",
              "\n",
              "      Registration         Prev_Owner      hp  \\\n",
              "0          01/2016  2 previous owners   66 kW   \n",
              "1          03/2017               None  141 kW   \n",
              "2          02/2016   1 previous owner   85 kW   \n",
              "3          08/2016   1 previous owner   66 kW   \n",
              "4          05/2016   1 previous owner   66 kW   \n",
              "...            ...                ...     ...   \n",
              "15914          -/-               None  147 kW   \n",
              "15915      01/2019   1 previous owner  165 kW   \n",
              "15916      03/2019   1 previous owner  146 kW   \n",
              "15917      06/2019               None  147 kW   \n",
              "15918      01/2019   1 previous owner  165 kW   \n",
              "\n",
              "                                                    type  \\\n",
              "0                [, Used, , Diesel (Particulate Filter)]   \n",
              "1                                   [, Used, , Gasoline]   \n",
              "2                [, Used, , Diesel (Particulate Filter)]   \n",
              "3                [, Used, , Diesel (Particulate Filter)]   \n",
              "4                [, Used, , Diesel (Particulate Filter)]   \n",
              "...                                                  ...   \n",
              "15914             [, New, , Diesel (Particulate Filter)]   \n",
              "15915  [, Used, , Super 95 / Super Plus 98 (Particula...   \n",
              "15916                       [, Pre-registered, , Diesel]   \n",
              "15917                       [, Pre-registered, , Diesel]   \n",
              "15918                      [, Demonstration, , Super 95]   \n",
              "\n",
              "                                         Previous_Owners  \\\n",
              "0                                                  \\n2\\n   \n",
              "1                                                    NaN   \n",
              "2                                                  \\n1\\n   \n",
              "3                                                  \\n1\\n   \n",
              "4                                                  \\n1\\n   \n",
              "...                                                  ...   \n",
              "15914                                                NaN   \n",
              "15915  [\\n1\\n, \\n, 7.4 l/100 km (comb), \\n, 9.2 l/100...   \n",
              "15916                   [\\n1\\n, \\n139 g CO2/km (comb)\\n]   \n",
              "15917                                                NaN   \n",
              "15918                                              \\n1\\n   \n",
              "\n",
              "                              Next_inspection  \\\n",
              "0       [\\n06/2021\\n, \\n99 g CO2/km (comb)\\n]   \n",
              "1                                         NaN   \n",
              "2                                         NaN   \n",
              "3                                         NaN   \n",
              "4                                         NaN   \n",
              "...                                       ...   \n",
              "15914                                     NaN   \n",
              "15915  [\\n01/2022\\n, \\n168 g CO2/km (comb)\\n]   \n",
              "15916                                     NaN   \n",
              "15917                                     NaN   \n",
              "15918                                     NaN   \n",
              "\n",
              "                           Inspection_new                          Warranty  \\\n",
              "0                   [\\nYes\\n, \\nEuro 6\\n]           [\\n, \\n, \\n4 (Green)\\n]   \n",
              "1                                     NaN                               NaN   \n",
              "2                                     NaN  [\\n, \\n, \\n99 g CO2/km (comb)\\n]   \n",
              "3                                     NaN                               NaN   \n",
              "4      [\\nYes\\n, \\n109 g CO2/km (comb)\\n]              [\\n, \\n, \\nEuro 6\\n]   \n",
              "...                                   ...                               ...   \n",
              "15914                                 NaN                     \\n24 months\\n   \n",
              "15915                                 NaN              [\\n, \\n, \\nEuro 6\\n]   \n",
              "15916         [\\nYes\\n, \\nEuro 6d-TEMP\\n]           [\\n, \\n, \\n4 (Green)\\n]   \n",
              "15917                                 NaN                                \\n   \n",
              "15918  [\\nYes\\n, \\n153 g CO2/km (comb)\\n]                               NaN   \n",
              "\n",
              "                           Full_Service      Non_Smoking_Vehicle  \\\n",
              "0                              [\\n, \\n]                 [\\n, \\n]   \n",
              "1                                   NaN                      NaN   \n",
              "2                                   NaN                      NaN   \n",
              "3      [\\n, \\n, \\n99 g CO2/km (comb)\\n]     [\\n, \\n, \\nEuro 6\\n]   \n",
              "4               [\\n, \\n, \\n4 (Green)\\n]                 [\\n, \\n]   \n",
              "...                                 ...                      ...   \n",
              "15914                               NaN                      NaN   \n",
              "15915                               NaN  [\\n, \\n, \\n4 (Green)\\n]   \n",
              "15916                          [\\n, \\n]                 [\\n, \\n]   \n",
              "15917                               NaN                      NaN   \n",
              "15918                               NaN                      NaN   \n",
              "\n",
              "               Offer_Number First_Registration       Body_Color  \\\n",
              "0           [\\nLR-062483\\n]     [\\n, 2016, \\n]  [\\n, Black, \\n]   \n",
              "1                       NaN     [\\n, 2017, \\n]    [\\n, Red, \\n]   \n",
              "2            [\\nAM-95365\\n]     [\\n, 2016, \\n]  [\\n, Black, \\n]   \n",
              "3                       NaN     [\\n, 2016, \\n]  [\\n, Brown, \\n]   \n",
              "4               [\\nC1626\\n]     [\\n, 2016, \\n]  [\\n, Black, \\n]   \n",
              "...                     ...                ...              ...   \n",
              "15914        [\\n10988301\\n]                NaN   [\\n, Grey, \\n]   \n",
              "15915     [\\n507370_3223\\n]     [\\n, 2019, \\n]   [\\n, Grey, \\n]   \n",
              "15916        [\\nEspace16\\n]     [\\n, 2019, \\n]  [\\n, White, \\n]   \n",
              "15917         [\\n2691331\\n]     [\\n, 2019, \\n]   [\\n, Grey, \\n]   \n",
              "15918  [\\nRe_30000008029\\n]     [\\n, 2019, \\n]   [\\n, Grey, \\n]   \n",
              "\n",
              "           Paint_Type           Body_Color_Original  \\\n",
              "0      [\\nMetallic\\n]           [\\nMythosschwarz\\n]   \n",
              "1                 NaN                           NaN   \n",
              "2      [\\nMetallic\\n]  [\\nmythosschwarz metallic\\n]   \n",
              "3      [\\nMetallic\\n]                           NaN   \n",
              "4      [\\nMetallic\\n]  [\\nMythosschwarz Metallic\\n]   \n",
              "...               ...                           ...   \n",
              "15914  [\\nMetallic\\n]            [\\nGrigio scuro\\n]   \n",
              "15915  [\\nMetallic\\n]     [\\nStahl-Grau Metallic\\n]   \n",
              "15916             NaN             [\\narktis-weiß\\n]   \n",
              "15917             NaN                  [\\nGrigio\\n]   \n",
              "15918  [\\nMetallic\\n]  [\\nTitanium-Grau Metallic\\n]   \n",
              "\n",
              "                      Upholstery Nr_of_Doors Nr_of_Seats      Model_Code  \\\n",
              "0             [\\nCloth, Black\\n]     [\\n5\\n]     [\\n5\\n]  [\\n0588/BDF\\n]   \n",
              "1              [\\nCloth, Grey\\n]     [\\n3\\n]     [\\n4\\n]  [\\n0588/BCY\\n]   \n",
              "2             [\\nCloth, Black\\n]     [\\n4\\n]     [\\n4\\n]             NaN   \n",
              "3                            NaN     [\\n3\\n]     [\\n4\\n]             NaN   \n",
              "4             [\\nCloth, Black\\n]     [\\n5\\n]     [\\n5\\n]  [\\n0588/BDF\\n]   \n",
              "...                          ...         ...         ...             ...   \n",
              "15914                        NaN     [\\n5\\n]     [\\n5\\n]             NaN   \n",
              "15915                [\\nCloth\\n]     [\\n5\\n]     [\\n5\\n]  [\\n0000/000\\n]   \n",
              "15916  [\\nFull leather, Black\\n]     [\\n5\\n]     [\\n7\\n]             NaN   \n",
              "15917         [\\nPart leather\\n]     [\\n5\\n]     [\\n7\\n]             NaN   \n",
              "15918  [\\nFull leather, Brown\\n]     [\\n5\\n]     [\\n5\\n]  [\\n3333/BHJ\\n]   \n",
              "\n",
              "              Gearing_Type    Displacement Cylinders          Weight  \\\n",
              "0      [\\n, Automatic, \\n]  [\\n1,422 cc\\n]   [\\n3\\n]  [\\n1,220 kg\\n]   \n",
              "1      [\\n, Automatic, \\n]  [\\n1,798 cc\\n]   [\\n4\\n]  [\\n1,255 kg\\n]   \n",
              "2      [\\n, Automatic, \\n]  [\\n1,598 cc\\n]       NaN             NaN   \n",
              "3      [\\n, Automatic, \\n]  [\\n1,422 cc\\n]   [\\n3\\n]  [\\n1,195 kg\\n]   \n",
              "4      [\\n, Automatic, \\n]  [\\n1,422 cc\\n]   [\\n3\\n]             NaN   \n",
              "...                    ...             ...       ...             ...   \n",
              "15914  [\\n, Automatic, \\n]  [\\n1,997 cc\\n]   [\\n4\\n]  [\\n1,758 kg\\n]   \n",
              "15915  [\\n, Automatic, \\n]  [\\n1,798 cc\\n]   [\\n4\\n]  [\\n1,708 kg\\n]   \n",
              "15916  [\\n, Automatic, \\n]  [\\n1,997 cc\\n]   [\\n4\\n]             NaN   \n",
              "15917  [\\n, Automatic, \\n]  [\\n1,997 cc\\n]   [\\n4\\n]  [\\n1,758 kg\\n]   \n",
              "15918  [\\n, Automatic, \\n]  [\\n1,798 cc\\n]   [\\n4\\n]  [\\n1,685 kg\\n]   \n",
              "\n",
              "       Drive_Chain                                               Fuel  \\\n",
              "0      [\\nfront\\n]              [\\n, Diesel (Particulate Filter), \\n]   \n",
              "1      [\\nfront\\n]                                 [\\n, Gasoline, \\n]   \n",
              "2      [\\nfront\\n]              [\\n, Diesel (Particulate Filter), \\n]   \n",
              "3              NaN              [\\n, Diesel (Particulate Filter), \\n]   \n",
              "4      [\\nfront\\n]              [\\n, Diesel (Particulate Filter), \\n]   \n",
              "...            ...                                                ...   \n",
              "15914  [\\nfront\\n]              [\\n, Diesel (Particulate Filter), \\n]   \n",
              "15915  [\\nfront\\n]  [\\n, Super 95 / Super Plus 98 (Particulate Fil...   \n",
              "15916  [\\nfront\\n]                                   [\\n, Diesel, \\n]   \n",
              "15917  [\\nfront\\n]                                   [\\n, Diesel, \\n]   \n",
              "15918    [\\n4WD\\n]                                 [\\n, Super 95, \\n]   \n",
              "\n",
              "                                             Consumption  \\\n",
              "0      [[3.8 l/100 km (comb)], [4.3 l/100 km (city)],...   \n",
              "1      [[5.6 l/100 km (comb)], [7.1 l/100 km (city)],...   \n",
              "2      [[3.8 l/100 km (comb)], [4.4 l/100 km (city)],...   \n",
              "3      [[3.8 l/100 km (comb)], [4.3 l/100 km (city)],...   \n",
              "4      [[4.1 l/100 km (comb)], [4.6 l/100 km (city)],...   \n",
              "...                                                  ...   \n",
              "15914  [[5.3 l/100 km (comb)], [6.2 l/100 km (city)],...   \n",
              "15915  [\\n, 7.4 l/100 km (comb), \\n, 9.2 l/100 km (ci...   \n",
              "15916  [[5.3 l/100 km (comb)], [6.2 l/100 km (city)],...   \n",
              "15917  [[5.3 l/100 km (comb)], [6.2 l/100 km (city)],...   \n",
              "15918  [[6.8 l/100 km (comb)], [8.7 l/100 km (city)],...   \n",
              "\n",
              "                   Co_2_Emission      Emission_Class  \\\n",
              "0       [\\n99 g CO2/km (comb)\\n]        [\\nEuro 6\\n]   \n",
              "1      [\\n129 g CO2/km (comb)\\n]        [\\nEuro 6\\n]   \n",
              "2       [\\n99 g CO2/km (comb)\\n]        [\\nEuro 6\\n]   \n",
              "3       [\\n99 g CO2/km (comb)\\n]        [\\nEuro 6\\n]   \n",
              "4      [\\n109 g CO2/km (comb)\\n]        [\\nEuro 6\\n]   \n",
              "...                          ...                 ...   \n",
              "15914  [\\n139 g CO2/km (comb)\\n]                 NaN   \n",
              "15915  [\\n168 g CO2/km (comb)\\n]                 NaN   \n",
              "15916  [\\n139 g CO2/km (comb)\\n]  [\\nEuro 6d-TEMP\\n]   \n",
              "15917  [\\n139 g CO2/km (comb)\\n]        [\\nEuro 6\\n]   \n",
              "15918  [\\n153 g CO2/km (comb)\\n]        [\\nEuro 6\\n]   \n",
              "\n",
              "                                   Comfort_&_Convenience  \\\n",
              "0      [Air conditioning, Armrest, Automatic climate ...   \n",
              "1      [Air conditioning, Automatic climate control, ...   \n",
              "2      [Air conditioning, Cruise control, Electrical ...   \n",
              "3      [Air suspension, Armrest, Auxiliary heating, E...   \n",
              "4      [Air conditioning, Armrest, Automatic climate ...   \n",
              "...                                                  ...   \n",
              "15914  [Air conditioning, Automatic climate control, ...   \n",
              "15915  [Air conditioning, Automatic climate control, ...   \n",
              "15916  [Air conditioning, Armrest, Automatic climate ...   \n",
              "15917  [Air conditioning, Automatic climate control, ...   \n",
              "15918  [Air conditioning, Automatic climate control, ...   \n",
              "\n",
              "                                   Entertainment_&_Media  \\\n",
              "0      [Bluetooth, Hands-free equipment, On-board com...   \n",
              "1      [Bluetooth, Hands-free equipment, On-board com...   \n",
              "2                               [MP3, On-board computer]   \n",
              "3      [Bluetooth, CD player, Hands-free equipment, M...   \n",
              "4      [Bluetooth, CD player, Hands-free equipment, M...   \n",
              "...                                                  ...   \n",
              "15914  [Bluetooth, Digital radio, Hands-free equipmen...   \n",
              "15915  [Bluetooth, Digital radio, Hands-free equipmen...   \n",
              "15916  [Bluetooth, Hands-free equipment, On-board com...   \n",
              "15917             [Bluetooth, Digital radio, Radio, USB]   \n",
              "15918                                              [USB]   \n",
              "\n",
              "                                                  Extras  \\\n",
              "0      [Alloy wheels, Catalytic Converter, Voice Cont...   \n",
              "1      [Alloy wheels, Sport seats, Sport suspension, ...   \n",
              "2                          [Alloy wheels, Voice Control]   \n",
              "3             [Alloy wheels, Sport seats, Voice Control]   \n",
              "4      [Alloy wheels, Sport package, Sport suspension...   \n",
              "...                                                  ...   \n",
              "15914                       [Alloy wheels, Touch screen]   \n",
              "15915        [Alloy wheels, Touch screen, Voice Control]   \n",
              "15916                                     [Alloy wheels]   \n",
              "15917                       [Alloy wheels, Touch screen]   \n",
              "15918                       [Alloy wheels, Touch screen]   \n",
              "\n",
              "                                       Safety_&_Security   Emission_Label  \\\n",
              "0      [ABS, Central door lock, Daytime running light...              NaN   \n",
              "1      [ABS, Central door lock, Central door lock wit...  [\\n4 (Green)\\n]   \n",
              "2      [ABS, Central door lock, Daytime running light...  [\\n4 (Green)\\n]   \n",
              "3      [ABS, Alarm system, Central door lock with rem...              NaN   \n",
              "4      [ABS, Central door lock, Driver-side airbag, E...              NaN   \n",
              "...                                                  ...              ...   \n",
              "15914  [ABS, Central door lock, Central door lock wit...              NaN   \n",
              "15915  [ABS, Adaptive Cruise Control, Blind spot moni...              NaN   \n",
              "15916  [ABS, Adaptive Cruise Control, Blind spot moni...              NaN   \n",
              "15917  [ABS, Blind spot monitor, Driver-side airbag, ...              NaN   \n",
              "15918  [ABS, Blind spot monitor, Daytime running ligh...  [\\n4 (Green)\\n]   \n",
              "\n",
              "         Gears Country_Version  \n",
              "0          NaN             NaN  \n",
              "1      [\\n7\\n]             NaN  \n",
              "2          NaN             NaN  \n",
              "3      [\\n6\\n]             NaN  \n",
              "4          NaN   [\\nGermany\\n]  \n",
              "...        ...             ...  \n",
              "15914  [\\n6\\n]             NaN  \n",
              "15915  [\\n7\\n]   [\\nGermany\\n]  \n",
              "15916  [\\n6\\n]   [\\nAustria\\n]  \n",
              "15917  [\\n6\\n]             NaN  \n",
              "15918      NaN   [\\nGermany\\n]  \n",
              "\n",
              "[15919 rows x 40 columns]"
            ],
            "text/html": [
              "\n",
              "  <div id=\"df-6715a4c9-d617-4c6b-8fc8-1317e5a074eb\">\n",
              "    <div class=\"colab-df-container\">\n",
              "      <div>\n",
              "<style scoped>\n",
              "    .dataframe tbody tr th:only-of-type {\n",
              "        vertical-align: middle;\n",
              "    }\n",
              "\n",
              "    .dataframe tbody tr th {\n",
              "        vertical-align: top;\n",
              "    }\n",
              "\n",
              "    .dataframe thead th {\n",
              "        text-align: right;\n",
              "    }\n",
              "</style>\n",
              "<table border=\"1\" class=\"dataframe\">\n",
              "  <thead>\n",
              "    <tr style=\"text-align: right;\">\n",
              "      <th></th>\n",
              "      <th>Make_Model</th>\n",
              "      <th>Body_Type</th>\n",
              "      <th>Price</th>\n",
              "      <th>Vat</th>\n",
              "      <th>Km</th>\n",
              "      <th>Registration</th>\n",
              "      <th>Prev_Owner</th>\n",
              "      <th>hp</th>\n",
              "      <th>type</th>\n",
              "      <th>Previous_Owners</th>\n",
              "      <th>Next_inspection</th>\n",
              "      <th>Inspection_new</th>\n",
              "      <th>Warranty</th>\n",
              "      <th>Full_Service</th>\n",
              "      <th>Non_Smoking_Vehicle</th>\n",
              "      <th>Offer_Number</th>\n",
              "      <th>First_Registration</th>\n",
              "      <th>Body_Color</th>\n",
              "      <th>Paint_Type</th>\n",
              "      <th>Body_Color_Original</th>\n",
              "      <th>Upholstery</th>\n",
              "      <th>Nr_of_Doors</th>\n",
              "      <th>Nr_of_Seats</th>\n",
              "      <th>Model_Code</th>\n",
              "      <th>Gearing_Type</th>\n",
              "      <th>Displacement</th>\n",
              "      <th>Cylinders</th>\n",
              "      <th>Weight</th>\n",
              "      <th>Drive_Chain</th>\n",
              "      <th>Fuel</th>\n",
              "      <th>Consumption</th>\n",
              "      <th>Co_2_Emission</th>\n",
              "      <th>Emission_Class</th>\n",
              "      <th>Comfort_&amp;_Convenience</th>\n",
              "      <th>Entertainment_&amp;_Media</th>\n",
              "      <th>Extras</th>\n",
              "      <th>Safety_&amp;_Security</th>\n",
              "      <th>Emission_Label</th>\n",
              "      <th>Gears</th>\n",
              "      <th>Country_Version</th>\n",
              "    </tr>\n",
              "  </thead>\n",
              "  <tbody>\n",
              "    <tr>\n",
              "      <th>0</th>\n",
              "      <td>Audi A1</td>\n",
              "      <td>Sedans</td>\n",
              "      <td>15770</td>\n",
              "      <td>VAT deductible</td>\n",
              "      <td>56,013 km</td>\n",
              "      <td>01/2016</td>\n",
              "      <td>2 previous owners</td>\n",
              "      <td>66 kW</td>\n",
              "      <td>[, Used, , Diesel (Particulate Filter)]</td>\n",
              "      <td>\\n2\\n</td>\n",
              "      <td>[\\n06/2021\\n, \\n99 g CO2/km (comb)\\n]</td>\n",
              "      <td>[\\nYes\\n, \\nEuro 6\\n]</td>\n",
              "      <td>[\\n, \\n, \\n4 (Green)\\n]</td>\n",
              "      <td>[\\n, \\n]</td>\n",
              "      <td>[\\n, \\n]</td>\n",
              "      <td>[\\nLR-062483\\n]</td>\n",
              "      <td>[\\n, 2016, \\n]</td>\n",
              "      <td>[\\n, Black, \\n]</td>\n",
              "      <td>[\\nMetallic\\n]</td>\n",
              "      <td>[\\nMythosschwarz\\n]</td>\n",
              "      <td>[\\nCloth, Black\\n]</td>\n",
              "      <td>[\\n5\\n]</td>\n",
              "      <td>[\\n5\\n]</td>\n",
              "      <td>[\\n0588/BDF\\n]</td>\n",
              "      <td>[\\n, Automatic, \\n]</td>\n",
              "      <td>[\\n1,422 cc\\n]</td>\n",
              "      <td>[\\n3\\n]</td>\n",
              "      <td>[\\n1,220 kg\\n]</td>\n",
              "      <td>[\\nfront\\n]</td>\n",
              "      <td>[\\n, Diesel (Particulate Filter), \\n]</td>\n",
              "      <td>[[3.8 l/100 km (comb)], [4.3 l/100 km (city)],...</td>\n",
              "      <td>[\\n99 g CO2/km (comb)\\n]</td>\n",
              "      <td>[\\nEuro 6\\n]</td>\n",
              "      <td>[Air conditioning, Armrest, Automatic climate ...</td>\n",
              "      <td>[Bluetooth, Hands-free equipment, On-board com...</td>\n",
              "      <td>[Alloy wheels, Catalytic Converter, Voice Cont...</td>\n",
              "      <td>[ABS, Central door lock, Daytime running light...</td>\n",
              "      <td>NaN</td>\n",
              "      <td>NaN</td>\n",
              "      <td>NaN</td>\n",
              "    </tr>\n",
              "    <tr>\n",
              "      <th>1</th>\n",
              "      <td>Audi A1</td>\n",
              "      <td>Sedans</td>\n",
              "      <td>14500</td>\n",
              "      <td>Price negotiable</td>\n",
              "      <td>80,000 km</td>\n",
              "      <td>03/2017</td>\n",
              "      <td>None</td>\n",
              "      <td>141 kW</td>\n",
              "      <td>[, Used, , Gasoline]</td>\n",
              "      <td>NaN</td>\n",
              "      <td>NaN</td>\n",
              "      <td>NaN</td>\n",
              "      <td>NaN</td>\n",
              "      <td>NaN</td>\n",
              "      <td>NaN</td>\n",
              "      <td>NaN</td>\n",
              "      <td>[\\n, 2017, \\n]</td>\n",
              "      <td>[\\n, Red, \\n]</td>\n",
              "      <td>NaN</td>\n",
              "      <td>NaN</td>\n",
              "      <td>[\\nCloth, Grey\\n]</td>\n",
              "      <td>[\\n3\\n]</td>\n",
              "      <td>[\\n4\\n]</td>\n",
              "      <td>[\\n0588/BCY\\n]</td>\n",
              "      <td>[\\n, Automatic, \\n]</td>\n",
              "      <td>[\\n1,798 cc\\n]</td>\n",
              "      <td>[\\n4\\n]</td>\n",
              "      <td>[\\n1,255 kg\\n]</td>\n",
              "      <td>[\\nfront\\n]</td>\n",
              "      <td>[\\n, Gasoline, \\n]</td>\n",
              "      <td>[[5.6 l/100 km (comb)], [7.1 l/100 km (city)],...</td>\n",
              "      <td>[\\n129 g CO2/km (comb)\\n]</td>\n",
              "      <td>[\\nEuro 6\\n]</td>\n",
              "      <td>[Air conditioning, Automatic climate control, ...</td>\n",
              "      <td>[Bluetooth, Hands-free equipment, On-board com...</td>\n",
              "      <td>[Alloy wheels, Sport seats, Sport suspension, ...</td>\n",
              "      <td>[ABS, Central door lock, Central door lock wit...</td>\n",
              "      <td>[\\n4 (Green)\\n]</td>\n",
              "      <td>[\\n7\\n]</td>\n",
              "      <td>NaN</td>\n",
              "    </tr>\n",
              "    <tr>\n",
              "      <th>2</th>\n",
              "      <td>Audi A1</td>\n",
              "      <td>Sedans</td>\n",
              "      <td>14640</td>\n",
              "      <td>VAT deductible</td>\n",
              "      <td>83,450 km</td>\n",
              "      <td>02/2016</td>\n",
              "      <td>1 previous owner</td>\n",
              "      <td>85 kW</td>\n",
              "      <td>[, Used, , Diesel (Particulate Filter)]</td>\n",
              "      <td>\\n1\\n</td>\n",
              "      <td>NaN</td>\n",
              "      <td>NaN</td>\n",
              "      <td>[\\n, \\n, \\n99 g CO2/km (comb)\\n]</td>\n",
              "      <td>NaN</td>\n",
              "      <td>NaN</td>\n",
              "      <td>[\\nAM-95365\\n]</td>\n",
              "      <td>[\\n, 2016, \\n]</td>\n",
              "      <td>[\\n, Black, \\n]</td>\n",
              "      <td>[\\nMetallic\\n]</td>\n",
              "      <td>[\\nmythosschwarz metallic\\n]</td>\n",
              "      <td>[\\nCloth, Black\\n]</td>\n",
              "      <td>[\\n4\\n]</td>\n",
              "      <td>[\\n4\\n]</td>\n",
              "      <td>NaN</td>\n",
              "      <td>[\\n, Automatic, \\n]</td>\n",
              "      <td>[\\n1,598 cc\\n]</td>\n",
              "      <td>NaN</td>\n",
              "      <td>NaN</td>\n",
              "      <td>[\\nfront\\n]</td>\n",
              "      <td>[\\n, Diesel (Particulate Filter), \\n]</td>\n",
              "      <td>[[3.8 l/100 km (comb)], [4.4 l/100 km (city)],...</td>\n",
              "      <td>[\\n99 g CO2/km (comb)\\n]</td>\n",
              "      <td>[\\nEuro 6\\n]</td>\n",
              "      <td>[Air conditioning, Cruise control, Electrical ...</td>\n",
              "      <td>[MP3, On-board computer]</td>\n",
              "      <td>[Alloy wheels, Voice Control]</td>\n",
              "      <td>[ABS, Central door lock, Daytime running light...</td>\n",
              "      <td>[\\n4 (Green)\\n]</td>\n",
              "      <td>NaN</td>\n",
              "      <td>NaN</td>\n",
              "    </tr>\n",
              "    <tr>\n",
              "      <th>3</th>\n",
              "      <td>Audi A1</td>\n",
              "      <td>Sedans</td>\n",
              "      <td>14500</td>\n",
              "      <td>None</td>\n",
              "      <td>73,000 km</td>\n",
              "      <td>08/2016</td>\n",
              "      <td>1 previous owner</td>\n",
              "      <td>66 kW</td>\n",
              "      <td>[, Used, , Diesel (Particulate Filter)]</td>\n",
              "      <td>\\n1\\n</td>\n",
              "      <td>NaN</td>\n",
              "      <td>NaN</td>\n",
              "      <td>NaN</td>\n",
              "      <td>[\\n, \\n, \\n99 g CO2/km (comb)\\n]</td>\n",
              "      <td>[\\n, \\n, \\nEuro 6\\n]</td>\n",
              "      <td>NaN</td>\n",
              "      <td>[\\n, 2016, \\n]</td>\n",
              "      <td>[\\n, Brown, \\n]</td>\n",
              "      <td>[\\nMetallic\\n]</td>\n",
              "      <td>NaN</td>\n",
              "      <td>NaN</td>\n",
              "      <td>[\\n3\\n]</td>\n",
              "      <td>[\\n4\\n]</td>\n",
              "      <td>NaN</td>\n",
              "      <td>[\\n, Automatic, \\n]</td>\n",
              "      <td>[\\n1,422 cc\\n]</td>\n",
              "      <td>[\\n3\\n]</td>\n",
              "      <td>[\\n1,195 kg\\n]</td>\n",
              "      <td>NaN</td>\n",
              "      <td>[\\n, Diesel (Particulate Filter), \\n]</td>\n",
              "      <td>[[3.8 l/100 km (comb)], [4.3 l/100 km (city)],...</td>\n",
              "      <td>[\\n99 g CO2/km (comb)\\n]</td>\n",
              "      <td>[\\nEuro 6\\n]</td>\n",
              "      <td>[Air suspension, Armrest, Auxiliary heating, E...</td>\n",
              "      <td>[Bluetooth, CD player, Hands-free equipment, M...</td>\n",
              "      <td>[Alloy wheels, Sport seats, Voice Control]</td>\n",
              "      <td>[ABS, Alarm system, Central door lock with rem...</td>\n",
              "      <td>NaN</td>\n",
              "      <td>[\\n6\\n]</td>\n",
              "      <td>NaN</td>\n",
              "    </tr>\n",
              "    <tr>\n",
              "      <th>4</th>\n",
              "      <td>Audi A1</td>\n",
              "      <td>Sedans</td>\n",
              "      <td>16790</td>\n",
              "      <td>None</td>\n",
              "      <td>16,200 km</td>\n",
              "      <td>05/2016</td>\n",
              "      <td>1 previous owner</td>\n",
              "      <td>66 kW</td>\n",
              "      <td>[, Used, , Diesel (Particulate Filter)]</td>\n",
              "      <td>\\n1\\n</td>\n",
              "      <td>NaN</td>\n",
              "      <td>[\\nYes\\n, \\n109 g CO2/km (comb)\\n]</td>\n",
              "      <td>[\\n, \\n, \\nEuro 6\\n]</td>\n",
              "      <td>[\\n, \\n, \\n4 (Green)\\n]</td>\n",
              "      <td>[\\n, \\n]</td>\n",
              "      <td>[\\nC1626\\n]</td>\n",
              "      <td>[\\n, 2016, \\n]</td>\n",
              "      <td>[\\n, Black, \\n]</td>\n",
              "      <td>[\\nMetallic\\n]</td>\n",
              "      <td>[\\nMythosschwarz Metallic\\n]</td>\n",
              "      <td>[\\nCloth, Black\\n]</td>\n",
              "      <td>[\\n5\\n]</td>\n",
              "      <td>[\\n5\\n]</td>\n",
              "      <td>[\\n0588/BDF\\n]</td>\n",
              "      <td>[\\n, Automatic, \\n]</td>\n",
              "      <td>[\\n1,422 cc\\n]</td>\n",
              "      <td>[\\n3\\n]</td>\n",
              "      <td>NaN</td>\n",
              "      <td>[\\nfront\\n]</td>\n",
              "      <td>[\\n, Diesel (Particulate Filter), \\n]</td>\n",
              "      <td>[[4.1 l/100 km (comb)], [4.6 l/100 km (city)],...</td>\n",
              "      <td>[\\n109 g CO2/km (comb)\\n]</td>\n",
              "      <td>[\\nEuro 6\\n]</td>\n",
              "      <td>[Air conditioning, Armrest, Automatic climate ...</td>\n",
              "      <td>[Bluetooth, CD player, Hands-free equipment, M...</td>\n",
              "      <td>[Alloy wheels, Sport package, Sport suspension...</td>\n",
              "      <td>[ABS, Central door lock, Driver-side airbag, E...</td>\n",
              "      <td>NaN</td>\n",
              "      <td>NaN</td>\n",
              "      <td>[\\nGermany\\n]</td>\n",
              "    </tr>\n",
              "    <tr>\n",
              "      <th>...</th>\n",
              "      <td>...</td>\n",
              "      <td>...</td>\n",
              "      <td>...</td>\n",
              "      <td>...</td>\n",
              "      <td>...</td>\n",
              "      <td>...</td>\n",
              "      <td>...</td>\n",
              "      <td>...</td>\n",
              "      <td>...</td>\n",
              "      <td>...</td>\n",
              "      <td>...</td>\n",
              "      <td>...</td>\n",
              "      <td>...</td>\n",
              "      <td>...</td>\n",
              "      <td>...</td>\n",
              "      <td>...</td>\n",
              "      <td>...</td>\n",
              "      <td>...</td>\n",
              "      <td>...</td>\n",
              "      <td>...</td>\n",
              "      <td>...</td>\n",
              "      <td>...</td>\n",
              "      <td>...</td>\n",
              "      <td>...</td>\n",
              "      <td>...</td>\n",
              "      <td>...</td>\n",
              "      <td>...</td>\n",
              "      <td>...</td>\n",
              "      <td>...</td>\n",
              "      <td>...</td>\n",
              "      <td>...</td>\n",
              "      <td>...</td>\n",
              "      <td>...</td>\n",
              "      <td>...</td>\n",
              "      <td>...</td>\n",
              "      <td>...</td>\n",
              "      <td>...</td>\n",
              "      <td>...</td>\n",
              "      <td>...</td>\n",
              "      <td>...</td>\n",
              "    </tr>\n",
              "    <tr>\n",
              "      <th>15914</th>\n",
              "      <td>Renault Espace</td>\n",
              "      <td>Van</td>\n",
              "      <td>39950</td>\n",
              "      <td>VAT deductible</td>\n",
              "      <td>- km</td>\n",
              "      <td>-/-</td>\n",
              "      <td>None</td>\n",
              "      <td>147 kW</td>\n",
              "      <td>[, New, , Diesel (Particulate Filter)]</td>\n",
              "      <td>NaN</td>\n",
              "      <td>NaN</td>\n",
              "      <td>NaN</td>\n",
              "      <td>\\n24 months\\n</td>\n",
              "      <td>NaN</td>\n",
              "      <td>NaN</td>\n",
              "      <td>[\\n10988301\\n]</td>\n",
              "      <td>NaN</td>\n",
              "      <td>[\\n, Grey, \\n]</td>\n",
              "      <td>[\\nMetallic\\n]</td>\n",
              "      <td>[\\nGrigio scuro\\n]</td>\n",
              "      <td>NaN</td>\n",
              "      <td>[\\n5\\n]</td>\n",
              "      <td>[\\n5\\n]</td>\n",
              "      <td>NaN</td>\n",
              "      <td>[\\n, Automatic, \\n]</td>\n",
              "      <td>[\\n1,997 cc\\n]</td>\n",
              "      <td>[\\n4\\n]</td>\n",
              "      <td>[\\n1,758 kg\\n]</td>\n",
              "      <td>[\\nfront\\n]</td>\n",
              "      <td>[\\n, Diesel (Particulate Filter), \\n]</td>\n",
              "      <td>[[5.3 l/100 km (comb)], [6.2 l/100 km (city)],...</td>\n",
              "      <td>[\\n139 g CO2/km (comb)\\n]</td>\n",
              "      <td>NaN</td>\n",
              "      <td>[Air conditioning, Automatic climate control, ...</td>\n",
              "      <td>[Bluetooth, Digital radio, Hands-free equipmen...</td>\n",
              "      <td>[Alloy wheels, Touch screen]</td>\n",
              "      <td>[ABS, Central door lock, Central door lock wit...</td>\n",
              "      <td>NaN</td>\n",
              "      <td>[\\n6\\n]</td>\n",
              "      <td>NaN</td>\n",
              "    </tr>\n",
              "    <tr>\n",
              "      <th>15915</th>\n",
              "      <td>Renault Espace</td>\n",
              "      <td>Van</td>\n",
              "      <td>39885</td>\n",
              "      <td>VAT deductible</td>\n",
              "      <td>9,900 km</td>\n",
              "      <td>01/2019</td>\n",
              "      <td>1 previous owner</td>\n",
              "      <td>165 kW</td>\n",
              "      <td>[, Used, , Super 95 / Super Plus 98 (Particula...</td>\n",
              "      <td>[\\n1\\n, \\n, 7.4 l/100 km (comb), \\n, 9.2 l/100...</td>\n",
              "      <td>[\\n01/2022\\n, \\n168 g CO2/km (comb)\\n]</td>\n",
              "      <td>NaN</td>\n",
              "      <td>[\\n, \\n, \\nEuro 6\\n]</td>\n",
              "      <td>NaN</td>\n",
              "      <td>[\\n, \\n, \\n4 (Green)\\n]</td>\n",
              "      <td>[\\n507370_3223\\n]</td>\n",
              "      <td>[\\n, 2019, \\n]</td>\n",
              "      <td>[\\n, Grey, \\n]</td>\n",
              "      <td>[\\nMetallic\\n]</td>\n",
              "      <td>[\\nStahl-Grau Metallic\\n]</td>\n",
              "      <td>[\\nCloth\\n]</td>\n",
              "      <td>[\\n5\\n]</td>\n",
              "      <td>[\\n5\\n]</td>\n",
              "      <td>[\\n0000/000\\n]</td>\n",
              "      <td>[\\n, Automatic, \\n]</td>\n",
              "      <td>[\\n1,798 cc\\n]</td>\n",
              "      <td>[\\n4\\n]</td>\n",
              "      <td>[\\n1,708 kg\\n]</td>\n",
              "      <td>[\\nfront\\n]</td>\n",
              "      <td>[\\n, Super 95 / Super Plus 98 (Particulate Fil...</td>\n",
              "      <td>[\\n, 7.4 l/100 km (comb), \\n, 9.2 l/100 km (ci...</td>\n",
              "      <td>[\\n168 g CO2/km (comb)\\n]</td>\n",
              "      <td>NaN</td>\n",
              "      <td>[Air conditioning, Automatic climate control, ...</td>\n",
              "      <td>[Bluetooth, Digital radio, Hands-free equipmen...</td>\n",
              "      <td>[Alloy wheels, Touch screen, Voice Control]</td>\n",
              "      <td>[ABS, Adaptive Cruise Control, Blind spot moni...</td>\n",
              "      <td>NaN</td>\n",
              "      <td>[\\n7\\n]</td>\n",
              "      <td>[\\nGermany\\n]</td>\n",
              "    </tr>\n",
              "    <tr>\n",
              "      <th>15916</th>\n",
              "      <td>Renault Espace</td>\n",
              "      <td>Van</td>\n",
              "      <td>39875</td>\n",
              "      <td>VAT deductible</td>\n",
              "      <td>15 km</td>\n",
              "      <td>03/2019</td>\n",
              "      <td>1 previous owner</td>\n",
              "      <td>146 kW</td>\n",
              "      <td>[, Pre-registered, , Diesel]</td>\n",
              "      <td>[\\n1\\n, \\n139 g CO2/km (comb)\\n]</td>\n",
              "      <td>NaN</td>\n",
              "      <td>[\\nYes\\n, \\nEuro 6d-TEMP\\n]</td>\n",
              "      <td>[\\n, \\n, \\n4 (Green)\\n]</td>\n",
              "      <td>[\\n, \\n]</td>\n",
              "      <td>[\\n, \\n]</td>\n",
              "      <td>[\\nEspace16\\n]</td>\n",
              "      <td>[\\n, 2019, \\n]</td>\n",
              "      <td>[\\n, White, \\n]</td>\n",
              "      <td>NaN</td>\n",
              "      <td>[\\narktis-weiß\\n]</td>\n",
              "      <td>[\\nFull leather, Black\\n]</td>\n",
              "      <td>[\\n5\\n]</td>\n",
              "      <td>[\\n7\\n]</td>\n",
              "      <td>NaN</td>\n",
              "      <td>[\\n, Automatic, \\n]</td>\n",
              "      <td>[\\n1,997 cc\\n]</td>\n",
              "      <td>[\\n4\\n]</td>\n",
              "      <td>NaN</td>\n",
              "      <td>[\\nfront\\n]</td>\n",
              "      <td>[\\n, Diesel, \\n]</td>\n",
              "      <td>[[5.3 l/100 km (comb)], [6.2 l/100 km (city)],...</td>\n",
              "      <td>[\\n139 g CO2/km (comb)\\n]</td>\n",
              "      <td>[\\nEuro 6d-TEMP\\n]</td>\n",
              "      <td>[Air conditioning, Armrest, Automatic climate ...</td>\n",
              "      <td>[Bluetooth, Hands-free equipment, On-board com...</td>\n",
              "      <td>[Alloy wheels]</td>\n",
              "      <td>[ABS, Adaptive Cruise Control, Blind spot moni...</td>\n",
              "      <td>NaN</td>\n",
              "      <td>[\\n6\\n]</td>\n",
              "      <td>[\\nAustria\\n]</td>\n",
              "    </tr>\n",
              "    <tr>\n",
              "      <th>15917</th>\n",
              "      <td>Renault Espace</td>\n",
              "      <td>Van</td>\n",
              "      <td>39700</td>\n",
              "      <td>VAT deductible</td>\n",
              "      <td>10 km</td>\n",
              "      <td>06/2019</td>\n",
              "      <td>None</td>\n",
              "      <td>147 kW</td>\n",
              "      <td>[, Pre-registered, , Diesel]</td>\n",
              "      <td>NaN</td>\n",
              "      <td>NaN</td>\n",
              "      <td>NaN</td>\n",
              "      <td>\\n</td>\n",
              "      <td>NaN</td>\n",
              "      <td>NaN</td>\n",
              "      <td>[\\n2691331\\n]</td>\n",
              "      <td>[\\n, 2019, \\n]</td>\n",
              "      <td>[\\n, Grey, \\n]</td>\n",
              "      <td>NaN</td>\n",
              "      <td>[\\nGrigio\\n]</td>\n",
              "      <td>[\\nPart leather\\n]</td>\n",
              "      <td>[\\n5\\n]</td>\n",
              "      <td>[\\n7\\n]</td>\n",
              "      <td>NaN</td>\n",
              "      <td>[\\n, Automatic, \\n]</td>\n",
              "      <td>[\\n1,997 cc\\n]</td>\n",
              "      <td>[\\n4\\n]</td>\n",
              "      <td>[\\n1,758 kg\\n]</td>\n",
              "      <td>[\\nfront\\n]</td>\n",
              "      <td>[\\n, Diesel, \\n]</td>\n",
              "      <td>[[5.3 l/100 km (comb)], [6.2 l/100 km (city)],...</td>\n",
              "      <td>[\\n139 g CO2/km (comb)\\n]</td>\n",
              "      <td>[\\nEuro 6\\n]</td>\n",
              "      <td>[Air conditioning, Automatic climate control, ...</td>\n",
              "      <td>[Bluetooth, Digital radio, Radio, USB]</td>\n",
              "      <td>[Alloy wheels, Touch screen]</td>\n",
              "      <td>[ABS, Blind spot monitor, Driver-side airbag, ...</td>\n",
              "      <td>NaN</td>\n",
              "      <td>[\\n6\\n]</td>\n",
              "      <td>NaN</td>\n",
              "    </tr>\n",
              "    <tr>\n",
              "      <th>15918</th>\n",
              "      <td>Renault Espace</td>\n",
              "      <td>Van</td>\n",
              "      <td>40999</td>\n",
              "      <td>VAT deductible</td>\n",
              "      <td>- km</td>\n",
              "      <td>01/2019</td>\n",
              "      <td>1 previous owner</td>\n",
              "      <td>165 kW</td>\n",
              "      <td>[, Demonstration, , Super 95]</td>\n",
              "      <td>\\n1\\n</td>\n",
              "      <td>NaN</td>\n",
              "      <td>[\\nYes\\n, \\n153 g CO2/km (comb)\\n]</td>\n",
              "      <td>NaN</td>\n",
              "      <td>NaN</td>\n",
              "      <td>NaN</td>\n",
              "      <td>[\\nRe_30000008029\\n]</td>\n",
              "      <td>[\\n, 2019, \\n]</td>\n",
              "      <td>[\\n, Grey, \\n]</td>\n",
              "      <td>[\\nMetallic\\n]</td>\n",
              "      <td>[\\nTitanium-Grau Metallic\\n]</td>\n",
              "      <td>[\\nFull leather, Brown\\n]</td>\n",
              "      <td>[\\n5\\n]</td>\n",
              "      <td>[\\n5\\n]</td>\n",
              "      <td>[\\n3333/BHJ\\n]</td>\n",
              "      <td>[\\n, Automatic, \\n]</td>\n",
              "      <td>[\\n1,798 cc\\n]</td>\n",
              "      <td>[\\n4\\n]</td>\n",
              "      <td>[\\n1,685 kg\\n]</td>\n",
              "      <td>[\\n4WD\\n]</td>\n",
              "      <td>[\\n, Super 95, \\n]</td>\n",
              "      <td>[[6.8 l/100 km (comb)], [8.7 l/100 km (city)],...</td>\n",
              "      <td>[\\n153 g CO2/km (comb)\\n]</td>\n",
              "      <td>[\\nEuro 6\\n]</td>\n",
              "      <td>[Air conditioning, Automatic climate control, ...</td>\n",
              "      <td>[USB]</td>\n",
              "      <td>[Alloy wheels, Touch screen]</td>\n",
              "      <td>[ABS, Blind spot monitor, Daytime running ligh...</td>\n",
              "      <td>[\\n4 (Green)\\n]</td>\n",
              "      <td>NaN</td>\n",
              "      <td>[\\nGermany\\n]</td>\n",
              "    </tr>\n",
              "  </tbody>\n",
              "</table>\n",
              "<p>15919 rows × 40 columns</p>\n",
              "</div>\n",
              "      <button class=\"colab-df-convert\" onclick=\"convertToInteractive('df-6715a4c9-d617-4c6b-8fc8-1317e5a074eb')\"\n",
              "              title=\"Convert this dataframe to an interactive table.\"\n",
              "              style=\"display:none;\">\n",
              "        \n",
              "  <svg xmlns=\"http://www.w3.org/2000/svg\" height=\"24px\"viewBox=\"0 0 24 24\"\n",
              "       width=\"24px\">\n",
              "    <path d=\"M0 0h24v24H0V0z\" fill=\"none\"/>\n",
              "    <path d=\"M18.56 5.44l.94 2.06.94-2.06 2.06-.94-2.06-.94-.94-2.06-.94 2.06-2.06.94zm-11 1L8.5 8.5l.94-2.06 2.06-.94-2.06-.94L8.5 2.5l-.94 2.06-2.06.94zm10 10l.94 2.06.94-2.06 2.06-.94-2.06-.94-.94-2.06-.94 2.06-2.06.94z\"/><path d=\"M17.41 7.96l-1.37-1.37c-.4-.4-.92-.59-1.43-.59-.52 0-1.04.2-1.43.59L10.3 9.45l-7.72 7.72c-.78.78-.78 2.05 0 2.83L4 21.41c.39.39.9.59 1.41.59.51 0 1.02-.2 1.41-.59l7.78-7.78 2.81-2.81c.8-.78.8-2.07 0-2.86zM5.41 20L4 18.59l7.72-7.72 1.47 1.35L5.41 20z\"/>\n",
              "  </svg>\n",
              "      </button>\n",
              "      \n",
              "  <style>\n",
              "    .colab-df-container {\n",
              "      display:flex;\n",
              "      flex-wrap:wrap;\n",
              "      gap: 12px;\n",
              "    }\n",
              "\n",
              "    .colab-df-convert {\n",
              "      background-color: #E8F0FE;\n",
              "      border: none;\n",
              "      border-radius: 50%;\n",
              "      cursor: pointer;\n",
              "      display: none;\n",
              "      fill: #1967D2;\n",
              "      height: 32px;\n",
              "      padding: 0 0 0 0;\n",
              "      width: 32px;\n",
              "    }\n",
              "\n",
              "    .colab-df-convert:hover {\n",
              "      background-color: #E2EBFA;\n",
              "      box-shadow: 0px 1px 2px rgba(60, 64, 67, 0.3), 0px 1px 3px 1px rgba(60, 64, 67, 0.15);\n",
              "      fill: #174EA6;\n",
              "    }\n",
              "\n",
              "    [theme=dark] .colab-df-convert {\n",
              "      background-color: #3B4455;\n",
              "      fill: #D2E3FC;\n",
              "    }\n",
              "\n",
              "    [theme=dark] .colab-df-convert:hover {\n",
              "      background-color: #434B5C;\n",
              "      box-shadow: 0px 1px 3px 1px rgba(0, 0, 0, 0.15);\n",
              "      filter: drop-shadow(0px 1px 2px rgba(0, 0, 0, 0.3));\n",
              "      fill: #FFFFFF;\n",
              "    }\n",
              "  </style>\n",
              "\n",
              "      <script>\n",
              "        const buttonEl =\n",
              "          document.querySelector('#df-6715a4c9-d617-4c6b-8fc8-1317e5a074eb button.colab-df-convert');\n",
              "        buttonEl.style.display =\n",
              "          google.colab.kernel.accessAllowed ? 'block' : 'none';\n",
              "\n",
              "        async function convertToInteractive(key) {\n",
              "          const element = document.querySelector('#df-6715a4c9-d617-4c6b-8fc8-1317e5a074eb');\n",
              "          const dataTable =\n",
              "            await google.colab.kernel.invokeFunction('convertToInteractive',\n",
              "                                                     [key], {});\n",
              "          if (!dataTable) return;\n",
              "\n",
              "          const docLinkHtml = 'Like what you see? Visit the ' +\n",
              "            '<a target=\"_blank\" href=https://colab.research.google.com/notebooks/data_table.ipynb>data table notebook</a>'\n",
              "            + ' to learn more about interactive tables.';\n",
              "          element.innerHTML = '';\n",
              "          dataTable['output_type'] = 'display_data';\n",
              "          await google.colab.output.renderOutput(dataTable, element);\n",
              "          const docLink = document.createElement('div');\n",
              "          docLink.innerHTML = docLinkHtml;\n",
              "          element.appendChild(docLink);\n",
              "        }\n",
              "      </script>\n",
              "    </div>\n",
              "  </div>\n",
              "  "
            ]
          },
          "metadata": {},
          "execution_count": 903
        }
      ]
    },
    {
      "cell_type": "code",
      "source": [
        "df.Price.isnull().sum()\n",
        "#there is no car for Free.. :)"
      ],
      "metadata": {
        "colab": {
          "base_uri": "https://localhost:8080/"
        },
        "id": "p7A5sUqe8sz5",
        "outputId": "4b4f1b55-f3fd-4371-9c33-067d9f6ceb89"
      },
      "execution_count": 904,
      "outputs": [
        {
          "output_type": "execute_result",
          "data": {
            "text/plain": [
              "0"
            ]
          },
          "metadata": {},
          "execution_count": 904
        }
      ]
    },
    {
      "cell_type": "code",
      "source": [
        "sns.boxplot(df.Price);\n",
        "## we can get an insight for outliars"
      ],
      "metadata": {
        "colab": {
          "base_uri": "https://localhost:8080/",
          "height": 388
        },
        "id": "mBbNtZca8sxW",
        "outputId": "5ee4688b-9c8d-4976-86f3-1d14ca3ad390"
      },
      "execution_count": 905,
      "outputs": [
        {
          "output_type": "display_data",
          "data": {
            "text/plain": [
              "<Figure size 720x432 with 1 Axes>"
            ],
            "image/png": "[encoded data removed]"
          },
          "metadata": {}
        }
      ]
    },
    {
      "cell_type": "code",
      "source": [
        "sns.distplot(df.Price);"
      ],
      "metadata": {
        "colab": {
          "base_uri": "https://localhost:8080/",
          "height": 399
        },
        "id": "6Cd8bpb48svC",
        "outputId": "3e2a299d-efb6-4420-b572-353b69823dc9"
      },
      "execution_count": 906,
      "outputs": [
        {
          "output_type": "display_data",
          "data": {
            "text/plain": [
              "<Figure size 720x432 with 1 Axes>"
            ],
            "image/png": "[encoded data removed]"
          },
          "metadata": {}
        }
      ]
    },
    {
      "cell_type": "code",
      "source": [
        "Price_2=df.sort_values('Price', axis=0, ascending=True)\n",
        "Price_2[\"Price\"]\n",
        "#but there is couple for low-low...;)"
      ],
      "metadata": {
        "colab": {
          "base_uri": "https://localhost:8080/"
        },
        "id": "LGFYLdmRA28l",
        "outputId": "1e7f1809-d0c0-41cd-a4a4-6eded0663348"
      },
      "execution_count": 907,
      "outputs": [
        {
          "output_type": "execute_result",
          "data": {
            "text/plain": [
              "8594        13\n",
              "8828       120\n",
              "6066       255\n",
              "8829       331\n",
              "8827      4950\n",
              "         ...  \n",
              "15828    64332\n",
              "3587     64900\n",
              "3649     67600\n",
              "15826    68320\n",
              "3648     74600\n",
              "Name: Price, Length: 15919, dtype: int64"
            ]
          },
          "metadata": {},
          "execution_count": 907
        }
      ]
    },
    {
      "cell_type": "markdown",
      "source": [
        "## Vat (Value Added Tax)"
      ],
      "metadata": {
        "id": "UL1lk0dhBCKX"
      }
    },
    {
      "cell_type": "code",
      "source": [
        "df.head(3).T"
      ],
      "metadata": {
        "colab": {
          "base_uri": "https://localhost:8080/",
          "height": 1000
        },
        "id": "DBTY31cvA233",
        "outputId": "558c8c4d-7078-40a1-a392-b6bf514e9a94"
      },
      "execution_count": 908,
      "outputs": [
        {
          "output_type": "execute_result",
          "data": {
            "text/plain": [
              "                                                                       0  \\\n",
              "Make_Model                                                       Audi A1   \n",
              "Body_Type                                                         Sedans   \n",
              "Price                                                              15770   \n",
              "Vat                                                       VAT deductible   \n",
              "Km                                                             56,013 km   \n",
              "Registration                                                     01/2016   \n",
              "Prev_Owner                                             2 previous owners   \n",
              "hp                                                                 66 kW   \n",
              "type                             [, Used, , Diesel (Particulate Filter)]   \n",
              "Previous_Owners                                                    \\n2\\n   \n",
              "Next_inspection                    [\\n06/2021\\n, \\n99 g CO2/km (comb)\\n]   \n",
              "Inspection_new                                     [\\nYes\\n, \\nEuro 6\\n]   \n",
              "Warranty                                         [\\n, \\n, \\n4 (Green)\\n]   \n",
              "Full_Service                                                    [\\n, \\n]   \n",
              "Non_Smoking_Vehicle                                             [\\n, \\n]   \n",
              "Offer_Number                                             [\\nLR-062483\\n]   \n",
              "First_Registration                                        [\\n, 2016, \\n]   \n",
              "Body_Color                                               [\\n, Black, \\n]   \n",
              "Paint_Type                                                [\\nMetallic\\n]   \n",
              "Body_Color_Original                                  [\\nMythosschwarz\\n]   \n",
              "Upholstery                                            [\\nCloth, Black\\n]   \n",
              "Nr_of_Doors                                                      [\\n5\\n]   \n",
              "Nr_of_Seats                                                      [\\n5\\n]   \n",
              "Model_Code                                                [\\n0588/BDF\\n]   \n",
              "Gearing_Type                                         [\\n, Automatic, \\n]   \n",
              "Displacement                                              [\\n1,422 cc\\n]   \n",
              "Cylinders                                                        [\\n3\\n]   \n",
              "Weight                                                    [\\n1,220 kg\\n]   \n",
              "Drive_Chain                                                  [\\nfront\\n]   \n",
              "Fuel                               [\\n, Diesel (Particulate Filter), \\n]   \n",
              "Consumption            [[3.8 l/100 km (comb)], [4.3 l/100 km (city)],...   \n",
              "Co_2_Emission                                   [\\n99 g CO2/km (comb)\\n]   \n",
              "Emission_Class                                              [\\nEuro 6\\n]   \n",
              "Comfort_&_Convenience  [Air conditioning, Armrest, Automatic climate ...   \n",
              "Entertainment_&_Media  [Bluetooth, Hands-free equipment, On-board com...   \n",
              "Extras                 [Alloy wheels, Catalytic Converter, Voice Cont...   \n",
              "Safety_&_Security      [ABS, Central door lock, Daytime running light...   \n",
              "Emission_Label                                                       NaN   \n",
              "Gears                                                                NaN   \n",
              "Country_Version                                                      NaN   \n",
              "\n",
              "                                                                       1  \\\n",
              "Make_Model                                                       Audi A1   \n",
              "Body_Type                                                         Sedans   \n",
              "Price                                                              14500   \n",
              "Vat                                                     Price negotiable   \n",
              "Km                                                             80,000 km   \n",
              "Registration                                                     03/2017   \n",
              "Prev_Owner                                                          None   \n",
              "hp                                                                141 kW   \n",
              "type                                                [, Used, , Gasoline]   \n",
              "Previous_Owners                                                      NaN   \n",
              "Next_inspection                                                      NaN   \n",
              "Inspection_new                                                       NaN   \n",
              "Warranty                                                             NaN   \n",
              "Full_Service                                                         NaN   \n",
              "Non_Smoking_Vehicle                                                  NaN   \n",
              "Offer_Number                                                         NaN   \n",
              "First_Registration                                        [\\n, 2017, \\n]   \n",
              "Body_Color                                                 [\\n, Red, \\n]   \n",
              "Paint_Type                                                           NaN   \n",
              "Body_Color_Original                                                  NaN   \n",
              "Upholstery                                             [\\nCloth, Grey\\n]   \n",
              "Nr_of_Doors                                                      [\\n3\\n]   \n",
              "Nr_of_Seats                                                      [\\n4\\n]   \n",
              "Model_Code                                                [\\n0588/BCY\\n]   \n",
              "Gearing_Type                                         [\\n, Automatic, \\n]   \n",
              "Displacement                                              [\\n1,798 cc\\n]   \n",
              "Cylinders                                                        [\\n4\\n]   \n",
              "Weight                                                    [\\n1,255 kg\\n]   \n",
              "Drive_Chain                                                  [\\nfront\\n]   \n",
              "Fuel                                                  [\\n, Gasoline, \\n]   \n",
              "Consumption            [[5.6 l/100 km (comb)], [7.1 l/100 km (city)],...   \n",
              "Co_2_Emission                                  [\\n129 g CO2/km (comb)\\n]   \n",
              "Emission_Class                                              [\\nEuro 6\\n]   \n",
              "Comfort_&_Convenience  [Air conditioning, Automatic climate control, ...   \n",
              "Entertainment_&_Media  [Bluetooth, Hands-free equipment, On-board com...   \n",
              "Extras                 [Alloy wheels, Sport seats, Sport suspension, ...   \n",
              "Safety_&_Security      [ABS, Central door lock, Central door lock wit...   \n",
              "Emission_Label                                           [\\n4 (Green)\\n]   \n",
              "Gears                                                            [\\n7\\n]   \n",
              "Country_Version                                                      NaN   \n",
              "\n",
              "                                                                       2  \n",
              "Make_Model                                                       Audi A1  \n",
              "Body_Type                                                         Sedans  \n",
              "Price                                                              14640  \n",
              "Vat                                                       VAT deductible  \n",
              "Km                                                             83,450 km  \n",
              "Registration                                                     02/2016  \n",
              "Prev_Owner                                              1 previous owner  \n",
              "hp                                                                 85 kW  \n",
              "type                             [, Used, , Diesel (Particulate Filter)]  \n",
              "Previous_Owners                                                    \\n1\\n  \n",
              "Next_inspection                                                      NaN  \n",
              "Inspection_new                                                       NaN  \n",
              "Warranty                                [\\n, \\n, \\n99 g CO2/km (comb)\\n]  \n",
              "Full_Service                                                         NaN  \n",
              "Non_Smoking_Vehicle                                                  NaN  \n",
              "Offer_Number                                              [\\nAM-95365\\n]  \n",
              "First_Registration                                        [\\n, 2016, \\n]  \n",
              "Body_Color                                               [\\n, Black, \\n]  \n",
              "Paint_Type                                                [\\nMetallic\\n]  \n",
              "Body_Color_Original                         [\\nmythosschwarz metallic\\n]  \n",
              "Upholstery                                            [\\nCloth, Black\\n]  \n",
              "Nr_of_Doors                                                      [\\n4\\n]  \n",
              "Nr_of_Seats                                                      [\\n4\\n]  \n",
              "Model_Code                                                           NaN  \n",
              "Gearing_Type                                         [\\n, Automatic, \\n]  \n",
              "Displacement                                              [\\n1,598 cc\\n]  \n",
              "Cylinders                                                            NaN  \n",
              "Weight                                                               NaN  \n",
              "Drive_Chain                                                  [\\nfront\\n]  \n",
              "Fuel                               [\\n, Diesel (Particulate Filter), \\n]  \n",
              "Consumption            [[3.8 l/100 km (comb)], [4.4 l/100 km (city)],...  \n",
              "Co_2_Emission                                   [\\n99 g CO2/km (comb)\\n]  \n",
              "Emission_Class                                              [\\nEuro 6\\n]  \n",
              "Comfort_&_Convenience  [Air conditioning, Cruise control, Electrical ...  \n",
              "Entertainment_&_Media                           [MP3, On-board computer]  \n",
              "Extras                                     [Alloy wheels, Voice Control]  \n",
              "Safety_&_Security      [ABS, Central door lock, Daytime running light...  \n",
              "Emission_Label                                           [\\n4 (Green)\\n]  \n",
              "Gears                                                                NaN  \n",
              "Country_Version                                                      NaN  "
            ],
            "text/html": [
              "\n",
              "  <div id=\"df-f8c52e56-e332-453e-8b11-553365dab46c\">\n",
              "    <div class=\"colab-df-container\">\n",
              "      <div>\n",
              "<style scoped>\n",
              "    .dataframe tbody tr th:only-of-type {\n",
              "        vertical-align: middle;\n",
              "    }\n",
              "\n",
              "    .dataframe tbody tr th {\n",
              "        vertical-align: top;\n",
              "    }\n",
              "\n",
              "    .dataframe thead th {\n",
              "        text-align: right;\n",
              "    }\n",
              "</style>\n",
              "<table border=\"1\" class=\"dataframe\">\n",
              "  <thead>\n",
              "    <tr style=\"text-align: right;\">\n",
              "      <th></th>\n",
              "      <th>0</th>\n",
              "      <th>1</th>\n",
              "      <th>2</th>\n",
              "    </tr>\n",
              "  </thead>\n",
              "  <tbody>\n",
              "    <tr>\n",
              "      <th>Make_Model</th>\n",
              "      <td>Audi A1</td>\n",
              "      <td>Audi A1</td>\n",
              "      <td>Audi A1</td>\n",
              "    </tr>\n",
              "    <tr>\n",
              "      <th>Body_Type</th>\n",
              "      <td>Sedans</td>\n",
              "      <td>Sedans</td>\n",
              "      <td>Sedans</td>\n",
              "    </tr>\n",
              "    <tr>\n",
              "      <th>Price</th>\n",
              "      <td>15770</td>\n",
              "      <td>14500</td>\n",
              "      <td>14640</td>\n",
              "    </tr>\n",
              "    <tr>\n",
              "      <th>Vat</th>\n",
              "      <td>VAT deductible</td>\n",
              "      <td>Price negotiable</td>\n",
              "      <td>VAT deductible</td>\n",
              "    </tr>\n",
              "    <tr>\n",
              "      <th>Km</th>\n",
              "      <td>56,013 km</td>\n",
              "      <td>80,000 km</td>\n",
              "      <td>83,450 km</td>\n",
              "    </tr>\n",
              "    <tr>\n",
              "      <th>Registration</th>\n",
              "      <td>01/2016</td>\n",
              "      <td>03/2017</td>\n",
              "      <td>02/2016</td>\n",
              "    </tr>\n",
              "    <tr>\n",
              "      <th>Prev_Owner</th>\n",
              "      <td>2 previous owners</td>\n",
              "      <td>None</td>\n",
              "      <td>1 previous owner</td>\n",
              "    </tr>\n",
              "    <tr>\n",
              "      <th>hp</th>\n",
              "      <td>66 kW</td>\n",
              "      <td>141 kW</td>\n",
              "      <td>85 kW</td>\n",
              "    </tr>\n",
              "    <tr>\n",
              "      <th>type</th>\n",
              "      <td>[, Used, , Diesel (Particulate Filter)]</td>\n",
              "      <td>[, Used, , Gasoline]</td>\n",
              "      <td>[, Used, , Diesel (Particulate Filter)]</td>\n",
              "    </tr>\n",
              "    <tr>\n",
              "      <th>Previous_Owners</th>\n",
              "      <td>\\n2\\n</td>\n",
              "      <td>NaN</td>\n",
              "      <td>\\n1\\n</td>\n",
              "    </tr>\n",
              "    <tr>\n",
              "      <th>Next_inspection</th>\n",
              "      <td>[\\n06/2021\\n, \\n99 g CO2/km (comb)\\n]</td>\n",
              "      <td>NaN</td>\n",
              "      <td>NaN</td>\n",
              "    </tr>\n",
              "    <tr>\n",
              "      <th>Inspection_new</th>\n",
              "      <td>[\\nYes\\n, \\nEuro 6\\n]</td>\n",
              "      <td>NaN</td>\n",
              "      <td>NaN</td>\n",
              "    </tr>\n",
              "    <tr>\n",
              "      <th>Warranty</th>\n",
              "      <td>[\\n, \\n, \\n4 (Green)\\n]</td>\n",
              "      <td>NaN</td>\n",
              "      <td>[\\n, \\n, \\n99 g CO2/km (comb)\\n]</td>\n",
              "    </tr>\n",
              "    <tr>\n",
              "      <th>Full_Service</th>\n",
              "      <td>[\\n, \\n]</td>\n",
              "      <td>NaN</td>\n",
              "      <td>NaN</td>\n",
              "    </tr>\n",
              "    <tr>\n",
              "      <th>Non_Smoking_Vehicle</th>\n",
              "      <td>[\\n, \\n]</td>\n",
              "      <td>NaN</td>\n",
              "      <td>NaN</td>\n",
              "    </tr>\n",
              "    <tr>\n",
              "      <th>Offer_Number</th>\n",
              "      <td>[\\nLR-062483\\n]</td>\n",
              "      <td>NaN</td>\n",
              "      <td>[\\nAM-95365\\n]</td>\n",
              "    </tr>\n",
              "    <tr>\n",
              "      <th>First_Registration</th>\n",
              "      <td>[\\n, 2016, \\n]</td>\n",
              "      <td>[\\n, 2017, \\n]</td>\n",
              "      <td>[\\n, 2016, \\n]</td>\n",
              "    </tr>\n",
              "    <tr>\n",
              "      <th>Body_Color</th>\n",
              "      <td>[\\n, Black, \\n]</td>\n",
              "      <td>[\\n, Red, \\n]</td>\n",
              "      <td>[\\n, Black, \\n]</td>\n",
              "    </tr>\n",
              "    <tr>\n",
              "      <th>Paint_Type</th>\n",
              "      <td>[\\nMetallic\\n]</td>\n",
              "      <td>NaN</td>\n",
              "      <td>[\\nMetallic\\n]</td>\n",
              "    </tr>\n",
              "    <tr>\n",
              "      <th>Body_Color_Original</th>\n",
              "      <td>[\\nMythosschwarz\\n]</td>\n",
              "      <td>NaN</td>\n",
              "      <td>[\\nmythosschwarz metallic\\n]</td>\n",
              "    </tr>\n",
              "    <tr>\n",
              "      <th>Upholstery</th>\n",
              "      <td>[\\nCloth, Black\\n]</td>\n",
              "      <td>[\\nCloth, Grey\\n]</td>\n",
              "      <td>[\\nCloth, Black\\n]</td>\n",
              "    </tr>\n",
              "    <tr>\n",
              "      <th>Nr_of_Doors</th>\n",
              "      <td>[\\n5\\n]</td>\n",
              "      <td>[\\n3\\n]</td>\n",
              "      <td>[\\n4\\n]</td>\n",
              "    </tr>\n",
              "    <tr>\n",
              "      <th>Nr_of_Seats</th>\n",
              "      <td>[\\n5\\n]</td>\n",
              "      <td>[\\n4\\n]</td>\n",
              "      <td>[\\n4\\n]</td>\n",
              "    </tr>\n",
              "    <tr>\n",
              "      <th>Model_Code</th>\n",
              "      <td>[\\n0588/BDF\\n]</td>\n",
              "      <td>[\\n0588/BCY\\n]</td>\n",
              "      <td>NaN</td>\n",
              "    </tr>\n",
              "    <tr>\n",
              "      <th>Gearing_Type</th>\n",
              "      <td>[\\n, Automatic, \\n]</td>\n",
              "      <td>[\\n, Automatic, \\n]</td>\n",
              "      <td>[\\n, Automatic, \\n]</td>\n",
              "    </tr>\n",
              "    <tr>\n",
              "      <th>Displacement</th>\n",
              "      <td>[\\n1,422 cc\\n]</td>\n",
              "      <td>[\\n1,798 cc\\n]</td>\n",
              "      <td>[\\n1,598 cc\\n]</td>\n",
              "    </tr>\n",
              "    <tr>\n",
              "      <th>Cylinders</th>\n",
              "      <td>[\\n3\\n]</td>\n",
              "      <td>[\\n4\\n]</td>\n",
              "      <td>NaN</td>\n",
              "    </tr>\n",
              "    <tr>\n",
              "      <th>Weight</th>\n",
              "      <td>[\\n1,220 kg\\n]</td>\n",
              "      <td>[\\n1,255 kg\\n]</td>\n",
              "      <td>NaN</td>\n",
              "    </tr>\n",
              "    <tr>\n",
              "      <th>Drive_Chain</th>\n",
              "      <td>[\\nfront\\n]</td>\n",
              "      <td>[\\nfront\\n]</td>\n",
              "      <td>[\\nfront\\n]</td>\n",
              "    </tr>\n",
              "    <tr>\n",
              "      <th>Fuel</th>\n",
              "      <td>[\\n, Diesel (Particulate Filter), \\n]</td>\n",
              "      <td>[\\n, Gasoline, \\n]</td>\n",
              "      <td>[\\n, Diesel (Particulate Filter), \\n]</td>\n",
              "    </tr>\n",
              "    <tr>\n",
              "      <th>Consumption</th>\n",
              "      <td>[[3.8 l/100 km (comb)], [4.3 l/100 km (city)],...</td>\n",
              "      <td>[[5.6 l/100 km (comb)], [7.1 l/100 km (city)],...</td>\n",
              "      <td>[[3.8 l/100 km (comb)], [4.4 l/100 km (city)],...</td>\n",
              "    </tr>\n",
              "    <tr>\n",
              "      <th>Co_2_Emission</th>\n",
              "      <td>[\\n99 g CO2/km (comb)\\n]</td>\n",
              "      <td>[\\n129 g CO2/km (comb)\\n]</td>\n",
              "      <td>[\\n99 g CO2/km (comb)\\n]</td>\n",
              "    </tr>\n",
              "    <tr>\n",
              "      <th>Emission_Class</th>\n",
              "      <td>[\\nEuro 6\\n]</td>\n",
              "      <td>[\\nEuro 6\\n]</td>\n",
              "      <td>[\\nEuro 6\\n]</td>\n",
              "    </tr>\n",
              "    <tr>\n",
              "      <th>Comfort_&amp;_Convenience</th>\n",
              "      <td>[Air conditioning, Armrest, Automatic climate ...</td>\n",
              "      <td>[Air conditioning, Automatic climate control, ...</td>\n",
              "      <td>[Air conditioning, Cruise control, Electrical ...</td>\n",
              "    </tr>\n",
              "    <tr>\n",
              "      <th>Entertainment_&amp;_Media</th>\n",
              "      <td>[Bluetooth, Hands-free equipment, On-board com...</td>\n",
              "      <td>[Bluetooth, Hands-free equipment, On-board com...</td>\n",
              "      <td>[MP3, On-board computer]</td>\n",
              "    </tr>\n",
              "    <tr>\n",
              "      <th>Extras</th>\n",
              "      <td>[Alloy wheels, Catalytic Converter, Voice Cont...</td>\n",
              "      <td>[Alloy wheels, Sport seats, Sport suspension, ...</td>\n",
              "      <td>[Alloy wheels, Voice Control]</td>\n",
              "    </tr>\n",
              "    <tr>\n",
              "      <th>Safety_&amp;_Security</th>\n",
              "      <td>[ABS, Central door lock, Daytime running light...</td>\n",
              "      <td>[ABS, Central door lock, Central door lock wit...</td>\n",
              "      <td>[ABS, Central door lock, Daytime running light...</td>\n",
              "    </tr>\n",
              "    <tr>\n",
              "      <th>Emission_Label</th>\n",
              "      <td>NaN</td>\n",
              "      <td>[\\n4 (Green)\\n]</td>\n",
              "      <td>[\\n4 (Green)\\n]</td>\n",
              "    </tr>\n",
              "    <tr>\n",
              "      <th>Gears</th>\n",
              "      <td>NaN</td>\n",
              "      <td>[\\n7\\n]</td>\n",
              "      <td>NaN</td>\n",
              "    </tr>\n",
              "    <tr>\n",
              "      <th>Country_Version</th>\n",
              "      <td>NaN</td>\n",
              "      <td>NaN</td>\n",
              "      <td>NaN</td>\n",
              "    </tr>\n",
              "  </tbody>\n",
              "</table>\n",
              "</div>\n",
              "      <button class=\"colab-df-convert\" onclick=\"convertToInteractive('df-f8c52e56-e332-453e-8b11-553365dab46c')\"\n",
              "              title=\"Convert this dataframe to an interactive table.\"\n",
              "              style=\"display:none;\">\n",
              "        \n",
              "  <svg xmlns=\"http://www.w3.org/2000/svg\" height=\"24px\"viewBox=\"0 0 24 24\"\n",
              "       width=\"24px\">\n",
              "    <path d=\"M0 0h24v24H0V0z\" fill=\"none\"/>\n",
              "    <path d=\"M18.56 5.44l.94 2.06.94-2.06 2.06-.94-2.06-.94-.94-2.06-.94 2.06-2.06.94zm-11 1L8.5 8.5l.94-2.06 2.06-.94-2.06-.94L8.5 2.5l-.94 2.06-2.06.94zm10 10l.94 2.06.94-2.06 2.06-.94-2.06-.94-.94-2.06-.94 2.06-2.06.94z\"/><path d=\"M17.41 7.96l-1.37-1.37c-.4-.4-.92-.59-1.43-.59-.52 0-1.04.2-1.43.59L10.3 9.45l-7.72 7.72c-.78.78-.78 2.05 0 2.83L4 21.41c.39.39.9.59 1.41.59.51 0 1.02-.2 1.41-.59l7.78-7.78 2.81-2.81c.8-.78.8-2.07 0-2.86zM5.41 20L4 18.59l7.72-7.72 1.47 1.35L5.41 20z\"/>\n",
              "  </svg>\n",
              "      </button>\n",
              "      \n",
              "  <style>\n",
              "    .colab-df-container {\n",
              "      display:flex;\n",
              "      flex-wrap:wrap;\n",
              "      gap: 12px;\n",
              "    }\n",
              "\n",
              "    .colab-df-convert {\n",
              "      background-color: #E8F0FE;\n",
              "      border: none;\n",
              "      border-radius: 50%;\n",
              "      cursor: pointer;\n",
              "      display: none;\n",
              "      fill: #1967D2;\n",
              "      height: 32px;\n",
              "      padding: 0 0 0 0;\n",
              "      width: 32px;\n",
              "    }\n",
              "\n",
              "    .colab-df-convert:hover {\n",
              "      background-color: #E2EBFA;\n",
              "      box-shadow: 0px 1px 2px rgba(60, 64, 67, 0.3), 0px 1px 3px 1px rgba(60, 64, 67, 0.15);\n",
              "      fill: #174EA6;\n",
              "    }\n",
              "\n",
              "    [theme=dark] .colab-df-convert {\n",
              "      background-color: #3B4455;\n",
              "      fill: #D2E3FC;\n",
              "    }\n",
              "\n",
              "    [theme=dark] .colab-df-convert:hover {\n",
              "      background-color: #434B5C;\n",
              "      box-shadow: 0px 1px 3px 1px rgba(0, 0, 0, 0.15);\n",
              "      filter: drop-shadow(0px 1px 2px rgba(0, 0, 0, 0.3));\n",
              "      fill: #FFFFFF;\n",
              "    }\n",
              "  </style>\n",
              "\n",
              "      <script>\n",
              "        const buttonEl =\n",
              "          document.querySelector('#df-f8c52e56-e332-453e-8b11-553365dab46c button.colab-df-convert');\n",
              "        buttonEl.style.display =\n",
              "          google.colab.kernel.accessAllowed ? 'block' : 'none';\n",
              "\n",
              "        async function convertToInteractive(key) {\n",
              "          const element = document.querySelector('#df-f8c52e56-e332-453e-8b11-553365dab46c');\n",
              "          const dataTable =\n",
              "            await google.colab.kernel.invokeFunction('convertToInteractive',\n",
              "                                                     [key], {});\n",
              "          if (!dataTable) return;\n",
              "\n",
              "          const docLinkHtml = 'Like what you see? Visit the ' +\n",
              "            '<a target=\"_blank\" href=https://colab.research.google.com/notebooks/data_table.ipynb>data table notebook</a>'\n",
              "            + ' to learn more about interactive tables.';\n",
              "          element.innerHTML = '';\n",
              "          dataTable['output_type'] = 'display_data';\n",
              "          await google.colab.output.renderOutput(dataTable, element);\n",
              "          const docLink = document.createElement('div');\n",
              "          docLink.innerHTML = docLinkHtml;\n",
              "          element.appendChild(docLink);\n",
              "        }\n",
              "      </script>\n",
              "    </div>\n",
              "  </div>\n",
              "  "
            ]
          },
          "metadata": {},
          "execution_count": 908
        }
      ]
    },
    {
      "cell_type": "code",
      "source": [
        "df.Vat.value_counts(dropna=False)\n",
        "#As you can see most of them are deductable"
      ],
      "metadata": {
        "colab": {
          "base_uri": "https://localhost:8080/"
        },
        "id": "DMoKtxT0A21S",
        "outputId": "7b3eb9d2-8e7d-422c-9d60-ab1bab130c02"
      },
      "execution_count": 909,
      "outputs": [
        {
          "output_type": "execute_result",
          "data": {
            "text/plain": [
              "VAT deductible      10980\n",
              "NaN                  4513\n",
              "Price negotiable      426\n",
              "Name: Vat, dtype: int64"
            ]
          },
          "metadata": {},
          "execution_count": 909
        }
      ]
    },
    {
      "cell_type": "markdown",
      "source": [
        "## Km"
      ],
      "metadata": {
        "id": "F8r2P1fhB7q2"
      }
    },
    {
      "cell_type": "code",
      "source": [
        "df[\"Km\"]"
      ],
      "metadata": {
        "colab": {
          "base_uri": "https://localhost:8080/"
        },
        "id": "6114z_KHA2yW",
        "outputId": "a3333a9f-ce17-4061-80d5-40d1c538ac59"
      },
      "execution_count": 910,
      "outputs": [
        {
          "output_type": "execute_result",
          "data": {
            "text/plain": [
              "0        56,013 km\n",
              "1        80,000 km\n",
              "2        83,450 km\n",
              "3        73,000 km\n",
              "4        16,200 km\n",
              "           ...    \n",
              "15914         - km\n",
              "15915     9,900 km\n",
              "15916        15 km\n",
              "15917        10 km\n",
              "15918         - km\n",
              "Name: Km, Length: 15919, dtype: object"
            ]
          },
          "metadata": {},
          "execution_count": 910
        }
      ]
    },
    {
      "cell_type": "code",
      "source": [
        "df.Km.value_counts(dropna=False)"
      ],
      "metadata": {
        "colab": {
          "base_uri": "https://localhost:8080/"
        },
        "id": "OUU0r-tn8ssa",
        "outputId": "b9ebec3e-7806-4ab3-9730-f50d54991f06"
      },
      "execution_count": 911,
      "outputs": [
        {
          "output_type": "execute_result",
          "data": {
            "text/plain": [
              "10 km        1045\n",
              "- km         1024\n",
              "1 km          367\n",
              "5 km          170\n",
              "50 km         148\n",
              "             ... \n",
              "67,469 km       1\n",
              "43,197 km       1\n",
              "10,027 km       1\n",
              "35,882 km       1\n",
              "57 km           1\n",
              "Name: Km, Length: 6690, dtype: int64"
            ]
          },
          "metadata": {},
          "execution_count": 911
        }
      ]
    },
    {
      "cell_type": "code",
      "source": [
        "df.Km.str.replace(\",\",\"\")"
      ],
      "metadata": {
        "colab": {
          "base_uri": "https://localhost:8080/"
        },
        "id": "kICpbvaQGQgM",
        "outputId": "f0627f61-8629-40f2-b209-18852d9d6f9d"
      },
      "execution_count": 912,
      "outputs": [
        {
          "output_type": "execute_result",
          "data": {
            "text/plain": [
              "0        56013 km\n",
              "1        80000 km\n",
              "2        83450 km\n",
              "3        73000 km\n",
              "4        16200 km\n",
              "           ...   \n",
              "15914        - km\n",
              "15915     9900 km\n",
              "15916       15 km\n",
              "15917       10 km\n",
              "15918        - km\n",
              "Name: Km, Length: 15919, dtype: object"
            ]
          },
          "metadata": {},
          "execution_count": 912
        }
      ]
    },
    {
      "cell_type": "code",
      "source": [
        "df.Km.str.replace(\",\",\"\").str.extract('(\\d{1,6})')"
      ],
      "metadata": {
        "colab": {
          "base_uri": "https://localhost:8080/",
          "height": 424
        },
        "id": "YYb0TSGwH2J1",
        "outputId": "8b82449b-2626-460a-f1ec-2e3d3112b041"
      },
      "execution_count": 913,
      "outputs": [
        {
          "output_type": "execute_result",
          "data": {
            "text/plain": [
              "           0\n",
              "0      56013\n",
              "1      80000\n",
              "2      83450\n",
              "3      73000\n",
              "4      16200\n",
              "...      ...\n",
              "15914    NaN\n",
              "15915   9900\n",
              "15916     15\n",
              "15917     10\n",
              "15918    NaN\n",
              "\n",
              "[15919 rows x 1 columns]"
            ],
            "text/html": [
              "\n",
              "  <div id=\"df-10ff9856-299d-4d35-aee4-f3fde3d7ca54\">\n",
              "    <div class=\"colab-df-container\">\n",
              "      <div>\n",
              "<style scoped>\n",
              "    .dataframe tbody tr th:only-of-type {\n",
              "        vertical-align: middle;\n",
              "    }\n",
              "\n",
              "    .dataframe tbody tr th {\n",
              "        vertical-align: top;\n",
              "    }\n",
              "\n",
              "    .dataframe thead th {\n",
              "        text-align: right;\n",
              "    }\n",
              "</style>\n",
              "<table border=\"1\" class=\"dataframe\">\n",
              "  <thead>\n",
              "    <tr style=\"text-align: right;\">\n",
              "      <th></th>\n",
              "      <th>0</th>\n",
              "    </tr>\n",
              "  </thead>\n",
              "  <tbody>\n",
              "    <tr>\n",
              "      <th>0</th>\n",
              "      <td>56013</td>\n",
              "    </tr>\n",
              "    <tr>\n",
              "      <th>1</th>\n",
              "      <td>80000</td>\n",
              "    </tr>\n",
              "    <tr>\n",
              "      <th>2</th>\n",
              "      <td>83450</td>\n",
              "    </tr>\n",
              "    <tr>\n",
              "      <th>3</th>\n",
              "      <td>73000</td>\n",
              "    </tr>\n",
              "    <tr>\n",
              "      <th>4</th>\n",
              "      <td>16200</td>\n",
              "    </tr>\n",
              "    <tr>\n",
              "      <th>...</th>\n",
              "      <td>...</td>\n",
              "    </tr>\n",
              "    <tr>\n",
              "      <th>15914</th>\n",
              "      <td>NaN</td>\n",
              "    </tr>\n",
              "    <tr>\n",
              "      <th>15915</th>\n",
              "      <td>9900</td>\n",
              "    </tr>\n",
              "    <tr>\n",
              "      <th>15916</th>\n",
              "      <td>15</td>\n",
              "    </tr>\n",
              "    <tr>\n",
              "      <th>15917</th>\n",
              "      <td>10</td>\n",
              "    </tr>\n",
              "    <tr>\n",
              "      <th>15918</th>\n",
              "      <td>NaN</td>\n",
              "    </tr>\n",
              "  </tbody>\n",
              "</table>\n",
              "<p>15919 rows × 1 columns</p>\n",
              "</div>\n",
              "      <button class=\"colab-df-convert\" onclick=\"convertToInteractive('df-10ff9856-299d-4d35-aee4-f3fde3d7ca54')\"\n",
              "              title=\"Convert this dataframe to an interactive table.\"\n",
              "              style=\"display:none;\">\n",
              "        \n",
              "  <svg xmlns=\"http://www.w3.org/2000/svg\" height=\"24px\"viewBox=\"0 0 24 24\"\n",
              "       width=\"24px\">\n",
              "    <path d=\"M0 0h24v24H0V0z\" fill=\"none\"/>\n",
              "    <path d=\"M18.56 5.44l.94 2.06.94-2.06 2.06-.94-2.06-.94-.94-2.06-.94 2.06-2.06.94zm-11 1L8.5 8.5l.94-2.06 2.06-.94-2.06-.94L8.5 2.5l-.94 2.06-2.06.94zm10 10l.94 2.06.94-2.06 2.06-.94-2.06-.94-.94-2.06-.94 2.06-2.06.94z\"/><path d=\"M17.41 7.96l-1.37-1.37c-.4-.4-.92-.59-1.43-.59-.52 0-1.04.2-1.43.59L10.3 9.45l-7.72 7.72c-.78.78-.78 2.05 0 2.83L4 21.41c.39.39.9.59 1.41.59.51 0 1.02-.2 1.41-.59l7.78-7.78 2.81-2.81c.8-.78.8-2.07 0-2.86zM5.41 20L4 18.59l7.72-7.72 1.47 1.35L5.41 20z\"/>\n",
              "  </svg>\n",
              "      </button>\n",
              "      \n",
              "  <style>\n",
              "    .colab-df-container {\n",
              "      display:flex;\n",
              "      flex-wrap:wrap;\n",
              "      gap: 12px;\n",
              "    }\n",
              "\n",
              "    .colab-df-convert {\n",
              "      background-color: #E8F0FE;\n",
              "      border: none;\n",
              "      border-radius: 50%;\n",
              "      cursor: pointer;\n",
              "      display: none;\n",
              "      fill: #1967D2;\n",
              "      height: 32px;\n",
              "      padding: 0 0 0 0;\n",
              "      width: 32px;\n",
              "    }\n",
              "\n",
              "    .colab-df-convert:hover {\n",
              "      background-color: #E2EBFA;\n",
              "      box-shadow: 0px 1px 2px rgba(60, 64, 67, 0.3), 0px 1px 3px 1px rgba(60, 64, 67, 0.15);\n",
              "      fill: #174EA6;\n",
              "    }\n",
              "\n",
              "    [theme=dark] .colab-df-convert {\n",
              "      background-color: #3B4455;\n",
              "      fill: #D2E3FC;\n",
              "    }\n",
              "\n",
              "    [theme=dark] .colab-df-convert:hover {\n",
              "      background-color: #434B5C;\n",
              "      box-shadow: 0px 1px 3px 1px rgba(0, 0, 0, 0.15);\n",
              "      filter: drop-shadow(0px 1px 2px rgba(0, 0, 0, 0.3));\n",
              "      fill: #FFFFFF;\n",
              "    }\n",
              "  </style>\n",
              "\n",
              "      <script>\n",
              "        const buttonEl =\n",
              "          document.querySelector('#df-10ff9856-299d-4d35-aee4-f3fde3d7ca54 button.colab-df-convert');\n",
              "        buttonEl.style.display =\n",
              "          google.colab.kernel.accessAllowed ? 'block' : 'none';\n",
              "\n",
              "        async function convertToInteractive(key) {\n",
              "          const element = document.querySelector('#df-10ff9856-299d-4d35-aee4-f3fde3d7ca54');\n",
              "          const dataTable =\n",
              "            await google.colab.kernel.invokeFunction('convertToInteractive',\n",
              "                                                     [key], {});\n",
              "          if (!dataTable) return;\n",
              "\n",
              "          const docLinkHtml = 'Like what you see? Visit the ' +\n",
              "            '<a target=\"_blank\" href=https://colab.research.google.com/notebooks/data_table.ipynb>data table notebook</a>'\n",
              "            + ' to learn more about interactive tables.';\n",
              "          element.innerHTML = '';\n",
              "          dataTable['output_type'] = 'display_data';\n",
              "          await google.colab.output.renderOutput(dataTable, element);\n",
              "          const docLink = document.createElement('div');\n",
              "          docLink.innerHTML = docLinkHtml;\n",
              "          element.appendChild(docLink);\n",
              "        }\n",
              "      </script>\n",
              "    </div>\n",
              "  </div>\n",
              "  "
            ]
          },
          "metadata": {},
          "execution_count": 913
        }
      ]
    },
    {
      "cell_type": "code",
      "source": [
        "#Solution 1\n",
        "df.Km.str.replace(\",\",\"\").str.extract('(\\d{1,6})').astype(float)"
      ],
      "metadata": {
        "colab": {
          "base_uri": "https://localhost:8080/",
          "height": 424
        },
        "id": "l0r5lNpvIR7F",
        "outputId": "065cb396-3c64-4760-a29b-5d1b41353357"
      },
      "execution_count": 914,
      "outputs": [
        {
          "output_type": "execute_result",
          "data": {
            "text/plain": [
              "             0\n",
              "0     56013.00\n",
              "1     80000.00\n",
              "2     83450.00\n",
              "3     73000.00\n",
              "4     16200.00\n",
              "...        ...\n",
              "15914      NaN\n",
              "15915  9900.00\n",
              "15916    15.00\n",
              "15917    10.00\n",
              "15918      NaN\n",
              "\n",
              "[15919 rows x 1 columns]"
            ],
            "text/html": [
              "\n",
              "  <div id=\"df-64b942eb-22e8-4a9e-b1e7-4586e42ba9dd\">\n",
              "    <div class=\"colab-df-container\">\n",
              "      <div>\n",
              "<style scoped>\n",
              "    .dataframe tbody tr th:only-of-type {\n",
              "        vertical-align: middle;\n",
              "    }\n",
              "\n",
              "    .dataframe tbody tr th {\n",
              "        vertical-align: top;\n",
              "    }\n",
              "\n",
              "    .dataframe thead th {\n",
              "        text-align: right;\n",
              "    }\n",
              "</style>\n",
              "<table border=\"1\" class=\"dataframe\">\n",
              "  <thead>\n",
              "    <tr style=\"text-align: right;\">\n",
              "      <th></th>\n",
              "      <th>0</th>\n",
              "    </tr>\n",
              "  </thead>\n",
              "  <tbody>\n",
              "    <tr>\n",
              "      <th>0</th>\n",
              "      <td>56013.00</td>\n",
              "    </tr>\n",
              "    <tr>\n",
              "      <th>1</th>\n",
              "      <td>80000.00</td>\n",
              "    </tr>\n",
              "    <tr>\n",
              "      <th>2</th>\n",
              "      <td>83450.00</td>\n",
              "    </tr>\n",
              "    <tr>\n",
              "      <th>3</th>\n",
              "      <td>73000.00</td>\n",
              "    </tr>\n",
              "    <tr>\n",
              "      <th>4</th>\n",
              "      <td>16200.00</td>\n",
              "    </tr>\n",
              "    <tr>\n",
              "      <th>...</th>\n",
              "      <td>...</td>\n",
              "    </tr>\n",
              "    <tr>\n",
              "      <th>15914</th>\n",
              "      <td>NaN</td>\n",
              "    </tr>\n",
              "    <tr>\n",
              "      <th>15915</th>\n",
              "      <td>9900.00</td>\n",
              "    </tr>\n",
              "    <tr>\n",
              "      <th>15916</th>\n",
              "      <td>15.00</td>\n",
              "    </tr>\n",
              "    <tr>\n",
              "      <th>15917</th>\n",
              "      <td>10.00</td>\n",
              "    </tr>\n",
              "    <tr>\n",
              "      <th>15918</th>\n",
              "      <td>NaN</td>\n",
              "    </tr>\n",
              "  </tbody>\n",
              "</table>\n",
              "<p>15919 rows × 1 columns</p>\n",
              "</div>\n",
              "      <button class=\"colab-df-convert\" onclick=\"convertToInteractive('df-64b942eb-22e8-4a9e-b1e7-4586e42ba9dd')\"\n",
              "              title=\"Convert this dataframe to an interactive table.\"\n",
              "              style=\"display:none;\">\n",
              "        \n",
              "  <svg xmlns=\"http://www.w3.org/2000/svg\" height=\"24px\"viewBox=\"0 0 24 24\"\n",
              "       width=\"24px\">\n",
              "    <path d=\"M0 0h24v24H0V0z\" fill=\"none\"/>\n",
              "    <path d=\"M18.56 5.44l.94 2.06.94-2.06 2.06-.94-2.06-.94-.94-2.06-.94 2.06-2.06.94zm-11 1L8.5 8.5l.94-2.06 2.06-.94-2.06-.94L8.5 2.5l-.94 2.06-2.06.94zm10 10l.94 2.06.94-2.06 2.06-.94-2.06-.94-.94-2.06-.94 2.06-2.06.94z\"/><path d=\"M17.41 7.96l-1.37-1.37c-.4-.4-.92-.59-1.43-.59-.52 0-1.04.2-1.43.59L10.3 9.45l-7.72 7.72c-.78.78-.78 2.05 0 2.83L4 21.41c.39.39.9.59 1.41.59.51 0 1.02-.2 1.41-.59l7.78-7.78 2.81-2.81c.8-.78.8-2.07 0-2.86zM5.41 20L4 18.59l7.72-7.72 1.47 1.35L5.41 20z\"/>\n",
              "  </svg>\n",
              "      </button>\n",
              "      \n",
              "  <style>\n",
              "    .colab-df-container {\n",
              "      display:flex;\n",
              "      flex-wrap:wrap;\n",
              "      gap: 12px;\n",
              "    }\n",
              "\n",
              "    .colab-df-convert {\n",
              "      background-color: #E8F0FE;\n",
              "      border: none;\n",
              "      border-radius: 50%;\n",
              "      cursor: pointer;\n",
              "      display: none;\n",
              "      fill: #1967D2;\n",
              "      height: 32px;\n",
              "      padding: 0 0 0 0;\n",
              "      width: 32px;\n",
              "    }\n",
              "\n",
              "    .colab-df-convert:hover {\n",
              "      background-color: #E2EBFA;\n",
              "      box-shadow: 0px 1px 2px rgba(60, 64, 67, 0.3), 0px 1px 3px 1px rgba(60, 64, 67, 0.15);\n",
              "      fill: #174EA6;\n",
              "    }\n",
              "\n",
              "    [theme=dark] .colab-df-convert {\n",
              "      background-color: #3B4455;\n",
              "      fill: #D2E3FC;\n",
              "    }\n",
              "\n",
              "    [theme=dark] .colab-df-convert:hover {\n",
              "      background-color: #434B5C;\n",
              "      box-shadow: 0px 1px 3px 1px rgba(0, 0, 0, 0.15);\n",
              "      filter: drop-shadow(0px 1px 2px rgba(0, 0, 0, 0.3));\n",
              "      fill: #FFFFFF;\n",
              "    }\n",
              "  </style>\n",
              "\n",
              "      <script>\n",
              "        const buttonEl =\n",
              "          document.querySelector('#df-64b942eb-22e8-4a9e-b1e7-4586e42ba9dd button.colab-df-convert');\n",
              "        buttonEl.style.display =\n",
              "          google.colab.kernel.accessAllowed ? 'block' : 'none';\n",
              "\n",
              "        async function convertToInteractive(key) {\n",
              "          const element = document.querySelector('#df-64b942eb-22e8-4a9e-b1e7-4586e42ba9dd');\n",
              "          const dataTable =\n",
              "            await google.colab.kernel.invokeFunction('convertToInteractive',\n",
              "                                                     [key], {});\n",
              "          if (!dataTable) return;\n",
              "\n",
              "          const docLinkHtml = 'Like what you see? Visit the ' +\n",
              "            '<a target=\"_blank\" href=https://colab.research.google.com/notebooks/data_table.ipynb>data table notebook</a>'\n",
              "            + ' to learn more about interactive tables.';\n",
              "          element.innerHTML = '';\n",
              "          dataTable['output_type'] = 'display_data';\n",
              "          await google.colab.output.renderOutput(dataTable, element);\n",
              "          const docLink = document.createElement('div');\n",
              "          docLink.innerHTML = docLinkHtml;\n",
              "          element.appendChild(docLink);\n",
              "        }\n",
              "      </script>\n",
              "    </div>\n",
              "  </div>\n",
              "  "
            ]
          },
          "metadata": {},
          "execution_count": 914
        }
      ]
    },
    {
      "cell_type": "code",
      "source": [
        "#Solution 2\n",
        "df.Km.str.replace(',', '').str.rstrip(\" km\").replace('-', np.nan).astype('float')"
      ],
      "metadata": {
        "colab": {
          "base_uri": "https://localhost:8080/"
        },
        "id": "MHFBpsoGHZ7_",
        "outputId": "2a09c666-9eb7-4e89-cae5-4c785c09d7a4"
      },
      "execution_count": 915,
      "outputs": [
        {
          "output_type": "execute_result",
          "data": {
            "text/plain": [
              "0       56013.00\n",
              "1       80000.00\n",
              "2       83450.00\n",
              "3       73000.00\n",
              "4       16200.00\n",
              "          ...   \n",
              "15914        NaN\n",
              "15915    9900.00\n",
              "15916      15.00\n",
              "15917      10.00\n",
              "15918        NaN\n",
              "Name: Km, Length: 15919, dtype: float64"
            ]
          },
          "metadata": {},
          "execution_count": 915
        }
      ]
    },
    {
      "cell_type": "code",
      "source": [
        "#We have to remove \",\" from km \n",
        "df[\"Km\"]=df.Km.str.replace(\",\",\"\").str.extract('(\\d{1,6})').astype(float)\n"
      ],
      "metadata": {
        "id": "cvNknYD38spj"
      },
      "execution_count": 916,
      "outputs": []
    },
    {
      "cell_type": "code",
      "source": [
        "df[\"Km\"]"
      ],
      "metadata": {
        "colab": {
          "base_uri": "https://localhost:8080/"
        },
        "id": "LGtmKWjFI0yj",
        "outputId": "c1969dc8-0f37-466c-a902-f7cc056308db"
      },
      "execution_count": 917,
      "outputs": [
        {
          "output_type": "execute_result",
          "data": {
            "text/plain": [
              "0       56013.00\n",
              "1       80000.00\n",
              "2       83450.00\n",
              "3       73000.00\n",
              "4       16200.00\n",
              "          ...   \n",
              "15914        NaN\n",
              "15915    9900.00\n",
              "15916      15.00\n",
              "15917      10.00\n",
              "15918        NaN\n",
              "Name: Km, Length: 15919, dtype: float64"
            ]
          },
          "metadata": {},
          "execution_count": 917
        }
      ]
    },
    {
      "cell_type": "code",
      "source": [
        "df.Km.value_counts(dropna=False)\n",
        "#Attention. There are 1024 NaN values.."
      ],
      "metadata": {
        "colab": {
          "base_uri": "https://localhost:8080/"
        },
        "id": "6X8D8H-_GmUV",
        "outputId": "a3171145-bd31-4f0a-9e28-77f42b068008"
      },
      "execution_count": 918,
      "outputs": [
        {
          "output_type": "execute_result",
          "data": {
            "text/plain": [
              "10.00       1045\n",
              "NaN         1024\n",
              "1.00         367\n",
              "5.00         170\n",
              "50.00        148\n",
              "            ... \n",
              "67469.00       1\n",
              "43197.00       1\n",
              "10027.00       1\n",
              "35882.00       1\n",
              "57.00          1\n",
              "Name: Km, Length: 6690, dtype: int64"
            ]
          },
          "metadata": {},
          "execution_count": 918
        }
      ]
    },
    {
      "cell_type": "markdown",
      "source": [
        "#Registeration&First Registeration"
      ],
      "metadata": {
        "id": "3b8L_jOkJDce"
      }
    },
    {
      "cell_type": "code",
      "source": [
        "df.head(3).T\n",
        "#Registeration contains month value whereas first registreation contains only year"
      ],
      "metadata": {
        "colab": {
          "base_uri": "https://localhost:8080/",
          "height": 1000
        },
        "id": "k1phqwGQJB3q",
        "outputId": "ca4cece4-bc14-4b63-e52e-ff363e58fb2c"
      },
      "execution_count": 919,
      "outputs": [
        {
          "output_type": "execute_result",
          "data": {
            "text/plain": [
              "                                                                       0  \\\n",
              "Make_Model                                                       Audi A1   \n",
              "Body_Type                                                         Sedans   \n",
              "Price                                                              15770   \n",
              "Vat                                                       VAT deductible   \n",
              "Km                                                              56013.00   \n",
              "Registration                                                     01/2016   \n",
              "Prev_Owner                                             2 previous owners   \n",
              "hp                                                                 66 kW   \n",
              "type                             [, Used, , Diesel (Particulate Filter)]   \n",
              "Previous_Owners                                                    \\n2\\n   \n",
              "Next_inspection                    [\\n06/2021\\n, \\n99 g CO2/km (comb)\\n]   \n",
              "Inspection_new                                     [\\nYes\\n, \\nEuro 6\\n]   \n",
              "Warranty                                         [\\n, \\n, \\n4 (Green)\\n]   \n",
              "Full_Service                                                    [\\n, \\n]   \n",
              "Non_Smoking_Vehicle                                             [\\n, \\n]   \n",
              "Offer_Number                                             [\\nLR-062483\\n]   \n",
              "First_Registration                                        [\\n, 2016, \\n]   \n",
              "Body_Color                                               [\\n, Black, \\n]   \n",
              "Paint_Type                                                [\\nMetallic\\n]   \n",
              "Body_Color_Original                                  [\\nMythosschwarz\\n]   \n",
              "Upholstery                                            [\\nCloth, Black\\n]   \n",
              "Nr_of_Doors                                                      [\\n5\\n]   \n",
              "Nr_of_Seats                                                      [\\n5\\n]   \n",
              "Model_Code                                                [\\n0588/BDF\\n]   \n",
              "Gearing_Type                                         [\\n, Automatic, \\n]   \n",
              "Displacement                                              [\\n1,422 cc\\n]   \n",
              "Cylinders                                                        [\\n3\\n]   \n",
              "Weight                                                    [\\n1,220 kg\\n]   \n",
              "Drive_Chain                                                  [\\nfront\\n]   \n",
              "Fuel                               [\\n, Diesel (Particulate Filter), \\n]   \n",
              "Consumption            [[3.8 l/100 km (comb)], [4.3 l/100 km (city)],...   \n",
              "Co_2_Emission                                   [\\n99 g CO2/km (comb)\\n]   \n",
              "Emission_Class                                              [\\nEuro 6\\n]   \n",
              "Comfort_&_Convenience  [Air conditioning, Armrest, Automatic climate ...   \n",
              "Entertainment_&_Media  [Bluetooth, Hands-free equipment, On-board com...   \n",
              "Extras                 [Alloy wheels, Catalytic Converter, Voice Cont...   \n",
              "Safety_&_Security      [ABS, Central door lock, Daytime running light...   \n",
              "Emission_Label                                                       NaN   \n",
              "Gears                                                                NaN   \n",
              "Country_Version                                                      NaN   \n",
              "\n",
              "                                                                       1  \\\n",
              "Make_Model                                                       Audi A1   \n",
              "Body_Type                                                         Sedans   \n",
              "Price                                                              14500   \n",
              "Vat                                                     Price negotiable   \n",
              "Km                                                              80000.00   \n",
              "Registration                                                     03/2017   \n",
              "Prev_Owner                                                          None   \n",
              "hp                                                                141 kW   \n",
              "type                                                [, Used, , Gasoline]   \n",
              "Previous_Owners                                                      NaN   \n",
              "Next_inspection                                                      NaN   \n",
              "Inspection_new                                                       NaN   \n",
              "Warranty                                                             NaN   \n",
              "Full_Service                                                         NaN   \n",
              "Non_Smoking_Vehicle                                                  NaN   \n",
              "Offer_Number                                                         NaN   \n",
              "First_Registration                                        [\\n, 2017, \\n]   \n",
              "Body_Color                                                 [\\n, Red, \\n]   \n",
              "Paint_Type                                                           NaN   \n",
              "Body_Color_Original                                                  NaN   \n",
              "Upholstery                                             [\\nCloth, Grey\\n]   \n",
              "Nr_of_Doors                                                      [\\n3\\n]   \n",
              "Nr_of_Seats                                                      [\\n4\\n]   \n",
              "Model_Code                                                [\\n0588/BCY\\n]   \n",
              "Gearing_Type                                         [\\n, Automatic, \\n]   \n",
              "Displacement                                              [\\n1,798 cc\\n]   \n",
              "Cylinders                                                        [\\n4\\n]   \n",
              "Weight                                                    [\\n1,255 kg\\n]   \n",
              "Drive_Chain                                                  [\\nfront\\n]   \n",
              "Fuel                                                  [\\n, Gasoline, \\n]   \n",
              "Consumption            [[5.6 l/100 km (comb)], [7.1 l/100 km (city)],...   \n",
              "Co_2_Emission                                  [\\n129 g CO2/km (comb)\\n]   \n",
              "Emission_Class                                              [\\nEuro 6\\n]   \n",
              "Comfort_&_Convenience  [Air conditioning, Automatic climate control, ...   \n",
              "Entertainment_&_Media  [Bluetooth, Hands-free equipment, On-board com...   \n",
              "Extras                 [Alloy wheels, Sport seats, Sport suspension, ...   \n",
              "Safety_&_Security      [ABS, Central door lock, Central door lock wit...   \n",
              "Emission_Label                                           [\\n4 (Green)\\n]   \n",
              "Gears                                                            [\\n7\\n]   \n",
              "Country_Version                                                      NaN   \n",
              "\n",
              "                                                                       2  \n",
              "Make_Model                                                       Audi A1  \n",
              "Body_Type                                                         Sedans  \n",
              "Price                                                              14640  \n",
              "Vat                                                       VAT deductible  \n",
              "Km                                                              83450.00  \n",
              "Registration                                                     02/2016  \n",
              "Prev_Owner                                              1 previous owner  \n",
              "hp                                                                 85 kW  \n",
              "type                             [, Used, , Diesel (Particulate Filter)]  \n",
              "Previous_Owners                                                    \\n1\\n  \n",
              "Next_inspection                                                      NaN  \n",
              "Inspection_new                                                       NaN  \n",
              "Warranty                                [\\n, \\n, \\n99 g CO2/km (comb)\\n]  \n",
              "Full_Service                                                         NaN  \n",
              "Non_Smoking_Vehicle                                                  NaN  \n",
              "Offer_Number                                              [\\nAM-95365\\n]  \n",
              "First_Registration                                        [\\n, 2016, \\n]  \n",
              "Body_Color                                               [\\n, Black, \\n]  \n",
              "Paint_Type                                                [\\nMetallic\\n]  \n",
              "Body_Color_Original                         [\\nmythosschwarz metallic\\n]  \n",
              "Upholstery                                            [\\nCloth, Black\\n]  \n",
              "Nr_of_Doors                                                      [\\n4\\n]  \n",
              "Nr_of_Seats                                                      [\\n4\\n]  \n",
              "Model_Code                                                           NaN  \n",
              "Gearing_Type                                         [\\n, Automatic, \\n]  \n",
              "Displacement                                              [\\n1,598 cc\\n]  \n",
              "Cylinders                                                            NaN  \n",
              "Weight                                                               NaN  \n",
              "Drive_Chain                                                  [\\nfront\\n]  \n",
              "Fuel                               [\\n, Diesel (Particulate Filter), \\n]  \n",
              "Consumption            [[3.8 l/100 km (comb)], [4.4 l/100 km (city)],...  \n",
              "Co_2_Emission                                   [\\n99 g CO2/km (comb)\\n]  \n",
              "Emission_Class                                              [\\nEuro 6\\n]  \n",
              "Comfort_&_Convenience  [Air conditioning, Cruise control, Electrical ...  \n",
              "Entertainment_&_Media                           [MP3, On-board computer]  \n",
              "Extras                                     [Alloy wheels, Voice Control]  \n",
              "Safety_&_Security      [ABS, Central door lock, Daytime running light...  \n",
              "Emission_Label                                           [\\n4 (Green)\\n]  \n",
              "Gears                                                                NaN  \n",
              "Country_Version                                                      NaN  "
            ],
            "text/html": [
              "\n",
              "  <div id=\"df-f56bd00a-adec-49e0-919e-4135b18861bd\">\n",
              "    <div class=\"colab-df-container\">\n",
              "      <div>\n",
              "<style scoped>\n",
              "    .dataframe tbody tr th:only-of-type {\n",
              "        vertical-align: middle;\n",
              "    }\n",
              "\n",
              "    .dataframe tbody tr th {\n",
              "        vertical-align: top;\n",
              "    }\n",
              "\n",
              "    .dataframe thead th {\n",
              "        text-align: right;\n",
              "    }\n",
              "</style>\n",
              "<table border=\"1\" class=\"dataframe\">\n",
              "  <thead>\n",
              "    <tr style=\"text-align: right;\">\n",
              "      <th></th>\n",
              "      <th>0</th>\n",
              "      <th>1</th>\n",
              "      <th>2</th>\n",
              "    </tr>\n",
              "  </thead>\n",
              "  <tbody>\n",
              "    <tr>\n",
              "      <th>Make_Model</th>\n",
              "      <td>Audi A1</td>\n",
              "      <td>Audi A1</td>\n",
              "      <td>Audi A1</td>\n",
              "    </tr>\n",
              "    <tr>\n",
              "      <th>Body_Type</th>\n",
              "      <td>Sedans</td>\n",
              "      <td>Sedans</td>\n",
              "      <td>Sedans</td>\n",
              "    </tr>\n",
              "    <tr>\n",
              "      <th>Price</th>\n",
              "      <td>15770</td>\n",
              "      <td>14500</td>\n",
              "      <td>14640</td>\n",
              "    </tr>\n",
              "    <tr>\n",
              "      <th>Vat</th>\n",
              "      <td>VAT deductible</td>\n",
              "      <td>Price negotiable</td>\n",
              "      <td>VAT deductible</td>\n",
              "    </tr>\n",
              "    <tr>\n",
              "      <th>Km</th>\n",
              "      <td>56013.00</td>\n",
              "      <td>80000.00</td>\n",
              "      <td>83450.00</td>\n",
              "    </tr>\n",
              "    <tr>\n",
              "      <th>Registration</th>\n",
              "      <td>01/2016</td>\n",
              "      <td>03/2017</td>\n",
              "      <td>02/2016</td>\n",
              "    </tr>\n",
              "    <tr>\n",
              "      <th>Prev_Owner</th>\n",
              "      <td>2 previous owners</td>\n",
              "      <td>None</td>\n",
              "      <td>1 previous owner</td>\n",
              "    </tr>\n",
              "    <tr>\n",
              "      <th>hp</th>\n",
              "      <td>66 kW</td>\n",
              "      <td>141 kW</td>\n",
              "      <td>85 kW</td>\n",
              "    </tr>\n",
              "    <tr>\n",
              "      <th>type</th>\n",
              "      <td>[, Used, , Diesel (Particulate Filter)]</td>\n",
              "      <td>[, Used, , Gasoline]</td>\n",
              "      <td>[, Used, , Diesel (Particulate Filter)]</td>\n",
              "    </tr>\n",
              "    <tr>\n",
              "      <th>Previous_Owners</th>\n",
              "      <td>\\n2\\n</td>\n",
              "      <td>NaN</td>\n",
              "      <td>\\n1\\n</td>\n",
              "    </tr>\n",
              "    <tr>\n",
              "      <th>Next_inspection</th>\n",
              "      <td>[\\n06/2021\\n, \\n99 g CO2/km (comb)\\n]</td>\n",
              "      <td>NaN</td>\n",
              "      <td>NaN</td>\n",
              "    </tr>\n",
              "    <tr>\n",
              "      <th>Inspection_new</th>\n",
              "      <td>[\\nYes\\n, \\nEuro 6\\n]</td>\n",
              "      <td>NaN</td>\n",
              "      <td>NaN</td>\n",
              "    </tr>\n",
              "    <tr>\n",
              "      <th>Warranty</th>\n",
              "      <td>[\\n, \\n, \\n4 (Green)\\n]</td>\n",
              "      <td>NaN</td>\n",
              "      <td>[\\n, \\n, \\n99 g CO2/km (comb)\\n]</td>\n",
              "    </tr>\n",
              "    <tr>\n",
              "      <th>Full_Service</th>\n",
              "      <td>[\\n, \\n]</td>\n",
              "      <td>NaN</td>\n",
              "      <td>NaN</td>\n",
              "    </tr>\n",
              "    <tr>\n",
              "      <th>Non_Smoking_Vehicle</th>\n",
              "      <td>[\\n, \\n]</td>\n",
              "      <td>NaN</td>\n",
              "      <td>NaN</td>\n",
              "    </tr>\n",
              "    <tr>\n",
              "      <th>Offer_Number</th>\n",
              "      <td>[\\nLR-062483\\n]</td>\n",
              "      <td>NaN</td>\n",
              "      <td>[\\nAM-95365\\n]</td>\n",
              "    </tr>\n",
              "    <tr>\n",
              "      <th>First_Registration</th>\n",
              "      <td>[\\n, 2016, \\n]</td>\n",
              "      <td>[\\n, 2017, \\n]</td>\n",
              "      <td>[\\n, 2016, \\n]</td>\n",
              "    </tr>\n",
              "    <tr>\n",
              "      <th>Body_Color</th>\n",
              "      <td>[\\n, Black, \\n]</td>\n",
              "      <td>[\\n, Red, \\n]</td>\n",
              "      <td>[\\n, Black, \\n]</td>\n",
              "    </tr>\n",
              "    <tr>\n",
              "      <th>Paint_Type</th>\n",
              "      <td>[\\nMetallic\\n]</td>\n",
              "      <td>NaN</td>\n",
              "      <td>[\\nMetallic\\n]</td>\n",
              "    </tr>\n",
              "    <tr>\n",
              "      <th>Body_Color_Original</th>\n",
              "      <td>[\\nMythosschwarz\\n]</td>\n",
              "      <td>NaN</td>\n",
              "      <td>[\\nmythosschwarz metallic\\n]</td>\n",
              "    </tr>\n",
              "    <tr>\n",
              "      <th>Upholstery</th>\n",
              "      <td>[\\nCloth, Black\\n]</td>\n",
              "      <td>[\\nCloth, Grey\\n]</td>\n",
              "      <td>[\\nCloth, Black\\n]</td>\n",
              "    </tr>\n",
              "    <tr>\n",
              "      <th>Nr_of_Doors</th>\n",
              "      <td>[\\n5\\n]</td>\n",
              "      <td>[\\n3\\n]</td>\n",
              "      <td>[\\n4\\n]</td>\n",
              "    </tr>\n",
              "    <tr>\n",
              "      <th>Nr_of_Seats</th>\n",
              "      <td>[\\n5\\n]</td>\n",
              "      <td>[\\n4\\n]</td>\n",
              "      <td>[\\n4\\n]</td>\n",
              "    </tr>\n",
              "    <tr>\n",
              "      <th>Model_Code</th>\n",
              "      <td>[\\n0588/BDF\\n]</td>\n",
              "      <td>[\\n0588/BCY\\n]</td>\n",
              "      <td>NaN</td>\n",
              "    </tr>\n",
              "    <tr>\n",
              "      <th>Gearing_Type</th>\n",
              "      <td>[\\n, Automatic, \\n]</td>\n",
              "      <td>[\\n, Automatic, \\n]</td>\n",
              "      <td>[\\n, Automatic, \\n]</td>\n",
              "    </tr>\n",
              "    <tr>\n",
              "      <th>Displacement</th>\n",
              "      <td>[\\n1,422 cc\\n]</td>\n",
              "      <td>[\\n1,798 cc\\n]</td>\n",
              "      <td>[\\n1,598 cc\\n]</td>\n",
              "    </tr>\n",
              "    <tr>\n",
              "      <th>Cylinders</th>\n",
              "      <td>[\\n3\\n]</td>\n",
              "      <td>[\\n4\\n]</td>\n",
              "      <td>NaN</td>\n",
              "    </tr>\n",
              "    <tr>\n",
              "      <th>Weight</th>\n",
              "      <td>[\\n1,220 kg\\n]</td>\n",
              "      <td>[\\n1,255 kg\\n]</td>\n",
              "      <td>NaN</td>\n",
              "    </tr>\n",
              "    <tr>\n",
              "      <th>Drive_Chain</th>\n",
              "      <td>[\\nfront\\n]</td>\n",
              "      <td>[\\nfront\\n]</td>\n",
              "      <td>[\\nfront\\n]</td>\n",
              "    </tr>\n",
              "    <tr>\n",
              "      <th>Fuel</th>\n",
              "      <td>[\\n, Diesel (Particulate Filter), \\n]</td>\n",
              "      <td>[\\n, Gasoline, \\n]</td>\n",
              "      <td>[\\n, Diesel (Particulate Filter), \\n]</td>\n",
              "    </tr>\n",
              "    <tr>\n",
              "      <th>Consumption</th>\n",
              "      <td>[[3.8 l/100 km (comb)], [4.3 l/100 km (city)],...</td>\n",
              "      <td>[[5.6 l/100 km (comb)], [7.1 l/100 km (city)],...</td>\n",
              "      <td>[[3.8 l/100 km (comb)], [4.4 l/100 km (city)],...</td>\n",
              "    </tr>\n",
              "    <tr>\n",
              "      <th>Co_2_Emission</th>\n",
              "      <td>[\\n99 g CO2/km (comb)\\n]</td>\n",
              "      <td>[\\n129 g CO2/km (comb)\\n]</td>\n",
              "      <td>[\\n99 g CO2/km (comb)\\n]</td>\n",
              "    </tr>\n",
              "    <tr>\n",
              "      <th>Emission_Class</th>\n",
              "      <td>[\\nEuro 6\\n]</td>\n",
              "      <td>[\\nEuro 6\\n]</td>\n",
              "      <td>[\\nEuro 6\\n]</td>\n",
              "    </tr>\n",
              "    <tr>\n",
              "      <th>Comfort_&amp;_Convenience</th>\n",
              "      <td>[Air conditioning, Armrest, Automatic climate ...</td>\n",
              "      <td>[Air conditioning, Automatic climate control, ...</td>\n",
              "      <td>[Air conditioning, Cruise control, Electrical ...</td>\n",
              "    </tr>\n",
              "    <tr>\n",
              "      <th>Entertainment_&amp;_Media</th>\n",
              "      <td>[Bluetooth, Hands-free equipment, On-board com...</td>\n",
              "      <td>[Bluetooth, Hands-free equipment, On-board com...</td>\n",
              "      <td>[MP3, On-board computer]</td>\n",
              "    </tr>\n",
              "    <tr>\n",
              "      <th>Extras</th>\n",
              "      <td>[Alloy wheels, Catalytic Converter, Voice Cont...</td>\n",
              "      <td>[Alloy wheels, Sport seats, Sport suspension, ...</td>\n",
              "      <td>[Alloy wheels, Voice Control]</td>\n",
              "    </tr>\n",
              "    <tr>\n",
              "      <th>Safety_&amp;_Security</th>\n",
              "      <td>[ABS, Central door lock, Daytime running light...</td>\n",
              "      <td>[ABS, Central door lock, Central door lock wit...</td>\n",
              "      <td>[ABS, Central door lock, Daytime running light...</td>\n",
              "    </tr>\n",
              "    <tr>\n",
              "      <th>Emission_Label</th>\n",
              "      <td>NaN</td>\n",
              "      <td>[\\n4 (Green)\\n]</td>\n",
              "      <td>[\\n4 (Green)\\n]</td>\n",
              "    </tr>\n",
              "    <tr>\n",
              "      <th>Gears</th>\n",
              "      <td>NaN</td>\n",
              "      <td>[\\n7\\n]</td>\n",
              "      <td>NaN</td>\n",
              "    </tr>\n",
              "    <tr>\n",
              "      <th>Country_Version</th>\n",
              "      <td>NaN</td>\n",
              "      <td>NaN</td>\n",
              "      <td>NaN</td>\n",
              "    </tr>\n",
              "  </tbody>\n",
              "</table>\n",
              "</div>\n",
              "      <button class=\"colab-df-convert\" onclick=\"convertToInteractive('df-f56bd00a-adec-49e0-919e-4135b18861bd')\"\n",
              "              title=\"Convert this dataframe to an interactive table.\"\n",
              "              style=\"display:none;\">\n",
              "        \n",
              "  <svg xmlns=\"http://www.w3.org/2000/svg\" height=\"24px\"viewBox=\"0 0 24 24\"\n",
              "       width=\"24px\">\n",
              "    <path d=\"M0 0h24v24H0V0z\" fill=\"none\"/>\n",
              "    <path d=\"M18.56 5.44l.94 2.06.94-2.06 2.06-.94-2.06-.94-.94-2.06-.94 2.06-2.06.94zm-11 1L8.5 8.5l.94-2.06 2.06-.94-2.06-.94L8.5 2.5l-.94 2.06-2.06.94zm10 10l.94 2.06.94-2.06 2.06-.94-2.06-.94-.94-2.06-.94 2.06-2.06.94z\"/><path d=\"M17.41 7.96l-1.37-1.37c-.4-.4-.92-.59-1.43-.59-.52 0-1.04.2-1.43.59L10.3 9.45l-7.72 7.72c-.78.78-.78 2.05 0 2.83L4 21.41c.39.39.9.59 1.41.59.51 0 1.02-.2 1.41-.59l7.78-7.78 2.81-2.81c.8-.78.8-2.07 0-2.86zM5.41 20L4 18.59l7.72-7.72 1.47 1.35L5.41 20z\"/>\n",
              "  </svg>\n",
              "      </button>\n",
              "      \n",
              "  <style>\n",
              "    .colab-df-container {\n",
              "      display:flex;\n",
              "      flex-wrap:wrap;\n",
              "      gap: 12px;\n",
              "    }\n",
              "\n",
              "    .colab-df-convert {\n",
              "      background-color: #E8F0FE;\n",
              "      border: none;\n",
              "      border-radius: 50%;\n",
              "      cursor: pointer;\n",
              "      display: none;\n",
              "      fill: #1967D2;\n",
              "      height: 32px;\n",
              "      padding: 0 0 0 0;\n",
              "      width: 32px;\n",
              "    }\n",
              "\n",
              "    .colab-df-convert:hover {\n",
              "      background-color: #E2EBFA;\n",
              "      box-shadow: 0px 1px 2px rgba(60, 64, 67, 0.3), 0px 1px 3px 1px rgba(60, 64, 67, 0.15);\n",
              "      fill: #174EA6;\n",
              "    }\n",
              "\n",
              "    [theme=dark] .colab-df-convert {\n",
              "      background-color: #3B4455;\n",
              "      fill: #D2E3FC;\n",
              "    }\n",
              "\n",
              "    [theme=dark] .colab-df-convert:hover {\n",
              "      background-color: #434B5C;\n",
              "      box-shadow: 0px 1px 3px 1px rgba(0, 0, 0, 0.15);\n",
              "      filter: drop-shadow(0px 1px 2px rgba(0, 0, 0, 0.3));\n",
              "      fill: #FFFFFF;\n",
              "    }\n",
              "  </style>\n",
              "\n",
              "      <script>\n",
              "        const buttonEl =\n",
              "          document.querySelector('#df-f56bd00a-adec-49e0-919e-4135b18861bd button.colab-df-convert');\n",
              "        buttonEl.style.display =\n",
              "          google.colab.kernel.accessAllowed ? 'block' : 'none';\n",
              "\n",
              "        async function convertToInteractive(key) {\n",
              "          const element = document.querySelector('#df-f56bd00a-adec-49e0-919e-4135b18861bd');\n",
              "          const dataTable =\n",
              "            await google.colab.kernel.invokeFunction('convertToInteractive',\n",
              "                                                     [key], {});\n",
              "          if (!dataTable) return;\n",
              "\n",
              "          const docLinkHtml = 'Like what you see? Visit the ' +\n",
              "            '<a target=\"_blank\" href=https://colab.research.google.com/notebooks/data_table.ipynb>data table notebook</a>'\n",
              "            + ' to learn more about interactive tables.';\n",
              "          element.innerHTML = '';\n",
              "          dataTable['output_type'] = 'display_data';\n",
              "          await google.colab.output.renderOutput(dataTable, element);\n",
              "          const docLink = document.createElement('div');\n",
              "          docLink.innerHTML = docLinkHtml;\n",
              "          element.appendChild(docLink);\n",
              "        }\n",
              "      </script>\n",
              "    </div>\n",
              "  </div>\n",
              "  "
            ]
          },
          "metadata": {},
          "execution_count": 919
        }
      ]
    },
    {
      "cell_type": "code",
      "source": [
        "df.Registration.value_counts(dropna=False)"
      ],
      "metadata": {
        "colab": {
          "base_uri": "https://localhost:8080/"
        },
        "id": "iT_c8XZFI470",
        "outputId": "63734aae-191b-4336-ec8a-e6026e5f02fd"
      },
      "execution_count": 920,
      "outputs": [
        {
          "output_type": "execute_result",
          "data": {
            "text/plain": [
              "-/-        1597\n",
              "03/2018     695\n",
              "02/2019     585\n",
              "05/2018     572\n",
              "03/2019     543\n",
              "01/2019     541\n",
              "04/2018     541\n",
              "02/2018     539\n",
              "03/2016     536\n",
              "04/2016     532\n",
              "06/2018     532\n",
              "01/2018     511\n",
              "04/2019     506\n",
              "02/2016     472\n",
              "03/2017     471\n",
              "05/2016     459\n",
              "06/2016     452\n",
              "05/2019     440\n",
              "06/2017     409\n",
              "05/2017     404\n",
              "07/2018     396\n",
              "04/2017     380\n",
              "01/2016     376\n",
              "02/2017     368\n",
              "01/2017     306\n",
              "08/2018     285\n",
              "06/2019     224\n",
              "07/2017     215\n",
              "11/2017     180\n",
              "07/2016     176\n",
              "10/2016     160\n",
              "10/2017     154\n",
              "09/2017     149\n",
              "11/2016     142\n",
              "09/2018     141\n",
              "09/2016     141\n",
              "12/2016     134\n",
              "12/2017     123\n",
              "08/2017     114\n",
              "11/2018     110\n",
              "12/2018     103\n",
              "10/2018      97\n",
              "08/2016      94\n",
              "07/2019       6\n",
              "09/2019       5\n",
              "08/2019       1\n",
              "11/2019       1\n",
              "12/2019       1\n",
              "Name: Registration, dtype: int64"
            ]
          },
          "metadata": {},
          "execution_count": 920
        }
      ]
    },
    {
      "cell_type": "code",
      "source": [
        "df[\"First_Registration\"]"
      ],
      "metadata": {
        "colab": {
          "base_uri": "https://localhost:8080/"
        },
        "id": "1s6w2Nq4N17C",
        "outputId": "3906e8ac-2699-476b-85f2-0447319611a6"
      },
      "execution_count": 921,
      "outputs": [
        {
          "output_type": "execute_result",
          "data": {
            "text/plain": [
              "0        [\\n, 2016, \\n]\n",
              "1        [\\n, 2017, \\n]\n",
              "2        [\\n, 2016, \\n]\n",
              "3        [\\n, 2016, \\n]\n",
              "4        [\\n, 2016, \\n]\n",
              "              ...      \n",
              "15914               NaN\n",
              "15915    [\\n, 2019, \\n]\n",
              "15916    [\\n, 2019, \\n]\n",
              "15917    [\\n, 2019, \\n]\n",
              "15918    [\\n, 2019, \\n]\n",
              "Name: First_Registration, Length: 15919, dtype: object"
            ]
          },
          "metadata": {},
          "execution_count": 921
        }
      ]
    },
    {
      "cell_type": "code",
      "source": [
        "df.First_Registration.astype(\"str\").value_counts()"
      ],
      "metadata": {
        "colab": {
          "base_uri": "https://localhost:8080/"
        },
        "id": "6h_aV1wQOUxa",
        "outputId": "2d249378-d809-4df5-ba38-af5c85adcb7c"
      },
      "execution_count": 922,
      "outputs": [
        {
          "output_type": "execute_result",
          "data": {
            "text/plain": [
              "['\\n', '2018', '\\n']    4522\n",
              "['\\n', '2016', '\\n']    3674\n",
              "['\\n', '2017', '\\n']    3273\n",
              "['\\n', '2019', '\\n']    2853\n",
              "nan                     1597\n",
              "Name: First_Registration, dtype: int64"
            ]
          },
          "metadata": {},
          "execution_count": 922
        }
      ]
    },
    {
      "cell_type": "code",
      "source": [
        "df[\"First_Registration\"]=df.First_Registration.str[1].astype(float)"
      ],
      "metadata": {
        "id": "MjtBvcT8OOQt"
      },
      "execution_count": 923,
      "outputs": []
    },
    {
      "cell_type": "code",
      "source": [
        "## we'd better use First_Registration because it comes only in years \n",
        "df.First_Registration.value_counts(dropna=False)\n"
      ],
      "metadata": {
        "colab": {
          "base_uri": "https://localhost:8080/"
        },
        "id": "8ZsElMp1I45M",
        "outputId": "d536b37b-df7a-405e-93f1-87aead8a0ec0"
      },
      "execution_count": 924,
      "outputs": [
        {
          "output_type": "execute_result",
          "data": {
            "text/plain": [
              "2018.00    4522\n",
              "2016.00    3674\n",
              "2017.00    3273\n",
              "2019.00    2853\n",
              "NaN        1597\n",
              "Name: First_Registration, dtype: int64"
            ]
          },
          "metadata": {},
          "execution_count": 924
        }
      ]
    },
    {
      "cell_type": "markdown",
      "source": [
        "Since this data was scraped from the on-line car trading company in 2019 we should substract a year from 2019 to find the age of the car."
      ],
      "metadata": {
        "id": "Jnj2SsvZRfzn"
      }
    },
    {
      "cell_type": "code",
      "source": [
        "df[\"Age\"]=2019-df[\"First_Registration\"]\n",
        "df[\"Age\"]"
      ],
      "metadata": {
        "colab": {
          "base_uri": "https://localhost:8080/"
        },
        "id": "raxroMsKI42s",
        "outputId": "6754a9c5-32a0-4d45-c933-c3cd16c5cc39"
      },
      "execution_count": 925,
      "outputs": [
        {
          "output_type": "execute_result",
          "data": {
            "text/plain": [
              "0       3.00\n",
              "1       2.00\n",
              "2       3.00\n",
              "3       3.00\n",
              "4       3.00\n",
              "        ... \n",
              "15914    NaN\n",
              "15915   0.00\n",
              "15916   0.00\n",
              "15917   0.00\n",
              "15918   0.00\n",
              "Name: Age, Length: 15919, dtype: float64"
            ]
          },
          "metadata": {},
          "execution_count": 925
        }
      ]
    },
    {
      "cell_type": "code",
      "source": [
        "df.Age.value_counts(dropna=False)"
      ],
      "metadata": {
        "colab": {
          "base_uri": "https://localhost:8080/"
        },
        "id": "GluhlDwpI40E",
        "outputId": "f6eb2079-25e3-43aa-8d68-390f2389f550"
      },
      "execution_count": 926,
      "outputs": [
        {
          "output_type": "execute_result",
          "data": {
            "text/plain": [
              "1.00    4522\n",
              "3.00    3674\n",
              "2.00    3273\n",
              "0.00    2853\n",
              "NaN     1597\n",
              "Name: Age, dtype: int64"
            ]
          },
          "metadata": {},
          "execution_count": 926
        }
      ]
    },
    {
      "cell_type": "code",
      "source": [
        "#now we drop First_Registration and Registration Columns\n",
        "\n",
        "df.drop([\"Registration\",\"First_Registration\"],axis=1, inplace=True)\n",
        "df.info()"
      ],
      "metadata": {
        "colab": {
          "base_uri": "https://localhost:8080/"
        },
        "id": "5CX9ED3GI4xc",
        "outputId": "6c3a5d1d-991c-482a-9a78-819f5ca2ea73"
      },
      "execution_count": 927,
      "outputs": [
        {
          "output_type": "stream",
          "name": "stdout",
          "text": [
            "<class 'pandas.core.frame.DataFrame'>\n",
            "RangeIndex: 15919 entries, 0 to 15918\n",
            "Data columns (total 39 columns):\n",
            " #   Column                 Non-Null Count  Dtype  \n",
            "---  ------                 --------------  -----  \n",
            " 0   Make_Model             15919 non-null  object \n",
            " 1   Body_Type              15859 non-null  object \n",
            " 2   Price                  15919 non-null  int64  \n",
            " 3   Vat                    11406 non-null  object \n",
            " 4   Km                     14895 non-null  float64\n",
            " 5   Prev_Owner             9091 non-null   object \n",
            " 6   hp                     15919 non-null  object \n",
            " 7   type                   15917 non-null  object \n",
            " 8   Previous_Owners        9279 non-null   object \n",
            " 9   Next_inspection        3535 non-null   object \n",
            " 10  Inspection_new         3932 non-null   object \n",
            " 11  Warranty               10499 non-null  object \n",
            " 12  Full_Service           8215 non-null   object \n",
            " 13  Non_Smoking_Vehicle    7177 non-null   object \n",
            " 14  Offer_Number           12744 non-null  object \n",
            " 15  Body_Color             15322 non-null  object \n",
            " 16  Paint_Type             10147 non-null  object \n",
            " 17  Body_Color_Original    12160 non-null  object \n",
            " 18  Upholstery             12199 non-null  object \n",
            " 19  Nr_of_Doors            15707 non-null  object \n",
            " 20  Nr_of_Seats            14942 non-null  object \n",
            " 21  Model_Code             4978 non-null   object \n",
            " 22  Gearing_Type           15919 non-null  object \n",
            " 23  Displacement           15423 non-null  object \n",
            " 24  Cylinders              10239 non-null  object \n",
            " 25  Weight                 8945 non-null   object \n",
            " 26  Drive_Chain            9061 non-null   object \n",
            " 27  Fuel                   15919 non-null  object \n",
            " 28  Consumption            14013 non-null  object \n",
            " 29  Co_2_Emission          14111 non-null  object \n",
            " 30  Emission_Class         12898 non-null  object \n",
            " 31  Comfort_&_Convenience  14999 non-null  object \n",
            " 32  Entertainment_&_Media  14545 non-null  object \n",
            " 33  Extras                 12957 non-null  object \n",
            " 34  Safety_&_Security      14937 non-null  object \n",
            " 35  Emission_Label         3985 non-null   object \n",
            " 36  Gears                  11207 non-null  object \n",
            " 37  Country_Version        7586 non-null   object \n",
            " 38  Age                    14322 non-null  float64\n",
            "dtypes: float64(2), int64(1), object(36)\n",
            "memory usage: 4.7+ MB\n"
          ]
        }
      ]
    },
    {
      "cell_type": "markdown",
      "source": [
        "## prev_owner & Previous Owners"
      ],
      "metadata": {
        "id": "3e1HLqhNWiJQ"
      }
    },
    {
      "cell_type": "code",
      "source": [
        "df[\"Prev_Owner\"]\n",
        "#object"
      ],
      "metadata": {
        "colab": {
          "base_uri": "https://localhost:8080/"
        },
        "id": "76e0m5fgOhok",
        "outputId": "ac4432f9-8ab5-4aa7-a272-052a5afe784b"
      },
      "execution_count": 928,
      "outputs": [
        {
          "output_type": "execute_result",
          "data": {
            "text/plain": [
              "0        2 previous owners\n",
              "1                     None\n",
              "2         1 previous owner\n",
              "3         1 previous owner\n",
              "4         1 previous owner\n",
              "               ...        \n",
              "15914                 None\n",
              "15915     1 previous owner\n",
              "15916     1 previous owner\n",
              "15917                 None\n",
              "15918     1 previous owner\n",
              "Name: Prev_Owner, Length: 15919, dtype: object"
            ]
          },
          "metadata": {},
          "execution_count": 928
        }
      ]
    },
    {
      "cell_type": "code",
      "source": [
        "df.Prev_Owner.value_counts(dropna=False)"
      ],
      "metadata": {
        "colab": {
          "base_uri": "https://localhost:8080/"
        },
        "id": "s5S4_m6JOq4Q",
        "outputId": "1f7dd337-47c8-4ffa-a44e-78842651681c"
      },
      "execution_count": 929,
      "outputs": [
        {
          "output_type": "execute_result",
          "data": {
            "text/plain": [
              "1 previous owner     8294\n",
              "NaN                  6828\n",
              "2 previous owners     778\n",
              "3 previous owners      17\n",
              "4 previous owners       2\n",
              "Name: Prev_Owner, dtype: int64"
            ]
          },
          "metadata": {},
          "execution_count": 929
        }
      ]
    },
    {
      "cell_type": "code",
      "source": [
        "df[\"Previous_Owners\"]\n",
        "#object & list"
      ],
      "metadata": {
        "colab": {
          "base_uri": "https://localhost:8080/"
        },
        "id": "ETIxVejhW_jG",
        "outputId": "a726e37d-63bc-4299-80a2-b25b31932e39"
      },
      "execution_count": 930,
      "outputs": [
        {
          "output_type": "execute_result",
          "data": {
            "text/plain": [
              "0                                                    \\n2\\n\n",
              "1                                                      NaN\n",
              "2                                                    \\n1\\n\n",
              "3                                                    \\n1\\n\n",
              "4                                                    \\n1\\n\n",
              "                               ...                        \n",
              "15914                                                  NaN\n",
              "15915    [\\n1\\n, \\n, 7.4 l/100 km (comb), \\n, 9.2 l/100...\n",
              "15916                     [\\n1\\n, \\n139 g CO2/km (comb)\\n]\n",
              "15917                                                  NaN\n",
              "15918                                                \\n1\\n\n",
              "Name: Previous_Owners, Length: 15919, dtype: object"
            ]
          },
          "metadata": {},
          "execution_count": 930
        }
      ]
    },
    {
      "cell_type": "code",
      "source": [
        "df[\"Previous_Owners\"].value_counts(dropna=False)"
      ],
      "metadata": {
        "colab": {
          "base_uri": "https://localhost:8080/",
          "height": 654
        },
        "id": "G9FyMGyVXqCC",
        "outputId": "58db9e3f-59cb-4671-c9fd-7867ea717a0f"
      },
      "execution_count": 931,
      "outputs": [
        {
          "output_type": "error",
          "ename": "TypeError",
          "evalue": "ignored",
          "traceback": [
            "\u001b[0;31m---------------------------------------------------------------------------\u001b[0m",
            "\u001b[0;31mTypeError\u001b[0m                                 Traceback (most recent call last)",
            "\u001b[0;32mpandas/_libs/hashtable_class_helper.pxi\u001b[0m in \u001b[0;36mpandas._libs.hashtable.PyObjectHashTable.map_locations\u001b[0;34m()\u001b[0m\n",
            "\u001b[0;31mTypeError\u001b[0m: unhashable type: 'list'"
          ]
        },
        {
          "output_type": "stream",
          "name": "stderr",
          "text": [
            "Exception ignored in: 'pandas._libs.index.IndexEngine._call_map_locations'\n",
            "Traceback (most recent call last):\n",
            "  File \"pandas/_libs/hashtable_class_helper.pxi\", line 5231, in pandas._libs.hashtable.PyObjectHashTable.map_locations\n",
            "TypeError: unhashable type: 'list'\n"
          ]
        },
        {
          "output_type": "execute_result",
          "data": {
            "text/plain": [
              "\\n1\\n                                                                                        8101\n",
              "NaN                                                                                          6640\n",
              "\\n2\\n                                                                                         766\n",
              "\\n0\\n                                                                                         163\n",
              "\\n3\\n                                                                                          17\n",
              "                                                                                             ... \n",
              "[\\n1\\n, \\n111 g CO2/km (comb)\\n]                                                                1\n",
              "[\\n1\\n, \\nEuro 6\\n]                                                                             1\n",
              "[\\n2\\n, \\n119 g CO2/km (comb)\\n]                                                                1\n",
              "[\\n1\\n, \\n, 6.6 l/100 km (comb), \\n, 8.1 l/100 km (city), \\n, 5.7 l/100 km (country), \\n]       1\n",
              "[\\n2\\n, \\n137 g CO2/km (comb)\\n]                                                                1\n",
              "Name: Previous_Owners, Length: 103, dtype: int64"
            ]
          },
          "metadata": {},
          "execution_count": 931
        }
      ]
    },
    {
      "cell_type": "markdown",
      "source": [
        "\n",
        "I prefer \"Previous Owners\" column because it has less NaN values. But before dropping \"prev_owner\", I'll fill \"Previous Owners\" with \"prev_owner\".\n"
      ],
      "metadata": {
        "id": "tzi-qPs1QF9y"
      }
    },
    {
      "cell_type": "code",
      "source": [
        "[item[0] if type(item) == list else item for item in df[\"Previous_Owners\"]]"
      ],
      "metadata": {
        "colab": {
          "base_uri": "https://localhost:8080/"
        },
        "id": "pdrpKEC8Tb52",
        "outputId": "11bf7660-bcad-4c4e-b0a9-4f305785776d"
      },
      "execution_count": 932,
      "outputs": [
        {
          "output_type": "execute_result",
          "data": {
            "text/plain": [
              "['\\n2\\n',\n",
              " nan,\n",
              " '\\n1\\n',\n",
              " '\\n1\\n',\n",
              " '\\n1\\n',\n",
              " '\\n1\\n',\n",
              " '\\n1\\n',\n",
              " '\\n1\\n',\n",
              " '\\n1\\n',\n",
              " nan,\n",
              " nan,\n",
              " '\\n1\\n',\n",
              " '\\n1\\n',\n",
              " nan,\n",
              " '\\n1\\n',\n",
              " '\\n1\\n',\n",
              " nan,\n",
              " '\\n1\\n',\n",
              " nan,\n",
              " nan,\n",
              " '\\n1\\n',\n",
              " '\\n1\\n',\n",
              " '\\n1\\n',\n",
              " nan,\n",
              " '\\n1\\n',\n",
              " nan,\n",
              " '\\n1\\n',\n",
              " '\\n1\\n',\n",
              " nan,\n",
              " nan,\n",
              " nan,\n",
              " '\\n1\\n',\n",
              " '\\n1\\n',\n",
              " '\\n1\\n',\n",
              " nan,\n",
              " '\\n1\\n',\n",
              " '\\n1\\n',\n",
              " '\\n1\\n',\n",
              " '\\n2\\n',\n",
              " '\\n1\\n',\n",
              " '\\n1\\n',\n",
              " '\\n1\\n',\n",
              " '\\n1\\n',\n",
              " '\\n1\\n',\n",
              " '\\n1\\n',\n",
              " '\\n1\\n',\n",
              " '\\n1\\n',\n",
              " '\\n0\\n',\n",
              " '\\n2\\n',\n",
              " '\\n1\\n',\n",
              " '\\n1\\n',\n",
              " '\\n1\\n',\n",
              " nan,\n",
              " nan,\n",
              " '\\n1\\n',\n",
              " '\\n1\\n',\n",
              " '\\n1\\n',\n",
              " '\\n1\\n',\n",
              " '\\n2\\n',\n",
              " nan,\n",
              " '\\n1\\n',\n",
              " '\\n1\\n',\n",
              " '\\n1\\n',\n",
              " '\\n1\\n',\n",
              " '\\n1\\n',\n",
              " nan,\n",
              " nan,\n",
              " nan,\n",
              " '\\n1\\n',\n",
              " '\\n1\\n',\n",
              " nan,\n",
              " '\\n1\\n',\n",
              " '\\n1\\n',\n",
              " '\\n1\\n',\n",
              " '\\n1\\n',\n",
              " '\\n1\\n',\n",
              " '\\n1\\n',\n",
              " '\\n1\\n',\n",
              " '\\n1\\n',\n",
              " '\\n1\\n',\n",
              " '\\n1\\n',\n",
              " nan,\n",
              " '\\n1\\n',\n",
              " '\\n1\\n',\n",
              " '\\n2\\n',\n",
              " nan,\n",
              " nan,\n",
              " '\\n1\\n',\n",
              " '\\n1\\n',\n",
              " '\\n1\\n',\n",
              " '\\n1\\n',\n",
              " '\\n1\\n',\n",
              " '\\n2\\n',\n",
              " '\\n1\\n',\n",
              " nan,\n",
              " nan,\n",
              " nan,\n",
              " nan,\n",
              " '\\n1\\n',\n",
              " '\\n1\\n',\n",
              " nan,\n",
              " nan,\n",
              " '\\n1\\n',\n",
              " nan,\n",
              " nan,\n",
              " nan,\n",
              " nan,\n",
              " nan,\n",
              " nan,\n",
              " nan,\n",
              " nan,\n",
              " nan,\n",
              " nan,\n",
              " nan,\n",
              " '\\n1\\n',\n",
              " nan,\n",
              " nan,\n",
              " '\\n1\\n',\n",
              " nan,\n",
              " '\\n1\\n',\n",
              " '\\n1\\n',\n",
              " '\\n1\\n',\n",
              " nan,\n",
              " '\\n1\\n',\n",
              " '\\n1\\n',\n",
              " '\\n1\\n',\n",
              " '\\n1\\n',\n",
              " '\\n1\\n',\n",
              " '\\n1\\n',\n",
              " '\\n1\\n',\n",
              " nan,\n",
              " nan,\n",
              " nan,\n",
              " '\\n1\\n',\n",
              " nan,\n",
              " '\\n1\\n',\n",
              " '\\n1\\n',\n",
              " '\\n1\\n',\n",
              " '\\n1\\n',\n",
              " '\\n2\\n',\n",
              " nan,\n",
              " nan,\n",
              " '\\n1\\n',\n",
              " '\\n1\\n',\n",
              " '\\n2\\n',\n",
              " '\\n1\\n',\n",
              " '\\n2\\n',\n",
              " '\\n2\\n',\n",
              " '\\n1\\n',\n",
              " '\\n1\\n',\n",
              " nan,\n",
              " '\\n1\\n',\n",
              " '\\n1\\n',\n",
              " '\\n1\\n',\n",
              " '\\n1\\n',\n",
              " '\\n2\\n',\n",
              " '\\n1\\n',\n",
              " '\\n1\\n',\n",
              " '\\n1\\n',\n",
              " nan,\n",
              " '\\n1\\n',\n",
              " '\\n1\\n',\n",
              " '\\n2\\n',\n",
              " '\\n1\\n',\n",
              " '\\n1\\n',\n",
              " '\\n2\\n',\n",
              " '\\n2\\n',\n",
              " '\\n1\\n',\n",
              " nan,\n",
              " '\\n1\\n',\n",
              " nan,\n",
              " nan,\n",
              " '\\n1\\n',\n",
              " nan,\n",
              " '\\n2\\n',\n",
              " '\\n1\\n',\n",
              " nan,\n",
              " '\\n2\\n',\n",
              " '\\n1\\n',\n",
              " '\\n2\\n',\n",
              " '\\n1\\n',\n",
              " '\\n2\\n',\n",
              " '\\n1\\n',\n",
              " '\\n1\\n',\n",
              " '\\n1\\n',\n",
              " '\\n1\\n',\n",
              " '\\n1\\n',\n",
              " '\\n1\\n',\n",
              " '\\n1\\n',\n",
              " '\\n1\\n',\n",
              " nan,\n",
              " nan,\n",
              " '\\n1\\n',\n",
              " '\\n1\\n',\n",
              " '\\n1\\n',\n",
              " nan,\n",
              " '\\n1\\n',\n",
              " nan,\n",
              " '\\n1\\n',\n",
              " '\\n1\\n',\n",
              " '\\n2\\n',\n",
              " nan,\n",
              " '\\n1\\n',\n",
              " '\\n1\\n',\n",
              " '\\n1\\n',\n",
              " nan,\n",
              " '\\n2\\n',\n",
              " '\\n2\\n',\n",
              " nan,\n",
              " '\\n1\\n',\n",
              " nan,\n",
              " '\\n1\\n',\n",
              " '\\n1\\n',\n",
              " '\\n1\\n',\n",
              " '\\n1\\n',\n",
              " '\\n1\\n',\n",
              " '\\n1\\n',\n",
              " '\\n1\\n',\n",
              " '\\n1\\n',\n",
              " nan,\n",
              " '\\n2\\n',\n",
              " '\\n1\\n',\n",
              " '\\n1\\n',\n",
              " '\\n1\\n',\n",
              " '\\n1\\n',\n",
              " '\\n1\\n',\n",
              " '\\n1\\n',\n",
              " nan,\n",
              " nan,\n",
              " nan,\n",
              " '\\n1\\n',\n",
              " nan,\n",
              " nan,\n",
              " nan,\n",
              " '\\n1\\n',\n",
              " '\\n1\\n',\n",
              " '\\n1\\n',\n",
              " '\\n1\\n',\n",
              " '\\n1\\n',\n",
              " '\\n1\\n',\n",
              " '\\n1\\n',\n",
              " '\\n2\\n',\n",
              " '\\n2\\n',\n",
              " '\\n1\\n',\n",
              " nan,\n",
              " '\\n1\\n',\n",
              " '\\n1\\n',\n",
              " nan,\n",
              " '\\n1\\n',\n",
              " '\\n1\\n',\n",
              " nan,\n",
              " '\\n2\\n',\n",
              " nan,\n",
              " nan,\n",
              " '\\n1\\n',\n",
              " '\\n1\\n',\n",
              " '\\n2\\n',\n",
              " '\\n1\\n',\n",
              " '\\n1\\n',\n",
              " '\\n2\\n',\n",
              " nan,\n",
              " nan,\n",
              " nan,\n",
              " '\\n1\\n',\n",
              " '\\n1\\n',\n",
              " '\\n1\\n',\n",
              " '\\n1\\n',\n",
              " '\\n2\\n',\n",
              " '\\n1\\n',\n",
              " '\\n1\\n',\n",
              " nan,\n",
              " '\\n1\\n',\n",
              " '\\n1\\n',\n",
              " '\\n1\\n',\n",
              " nan,\n",
              " nan,\n",
              " nan,\n",
              " '\\n1\\n',\n",
              " nan,\n",
              " '\\n2\\n',\n",
              " '\\n1\\n',\n",
              " '\\n1\\n',\n",
              " '\\n2\\n',\n",
              " '\\n1\\n',\n",
              " '\\n1\\n',\n",
              " '\\n1\\n',\n",
              " '\\n1\\n',\n",
              " '\\n1\\n',\n",
              " '\\n1\\n',\n",
              " '\\n1\\n',\n",
              " '\\n1\\n',\n",
              " '\\n1\\n',\n",
              " '\\n1\\n',\n",
              " '\\n1\\n',\n",
              " '\\n1\\n',\n",
              " '\\n1\\n',\n",
              " '\\n1\\n',\n",
              " '\\n1\\n',\n",
              " '\\n1\\n',\n",
              " '\\n1\\n',\n",
              " '\\n1\\n',\n",
              " '\\n1\\n',\n",
              " '\\n1\\n',\n",
              " '\\n2\\n',\n",
              " '\\n1\\n',\n",
              " '\\n1\\n',\n",
              " '\\n1\\n',\n",
              " '\\n1\\n',\n",
              " '\\n1\\n',\n",
              " nan,\n",
              " nan,\n",
              " '\\n1\\n',\n",
              " '\\n1\\n',\n",
              " '\\n1\\n',\n",
              " '\\n1\\n',\n",
              " '\\n1\\n',\n",
              " '\\n1\\n',\n",
              " '\\n1\\n',\n",
              " '\\n1\\n',\n",
              " '\\n1\\n',\n",
              " '\\n1\\n',\n",
              " '\\n1\\n',\n",
              " '\\n1\\n',\n",
              " '\\n1\\n',\n",
              " '\\n1\\n',\n",
              " '\\n1\\n',\n",
              " '\\n1\\n',\n",
              " nan,\n",
              " '\\n1\\n',\n",
              " '\\n1\\n',\n",
              " '\\n1\\n',\n",
              " nan,\n",
              " '\\n1\\n',\n",
              " '\\n1\\n',\n",
              " nan,\n",
              " '\\n2\\n',\n",
              " '\\n2\\n',\n",
              " '\\n2\\n',\n",
              " '\\n1\\n',\n",
              " '\\n2\\n',\n",
              " '\\n2\\n',\n",
              " '\\n2\\n',\n",
              " '\\n2\\n',\n",
              " '\\n2\\n',\n",
              " '\\n2\\n',\n",
              " '\\n2\\n',\n",
              " '\\n2\\n',\n",
              " '\\n1\\n',\n",
              " '\\n1\\n',\n",
              " '\\n2\\n',\n",
              " '\\n1\\n',\n",
              " '\\n2\\n',\n",
              " '\\n2\\n',\n",
              " '\\n1\\n',\n",
              " '\\n2\\n',\n",
              " nan,\n",
              " '\\n2\\n',\n",
              " '\\n2\\n',\n",
              " '\\n2\\n',\n",
              " '\\n2\\n',\n",
              " '\\n2\\n',\n",
              " nan,\n",
              " '\\n2\\n',\n",
              " '\\n2\\n',\n",
              " '\\n2\\n',\n",
              " '\\n1\\n',\n",
              " '\\n2\\n',\n",
              " nan,\n",
              " '\\n1\\n',\n",
              " '\\n2\\n',\n",
              " nan,\n",
              " '\\n1\\n',\n",
              " nan,\n",
              " '\\n1\\n',\n",
              " nan,\n",
              " '\\n2\\n',\n",
              " '\\n2\\n',\n",
              " '\\n2\\n',\n",
              " '\\n2\\n',\n",
              " '\\n2\\n',\n",
              " '\\n1\\n',\n",
              " nan,\n",
              " '\\n1\\n',\n",
              " '\\n2\\n',\n",
              " '\\n2\\n',\n",
              " '\\n2\\n',\n",
              " '\\n2\\n',\n",
              " nan,\n",
              " nan,\n",
              " '\\n1\\n',\n",
              " '\\n1\\n',\n",
              " '\\n1\\n',\n",
              " '\\n1\\n',\n",
              " '\\n1\\n',\n",
              " '\\n1\\n',\n",
              " '\\n1\\n',\n",
              " '\\n1\\n',\n",
              " nan,\n",
              " '\\n2\\n',\n",
              " '\\n1\\n',\n",
              " '\\n1\\n',\n",
              " '\\n1\\n',\n",
              " '\\n1\\n',\n",
              " '\\n1\\n',\n",
              " nan,\n",
              " nan,\n",
              " nan,\n",
              " nan,\n",
              " nan,\n",
              " '\\n1\\n',\n",
              " '\\n1\\n',\n",
              " '\\n1\\n',\n",
              " '\\n1\\n',\n",
              " '\\n1\\n',\n",
              " '\\n1\\n',\n",
              " '\\n1\\n',\n",
              " '\\n1\\n',\n",
              " '\\n1\\n',\n",
              " '\\n0\\n',\n",
              " nan,\n",
              " '\\n1\\n',\n",
              " '\\n1\\n',\n",
              " '\\n2\\n',\n",
              " '\\n2\\n',\n",
              " '\\n1\\n',\n",
              " '\\n1\\n',\n",
              " '\\n2\\n',\n",
              " nan,\n",
              " '\\n1\\n',\n",
              " '\\n1\\n',\n",
              " '\\n1\\n',\n",
              " '\\n1\\n',\n",
              " '\\n1\\n',\n",
              " '\\n2\\n',\n",
              " '\\n1\\n',\n",
              " nan,\n",
              " '\\n1\\n',\n",
              " '\\n1\\n',\n",
              " '\\n1\\n',\n",
              " '\\n1\\n',\n",
              " '\\n1\\n',\n",
              " '\\n1\\n',\n",
              " '\\n1\\n',\n",
              " '\\n2\\n',\n",
              " nan,\n",
              " '\\n1\\n',\n",
              " nan,\n",
              " nan,\n",
              " nan,\n",
              " '\\n1\\n',\n",
              " '\\n1\\n',\n",
              " '\\n1\\n',\n",
              " '\\n1\\n',\n",
              " '\\n1\\n',\n",
              " '\\n1\\n',\n",
              " '\\n1\\n',\n",
              " '\\n1\\n',\n",
              " nan,\n",
              " '\\n1\\n',\n",
              " nan,\n",
              " nan,\n",
              " nan,\n",
              " '\\n1\\n',\n",
              " '\\n1\\n',\n",
              " '\\n1\\n',\n",
              " '\\n1\\n',\n",
              " nan,\n",
              " '\\n1\\n',\n",
              " nan,\n",
              " nan,\n",
              " nan,\n",
              " '\\n2\\n',\n",
              " '\\n1\\n',\n",
              " '\\n1\\n',\n",
              " '\\n1\\n',\n",
              " '\\n1\\n',\n",
              " nan,\n",
              " '\\n1\\n',\n",
              " '\\n1\\n',\n",
              " nan,\n",
              " nan,\n",
              " '\\n1\\n',\n",
              " '\\n1\\n',\n",
              " nan,\n",
              " nan,\n",
              " nan,\n",
              " nan,\n",
              " nan,\n",
              " '\\n1\\n',\n",
              " nan,\n",
              " '\\n1\\n',\n",
              " '\\n1\\n',\n",
              " '\\n1\\n',\n",
              " '\\n1\\n',\n",
              " '\\n1\\n',\n",
              " '\\n1\\n',\n",
              " '\\n1\\n',\n",
              " nan,\n",
              " '\\n1\\n',\n",
              " '\\n1\\n',\n",
              " '\\n1\\n',\n",
              " nan,\n",
              " '\\n1\\n',\n",
              " '\\n2\\n',\n",
              " '\\n2\\n',\n",
              " nan,\n",
              " '\\n1\\n',\n",
              " '\\n1\\n',\n",
              " '\\n1\\n',\n",
              " '\\n1\\n',\n",
              " nan,\n",
              " '\\n1\\n',\n",
              " '\\n1\\n',\n",
              " '\\n2\\n',\n",
              " '\\n1\\n',\n",
              " nan,\n",
              " '\\n2\\n',\n",
              " nan,\n",
              " nan,\n",
              " '\\n1\\n',\n",
              " '\\n1\\n',\n",
              " '\\n1\\n',\n",
              " '\\n2\\n',\n",
              " '\\n1\\n',\n",
              " nan,\n",
              " '\\n1\\n',\n",
              " '\\n1\\n',\n",
              " '\\n1\\n',\n",
              " '\\n1\\n',\n",
              " '\\n1\\n',\n",
              " nan,\n",
              " '\\n1\\n',\n",
              " nan,\n",
              " '\\n1\\n',\n",
              " '\\n1\\n',\n",
              " '\\n1\\n',\n",
              " '\\n1\\n',\n",
              " '\\n1\\n',\n",
              " '\\n1\\n',\n",
              " '\\n1\\n',\n",
              " '\\n1\\n',\n",
              " '\\n1\\n',\n",
              " '\\n1\\n',\n",
              " '\\n1\\n',\n",
              " '\\n1\\n',\n",
              " '\\n1\\n',\n",
              " nan,\n",
              " nan,\n",
              " '\\n1\\n',\n",
              " '\\n1\\n',\n",
              " '\\n1\\n',\n",
              " '\\n1\\n',\n",
              " '\\n1\\n',\n",
              " '\\n1\\n',\n",
              " '\\n1\\n',\n",
              " '\\n1\\n',\n",
              " '\\n1\\n',\n",
              " '\\n1\\n',\n",
              " '\\n1\\n',\n",
              " '\\n1\\n',\n",
              " '\\n1\\n',\n",
              " '\\n1\\n',\n",
              " nan,\n",
              " nan,\n",
              " nan,\n",
              " nan,\n",
              " nan,\n",
              " '\\n2\\n',\n",
              " '\\n1\\n',\n",
              " nan,\n",
              " nan,\n",
              " '\\n1\\n',\n",
              " '\\n1\\n',\n",
              " '\\n1\\n',\n",
              " '\\n1\\n',\n",
              " '\\n1\\n',\n",
              " '\\n1\\n',\n",
              " nan,\n",
              " nan,\n",
              " '\\n1\\n',\n",
              " '\\n1\\n',\n",
              " nan,\n",
              " '\\n1\\n',\n",
              " '\\n1\\n',\n",
              " nan,\n",
              " '\\n2\\n',\n",
              " '\\n0\\n',\n",
              " '\\n1\\n',\n",
              " '\\n2\\n',\n",
              " nan,\n",
              " '\\n1\\n',\n",
              " '\\n1\\n',\n",
              " '\\n1\\n',\n",
              " '\\n1\\n',\n",
              " '\\n2\\n',\n",
              " nan,\n",
              " '\\n1\\n',\n",
              " '\\n1\\n',\n",
              " nan,\n",
              " '\\n1\\n',\n",
              " '\\n1\\n',\n",
              " nan,\n",
              " '\\n1\\n',\n",
              " '\\n1\\n',\n",
              " '\\n2\\n',\n",
              " nan,\n",
              " '\\n1\\n',\n",
              " '\\n1\\n',\n",
              " nan,\n",
              " '\\n1\\n',\n",
              " '\\n1\\n',\n",
              " '\\n1\\n',\n",
              " '\\n2\\n',\n",
              " '\\n1\\n',\n",
              " '\\n2\\n',\n",
              " '\\n1\\n',\n",
              " '\\n1\\n',\n",
              " nan,\n",
              " '\\n1\\n',\n",
              " '\\n1\\n',\n",
              " '\\n1\\n',\n",
              " '\\n1\\n',\n",
              " '\\n1\\n',\n",
              " nan,\n",
              " '\\n1\\n',\n",
              " '\\n1\\n',\n",
              " '\\n1\\n',\n",
              " '\\n2\\n',\n",
              " '\\n1\\n',\n",
              " '\\n1\\n',\n",
              " '\\n1\\n',\n",
              " '\\n1\\n',\n",
              " '\\n1\\n',\n",
              " '\\n1\\n',\n",
              " nan,\n",
              " '\\n1\\n',\n",
              " '\\n1\\n',\n",
              " nan,\n",
              " '\\n1\\n',\n",
              " '\\n2\\n',\n",
              " '\\n2\\n',\n",
              " nan,\n",
              " '\\n1\\n',\n",
              " nan,\n",
              " nan,\n",
              " '\\n1\\n',\n",
              " '\\n1\\n',\n",
              " nan,\n",
              " '\\n0\\n',\n",
              " '\\n1\\n',\n",
              " '\\n1\\n',\n",
              " '\\n2\\n',\n",
              " '\\n1\\n',\n",
              " '\\n2\\n',\n",
              " '\\n1\\n',\n",
              " nan,\n",
              " nan,\n",
              " '\\n1\\n',\n",
              " '\\n1\\n',\n",
              " '\\n1\\n',\n",
              " '\\n1\\n',\n",
              " nan,\n",
              " nan,\n",
              " '\\n2\\n',\n",
              " '\\n1\\n',\n",
              " nan,\n",
              " '\\n1\\n',\n",
              " '\\n1\\n',\n",
              " '\\n1\\n',\n",
              " '\\n1\\n',\n",
              " '\\n1\\n',\n",
              " nan,\n",
              " nan,\n",
              " '\\n1\\n',\n",
              " nan,\n",
              " '\\n1\\n',\n",
              " '\\n1\\n',\n",
              " '\\n1\\n',\n",
              " nan,\n",
              " '\\n3\\n',\n",
              " '\\n1\\n',\n",
              " nan,\n",
              " '\\n1\\n',\n",
              " '\\n1\\n',\n",
              " '\\n1\\n',\n",
              " '\\n1\\n',\n",
              " '\\n1\\n',\n",
              " '\\n1\\n',\n",
              " nan,\n",
              " nan,\n",
              " '\\n1\\n',\n",
              " '\\n1\\n',\n",
              " '\\n1\\n',\n",
              " '\\n1\\n',\n",
              " '\\n1\\n',\n",
              " nan,\n",
              " '\\n1\\n',\n",
              " '\\n1\\n',\n",
              " '\\n1\\n',\n",
              " '\\n1\\n',\n",
              " '\\n1\\n',\n",
              " '\\n1\\n',\n",
              " '\\n2\\n',\n",
              " '\\n1\\n',\n",
              " '\\n1\\n',\n",
              " '\\n1\\n',\n",
              " nan,\n",
              " '\\n1\\n',\n",
              " nan,\n",
              " '\\n1\\n',\n",
              " nan,\n",
              " '\\n1\\n',\n",
              " '\\n1\\n',\n",
              " nan,\n",
              " '\\n1\\n',\n",
              " '\\n1\\n',\n",
              " '\\n1\\n',\n",
              " '\\n1\\n',\n",
              " '\\n1\\n',\n",
              " '\\n1\\n',\n",
              " nan,\n",
              " '\\n1\\n',\n",
              " '\\n1\\n',\n",
              " nan,\n",
              " '\\n1\\n',\n",
              " '\\n2\\n',\n",
              " '\\n1\\n',\n",
              " '\\n2\\n',\n",
              " '\\n1\\n',\n",
              " '\\n1\\n',\n",
              " '\\n1\\n',\n",
              " '\\n1\\n',\n",
              " '\\n1\\n',\n",
              " nan,\n",
              " '\\n0\\n',\n",
              " nan,\n",
              " '\\n1\\n',\n",
              " '\\n1\\n',\n",
              " '\\n1\\n',\n",
              " '\\n1\\n',\n",
              " '\\n1\\n',\n",
              " nan,\n",
              " '\\n1\\n',\n",
              " '\\n0\\n',\n",
              " nan,\n",
              " '\\n1\\n',\n",
              " '\\n1\\n',\n",
              " '\\n1\\n',\n",
              " '\\n1\\n',\n",
              " '\\n1\\n',\n",
              " '\\n1\\n',\n",
              " '\\n2\\n',\n",
              " nan,\n",
              " '\\n1\\n',\n",
              " nan,\n",
              " nan,\n",
              " nan,\n",
              " nan,\n",
              " '\\n2\\n',\n",
              " '\\n1\\n',\n",
              " nan,\n",
              " '\\n1\\n',\n",
              " '\\n1\\n',\n",
              " '\\n1\\n',\n",
              " '\\n2\\n',\n",
              " '\\n1\\n',\n",
              " '\\n1\\n',\n",
              " nan,\n",
              " nan,\n",
              " nan,\n",
              " nan,\n",
              " nan,\n",
              " nan,\n",
              " nan,\n",
              " nan,\n",
              " nan,\n",
              " nan,\n",
              " nan,\n",
              " nan,\n",
              " nan,\n",
              " '\\n1\\n',\n",
              " nan,\n",
              " nan,\n",
              " nan,\n",
              " nan,\n",
              " nan,\n",
              " nan,\n",
              " nan,\n",
              " nan,\n",
              " '\\n1\\n',\n",
              " '\\n1\\n',\n",
              " nan,\n",
              " '\\n2\\n',\n",
              " '\\n1\\n',\n",
              " nan,\n",
              " nan,\n",
              " '\\n1\\n',\n",
              " '\\n1\\n',\n",
              " nan,\n",
              " '\\n1\\n',\n",
              " '\\n1\\n',\n",
              " '\\n1\\n',\n",
              " nan,\n",
              " '\\n2\\n',\n",
              " '\\n1\\n',\n",
              " nan,\n",
              " '\\n1\\n',\n",
              " '\\n1\\n',\n",
              " '\\n1\\n',\n",
              " '\\n2\\n',\n",
              " nan,\n",
              " nan,\n",
              " '\\n2\\n',\n",
              " nan,\n",
              " nan,\n",
              " '\\n2\\n',\n",
              " nan,\n",
              " '\\n1\\n',\n",
              " '\\n1\\n',\n",
              " '\\n1\\n',\n",
              " '\\n1\\n',\n",
              " '\\n1\\n',\n",
              " '\\n2\\n',\n",
              " '\\n2\\n',\n",
              " '\\n1\\n',\n",
              " '\\n1\\n',\n",
              " '\\n2\\n',\n",
              " '\\n1\\n',\n",
              " '\\n1\\n',\n",
              " '\\n1\\n',\n",
              " '\\n1\\n',\n",
              " nan,\n",
              " nan,\n",
              " nan,\n",
              " '\\n1\\n',\n",
              " '\\n1\\n',\n",
              " '\\n1\\n',\n",
              " nan,\n",
              " nan,\n",
              " '\\n1\\n',\n",
              " '\\n2\\n',\n",
              " '\\n1\\n',\n",
              " '\\n2\\n',\n",
              " nan,\n",
              " '\\n1\\n',\n",
              " '\\n1\\n',\n",
              " '\\n1\\n',\n",
              " '\\n1\\n',\n",
              " '\\n1\\n',\n",
              " '\\n1\\n',\n",
              " '\\n1\\n',\n",
              " '\\n1\\n',\n",
              " '\\n1\\n',\n",
              " '\\n1\\n',\n",
              " nan,\n",
              " nan,\n",
              " '\\n1\\n',\n",
              " '\\n2\\n',\n",
              " '\\n1\\n',\n",
              " '\\n1\\n',\n",
              " nan,\n",
              " nan,\n",
              " nan,\n",
              " nan,\n",
              " '\\n1\\n',\n",
              " nan,\n",
              " nan,\n",
              " nan,\n",
              " nan,\n",
              " '\\n0\\n',\n",
              " '\\n1\\n',\n",
              " '\\n1\\n',\n",
              " '\\n1\\n',\n",
              " '\\n1\\n',\n",
              " nan,\n",
              " nan,\n",
              " nan,\n",
              " nan,\n",
              " '\\n1\\n',\n",
              " nan,\n",
              " '\\n1\\n',\n",
              " nan,\n",
              " '\\n1\\n',\n",
              " '\\n1\\n',\n",
              " '\\n2\\n',\n",
              " nan,\n",
              " nan,\n",
              " '\\n1\\n',\n",
              " nan,\n",
              " nan,\n",
              " nan,\n",
              " '\\n1\\n',\n",
              " '\\n1\\n',\n",
              " '\\n1\\n',\n",
              " '\\n2\\n',\n",
              " '\\n1\\n',\n",
              " nan,\n",
              " '\\n1\\n',\n",
              " nan,\n",
              " nan,\n",
              " '\\n1\\n',\n",
              " nan,\n",
              " nan,\n",
              " nan,\n",
              " '\\n1\\n',\n",
              " '\\n1\\n',\n",
              " nan,\n",
              " '\\n1\\n',\n",
              " nan,\n",
              " '\\n1\\n',\n",
              " '\\n1\\n',\n",
              " '\\n1\\n',\n",
              " '\\n1\\n',\n",
              " '\\n1\\n',\n",
              " '\\n1\\n',\n",
              " '\\n1\\n',\n",
              " '\\n1\\n',\n",
              " '\\n1\\n',\n",
              " '\\n1\\n',\n",
              " '\\n1\\n',\n",
              " '\\n2\\n',\n",
              " '\\n1\\n',\n",
              " '\\n1\\n',\n",
              " '\\n1\\n',\n",
              " '\\n1\\n',\n",
              " '\\n1\\n',\n",
              " '\\n1\\n',\n",
              " nan,\n",
              " '\\n1\\n',\n",
              " '\\n1\\n',\n",
              " nan,\n",
              " '\\n2\\n',\n",
              " nan,\n",
              " nan,\n",
              " '\\n1\\n',\n",
              " '\\n1\\n',\n",
              " nan,\n",
              " nan,\n",
              " nan,\n",
              " nan,\n",
              " nan,\n",
              " nan,\n",
              " '\\n1\\n',\n",
              " '\\n1\\n',\n",
              " '\\n1\\n',\n",
              " '\\n1\\n',\n",
              " nan,\n",
              " '\\n1\\n',\n",
              " '\\n1\\n',\n",
              " '\\n1\\n',\n",
              " '\\n1\\n',\n",
              " '\\n1\\n',\n",
              " nan,\n",
              " nan,\n",
              " nan,\n",
              " '\\n2\\n',\n",
              " '\\n1\\n',\n",
              " '\\n2\\n',\n",
              " '\\n1\\n',\n",
              " '\\n1\\n',\n",
              " nan,\n",
              " nan,\n",
              " nan,\n",
              " '\\n1\\n',\n",
              " '\\n1\\n',\n",
              " '\\n1\\n',\n",
              " nan,\n",
              " '\\n1\\n',\n",
              " '\\n1\\n',\n",
              " nan,\n",
              " '\\n1\\n',\n",
              " '\\n1\\n',\n",
              " '\\n4\\n',\n",
              " '\\n1\\n',\n",
              " nan,\n",
              " '\\n1\\n',\n",
              " '\\n1\\n',\n",
              " nan,\n",
              " '\\n1\\n',\n",
              " '\\n1\\n',\n",
              " '\\n0\\n',\n",
              " '\\n1\\n',\n",
              " nan,\n",
              " '\\n1\\n',\n",
              " nan,\n",
              " '\\n1\\n',\n",
              " '\\n1\\n',\n",
              " nan,\n",
              " '\\n1\\n',\n",
              " '\\n1\\n',\n",
              " nan,\n",
              " nan,\n",
              " nan,\n",
              " nan,\n",
              " '\\n1\\n',\n",
              " '\\n1\\n',\n",
              " '\\n1\\n',\n",
              " '\\n1\\n',\n",
              " '\\n1\\n',\n",
              " '\\n1\\n',\n",
              " ...]"
            ]
          },
          "metadata": {},
          "execution_count": 932
        }
      ]
    },
    {
      "cell_type": "code",
      "source": [
        "df[\"Previous_Owners\"] = [item[0] if type(item) == list else item for item in df[\"Previous_Owners\"]]\n",
        "df[\"Previous_Owners\"]"
      ],
      "metadata": {
        "colab": {
          "base_uri": "https://localhost:8080/"
        },
        "id": "x4Ci9-itTnwU",
        "outputId": "8102a404-b177-4c12-ef89-0d81e7c73ecf"
      },
      "execution_count": 933,
      "outputs": [
        {
          "output_type": "execute_result",
          "data": {
            "text/plain": [
              "0        \\n2\\n\n",
              "1          NaN\n",
              "2        \\n1\\n\n",
              "3        \\n1\\n\n",
              "4        \\n1\\n\n",
              "         ...  \n",
              "15914      NaN\n",
              "15915    \\n1\\n\n",
              "15916    \\n1\\n\n",
              "15917      NaN\n",
              "15918    \\n1\\n\n",
              "Name: Previous_Owners, Length: 15919, dtype: object"
            ]
          },
          "metadata": {},
          "execution_count": 933
        }
      ]
    },
    {
      "cell_type": "code",
      "source": [
        "df[\"Previous_Owners\"] = df[\"Previous_Owners\"].str.strip(\"\\n\").astype('float')"
      ],
      "metadata": {
        "id": "GFh2ccwNQX6y"
      },
      "execution_count": 934,
      "outputs": []
    },
    {
      "cell_type": "code",
      "source": [
        "df[\"Previous_Owners\"].value_counts(dropna=False)"
      ],
      "metadata": {
        "colab": {
          "base_uri": "https://localhost:8080/"
        },
        "id": "Bz_Nh4BoQcPo",
        "outputId": "0b79c505-5ff0-4f1a-d0f8-2e6b07bf8ffa"
      },
      "execution_count": 935,
      "outputs": [
        {
          "output_type": "execute_result",
          "data": {
            "text/plain": [
              "1.00    8294\n",
              "NaN     6640\n",
              "2.00     778\n",
              "0.00     188\n",
              "3.00      17\n",
              "4.00       2\n",
              "Name: Previous_Owners, dtype: int64"
            ]
          },
          "metadata": {},
          "execution_count": 935
        }
      ]
    },
    {
      "cell_type": "code",
      "source": [
        "df[\"Prev_Owner\"]"
      ],
      "metadata": {
        "colab": {
          "base_uri": "https://localhost:8080/"
        },
        "id": "_ohH8THFW_gQ",
        "outputId": "81bad616-e051-48ed-918a-361f6c9eaaca"
      },
      "execution_count": 936,
      "outputs": [
        {
          "output_type": "execute_result",
          "data": {
            "text/plain": [
              "0        2 previous owners\n",
              "1                     None\n",
              "2         1 previous owner\n",
              "3         1 previous owner\n",
              "4         1 previous owner\n",
              "               ...        \n",
              "15914                 None\n",
              "15915     1 previous owner\n",
              "15916     1 previous owner\n",
              "15917                 None\n",
              "15918     1 previous owner\n",
              "Name: Prev_Owner, Length: 15919, dtype: object"
            ]
          },
          "metadata": {},
          "execution_count": 936
        }
      ]
    },
    {
      "cell_type": "code",
      "source": [
        "df.Prev_Owner.value_counts(dropna=False)"
      ],
      "metadata": {
        "colab": {
          "base_uri": "https://localhost:8080/"
        },
        "id": "K0-yAtC1I4ux",
        "outputId": "1b7e6f26-402d-4bdd-b559-7106e41ef38c"
      },
      "execution_count": 937,
      "outputs": [
        {
          "output_type": "execute_result",
          "data": {
            "text/plain": [
              "1 previous owner     8294\n",
              "NaN                  6828\n",
              "2 previous owners     778\n",
              "3 previous owners      17\n",
              "4 previous owners       2\n",
              "Name: Prev_Owner, dtype: int64"
            ]
          },
          "metadata": {},
          "execution_count": 937
        }
      ]
    },
    {
      "cell_type": "code",
      "source": [
        "df[\"Prev_Owner\"] = df[\"Prev_Owner\"].str.split(\" \").str[0].astype('float')"
      ],
      "metadata": {
        "id": "twQgGlRhQtlU"
      },
      "execution_count": 938,
      "outputs": []
    },
    {
      "cell_type": "code",
      "source": [
        "df[\"Prev_Owner\"].value_counts(dropna=False)"
      ],
      "metadata": {
        "colab": {
          "base_uri": "https://localhost:8080/"
        },
        "id": "iuNGKj_FQ3_i",
        "outputId": "8238ec71-b736-4209-c358-2e98b0c9bf12"
      },
      "execution_count": 939,
      "outputs": [
        {
          "output_type": "execute_result",
          "data": {
            "text/plain": [
              "1.00    8294\n",
              "NaN     6828\n",
              "2.00     778\n",
              "3.00      17\n",
              "4.00       2\n",
              "Name: Prev_Owner, dtype: int64"
            ]
          },
          "metadata": {},
          "execution_count": 939
        }
      ]
    },
    {
      "cell_type": "code",
      "source": [
        "df[\"Previous_Owners\"].fillna(df[\"Prev_Owner\"], inplace=True)"
      ],
      "metadata": {
        "id": "p_FQFuzwQ-zJ"
      },
      "execution_count": 940,
      "outputs": []
    },
    {
      "cell_type": "code",
      "source": [
        "df[\"Previous_Owners\"].value_counts(dropna=False)"
      ],
      "metadata": {
        "colab": {
          "base_uri": "https://localhost:8080/"
        },
        "id": "e-Jzdc3vQ-w4",
        "outputId": "f261a48d-604b-458a-de8b-5c4ebb2de75a"
      },
      "execution_count": 941,
      "outputs": [
        {
          "output_type": "execute_result",
          "data": {
            "text/plain": [
              "1.00    8294\n",
              "NaN     6640\n",
              "2.00     778\n",
              "0.00     188\n",
              "3.00      17\n",
              "4.00       2\n",
              "Name: Previous_Owners, dtype: int64"
            ]
          },
          "metadata": {},
          "execution_count": 941
        }
      ]
    },
    {
      "cell_type": "code",
      "source": [
        "df[(df[\"Previous_Owners\"].isna()) & (df[\"Prev_Owner\"].notna())].value_counts()"
      ],
      "metadata": {
        "colab": {
          "base_uri": "https://localhost:8080/"
        },
        "id": "ryStuvmHQ-uV",
        "outputId": "bf9123fb-4565-4a61-b732-4da986e15982"
      },
      "execution_count": 942,
      "outputs": [
        {
          "output_type": "execute_result",
          "data": {
            "text/plain": [
              "Series([], dtype: int64)"
            ]
          },
          "metadata": {},
          "execution_count": 942
        }
      ]
    },
    {
      "cell_type": "code",
      "source": [
        "df[(df[\"Previous_Owners\"].isna()) & (df[\"Prev_Owner\"].notna())]#.value_counts()"
      ],
      "metadata": {
        "colab": {
          "base_uri": "https://localhost:8080/",
          "height": 113
        },
        "id": "cUqEXvEBRcVW",
        "outputId": "b1536f15-c033-41b3-9f5f-edd6251e034c"
      },
      "execution_count": 943,
      "outputs": [
        {
          "output_type": "execute_result",
          "data": {
            "text/plain": [
              "Empty DataFrame\n",
              "Columns: [Make_Model, Body_Type, Price, Vat, Km, Prev_Owner, hp, type, Previous_Owners, Next_inspection, Inspection_new, Warranty, Full_Service, Non_Smoking_Vehicle, Offer_Number, Body_Color, Paint_Type, Body_Color_Original, Upholstery, Nr_of_Doors, Nr_of_Seats, Model_Code, Gearing_Type, Displacement, Cylinders, Weight, Drive_Chain, Fuel, Consumption, Co_2_Emission, Emission_Class, Comfort_&_Convenience, Entertainment_&_Media, Extras, Safety_&_Security, Emission_Label, Gears, Country_Version, Age]\n",
              "Index: []"
            ],
            "text/html": [
              "\n",
              "  <div id=\"df-4c3324d7-a8fd-4d2b-9f00-48f59a8f19cb\">\n",
              "    <div class=\"colab-df-container\">\n",
              "      <div>\n",
              "<style scoped>\n",
              "    .dataframe tbody tr th:only-of-type {\n",
              "        vertical-align: middle;\n",
              "    }\n",
              "\n",
              "    .dataframe tbody tr th {\n",
              "        vertical-align: top;\n",
              "    }\n",
              "\n",
              "    .dataframe thead th {\n",
              "        text-align: right;\n",
              "    }\n",
              "</style>\n",
              "<table border=\"1\" class=\"dataframe\">\n",
              "  <thead>\n",
              "    <tr style=\"text-align: right;\">\n",
              "      <th></th>\n",
              "      <th>Make_Model</th>\n",
              "      <th>Body_Type</th>\n",
              "      <th>Price</th>\n",
              "      <th>Vat</th>\n",
              "      <th>Km</th>\n",
              "      <th>Prev_Owner</th>\n",
              "      <th>hp</th>\n",
              "      <th>type</th>\n",
              "      <th>Previous_Owners</th>\n",
              "      <th>Next_inspection</th>\n",
              "      <th>Inspection_new</th>\n",
              "      <th>Warranty</th>\n",
              "      <th>Full_Service</th>\n",
              "      <th>Non_Smoking_Vehicle</th>\n",
              "      <th>Offer_Number</th>\n",
              "      <th>Body_Color</th>\n",
              "      <th>Paint_Type</th>\n",
              "      <th>Body_Color_Original</th>\n",
              "      <th>Upholstery</th>\n",
              "      <th>Nr_of_Doors</th>\n",
              "      <th>Nr_of_Seats</th>\n",
              "      <th>Model_Code</th>\n",
              "      <th>Gearing_Type</th>\n",
              "      <th>Displacement</th>\n",
              "      <th>Cylinders</th>\n",
              "      <th>Weight</th>\n",
              "      <th>Drive_Chain</th>\n",
              "      <th>Fuel</th>\n",
              "      <th>Consumption</th>\n",
              "      <th>Co_2_Emission</th>\n",
              "      <th>Emission_Class</th>\n",
              "      <th>Comfort_&amp;_Convenience</th>\n",
              "      <th>Entertainment_&amp;_Media</th>\n",
              "      <th>Extras</th>\n",
              "      <th>Safety_&amp;_Security</th>\n",
              "      <th>Emission_Label</th>\n",
              "      <th>Gears</th>\n",
              "      <th>Country_Version</th>\n",
              "      <th>Age</th>\n",
              "    </tr>\n",
              "  </thead>\n",
              "  <tbody>\n",
              "  </tbody>\n",
              "</table>\n",
              "</div>\n",
              "      <button class=\"colab-df-convert\" onclick=\"convertToInteractive('df-4c3324d7-a8fd-4d2b-9f00-48f59a8f19cb')\"\n",
              "              title=\"Convert this dataframe to an interactive table.\"\n",
              "              style=\"display:none;\">\n",
              "        \n",
              "  <svg xmlns=\"http://www.w3.org/2000/svg\" height=\"24px\"viewBox=\"0 0 24 24\"\n",
              "       width=\"24px\">\n",
              "    <path d=\"M0 0h24v24H0V0z\" fill=\"none\"/>\n",
              "    <path d=\"M18.56 5.44l.94 2.06.94-2.06 2.06-.94-2.06-.94-.94-2.06-.94 2.06-2.06.94zm-11 1L8.5 8.5l.94-2.06 2.06-.94-2.06-.94L8.5 2.5l-.94 2.06-2.06.94zm10 10l.94 2.06.94-2.06 2.06-.94-2.06-.94-.94-2.06-.94 2.06-2.06.94z\"/><path d=\"M17.41 7.96l-1.37-1.37c-.4-.4-.92-.59-1.43-.59-.52 0-1.04.2-1.43.59L10.3 9.45l-7.72 7.72c-.78.78-.78 2.05 0 2.83L4 21.41c.39.39.9.59 1.41.59.51 0 1.02-.2 1.41-.59l7.78-7.78 2.81-2.81c.8-.78.8-2.07 0-2.86zM5.41 20L4 18.59l7.72-7.72 1.47 1.35L5.41 20z\"/>\n",
              "  </svg>\n",
              "      </button>\n",
              "      \n",
              "  <style>\n",
              "    .colab-df-container {\n",
              "      display:flex;\n",
              "      flex-wrap:wrap;\n",
              "      gap: 12px;\n",
              "    }\n",
              "\n",
              "    .colab-df-convert {\n",
              "      background-color: #E8F0FE;\n",
              "      border: none;\n",
              "      border-radius: 50%;\n",
              "      cursor: pointer;\n",
              "      display: none;\n",
              "      fill: #1967D2;\n",
              "      height: 32px;\n",
              "      padding: 0 0 0 0;\n",
              "      width: 32px;\n",
              "    }\n",
              "\n",
              "    .colab-df-convert:hover {\n",
              "      background-color: #E2EBFA;\n",
              "      box-shadow: 0px 1px 2px rgba(60, 64, 67, 0.3), 0px 1px 3px 1px rgba(60, 64, 67, 0.15);\n",
              "      fill: #174EA6;\n",
              "    }\n",
              "\n",
              "    [theme=dark] .colab-df-convert {\n",
              "      background-color: #3B4455;\n",
              "      fill: #D2E3FC;\n",
              "    }\n",
              "\n",
              "    [theme=dark] .colab-df-convert:hover {\n",
              "      background-color: #434B5C;\n",
              "      box-shadow: 0px 1px 3px 1px rgba(0, 0, 0, 0.15);\n",
              "      filter: drop-shadow(0px 1px 2px rgba(0, 0, 0, 0.3));\n",
              "      fill: #FFFFFF;\n",
              "    }\n",
              "  </style>\n",
              "\n",
              "      <script>\n",
              "        const buttonEl =\n",
              "          document.querySelector('#df-4c3324d7-a8fd-4d2b-9f00-48f59a8f19cb button.colab-df-convert');\n",
              "        buttonEl.style.display =\n",
              "          google.colab.kernel.accessAllowed ? 'block' : 'none';\n",
              "\n",
              "        async function convertToInteractive(key) {\n",
              "          const element = document.querySelector('#df-4c3324d7-a8fd-4d2b-9f00-48f59a8f19cb');\n",
              "          const dataTable =\n",
              "            await google.colab.kernel.invokeFunction('convertToInteractive',\n",
              "                                                     [key], {});\n",
              "          if (!dataTable) return;\n",
              "\n",
              "          const docLinkHtml = 'Like what you see? Visit the ' +\n",
              "            '<a target=\"_blank\" href=https://colab.research.google.com/notebooks/data_table.ipynb>data table notebook</a>'\n",
              "            + ' to learn more about interactive tables.';\n",
              "          element.innerHTML = '';\n",
              "          dataTable['output_type'] = 'display_data';\n",
              "          await google.colab.output.renderOutput(dataTable, element);\n",
              "          const docLink = document.createElement('div');\n",
              "          docLink.innerHTML = docLinkHtml;\n",
              "          element.appendChild(docLink);\n",
              "        }\n",
              "      </script>\n",
              "    </div>\n",
              "  </div>\n",
              "  "
            ]
          },
          "metadata": {},
          "execution_count": 943
        }
      ]
    },
    {
      "cell_type": "code",
      "source": [
        "df.drop([\"Prev_Owner\"], axis=1, inplace=True)"
      ],
      "metadata": {
        "id": "1_QDfLDAQ-r4"
      },
      "execution_count": 944,
      "outputs": []
    },
    {
      "cell_type": "code",
      "source": [
        "df.head(3).T"
      ],
      "metadata": {
        "colab": {
          "base_uri": "https://localhost:8080/",
          "height": 1000
        },
        "id": "c0fxLbmWbLHv",
        "outputId": "cceccadf-38aa-4289-8fa8-ec1cc1969cd6"
      },
      "execution_count": 945,
      "outputs": [
        {
          "output_type": "execute_result",
          "data": {
            "text/plain": [
              "                                                                       0  \\\n",
              "Make_Model                                                       Audi A1   \n",
              "Body_Type                                                         Sedans   \n",
              "Price                                                              15770   \n",
              "Vat                                                       VAT deductible   \n",
              "Km                                                              56013.00   \n",
              "hp                                                                 66 kW   \n",
              "type                             [, Used, , Diesel (Particulate Filter)]   \n",
              "Previous_Owners                                                     2.00   \n",
              "Next_inspection                    [\\n06/2021\\n, \\n99 g CO2/km (comb)\\n]   \n",
              "Inspection_new                                     [\\nYes\\n, \\nEuro 6\\n]   \n",
              "Warranty                                         [\\n, \\n, \\n4 (Green)\\n]   \n",
              "Full_Service                                                    [\\n, \\n]   \n",
              "Non_Smoking_Vehicle                                             [\\n, \\n]   \n",
              "Offer_Number                                             [\\nLR-062483\\n]   \n",
              "Body_Color                                               [\\n, Black, \\n]   \n",
              "Paint_Type                                                [\\nMetallic\\n]   \n",
              "Body_Color_Original                                  [\\nMythosschwarz\\n]   \n",
              "Upholstery                                            [\\nCloth, Black\\n]   \n",
              "Nr_of_Doors                                                      [\\n5\\n]   \n",
              "Nr_of_Seats                                                      [\\n5\\n]   \n",
              "Model_Code                                                [\\n0588/BDF\\n]   \n",
              "Gearing_Type                                         [\\n, Automatic, \\n]   \n",
              "Displacement                                              [\\n1,422 cc\\n]   \n",
              "Cylinders                                                        [\\n3\\n]   \n",
              "Weight                                                    [\\n1,220 kg\\n]   \n",
              "Drive_Chain                                                  [\\nfront\\n]   \n",
              "Fuel                               [\\n, Diesel (Particulate Filter), \\n]   \n",
              "Consumption            [[3.8 l/100 km (comb)], [4.3 l/100 km (city)],...   \n",
              "Co_2_Emission                                   [\\n99 g CO2/km (comb)\\n]   \n",
              "Emission_Class                                              [\\nEuro 6\\n]   \n",
              "Comfort_&_Convenience  [Air conditioning, Armrest, Automatic climate ...   \n",
              "Entertainment_&_Media  [Bluetooth, Hands-free equipment, On-board com...   \n",
              "Extras                 [Alloy wheels, Catalytic Converter, Voice Cont...   \n",
              "Safety_&_Security      [ABS, Central door lock, Daytime running light...   \n",
              "Emission_Label                                                       NaN   \n",
              "Gears                                                                NaN   \n",
              "Country_Version                                                      NaN   \n",
              "Age                                                                 3.00   \n",
              "\n",
              "                                                                       1  \\\n",
              "Make_Model                                                       Audi A1   \n",
              "Body_Type                                                         Sedans   \n",
              "Price                                                              14500   \n",
              "Vat                                                     Price negotiable   \n",
              "Km                                                              80000.00   \n",
              "hp                                                                141 kW   \n",
              "type                                                [, Used, , Gasoline]   \n",
              "Previous_Owners                                                      NaN   \n",
              "Next_inspection                                                      NaN   \n",
              "Inspection_new                                                       NaN   \n",
              "Warranty                                                             NaN   \n",
              "Full_Service                                                         NaN   \n",
              "Non_Smoking_Vehicle                                                  NaN   \n",
              "Offer_Number                                                         NaN   \n",
              "Body_Color                                                 [\\n, Red, \\n]   \n",
              "Paint_Type                                                           NaN   \n",
              "Body_Color_Original                                                  NaN   \n",
              "Upholstery                                             [\\nCloth, Grey\\n]   \n",
              "Nr_of_Doors                                                      [\\n3\\n]   \n",
              "Nr_of_Seats                                                      [\\n4\\n]   \n",
              "Model_Code                                                [\\n0588/BCY\\n]   \n",
              "Gearing_Type                                         [\\n, Automatic, \\n]   \n",
              "Displacement                                              [\\n1,798 cc\\n]   \n",
              "Cylinders                                                        [\\n4\\n]   \n",
              "Weight                                                    [\\n1,255 kg\\n]   \n",
              "Drive_Chain                                                  [\\nfront\\n]   \n",
              "Fuel                                                  [\\n, Gasoline, \\n]   \n",
              "Consumption            [[5.6 l/100 km (comb)], [7.1 l/100 km (city)],...   \n",
              "Co_2_Emission                                  [\\n129 g CO2/km (comb)\\n]   \n",
              "Emission_Class                                              [\\nEuro 6\\n]   \n",
              "Comfort_&_Convenience  [Air conditioning, Automatic climate control, ...   \n",
              "Entertainment_&_Media  [Bluetooth, Hands-free equipment, On-board com...   \n",
              "Extras                 [Alloy wheels, Sport seats, Sport suspension, ...   \n",
              "Safety_&_Security      [ABS, Central door lock, Central door lock wit...   \n",
              "Emission_Label                                           [\\n4 (Green)\\n]   \n",
              "Gears                                                            [\\n7\\n]   \n",
              "Country_Version                                                      NaN   \n",
              "Age                                                                 2.00   \n",
              "\n",
              "                                                                       2  \n",
              "Make_Model                                                       Audi A1  \n",
              "Body_Type                                                         Sedans  \n",
              "Price                                                              14640  \n",
              "Vat                                                       VAT deductible  \n",
              "Km                                                              83450.00  \n",
              "hp                                                                 85 kW  \n",
              "type                             [, Used, , Diesel (Particulate Filter)]  \n",
              "Previous_Owners                                                     1.00  \n",
              "Next_inspection                                                      NaN  \n",
              "Inspection_new                                                       NaN  \n",
              "Warranty                                [\\n, \\n, \\n99 g CO2/km (comb)\\n]  \n",
              "Full_Service                                                         NaN  \n",
              "Non_Smoking_Vehicle                                                  NaN  \n",
              "Offer_Number                                              [\\nAM-95365\\n]  \n",
              "Body_Color                                               [\\n, Black, \\n]  \n",
              "Paint_Type                                                [\\nMetallic\\n]  \n",
              "Body_Color_Original                         [\\nmythosschwarz metallic\\n]  \n",
              "Upholstery                                            [\\nCloth, Black\\n]  \n",
              "Nr_of_Doors                                                      [\\n4\\n]  \n",
              "Nr_of_Seats                                                      [\\n4\\n]  \n",
              "Model_Code                                                           NaN  \n",
              "Gearing_Type                                         [\\n, Automatic, \\n]  \n",
              "Displacement                                              [\\n1,598 cc\\n]  \n",
              "Cylinders                                                            NaN  \n",
              "Weight                                                               NaN  \n",
              "Drive_Chain                                                  [\\nfront\\n]  \n",
              "Fuel                               [\\n, Diesel (Particulate Filter), \\n]  \n",
              "Consumption            [[3.8 l/100 km (comb)], [4.4 l/100 km (city)],...  \n",
              "Co_2_Emission                                   [\\n99 g CO2/km (comb)\\n]  \n",
              "Emission_Class                                              [\\nEuro 6\\n]  \n",
              "Comfort_&_Convenience  [Air conditioning, Cruise control, Electrical ...  \n",
              "Entertainment_&_Media                           [MP3, On-board computer]  \n",
              "Extras                                     [Alloy wheels, Voice Control]  \n",
              "Safety_&_Security      [ABS, Central door lock, Daytime running light...  \n",
              "Emission_Label                                           [\\n4 (Green)\\n]  \n",
              "Gears                                                                NaN  \n",
              "Country_Version                                                      NaN  \n",
              "Age                                                                 3.00  "
            ],
            "text/html": [
              "\n",
              "  <div id=\"df-0a3f4451-e0c5-40a8-80f9-4237968920c8\">\n",
              "    <div class=\"colab-df-container\">\n",
              "      <div>\n",
              "<style scoped>\n",
              "    .dataframe tbody tr th:only-of-type {\n",
              "        vertical-align: middle;\n",
              "    }\n",
              "\n",
              "    .dataframe tbody tr th {\n",
              "        vertical-align: top;\n",
              "    }\n",
              "\n",
              "    .dataframe thead th {\n",
              "        text-align: right;\n",
              "    }\n",
              "</style>\n",
              "<table border=\"1\" class=\"dataframe\">\n",
              "  <thead>\n",
              "    <tr style=\"text-align: right;\">\n",
              "      <th></th>\n",
              "      <th>0</th>\n",
              "      <th>1</th>\n",
              "      <th>2</th>\n",
              "    </tr>\n",
              "  </thead>\n",
              "  <tbody>\n",
              "    <tr>\n",
              "      <th>Make_Model</th>\n",
              "      <td>Audi A1</td>\n",
              "      <td>Audi A1</td>\n",
              "      <td>Audi A1</td>\n",
              "    </tr>\n",
              "    <tr>\n",
              "      <th>Body_Type</th>\n",
              "      <td>Sedans</td>\n",
              "      <td>Sedans</td>\n",
              "      <td>Sedans</td>\n",
              "    </tr>\n",
              "    <tr>\n",
              "      <th>Price</th>\n",
              "      <td>15770</td>\n",
              "      <td>14500</td>\n",
              "      <td>14640</td>\n",
              "    </tr>\n",
              "    <tr>\n",
              "      <th>Vat</th>\n",
              "      <td>VAT deductible</td>\n",
              "      <td>Price negotiable</td>\n",
              "      <td>VAT deductible</td>\n",
              "    </tr>\n",
              "    <tr>\n",
              "      <th>Km</th>\n",
              "      <td>56013.00</td>\n",
              "      <td>80000.00</td>\n",
              "      <td>83450.00</td>\n",
              "    </tr>\n",
              "    <tr>\n",
              "      <th>hp</th>\n",
              "      <td>66 kW</td>\n",
              "      <td>141 kW</td>\n",
              "      <td>85 kW</td>\n",
              "    </tr>\n",
              "    <tr>\n",
              "      <th>type</th>\n",
              "      <td>[, Used, , Diesel (Particulate Filter)]</td>\n",
              "      <td>[, Used, , Gasoline]</td>\n",
              "      <td>[, Used, , Diesel (Particulate Filter)]</td>\n",
              "    </tr>\n",
              "    <tr>\n",
              "      <th>Previous_Owners</th>\n",
              "      <td>2.00</td>\n",
              "      <td>NaN</td>\n",
              "      <td>1.00</td>\n",
              "    </tr>\n",
              "    <tr>\n",
              "      <th>Next_inspection</th>\n",
              "      <td>[\\n06/2021\\n, \\n99 g CO2/km (comb)\\n]</td>\n",
              "      <td>NaN</td>\n",
              "      <td>NaN</td>\n",
              "    </tr>\n",
              "    <tr>\n",
              "      <th>Inspection_new</th>\n",
              "      <td>[\\nYes\\n, \\nEuro 6\\n]</td>\n",
              "      <td>NaN</td>\n",
              "      <td>NaN</td>\n",
              "    </tr>\n",
              "    <tr>\n",
              "      <th>Warranty</th>\n",
              "      <td>[\\n, \\n, \\n4 (Green)\\n]</td>\n",
              "      <td>NaN</td>\n",
              "      <td>[\\n, \\n, \\n99 g CO2/km (comb)\\n]</td>\n",
              "    </tr>\n",
              "    <tr>\n",
              "      <th>Full_Service</th>\n",
              "      <td>[\\n, \\n]</td>\n",
              "      <td>NaN</td>\n",
              "      <td>NaN</td>\n",
              "    </tr>\n",
              "    <tr>\n",
              "      <th>Non_Smoking_Vehicle</th>\n",
              "      <td>[\\n, \\n]</td>\n",
              "      <td>NaN</td>\n",
              "      <td>NaN</td>\n",
              "    </tr>\n",
              "    <tr>\n",
              "      <th>Offer_Number</th>\n",
              "      <td>[\\nLR-062483\\n]</td>\n",
              "      <td>NaN</td>\n",
              "      <td>[\\nAM-95365\\n]</td>\n",
              "    </tr>\n",
              "    <tr>\n",
              "      <th>Body_Color</th>\n",
              "      <td>[\\n, Black, \\n]</td>\n",
              "      <td>[\\n, Red, \\n]</td>\n",
              "      <td>[\\n, Black, \\n]</td>\n",
              "    </tr>\n",
              "    <tr>\n",
              "      <th>Paint_Type</th>\n",
              "      <td>[\\nMetallic\\n]</td>\n",
              "      <td>NaN</td>\n",
              "      <td>[\\nMetallic\\n]</td>\n",
              "    </tr>\n",
              "    <tr>\n",
              "      <th>Body_Color_Original</th>\n",
              "      <td>[\\nMythosschwarz\\n]</td>\n",
              "      <td>NaN</td>\n",
              "      <td>[\\nmythosschwarz metallic\\n]</td>\n",
              "    </tr>\n",
              "    <tr>\n",
              "      <th>Upholstery</th>\n",
              "      <td>[\\nCloth, Black\\n]</td>\n",
              "      <td>[\\nCloth, Grey\\n]</td>\n",
              "      <td>[\\nCloth, Black\\n]</td>\n",
              "    </tr>\n",
              "    <tr>\n",
              "      <th>Nr_of_Doors</th>\n",
              "      <td>[\\n5\\n]</td>\n",
              "      <td>[\\n3\\n]</td>\n",
              "      <td>[\\n4\\n]</td>\n",
              "    </tr>\n",
              "    <tr>\n",
              "      <th>Nr_of_Seats</th>\n",
              "      <td>[\\n5\\n]</td>\n",
              "      <td>[\\n4\\n]</td>\n",
              "      <td>[\\n4\\n]</td>\n",
              "    </tr>\n",
              "    <tr>\n",
              "      <th>Model_Code</th>\n",
              "      <td>[\\n0588/BDF\\n]</td>\n",
              "      <td>[\\n0588/BCY\\n]</td>\n",
              "      <td>NaN</td>\n",
              "    </tr>\n",
              "    <tr>\n",
              "      <th>Gearing_Type</th>\n",
              "      <td>[\\n, Automatic, \\n]</td>\n",
              "      <td>[\\n, Automatic, \\n]</td>\n",
              "      <td>[\\n, Automatic, \\n]</td>\n",
              "    </tr>\n",
              "    <tr>\n",
              "      <th>Displacement</th>\n",
              "      <td>[\\n1,422 cc\\n]</td>\n",
              "      <td>[\\n1,798 cc\\n]</td>\n",
              "      <td>[\\n1,598 cc\\n]</td>\n",
              "    </tr>\n",
              "    <tr>\n",
              "      <th>Cylinders</th>\n",
              "      <td>[\\n3\\n]</td>\n",
              "      <td>[\\n4\\n]</td>\n",
              "      <td>NaN</td>\n",
              "    </tr>\n",
              "    <tr>\n",
              "      <th>Weight</th>\n",
              "      <td>[\\n1,220 kg\\n]</td>\n",
              "      <td>[\\n1,255 kg\\n]</td>\n",
              "      <td>NaN</td>\n",
              "    </tr>\n",
              "    <tr>\n",
              "      <th>Drive_Chain</th>\n",
              "      <td>[\\nfront\\n]</td>\n",
              "      <td>[\\nfront\\n]</td>\n",
              "      <td>[\\nfront\\n]</td>\n",
              "    </tr>\n",
              "    <tr>\n",
              "      <th>Fuel</th>\n",
              "      <td>[\\n, Diesel (Particulate Filter), \\n]</td>\n",
              "      <td>[\\n, Gasoline, \\n]</td>\n",
              "      <td>[\\n, Diesel (Particulate Filter), \\n]</td>\n",
              "    </tr>\n",
              "    <tr>\n",
              "      <th>Consumption</th>\n",
              "      <td>[[3.8 l/100 km (comb)], [4.3 l/100 km (city)],...</td>\n",
              "      <td>[[5.6 l/100 km (comb)], [7.1 l/100 km (city)],...</td>\n",
              "      <td>[[3.8 l/100 km (comb)], [4.4 l/100 km (city)],...</td>\n",
              "    </tr>\n",
              "    <tr>\n",
              "      <th>Co_2_Emission</th>\n",
              "      <td>[\\n99 g CO2/km (comb)\\n]</td>\n",
              "      <td>[\\n129 g CO2/km (comb)\\n]</td>\n",
              "      <td>[\\n99 g CO2/km (comb)\\n]</td>\n",
              "    </tr>\n",
              "    <tr>\n",
              "      <th>Emission_Class</th>\n",
              "      <td>[\\nEuro 6\\n]</td>\n",
              "      <td>[\\nEuro 6\\n]</td>\n",
              "      <td>[\\nEuro 6\\n]</td>\n",
              "    </tr>\n",
              "    <tr>\n",
              "      <th>Comfort_&amp;_Convenience</th>\n",
              "      <td>[Air conditioning, Armrest, Automatic climate ...</td>\n",
              "      <td>[Air conditioning, Automatic climate control, ...</td>\n",
              "      <td>[Air conditioning, Cruise control, Electrical ...</td>\n",
              "    </tr>\n",
              "    <tr>\n",
              "      <th>Entertainment_&amp;_Media</th>\n",
              "      <td>[Bluetooth, Hands-free equipment, On-board com...</td>\n",
              "      <td>[Bluetooth, Hands-free equipment, On-board com...</td>\n",
              "      <td>[MP3, On-board computer]</td>\n",
              "    </tr>\n",
              "    <tr>\n",
              "      <th>Extras</th>\n",
              "      <td>[Alloy wheels, Catalytic Converter, Voice Cont...</td>\n",
              "      <td>[Alloy wheels, Sport seats, Sport suspension, ...</td>\n",
              "      <td>[Alloy wheels, Voice Control]</td>\n",
              "    </tr>\n",
              "    <tr>\n",
              "      <th>Safety_&amp;_Security</th>\n",
              "      <td>[ABS, Central door lock, Daytime running light...</td>\n",
              "      <td>[ABS, Central door lock, Central door lock wit...</td>\n",
              "      <td>[ABS, Central door lock, Daytime running light...</td>\n",
              "    </tr>\n",
              "    <tr>\n",
              "      <th>Emission_Label</th>\n",
              "      <td>NaN</td>\n",
              "      <td>[\\n4 (Green)\\n]</td>\n",
              "      <td>[\\n4 (Green)\\n]</td>\n",
              "    </tr>\n",
              "    <tr>\n",
              "      <th>Gears</th>\n",
              "      <td>NaN</td>\n",
              "      <td>[\\n7\\n]</td>\n",
              "      <td>NaN</td>\n",
              "    </tr>\n",
              "    <tr>\n",
              "      <th>Country_Version</th>\n",
              "      <td>NaN</td>\n",
              "      <td>NaN</td>\n",
              "      <td>NaN</td>\n",
              "    </tr>\n",
              "    <tr>\n",
              "      <th>Age</th>\n",
              "      <td>3.00</td>\n",
              "      <td>2.00</td>\n",
              "      <td>3.00</td>\n",
              "    </tr>\n",
              "  </tbody>\n",
              "</table>\n",
              "</div>\n",
              "      <button class=\"colab-df-convert\" onclick=\"convertToInteractive('df-0a3f4451-e0c5-40a8-80f9-4237968920c8')\"\n",
              "              title=\"Convert this dataframe to an interactive table.\"\n",
              "              style=\"display:none;\">\n",
              "        \n",
              "  <svg xmlns=\"http://www.w3.org/2000/svg\" height=\"24px\"viewBox=\"0 0 24 24\"\n",
              "       width=\"24px\">\n",
              "    <path d=\"M0 0h24v24H0V0z\" fill=\"none\"/>\n",
              "    <path d=\"M18.56 5.44l.94 2.06.94-2.06 2.06-.94-2.06-.94-.94-2.06-.94 2.06-2.06.94zm-11 1L8.5 8.5l.94-2.06 2.06-.94-2.06-.94L8.5 2.5l-.94 2.06-2.06.94zm10 10l.94 2.06.94-2.06 2.06-.94-2.06-.94-.94-2.06-.94 2.06-2.06.94z\"/><path d=\"M17.41 7.96l-1.37-1.37c-.4-.4-.92-.59-1.43-.59-.52 0-1.04.2-1.43.59L10.3 9.45l-7.72 7.72c-.78.78-.78 2.05 0 2.83L4 21.41c.39.39.9.59 1.41.59.51 0 1.02-.2 1.41-.59l7.78-7.78 2.81-2.81c.8-.78.8-2.07 0-2.86zM5.41 20L4 18.59l7.72-7.72 1.47 1.35L5.41 20z\"/>\n",
              "  </svg>\n",
              "      </button>\n",
              "      \n",
              "  <style>\n",
              "    .colab-df-container {\n",
              "      display:flex;\n",
              "      flex-wrap:wrap;\n",
              "      gap: 12px;\n",
              "    }\n",
              "\n",
              "    .colab-df-convert {\n",
              "      background-color: #E8F0FE;\n",
              "      border: none;\n",
              "      border-radius: 50%;\n",
              "      cursor: pointer;\n",
              "      display: none;\n",
              "      fill: #1967D2;\n",
              "      height: 32px;\n",
              "      padding: 0 0 0 0;\n",
              "      width: 32px;\n",
              "    }\n",
              "\n",
              "    .colab-df-convert:hover {\n",
              "      background-color: #E2EBFA;\n",
              "      box-shadow: 0px 1px 2px rgba(60, 64, 67, 0.3), 0px 1px 3px 1px rgba(60, 64, 67, 0.15);\n",
              "      fill: #174EA6;\n",
              "    }\n",
              "\n",
              "    [theme=dark] .colab-df-convert {\n",
              "      background-color: #3B4455;\n",
              "      fill: #D2E3FC;\n",
              "    }\n",
              "\n",
              "    [theme=dark] .colab-df-convert:hover {\n",
              "      background-color: #434B5C;\n",
              "      box-shadow: 0px 1px 3px 1px rgba(0, 0, 0, 0.15);\n",
              "      filter: drop-shadow(0px 1px 2px rgba(0, 0, 0, 0.3));\n",
              "      fill: #FFFFFF;\n",
              "    }\n",
              "  </style>\n",
              "\n",
              "      <script>\n",
              "        const buttonEl =\n",
              "          document.querySelector('#df-0a3f4451-e0c5-40a8-80f9-4237968920c8 button.colab-df-convert');\n",
              "        buttonEl.style.display =\n",
              "          google.colab.kernel.accessAllowed ? 'block' : 'none';\n",
              "\n",
              "        async function convertToInteractive(key) {\n",
              "          const element = document.querySelector('#df-0a3f4451-e0c5-40a8-80f9-4237968920c8');\n",
              "          const dataTable =\n",
              "            await google.colab.kernel.invokeFunction('convertToInteractive',\n",
              "                                                     [key], {});\n",
              "          if (!dataTable) return;\n",
              "\n",
              "          const docLinkHtml = 'Like what you see? Visit the ' +\n",
              "            '<a target=\"_blank\" href=https://colab.research.google.com/notebooks/data_table.ipynb>data table notebook</a>'\n",
              "            + ' to learn more about interactive tables.';\n",
              "          element.innerHTML = '';\n",
              "          dataTable['output_type'] = 'display_data';\n",
              "          await google.colab.output.renderOutput(dataTable, element);\n",
              "          const docLink = document.createElement('div');\n",
              "          docLink.innerHTML = docLinkHtml;\n",
              "          element.appendChild(docLink);\n",
              "        }\n",
              "      </script>\n",
              "    </div>\n",
              "  </div>\n",
              "  "
            ]
          },
          "metadata": {},
          "execution_count": 945
        }
      ]
    },
    {
      "cell_type": "markdown",
      "source": [
        "## hp"
      ],
      "metadata": {
        "id": "UBEv25xXdQcT"
      }
    },
    {
      "cell_type": "code",
      "source": [
        "df[\"hp\"]"
      ],
      "metadata": {
        "colab": {
          "base_uri": "https://localhost:8080/"
        },
        "id": "ZHQh-v00bLFL",
        "outputId": "afd8b00f-f991-4b1a-9c01-a5d2d9cea082"
      },
      "execution_count": 946,
      "outputs": [
        {
          "output_type": "execute_result",
          "data": {
            "text/plain": [
              "0         66 kW\n",
              "1        141 kW\n",
              "2         85 kW\n",
              "3         66 kW\n",
              "4         66 kW\n",
              "          ...  \n",
              "15914    147 kW\n",
              "15915    165 kW\n",
              "15916    146 kW\n",
              "15917    147 kW\n",
              "15918    165 kW\n",
              "Name: hp, Length: 15919, dtype: object"
            ]
          },
          "metadata": {},
          "execution_count": 946
        }
      ]
    },
    {
      "cell_type": "code",
      "source": [
        "df.hp.value_counts(dropna=False)"
      ],
      "metadata": {
        "colab": {
          "base_uri": "https://localhost:8080/"
        },
        "id": "_Gl8FXubdiV5",
        "outputId": "c4f4f828-238d-4ad8-d0ac-23421c889b39"
      },
      "execution_count": 947,
      "outputs": [
        {
          "output_type": "execute_result",
          "data": {
            "text/plain": [
              "85 kW     2542\n",
              "66 kW     2122\n",
              "81 kW     1402\n",
              "100 kW    1308\n",
              "110 kW    1112\n",
              "70 kW      888\n",
              "125 kW     707\n",
              "51 kW      695\n",
              "55 kW      569\n",
              "118 kW     516\n",
              "92 kW      466\n",
              "121 kW     392\n",
              "147 kW     380\n",
              "77 kW      345\n",
              "56 kW      286\n",
              "54 kW      276\n",
              "103 kW     253\n",
              "87 kW      232\n",
              "165 kW     194\n",
              "88 kW      177\n",
              "60 kW      160\n",
              "162 kW      98\n",
              "- kW        88\n",
              "74 kW       81\n",
              "96 kW       72\n",
              "71 kW       59\n",
              "101 kW      47\n",
              "67 kW       40\n",
              "154 kW      39\n",
              "122 kW      35\n",
              "119 kW      30\n",
              "164 kW      27\n",
              "135 kW      24\n",
              "82 kW       22\n",
              "52 kW       22\n",
              "78 kW       20\n",
              "1 kW        20\n",
              "294 kW      18\n",
              "146 kW      18\n",
              "141 kW      16\n",
              "57 kW       10\n",
              "104 kW       8\n",
              "120 kW       8\n",
              "191 kW       7\n",
              "112 kW       7\n",
              "155 kW       6\n",
              "117 kW       6\n",
              "184 kW       5\n",
              "90 kW        4\n",
              "76 kW        4\n",
              "65 kW        4\n",
              "149 kW       3\n",
              "80 kW        3\n",
              "168 kW       3\n",
              "98 kW        3\n",
              "93 kW        3\n",
              "228 kW       2\n",
              "270 kW       2\n",
              "53 kW        2\n",
              "140 kW       2\n",
              "86 kW        2\n",
              "167 kW       2\n",
              "127 kW       2\n",
              "89 kW        2\n",
              "143 kW       2\n",
              "63 kW        2\n",
              "40 kW        2\n",
              "150 kW       2\n",
              "163 kW       1\n",
              "115 kW       1\n",
              "132 kW       1\n",
              "75 kW        1\n",
              "4 kW         1\n",
              "137 kW       1\n",
              "123 kW       1\n",
              "133 kW       1\n",
              "84 kW        1\n",
              "195 kW       1\n",
              "44 kW        1\n",
              "239 kW       1\n",
              "9 kW         1\n",
              "Name: hp, dtype: int64"
            ]
          },
          "metadata": {},
          "execution_count": 947
        }
      ]
    },
    {
      "cell_type": "code",
      "source": [
        "#method_no_1\n",
        "df.hp.str.extract('(\\d{1,5})').astype('float')\n",
        "df[\"hp_kW\"] = df.hp.str.extract('(\\d{1,5})').astype('float') # str.extract('(\\d+)')\n",
        "df[\"hp_kW\"]"
      ],
      "metadata": {
        "id": "5FbWQTLKbLCh",
        "colab": {
          "base_uri": "https://localhost:8080/"
        },
        "outputId": "931a0635-9a95-4703-c51c-43ba79613546"
      },
      "execution_count": 948,
      "outputs": [
        {
          "output_type": "execute_result",
          "data": {
            "text/plain": [
              "0        66.00\n",
              "1       141.00\n",
              "2        85.00\n",
              "3        66.00\n",
              "4        66.00\n",
              "         ...  \n",
              "15914   147.00\n",
              "15915   165.00\n",
              "15916   146.00\n",
              "15917   147.00\n",
              "15918   165.00\n",
              "Name: hp_kW, Length: 15919, dtype: float64"
            ]
          },
          "metadata": {},
          "execution_count": 948
        }
      ]
    },
    {
      "cell_type": "code",
      "source": [
        "#df.replace({\"hp\" : {\" kW\" : \"\"}}, regex = True, inplace = True)\n",
        "#df.hp"
      ],
      "metadata": {
        "id": "-IVsuzQBbK_r"
      },
      "execution_count": 949,
      "outputs": []
    },
    {
      "cell_type": "code",
      "source": [
        "df.hp_kW.value_counts(dropna=False)"
      ],
      "metadata": {
        "id": "SpSkX0z0bK85",
        "colab": {
          "base_uri": "https://localhost:8080/"
        },
        "outputId": "4dd1cddd-8501-400b-ce87-101ac09949ff"
      },
      "execution_count": 950,
      "outputs": [
        {
          "output_type": "execute_result",
          "data": {
            "text/plain": [
              "85.00     2542\n",
              "66.00     2122\n",
              "81.00     1402\n",
              "100.00    1308\n",
              "110.00    1112\n",
              "70.00      888\n",
              "125.00     707\n",
              "51.00      695\n",
              "55.00      569\n",
              "118.00     516\n",
              "92.00      466\n",
              "121.00     392\n",
              "147.00     380\n",
              "77.00      345\n",
              "56.00      286\n",
              "54.00      276\n",
              "103.00     253\n",
              "87.00      232\n",
              "165.00     194\n",
              "88.00      177\n",
              "60.00      160\n",
              "162.00      98\n",
              "NaN         88\n",
              "74.00       81\n",
              "96.00       72\n",
              "71.00       59\n",
              "101.00      47\n",
              "67.00       40\n",
              "154.00      39\n",
              "122.00      35\n",
              "119.00      30\n",
              "164.00      27\n",
              "135.00      24\n",
              "82.00       22\n",
              "52.00       22\n",
              "78.00       20\n",
              "1.00        20\n",
              "294.00      18\n",
              "146.00      18\n",
              "141.00      16\n",
              "57.00       10\n",
              "104.00       8\n",
              "120.00       8\n",
              "191.00       7\n",
              "112.00       7\n",
              "155.00       6\n",
              "117.00       6\n",
              "184.00       5\n",
              "90.00        4\n",
              "76.00        4\n",
              "65.00        4\n",
              "149.00       3\n",
              "80.00        3\n",
              "168.00       3\n",
              "98.00        3\n",
              "93.00        3\n",
              "228.00       2\n",
              "270.00       2\n",
              "53.00        2\n",
              "140.00       2\n",
              "86.00        2\n",
              "167.00       2\n",
              "127.00       2\n",
              "89.00        2\n",
              "143.00       2\n",
              "63.00        2\n",
              "40.00        2\n",
              "150.00       2\n",
              "163.00       1\n",
              "115.00       1\n",
              "132.00       1\n",
              "75.00        1\n",
              "4.00         1\n",
              "137.00       1\n",
              "123.00       1\n",
              "133.00       1\n",
              "84.00        1\n",
              "195.00       1\n",
              "44.00        1\n",
              "239.00       1\n",
              "9.00         1\n",
              "Name: hp_kW, dtype: int64"
            ]
          },
          "metadata": {},
          "execution_count": 950
        }
      ]
    },
    {
      "cell_type": "code",
      "source": [
        "df.drop('hp', axis=1, inplace=True)"
      ],
      "metadata": {
        "id": "PyjkyKSdbK59"
      },
      "execution_count": 951,
      "outputs": []
    },
    {
      "cell_type": "code",
      "source": [
        "df.head(3).T"
      ],
      "metadata": {
        "colab": {
          "base_uri": "https://localhost:8080/",
          "height": 1000
        },
        "id": "726TtXLVTy82",
        "outputId": "8ea9777b-a404-4098-b3e3-66bf2b473a19"
      },
      "execution_count": 952,
      "outputs": [
        {
          "output_type": "execute_result",
          "data": {
            "text/plain": [
              "                                                                       0  \\\n",
              "Make_Model                                                       Audi A1   \n",
              "Body_Type                                                         Sedans   \n",
              "Price                                                              15770   \n",
              "Vat                                                       VAT deductible   \n",
              "Km                                                              56013.00   \n",
              "type                             [, Used, , Diesel (Particulate Filter)]   \n",
              "Previous_Owners                                                     2.00   \n",
              "Next_inspection                    [\\n06/2021\\n, \\n99 g CO2/km (comb)\\n]   \n",
              "Inspection_new                                     [\\nYes\\n, \\nEuro 6\\n]   \n",
              "Warranty                                         [\\n, \\n, \\n4 (Green)\\n]   \n",
              "Full_Service                                                    [\\n, \\n]   \n",
              "Non_Smoking_Vehicle                                             [\\n, \\n]   \n",
              "Offer_Number                                             [\\nLR-062483\\n]   \n",
              "Body_Color                                               [\\n, Black, \\n]   \n",
              "Paint_Type                                                [\\nMetallic\\n]   \n",
              "Body_Color_Original                                  [\\nMythosschwarz\\n]   \n",
              "Upholstery                                            [\\nCloth, Black\\n]   \n",
              "Nr_of_Doors                                                      [\\n5\\n]   \n",
              "Nr_of_Seats                                                      [\\n5\\n]   \n",
              "Model_Code                                                [\\n0588/BDF\\n]   \n",
              "Gearing_Type                                         [\\n, Automatic, \\n]   \n",
              "Displacement                                              [\\n1,422 cc\\n]   \n",
              "Cylinders                                                        [\\n3\\n]   \n",
              "Weight                                                    [\\n1,220 kg\\n]   \n",
              "Drive_Chain                                                  [\\nfront\\n]   \n",
              "Fuel                               [\\n, Diesel (Particulate Filter), \\n]   \n",
              "Consumption            [[3.8 l/100 km (comb)], [4.3 l/100 km (city)],...   \n",
              "Co_2_Emission                                   [\\n99 g CO2/km (comb)\\n]   \n",
              "Emission_Class                                              [\\nEuro 6\\n]   \n",
              "Comfort_&_Convenience  [Air conditioning, Armrest, Automatic climate ...   \n",
              "Entertainment_&_Media  [Bluetooth, Hands-free equipment, On-board com...   \n",
              "Extras                 [Alloy wheels, Catalytic Converter, Voice Cont...   \n",
              "Safety_&_Security      [ABS, Central door lock, Daytime running light...   \n",
              "Emission_Label                                                       NaN   \n",
              "Gears                                                                NaN   \n",
              "Country_Version                                                      NaN   \n",
              "Age                                                                 3.00   \n",
              "hp_kW                                                              66.00   \n",
              "\n",
              "                                                                       1  \\\n",
              "Make_Model                                                       Audi A1   \n",
              "Body_Type                                                         Sedans   \n",
              "Price                                                              14500   \n",
              "Vat                                                     Price negotiable   \n",
              "Km                                                              80000.00   \n",
              "type                                                [, Used, , Gasoline]   \n",
              "Previous_Owners                                                      NaN   \n",
              "Next_inspection                                                      NaN   \n",
              "Inspection_new                                                       NaN   \n",
              "Warranty                                                             NaN   \n",
              "Full_Service                                                         NaN   \n",
              "Non_Smoking_Vehicle                                                  NaN   \n",
              "Offer_Number                                                         NaN   \n",
              "Body_Color                                                 [\\n, Red, \\n]   \n",
              "Paint_Type                                                           NaN   \n",
              "Body_Color_Original                                                  NaN   \n",
              "Upholstery                                             [\\nCloth, Grey\\n]   \n",
              "Nr_of_Doors                                                      [\\n3\\n]   \n",
              "Nr_of_Seats                                                      [\\n4\\n]   \n",
              "Model_Code                                                [\\n0588/BCY\\n]   \n",
              "Gearing_Type                                         [\\n, Automatic, \\n]   \n",
              "Displacement                                              [\\n1,798 cc\\n]   \n",
              "Cylinders                                                        [\\n4\\n]   \n",
              "Weight                                                    [\\n1,255 kg\\n]   \n",
              "Drive_Chain                                                  [\\nfront\\n]   \n",
              "Fuel                                                  [\\n, Gasoline, \\n]   \n",
              "Consumption            [[5.6 l/100 km (comb)], [7.1 l/100 km (city)],...   \n",
              "Co_2_Emission                                  [\\n129 g CO2/km (comb)\\n]   \n",
              "Emission_Class                                              [\\nEuro 6\\n]   \n",
              "Comfort_&_Convenience  [Air conditioning, Automatic climate control, ...   \n",
              "Entertainment_&_Media  [Bluetooth, Hands-free equipment, On-board com...   \n",
              "Extras                 [Alloy wheels, Sport seats, Sport suspension, ...   \n",
              "Safety_&_Security      [ABS, Central door lock, Central door lock wit...   \n",
              "Emission_Label                                           [\\n4 (Green)\\n]   \n",
              "Gears                                                            [\\n7\\n]   \n",
              "Country_Version                                                      NaN   \n",
              "Age                                                                 2.00   \n",
              "hp_kW                                                             141.00   \n",
              "\n",
              "                                                                       2  \n",
              "Make_Model                                                       Audi A1  \n",
              "Body_Type                                                         Sedans  \n",
              "Price                                                              14640  \n",
              "Vat                                                       VAT deductible  \n",
              "Km                                                              83450.00  \n",
              "type                             [, Used, , Diesel (Particulate Filter)]  \n",
              "Previous_Owners                                                     1.00  \n",
              "Next_inspection                                                      NaN  \n",
              "Inspection_new                                                       NaN  \n",
              "Warranty                                [\\n, \\n, \\n99 g CO2/km (comb)\\n]  \n",
              "Full_Service                                                         NaN  \n",
              "Non_Smoking_Vehicle                                                  NaN  \n",
              "Offer_Number                                              [\\nAM-95365\\n]  \n",
              "Body_Color                                               [\\n, Black, \\n]  \n",
              "Paint_Type                                                [\\nMetallic\\n]  \n",
              "Body_Color_Original                         [\\nmythosschwarz metallic\\n]  \n",
              "Upholstery                                            [\\nCloth, Black\\n]  \n",
              "Nr_of_Doors                                                      [\\n4\\n]  \n",
              "Nr_of_Seats                                                      [\\n4\\n]  \n",
              "Model_Code                                                           NaN  \n",
              "Gearing_Type                                         [\\n, Automatic, \\n]  \n",
              "Displacement                                              [\\n1,598 cc\\n]  \n",
              "Cylinders                                                            NaN  \n",
              "Weight                                                               NaN  \n",
              "Drive_Chain                                                  [\\nfront\\n]  \n",
              "Fuel                               [\\n, Diesel (Particulate Filter), \\n]  \n",
              "Consumption            [[3.8 l/100 km (comb)], [4.4 l/100 km (city)],...  \n",
              "Co_2_Emission                                   [\\n99 g CO2/km (comb)\\n]  \n",
              "Emission_Class                                              [\\nEuro 6\\n]  \n",
              "Comfort_&_Convenience  [Air conditioning, Cruise control, Electrical ...  \n",
              "Entertainment_&_Media                           [MP3, On-board computer]  \n",
              "Extras                                     [Alloy wheels, Voice Control]  \n",
              "Safety_&_Security      [ABS, Central door lock, Daytime running light...  \n",
              "Emission_Label                                           [\\n4 (Green)\\n]  \n",
              "Gears                                                                NaN  \n",
              "Country_Version                                                      NaN  \n",
              "Age                                                                 3.00  \n",
              "hp_kW                                                              85.00  "
            ],
            "text/html": [
              "\n",
              "  <div id=\"df-3a0715c4-9ba2-47b0-a5fc-b0ea7e2ceb2b\">\n",
              "    <div class=\"colab-df-container\">\n",
              "      <div>\n",
              "<style scoped>\n",
              "    .dataframe tbody tr th:only-of-type {\n",
              "        vertical-align: middle;\n",
              "    }\n",
              "\n",
              "    .dataframe tbody tr th {\n",
              "        vertical-align: top;\n",
              "    }\n",
              "\n",
              "    .dataframe thead th {\n",
              "        text-align: right;\n",
              "    }\n",
              "</style>\n",
              "<table border=\"1\" class=\"dataframe\">\n",
              "  <thead>\n",
              "    <tr style=\"text-align: right;\">\n",
              "      <th></th>\n",
              "      <th>0</th>\n",
              "      <th>1</th>\n",
              "      <th>2</th>\n",
              "    </tr>\n",
              "  </thead>\n",
              "  <tbody>\n",
              "    <tr>\n",
              "      <th>Make_Model</th>\n",
              "      <td>Audi A1</td>\n",
              "      <td>Audi A1</td>\n",
              "      <td>Audi A1</td>\n",
              "    </tr>\n",
              "    <tr>\n",
              "      <th>Body_Type</th>\n",
              "      <td>Sedans</td>\n",
              "      <td>Sedans</td>\n",
              "      <td>Sedans</td>\n",
              "    </tr>\n",
              "    <tr>\n",
              "      <th>Price</th>\n",
              "      <td>15770</td>\n",
              "      <td>14500</td>\n",
              "      <td>14640</td>\n",
              "    </tr>\n",
              "    <tr>\n",
              "      <th>Vat</th>\n",
              "      <td>VAT deductible</td>\n",
              "      <td>Price negotiable</td>\n",
              "      <td>VAT deductible</td>\n",
              "    </tr>\n",
              "    <tr>\n",
              "      <th>Km</th>\n",
              "      <td>56013.00</td>\n",
              "      <td>80000.00</td>\n",
              "      <td>83450.00</td>\n",
              "    </tr>\n",
              "    <tr>\n",
              "      <th>type</th>\n",
              "      <td>[, Used, , Diesel (Particulate Filter)]</td>\n",
              "      <td>[, Used, , Gasoline]</td>\n",
              "      <td>[, Used, , Diesel (Particulate Filter)]</td>\n",
              "    </tr>\n",
              "    <tr>\n",
              "      <th>Previous_Owners</th>\n",
              "      <td>2.00</td>\n",
              "      <td>NaN</td>\n",
              "      <td>1.00</td>\n",
              "    </tr>\n",
              "    <tr>\n",
              "      <th>Next_inspection</th>\n",
              "      <td>[\\n06/2021\\n, \\n99 g CO2/km (comb)\\n]</td>\n",
              "      <td>NaN</td>\n",
              "      <td>NaN</td>\n",
              "    </tr>\n",
              "    <tr>\n",
              "      <th>Inspection_new</th>\n",
              "      <td>[\\nYes\\n, \\nEuro 6\\n]</td>\n",
              "      <td>NaN</td>\n",
              "      <td>NaN</td>\n",
              "    </tr>\n",
              "    <tr>\n",
              "      <th>Warranty</th>\n",
              "      <td>[\\n, \\n, \\n4 (Green)\\n]</td>\n",
              "      <td>NaN</td>\n",
              "      <td>[\\n, \\n, \\n99 g CO2/km (comb)\\n]</td>\n",
              "    </tr>\n",
              "    <tr>\n",
              "      <th>Full_Service</th>\n",
              "      <td>[\\n, \\n]</td>\n",
              "      <td>NaN</td>\n",
              "      <td>NaN</td>\n",
              "    </tr>\n",
              "    <tr>\n",
              "      <th>Non_Smoking_Vehicle</th>\n",
              "      <td>[\\n, \\n]</td>\n",
              "      <td>NaN</td>\n",
              "      <td>NaN</td>\n",
              "    </tr>\n",
              "    <tr>\n",
              "      <th>Offer_Number</th>\n",
              "      <td>[\\nLR-062483\\n]</td>\n",
              "      <td>NaN</td>\n",
              "      <td>[\\nAM-95365\\n]</td>\n",
              "    </tr>\n",
              "    <tr>\n",
              "      <th>Body_Color</th>\n",
              "      <td>[\\n, Black, \\n]</td>\n",
              "      <td>[\\n, Red, \\n]</td>\n",
              "      <td>[\\n, Black, \\n]</td>\n",
              "    </tr>\n",
              "    <tr>\n",
              "      <th>Paint_Type</th>\n",
              "      <td>[\\nMetallic\\n]</td>\n",
              "      <td>NaN</td>\n",
              "      <td>[\\nMetallic\\n]</td>\n",
              "    </tr>\n",
              "    <tr>\n",
              "      <th>Body_Color_Original</th>\n",
              "      <td>[\\nMythosschwarz\\n]</td>\n",
              "      <td>NaN</td>\n",
              "      <td>[\\nmythosschwarz metallic\\n]</td>\n",
              "    </tr>\n",
              "    <tr>\n",
              "      <th>Upholstery</th>\n",
              "      <td>[\\nCloth, Black\\n]</td>\n",
              "      <td>[\\nCloth, Grey\\n]</td>\n",
              "      <td>[\\nCloth, Black\\n]</td>\n",
              "    </tr>\n",
              "    <tr>\n",
              "      <th>Nr_of_Doors</th>\n",
              "      <td>[\\n5\\n]</td>\n",
              "      <td>[\\n3\\n]</td>\n",
              "      <td>[\\n4\\n]</td>\n",
              "    </tr>\n",
              "    <tr>\n",
              "      <th>Nr_of_Seats</th>\n",
              "      <td>[\\n5\\n]</td>\n",
              "      <td>[\\n4\\n]</td>\n",
              "      <td>[\\n4\\n]</td>\n",
              "    </tr>\n",
              "    <tr>\n",
              "      <th>Model_Code</th>\n",
              "      <td>[\\n0588/BDF\\n]</td>\n",
              "      <td>[\\n0588/BCY\\n]</td>\n",
              "      <td>NaN</td>\n",
              "    </tr>\n",
              "    <tr>\n",
              "      <th>Gearing_Type</th>\n",
              "      <td>[\\n, Automatic, \\n]</td>\n",
              "      <td>[\\n, Automatic, \\n]</td>\n",
              "      <td>[\\n, Automatic, \\n]</td>\n",
              "    </tr>\n",
              "    <tr>\n",
              "      <th>Displacement</th>\n",
              "      <td>[\\n1,422 cc\\n]</td>\n",
              "      <td>[\\n1,798 cc\\n]</td>\n",
              "      <td>[\\n1,598 cc\\n]</td>\n",
              "    </tr>\n",
              "    <tr>\n",
              "      <th>Cylinders</th>\n",
              "      <td>[\\n3\\n]</td>\n",
              "      <td>[\\n4\\n]</td>\n",
              "      <td>NaN</td>\n",
              "    </tr>\n",
              "    <tr>\n",
              "      <th>Weight</th>\n",
              "      <td>[\\n1,220 kg\\n]</td>\n",
              "      <td>[\\n1,255 kg\\n]</td>\n",
              "      <td>NaN</td>\n",
              "    </tr>\n",
              "    <tr>\n",
              "      <th>Drive_Chain</th>\n",
              "      <td>[\\nfront\\n]</td>\n",
              "      <td>[\\nfront\\n]</td>\n",
              "      <td>[\\nfront\\n]</td>\n",
              "    </tr>\n",
              "    <tr>\n",
              "      <th>Fuel</th>\n",
              "      <td>[\\n, Diesel (Particulate Filter), \\n]</td>\n",
              "      <td>[\\n, Gasoline, \\n]</td>\n",
              "      <td>[\\n, Diesel (Particulate Filter), \\n]</td>\n",
              "    </tr>\n",
              "    <tr>\n",
              "      <th>Consumption</th>\n",
              "      <td>[[3.8 l/100 km (comb)], [4.3 l/100 km (city)],...</td>\n",
              "      <td>[[5.6 l/100 km (comb)], [7.1 l/100 km (city)],...</td>\n",
              "      <td>[[3.8 l/100 km (comb)], [4.4 l/100 km (city)],...</td>\n",
              "    </tr>\n",
              "    <tr>\n",
              "      <th>Co_2_Emission</th>\n",
              "      <td>[\\n99 g CO2/km (comb)\\n]</td>\n",
              "      <td>[\\n129 g CO2/km (comb)\\n]</td>\n",
              "      <td>[\\n99 g CO2/km (comb)\\n]</td>\n",
              "    </tr>\n",
              "    <tr>\n",
              "      <th>Emission_Class</th>\n",
              "      <td>[\\nEuro 6\\n]</td>\n",
              "      <td>[\\nEuro 6\\n]</td>\n",
              "      <td>[\\nEuro 6\\n]</td>\n",
              "    </tr>\n",
              "    <tr>\n",
              "      <th>Comfort_&amp;_Convenience</th>\n",
              "      <td>[Air conditioning, Armrest, Automatic climate ...</td>\n",
              "      <td>[Air conditioning, Automatic climate control, ...</td>\n",
              "      <td>[Air conditioning, Cruise control, Electrical ...</td>\n",
              "    </tr>\n",
              "    <tr>\n",
              "      <th>Entertainment_&amp;_Media</th>\n",
              "      <td>[Bluetooth, Hands-free equipment, On-board com...</td>\n",
              "      <td>[Bluetooth, Hands-free equipment, On-board com...</td>\n",
              "      <td>[MP3, On-board computer]</td>\n",
              "    </tr>\n",
              "    <tr>\n",
              "      <th>Extras</th>\n",
              "      <td>[Alloy wheels, Catalytic Converter, Voice Cont...</td>\n",
              "      <td>[Alloy wheels, Sport seats, Sport suspension, ...</td>\n",
              "      <td>[Alloy wheels, Voice Control]</td>\n",
              "    </tr>\n",
              "    <tr>\n",
              "      <th>Safety_&amp;_Security</th>\n",
              "      <td>[ABS, Central door lock, Daytime running light...</td>\n",
              "      <td>[ABS, Central door lock, Central door lock wit...</td>\n",
              "      <td>[ABS, Central door lock, Daytime running light...</td>\n",
              "    </tr>\n",
              "    <tr>\n",
              "      <th>Emission_Label</th>\n",
              "      <td>NaN</td>\n",
              "      <td>[\\n4 (Green)\\n]</td>\n",
              "      <td>[\\n4 (Green)\\n]</td>\n",
              "    </tr>\n",
              "    <tr>\n",
              "      <th>Gears</th>\n",
              "      <td>NaN</td>\n",
              "      <td>[\\n7\\n]</td>\n",
              "      <td>NaN</td>\n",
              "    </tr>\n",
              "    <tr>\n",
              "      <th>Country_Version</th>\n",
              "      <td>NaN</td>\n",
              "      <td>NaN</td>\n",
              "      <td>NaN</td>\n",
              "    </tr>\n",
              "    <tr>\n",
              "      <th>Age</th>\n",
              "      <td>3.00</td>\n",
              "      <td>2.00</td>\n",
              "      <td>3.00</td>\n",
              "    </tr>\n",
              "    <tr>\n",
              "      <th>hp_kW</th>\n",
              "      <td>66.00</td>\n",
              "      <td>141.00</td>\n",
              "      <td>85.00</td>\n",
              "    </tr>\n",
              "  </tbody>\n",
              "</table>\n",
              "</div>\n",
              "      <button class=\"colab-df-convert\" onclick=\"convertToInteractive('df-3a0715c4-9ba2-47b0-a5fc-b0ea7e2ceb2b')\"\n",
              "              title=\"Convert this dataframe to an interactive table.\"\n",
              "              style=\"display:none;\">\n",
              "        \n",
              "  <svg xmlns=\"http://www.w3.org/2000/svg\" height=\"24px\"viewBox=\"0 0 24 24\"\n",
              "       width=\"24px\">\n",
              "    <path d=\"M0 0h24v24H0V0z\" fill=\"none\"/>\n",
              "    <path d=\"M18.56 5.44l.94 2.06.94-2.06 2.06-.94-2.06-.94-.94-2.06-.94 2.06-2.06.94zm-11 1L8.5 8.5l.94-2.06 2.06-.94-2.06-.94L8.5 2.5l-.94 2.06-2.06.94zm10 10l.94 2.06.94-2.06 2.06-.94-2.06-.94-.94-2.06-.94 2.06-2.06.94z\"/><path d=\"M17.41 7.96l-1.37-1.37c-.4-.4-.92-.59-1.43-.59-.52 0-1.04.2-1.43.59L10.3 9.45l-7.72 7.72c-.78.78-.78 2.05 0 2.83L4 21.41c.39.39.9.59 1.41.59.51 0 1.02-.2 1.41-.59l7.78-7.78 2.81-2.81c.8-.78.8-2.07 0-2.86zM5.41 20L4 18.59l7.72-7.72 1.47 1.35L5.41 20z\"/>\n",
              "  </svg>\n",
              "      </button>\n",
              "      \n",
              "  <style>\n",
              "    .colab-df-container {\n",
              "      display:flex;\n",
              "      flex-wrap:wrap;\n",
              "      gap: 12px;\n",
              "    }\n",
              "\n",
              "    .colab-df-convert {\n",
              "      background-color: #E8F0FE;\n",
              "      border: none;\n",
              "      border-radius: 50%;\n",
              "      cursor: pointer;\n",
              "      display: none;\n",
              "      fill: #1967D2;\n",
              "      height: 32px;\n",
              "      padding: 0 0 0 0;\n",
              "      width: 32px;\n",
              "    }\n",
              "\n",
              "    .colab-df-convert:hover {\n",
              "      background-color: #E2EBFA;\n",
              "      box-shadow: 0px 1px 2px rgba(60, 64, 67, 0.3), 0px 1px 3px 1px rgba(60, 64, 67, 0.15);\n",
              "      fill: #174EA6;\n",
              "    }\n",
              "\n",
              "    [theme=dark] .colab-df-convert {\n",
              "      background-color: #3B4455;\n",
              "      fill: #D2E3FC;\n",
              "    }\n",
              "\n",
              "    [theme=dark] .colab-df-convert:hover {\n",
              "      background-color: #434B5C;\n",
              "      box-shadow: 0px 1px 3px 1px rgba(0, 0, 0, 0.15);\n",
              "      filter: drop-shadow(0px 1px 2px rgba(0, 0, 0, 0.3));\n",
              "      fill: #FFFFFF;\n",
              "    }\n",
              "  </style>\n",
              "\n",
              "      <script>\n",
              "        const buttonEl =\n",
              "          document.querySelector('#df-3a0715c4-9ba2-47b0-a5fc-b0ea7e2ceb2b button.colab-df-convert');\n",
              "        buttonEl.style.display =\n",
              "          google.colab.kernel.accessAllowed ? 'block' : 'none';\n",
              "\n",
              "        async function convertToInteractive(key) {\n",
              "          const element = document.querySelector('#df-3a0715c4-9ba2-47b0-a5fc-b0ea7e2ceb2b');\n",
              "          const dataTable =\n",
              "            await google.colab.kernel.invokeFunction('convertToInteractive',\n",
              "                                                     [key], {});\n",
              "          if (!dataTable) return;\n",
              "\n",
              "          const docLinkHtml = 'Like what you see? Visit the ' +\n",
              "            '<a target=\"_blank\" href=https://colab.research.google.com/notebooks/data_table.ipynb>data table notebook</a>'\n",
              "            + ' to learn more about interactive tables.';\n",
              "          element.innerHTML = '';\n",
              "          dataTable['output_type'] = 'display_data';\n",
              "          await google.colab.output.renderOutput(dataTable, element);\n",
              "          const docLink = document.createElement('div');\n",
              "          docLink.innerHTML = docLinkHtml;\n",
              "          element.appendChild(docLink);\n",
              "        }\n",
              "      </script>\n",
              "    </div>\n",
              "  </div>\n",
              "  "
            ]
          },
          "metadata": {},
          "execution_count": 952
        }
      ]
    },
    {
      "cell_type": "markdown",
      "source": [
        "## Type"
      ],
      "metadata": {
        "id": "zehI3KhlT75A"
      }
    },
    {
      "cell_type": "code",
      "source": [
        "df[\"Type\"]=df[\"type\"]\n",
        "df.drop('type', axis=1, inplace=True)"
      ],
      "metadata": {
        "id": "lf9uPAQdVF63"
      },
      "execution_count": 953,
      "outputs": []
    },
    {
      "cell_type": "code",
      "source": [
        "df[\"Type_ydk\"]=df[\"Type\"]\n",
        "df.drop(\"Type_ydk\", axis=1, inplace=True)"
      ],
      "metadata": {
        "id": "YWbg0hvpZ-hs"
      },
      "execution_count": 955,
      "outputs": []
    },
    {
      "cell_type": "code",
      "source": [
        "df[\"Type\"]"
      ],
      "metadata": {
        "colab": {
          "base_uri": "https://localhost:8080/"
        },
        "id": "alfCMWG1T_IN",
        "outputId": "eafb0d77-ef2f-46b2-bab7-a361ea3dc314"
      },
      "execution_count": 956,
      "outputs": [
        {
          "output_type": "execute_result",
          "data": {
            "text/plain": [
              "0                  [, Used, , Diesel (Particulate Filter)]\n",
              "1                                     [, Used, , Gasoline]\n",
              "2                  [, Used, , Diesel (Particulate Filter)]\n",
              "3                  [, Used, , Diesel (Particulate Filter)]\n",
              "4                  [, Used, , Diesel (Particulate Filter)]\n",
              "                               ...                        \n",
              "15914               [, New, , Diesel (Particulate Filter)]\n",
              "15915    [, Used, , Super 95 / Super Plus 98 (Particula...\n",
              "15916                         [, Pre-registered, , Diesel]\n",
              "15917                         [, Pre-registered, , Diesel]\n",
              "15918                        [, Demonstration, , Super 95]\n",
              "Name: Type, Length: 15919, dtype: object"
            ]
          },
          "metadata": {},
          "execution_count": 956
        }
      ]
    },
    {
      "cell_type": "code",
      "source": [
        "df.Type.astype(\"str\").value_counts()"
      ],
      "metadata": {
        "colab": {
          "base_uri": "https://localhost:8080/"
        },
        "id": "wYcoreweT_E3",
        "outputId": "ba934ecd-8703-4eec-aacb-57e1db1e197e"
      },
      "execution_count": 957,
      "outputs": [
        {
          "output_type": "execute_result",
          "data": {
            "text/plain": [
              "['', 'Used', '', 'Diesel (Particulate Filter)']                                                                                 3475\n",
              "['', 'Used', '', 'Diesel']                                                                                                      2516\n",
              "['', 'Used', '', 'Gasoline']                                                                                                    2367\n",
              "['', 'Used', '', 'Super 95']                                                                                                    1818\n",
              "['', 'Pre-registered', '', 'Super 95']                                                                                           500\n",
              "                                                                                                                                ... \n",
              "['', 'New', '', 'Regular/Benzine 91 / Super 95 / Super Plus 98 / Regular/Benzine E10 91 / Super Plus E10 98 / Super E10 95']       1\n",
              "['', 'Used', '', 'Super 95 / Super Plus 98 / Super E10 95 / Super Plus E10 98 (Particulate Filter)']                               1\n",
              "['', 'Demonstration', '', 'Super Plus 98']                                                                                         1\n",
              "['', 'New', '', 'Super Plus E10 98']                                                                                               1\n",
              "['', 'Demonstration', '', 'Regular/Benzine E10 91']                                                                                1\n",
              "Name: Type, Length: 170, dtype: int64"
            ]
          },
          "metadata": {},
          "execution_count": 957
        }
      ]
    },
    {
      "cell_type": "code",
      "source": [
        "df.Type.str[3]"
      ],
      "metadata": {
        "colab": {
          "base_uri": "https://localhost:8080/"
        },
        "id": "4HB_Z4D7V2I-",
        "outputId": "b642d167-7e74-4d05-eb1c-f0da4242831d"
      },
      "execution_count": 958,
      "outputs": [
        {
          "output_type": "execute_result",
          "data": {
            "text/plain": [
              "0                          Diesel (Particulate Filter)\n",
              "1                                             Gasoline\n",
              "2                          Diesel (Particulate Filter)\n",
              "3                          Diesel (Particulate Filter)\n",
              "4                          Diesel (Particulate Filter)\n",
              "                             ...                      \n",
              "15914                      Diesel (Particulate Filter)\n",
              "15915    Super 95 / Super Plus 98 (Particulate Filter)\n",
              "15916                                           Diesel\n",
              "15917                                           Diesel\n",
              "15918                                         Super 95\n",
              "Name: Type, Length: 15919, dtype: object"
            ]
          },
          "metadata": {},
          "execution_count": 958
        }
      ]
    },
    {
      "cell_type": "code",
      "source": [
        "df.Type.str[3].value_counts()\n",
        "#doesn't make any sense"
      ],
      "metadata": {
        "colab": {
          "base_uri": "https://localhost:8080/"
        },
        "id": "lCemyTCIWXkE",
        "outputId": "8407fb71-5971-453d-fa11-8c7e393094a2"
      },
      "execution_count": 959,
      "outputs": [
        {
          "output_type": "execute_result",
          "data": {
            "text/plain": [
              "Diesel (Particulate Filter)                                                                                                       4315\n",
              "Super 95                                                                                                                          3338\n",
              "Gasoline                                                                                                                          3175\n",
              "Diesel                                                                                                                            2982\n",
              "Super 95 / Regular/Benzine 91                                                                                                      424\n",
              "Regular/Benzine 91                                                                                                                 354\n",
              "Super E10 95                                                                                                                       331\n",
              "Super 95 (Particulate Filter)                                                                                                      268\n",
              "Super 95 / Super E10 95                                                                                                            131\n",
              "Regular/Benzine 91 (Particulate Filter)                                                                                            100\n",
              "Super 95 / Super Plus 98                                                                                                            85\n",
              "Gasoline (Particulate Filter)                                                                                                       77\n",
              "Super 95 / Super Plus 98 / Super E10 95 / Super Plus E10 98                                                                         40\n",
              "Super E10 95 / Super 95                                                                                                             38\n",
              "CNG                                                                                                                                 33\n",
              "Super 95 / Super E10 95 (Particulate Filter)                                                                                        25\n",
              "Super E10 95 / Super 95 / Super Plus 98 / Super Plus E10 98                                                                         19\n",
              "LPG                                                                                                                                 16\n",
              "Super 95 / Super Plus 98 (Particulate Filter)                                                                                       14\n",
              "Regular/Benzine 91 / Super 95 / Super Plus 98 / Regular/Benzine E10 91 / Super E10 95 / Super Plus E10 98                           13\n",
              "Regular/Benzine E10 91                                                                                                              11\n",
              "Liquid petroleum gas (LPG)                                                                                                          10\n",
              "Super 95 / Super Plus 98 / Super E10 95                                                                                              8\n",
              "Regular/Benzine 91 / Regular/Benzine E10 91                                                                                          7\n",
              "Super 95 / Regular/Benzine 91 / Super Plus 98 / Regular/Benzine E10 91 / Super E10 95 / Super Plus E10 98                            7\n",
              "Super Plus 98                                                                                                                        7\n",
              "Super E10 95 (Particulate Filter)                                                                                                    7\n",
              "Super 95 / Super Plus 98 / Super Plus E10 98 / Super E10 95                                                                          5\n",
              "Others                                                                                                                               5\n",
              "Super E10 95 / Super Plus E10 98                                                                                                     4\n",
              "Electric/Gasoline                                                                                                                    4\n",
              "Super 95 / Super Plus 98 / Super E10 95 / Super Plus E10 98 (Particulate Filter)                                                     4\n",
              "Super 95 / Super E10 95 / Super Plus E10 98 / Super Plus 98                                                                          4\n",
              "Regular/Benzine 91 / Super 95 / Super Plus 98 / Regular/Benzine E10 91 / Super Plus E10 98 / Super E10 95                            4\n",
              "CNG (Particulate Filter)                                                                                                             3\n",
              "Super E10 95 / Super 95 / Super Plus 98 / Super Plus E10 98 (Particulate Filter)                                                     3\n",
              "Super E10 95 / Super 95 / Super Plus 98                                                                                              3\n",
              "Super E10 95 / Regular/Benzine 91                                                                                                    2\n",
              "Super 95 / Regular/Benzine 91 / Super Plus 98                                                                                        2\n",
              "Regular/Benzine 91 / Super 95 / Super Plus 98 / Super Plus E10 98 / Super E10 95 / Regular/Benzine E10 91                            2\n",
              "Regular/Benzine 91 / Super 95 / Super E10 95                                                                                         1\n",
              "Electric                                                                                                                             1\n",
              "Regular/Benzine 91 / Super 95 / Super E10 95 / Super Plus E10 98 / Super Plus 98 / Regular/Benzine E10 91                            1\n",
              "Super 95 / Super E10 95 / Super Plus E10 98                                                                                          1\n",
              "Super 95 / Super E10 95 / Super Plus 98                                                                                              1\n",
              "Regular/Benzine 91 / Super 95 / Super Plus E10 98 / Super E10 95 / Regular/Benzine E10 91 / Super Plus 98                            1\n",
              "Super 95 / Super Plus 98 / Regular/Benzine E10 91 / Super Plus E10 98 / Super E10 95 / Regular/Benzine 91                            1\n",
              "Super 95 / Regular/Benzine E10 91                                                                                                    1\n",
              "Super E10 95 / Regular/Benzine 91 / Regular/Benzine E10 91 / Super 95                                                                1\n",
              "Super Plus 98 / Regular/Benzine 91                                                                                                   1\n",
              "Super 95 / Regular/Benzine 91 / Super E10 95 / Super Plus 98 / Super Plus E10 98 / Regular/Benzine E10 91                            1\n",
              "Super 95 / Super Plus 98 / Super Plus E10 98                                                                                         1\n",
              "Super 95 / Regular/Benzine 91 (Particulate Filter)                                                                                   1\n",
              "Super 95 / Super E10 95 / Regular/Benzine 91                                                                                         1\n",
              "Regular/Benzine 91 / Super 95 / Super E10 95 / Regular/Benzine E10 91                                                                1\n",
              "Super 95 / Regular/Benzine E10 91 / Super E10 95                                                                                     1\n",
              "Super 95 / Regular/Benzine 91 / Super Plus 98 / Regular/Benzine E10 91 / Super Plus E10 98 / Super E10 95                            1\n",
              "Regular/Benzine E10 91 / Super E10 95 / Super Plus E10 98 / Super Plus 98 / Super 95 / Regular/Benzine 91                            1\n",
              "Super 95 / Regular/Benzine 91 / Super E10 95 / Super Plus E10 98 / Super Plus 98                                                     1\n",
              "Others (Particulate Filter)                                                                                                          1\n",
              "Biogas                                                                                                                               1\n",
              "Super 95 / Biodiesel                                                                                                                 1\n",
              "Regular/Benzine 91 / Super 95 / Super Plus 98 / Super Plus E10 98 / Super E10 95 / Regular/Benzine E10 91 (Particulate Filter)       1\n",
              "Regular/Benzine 91 / Super 95 / Super Plus 98                                                                                        1\n",
              "Regular/Benzine 91 / Super 95                                                                                                        1\n",
              "Regular/Benzine E10 91 / Regular/Benzine 91 / Super 95 / Super Plus 98 / Super E10 95 / Super Plus E10 98                            1\n",
              "Domestic gas H                                                                                                                       1\n",
              "Super E10 95 / Regular/Benzine 91 / Super 95 / Super Plus 98 / Regular/Benzine E10 91 / Super Plus E10 98                            1\n",
              "Super Plus E10 98 / Super 95 / Super Plus 98 / Super E10 95                                                                          1\n",
              "Super 95 / Regular/Benzine 91 / Super E10 95 / Super Plus E10 98 / Super Plus 98 / Regular/Benzine E10 91                            1\n",
              "Super Plus 98 / Super 95 / Super E10 95                                                                                              1\n",
              "Super Plus E10 98                                                                                                                    1\n",
              "Regular/Benzine 91 / Super 95 / Regular/Benzine E10 91                                                                               1\n",
              "Super Plus 98 / Super E10 95                                                                                                         1\n",
              "Regular/Benzine 91 / Super 95 / Regular/Benzine E10 91 / Super E10 95 / Super Plus 98 / Super Plus E10 98                            1\n",
              "Regular/Benzine 91 / Super Plus 98 / Regular/Benzine E10 91 / Super 95 / Super E10 95 / Super Plus E10 98                            1\n",
              "Super Plus 98 / Super 95 / Super Plus E10 98                                                                                         1\n",
              "Name: Type, dtype: int64"
            ]
          },
          "metadata": {},
          "execution_count": 959
        }
      ]
    },
    {
      "cell_type": "code",
      "source": [
        "df.Type.str[1]"
      ],
      "metadata": {
        "colab": {
          "base_uri": "https://localhost:8080/"
        },
        "id": "wE7fls0gadWh",
        "outputId": "49df4aa1-3e9d-473d-f5ec-7116d758579c"
      },
      "execution_count": 960,
      "outputs": [
        {
          "output_type": "execute_result",
          "data": {
            "text/plain": [
              "0                  Used\n",
              "1                  Used\n",
              "2                  Used\n",
              "3                  Used\n",
              "4                  Used\n",
              "              ...      \n",
              "15914               New\n",
              "15915              Used\n",
              "15916    Pre-registered\n",
              "15917    Pre-registered\n",
              "15918     Demonstration\n",
              "Name: Type, Length: 15919, dtype: object"
            ]
          },
          "metadata": {},
          "execution_count": 960
        }
      ]
    },
    {
      "cell_type": "code",
      "source": [
        "df[\"Type\"]=df.Type.str[1]"
      ],
      "metadata": {
        "id": "u__x9cIDWUR5"
      },
      "execution_count": 961,
      "outputs": []
    },
    {
      "cell_type": "code",
      "source": [
        "df['Type'].value_counts(dropna=False)"
      ],
      "metadata": {
        "colab": {
          "base_uri": "https://localhost:8080/"
        },
        "id": "Ks9xYksBWmTk",
        "outputId": "31da329f-0601-4e94-e599-186e4583b7da"
      },
      "execution_count": 962,
      "outputs": [
        {
          "output_type": "execute_result",
          "data": {
            "text/plain": [
              "Used              11096\n",
              "New                1650\n",
              "Pre-registered     1364\n",
              "Employee's car     1011\n",
              "Demonstration       796\n",
              "NaN                   2\n",
              "Name: Type, dtype: int64"
            ]
          },
          "metadata": {},
          "execution_count": 962
        }
      ]
    },
    {
      "cell_type": "markdown",
      "source": [
        "## Next Inspection & Inspection new"
      ],
      "metadata": {
        "id": "LQvUSdv3a0zq"
      }
    },
    {
      "cell_type": "code",
      "source": [
        "df.info()"
      ],
      "metadata": {
        "colab": {
          "base_uri": "https://localhost:8080/"
        },
        "id": "U4kmo4i0czCc",
        "outputId": "30aa4b83-34df-46f0-eb40-42ee2e33dcdf"
      },
      "execution_count": 963,
      "outputs": [
        {
          "output_type": "stream",
          "name": "stdout",
          "text": [
            "<class 'pandas.core.frame.DataFrame'>\n",
            "RangeIndex: 15919 entries, 0 to 15918\n",
            "Data columns (total 38 columns):\n",
            " #   Column                 Non-Null Count  Dtype  \n",
            "---  ------                 --------------  -----  \n",
            " 0   Make_Model             15919 non-null  object \n",
            " 1   Body_Type              15859 non-null  object \n",
            " 2   Price                  15919 non-null  int64  \n",
            " 3   Vat                    11406 non-null  object \n",
            " 4   Km                     14895 non-null  float64\n",
            " 5   Previous_Owners        9279 non-null   float64\n",
            " 6   Next_inspection        3535 non-null   object \n",
            " 7   Inspection_new         3932 non-null   object \n",
            " 8   Warranty               10499 non-null  object \n",
            " 9   Full_Service           8215 non-null   object \n",
            " 10  Non_Smoking_Vehicle    7177 non-null   object \n",
            " 11  Offer_Number           12744 non-null  object \n",
            " 12  Body_Color             15322 non-null  object \n",
            " 13  Paint_Type             10147 non-null  object \n",
            " 14  Body_Color_Original    12160 non-null  object \n",
            " 15  Upholstery             12199 non-null  object \n",
            " 16  Nr_of_Doors            15707 non-null  object \n",
            " 17  Nr_of_Seats            14942 non-null  object \n",
            " 18  Model_Code             4978 non-null   object \n",
            " 19  Gearing_Type           15919 non-null  object \n",
            " 20  Displacement           15423 non-null  object \n",
            " 21  Cylinders              10239 non-null  object \n",
            " 22  Weight                 8945 non-null   object \n",
            " 23  Drive_Chain            9061 non-null   object \n",
            " 24  Fuel                   15919 non-null  object \n",
            " 25  Consumption            14013 non-null  object \n",
            " 26  Co_2_Emission          14111 non-null  object \n",
            " 27  Emission_Class         12898 non-null  object \n",
            " 28  Comfort_&_Convenience  14999 non-null  object \n",
            " 29  Entertainment_&_Media  14545 non-null  object \n",
            " 30  Extras                 12957 non-null  object \n",
            " 31  Safety_&_Security      14937 non-null  object \n",
            " 32  Emission_Label         3985 non-null   object \n",
            " 33  Gears                  11207 non-null  object \n",
            " 34  Country_Version        7586 non-null   object \n",
            " 35  Age                    14322 non-null  float64\n",
            " 36  hp_kW                  15831 non-null  float64\n",
            " 37  Type                   15917 non-null  object \n",
            "dtypes: float64(4), int64(1), object(33)\n",
            "memory usage: 4.6+ MB\n"
          ]
        }
      ]
    },
    {
      "cell_type": "code",
      "source": [
        "df[\"Next_inspection\"]"
      ],
      "metadata": {
        "colab": {
          "base_uri": "https://localhost:8080/"
        },
        "id": "75x5yHXEVrwW",
        "outputId": "bad1e19a-f02f-4aa6-dcd6-37d67a2a1a9b"
      },
      "execution_count": 964,
      "outputs": [
        {
          "output_type": "execute_result",
          "data": {
            "text/plain": [
              "0         [\\n06/2021\\n, \\n99 g CO2/km (comb)\\n]\n",
              "1                                           NaN\n",
              "2                                           NaN\n",
              "3                                           NaN\n",
              "4                                           NaN\n",
              "                          ...                  \n",
              "15914                                       NaN\n",
              "15915    [\\n01/2022\\n, \\n168 g CO2/km (comb)\\n]\n",
              "15916                                       NaN\n",
              "15917                                       NaN\n",
              "15918                                       NaN\n",
              "Name: Next_inspection, Length: 15919, dtype: object"
            ]
          },
          "metadata": {},
          "execution_count": 964
        }
      ]
    },
    {
      "cell_type": "code",
      "source": [
        "df[\"Next_inspection\"].astype('str').value_counts()"
      ],
      "metadata": {
        "colab": {
          "base_uri": "https://localhost:8080/"
        },
        "id": "m3v5xFruVrtl",
        "outputId": "300667bf-933f-4a8d-f213-c9f8311e3524"
      },
      "execution_count": 965,
      "outputs": [
        {
          "output_type": "execute_result",
          "data": {
            "text/plain": [
              "nan                                           12384\n",
              "\\n04/2022\\n                                      62\n",
              "\\n03/2021\\n                                      38\n",
              "\\n03/2022\\n                                      36\n",
              "\\n06/2021\\n                                      34\n",
              "                                              ...  \n",
              "['\\n12/2018\\n', '\\n97 g CO2/km (comb)\\n']         1\n",
              "['\\n03/2022\\n', '\\n1 (No sticker)\\n']             1\n",
              "['\\n05/2021\\n', '\\n93 g CO2/km (comb)\\n']         1\n",
              "['\\n06/2021\\n', '\\n93 g CO2/km (comb)\\n']         1\n",
              "['\\n01/2022\\n', '\\n168 g CO2/km (comb)\\n']        1\n",
              "Name: Next_inspection, Length: 1400, dtype: int64"
            ]
          },
          "metadata": {},
          "execution_count": 965
        }
      ]
    },
    {
      "cell_type": "code",
      "source": [
        "df[\"Inspection_new\"]\n",
        "#list"
      ],
      "metadata": {
        "colab": {
          "base_uri": "https://localhost:8080/"
        },
        "id": "aupzKL1EVrrS",
        "outputId": "78aaf7bd-7518-4a72-9188-47c420dcad2b"
      },
      "execution_count": 966,
      "outputs": [
        {
          "output_type": "execute_result",
          "data": {
            "text/plain": [
              "0                     [\\nYes\\n, \\nEuro 6\\n]\n",
              "1                                       NaN\n",
              "2                                       NaN\n",
              "3                                       NaN\n",
              "4        [\\nYes\\n, \\n109 g CO2/km (comb)\\n]\n",
              "                        ...                \n",
              "15914                                   NaN\n",
              "15915                                   NaN\n",
              "15916           [\\nYes\\n, \\nEuro 6d-TEMP\\n]\n",
              "15917                                   NaN\n",
              "15918    [\\nYes\\n, \\n153 g CO2/km (comb)\\n]\n",
              "Name: Inspection_new, Length: 15919, dtype: object"
            ]
          },
          "metadata": {},
          "execution_count": 966
        }
      ]
    },
    {
      "cell_type": "code",
      "source": [
        "df[\"Inspection_new\"].value_counts()"
      ],
      "metadata": {
        "colab": {
          "base_uri": "https://localhost:8080/",
          "height": 654
        },
        "id": "j9mMcRhRVrpk",
        "outputId": "9dfc01ac-ae68-405f-dc29-8d1479106404"
      },
      "execution_count": 967,
      "outputs": [
        {
          "output_type": "error",
          "ename": "TypeError",
          "evalue": "ignored",
          "traceback": [
            "\u001b[0;31m---------------------------------------------------------------------------\u001b[0m",
            "\u001b[0;31mTypeError\u001b[0m                                 Traceback (most recent call last)",
            "\u001b[0;32mpandas/_libs/hashtable_class_helper.pxi\u001b[0m in \u001b[0;36mpandas._libs.hashtable.PyObjectHashTable.map_locations\u001b[0;34m()\u001b[0m\n",
            "\u001b[0;31mTypeError\u001b[0m: unhashable type: 'list'"
          ]
        },
        {
          "output_type": "stream",
          "name": "stderr",
          "text": [
            "Exception ignored in: 'pandas._libs.index.IndexEngine._call_map_locations'\n",
            "Traceback (most recent call last):\n",
            "  File \"pandas/_libs/hashtable_class_helper.pxi\", line 5231, in pandas._libs.hashtable.PyObjectHashTable.map_locations\n",
            "TypeError: unhashable type: 'list'\n"
          ]
        },
        {
          "output_type": "execute_result",
          "data": {
            "text/plain": [
              "[\\nYes\\n, \\nEuro 6\\n]                                                                          523\n",
              "\\nYes\\n                                                                                        362\n",
              "[\\nYes\\n, \\n102 g CO2/km (comb)\\n]                                                             174\n",
              "[\\nYes\\n, \\n4 (Green)\\n]                                                                       166\n",
              "[\\nYes\\n, \\nEuro 6d-TEMP\\n]                                                                    134\n",
              "                                                                                              ... \n",
              "[\\nYes\\n, \\n, 5.2 l/100 km (comb), \\n, 6.7 l/100 km (city), \\n, 4.2 l/100 km (country), \\n]      1\n",
              "[\\nYes\\n, \\n100 g CO2/km (comb)\\n]                                                               1\n",
              "[\\nYes\\n, \\n, 4.9 l/100 km (comb), \\n, 5.9 l/100 km (city), \\n, 4.3 l/100 km (country), \\n]      1\n",
              "[\\nYes\\n, \\n, 5.1 l/100 km (comb), \\n, 6.4 l/100 km (city), \\n, 4.3 l/100 km (country), \\n]      1\n",
              "[\\nYes\\n, \\n172 g CO2/km (comb)\\n]                                                               1\n",
              "Name: Inspection_new, Length: 202, dtype: int64"
            ]
          },
          "metadata": {},
          "execution_count": 967
        }
      ]
    },
    {
      "cell_type": "code",
      "source": [
        "df[\"Inspection_new\"] = [item[0] if type(item) == list else item for item in df[\"Inspection_new\"]]"
      ],
      "metadata": {
        "id": "bqI83hAJVvg6"
      },
      "execution_count": 968,
      "outputs": []
    },
    {
      "cell_type": "code",
      "source": [
        "df[\"Inspection_new\"] = df[\"Inspection_new\"].str.strip(\"\\n\")"
      ],
      "metadata": {
        "id": "yzzndS2gVrlT"
      },
      "execution_count": 969,
      "outputs": []
    },
    {
      "cell_type": "code",
      "source": [
        "df[\"Inspection_new\"].value_counts(dropna=False)"
      ],
      "metadata": {
        "colab": {
          "base_uri": "https://localhost:8080/"
        },
        "id": "9hZWc7OvV72m",
        "outputId": "39ea0d81-241c-4547-8d53-64737e3725dd"
      },
      "execution_count": 970,
      "outputs": [
        {
          "output_type": "execute_result",
          "data": {
            "text/plain": [
              "NaN    11987\n",
              "Yes     3932\n",
              "Name: Inspection_new, dtype: int64"
            ]
          },
          "metadata": {},
          "execution_count": 970
        }
      ]
    },
    {
      "cell_type": "code",
      "source": [
        "df.drop([\"Next_inspection\"],axis=1,inplace=True)\n"
      ],
      "metadata": {
        "id": "2vnRq9UzVria"
      },
      "execution_count": 971,
      "outputs": []
    },
    {
      "cell_type": "code",
      "source": [
        "df.info()"
      ],
      "metadata": {
        "colab": {
          "base_uri": "https://localhost:8080/"
        },
        "id": "rEtOmtk8fAIv",
        "outputId": "62ebc865-125e-4ab8-95a5-a653d2bb3b1b"
      },
      "execution_count": 972,
      "outputs": [
        {
          "output_type": "stream",
          "name": "stdout",
          "text": [
            "<class 'pandas.core.frame.DataFrame'>\n",
            "RangeIndex: 15919 entries, 0 to 15918\n",
            "Data columns (total 37 columns):\n",
            " #   Column                 Non-Null Count  Dtype  \n",
            "---  ------                 --------------  -----  \n",
            " 0   Make_Model             15919 non-null  object \n",
            " 1   Body_Type              15859 non-null  object \n",
            " 2   Price                  15919 non-null  int64  \n",
            " 3   Vat                    11406 non-null  object \n",
            " 4   Km                     14895 non-null  float64\n",
            " 5   Previous_Owners        9279 non-null   float64\n",
            " 6   Inspection_new         3932 non-null   object \n",
            " 7   Warranty               10499 non-null  object \n",
            " 8   Full_Service           8215 non-null   object \n",
            " 9   Non_Smoking_Vehicle    7177 non-null   object \n",
            " 10  Offer_Number           12744 non-null  object \n",
            " 11  Body_Color             15322 non-null  object \n",
            " 12  Paint_Type             10147 non-null  object \n",
            " 13  Body_Color_Original    12160 non-null  object \n",
            " 14  Upholstery             12199 non-null  object \n",
            " 15  Nr_of_Doors            15707 non-null  object \n",
            " 16  Nr_of_Seats            14942 non-null  object \n",
            " 17  Model_Code             4978 non-null   object \n",
            " 18  Gearing_Type           15919 non-null  object \n",
            " 19  Displacement           15423 non-null  object \n",
            " 20  Cylinders              10239 non-null  object \n",
            " 21  Weight                 8945 non-null   object \n",
            " 22  Drive_Chain            9061 non-null   object \n",
            " 23  Fuel                   15919 non-null  object \n",
            " 24  Consumption            14013 non-null  object \n",
            " 25  Co_2_Emission          14111 non-null  object \n",
            " 26  Emission_Class         12898 non-null  object \n",
            " 27  Comfort_&_Convenience  14999 non-null  object \n",
            " 28  Entertainment_&_Media  14545 non-null  object \n",
            " 29  Extras                 12957 non-null  object \n",
            " 30  Safety_&_Security      14937 non-null  object \n",
            " 31  Emission_Label         3985 non-null   object \n",
            " 32  Gears                  11207 non-null  object \n",
            " 33  Country_Version        7586 non-null   object \n",
            " 34  Age                    14322 non-null  float64\n",
            " 35  hp_kW                  15831 non-null  float64\n",
            " 36  Type                   15917 non-null  object \n",
            "dtypes: float64(4), int64(1), object(32)\n",
            "memory usage: 4.5+ MB\n"
          ]
        }
      ]
    },
    {
      "cell_type": "markdown",
      "source": [
        "## Warranty"
      ],
      "metadata": {
        "id": "AxLeFRjvfCuF"
      }
    },
    {
      "cell_type": "code",
      "source": [
        "df[\"Warranty\"]"
      ],
      "metadata": {
        "colab": {
          "base_uri": "https://localhost:8080/"
        },
        "id": "i1y9U-IefAFz",
        "outputId": "fbd57cfa-70f6-4636-e597-35b22eb7aee1"
      },
      "execution_count": 973,
      "outputs": [
        {
          "output_type": "execute_result",
          "data": {
            "text/plain": [
              "0                 [\\n, \\n, \\n4 (Green)\\n]\n",
              "1                                     NaN\n",
              "2        [\\n, \\n, \\n99 g CO2/km (comb)\\n]\n",
              "3                                     NaN\n",
              "4                    [\\n, \\n, \\nEuro 6\\n]\n",
              "                       ...               \n",
              "15914                       \\n24 months\\n\n",
              "15915                [\\n, \\n, \\nEuro 6\\n]\n",
              "15916             [\\n, \\n, \\n4 (Green)\\n]\n",
              "15917                                  \\n\n",
              "15918                                 NaN\n",
              "Name: Warranty, Length: 15919, dtype: object"
            ]
          },
          "metadata": {},
          "execution_count": 973
        }
      ]
    },
    {
      "cell_type": "code",
      "source": [
        "df.Warranty.astype('str').value_counts()"
      ],
      "metadata": {
        "colab": {
          "base_uri": "https://localhost:8080/"
        },
        "id": "Ma2RjkB9fADh",
        "outputId": "f3c3f8e9-514f-41f0-b03f-6f716c9bb865"
      },
      "execution_count": 974,
      "outputs": [
        {
          "output_type": "execute_result",
          "data": {
            "text/plain": [
              "nan                                                                                                                5420\n",
              "['\\n', '\\n', '\\nEuro 6\\n']                                                                                         1868\n",
              "\\n12 months\\n                                                                                                      1177\n",
              "\\n                                                                                                                  979\n",
              "\\n24 months\\n                                                                                                       566\n",
              "                                                                                                                   ... \n",
              "['\\n72 months\\n', '\\n125 g CO2/km (comb)\\n']                                                                          1\n",
              "['\\n60 months\\n', '\\n14 g CO2/km (comb)\\n']                                                                           1\n",
              "['\\n24 months\\n', '\\n121 g CO2/km (comb)\\n']                                                                          1\n",
              "['\\n12 months\\n', '\\nEuro 6d\\n']                                                                                      1\n",
              "['\\n36 months\\n', '\\n', '7.4 l/100 km (comb)', '\\n', '9.6 l/100 km (city)', '\\n', '6 l/100 km (country)', '\\n']       1\n",
              "Name: Warranty, Length: 516, dtype: int64"
            ]
          },
          "metadata": {},
          "execution_count": 974
        }
      ]
    },
    {
      "cell_type": "code",
      "source": [
        "df.Warranty.str[0]"
      ],
      "metadata": {
        "colab": {
          "base_uri": "https://localhost:8080/"
        },
        "id": "ZTMr28HVfAA7",
        "outputId": "cce41b9f-c947-4294-cddb-200560c3b189"
      },
      "execution_count": 975,
      "outputs": [
        {
          "output_type": "execute_result",
          "data": {
            "text/plain": [
              "0         \\n\n",
              "1        NaN\n",
              "2         \\n\n",
              "3        NaN\n",
              "4         \\n\n",
              "        ... \n",
              "15914     \\n\n",
              "15915     \\n\n",
              "15916     \\n\n",
              "15917     \\n\n",
              "15918    NaN\n",
              "Name: Warranty, Length: 15919, dtype: object"
            ]
          },
          "metadata": {},
          "execution_count": 975
        }
      ]
    },
    {
      "cell_type": "code",
      "source": [
        "df.Warranty.apply(lambda x : x[0] if type(x)==list else x)\n"
      ],
      "metadata": {
        "colab": {
          "base_uri": "https://localhost:8080/"
        },
        "id": "E4_P9dZohBrs",
        "outputId": "5a57e8e9-1ef2-4aec-83ea-744729fea286"
      },
      "execution_count": 976,
      "outputs": [
        {
          "output_type": "execute_result",
          "data": {
            "text/plain": [
              "0                   \\n\n",
              "1                  NaN\n",
              "2                   \\n\n",
              "3                  NaN\n",
              "4                   \\n\n",
              "             ...      \n",
              "15914    \\n24 months\\n\n",
              "15915               \\n\n",
              "15916               \\n\n",
              "15917               \\n\n",
              "15918              NaN\n",
              "Name: Warranty, Length: 15919, dtype: object"
            ]
          },
          "metadata": {},
          "execution_count": 976
        }
      ]
    },
    {
      "cell_type": "code",
      "source": [
        "df.Warranty.str.strip(\"\\n\").str.extract('(\\d{1,4})').astype(\"float\").value_counts()"
      ],
      "metadata": {
        "colab": {
          "base_uri": "https://localhost:8080/"
        },
        "id": "ifxjVxquggde",
        "outputId": "5b42bc33-71f5-46d7-aefe-f0389b3a6ea2"
      },
      "execution_count": 977,
      "outputs": [
        {
          "output_type": "execute_result",
          "data": {
            "text/plain": [
              "12.00    1177\n",
              "24.00     566\n",
              "48.00     109\n",
              "6.00       76\n",
              "36.00      56\n",
              "3.00       19\n",
              "60.00      19\n",
              "72.00      15\n",
              "4.00        3\n",
              "18.00       3\n",
              "26.00       2\n",
              "19.00       2\n",
              "9.00        2\n",
              "23.00       1\n",
              "25.00       1\n",
              "2.00        1\n",
              "28.00       1\n",
              "30.00       1\n",
              "13.00       1\n",
              "8.00        1\n",
              "1.00        1\n",
              "dtype: int64"
            ]
          },
          "metadata": {},
          "execution_count": 977
        }
      ]
    },
    {
      "cell_type": "code",
      "source": [
        "df[\"Warranty\"] = df.Warranty.apply(lambda x : x[0] if type(x)==list else x)\n",
        "\n",
        "df[\"Warranty\"] = df.Warranty.str.strip(\"\\n\").str.extract('(\\d{1,4})').astype(\"float\") # str.extract('(\\d+)')"
      ],
      "metadata": {
        "id": "1kfelZ-8ggah"
      },
      "execution_count": 978,
      "outputs": []
    },
    {
      "cell_type": "code",
      "source": [
        "df.Warranty.value_counts(dropna=False)"
      ],
      "metadata": {
        "colab": {
          "base_uri": "https://localhost:8080/"
        },
        "id": "AJpQzB8GggW0",
        "outputId": "267ba60d-f839-4a57-fa32-e0f926f94ae9"
      },
      "execution_count": 979,
      "outputs": [
        {
          "output_type": "execute_result",
          "data": {
            "text/plain": [
              "NaN      11066\n",
              "12.00     2594\n",
              "24.00     1118\n",
              "60.00      401\n",
              "36.00      279\n",
              "48.00      149\n",
              "6.00       125\n",
              "72.00       59\n",
              "3.00        33\n",
              "23.00       11\n",
              "18.00       10\n",
              "20.00        7\n",
              "25.00        6\n",
              "2.00         5\n",
              "50.00        4\n",
              "26.00        4\n",
              "16.00        4\n",
              "4.00         3\n",
              "1.00         3\n",
              "19.00        3\n",
              "34.00        3\n",
              "13.00        3\n",
              "28.00        2\n",
              "22.00        2\n",
              "14.00        2\n",
              "11.00        2\n",
              "46.00        2\n",
              "21.00        2\n",
              "9.00         2\n",
              "17.00        2\n",
              "45.00        2\n",
              "33.00        1\n",
              "40.00        1\n",
              "65.00        1\n",
              "10.00        1\n",
              "15.00        1\n",
              "7.00         1\n",
              "8.00         1\n",
              "56.00        1\n",
              "49.00        1\n",
              "47.00        1\n",
              "30.00        1\n",
              "Name: Warranty, dtype: int64"
            ]
          },
          "metadata": {},
          "execution_count": 979
        }
      ]
    },
    {
      "cell_type": "markdown",
      "source": [
        "## Full Service"
      ],
      "metadata": {
        "id": "40Hbj1-vhjiA"
      }
    },
    {
      "cell_type": "markdown",
      "source": [
        ""
      ],
      "metadata": {
        "id": "2K_ugCBmWWhJ"
      }
    },
    {
      "cell_type": "code",
      "source": [
        "df[\"Full_Service\"]"
      ],
      "metadata": {
        "colab": {
          "base_uri": "https://localhost:8080/"
        },
        "id": "d_qvTLRFggUB",
        "outputId": "052e476b-3e39-495a-ee28-07084439649e"
      },
      "execution_count": 980,
      "outputs": [
        {
          "output_type": "execute_result",
          "data": {
            "text/plain": [
              "0                                [\\n, \\n]\n",
              "1                                     NaN\n",
              "2                                     NaN\n",
              "3        [\\n, \\n, \\n99 g CO2/km (comb)\\n]\n",
              "4                 [\\n, \\n, \\n4 (Green)\\n]\n",
              "                       ...               \n",
              "15914                                 NaN\n",
              "15915                                 NaN\n",
              "15916                            [\\n, \\n]\n",
              "15917                                 NaN\n",
              "15918                                 NaN\n",
              "Name: Full_Service, Length: 15919, dtype: object"
            ]
          },
          "metadata": {},
          "execution_count": 980
        }
      ]
    },
    {
      "cell_type": "code",
      "source": [
        "df[\"Full_Service\"].astype('str').value_counts(dropna=False)\n"
      ],
      "metadata": {
        "colab": {
          "base_uri": "https://localhost:8080/"
        },
        "id": "X81o3wY7e__C",
        "outputId": "afe016ca-950f-4803-cef5-1d4845eec803"
      },
      "execution_count": 981,
      "outputs": [
        {
          "output_type": "execute_result",
          "data": {
            "text/plain": [
              "nan                                                                                                             7704\n",
              "['\\n', '\\n', '\\n4 (Green)\\n']                                                                                   2235\n",
              "['\\n', '\\n', '\\nEuro 6\\n']                                                                                      2097\n",
              "['\\n', '\\n']                                                                                                    1702\n",
              "['\\n', '\\n', '\\nEuro 6d-TEMP\\n']                                                                                 399\n",
              "                                                                                                                ... \n",
              "['\\n', '\\n', '\\n80 g CO2/km (comb)\\n']                                                                             1\n",
              "['\\n', '\\n', '\\n84 g CO2/km (comb)\\n']                                                                             1\n",
              "['\\n', '\\n', '\\n', '6 l/100 km (comb)', '\\n', '8 l/100 km (city)', '\\n', '4.9 l/100 km (country)', '\\n']           1\n",
              "['\\n', '\\n', '\\n', '4.9 l/100 km (comb)', '\\n', '6.2 l/100 km (city)', '\\n', '4.1 l/100 km (country)', '\\n']       1\n",
              "['\\n', '\\n', '\\nEuro 4\\n']                                                                                         1\n",
              "Name: Full_Service, Length: 123, dtype: int64"
            ]
          },
          "metadata": {},
          "execution_count": 981
        }
      ]
    },
    {
      "cell_type": "code",
      "source": [
        "df[\"Full_Service\"].str[1]"
      ],
      "metadata": {
        "colab": {
          "base_uri": "https://localhost:8080/"
        },
        "id": "8QJJdExfe_7v",
        "outputId": "5e982f93-599d-4bd1-867a-aae91ec65c73"
      },
      "execution_count": 982,
      "outputs": [
        {
          "output_type": "execute_result",
          "data": {
            "text/plain": [
              "0         \\n\n",
              "1        NaN\n",
              "2        NaN\n",
              "3         \\n\n",
              "4         \\n\n",
              "        ... \n",
              "15914    NaN\n",
              "15915    NaN\n",
              "15916     \\n\n",
              "15917    NaN\n",
              "15918    NaN\n",
              "Name: Full_Service, Length: 15919, dtype: object"
            ]
          },
          "metadata": {},
          "execution_count": 982
        }
      ]
    },
    {
      "cell_type": "code",
      "source": [
        "df[\"Full_Service_1\"]=df[\"Full_Service\"]\n",
        "#df[\"Full_Service\"]=df[\"Full_Service_1\"]"
      ],
      "metadata": {
        "id": "YclwcbJZikM0"
      },
      "execution_count": 984,
      "outputs": []
    },
    {
      "cell_type": "code",
      "source": [
        "df[\"Full_Service\"]"
      ],
      "metadata": {
        "colab": {
          "base_uri": "https://localhost:8080/"
        },
        "id": "WXOROhGs8dlb",
        "outputId": "0389d7ad-9700-4803-b23c-5bade57b3478"
      },
      "execution_count": 985,
      "outputs": [
        {
          "output_type": "execute_result",
          "data": {
            "text/plain": [
              "0                                [\\n, \\n]\n",
              "1                                     NaN\n",
              "2                                     NaN\n",
              "3        [\\n, \\n, \\n99 g CO2/km (comb)\\n]\n",
              "4                 [\\n, \\n, \\n4 (Green)\\n]\n",
              "                       ...               \n",
              "15914                                 NaN\n",
              "15915                                 NaN\n",
              "15916                            [\\n, \\n]\n",
              "15917                                 NaN\n",
              "15918                                 NaN\n",
              "Name: Full_Service, Length: 15919, dtype: object"
            ]
          },
          "metadata": {},
          "execution_count": 985
        }
      ]
    },
    {
      "cell_type": "code",
      "source": [
        "df.Full_Service.apply(lambda x : x[1] if type(x)==list else x)"
      ],
      "metadata": {
        "colab": {
          "base_uri": "https://localhost:8080/"
        },
        "id": "LdxGLjKB8kfu",
        "outputId": "2f5a9331-3971-481d-d952-f777a0a98f24"
      },
      "execution_count": 986,
      "outputs": [
        {
          "output_type": "execute_result",
          "data": {
            "text/plain": [
              "0         \\n\n",
              "1        NaN\n",
              "2        NaN\n",
              "3         \\n\n",
              "4         \\n\n",
              "        ... \n",
              "15914    NaN\n",
              "15915    NaN\n",
              "15916     \\n\n",
              "15917    NaN\n",
              "15918    NaN\n",
              "Name: Full_Service, Length: 15919, dtype: object"
            ]
          },
          "metadata": {},
          "execution_count": 986
        }
      ]
    },
    {
      "cell_type": "code",
      "source": [
        "df[\"Full_Service\"] = df.Full_Service.apply(lambda x : x[0] if type(x)==list else x)"
      ],
      "metadata": {
        "id": "CAbZ09t5e_5L"
      },
      "execution_count": 987,
      "outputs": []
    },
    {
      "cell_type": "code",
      "source": [
        ""
      ],
      "metadata": {
        "id": "gbrw-SsT8hxV"
      },
      "execution_count": null,
      "outputs": []
    },
    {
      "cell_type": "code",
      "source": [
        "df[\"Full_Service\"]"
      ],
      "metadata": {
        "colab": {
          "base_uri": "https://localhost:8080/"
        },
        "id": "GmztfuHi8UJG",
        "outputId": "21c05f7d-26c7-45fd-93c6-9381eec8b94c"
      },
      "execution_count": 988,
      "outputs": [
        {
          "output_type": "execute_result",
          "data": {
            "text/plain": [
              "0         \\n\n",
              "1        NaN\n",
              "2        NaN\n",
              "3         \\n\n",
              "4         \\n\n",
              "        ... \n",
              "15914    NaN\n",
              "15915    NaN\n",
              "15916     \\n\n",
              "15917    NaN\n",
              "15918    NaN\n",
              "Name: Full_Service, Length: 15919, dtype: object"
            ]
          },
          "metadata": {},
          "execution_count": 988
        }
      ]
    },
    {
      "cell_type": "code",
      "source": [
        "df.Full_Service.str.strip(\"\\n\").str.extract('(\\d{1,4})').astype(\"float\")"
      ],
      "metadata": {
        "colab": {
          "base_uri": "https://localhost:8080/",
          "height": 424
        },
        "id": "tfQpg7FN8vqm",
        "outputId": "4a07a667-608d-4136-dfb5-cc11d5662533"
      },
      "execution_count": 989,
      "outputs": [
        {
          "output_type": "execute_result",
          "data": {
            "text/plain": [
              "        0\n",
              "0     NaN\n",
              "1     NaN\n",
              "2     NaN\n",
              "3     NaN\n",
              "4     NaN\n",
              "...    ..\n",
              "15914 NaN\n",
              "15915 NaN\n",
              "15916 NaN\n",
              "15917 NaN\n",
              "15918 NaN\n",
              "\n",
              "[15919 rows x 1 columns]"
            ],
            "text/html": [
              "\n",
              "  <div id=\"df-c32bfd8a-6c44-4d2f-934b-3f9fe94d6a53\">\n",
              "    <div class=\"colab-df-container\">\n",
              "      <div>\n",
              "<style scoped>\n",
              "    .dataframe tbody tr th:only-of-type {\n",
              "        vertical-align: middle;\n",
              "    }\n",
              "\n",
              "    .dataframe tbody tr th {\n",
              "        vertical-align: top;\n",
              "    }\n",
              "\n",
              "    .dataframe thead th {\n",
              "        text-align: right;\n",
              "    }\n",
              "</style>\n",
              "<table border=\"1\" class=\"dataframe\">\n",
              "  <thead>\n",
              "    <tr style=\"text-align: right;\">\n",
              "      <th></th>\n",
              "      <th>0</th>\n",
              "    </tr>\n",
              "  </thead>\n",
              "  <tbody>\n",
              "    <tr>\n",
              "      <th>0</th>\n",
              "      <td>NaN</td>\n",
              "    </tr>\n",
              "    <tr>\n",
              "      <th>1</th>\n",
              "      <td>NaN</td>\n",
              "    </tr>\n",
              "    <tr>\n",
              "      <th>2</th>\n",
              "      <td>NaN</td>\n",
              "    </tr>\n",
              "    <tr>\n",
              "      <th>3</th>\n",
              "      <td>NaN</td>\n",
              "    </tr>\n",
              "    <tr>\n",
              "      <th>4</th>\n",
              "      <td>NaN</td>\n",
              "    </tr>\n",
              "    <tr>\n",
              "      <th>...</th>\n",
              "      <td>...</td>\n",
              "    </tr>\n",
              "    <tr>\n",
              "      <th>15914</th>\n",
              "      <td>NaN</td>\n",
              "    </tr>\n",
              "    <tr>\n",
              "      <th>15915</th>\n",
              "      <td>NaN</td>\n",
              "    </tr>\n",
              "    <tr>\n",
              "      <th>15916</th>\n",
              "      <td>NaN</td>\n",
              "    </tr>\n",
              "    <tr>\n",
              "      <th>15917</th>\n",
              "      <td>NaN</td>\n",
              "    </tr>\n",
              "    <tr>\n",
              "      <th>15918</th>\n",
              "      <td>NaN</td>\n",
              "    </tr>\n",
              "  </tbody>\n",
              "</table>\n",
              "<p>15919 rows × 1 columns</p>\n",
              "</div>\n",
              "      <button class=\"colab-df-convert\" onclick=\"convertToInteractive('df-c32bfd8a-6c44-4d2f-934b-3f9fe94d6a53')\"\n",
              "              title=\"Convert this dataframe to an interactive table.\"\n",
              "              style=\"display:none;\">\n",
              "        \n",
              "  <svg xmlns=\"http://www.w3.org/2000/svg\" height=\"24px\"viewBox=\"0 0 24 24\"\n",
              "       width=\"24px\">\n",
              "    <path d=\"M0 0h24v24H0V0z\" fill=\"none\"/>\n",
              "    <path d=\"M18.56 5.44l.94 2.06.94-2.06 2.06-.94-2.06-.94-.94-2.06-.94 2.06-2.06.94zm-11 1L8.5 8.5l.94-2.06 2.06-.94-2.06-.94L8.5 2.5l-.94 2.06-2.06.94zm10 10l.94 2.06.94-2.06 2.06-.94-2.06-.94-.94-2.06-.94 2.06-2.06.94z\"/><path d=\"M17.41 7.96l-1.37-1.37c-.4-.4-.92-.59-1.43-.59-.52 0-1.04.2-1.43.59L10.3 9.45l-7.72 7.72c-.78.78-.78 2.05 0 2.83L4 21.41c.39.39.9.59 1.41.59.51 0 1.02-.2 1.41-.59l7.78-7.78 2.81-2.81c.8-.78.8-2.07 0-2.86zM5.41 20L4 18.59l7.72-7.72 1.47 1.35L5.41 20z\"/>\n",
              "  </svg>\n",
              "      </button>\n",
              "      \n",
              "  <style>\n",
              "    .colab-df-container {\n",
              "      display:flex;\n",
              "      flex-wrap:wrap;\n",
              "      gap: 12px;\n",
              "    }\n",
              "\n",
              "    .colab-df-convert {\n",
              "      background-color: #E8F0FE;\n",
              "      border: none;\n",
              "      border-radius: 50%;\n",
              "      cursor: pointer;\n",
              "      display: none;\n",
              "      fill: #1967D2;\n",
              "      height: 32px;\n",
              "      padding: 0 0 0 0;\n",
              "      width: 32px;\n",
              "    }\n",
              "\n",
              "    .colab-df-convert:hover {\n",
              "      background-color: #E2EBFA;\n",
              "      box-shadow: 0px 1px 2px rgba(60, 64, 67, 0.3), 0px 1px 3px 1px rgba(60, 64, 67, 0.15);\n",
              "      fill: #174EA6;\n",
              "    }\n",
              "\n",
              "    [theme=dark] .colab-df-convert {\n",
              "      background-color: #3B4455;\n",
              "      fill: #D2E3FC;\n",
              "    }\n",
              "\n",
              "    [theme=dark] .colab-df-convert:hover {\n",
              "      background-color: #434B5C;\n",
              "      box-shadow: 0px 1px 3px 1px rgba(0, 0, 0, 0.15);\n",
              "      filter: drop-shadow(0px 1px 2px rgba(0, 0, 0, 0.3));\n",
              "      fill: #FFFFFF;\n",
              "    }\n",
              "  </style>\n",
              "\n",
              "      <script>\n",
              "        const buttonEl =\n",
              "          document.querySelector('#df-c32bfd8a-6c44-4d2f-934b-3f9fe94d6a53 button.colab-df-convert');\n",
              "        buttonEl.style.display =\n",
              "          google.colab.kernel.accessAllowed ? 'block' : 'none';\n",
              "\n",
              "        async function convertToInteractive(key) {\n",
              "          const element = document.querySelector('#df-c32bfd8a-6c44-4d2f-934b-3f9fe94d6a53');\n",
              "          const dataTable =\n",
              "            await google.colab.kernel.invokeFunction('convertToInteractive',\n",
              "                                                     [key], {});\n",
              "          if (!dataTable) return;\n",
              "\n",
              "          const docLinkHtml = 'Like what you see? Visit the ' +\n",
              "            '<a target=\"_blank\" href=https://colab.research.google.com/notebooks/data_table.ipynb>data table notebook</a>'\n",
              "            + ' to learn more about interactive tables.';\n",
              "          element.innerHTML = '';\n",
              "          dataTable['output_type'] = 'display_data';\n",
              "          await google.colab.output.renderOutput(dataTable, element);\n",
              "          const docLink = document.createElement('div');\n",
              "          docLink.innerHTML = docLinkHtml;\n",
              "          element.appendChild(docLink);\n",
              "        }\n",
              "      </script>\n",
              "    </div>\n",
              "  </div>\n",
              "  "
            ]
          },
          "metadata": {},
          "execution_count": 989
        }
      ]
    },
    {
      "cell_type": "code",
      "source": [
        "df.Full_Service.apply(lambda x : x[0] if type(x)==list else x)"
      ],
      "metadata": {
        "colab": {
          "base_uri": "https://localhost:8080/",
          "height": 287
        },
        "id": "4qof-yF_jEPW",
        "outputId": "83ce4d43-054e-4587-e30d-75742897068b"
      },
      "execution_count": 992,
      "outputs": [
        {
          "output_type": "error",
          "ename": "AttributeError",
          "evalue": "ignored",
          "traceback": [
            "\u001b[0;31m---------------------------------------------------------------------------\u001b[0m",
            "\u001b[0;31mAttributeError\u001b[0m                            Traceback (most recent call last)",
            "\u001b[0;32m<ipython-input-992-459d09553cc0>\u001b[0m in \u001b[0;36m<module>\u001b[0;34m()\u001b[0m\n\u001b[0;32m----> 1\u001b[0;31m \u001b[0mdf\u001b[0m\u001b[0;34m.\u001b[0m\u001b[0mFull_Service\u001b[0m\u001b[0;34m.\u001b[0m\u001b[0mapply\u001b[0m\u001b[0;34m(\u001b[0m\u001b[0;32mlambda\u001b[0m \u001b[0mx\u001b[0m \u001b[0;34m:\u001b[0m \u001b[0mx\u001b[0m\u001b[0;34m[\u001b[0m\u001b[0;36m0\u001b[0m\u001b[0;34m]\u001b[0m \u001b[0;32mif\u001b[0m \u001b[0mtype\u001b[0m\u001b[0;34m(\u001b[0m\u001b[0mx\u001b[0m\u001b[0;34m)\u001b[0m\u001b[0;34m==\u001b[0m\u001b[0mlist\u001b[0m \u001b[0;32melse\u001b[0m \u001b[0mx\u001b[0m\u001b[0;34m)\u001b[0m\u001b[0;34m\u001b[0m\u001b[0;34m\u001b[0m\u001b[0m\n\u001b[0m",
            "\u001b[0;32m/usr/local/lib/python3.7/dist-packages/pandas/core/generic.py\u001b[0m in \u001b[0;36m__getattr__\u001b[0;34m(self, name)\u001b[0m\n\u001b[1;32m   5485\u001b[0m         ):\n\u001b[1;32m   5486\u001b[0m             \u001b[0;32mreturn\u001b[0m \u001b[0mself\u001b[0m\u001b[0;34m[\u001b[0m\u001b[0mname\u001b[0m\u001b[0;34m]\u001b[0m\u001b[0;34m\u001b[0m\u001b[0;34m\u001b[0m\u001b[0m\n\u001b[0;32m-> 5487\u001b[0;31m         \u001b[0;32mreturn\u001b[0m \u001b[0mobject\u001b[0m\u001b[0;34m.\u001b[0m\u001b[0m__getattribute__\u001b[0m\u001b[0;34m(\u001b[0m\u001b[0mself\u001b[0m\u001b[0;34m,\u001b[0m \u001b[0mname\u001b[0m\u001b[0;34m)\u001b[0m\u001b[0;34m\u001b[0m\u001b[0;34m\u001b[0m\u001b[0m\n\u001b[0m\u001b[1;32m   5488\u001b[0m \u001b[0;34m\u001b[0m\u001b[0m\n\u001b[1;32m   5489\u001b[0m     \u001b[0;32mdef\u001b[0m \u001b[0m__setattr__\u001b[0m\u001b[0;34m(\u001b[0m\u001b[0mself\u001b[0m\u001b[0;34m,\u001b[0m \u001b[0mname\u001b[0m\u001b[0;34m:\u001b[0m \u001b[0mstr\u001b[0m\u001b[0;34m,\u001b[0m \u001b[0mvalue\u001b[0m\u001b[0;34m)\u001b[0m \u001b[0;34m->\u001b[0m \u001b[0;32mNone\u001b[0m\u001b[0;34m:\u001b[0m\u001b[0;34m\u001b[0m\u001b[0;34m\u001b[0m\u001b[0m\n",
            "\u001b[0;31mAttributeError\u001b[0m: 'DataFrame' object has no attribute 'Full_Service'"
          ]
        }
      ]
    },
    {
      "cell_type": "code",
      "source": [
        "df.drop([\"Full_Service\",\"Full_Service_1\"],axis=1,inplace=True)\n"
      ],
      "metadata": {
        "id": "N4_10NApjify"
      },
      "execution_count": 990,
      "outputs": []
    },
    {
      "cell_type": "code",
      "source": [
        "df.info()"
      ],
      "metadata": {
        "colab": {
          "base_uri": "https://localhost:8080/"
        },
        "id": "XSi7jgf2kFd3",
        "outputId": "aeb73b8c-8eff-413b-dc21-5e9291eb925c"
      },
      "execution_count": 995,
      "outputs": [
        {
          "output_type": "stream",
          "name": "stdout",
          "text": [
            "<class 'pandas.core.frame.DataFrame'>\n",
            "RangeIndex: 15919 entries, 0 to 15918\n",
            "Data columns (total 36 columns):\n",
            " #   Column                 Non-Null Count  Dtype  \n",
            "---  ------                 --------------  -----  \n",
            " 0   Make_Model             15919 non-null  object \n",
            " 1   Body_Type              15859 non-null  object \n",
            " 2   Price                  15919 non-null  int64  \n",
            " 3   Vat                    11406 non-null  object \n",
            " 4   Km                     14895 non-null  float64\n",
            " 5   Previous_Owners        9279 non-null   float64\n",
            " 6   Inspection_new         3932 non-null   object \n",
            " 7   Warranty               4853 non-null   float64\n",
            " 8   Non_Smoking_Vehicle    7177 non-null   object \n",
            " 9   Offer_Number           12744 non-null  object \n",
            " 10  Body_Color             15322 non-null  object \n",
            " 11  Paint_Type             10147 non-null  object \n",
            " 12  Body_Color_Original    12160 non-null  object \n",
            " 13  Upholstery             12199 non-null  object \n",
            " 14  Nr_of_Doors            15707 non-null  object \n",
            " 15  Nr_of_Seats            14942 non-null  object \n",
            " 16  Model_Code             4978 non-null   object \n",
            " 17  Gearing_Type           15919 non-null  object \n",
            " 18  Displacement           15423 non-null  object \n",
            " 19  Cylinders              10239 non-null  object \n",
            " 20  Weight                 8945 non-null   object \n",
            " 21  Drive_Chain            9061 non-null   object \n",
            " 22  Fuel                   15919 non-null  object \n",
            " 23  Consumption            14013 non-null  object \n",
            " 24  Co_2_Emission          14111 non-null  object \n",
            " 25  Emission_Class         12898 non-null  object \n",
            " 26  Comfort_&_Convenience  14999 non-null  object \n",
            " 27  Entertainment_&_Media  14545 non-null  object \n",
            " 28  Extras                 12957 non-null  object \n",
            " 29  Safety_&_Security      14937 non-null  object \n",
            " 30  Emission_Label         3985 non-null   object \n",
            " 31  Gears                  11207 non-null  object \n",
            " 32  Country_Version        7586 non-null   object \n",
            " 33  Age                    14322 non-null  float64\n",
            " 34  hp_kW                  15831 non-null  float64\n",
            " 35  Type                   15917 non-null  object \n",
            "dtypes: float64(5), int64(1), object(30)\n",
            "memory usage: 4.4+ MB\n"
          ]
        }
      ]
    },
    {
      "cell_type": "markdown",
      "source": [
        "## Non-smoking Vehicle"
      ],
      "metadata": {
        "id": "-ZQS1ckwkMeE"
      }
    },
    {
      "cell_type": "code",
      "source": [
        "df[\"Non_Smoking_Vehicle\"]"
      ],
      "metadata": {
        "colab": {
          "base_uri": "https://localhost:8080/"
        },
        "id": "FDbmiwDWkI48",
        "outputId": "0e211a49-4813-4387-953c-4a54ae9a5715"
      },
      "execution_count": 996,
      "outputs": [
        {
          "output_type": "execute_result",
          "data": {
            "text/plain": [
              "0                       [\\n, \\n]\n",
              "1                            NaN\n",
              "2                            NaN\n",
              "3           [\\n, \\n, \\nEuro 6\\n]\n",
              "4                       [\\n, \\n]\n",
              "                  ...           \n",
              "15914                        NaN\n",
              "15915    [\\n, \\n, \\n4 (Green)\\n]\n",
              "15916                   [\\n, \\n]\n",
              "15917                        NaN\n",
              "15918                        NaN\n",
              "Name: Non_Smoking_Vehicle, Length: 15919, dtype: object"
            ]
          },
          "metadata": {},
          "execution_count": 996
        }
      ]
    },
    {
      "cell_type": "code",
      "source": [
        "df[\"Non_Smoking_Vehicle_1\"]=df[\"Non_Smoking_Vehicle\"]"
      ],
      "metadata": {
        "id": "vdVoj49hlBM9"
      },
      "execution_count": 997,
      "outputs": []
    },
    {
      "cell_type": "code",
      "source": [
        "df[\"Non_Smoking_Vehicle\"].value_counts(dropna=False)"
      ],
      "metadata": {
        "colab": {
          "base_uri": "https://localhost:8080/",
          "height": 1000
        },
        "id": "mrdAwD55lBJX",
        "outputId": "1e769875-1dbb-4703-d2e1-941a5e9f6088"
      },
      "execution_count": 998,
      "outputs": [
        {
          "output_type": "error",
          "ename": "TypeError",
          "evalue": "ignored",
          "traceback": [
            "\u001b[0;31m---------------------------------------------------------------------------\u001b[0m",
            "\u001b[0;31mTypeError\u001b[0m                                 Traceback (most recent call last)",
            "\u001b[0;32mpandas/_libs/hashtable_class_helper.pxi\u001b[0m in \u001b[0;36mpandas._libs.hashtable.PyObjectHashTable.map_locations\u001b[0;34m()\u001b[0m\n",
            "\u001b[0;31mTypeError\u001b[0m: unhashable type: 'list'"
          ]
        },
        {
          "output_type": "stream",
          "name": "stderr",
          "text": [
            "Exception ignored in: 'pandas._libs.index.IndexEngine._call_map_locations'\n",
            "Traceback (most recent call last):\n",
            "  File \"pandas/_libs/hashtable_class_helper.pxi\", line 5231, in pandas._libs.hashtable.PyObjectHashTable.map_locations\n",
            "TypeError: unhashable type: 'list'\n"
          ]
        },
        {
          "output_type": "execute_result",
          "data": {
            "text/plain": [
              "NaN                                                                                           8742\n",
              "[\\n, \\n]                                                                                      3647\n",
              "[\\n, \\n, \\n4 (Green)\\n]                                                                       1240\n",
              "[\\n, \\n, \\nEuro 6\\n]                                                                          1127\n",
              "[\\n, \\n, \\nEuro 6d-TEMP\\n]                                                                     345\n",
              "\\n                                                                                              70\n",
              "[\\n, \\n, \\n120 g CO2/km (comb)\\n]                                                               63\n",
              "[\\n, \\n, \\n85 g CO2/km (comb)\\n]                                                                46\n",
              "[\\n, \\n, \\n104 g CO2/km (comb)\\n]                                                               36\n",
              "[\\n, \\n, \\n107 g CO2/km (comb)\\n]                                                               36\n",
              "[\\n, \\n, \\n153 g CO2/km (comb)\\n]                                                               31\n",
              "[\\n, \\n, \\n124 g CO2/km (comb)\\n]                                                               29\n",
              "[\\n, \\n, \\n1 (No sticker)\\n]                                                                    24\n",
              "[\\n, \\n, \\n99 g CO2/km (comb)\\n]                                                                23\n",
              "[\\n, \\n, \\n106 g CO2/km (comb)\\n]                                                               20\n",
              "[\\n, \\n, \\n97 g CO2/km (comb)\\n]                                                                20\n",
              "[\\n, \\n, \\n108 g CO2/km (comb)\\n]                                                               19\n",
              "[\\n, \\n, \\n113 g CO2/km (comb)\\n]                                                               18\n",
              "[\\n, \\n, \\n100 g CO2/km (comb)\\n]                                                               18\n",
              "[\\n, \\n, \\n109 g CO2/km (comb)\\n]                                                               18\n",
              "[\\n, \\n, \\n105 g CO2/km (comb)\\n]                                                               18\n",
              "[\\n, \\n, \\nEuro 6c\\n]                                                                           17\n",
              "[\\n, \\n, \\n98 g CO2/km (comb)\\n]                                                                15\n",
              "[\\n, \\n, \\n129 g CO2/km (comb)\\n]                                                               14\n",
              "[\\n, \\n, \\n131 g CO2/km (comb)\\n]                                                               13\n",
              "[\\n, \\n, \\n133 g CO2/km (comb)\\n]                                                               12\n",
              "[\\n, \\n, \\n103 g CO2/km (comb)\\n]                                                               12\n",
              "[\\n, \\n, \\n114 g CO2/km (comb)\\n]                                                               12\n",
              "[\\n, \\n, \\n116 g CO2/km (comb)\\n]                                                               11\n",
              "[\\n, \\n, \\n135 g CO2/km (comb)\\n]                                                               11\n",
              "[\\n, \\n, \\n102 g CO2/km (comb)\\n]                                                               11\n",
              "[\\n, \\n, \\n127 g CO2/km (comb)\\n]                                                               10\n",
              "[\\n, \\n, \\n143 g CO2/km (comb)\\n]                                                               10\n",
              "[\\n, \\n, \\n92 g CO2/km (comb)\\n]                                                                 9\n",
              "[\\n, \\n, \\nEuro 6d\\n]                                                                            9\n",
              "[\\n, \\n, \\n112 g CO2/km (comb)\\n]                                                                9\n",
              "[\\n, \\n, \\n5 (Blue)\\n]                                                                           8\n",
              "[\\n, \\n, \\n118 g CO2/km (comb)\\n]                                                                8\n",
              "[\\n, \\n, \\n139 g CO2/km (comb)\\n]                                                                7\n",
              "[\\n, \\n, \\n128 g CO2/km (comb)\\n]                                                                7\n",
              "[\\n, \\n, \\n147 g CO2/km (comb)\\n]                                                                7\n",
              "[\\n, \\n, \\n126 g CO2/km (comb)\\n]                                                                6\n",
              "[\\n, \\n, \\n137 g CO2/km (comb)\\n]                                                                6\n",
              "[\\n, \\n, \\n117 g CO2/km (comb)\\n]                                                                6\n",
              "[\\n, \\n, \\n140 g CO2/km (comb)\\n]                                                                6\n",
              "[\\n, \\n, \\n130 g CO2/km (comb)\\n]                                                                5\n",
              "[\\n, \\n, \\n115 g CO2/km (comb)\\n]                                                                5\n",
              "[\\n, \\n, \\nEuro 5\\n]                                                                             4\n",
              "[\\n, \\n, \\n, 5.2 l/100 km (comb), \\n, 5.8 l/100 km (city), \\n, 4.8 l/100 km (country), \\n]       4\n",
              "[\\n, \\n, \\n123 g CO2/km (comb)\\n]                                                                4\n",
              "[\\n, \\n, \\n151 g CO2/km (comb)\\n]                                                                4\n",
              "[\\n, \\n, \\n95 g CO2/km (comb)\\n]                                                                 3\n",
              "[\\n, \\n, \\n119 g CO2/km (comb)\\n]                                                                3\n",
              "[\\n, \\n, \\n148 g CO2/km (comb)\\n]                                                                3\n",
              "[\\n, \\n, \\n157 g CO2/km (comb)\\n]                                                                3\n",
              "[\\n, \\n, \\n136 g CO2/km (comb)\\n]                                                                3\n",
              "[\\n, \\n, \\n110 g CO2/km (comb)\\n]                                                                3\n",
              "[\\n, \\n, \\n149 g CO2/km (comb)\\n]                                                                3\n",
              "[\\n, \\n, \\n138 g CO2/km (comb)\\n]                                                                2\n",
              "[\\n, \\n, \\n125 g CO2/km (comb)\\n]                                                                2\n",
              "[\\n, \\n, \\n, 5.2 l/100 km (comb), \\n, 6.4 l/100 km (city), \\n, 4.4 l/100 km (country), \\n]       2\n",
              "[\\n, \\n, \\n166 g CO2/km (comb)\\n]                                                                2\n",
              "[\\n, \\n, \\n121 g CO2/km (comb)\\n]                                                                2\n",
              "[\\n, \\n, \\n142 g CO2/km (comb)\\n]                                                                2\n",
              "[\\n, \\n, \\n90 g CO2/km (comb)\\n]                                                                 2\n",
              "[\\n, \\n, \\n111 g CO2/km (comb)\\n]                                                                2\n",
              "[\\n, \\n, \\n134 g CO2/km (comb)\\n]                                                                2\n",
              "[\\n, \\n, \\n, 6.5 l/100 km (comb), \\n, 8.5 l/100 km (city), \\n, 5.4 l/100 km (country), \\n]       1\n",
              "[\\n, \\n, \\n, 6.4 l/100 km (comb), \\n, 8.1 l/100 km (city), \\n, 5.4 l/100 km (country), \\n]       1\n",
              "[\\n, \\n, \\n161 g CO2/km (comb)\\n]                                                                1\n",
              "[\\n, \\n, \\n172 g CO2/km (comb)\\n]                                                                1\n",
              "[\\n, \\n, \\n189 g CO2/km (comb)\\n]                                                                1\n",
              "[\\n, \\n, \\n82 g CO2/km (comb)\\n]                                                                 1\n",
              "[\\n, \\n, \\n154 g CO2/km (comb)\\n]                                                                1\n",
              "[\\n, \\n, \\n, 6.5 l/100 km (comb), \\n, 7.9 l/100 km (city), \\n, 5.6 l/100 km (country), \\n]       1\n",
              "[\\n, \\n, \\n, 6.3 l/100 km (comb), \\n, 8 l/100 km (city), \\n, 5.3 l/100 km (country), \\n]         1\n",
              "[\\n, \\n, \\n146 g CO2/km (comb)\\n]                                                                1\n",
              "[\\n, \\n, \\n, 5.7 l/100 km (comb), \\n, 7.3 l/100 km (city), \\n, 4.7 l/100 km (country), \\n]       1\n",
              "[\\n, \\n, \\n, 6.1 l/100 km (comb), \\n, 7.7 l/100 km (city), \\n, 5.2 l/100 km (country), \\n]       1\n",
              "[\\n, \\n, \\n156 g CO2/km (comb)\\n]                                                                1\n",
              "[\\n, \\n, \\n, 6.1 l/100 km (comb), \\n, 7.8 l/100 km (city), \\n, 5.1 l/100 km (country), \\n]       1\n",
              "[\\n, \\n, \\n, 6.2 l/100 km (comb), \\n, 7.9 l/100 km (city), \\n, 5.3 l/100 km (country), \\n]       1\n",
              "[\\n, \\n, \\n152 g CO2/km (comb)\\n]                                                                1\n",
              "[\\n, \\n, \\n144 g CO2/km (comb)\\n]                                                                1\n",
              "[\\n, \\n, \\n132 g CO2/km (comb)\\n]                                                                1\n",
              "[\\n, \\n, \\n, 1.6 l/100 km (comb), \\n, \\n, \\n]                                                    1\n",
              "[\\n, \\n, \\n169 g CO2/km (comb)\\n]                                                                1\n",
              "[\\n, \\n, \\n101 g CO2/km (comb)\\n]                                                                1\n",
              "[\\n, \\n, \\n159 g CO2/km (comb)\\n]                                                                1\n",
              "[\\n, \\n, \\n91 g CO2/km (comb)\\n]                                                                 1\n",
              "[\\n, \\n, \\n, 5.6 l/100 km (comb), \\n, 7.3 l/100 km (city), \\n, 4.7 l/100 km (country), \\n]       1\n",
              "[\\n, \\n, \\n122 g CO2/km (comb)\\n]                                                                1\n",
              "[\\n, \\n, \\n158 g CO2/km (comb)\\n]                                                                1\n",
              "[\\n, \\n, \\n150 g CO2/km (comb)\\n]                                                                1\n",
              "[\\n, \\n, \\n175 g CO2/km (comb)\\n]                                                                1\n",
              "Name: Non_Smoking_Vehicle, dtype: int64"
            ]
          },
          "metadata": {},
          "execution_count": 998
        }
      ]
    },
    {
      "cell_type": "code",
      "source": [
        "df.drop([\"Non_Smoking_Vehicle\", \"Non_Smoking_Vehicle_1\"],axis=1,inplace=True)"
      ],
      "metadata": {
        "id": "eC61f4BKlBGd"
      },
      "execution_count": 999,
      "outputs": []
    },
    {
      "cell_type": "code",
      "source": [
        "df.info()"
      ],
      "metadata": {
        "colab": {
          "base_uri": "https://localhost:8080/"
        },
        "id": "1KLhXOLclA8F",
        "outputId": "85e0054e-00f6-4b81-ea18-70fea1cdc728"
      },
      "execution_count": 1000,
      "outputs": [
        {
          "output_type": "stream",
          "name": "stdout",
          "text": [
            "<class 'pandas.core.frame.DataFrame'>\n",
            "RangeIndex: 15919 entries, 0 to 15918\n",
            "Data columns (total 35 columns):\n",
            " #   Column                 Non-Null Count  Dtype  \n",
            "---  ------                 --------------  -----  \n",
            " 0   Make_Model             15919 non-null  object \n",
            " 1   Body_Type              15859 non-null  object \n",
            " 2   Price                  15919 non-null  int64  \n",
            " 3   Vat                    11406 non-null  object \n",
            " 4   Km                     14895 non-null  float64\n",
            " 5   Previous_Owners        9279 non-null   float64\n",
            " 6   Inspection_new         3932 non-null   object \n",
            " 7   Warranty               4853 non-null   float64\n",
            " 8   Offer_Number           12744 non-null  object \n",
            " 9   Body_Color             15322 non-null  object \n",
            " 10  Paint_Type             10147 non-null  object \n",
            " 11  Body_Color_Original    12160 non-null  object \n",
            " 12  Upholstery             12199 non-null  object \n",
            " 13  Nr_of_Doors            15707 non-null  object \n",
            " 14  Nr_of_Seats            14942 non-null  object \n",
            " 15  Model_Code             4978 non-null   object \n",
            " 16  Gearing_Type           15919 non-null  object \n",
            " 17  Displacement           15423 non-null  object \n",
            " 18  Cylinders              10239 non-null  object \n",
            " 19  Weight                 8945 non-null   object \n",
            " 20  Drive_Chain            9061 non-null   object \n",
            " 21  Fuel                   15919 non-null  object \n",
            " 22  Consumption            14013 non-null  object \n",
            " 23  Co_2_Emission          14111 non-null  object \n",
            " 24  Emission_Class         12898 non-null  object \n",
            " 25  Comfort_&_Convenience  14999 non-null  object \n",
            " 26  Entertainment_&_Media  14545 non-null  object \n",
            " 27  Extras                 12957 non-null  object \n",
            " 28  Safety_&_Security      14937 non-null  object \n",
            " 29  Emission_Label         3985 non-null   object \n",
            " 30  Gears                  11207 non-null  object \n",
            " 31  Country_Version        7586 non-null   object \n",
            " 32  Age                    14322 non-null  float64\n",
            " 33  hp_kW                  15831 non-null  float64\n",
            " 34  Type                   15917 non-null  object \n",
            "dtypes: float64(5), int64(1), object(29)\n",
            "memory usage: 4.3+ MB\n"
          ]
        }
      ]
    },
    {
      "cell_type": "markdown",
      "source": [
        "#Offer Number"
      ],
      "metadata": {
        "id": "Tjbib2OorDSU"
      }
    },
    {
      "cell_type": "code",
      "source": [
        "df[\"Offer_Number\"]"
      ],
      "metadata": {
        "colab": {
          "base_uri": "https://localhost:8080/"
        },
        "id": "0TUXhOAorSA8",
        "outputId": "64f6319d-defd-4b35-c06c-904f81fecbbd"
      },
      "execution_count": 1001,
      "outputs": [
        {
          "output_type": "execute_result",
          "data": {
            "text/plain": [
              "0             [\\nLR-062483\\n]\n",
              "1                         NaN\n",
              "2              [\\nAM-95365\\n]\n",
              "3                         NaN\n",
              "4                 [\\nC1626\\n]\n",
              "                 ...         \n",
              "15914          [\\n10988301\\n]\n",
              "15915       [\\n507370_3223\\n]\n",
              "15916          [\\nEspace16\\n]\n",
              "15917           [\\n2691331\\n]\n",
              "15918    [\\nRe_30000008029\\n]\n",
              "Name: Offer_Number, Length: 15919, dtype: object"
            ]
          },
          "metadata": {},
          "execution_count": 1001
        }
      ]
    },
    {
      "cell_type": "code",
      "source": [
        "df[\"Offer_Number\"].astype('str').value_counts(dropna=False)"
      ],
      "metadata": {
        "colab": {
          "base_uri": "https://localhost:8080/"
        },
        "id": "5ReFm11ekI2B",
        "outputId": "80782ecb-2643-4242-d354-c02df61895f0"
      },
      "execution_count": 1002,
      "outputs": [
        {
          "output_type": "execute_result",
          "data": {
            "text/plain": [
              "nan                                                 3175\n",
              "['\\nLT67679\\n']                                       27\n",
              "['\\nUN89904\\n']                                       27\n",
              "['\\nXJ38068\\n']                                       27\n",
              "['\\nJV03654\\n']                                       27\n",
              "                                                    ... \n",
              "['\\n160_dcbb6c3e-a6da-43a3-8754-ccd994cec93b\\n']       1\n",
              "['\\n6701576\\n']                                        1\n",
              "['\\n6701569\\n']                                        1\n",
              "['\\n158121\\n']                                         1\n",
              "['\\nRe_30000008029\\n']                                 1\n",
              "Name: Offer_Number, Length: 11441, dtype: int64"
            ]
          },
          "metadata": {},
          "execution_count": 1002
        }
      ]
    },
    {
      "cell_type": "code",
      "source": [
        "df.drop([\"Offer_Number\"],axis=1,inplace=True)"
      ],
      "metadata": {
        "id": "xth9IinCkIz0"
      },
      "execution_count": 1003,
      "outputs": []
    },
    {
      "cell_type": "code",
      "source": [
        "df.info()"
      ],
      "metadata": {
        "colab": {
          "base_uri": "https://localhost:8080/"
        },
        "id": "0QfAYU2AkIwi",
        "outputId": "fb13d344-2054-45fa-ad34-98b0e11da15b"
      },
      "execution_count": 1004,
      "outputs": [
        {
          "output_type": "stream",
          "name": "stdout",
          "text": [
            "<class 'pandas.core.frame.DataFrame'>\n",
            "RangeIndex: 15919 entries, 0 to 15918\n",
            "Data columns (total 34 columns):\n",
            " #   Column                 Non-Null Count  Dtype  \n",
            "---  ------                 --------------  -----  \n",
            " 0   Make_Model             15919 non-null  object \n",
            " 1   Body_Type              15859 non-null  object \n",
            " 2   Price                  15919 non-null  int64  \n",
            " 3   Vat                    11406 non-null  object \n",
            " 4   Km                     14895 non-null  float64\n",
            " 5   Previous_Owners        9279 non-null   float64\n",
            " 6   Inspection_new         3932 non-null   object \n",
            " 7   Warranty               4853 non-null   float64\n",
            " 8   Body_Color             15322 non-null  object \n",
            " 9   Paint_Type             10147 non-null  object \n",
            " 10  Body_Color_Original    12160 non-null  object \n",
            " 11  Upholstery             12199 non-null  object \n",
            " 12  Nr_of_Doors            15707 non-null  object \n",
            " 13  Nr_of_Seats            14942 non-null  object \n",
            " 14  Model_Code             4978 non-null   object \n",
            " 15  Gearing_Type           15919 non-null  object \n",
            " 16  Displacement           15423 non-null  object \n",
            " 17  Cylinders              10239 non-null  object \n",
            " 18  Weight                 8945 non-null   object \n",
            " 19  Drive_Chain            9061 non-null   object \n",
            " 20  Fuel                   15919 non-null  object \n",
            " 21  Consumption            14013 non-null  object \n",
            " 22  Co_2_Emission          14111 non-null  object \n",
            " 23  Emission_Class         12898 non-null  object \n",
            " 24  Comfort_&_Convenience  14999 non-null  object \n",
            " 25  Entertainment_&_Media  14545 non-null  object \n",
            " 26  Extras                 12957 non-null  object \n",
            " 27  Safety_&_Security      14937 non-null  object \n",
            " 28  Emission_Label         3985 non-null   object \n",
            " 29  Gears                  11207 non-null  object \n",
            " 30  Country_Version        7586 non-null   object \n",
            " 31  Age                    14322 non-null  float64\n",
            " 32  hp_kW                  15831 non-null  float64\n",
            " 33  Type                   15917 non-null  object \n",
            "dtypes: float64(5), int64(1), object(28)\n",
            "memory usage: 4.1+ MB\n"
          ]
        }
      ]
    },
    {
      "cell_type": "markdown",
      "source": [
        "## Body Color & Body Color Original"
      ],
      "metadata": {
        "id": "6LWaeH2-r_3a"
      }
    },
    {
      "cell_type": "code",
      "source": [
        "df[\"Body_Color\"]"
      ],
      "metadata": {
        "colab": {
          "base_uri": "https://localhost:8080/"
        },
        "id": "O4Mf1R0JkIt8",
        "outputId": "3daf9633-4d9d-46fc-bb28-abd99feb3987"
      },
      "execution_count": 1005,
      "outputs": [
        {
          "output_type": "execute_result",
          "data": {
            "text/plain": [
              "0        [\\n, Black, \\n]\n",
              "1          [\\n, Red, \\n]\n",
              "2        [\\n, Black, \\n]\n",
              "3        [\\n, Brown, \\n]\n",
              "4        [\\n, Black, \\n]\n",
              "              ...       \n",
              "15914     [\\n, Grey, \\n]\n",
              "15915     [\\n, Grey, \\n]\n",
              "15916    [\\n, White, \\n]\n",
              "15917     [\\n, Grey, \\n]\n",
              "15918     [\\n, Grey, \\n]\n",
              "Name: Body_Color, Length: 15919, dtype: object"
            ]
          },
          "metadata": {},
          "execution_count": 1005
        }
      ]
    },
    {
      "cell_type": "code",
      "source": [
        "df[\"Body_Color_1\"]=df[\"Body_Color\"]"
      ],
      "metadata": {
        "id": "UQWHpi4CvR_T"
      },
      "execution_count": 1006,
      "outputs": []
    },
    {
      "cell_type": "code",
      "source": [
        "df[\"Body_Color\"].astype(\"str\")"
      ],
      "metadata": {
        "colab": {
          "base_uri": "https://localhost:8080/"
        },
        "id": "hRRG5kHxkIrC",
        "outputId": "f43e7e88-b61e-40aa-b8f0-8d52fa7b5809"
      },
      "execution_count": 1007,
      "outputs": [
        {
          "output_type": "execute_result",
          "data": {
            "text/plain": [
              "0        ['\\n', 'Black', '\\n']\n",
              "1          ['\\n', 'Red', '\\n']\n",
              "2        ['\\n', 'Black', '\\n']\n",
              "3        ['\\n', 'Brown', '\\n']\n",
              "4        ['\\n', 'Black', '\\n']\n",
              "                 ...          \n",
              "15914     ['\\n', 'Grey', '\\n']\n",
              "15915     ['\\n', 'Grey', '\\n']\n",
              "15916    ['\\n', 'White', '\\n']\n",
              "15917     ['\\n', 'Grey', '\\n']\n",
              "15918     ['\\n', 'Grey', '\\n']\n",
              "Name: Body_Color, Length: 15919, dtype: object"
            ]
          },
          "metadata": {},
          "execution_count": 1007
        }
      ]
    },
    {
      "cell_type": "code",
      "source": [
        "df[\"Body_Color\"].astype(\"str\").value_counts(dropna=False)"
      ],
      "metadata": {
        "colab": {
          "base_uri": "https://localhost:8080/"
        },
        "id": "-AU5Uonrt6ot",
        "outputId": "7b28712c-3fbf-444b-c34a-e2284ee496f7"
      },
      "execution_count": 1008,
      "outputs": [
        {
          "output_type": "execute_result",
          "data": {
            "text/plain": [
              "['\\n', 'Black', '\\n']     3745\n",
              "['\\n', 'Grey', '\\n']      3505\n",
              "['\\n', 'White', '\\n']     3406\n",
              "['\\n', 'Silver', '\\n']    1647\n",
              "['\\n', 'Blue', '\\n']      1431\n",
              "['\\n', 'Red', '\\n']        957\n",
              "nan                        597\n",
              "['\\n', 'Brown', '\\n']      289\n",
              "['\\n', 'Green', '\\n']      154\n",
              "['\\n', 'Beige', '\\n']      108\n",
              "['\\n', 'Yellow', '\\n']      51\n",
              "['\\n', 'Violet', '\\n']      18\n",
              "['\\n', 'Bronze', '\\n']       6\n",
              "['\\n', 'Orange', '\\n']       3\n",
              "['\\n', 'Gold', '\\n']         2\n",
              "Name: Body_Color, dtype: int64"
            ]
          },
          "metadata": {},
          "execution_count": 1008
        }
      ]
    },
    {
      "cell_type": "code",
      "source": [
        "df[\"Body_Color\"].str[1].str.strip('\\n')"
      ],
      "metadata": {
        "colab": {
          "base_uri": "https://localhost:8080/"
        },
        "id": "K9uRN2nYvYW4",
        "outputId": "f791fdf8-060f-46f5-8e2e-82ff875edfef"
      },
      "execution_count": 1009,
      "outputs": [
        {
          "output_type": "execute_result",
          "data": {
            "text/plain": [
              "0        Black\n",
              "1          Red\n",
              "2        Black\n",
              "3        Brown\n",
              "4        Black\n",
              "         ...  \n",
              "15914     Grey\n",
              "15915     Grey\n",
              "15916    White\n",
              "15917     Grey\n",
              "15918     Grey\n",
              "Name: Body_Color, Length: 15919, dtype: object"
            ]
          },
          "metadata": {},
          "execution_count": 1009
        }
      ]
    },
    {
      "cell_type": "code",
      "source": [
        "df[\"Body_Color\"]=df[\"Body_Color\"].str[1].str.strip('\\n')"
      ],
      "metadata": {
        "id": "VhihXnTyvOcz"
      },
      "execution_count": 1010,
      "outputs": []
    },
    {
      "cell_type": "code",
      "source": [
        "df[\"Body_Color_Original_1\"]=df[\"Body_Color_Original\"]"
      ],
      "metadata": {
        "id": "h67JUezdtfHm"
      },
      "execution_count": 1011,
      "outputs": []
    },
    {
      "cell_type": "code",
      "source": [
        "df[\"Body_Color_Original\"]"
      ],
      "metadata": {
        "colab": {
          "base_uri": "https://localhost:8080/"
        },
        "id": "Goj4Z3R5kIlo",
        "outputId": "6833eeb4-c3d1-4f26-f9c4-612e988e6f7a"
      },
      "execution_count": 1012,
      "outputs": [
        {
          "output_type": "execute_result",
          "data": {
            "text/plain": [
              "0                 [\\nMythosschwarz\\n]\n",
              "1                                 NaN\n",
              "2        [\\nmythosschwarz metallic\\n]\n",
              "3                                 NaN\n",
              "4        [\\nMythosschwarz Metallic\\n]\n",
              "                     ...             \n",
              "15914              [\\nGrigio scuro\\n]\n",
              "15915       [\\nStahl-Grau Metallic\\n]\n",
              "15916               [\\narktis-weiß\\n]\n",
              "15917                    [\\nGrigio\\n]\n",
              "15918    [\\nTitanium-Grau Metallic\\n]\n",
              "Name: Body_Color_Original, Length: 15919, dtype: object"
            ]
          },
          "metadata": {},
          "execution_count": 1012
        }
      ]
    },
    {
      "cell_type": "code",
      "source": [
        "df[\"Body_Color_Original\"].astype(\"str\").value_counts(dropna=False)"
      ],
      "metadata": {
        "colab": {
          "base_uri": "https://localhost:8080/"
        },
        "id": "s_rbZ9Z0kIjF",
        "outputId": "ad95ea1e-e562-40b5-e9e1-bc39ecbb3af0"
      },
      "execution_count": 1013,
      "outputs": [
        {
          "output_type": "execute_result",
          "data": {
            "text/plain": [
              "nan                                      3759\n",
              "['\\nOnyx Schwarz\\n']                      338\n",
              "['\\nBianco\\n']                            282\n",
              "['\\nMythosschwarz Metallic\\n']            238\n",
              "['\\nBrillantschwarz\\n']                   216\n",
              "                                         ... \n",
              "['\\nRouge-Braun (G0Y)\\n']                   1\n",
              "['\\nVARI COLRI DISPONIBILI\\n']              1\n",
              "['\\nKokosnussbraun Metallic\\n']             1\n",
              "['\\nFarbe frei wählbar\\n']                  1\n",
              "['\\nPerlmutt-Weiß Metallic (Weiß)\\n']       1\n",
              "Name: Body_Color_Original, Length: 1928, dtype: int64"
            ]
          },
          "metadata": {},
          "execution_count": 1013
        }
      ]
    },
    {
      "cell_type": "code",
      "source": [
        "df[\"Body_Color_Original\"]=df[\"Body_Color_Original\"].str[0].str.strip('\\n')\n"
      ],
      "metadata": {
        "id": "XMsPilkqkIU0"
      },
      "execution_count": 1014,
      "outputs": []
    },
    {
      "cell_type": "code",
      "source": [
        "df[\"Body_Color\"].value_counts(dropna=False)"
      ],
      "metadata": {
        "colab": {
          "base_uri": "https://localhost:8080/"
        },
        "id": "Y2AXip59v_av",
        "outputId": "75b08d0e-f88e-4f78-9683-3b889b8aa77c"
      },
      "execution_count": 1015,
      "outputs": [
        {
          "output_type": "execute_result",
          "data": {
            "text/plain": [
              "Black     3745\n",
              "Grey      3505\n",
              "White     3406\n",
              "Silver    1647\n",
              "Blue      1431\n",
              "Red        957\n",
              "NaN        597\n",
              "Brown      289\n",
              "Green      154\n",
              "Beige      108\n",
              "Yellow      51\n",
              "Violet      18\n",
              "Bronze       6\n",
              "Orange       3\n",
              "Gold         2\n",
              "Name: Body_Color, dtype: int64"
            ]
          },
          "metadata": {},
          "execution_count": 1015
        }
      ]
    },
    {
      "cell_type": "code",
      "source": [
        "df[\"Body_Color_Original\"].value_counts(dropna=False)"
      ],
      "metadata": {
        "colab": {
          "base_uri": "https://localhost:8080/"
        },
        "id": "Y46eSS2Vu_A_",
        "outputId": "4e23f91c-abcd-459f-9e82-8233fccf9ccc"
      },
      "execution_count": 1016,
      "outputs": [
        {
          "output_type": "execute_result",
          "data": {
            "text/plain": [
              "NaN                              3759\n",
              "Onyx Schwarz                      338\n",
              "Bianco                            282\n",
              "Mythosschwarz Metallic            238\n",
              "Brillantschwarz                   216\n",
              "                                 ... \n",
              "Rouge-Braun (G0Y)                   1\n",
              "VARI COLRI DISPONIBILI              1\n",
              "Kokosnussbraun Metallic             1\n",
              "Farbe frei wählbar                  1\n",
              "Perlmutt-Weiß Metallic (Weiß)       1\n",
              "Name: Body_Color_Original, Length: 1928, dtype: int64"
            ]
          },
          "metadata": {},
          "execution_count": 1016
        }
      ]
    },
    {
      "cell_type": "code",
      "source": [
        "df.drop([\"Body_Color\",\"Body_Color_1\",\"Body_Color_Original\",\"Body_Color_Original_1\"],axis=1,inplace=True)\n"
      ],
      "metadata": {
        "id": "G69nAgJ7wMOR"
      },
      "execution_count": 1017,
      "outputs": []
    },
    {
      "cell_type": "code",
      "source": [
        "df.info()"
      ],
      "metadata": {
        "colab": {
          "base_uri": "https://localhost:8080/"
        },
        "id": "NsShBiCzwpjr",
        "outputId": "a299a069-88ca-4251-f6ea-2ec74973bf09"
      },
      "execution_count": 1018,
      "outputs": [
        {
          "output_type": "stream",
          "name": "stdout",
          "text": [
            "<class 'pandas.core.frame.DataFrame'>\n",
            "RangeIndex: 15919 entries, 0 to 15918\n",
            "Data columns (total 32 columns):\n",
            " #   Column                 Non-Null Count  Dtype  \n",
            "---  ------                 --------------  -----  \n",
            " 0   Make_Model             15919 non-null  object \n",
            " 1   Body_Type              15859 non-null  object \n",
            " 2   Price                  15919 non-null  int64  \n",
            " 3   Vat                    11406 non-null  object \n",
            " 4   Km                     14895 non-null  float64\n",
            " 5   Previous_Owners        9279 non-null   float64\n",
            " 6   Inspection_new         3932 non-null   object \n",
            " 7   Warranty               4853 non-null   float64\n",
            " 8   Paint_Type             10147 non-null  object \n",
            " 9   Upholstery             12199 non-null  object \n",
            " 10  Nr_of_Doors            15707 non-null  object \n",
            " 11  Nr_of_Seats            14942 non-null  object \n",
            " 12  Model_Code             4978 non-null   object \n",
            " 13  Gearing_Type           15919 non-null  object \n",
            " 14  Displacement           15423 non-null  object \n",
            " 15  Cylinders              10239 non-null  object \n",
            " 16  Weight                 8945 non-null   object \n",
            " 17  Drive_Chain            9061 non-null   object \n",
            " 18  Fuel                   15919 non-null  object \n",
            " 19  Consumption            14013 non-null  object \n",
            " 20  Co_2_Emission          14111 non-null  object \n",
            " 21  Emission_Class         12898 non-null  object \n",
            " 22  Comfort_&_Convenience  14999 non-null  object \n",
            " 23  Entertainment_&_Media  14545 non-null  object \n",
            " 24  Extras                 12957 non-null  object \n",
            " 25  Safety_&_Security      14937 non-null  object \n",
            " 26  Emission_Label         3985 non-null   object \n",
            " 27  Gears                  11207 non-null  object \n",
            " 28  Country_Version        7586 non-null   object \n",
            " 29  Age                    14322 non-null  float64\n",
            " 30  hp_kW                  15831 non-null  float64\n",
            " 31  Type                   15917 non-null  object \n",
            "dtypes: float64(5), int64(1), object(26)\n",
            "memory usage: 3.9+ MB\n"
          ]
        }
      ]
    },
    {
      "cell_type": "markdown",
      "source": [
        "## Paint Type"
      ],
      "metadata": {
        "id": "JuxCdVS4xCoN"
      }
    },
    {
      "cell_type": "code",
      "source": [
        "df[\"Paint_Type_1\"]=df[\"Paint_Type\"]"
      ],
      "metadata": {
        "id": "zsqAZ0EUxzfD"
      },
      "execution_count": 1019,
      "outputs": []
    },
    {
      "cell_type": "code",
      "source": [
        "df[\"Paint_Type\"]"
      ],
      "metadata": {
        "colab": {
          "base_uri": "https://localhost:8080/"
        },
        "id": "iypaKb1gwphe",
        "outputId": "d802e900-74cc-4d23-e847-5c38e39b0a21"
      },
      "execution_count": 1020,
      "outputs": [
        {
          "output_type": "execute_result",
          "data": {
            "text/plain": [
              "0        [\\nMetallic\\n]\n",
              "1                   NaN\n",
              "2        [\\nMetallic\\n]\n",
              "3        [\\nMetallic\\n]\n",
              "4        [\\nMetallic\\n]\n",
              "              ...      \n",
              "15914    [\\nMetallic\\n]\n",
              "15915    [\\nMetallic\\n]\n",
              "15916               NaN\n",
              "15917               NaN\n",
              "15918    [\\nMetallic\\n]\n",
              "Name: Paint_Type, Length: 15919, dtype: object"
            ]
          },
          "metadata": {},
          "execution_count": 1020
        }
      ]
    },
    {
      "cell_type": "code",
      "source": [
        "df[\"Paint_Type\"].value_counts()"
      ],
      "metadata": {
        "colab": {
          "base_uri": "https://localhost:8080/",
          "height": 324
        },
        "id": "Ew8-8yfeyE1x",
        "outputId": "b594e132-ae2a-4199-8d95-3645236ccd99"
      },
      "execution_count": 1021,
      "outputs": [
        {
          "output_type": "error",
          "ename": "TypeError",
          "evalue": "ignored",
          "traceback": [
            "\u001b[0;31m---------------------------------------------------------------------------\u001b[0m",
            "\u001b[0;31mTypeError\u001b[0m                                 Traceback (most recent call last)",
            "\u001b[0;32mpandas/_libs/hashtable_class_helper.pxi\u001b[0m in \u001b[0;36mpandas._libs.hashtable.PyObjectHashTable.map_locations\u001b[0;34m()\u001b[0m\n",
            "\u001b[0;31mTypeError\u001b[0m: unhashable type: 'list'"
          ]
        },
        {
          "output_type": "stream",
          "name": "stderr",
          "text": [
            "Exception ignored in: 'pandas._libs.index.IndexEngine._call_map_locations'\n",
            "Traceback (most recent call last):\n",
            "  File \"pandas/_libs/hashtable_class_helper.pxi\", line 5231, in pandas._libs.hashtable.PyObjectHashTable.map_locations\n",
            "TypeError: unhashable type: 'list'\n"
          ]
        },
        {
          "output_type": "execute_result",
          "data": {
            "text/plain": [
              "[\\nMetallic\\n]       9794\n",
              "[\\nUni/basic\\n]       347\n",
              "[\\nPerl effect\\n]       6\n",
              "Name: Paint_Type, dtype: int64"
            ]
          },
          "metadata": {},
          "execution_count": 1021
        }
      ]
    },
    {
      "cell_type": "code",
      "source": [
        "df[\"Paint_Type\"]=df[\"Paint_Type\"].str[0].str.strip('\\n')"
      ],
      "metadata": {
        "id": "ESurVgsRwpdN"
      },
      "execution_count": 1022,
      "outputs": []
    },
    {
      "cell_type": "code",
      "source": [
        "df[\"Paint_Type\"].value_counts(dropna=False)"
      ],
      "metadata": {
        "colab": {
          "base_uri": "https://localhost:8080/"
        },
        "id": "Qye8DT7UwpaW",
        "outputId": "cb9a5f89-48a2-4014-8b14-e93a558e7846"
      },
      "execution_count": 1023,
      "outputs": [
        {
          "output_type": "execute_result",
          "data": {
            "text/plain": [
              "Metallic       9794\n",
              "NaN            5772\n",
              "Uni/basic       347\n",
              "Perl effect       6\n",
              "Name: Paint_Type, dtype: int64"
            ]
          },
          "metadata": {},
          "execution_count": 1023
        }
      ]
    },
    {
      "cell_type": "code",
      "source": [
        "df.drop([\"Paint_Type_1\"], axis=1, inplace=True)\n"
      ],
      "metadata": {
        "id": "-_OIOXxSwpXx"
      },
      "execution_count": 1024,
      "outputs": []
    },
    {
      "cell_type": "code",
      "source": [
        "df.info()"
      ],
      "metadata": {
        "colab": {
          "base_uri": "https://localhost:8080/"
        },
        "id": "fSLUlbg6wpWK",
        "outputId": "5f3f8388-5e2c-4104-f48e-ea78d5f6b57a"
      },
      "execution_count": 1025,
      "outputs": [
        {
          "output_type": "stream",
          "name": "stdout",
          "text": [
            "<class 'pandas.core.frame.DataFrame'>\n",
            "RangeIndex: 15919 entries, 0 to 15918\n",
            "Data columns (total 32 columns):\n",
            " #   Column                 Non-Null Count  Dtype  \n",
            "---  ------                 --------------  -----  \n",
            " 0   Make_Model             15919 non-null  object \n",
            " 1   Body_Type              15859 non-null  object \n",
            " 2   Price                  15919 non-null  int64  \n",
            " 3   Vat                    11406 non-null  object \n",
            " 4   Km                     14895 non-null  float64\n",
            " 5   Previous_Owners        9279 non-null   float64\n",
            " 6   Inspection_new         3932 non-null   object \n",
            " 7   Warranty               4853 non-null   float64\n",
            " 8   Paint_Type             10147 non-null  object \n",
            " 9   Upholstery             12199 non-null  object \n",
            " 10  Nr_of_Doors            15707 non-null  object \n",
            " 11  Nr_of_Seats            14942 non-null  object \n",
            " 12  Model_Code             4978 non-null   object \n",
            " 13  Gearing_Type           15919 non-null  object \n",
            " 14  Displacement           15423 non-null  object \n",
            " 15  Cylinders              10239 non-null  object \n",
            " 16  Weight                 8945 non-null   object \n",
            " 17  Drive_Chain            9061 non-null   object \n",
            " 18  Fuel                   15919 non-null  object \n",
            " 19  Consumption            14013 non-null  object \n",
            " 20  Co_2_Emission          14111 non-null  object \n",
            " 21  Emission_Class         12898 non-null  object \n",
            " 22  Comfort_&_Convenience  14999 non-null  object \n",
            " 23  Entertainment_&_Media  14545 non-null  object \n",
            " 24  Extras                 12957 non-null  object \n",
            " 25  Safety_&_Security      14937 non-null  object \n",
            " 26  Emission_Label         3985 non-null   object \n",
            " 27  Gears                  11207 non-null  object \n",
            " 28  Country_Version        7586 non-null   object \n",
            " 29  Age                    14322 non-null  float64\n",
            " 30  hp_kW                  15831 non-null  float64\n",
            " 31  Type                   15917 non-null  object \n",
            "dtypes: float64(5), int64(1), object(26)\n",
            "memory usage: 3.9+ MB\n"
          ]
        }
      ]
    },
    {
      "cell_type": "markdown",
      "source": [
        "##Upholstery"
      ],
      "metadata": {
        "id": "v2MmwLSAwgTp"
      }
    },
    {
      "cell_type": "code",
      "source": [
        "df[\"Upholstery_1\"]=df[\"Upholstery\"]"
      ],
      "metadata": {
        "id": "Xb_YzyjOwqZL"
      },
      "execution_count": 1026,
      "outputs": []
    },
    {
      "cell_type": "code",
      "source": [
        "df[\"Upholstery\"]"
      ],
      "metadata": {
        "colab": {
          "base_uri": "https://localhost:8080/"
        },
        "id": "PJLRgK5k6_uS",
        "outputId": "f90ab8c5-09a5-4b45-e79f-f4f5dcea9cd5"
      },
      "execution_count": 1027,
      "outputs": [
        {
          "output_type": "execute_result",
          "data": {
            "text/plain": [
              "0               [\\nCloth, Black\\n]\n",
              "1                [\\nCloth, Grey\\n]\n",
              "2               [\\nCloth, Black\\n]\n",
              "3                              NaN\n",
              "4               [\\nCloth, Black\\n]\n",
              "                   ...            \n",
              "15914                          NaN\n",
              "15915                  [\\nCloth\\n]\n",
              "15916    [\\nFull leather, Black\\n]\n",
              "15917           [\\nPart leather\\n]\n",
              "15918    [\\nFull leather, Brown\\n]\n",
              "Name: Upholstery, Length: 15919, dtype: object"
            ]
          },
          "metadata": {},
          "execution_count": 1027
        }
      ]
    },
    {
      "cell_type": "code",
      "source": [
        "df[\"Upholstery\"].astype(\"str\").value_counts(dropna=False)"
      ],
      "metadata": {
        "id": "kSfMNcBWwpS2",
        "colab": {
          "base_uri": "https://localhost:8080/"
        },
        "outputId": "6602457e-0d81-4bf0-f994-942366eb7236"
      },
      "execution_count": 1028,
      "outputs": [
        {
          "output_type": "execute_result",
          "data": {
            "text/plain": [
              "['\\nCloth, Black\\n']           5821\n",
              "nan                            3720\n",
              "['\\nPart leather, Black\\n']    1121\n",
              "['\\nCloth\\n']                  1005\n",
              "['\\nCloth, Grey\\n']             891\n",
              "['\\nCloth, Other\\n']            639\n",
              "['\\nFull leather, Black\\n']     575\n",
              "['\\nBlack\\n']                   491\n",
              "['\\nGrey\\n']                    273\n",
              "['\\nOther, Other\\n']            182\n",
              "['\\nPart leather\\n']            140\n",
              "['\\nFull leather\\n']            139\n",
              "['\\nFull leather, Brown\\n']     116\n",
              "['\\nPart leather, Grey\\n']      116\n",
              "['\\nOther, Black\\n']            110\n",
              "['\\nFull leather, Other\\n']      72\n",
              "['\\nFull leather, Grey\\n']       67\n",
              "['\\nPart leather, Other\\n']      65\n",
              "['\\nOther\\n']                    56\n",
              "['\\nPart leather, Brown\\n']      50\n",
              "['\\nalcantara, Black\\n']         47\n",
              "['\\nVelour, Black\\n']            36\n",
              "['\\nFull leather, Beige\\n']      36\n",
              "['\\nCloth, Brown\\n']             28\n",
              "['\\nVelour\\n']                   16\n",
              "['\\nOther, Grey\\n']              15\n",
              "['\\nCloth, Beige\\n']             13\n",
              "['\\nBrown\\n']                    12\n",
              "['\\nCloth, Blue\\n']              12\n",
              "['\\nVelour, Grey\\n']              8\n",
              "['\\nCloth, White\\n']              8\n",
              "['\\nalcantara, Grey\\n']           6\n",
              "['\\nCloth, Red\\n']                5\n",
              "['\\nOther, Yellow\\n']             4\n",
              "['\\nPart leather, Red\\n']         3\n",
              "['\\nBeige\\n']                     3\n",
              "['\\nPart leather, White\\n']       2\n",
              "['\\nFull leather, Blue\\n']        2\n",
              "['\\nalcantara, Other\\n']          2\n",
              "['\\nalcantara\\n']                 2\n",
              "['\\nWhite\\n']                     2\n",
              "['\\nPart leather, Beige\\n']       2\n",
              "['\\nBlue\\n']                      2\n",
              "['\\nCloth, Orange\\n']             1\n",
              "['\\nFull leather, Red\\n']         1\n",
              "['\\nOther, Brown\\n']              1\n",
              "['\\nFull leather, White\\n']       1\n",
              "Name: Upholstery, dtype: int64"
            ]
          },
          "metadata": {},
          "execution_count": 1028
        }
      ]
    },
    {
      "cell_type": "code",
      "source": [
        "df[\"Upholstery\"] = [item[0] if type(item) == list else item for item in df.Upholstery]"
      ],
      "metadata": {
        "id": "gPRvK61ywpQT"
      },
      "execution_count": 1029,
      "outputs": []
    },
    {
      "cell_type": "code",
      "source": [
        "df[\"Upholstery\"] = df.Upholstery.str.strip(\"\\n\").str.split(\", \")"
      ],
      "metadata": {
        "id": "JpBGAfGTwpNz"
      },
      "execution_count": 1030,
      "outputs": []
    },
    {
      "cell_type": "code",
      "source": [
        "df[\"Upholstery\"].astype('str').value_counts(dropna=False)"
      ],
      "metadata": {
        "id": "-lKDJSxCwpLM",
        "colab": {
          "base_uri": "https://localhost:8080/"
        },
        "outputId": "128d56db-b091-4baa-fe76-f4f21afcfb54"
      },
      "execution_count": 1031,
      "outputs": [
        {
          "output_type": "execute_result",
          "data": {
            "text/plain": [
              "['Cloth', 'Black']           5821\n",
              "nan                          3720\n",
              "['Part leather', 'Black']    1121\n",
              "['Cloth']                    1005\n",
              "['Cloth', 'Grey']             891\n",
              "['Cloth', 'Other']            639\n",
              "['Full leather', 'Black']     575\n",
              "['Black']                     491\n",
              "['Grey']                      273\n",
              "['Other', 'Other']            182\n",
              "['Part leather']              140\n",
              "['Full leather']              139\n",
              "['Full leather', 'Brown']     116\n",
              "['Part leather', 'Grey']      116\n",
              "['Other', 'Black']            110\n",
              "['Full leather', 'Other']      72\n",
              "['Full leather', 'Grey']       67\n",
              "['Part leather', 'Other']      65\n",
              "['Other']                      56\n",
              "['Part leather', 'Brown']      50\n",
              "['alcantara', 'Black']         47\n",
              "['Velour', 'Black']            36\n",
              "['Full leather', 'Beige']      36\n",
              "['Cloth', 'Brown']             28\n",
              "['Velour']                     16\n",
              "['Other', 'Grey']              15\n",
              "['Cloth', 'Beige']             13\n",
              "['Brown']                      12\n",
              "['Cloth', 'Blue']              12\n",
              "['Velour', 'Grey']              8\n",
              "['Cloth', 'White']              8\n",
              "['alcantara', 'Grey']           6\n",
              "['Cloth', 'Red']                5\n",
              "['Other', 'Yellow']             4\n",
              "['Part leather', 'Red']         3\n",
              "['Beige']                       3\n",
              "['Part leather', 'White']       2\n",
              "['Full leather', 'Blue']        2\n",
              "['alcantara', 'Other']          2\n",
              "['alcantara']                   2\n",
              "['White']                       2\n",
              "['Part leather', 'Beige']       2\n",
              "['Blue']                        2\n",
              "['Cloth', 'Orange']             1\n",
              "['Full leather', 'Red']         1\n",
              "['Other', 'Brown']              1\n",
              "['Full leather', 'White']       1\n",
              "Name: Upholstery, dtype: int64"
            ]
          },
          "metadata": {},
          "execution_count": 1031
        }
      ]
    },
    {
      "cell_type": "code",
      "source": [
        "u_type = [\"Cloth\", 'Part leather', 'Full leather', 'Velour', 'alcantara']\n",
        "\n",
        "df[\"Upholstery_type\"] = df[\"Upholstery\"].apply(lambda x : x[0] if type(x) == list and x[0] in u_type else np.nan)"
      ],
      "metadata": {
        "id": "GIT5Z2bdwpIt"
      },
      "execution_count": 1032,
      "outputs": []
    },
    {
      "cell_type": "code",
      "source": [
        "df[\"Upholstery_type\"].value_counts(dropna=False)"
      ],
      "metadata": {
        "id": "zyaB5kZ7wpGG",
        "colab": {
          "base_uri": "https://localhost:8080/"
        },
        "outputId": "dfc8fd6d-7da0-4042-e270-10d159714eb9"
      },
      "execution_count": 1033,
      "outputs": [
        {
          "output_type": "execute_result",
          "data": {
            "text/plain": [
              "Cloth           8423\n",
              "NaN             4871\n",
              "Part leather    1499\n",
              "Full leather    1009\n",
              "Velour            60\n",
              "alcantara         57\n",
              "Name: Upholstery_type, dtype: int64"
            ]
          },
          "metadata": {},
          "execution_count": 1033
        }
      ]
    },
    {
      "cell_type": "code",
      "source": [
        "color = ['Black', 'Grey', 'Brown', 'Beige', 'White', 'Blue', 'Red', 'Yellow', 'Orange']\n",
        "\n",
        "def color_finder(x):\n",
        "    if type(x) == list and len(x) == 2:\n",
        "        return x[1]\n",
        "    elif type(x) == list and x[0] in color:\n",
        "        return x[0]\n",
        "    else:\n",
        "        return np.nan\n",
        "    \n",
        "df['Upholstery_color'] = df.Upholstery.apply(color_finder)"
      ],
      "metadata": {
        "id": "u4TpXhfQwpDT"
      },
      "execution_count": 1034,
      "outputs": []
    },
    {
      "cell_type": "code",
      "source": [
        "df[\"Upholstery_color\"].value_counts(dropna=False)"
      ],
      "metadata": {
        "colab": {
          "base_uri": "https://localhost:8080/"
        },
        "id": "l0gIbkkW7y4S",
        "outputId": "92c045e5-b4b6-4b4c-b63a-a2524f754def"
      },
      "execution_count": 1035,
      "outputs": [
        {
          "output_type": "execute_result",
          "data": {
            "text/plain": [
              "Black     8201\n",
              "NaN       5078\n",
              "Grey      1376\n",
              "Other      960\n",
              "Brown      207\n",
              "Beige       54\n",
              "Blue        16\n",
              "White       13\n",
              "Red          9\n",
              "Yellow       4\n",
              "Orange       1\n",
              "Name: Upholstery_color, dtype: int64"
            ]
          },
          "metadata": {},
          "execution_count": 1035
        }
      ]
    },
    {
      "cell_type": "code",
      "source": [
        "#I decided to split Upholstery two parts (color and cloth) and drop the original Upholstery\n",
        "df.drop([\"Upholstery_1\",\"Upholstery\"], axis=1, inplace=True)"
      ],
      "metadata": {
        "id": "v2TiTdZDx-jJ"
      },
      "execution_count": 1036,
      "outputs": []
    },
    {
      "cell_type": "code",
      "source": [
        "df.info()"
      ],
      "metadata": {
        "colab": {
          "base_uri": "https://localhost:8080/"
        },
        "id": "06LwSp0YyWje",
        "outputId": "25c1d017-80f9-4db4-9afc-c13fc7e99d27"
      },
      "execution_count": 1037,
      "outputs": [
        {
          "output_type": "stream",
          "name": "stdout",
          "text": [
            "<class 'pandas.core.frame.DataFrame'>\n",
            "RangeIndex: 15919 entries, 0 to 15918\n",
            "Data columns (total 33 columns):\n",
            " #   Column                 Non-Null Count  Dtype  \n",
            "---  ------                 --------------  -----  \n",
            " 0   Make_Model             15919 non-null  object \n",
            " 1   Body_Type              15859 non-null  object \n",
            " 2   Price                  15919 non-null  int64  \n",
            " 3   Vat                    11406 non-null  object \n",
            " 4   Km                     14895 non-null  float64\n",
            " 5   Previous_Owners        9279 non-null   float64\n",
            " 6   Inspection_new         3932 non-null   object \n",
            " 7   Warranty               4853 non-null   float64\n",
            " 8   Paint_Type             10147 non-null  object \n",
            " 9   Nr_of_Doors            15707 non-null  object \n",
            " 10  Nr_of_Seats            14942 non-null  object \n",
            " 11  Model_Code             4978 non-null   object \n",
            " 12  Gearing_Type           15919 non-null  object \n",
            " 13  Displacement           15423 non-null  object \n",
            " 14  Cylinders              10239 non-null  object \n",
            " 15  Weight                 8945 non-null   object \n",
            " 16  Drive_Chain            9061 non-null   object \n",
            " 17  Fuel                   15919 non-null  object \n",
            " 18  Consumption            14013 non-null  object \n",
            " 19  Co_2_Emission          14111 non-null  object \n",
            " 20  Emission_Class         12898 non-null  object \n",
            " 21  Comfort_&_Convenience  14999 non-null  object \n",
            " 22  Entertainment_&_Media  14545 non-null  object \n",
            " 23  Extras                 12957 non-null  object \n",
            " 24  Safety_&_Security      14937 non-null  object \n",
            " 25  Emission_Label         3985 non-null   object \n",
            " 26  Gears                  11207 non-null  object \n",
            " 27  Country_Version        7586 non-null   object \n",
            " 28  Age                    14322 non-null  float64\n",
            " 29  hp_kW                  15831 non-null  float64\n",
            " 30  Type                   15917 non-null  object \n",
            " 31  Upholstery_type        11048 non-null  object \n",
            " 32  Upholstery_color       10841 non-null  object \n",
            "dtypes: float64(5), int64(1), object(27)\n",
            "memory usage: 4.0+ MB\n"
          ]
        }
      ]
    },
    {
      "cell_type": "markdown",
      "source": [
        "## Nr_of_Doors & Nr_of_Seats"
      ],
      "metadata": {
        "id": "uYQR7_vuyT8f"
      }
    },
    {
      "cell_type": "code",
      "source": [
        "df[\"Nr_of_Doors_1\"]=df[\"Nr_of_Doors\"]\n",
        "df[\"Nr_of_Seats_1\"]=df[\"Nr_of_Seats\"]"
      ],
      "metadata": {
        "id": "MxCvZGPmyThj"
      },
      "execution_count": 1038,
      "outputs": []
    },
    {
      "cell_type": "code",
      "source": [
        "df[\"Nr_of_Doors\"]"
      ],
      "metadata": {
        "colab": {
          "base_uri": "https://localhost:8080/"
        },
        "id": "HiXA3D_-x-gT",
        "outputId": "5e1ab657-35f0-4942-80ca-3ba6e32ba114"
      },
      "execution_count": 1039,
      "outputs": [
        {
          "output_type": "execute_result",
          "data": {
            "text/plain": [
              "0        [\\n5\\n]\n",
              "1        [\\n3\\n]\n",
              "2        [\\n4\\n]\n",
              "3        [\\n3\\n]\n",
              "4        [\\n5\\n]\n",
              "          ...   \n",
              "15914    [\\n5\\n]\n",
              "15915    [\\n5\\n]\n",
              "15916    [\\n5\\n]\n",
              "15917    [\\n5\\n]\n",
              "15918    [\\n5\\n]\n",
              "Name: Nr_of_Doors, Length: 15919, dtype: object"
            ]
          },
          "metadata": {},
          "execution_count": 1039
        }
      ]
    },
    {
      "cell_type": "code",
      "source": [
        "df[\"Nr_of_Doors\"].astype('str').value_counts(dropna=False)"
      ],
      "metadata": {
        "colab": {
          "base_uri": "https://localhost:8080/"
        },
        "id": "43peiofcx-dy",
        "outputId": "4e095fa0-af69-438a-fa0c-aa8e124a1297"
      },
      "execution_count": 1040,
      "outputs": [
        {
          "output_type": "execute_result",
          "data": {
            "text/plain": [
              "['\\n5\\n']    11575\n",
              "['\\n4\\n']     3079\n",
              "['\\n3\\n']      832\n",
              "['\\n2\\n']      219\n",
              "nan            212\n",
              "['\\n1\\n']        1\n",
              "['\\n7\\n']        1\n",
              "Name: Nr_of_Doors, dtype: int64"
            ]
          },
          "metadata": {},
          "execution_count": 1040
        }
      ]
    },
    {
      "cell_type": "code",
      "source": [
        "df[\"Nr_of_Doors\"] = df[\"Nr_of_Doors\"].str[0].str.strip('\\n').astype('float')"
      ],
      "metadata": {
        "id": "k0cF7d24x-bB"
      },
      "execution_count": 1041,
      "outputs": []
    },
    {
      "cell_type": "code",
      "source": [
        "df[\"Nr_of_Doors\"].value_counts(dropna=False)"
      ],
      "metadata": {
        "colab": {
          "base_uri": "https://localhost:8080/"
        },
        "id": "WgDU9x51x-Yi",
        "outputId": "0fcb46e9-707e-475b-fcf3-35a43f2e7010"
      },
      "execution_count": 1042,
      "outputs": [
        {
          "output_type": "execute_result",
          "data": {
            "text/plain": [
              "5.00    11575\n",
              "4.00     3079\n",
              "3.00      832\n",
              "2.00      219\n",
              "NaN       212\n",
              "1.00        1\n",
              "7.00        1\n",
              "Name: Nr_of_Doors, dtype: int64"
            ]
          },
          "metadata": {},
          "execution_count": 1042
        }
      ]
    },
    {
      "cell_type": "code",
      "source": [
        "df[\"Nr_of_Seats\"]"
      ],
      "metadata": {
        "colab": {
          "base_uri": "https://localhost:8080/"
        },
        "id": "kNo1xJW-x-Vx",
        "outputId": "a6ecc5b4-c727-4800-9d93-59898291e800"
      },
      "execution_count": 1043,
      "outputs": [
        {
          "output_type": "execute_result",
          "data": {
            "text/plain": [
              "0        [\\n5\\n]\n",
              "1        [\\n4\\n]\n",
              "2        [\\n4\\n]\n",
              "3        [\\n4\\n]\n",
              "4        [\\n5\\n]\n",
              "          ...   \n",
              "15914    [\\n5\\n]\n",
              "15915    [\\n5\\n]\n",
              "15916    [\\n7\\n]\n",
              "15917    [\\n7\\n]\n",
              "15918    [\\n5\\n]\n",
              "Name: Nr_of_Seats, Length: 15919, dtype: object"
            ]
          },
          "metadata": {},
          "execution_count": 1043
        }
      ]
    },
    {
      "cell_type": "code",
      "source": [
        "df[\"Nr_of_Seats\"].astype('str').value_counts(dropna=False)"
      ],
      "metadata": {
        "colab": {
          "base_uri": "https://localhost:8080/"
        },
        "id": "d9alilmN1A1L",
        "outputId": "9d8833e2-d622-425e-91c3-21aaa685ade1"
      },
      "execution_count": 1044,
      "outputs": [
        {
          "output_type": "execute_result",
          "data": {
            "text/plain": [
              "['\\n5\\n']    13336\n",
              "['\\n4\\n']     1125\n",
              "nan            977\n",
              "['\\n7\\n']      362\n",
              "['\\n2\\n']      116\n",
              "['\\n6\\n']        2\n",
              "['\\n3\\n']        1\n",
              "Name: Nr_of_Seats, dtype: int64"
            ]
          },
          "metadata": {},
          "execution_count": 1044
        }
      ]
    },
    {
      "cell_type": "code",
      "source": [
        "df['Nr_of_Seats'].str[0].str.strip('\\n').astype('float')"
      ],
      "metadata": {
        "colab": {
          "base_uri": "https://localhost:8080/"
        },
        "id": "DqX2NWVL9pGn",
        "outputId": "a4276652-c6a6-483d-b1a0-a1e4b9036e5f"
      },
      "execution_count": 1045,
      "outputs": [
        {
          "output_type": "execute_result",
          "data": {
            "text/plain": [
              "0       5.00\n",
              "1       4.00\n",
              "2       4.00\n",
              "3       4.00\n",
              "4       5.00\n",
              "        ... \n",
              "15914   5.00\n",
              "15915   5.00\n",
              "15916   7.00\n",
              "15917   7.00\n",
              "15918   5.00\n",
              "Name: Nr_of_Seats, Length: 15919, dtype: float64"
            ]
          },
          "metadata": {},
          "execution_count": 1045
        }
      ]
    },
    {
      "cell_type": "code",
      "source": [
        "df['Nr_of_Seats'] = df['Nr_of_Seats'].str[0].str.strip('\\n').astype('float')"
      ],
      "metadata": {
        "id": "wLo7NsAK1Ayu"
      },
      "execution_count": 1046,
      "outputs": []
    },
    {
      "cell_type": "code",
      "source": [
        "df[\"Nr_of_Seats\"].value_counts(dropna=False)"
      ],
      "metadata": {
        "colab": {
          "base_uri": "https://localhost:8080/"
        },
        "id": "_ev4g6xO1AwR",
        "outputId": "d0e41d5f-d1dd-440d-8832-f886de7d2309"
      },
      "execution_count": 1047,
      "outputs": [
        {
          "output_type": "execute_result",
          "data": {
            "text/plain": [
              "5.00    13336\n",
              "4.00     1125\n",
              "NaN       977\n",
              "7.00      362\n",
              "2.00      116\n",
              "6.00        2\n",
              "3.00        1\n",
              "Name: Nr_of_Seats, dtype: int64"
            ]
          },
          "metadata": {},
          "execution_count": 1047
        }
      ]
    },
    {
      "cell_type": "code",
      "source": [
        "df.drop([\"Nr_of_Doors_1\",\"Nr_of_Seats_1\"],axis=1, inplace=True)\n"
      ],
      "metadata": {
        "id": "fHAkawE41Atk"
      },
      "execution_count": 1048,
      "outputs": []
    },
    {
      "cell_type": "code",
      "source": [
        "df.info()"
      ],
      "metadata": {
        "colab": {
          "base_uri": "https://localhost:8080/"
        },
        "id": "3buJcHWZ1AnG",
        "outputId": "0b37029f-9397-445c-955d-5ddbbe28b45e"
      },
      "execution_count": 1049,
      "outputs": [
        {
          "output_type": "stream",
          "name": "stdout",
          "text": [
            "<class 'pandas.core.frame.DataFrame'>\n",
            "RangeIndex: 15919 entries, 0 to 15918\n",
            "Data columns (total 33 columns):\n",
            " #   Column                 Non-Null Count  Dtype  \n",
            "---  ------                 --------------  -----  \n",
            " 0   Make_Model             15919 non-null  object \n",
            " 1   Body_Type              15859 non-null  object \n",
            " 2   Price                  15919 non-null  int64  \n",
            " 3   Vat                    11406 non-null  object \n",
            " 4   Km                     14895 non-null  float64\n",
            " 5   Previous_Owners        9279 non-null   float64\n",
            " 6   Inspection_new         3932 non-null   object \n",
            " 7   Warranty               4853 non-null   float64\n",
            " 8   Paint_Type             10147 non-null  object \n",
            " 9   Nr_of_Doors            15707 non-null  float64\n",
            " 10  Nr_of_Seats            14942 non-null  float64\n",
            " 11  Model_Code             4978 non-null   object \n",
            " 12  Gearing_Type           15919 non-null  object \n",
            " 13  Displacement           15423 non-null  object \n",
            " 14  Cylinders              10239 non-null  object \n",
            " 15  Weight                 8945 non-null   object \n",
            " 16  Drive_Chain            9061 non-null   object \n",
            " 17  Fuel                   15919 non-null  object \n",
            " 18  Consumption            14013 non-null  object \n",
            " 19  Co_2_Emission          14111 non-null  object \n",
            " 20  Emission_Class         12898 non-null  object \n",
            " 21  Comfort_&_Convenience  14999 non-null  object \n",
            " 22  Entertainment_&_Media  14545 non-null  object \n",
            " 23  Extras                 12957 non-null  object \n",
            " 24  Safety_&_Security      14937 non-null  object \n",
            " 25  Emission_Label         3985 non-null   object \n",
            " 26  Gears                  11207 non-null  object \n",
            " 27  Country_Version        7586 non-null   object \n",
            " 28  Age                    14322 non-null  float64\n",
            " 29  hp_kW                  15831 non-null  float64\n",
            " 30  Type                   15917 non-null  object \n",
            " 31  Upholstery_type        11048 non-null  object \n",
            " 32  Upholstery_color       10841 non-null  object \n",
            "dtypes: float64(7), int64(1), object(25)\n",
            "memory usage: 4.0+ MB\n"
          ]
        }
      ]
    },
    {
      "cell_type": "markdown",
      "source": [
        "## Model_Code"
      ],
      "metadata": {
        "id": "C8wjdw691n4C"
      }
    },
    {
      "cell_type": "code",
      "source": [
        "df[\"Model_Code_1\"]=df[\"Model_Code\"]"
      ],
      "metadata": {
        "id": "btaU7UxX-XIk"
      },
      "execution_count": 1050,
      "outputs": []
    },
    {
      "cell_type": "code",
      "source": [
        "df[\"Model_Code\"]"
      ],
      "metadata": {
        "colab": {
          "base_uri": "https://localhost:8080/"
        },
        "id": "QIMipd-Tx-TS",
        "outputId": "aebc65ac-b0ed-4e6c-e90c-dfc358689e90"
      },
      "execution_count": 1051,
      "outputs": [
        {
          "output_type": "execute_result",
          "data": {
            "text/plain": [
              "0        [\\n0588/BDF\\n]\n",
              "1        [\\n0588/BCY\\n]\n",
              "2                   NaN\n",
              "3                   NaN\n",
              "4        [\\n0588/BDF\\n]\n",
              "              ...      \n",
              "15914               NaN\n",
              "15915    [\\n0000/000\\n]\n",
              "15916               NaN\n",
              "15917               NaN\n",
              "15918    [\\n3333/BHJ\\n]\n",
              "Name: Model_Code, Length: 15919, dtype: object"
            ]
          },
          "metadata": {},
          "execution_count": 1051
        }
      ]
    },
    {
      "cell_type": "code",
      "source": [
        "df[\"Model_Code\"].astype('str').value_counts(dropna=False)"
      ],
      "metadata": {
        "colab": {
          "base_uri": "https://localhost:8080/"
        },
        "id": "T8LIIoIe1Wwu",
        "outputId": "9b5e9f56-923a-4c04-d3c3-1398b226f309"
      },
      "execution_count": 1052,
      "outputs": [
        {
          "output_type": "execute_result",
          "data": {
            "text/plain": [
              "nan                 10941\n",
              "['\\n0035/BCB\\n']      268\n",
              "['\\n0588/BNO\\n']      245\n",
              "['\\n0588/BDB\\n']      206\n",
              "['\\n0588/BHX\\n']      188\n",
              "                    ...  \n",
              "['\\n0035/AVN\\n']        1\n",
              "['\\n0035/BEM\\n']        1\n",
              "['\\n0035/BAG\\n']        1\n",
              "['\\n0035/BAA\\n']        1\n",
              "['\\n3333/BKG\\n']        1\n",
              "Name: Model_Code, Length: 233, dtype: int64"
            ]
          },
          "metadata": {},
          "execution_count": 1052
        }
      ]
    },
    {
      "cell_type": "code",
      "source": [
        "df['Model_Code'].str[0].str.strip('\\n').astype('str')"
      ],
      "metadata": {
        "colab": {
          "base_uri": "https://localhost:8080/"
        },
        "id": "fSg8YUUIx-Qi",
        "outputId": "e9a5adca-824c-4756-9ed2-badfe4b7602b"
      },
      "execution_count": 1053,
      "outputs": [
        {
          "output_type": "execute_result",
          "data": {
            "text/plain": [
              "0        0588/BDF\n",
              "1        0588/BCY\n",
              "2             nan\n",
              "3             nan\n",
              "4        0588/BDF\n",
              "           ...   \n",
              "15914         nan\n",
              "15915    0000/000\n",
              "15916         nan\n",
              "15917         nan\n",
              "15918    3333/BHJ\n",
              "Name: Model_Code, Length: 15919, dtype: object"
            ]
          },
          "metadata": {},
          "execution_count": 1053
        }
      ]
    },
    {
      "cell_type": "code",
      "source": [
        "df.drop([\"Model_Code\", \"Model_Code_1\"], axis=1, inplace=True)"
      ],
      "metadata": {
        "id": "mS3vfOaKx-Nz"
      },
      "execution_count": 1054,
      "outputs": []
    },
    {
      "cell_type": "code",
      "source": [
        "df.info()"
      ],
      "metadata": {
        "colab": {
          "base_uri": "https://localhost:8080/"
        },
        "id": "JrE7UU2L_ti-",
        "outputId": "2535d681-9b5b-42f6-c55e-b139332ba093"
      },
      "execution_count": 1055,
      "outputs": [
        {
          "output_type": "stream",
          "name": "stdout",
          "text": [
            "<class 'pandas.core.frame.DataFrame'>\n",
            "RangeIndex: 15919 entries, 0 to 15918\n",
            "Data columns (total 32 columns):\n",
            " #   Column                 Non-Null Count  Dtype  \n",
            "---  ------                 --------------  -----  \n",
            " 0   Make_Model             15919 non-null  object \n",
            " 1   Body_Type              15859 non-null  object \n",
            " 2   Price                  15919 non-null  int64  \n",
            " 3   Vat                    11406 non-null  object \n",
            " 4   Km                     14895 non-null  float64\n",
            " 5   Previous_Owners        9279 non-null   float64\n",
            " 6   Inspection_new         3932 non-null   object \n",
            " 7   Warranty               4853 non-null   float64\n",
            " 8   Paint_Type             10147 non-null  object \n",
            " 9   Nr_of_Doors            15707 non-null  float64\n",
            " 10  Nr_of_Seats            14942 non-null  float64\n",
            " 11  Gearing_Type           15919 non-null  object \n",
            " 12  Displacement           15423 non-null  object \n",
            " 13  Cylinders              10239 non-null  object \n",
            " 14  Weight                 8945 non-null   object \n",
            " 15  Drive_Chain            9061 non-null   object \n",
            " 16  Fuel                   15919 non-null  object \n",
            " 17  Consumption            14013 non-null  object \n",
            " 18  Co_2_Emission          14111 non-null  object \n",
            " 19  Emission_Class         12898 non-null  object \n",
            " 20  Comfort_&_Convenience  14999 non-null  object \n",
            " 21  Entertainment_&_Media  14545 non-null  object \n",
            " 22  Extras                 12957 non-null  object \n",
            " 23  Safety_&_Security      14937 non-null  object \n",
            " 24  Emission_Label         3985 non-null   object \n",
            " 25  Gears                  11207 non-null  object \n",
            " 26  Country_Version        7586 non-null   object \n",
            " 27  Age                    14322 non-null  float64\n",
            " 28  hp_kW                  15831 non-null  float64\n",
            " 29  Type                   15917 non-null  object \n",
            " 30  Upholstery_type        11048 non-null  object \n",
            " 31  Upholstery_color       10841 non-null  object \n",
            "dtypes: float64(7), int64(1), object(24)\n",
            "memory usage: 3.9+ MB\n"
          ]
        }
      ]
    },
    {
      "cell_type": "markdown",
      "source": [
        "## Gearing Type"
      ],
      "metadata": {
        "id": "46DQtEsG_5ym"
      }
    },
    {
      "cell_type": "code",
      "source": [
        "df[\"Gearing_Type_1\"]=df[\"Gearing_Type\"]"
      ],
      "metadata": {
        "id": "b00XYoYh_tgQ"
      },
      "execution_count": 1056,
      "outputs": []
    },
    {
      "cell_type": "code",
      "source": [
        "df[\"Gearing_Type\"]"
      ],
      "metadata": {
        "colab": {
          "base_uri": "https://localhost:8080/"
        },
        "id": "V64ZiKYY_tdL",
        "outputId": "682f608e-d1d6-4ecb-9cfb-47e6930b2d25"
      },
      "execution_count": 1057,
      "outputs": [
        {
          "output_type": "execute_result",
          "data": {
            "text/plain": [
              "0        [\\n, Automatic, \\n]\n",
              "1        [\\n, Automatic, \\n]\n",
              "2        [\\n, Automatic, \\n]\n",
              "3        [\\n, Automatic, \\n]\n",
              "4        [\\n, Automatic, \\n]\n",
              "                ...         \n",
              "15914    [\\n, Automatic, \\n]\n",
              "15915    [\\n, Automatic, \\n]\n",
              "15916    [\\n, Automatic, \\n]\n",
              "15917    [\\n, Automatic, \\n]\n",
              "15918    [\\n, Automatic, \\n]\n",
              "Name: Gearing_Type, Length: 15919, dtype: object"
            ]
          },
          "metadata": {},
          "execution_count": 1057
        }
      ]
    },
    {
      "cell_type": "code",
      "source": [
        "df.Gearing_Type.value_counts(dropna=False)"
      ],
      "metadata": {
        "colab": {
          "base_uri": "https://localhost:8080/",
          "height": 324
        },
        "id": "O1Vu9pVl_taB",
        "outputId": "6b1ed91e-864e-4745-b09e-5b71e4fb692a"
      },
      "execution_count": 1058,
      "outputs": [
        {
          "output_type": "error",
          "ename": "TypeError",
          "evalue": "ignored",
          "traceback": [
            "\u001b[0;31m---------------------------------------------------------------------------\u001b[0m",
            "\u001b[0;31mTypeError\u001b[0m                                 Traceback (most recent call last)",
            "\u001b[0;32mpandas/_libs/hashtable_class_helper.pxi\u001b[0m in \u001b[0;36mpandas._libs.hashtable.PyObjectHashTable.map_locations\u001b[0;34m()\u001b[0m\n",
            "\u001b[0;31mTypeError\u001b[0m: unhashable type: 'list'"
          ]
        },
        {
          "output_type": "stream",
          "name": "stderr",
          "text": [
            "Exception ignored in: 'pandas._libs.index.IndexEngine._call_map_locations'\n",
            "Traceback (most recent call last):\n",
            "  File \"pandas/_libs/hashtable_class_helper.pxi\", line 5231, in pandas._libs.hashtable.PyObjectHashTable.map_locations\n",
            "TypeError: unhashable type: 'list'\n"
          ]
        },
        {
          "output_type": "execute_result",
          "data": {
            "text/plain": [
              "[\\n, Manual, \\n]            8153\n",
              "[\\n, Automatic, \\n]         7297\n",
              "[\\n, Semi-automatic, \\n]     469\n",
              "Name: Gearing_Type, dtype: int64"
            ]
          },
          "metadata": {},
          "execution_count": 1058
        }
      ]
    },
    {
      "cell_type": "code",
      "source": [
        "df[\"Gearing_Type\"].str[1].str.strip('\\n').astype('str').value_counts()"
      ],
      "metadata": {
        "colab": {
          "base_uri": "https://localhost:8080/"
        },
        "id": "JhWO4R5f_tXV",
        "outputId": "ac798af5-d01b-457c-cddc-4f111246180e"
      },
      "execution_count": 1059,
      "outputs": [
        {
          "output_type": "execute_result",
          "data": {
            "text/plain": [
              "Manual            8153\n",
              "Automatic         7297\n",
              "Semi-automatic     469\n",
              "Name: Gearing_Type, dtype: int64"
            ]
          },
          "metadata": {},
          "execution_count": 1059
        }
      ]
    },
    {
      "cell_type": "code",
      "source": [
        "df.drop([\"Gearing_Type_1\"], axis=1, inplace=True)"
      ],
      "metadata": {
        "id": "axMXYpCT_tUb"
      },
      "execution_count": 1060,
      "outputs": []
    },
    {
      "cell_type": "code",
      "source": [
        "df.info()"
      ],
      "metadata": {
        "colab": {
          "base_uri": "https://localhost:8080/"
        },
        "id": "4YZq7phH_tRL",
        "outputId": "e1c1e7b0-2b29-4c53-d8e0-883c8d14e4e9"
      },
      "execution_count": 1061,
      "outputs": [
        {
          "output_type": "stream",
          "name": "stdout",
          "text": [
            "<class 'pandas.core.frame.DataFrame'>\n",
            "RangeIndex: 15919 entries, 0 to 15918\n",
            "Data columns (total 32 columns):\n",
            " #   Column                 Non-Null Count  Dtype  \n",
            "---  ------                 --------------  -----  \n",
            " 0   Make_Model             15919 non-null  object \n",
            " 1   Body_Type              15859 non-null  object \n",
            " 2   Price                  15919 non-null  int64  \n",
            " 3   Vat                    11406 non-null  object \n",
            " 4   Km                     14895 non-null  float64\n",
            " 5   Previous_Owners        9279 non-null   float64\n",
            " 6   Inspection_new         3932 non-null   object \n",
            " 7   Warranty               4853 non-null   float64\n",
            " 8   Paint_Type             10147 non-null  object \n",
            " 9   Nr_of_Doors            15707 non-null  float64\n",
            " 10  Nr_of_Seats            14942 non-null  float64\n",
            " 11  Gearing_Type           15919 non-null  object \n",
            " 12  Displacement           15423 non-null  object \n",
            " 13  Cylinders              10239 non-null  object \n",
            " 14  Weight                 8945 non-null   object \n",
            " 15  Drive_Chain            9061 non-null   object \n",
            " 16  Fuel                   15919 non-null  object \n",
            " 17  Consumption            14013 non-null  object \n",
            " 18  Co_2_Emission          14111 non-null  object \n",
            " 19  Emission_Class         12898 non-null  object \n",
            " 20  Comfort_&_Convenience  14999 non-null  object \n",
            " 21  Entertainment_&_Media  14545 non-null  object \n",
            " 22  Extras                 12957 non-null  object \n",
            " 23  Safety_&_Security      14937 non-null  object \n",
            " 24  Emission_Label         3985 non-null   object \n",
            " 25  Gears                  11207 non-null  object \n",
            " 26  Country_Version        7586 non-null   object \n",
            " 27  Age                    14322 non-null  float64\n",
            " 28  hp_kW                  15831 non-null  float64\n",
            " 29  Type                   15917 non-null  object \n",
            " 30  Upholstery_type        11048 non-null  object \n",
            " 31  Upholstery_color       10841 non-null  object \n",
            "dtypes: float64(7), int64(1), object(24)\n",
            "memory usage: 3.9+ MB\n"
          ]
        }
      ]
    },
    {
      "cell_type": "markdown",
      "source": [
        "## Displacement"
      ],
      "metadata": {
        "id": "z36HGVDtBJUS"
      }
    },
    {
      "cell_type": "code",
      "source": [
        "df[\"Displacement_1\"]=df[\"Displacement\"]"
      ],
      "metadata": {
        "id": "ffWiOKCJ_tOE"
      },
      "execution_count": 1062,
      "outputs": []
    },
    {
      "cell_type": "code",
      "source": [
        "df[\"Displacement\"]"
      ],
      "metadata": {
        "colab": {
          "base_uri": "https://localhost:8080/"
        },
        "id": "42ni9aGy_tLo",
        "outputId": "cab5f069-904d-4c90-a4b3-dc6c58787d3f"
      },
      "execution_count": 1063,
      "outputs": [
        {
          "output_type": "execute_result",
          "data": {
            "text/plain": [
              "0        [\\n1,422 cc\\n]\n",
              "1        [\\n1,798 cc\\n]\n",
              "2        [\\n1,598 cc\\n]\n",
              "3        [\\n1,422 cc\\n]\n",
              "4        [\\n1,422 cc\\n]\n",
              "              ...      \n",
              "15914    [\\n1,997 cc\\n]\n",
              "15915    [\\n1,798 cc\\n]\n",
              "15916    [\\n1,997 cc\\n]\n",
              "15917    [\\n1,997 cc\\n]\n",
              "15918    [\\n1,798 cc\\n]\n",
              "Name: Displacement, Length: 15919, dtype: object"
            ]
          },
          "metadata": {},
          "execution_count": 1063
        }
      ]
    },
    {
      "cell_type": "code",
      "source": [
        "df.Displacement.str[0].str.strip('\\n').str.replace(',', '').str.extract('(\\d{1,4})').astype(\"float\").value_counts()"
      ],
      "metadata": {
        "colab": {
          "base_uri": "https://localhost:8080/"
        },
        "id": "hYn6Td6xCemi",
        "outputId": "237d3300-244b-4fc6-c249-ab0dc80b7325"
      },
      "execution_count": 1064,
      "outputs": [
        {
          "output_type": "execute_result",
          "data": {
            "text/plain": [
              "1598.00    4761\n",
              "999.00     2438\n",
              "1398.00    1314\n",
              "1399.00     749\n",
              "1229.00     677\n",
              "1956.00     670\n",
              "1461.00     595\n",
              "1490.00     559\n",
              "1422.00     467\n",
              "1197.00     353\n",
              "898.00      351\n",
              "1395.00     320\n",
              "1968.00     301\n",
              "1149.00     288\n",
              "1618.00     212\n",
              "1798.00     210\n",
              "1498.00     196\n",
              "1600.00     131\n",
              "1248.00     110\n",
              "1997.00     103\n",
              "1364.00     102\n",
              "1400.00      90\n",
              "998.00       72\n",
              "1500.00      50\n",
              "2000.00      46\n",
              "1000.00      40\n",
              "1.00         36\n",
              "1998.00      25\n",
              "2480.00      20\n",
              "1984.00      18\n",
              "1200.00      18\n",
              "899.00       11\n",
              "1397.00      11\n",
              "160.00        6\n",
              "929.00        5\n",
              "1499.00       5\n",
              "1596.00       4\n",
              "997.00        4\n",
              "139.00        4\n",
              "900.00        4\n",
              "1589.00       3\n",
              "1599.00       3\n",
              "1396.00       3\n",
              "1199.00       3\n",
              "2.00          2\n",
              "995.00        2\n",
              "1495.00       2\n",
              "1300.00       2\n",
              "1800.00       1\n",
              "1856.00       1\n",
              "1896.00       1\n",
              "996.00        1\n",
              "973.00        1\n",
              "1696.00       1\n",
              "1995.00       1\n",
              "890.00        1\n",
              "140.00        1\n",
              "122.00        1\n",
              "54.00         1\n",
              "1100.00       1\n",
              "1195.00       1\n",
              "1686.00       1\n",
              "1390.00       1\n",
              "1198.00       1\n",
              "1239.00       1\n",
              "1333.00       1\n",
              "1584.00       1\n",
              "1580.00       1\n",
              "1568.00       1\n",
              "1533.00       1\n",
              "1350.00       1\n",
              "1368.00       1\n",
              "1369.00       1\n",
              "1496.00       1\n",
              "2967.00       1\n",
              "dtype: int64"
            ]
          },
          "metadata": {},
          "execution_count": 1064
        }
      ]
    },
    {
      "cell_type": "code",
      "source": [
        "df.Displacement.str[0].str.strip('\\n').str.replace(',', ''). str.extract('(\\d+)').astype(\"float\")"
      ],
      "metadata": {
        "colab": {
          "base_uri": "https://localhost:8080/",
          "height": 424
        },
        "id": "Am7BQzQiCGHj",
        "outputId": "6b4fa05c-74ba-43cd-d099-13286b49d650"
      },
      "execution_count": 1065,
      "outputs": [
        {
          "output_type": "execute_result",
          "data": {
            "text/plain": [
              "            0\n",
              "0     1422.00\n",
              "1     1798.00\n",
              "2     1598.00\n",
              "3     1422.00\n",
              "4     1422.00\n",
              "...       ...\n",
              "15914 1997.00\n",
              "15915 1798.00\n",
              "15916 1997.00\n",
              "15917 1997.00\n",
              "15918 1798.00\n",
              "\n",
              "[15919 rows x 1 columns]"
            ],
            "text/html": [
              "\n",
              "  <div id=\"df-9210f776-0487-488a-8c38-decdf21c78ee\">\n",
              "    <div class=\"colab-df-container\">\n",
              "      <div>\n",
              "<style scoped>\n",
              "    .dataframe tbody tr th:only-of-type {\n",
              "        vertical-align: middle;\n",
              "    }\n",
              "\n",
              "    .dataframe tbody tr th {\n",
              "        vertical-align: top;\n",
              "    }\n",
              "\n",
              "    .dataframe thead th {\n",
              "        text-align: right;\n",
              "    }\n",
              "</style>\n",
              "<table border=\"1\" class=\"dataframe\">\n",
              "  <thead>\n",
              "    <tr style=\"text-align: right;\">\n",
              "      <th></th>\n",
              "      <th>0</th>\n",
              "    </tr>\n",
              "  </thead>\n",
              "  <tbody>\n",
              "    <tr>\n",
              "      <th>0</th>\n",
              "      <td>1422.00</td>\n",
              "    </tr>\n",
              "    <tr>\n",
              "      <th>1</th>\n",
              "      <td>1798.00</td>\n",
              "    </tr>\n",
              "    <tr>\n",
              "      <th>2</th>\n",
              "      <td>1598.00</td>\n",
              "    </tr>\n",
              "    <tr>\n",
              "      <th>3</th>\n",
              "      <td>1422.00</td>\n",
              "    </tr>\n",
              "    <tr>\n",
              "      <th>4</th>\n",
              "      <td>1422.00</td>\n",
              "    </tr>\n",
              "    <tr>\n",
              "      <th>...</th>\n",
              "      <td>...</td>\n",
              "    </tr>\n",
              "    <tr>\n",
              "      <th>15914</th>\n",
              "      <td>1997.00</td>\n",
              "    </tr>\n",
              "    <tr>\n",
              "      <th>15915</th>\n",
              "      <td>1798.00</td>\n",
              "    </tr>\n",
              "    <tr>\n",
              "      <th>15916</th>\n",
              "      <td>1997.00</td>\n",
              "    </tr>\n",
              "    <tr>\n",
              "      <th>15917</th>\n",
              "      <td>1997.00</td>\n",
              "    </tr>\n",
              "    <tr>\n",
              "      <th>15918</th>\n",
              "      <td>1798.00</td>\n",
              "    </tr>\n",
              "  </tbody>\n",
              "</table>\n",
              "<p>15919 rows × 1 columns</p>\n",
              "</div>\n",
              "      <button class=\"colab-df-convert\" onclick=\"convertToInteractive('df-9210f776-0487-488a-8c38-decdf21c78ee')\"\n",
              "              title=\"Convert this dataframe to an interactive table.\"\n",
              "              style=\"display:none;\">\n",
              "        \n",
              "  <svg xmlns=\"http://www.w3.org/2000/svg\" height=\"24px\"viewBox=\"0 0 24 24\"\n",
              "       width=\"24px\">\n",
              "    <path d=\"M0 0h24v24H0V0z\" fill=\"none\"/>\n",
              "    <path d=\"M18.56 5.44l.94 2.06.94-2.06 2.06-.94-2.06-.94-.94-2.06-.94 2.06-2.06.94zm-11 1L8.5 8.5l.94-2.06 2.06-.94-2.06-.94L8.5 2.5l-.94 2.06-2.06.94zm10 10l.94 2.06.94-2.06 2.06-.94-2.06-.94-.94-2.06-.94 2.06-2.06.94z\"/><path d=\"M17.41 7.96l-1.37-1.37c-.4-.4-.92-.59-1.43-.59-.52 0-1.04.2-1.43.59L10.3 9.45l-7.72 7.72c-.78.78-.78 2.05 0 2.83L4 21.41c.39.39.9.59 1.41.59.51 0 1.02-.2 1.41-.59l7.78-7.78 2.81-2.81c.8-.78.8-2.07 0-2.86zM5.41 20L4 18.59l7.72-7.72 1.47 1.35L5.41 20z\"/>\n",
              "  </svg>\n",
              "      </button>\n",
              "      \n",
              "  <style>\n",
              "    .colab-df-container {\n",
              "      display:flex;\n",
              "      flex-wrap:wrap;\n",
              "      gap: 12px;\n",
              "    }\n",
              "\n",
              "    .colab-df-convert {\n",
              "      background-color: #E8F0FE;\n",
              "      border: none;\n",
              "      border-radius: 50%;\n",
              "      cursor: pointer;\n",
              "      display: none;\n",
              "      fill: #1967D2;\n",
              "      height: 32px;\n",
              "      padding: 0 0 0 0;\n",
              "      width: 32px;\n",
              "    }\n",
              "\n",
              "    .colab-df-convert:hover {\n",
              "      background-color: #E2EBFA;\n",
              "      box-shadow: 0px 1px 2px rgba(60, 64, 67, 0.3), 0px 1px 3px 1px rgba(60, 64, 67, 0.15);\n",
              "      fill: #174EA6;\n",
              "    }\n",
              "\n",
              "    [theme=dark] .colab-df-convert {\n",
              "      background-color: #3B4455;\n",
              "      fill: #D2E3FC;\n",
              "    }\n",
              "\n",
              "    [theme=dark] .colab-df-convert:hover {\n",
              "      background-color: #434B5C;\n",
              "      box-shadow: 0px 1px 3px 1px rgba(0, 0, 0, 0.15);\n",
              "      filter: drop-shadow(0px 1px 2px rgba(0, 0, 0, 0.3));\n",
              "      fill: #FFFFFF;\n",
              "    }\n",
              "  </style>\n",
              "\n",
              "      <script>\n",
              "        const buttonEl =\n",
              "          document.querySelector('#df-9210f776-0487-488a-8c38-decdf21c78ee button.colab-df-convert');\n",
              "        buttonEl.style.display =\n",
              "          google.colab.kernel.accessAllowed ? 'block' : 'none';\n",
              "\n",
              "        async function convertToInteractive(key) {\n",
              "          const element = document.querySelector('#df-9210f776-0487-488a-8c38-decdf21c78ee');\n",
              "          const dataTable =\n",
              "            await google.colab.kernel.invokeFunction('convertToInteractive',\n",
              "                                                     [key], {});\n",
              "          if (!dataTable) return;\n",
              "\n",
              "          const docLinkHtml = 'Like what you see? Visit the ' +\n",
              "            '<a target=\"_blank\" href=https://colab.research.google.com/notebooks/data_table.ipynb>data table notebook</a>'\n",
              "            + ' to learn more about interactive tables.';\n",
              "          element.innerHTML = '';\n",
              "          dataTable['output_type'] = 'display_data';\n",
              "          await google.colab.output.renderOutput(dataTable, element);\n",
              "          const docLink = document.createElement('div');\n",
              "          docLink.innerHTML = docLinkHtml;\n",
              "          element.appendChild(docLink);\n",
              "        }\n",
              "      </script>\n",
              "    </div>\n",
              "  </div>\n",
              "  "
            ]
          },
          "metadata": {},
          "execution_count": 1065
        }
      ]
    },
    {
      "cell_type": "code",
      "source": [
        "df[\"Displacement_cc\"]=df.Displacement.str[0].str.strip('\\n').str.replace(',', ''). str.extract('(\\d+)').astype(\"float\")"
      ],
      "metadata": {
        "id": "81wMt-MYDGj4"
      },
      "execution_count": 1066,
      "outputs": []
    },
    {
      "cell_type": "code",
      "source": [
        "df[\"Displacement_cc\"].value_counts(dropna=False)"
      ],
      "metadata": {
        "colab": {
          "base_uri": "https://localhost:8080/"
        },
        "id": "iu072t9V_tGd",
        "outputId": "970b5b94-4032-4b92-949f-1ebf18d9b2a8"
      },
      "execution_count": 1067,
      "outputs": [
        {
          "output_type": "execute_result",
          "data": {
            "text/plain": [
              "1598.00     4761\n",
              "999.00      2438\n",
              "1398.00     1314\n",
              "1399.00      749\n",
              "1229.00      677\n",
              "1956.00      670\n",
              "1461.00      595\n",
              "1490.00      559\n",
              "NaN          496\n",
              "1422.00      467\n",
              "1197.00      353\n",
              "898.00       351\n",
              "1395.00      320\n",
              "1968.00      301\n",
              "1149.00      288\n",
              "1618.00      212\n",
              "1798.00      210\n",
              "1498.00      196\n",
              "1600.00      130\n",
              "1248.00      110\n",
              "1997.00      103\n",
              "1364.00      102\n",
              "1400.00       90\n",
              "998.00        72\n",
              "1500.00       50\n",
              "2000.00       46\n",
              "1000.00       40\n",
              "1.00          36\n",
              "1998.00       25\n",
              "2480.00       20\n",
              "1200.00       18\n",
              "1984.00       18\n",
              "1397.00       11\n",
              "899.00        11\n",
              "160.00         6\n",
              "929.00         5\n",
              "1499.00        5\n",
              "997.00         4\n",
              "1596.00        4\n",
              "139.00         4\n",
              "900.00         4\n",
              "1599.00        3\n",
              "1199.00        3\n",
              "1396.00        3\n",
              "1495.00        2\n",
              "1589.00        2\n",
              "1300.00        2\n",
              "2.00           2\n",
              "995.00         2\n",
              "1496.00        1\n",
              "890.00         1\n",
              "1580.00        1\n",
              "1995.00        1\n",
              "1333.00        1\n",
              "54.00          1\n",
              "1533.00        1\n",
              "1100.00        1\n",
              "1350.00        1\n",
              "16000.00       1\n",
              "1856.00        1\n",
              "1568.00        1\n",
              "1896.00        1\n",
              "1584.00        1\n",
              "996.00         1\n",
              "1696.00        1\n",
              "1686.00        1\n",
              "15898.00       1\n",
              "1368.00        1\n",
              "140.00         1\n",
              "973.00         1\n",
              "1239.00        1\n",
              "1369.00        1\n",
              "1390.00        1\n",
              "122.00         1\n",
              "1198.00        1\n",
              "1195.00        1\n",
              "2967.00        1\n",
              "1800.00        1\n",
              "Name: Displacement_cc, dtype: int64"
            ]
          },
          "metadata": {},
          "execution_count": 1067
        }
      ]
    },
    {
      "cell_type": "code",
      "source": [
        "df.drop([\"Displacement\",\"Displacement_1\"], axis=1, inplace=True)"
      ],
      "metadata": {
        "id": "pLtxVMNn_tDw"
      },
      "execution_count": 1068,
      "outputs": []
    },
    {
      "cell_type": "markdown",
      "source": [
        "## Cylinders"
      ],
      "metadata": {
        "id": "EORRsmCVDvgW"
      }
    },
    {
      "cell_type": "code",
      "source": [
        "df[\"Cylinders_1\"]=df[\"Cylinders\"]"
      ],
      "metadata": {
        "id": "lzeWvVzYD5y6"
      },
      "execution_count": 1069,
      "outputs": []
    },
    {
      "cell_type": "code",
      "source": [
        "df[\"Cylinders\"]"
      ],
      "metadata": {
        "colab": {
          "base_uri": "https://localhost:8080/"
        },
        "id": "SWyBcfwiD5vQ",
        "outputId": "d40e48d2-7c33-408a-94f6-3e6846b85176"
      },
      "execution_count": 1070,
      "outputs": [
        {
          "output_type": "execute_result",
          "data": {
            "text/plain": [
              "0        [\\n3\\n]\n",
              "1        [\\n4\\n]\n",
              "2            NaN\n",
              "3        [\\n3\\n]\n",
              "4        [\\n3\\n]\n",
              "          ...   \n",
              "15914    [\\n4\\n]\n",
              "15915    [\\n4\\n]\n",
              "15916    [\\n4\\n]\n",
              "15917    [\\n4\\n]\n",
              "15918    [\\n4\\n]\n",
              "Name: Cylinders, Length: 15919, dtype: object"
            ]
          },
          "metadata": {},
          "execution_count": 1070
        }
      ]
    },
    {
      "cell_type": "code",
      "source": [
        "df.Cylinders.str[0].str.strip('\\n').astype(\"float\").value_counts(dropna=False)"
      ],
      "metadata": {
        "colab": {
          "base_uri": "https://localhost:8080/"
        },
        "id": "lrTBJh5-D5sN",
        "outputId": "91c35cac-9cca-4356-c875-84422accfe4b"
      },
      "execution_count": 1071,
      "outputs": [
        {
          "output_type": "execute_result",
          "data": {
            "text/plain": [
              "4.00    8105\n",
              "NaN     5680\n",
              "3.00    2104\n",
              "5.00      22\n",
              "6.00       3\n",
              "8.00       2\n",
              "2.00       2\n",
              "1.00       1\n",
              "Name: Cylinders, dtype: int64"
            ]
          },
          "metadata": {},
          "execution_count": 1071
        }
      ]
    },
    {
      "cell_type": "code",
      "source": [
        "df[\"Cylinders\"]=df.Cylinders.str[0].str.strip('\\n').astype(\"float\")"
      ],
      "metadata": {
        "id": "luHiNwfPEElA"
      },
      "execution_count": 1072,
      "outputs": []
    },
    {
      "cell_type": "code",
      "source": [
        "df[\"Cylinders\"].value_counts(dropna=False)"
      ],
      "metadata": {
        "colab": {
          "base_uri": "https://localhost:8080/"
        },
        "id": "3BQRq2ODDvRq",
        "outputId": "6cb9b320-8b83-4c38-cb10-76214bbc671b"
      },
      "execution_count": 1073,
      "outputs": [
        {
          "output_type": "execute_result",
          "data": {
            "text/plain": [
              "4.00    8105\n",
              "NaN     5680\n",
              "3.00    2104\n",
              "5.00      22\n",
              "6.00       3\n",
              "8.00       2\n",
              "2.00       2\n",
              "1.00       1\n",
              "Name: Cylinders, dtype: int64"
            ]
          },
          "metadata": {},
          "execution_count": 1073
        }
      ]
    },
    {
      "cell_type": "code",
      "source": [
        "df.drop([\"Cylinders_1\"], axis=1, inplace=True)"
      ],
      "metadata": {
        "id": "OH5bN48TErko"
      },
      "execution_count": 1074,
      "outputs": []
    },
    {
      "cell_type": "code",
      "source": [
        "df.info()"
      ],
      "metadata": {
        "colab": {
          "base_uri": "https://localhost:8080/"
        },
        "id": "38mE6RxHDvOE",
        "outputId": "0cd48410-9138-4ed2-e1c3-2b4148d58480"
      },
      "execution_count": 1075,
      "outputs": [
        {
          "output_type": "stream",
          "name": "stdout",
          "text": [
            "<class 'pandas.core.frame.DataFrame'>\n",
            "RangeIndex: 15919 entries, 0 to 15918\n",
            "Data columns (total 32 columns):\n",
            " #   Column                 Non-Null Count  Dtype  \n",
            "---  ------                 --------------  -----  \n",
            " 0   Make_Model             15919 non-null  object \n",
            " 1   Body_Type              15859 non-null  object \n",
            " 2   Price                  15919 non-null  int64  \n",
            " 3   Vat                    11406 non-null  object \n",
            " 4   Km                     14895 non-null  float64\n",
            " 5   Previous_Owners        9279 non-null   float64\n",
            " 6   Inspection_new         3932 non-null   object \n",
            " 7   Warranty               4853 non-null   float64\n",
            " 8   Paint_Type             10147 non-null  object \n",
            " 9   Nr_of_Doors            15707 non-null  float64\n",
            " 10  Nr_of_Seats            14942 non-null  float64\n",
            " 11  Gearing_Type           15919 non-null  object \n",
            " 12  Cylinders              10239 non-null  float64\n",
            " 13  Weight                 8945 non-null   object \n",
            " 14  Drive_Chain            9061 non-null   object \n",
            " 15  Fuel                   15919 non-null  object \n",
            " 16  Consumption            14013 non-null  object \n",
            " 17  Co_2_Emission          14111 non-null  object \n",
            " 18  Emission_Class         12898 non-null  object \n",
            " 19  Comfort_&_Convenience  14999 non-null  object \n",
            " 20  Entertainment_&_Media  14545 non-null  object \n",
            " 21  Extras                 12957 non-null  object \n",
            " 22  Safety_&_Security      14937 non-null  object \n",
            " 23  Emission_Label         3985 non-null   object \n",
            " 24  Gears                  11207 non-null  object \n",
            " 25  Country_Version        7586 non-null   object \n",
            " 26  Age                    14322 non-null  float64\n",
            " 27  hp_kW                  15831 non-null  float64\n",
            " 28  Type                   15917 non-null  object \n",
            " 29  Upholstery_type        11048 non-null  object \n",
            " 30  Upholstery_color       10841 non-null  object \n",
            " 31  Displacement_cc        15423 non-null  float64\n",
            "dtypes: float64(9), int64(1), object(22)\n",
            "memory usage: 3.9+ MB\n"
          ]
        }
      ]
    },
    {
      "cell_type": "markdown",
      "source": [
        "##Weight"
      ],
      "metadata": {
        "id": "_yVFg3BNEizt"
      }
    },
    {
      "cell_type": "code",
      "source": [
        "df[\"Weight_1\"]=df[\"Weight\"]"
      ],
      "metadata": {
        "id": "LgrEK2M3DvK-"
      },
      "execution_count": 1076,
      "outputs": []
    },
    {
      "cell_type": "code",
      "source": [
        "df[\"Weight\"]"
      ],
      "metadata": {
        "colab": {
          "base_uri": "https://localhost:8080/"
        },
        "id": "8iJ5OZBiDvHv",
        "outputId": "c948effa-86b8-4972-d3b6-9b2defc8e8eb"
      },
      "execution_count": 1077,
      "outputs": [
        {
          "output_type": "execute_result",
          "data": {
            "text/plain": [
              "0        [\\n1,220 kg\\n]\n",
              "1        [\\n1,255 kg\\n]\n",
              "2                   NaN\n",
              "3        [\\n1,195 kg\\n]\n",
              "4                   NaN\n",
              "              ...      \n",
              "15914    [\\n1,758 kg\\n]\n",
              "15915    [\\n1,708 kg\\n]\n",
              "15916               NaN\n",
              "15917    [\\n1,758 kg\\n]\n",
              "15918    [\\n1,685 kg\\n]\n",
              "Name: Weight, Length: 15919, dtype: object"
            ]
          },
          "metadata": {},
          "execution_count": 1077
        }
      ]
    },
    {
      "cell_type": "code",
      "source": [
        "df[\"Weight\"].astype('str').value_counts(dropna=False)"
      ],
      "metadata": {
        "colab": {
          "base_uri": "https://localhost:8080/"
        },
        "id": "zeyqO_IWFRSj",
        "outputId": "02de5d57-5e70-4d17-916c-0ac77c4be784"
      },
      "execution_count": 1078,
      "outputs": [
        {
          "output_type": "execute_result",
          "data": {
            "text/plain": [
              "nan                 6974\n",
              "['\\n1,163 kg\\n']     574\n",
              "['\\n1,360 kg\\n']     356\n",
              "['\\n1,165 kg\\n']     301\n",
              "['\\n1,335 kg\\n']     242\n",
              "                    ... \n",
              "['\\n1,960 kg\\n']       1\n",
              "['\\n1,258 kg\\n']       1\n",
              "['\\n1,167 kg\\n']       1\n",
              "['\\n1,331 kg\\n']       1\n",
              "['\\n2,037 kg\\n']       1\n",
              "Name: Weight, Length: 435, dtype: int64"
            ]
          },
          "metadata": {},
          "execution_count": 1078
        }
      ]
    },
    {
      "cell_type": "code",
      "source": [
        "df.Weight.str[0].str.strip('\\n').str.replace(',', '').str.extract('(\\d+)').astype('float').value_counts()"
      ],
      "metadata": {
        "colab": {
          "base_uri": "https://localhost:8080/"
        },
        "id": "p61l8SDEDvEP",
        "outputId": "e3b23e09-92c5-4645-c916-7457bd04bfc5"
      },
      "execution_count": 1079,
      "outputs": [
        {
          "output_type": "execute_result",
          "data": {
            "text/plain": [
              "1163.00    574\n",
              "1360.00    356\n",
              "1165.00    301\n",
              "1335.00    242\n",
              "1135.00    213\n",
              "          ... \n",
              "1683.00      1\n",
              "1332.00      1\n",
              "1333.00      1\n",
              "1343.00      1\n",
              "1257.00      1\n",
              "Length: 434, dtype: int64"
            ]
          },
          "metadata": {},
          "execution_count": 1079
        }
      ]
    },
    {
      "cell_type": "code",
      "source": [
        "df[\"Weight_kg\"]=df.Weight.str[0].str.strip('\\n').str.replace(',', '').str.extract('(\\d+)').astype('float')\n",
        "df[\"Weight_kg\"]"
      ],
      "metadata": {
        "colab": {
          "base_uri": "https://localhost:8080/"
        },
        "id": "rNg0DIXZDvBA",
        "outputId": "25503282-dd2d-4c2d-bc62-0f9ba57bd0f7"
      },
      "execution_count": 1080,
      "outputs": [
        {
          "output_type": "execute_result",
          "data": {
            "text/plain": [
              "0       1220.00\n",
              "1       1255.00\n",
              "2           NaN\n",
              "3       1195.00\n",
              "4           NaN\n",
              "          ...  \n",
              "15914   1758.00\n",
              "15915   1708.00\n",
              "15916       NaN\n",
              "15917   1758.00\n",
              "15918   1685.00\n",
              "Name: Weight_kg, Length: 15919, dtype: float64"
            ]
          },
          "metadata": {},
          "execution_count": 1080
        }
      ]
    },
    {
      "cell_type": "code",
      "source": [
        "df[\"Weight_kg\"].value_counts(dropna=False)"
      ],
      "metadata": {
        "colab": {
          "base_uri": "https://localhost:8080/"
        },
        "id": "jF6uV7tiDu-G",
        "outputId": "9c69ef2d-78ac-4ed8-a955-af37e492ac1b"
      },
      "execution_count": 1081,
      "outputs": [
        {
          "output_type": "execute_result",
          "data": {
            "text/plain": [
              "NaN        6974\n",
              "1163.00     574\n",
              "1360.00     356\n",
              "1165.00     301\n",
              "1335.00     242\n",
              "           ... \n",
              "1960.00       1\n",
              "1258.00       1\n",
              "1167.00       1\n",
              "1331.00       1\n",
              "2037.00       1\n",
              "Name: Weight_kg, Length: 435, dtype: int64"
            ]
          },
          "metadata": {},
          "execution_count": 1081
        }
      ]
    },
    {
      "cell_type": "code",
      "source": [
        "df.drop([\"Weight_1\",\"Weight\"], axis=1, inplace=True)"
      ],
      "metadata": {
        "id": "QI4R_eVZDu7J"
      },
      "execution_count": 1082,
      "outputs": []
    },
    {
      "cell_type": "code",
      "source": [
        "df.info()"
      ],
      "metadata": {
        "colab": {
          "base_uri": "https://localhost:8080/"
        },
        "id": "akyevjElDu4f",
        "outputId": "324961bf-4bad-4a9d-8c37-b768e20c89c4"
      },
      "execution_count": 1083,
      "outputs": [
        {
          "output_type": "stream",
          "name": "stdout",
          "text": [
            "<class 'pandas.core.frame.DataFrame'>\n",
            "RangeIndex: 15919 entries, 0 to 15918\n",
            "Data columns (total 32 columns):\n",
            " #   Column                 Non-Null Count  Dtype  \n",
            "---  ------                 --------------  -----  \n",
            " 0   Make_Model             15919 non-null  object \n",
            " 1   Body_Type              15859 non-null  object \n",
            " 2   Price                  15919 non-null  int64  \n",
            " 3   Vat                    11406 non-null  object \n",
            " 4   Km                     14895 non-null  float64\n",
            " 5   Previous_Owners        9279 non-null   float64\n",
            " 6   Inspection_new         3932 non-null   object \n",
            " 7   Warranty               4853 non-null   float64\n",
            " 8   Paint_Type             10147 non-null  object \n",
            " 9   Nr_of_Doors            15707 non-null  float64\n",
            " 10  Nr_of_Seats            14942 non-null  float64\n",
            " 11  Gearing_Type           15919 non-null  object \n",
            " 12  Cylinders              10239 non-null  float64\n",
            " 13  Drive_Chain            9061 non-null   object \n",
            " 14  Fuel                   15919 non-null  object \n",
            " 15  Consumption            14013 non-null  object \n",
            " 16  Co_2_Emission          14111 non-null  object \n",
            " 17  Emission_Class         12898 non-null  object \n",
            " 18  Comfort_&_Convenience  14999 non-null  object \n",
            " 19  Entertainment_&_Media  14545 non-null  object \n",
            " 20  Extras                 12957 non-null  object \n",
            " 21  Safety_&_Security      14937 non-null  object \n",
            " 22  Emission_Label         3985 non-null   object \n",
            " 23  Gears                  11207 non-null  object \n",
            " 24  Country_Version        7586 non-null   object \n",
            " 25  Age                    14322 non-null  float64\n",
            " 26  hp_kW                  15831 non-null  float64\n",
            " 27  Type                   15917 non-null  object \n",
            " 28  Upholstery_type        11048 non-null  object \n",
            " 29  Upholstery_color       10841 non-null  object \n",
            " 30  Displacement_cc        15423 non-null  float64\n",
            " 31  Weight_kg              8945 non-null   float64\n",
            "dtypes: float64(10), int64(1), object(21)\n",
            "memory usage: 3.9+ MB\n"
          ]
        }
      ]
    },
    {
      "cell_type": "markdown",
      "source": [
        "## Drive Chain"
      ],
      "metadata": {
        "id": "kUKOmnsTHSLc"
      }
    },
    {
      "cell_type": "code",
      "source": [
        "df[\"Drive_Chain\"]"
      ],
      "metadata": {
        "colab": {
          "base_uri": "https://localhost:8080/"
        },
        "id": "LOFmMPK5Du1e",
        "outputId": "16939430-2679-44a1-c306-d1017316fa3a"
      },
      "execution_count": 1084,
      "outputs": [
        {
          "output_type": "execute_result",
          "data": {
            "text/plain": [
              "0        [\\nfront\\n]\n",
              "1        [\\nfront\\n]\n",
              "2        [\\nfront\\n]\n",
              "3                NaN\n",
              "4        [\\nfront\\n]\n",
              "            ...     \n",
              "15914    [\\nfront\\n]\n",
              "15915    [\\nfront\\n]\n",
              "15916    [\\nfront\\n]\n",
              "15917    [\\nfront\\n]\n",
              "15918      [\\n4WD\\n]\n",
              "Name: Drive_Chain, Length: 15919, dtype: object"
            ]
          },
          "metadata": {},
          "execution_count": 1084
        }
      ]
    },
    {
      "cell_type": "code",
      "source": [
        "df.Drive_Chain.str[0].str.strip('\\n').value_counts(dropna=False)"
      ],
      "metadata": {
        "colab": {
          "base_uri": "https://localhost:8080/"
        },
        "id": "7fwZmyXUDuyt",
        "outputId": "4a20bd2d-2003-478a-f81a-1f5608622c0c"
      },
      "execution_count": 1085,
      "outputs": [
        {
          "output_type": "execute_result",
          "data": {
            "text/plain": [
              "front    8886\n",
              "NaN      6858\n",
              "4WD       171\n",
              "rear        4\n",
              "Name: Drive_Chain, dtype: int64"
            ]
          },
          "metadata": {},
          "execution_count": 1085
        }
      ]
    },
    {
      "cell_type": "code",
      "source": [
        "df[\"Drive_Chain\"]=df.Drive_Chain.str[0].str.strip('\\n')\n"
      ],
      "metadata": {
        "id": "nNBTRAazDuv3"
      },
      "execution_count": 1086,
      "outputs": []
    },
    {
      "cell_type": "code",
      "source": [
        "df[\"Drive_Chain\"].value_counts(dropna=False)"
      ],
      "metadata": {
        "colab": {
          "base_uri": "https://localhost:8080/"
        },
        "id": "8cubB-3ADutI",
        "outputId": "8a1b0ed5-fb4e-4175-bf72-50f04f9fc7ad"
      },
      "execution_count": 1087,
      "outputs": [
        {
          "output_type": "execute_result",
          "data": {
            "text/plain": [
              "front    8886\n",
              "NaN      6858\n",
              "4WD       171\n",
              "rear        4\n",
              "Name: Drive_Chain, dtype: int64"
            ]
          },
          "metadata": {},
          "execution_count": 1087
        }
      ]
    },
    {
      "cell_type": "code",
      "source": [
        "df.info()"
      ],
      "metadata": {
        "colab": {
          "base_uri": "https://localhost:8080/"
        },
        "id": "tBW1q_kTDun9",
        "outputId": "41693746-0dd0-4f92-fe53-afc4b2b0854e"
      },
      "execution_count": 1088,
      "outputs": [
        {
          "output_type": "stream",
          "name": "stdout",
          "text": [
            "<class 'pandas.core.frame.DataFrame'>\n",
            "RangeIndex: 15919 entries, 0 to 15918\n",
            "Data columns (total 32 columns):\n",
            " #   Column                 Non-Null Count  Dtype  \n",
            "---  ------                 --------------  -----  \n",
            " 0   Make_Model             15919 non-null  object \n",
            " 1   Body_Type              15859 non-null  object \n",
            " 2   Price                  15919 non-null  int64  \n",
            " 3   Vat                    11406 non-null  object \n",
            " 4   Km                     14895 non-null  float64\n",
            " 5   Previous_Owners        9279 non-null   float64\n",
            " 6   Inspection_new         3932 non-null   object \n",
            " 7   Warranty               4853 non-null   float64\n",
            " 8   Paint_Type             10147 non-null  object \n",
            " 9   Nr_of_Doors            15707 non-null  float64\n",
            " 10  Nr_of_Seats            14942 non-null  float64\n",
            " 11  Gearing_Type           15919 non-null  object \n",
            " 12  Cylinders              10239 non-null  float64\n",
            " 13  Drive_Chain            9061 non-null   object \n",
            " 14  Fuel                   15919 non-null  object \n",
            " 15  Consumption            14013 non-null  object \n",
            " 16  Co_2_Emission          14111 non-null  object \n",
            " 17  Emission_Class         12898 non-null  object \n",
            " 18  Comfort_&_Convenience  14999 non-null  object \n",
            " 19  Entertainment_&_Media  14545 non-null  object \n",
            " 20  Extras                 12957 non-null  object \n",
            " 21  Safety_&_Security      14937 non-null  object \n",
            " 22  Emission_Label         3985 non-null   object \n",
            " 23  Gears                  11207 non-null  object \n",
            " 24  Country_Version        7586 non-null   object \n",
            " 25  Age                    14322 non-null  float64\n",
            " 26  hp_kW                  15831 non-null  float64\n",
            " 27  Type                   15917 non-null  object \n",
            " 28  Upholstery_type        11048 non-null  object \n",
            " 29  Upholstery_color       10841 non-null  object \n",
            " 30  Displacement_cc        15423 non-null  float64\n",
            " 31  Weight_kg              8945 non-null   float64\n",
            "dtypes: float64(10), int64(1), object(21)\n",
            "memory usage: 3.9+ MB\n"
          ]
        }
      ]
    },
    {
      "cell_type": "markdown",
      "source": [
        "##Fuel"
      ],
      "metadata": {
        "id": "1DlPddhpIlHb"
      }
    },
    {
      "cell_type": "code",
      "source": [
        "df[\"Fuel\"]"
      ],
      "metadata": {
        "colab": {
          "base_uri": "https://localhost:8080/"
        },
        "id": "QNM8ehQjDulF",
        "outputId": "fa2c1269-419d-4f38-9a55-eb75f2fba66e"
      },
      "execution_count": 1093,
      "outputs": [
        {
          "output_type": "execute_result",
          "data": {
            "text/plain": [
              "0                    [\\n, Diesel (Particulate Filter), \\n]\n",
              "1                                       [\\n, Gasoline, \\n]\n",
              "2                    [\\n, Diesel (Particulate Filter), \\n]\n",
              "3                    [\\n, Diesel (Particulate Filter), \\n]\n",
              "4                    [\\n, Diesel (Particulate Filter), \\n]\n",
              "                               ...                        \n",
              "15914                [\\n, Diesel (Particulate Filter), \\n]\n",
              "15915    [\\n, Super 95 / Super Plus 98 (Particulate Fil...\n",
              "15916                                     [\\n, Diesel, \\n]\n",
              "15917                                     [\\n, Diesel, \\n]\n",
              "15918                                   [\\n, Super 95, \\n]\n",
              "Name: Fuel, Length: 15919, dtype: object"
            ]
          },
          "metadata": {},
          "execution_count": 1093
        }
      ]
    },
    {
      "cell_type": "code",
      "source": [
        " df.Fuel.str[1].str.split(\"/\").str[0].str.strip().value_counts(dropna=False)\n"
      ],
      "metadata": {
        "colab": {
          "base_uri": "https://localhost:8080/"
        },
        "id": "AzSBR3qhDuiW",
        "outputId": "0671d11b-6027-4d91-a545-d39fd69e02ae"
      },
      "execution_count": 1094,
      "outputs": [
        {
          "output_type": "execute_result",
          "data": {
            "text/plain": [
              "Diesel (Particulate Filter)          4315\n",
              "Super 95                             4100\n",
              "Gasoline                             3175\n",
              "Diesel                               2984\n",
              "Regular                               503\n",
              "Super E10 95                          402\n",
              "Super 95 (Particulate Filter)         268\n",
              "Gasoline (Particulate Filter)          77\n",
              "CNG                                    33\n",
              "LPG                                    16\n",
              "Super Plus 98                          11\n",
              "Liquid petroleum gas (LPG)             10\n",
              "Super E10 95 (Particulate Filter)       7\n",
              "Electric                                5\n",
              "Others                                  5\n",
              "CNG (Particulate Filter)                3\n",
              "Super Plus E10 98                       2\n",
              "Others (Particulate Filter)             1\n",
              "Biogas                                  1\n",
              "Domestic gas H                          1\n",
              "Name: Fuel, dtype: int64"
            ]
          },
          "metadata": {},
          "execution_count": 1094
        }
      ]
    },
    {
      "cell_type": "code",
      "source": [
        "df[\"Fuel\"]=df.Fuel.str[1].str.split(\"/\").str[0].str.strip()"
      ],
      "metadata": {
        "id": "HaoamnAtKC3-"
      },
      "execution_count": 1095,
      "outputs": []
    },
    {
      "cell_type": "code",
      "source": [
        "df[\"Fuel\"].value_counts(dropna=False)"
      ],
      "metadata": {
        "colab": {
          "base_uri": "https://localhost:8080/"
        },
        "id": "0hRtXBMMKdDh",
        "outputId": "34bd69d1-6672-4b2d-f412-4cb18eb398a7"
      },
      "execution_count": 1096,
      "outputs": [
        {
          "output_type": "execute_result",
          "data": {
            "text/plain": [
              "Diesel (Particulate Filter)          4315\n",
              "Super 95                             4100\n",
              "Gasoline                             3175\n",
              "Diesel                               2984\n",
              "Regular                               503\n",
              "Super E10 95                          402\n",
              "Super 95 (Particulate Filter)         268\n",
              "Gasoline (Particulate Filter)          77\n",
              "CNG                                    33\n",
              "LPG                                    16\n",
              "Super Plus 98                          11\n",
              "Liquid petroleum gas (LPG)             10\n",
              "Super E10 95 (Particulate Filter)       7\n",
              "Electric                                5\n",
              "Others                                  5\n",
              "CNG (Particulate Filter)                3\n",
              "Super Plus E10 98                       2\n",
              "Others (Particulate Filter)             1\n",
              "Biogas                                  1\n",
              "Domestic gas H                          1\n",
              "Name: Fuel, dtype: int64"
            ]
          },
          "metadata": {},
          "execution_count": 1096
        }
      ]
    },
    {
      "cell_type": "code",
      "source": [
        "df.Fuel.str.split(\"(\").str[0].str.strip().value_counts(dropna=False)"
      ],
      "metadata": {
        "colab": {
          "base_uri": "https://localhost:8080/"
        },
        "id": "l7RHAmm8Jt4Q",
        "outputId": "5eabf018-1f36-4469-afdc-189d64e6e7b1"
      },
      "execution_count": 1097,
      "outputs": [
        {
          "output_type": "execute_result",
          "data": {
            "text/plain": [
              "Diesel                  7299\n",
              "Super 95                4368\n",
              "Gasoline                3252\n",
              "Regular                  503\n",
              "Super E10 95             409\n",
              "CNG                       36\n",
              "LPG                       16\n",
              "Super Plus 98             11\n",
              "Liquid petroleum gas      10\n",
              "Others                     6\n",
              "Electric                   5\n",
              "Super Plus E10 98          2\n",
              "Biogas                     1\n",
              "Domestic gas H             1\n",
              "Name: Fuel, dtype: int64"
            ]
          },
          "metadata": {},
          "execution_count": 1097
        }
      ]
    },
    {
      "cell_type": "code",
      "source": [
        "df[\"Fuel\"]=df.Fuel.str.split(\"(\").str[0].str.strip()"
      ],
      "metadata": {
        "id": "H-UI7yb3Jt1g"
      },
      "execution_count": 1098,
      "outputs": []
    },
    {
      "cell_type": "code",
      "source": [
        "df[\"Fuel\"].value_counts(dropna=False)"
      ],
      "metadata": {
        "colab": {
          "base_uri": "https://localhost:8080/"
        },
        "id": "e0arA5n7MVH3",
        "outputId": "0efc11ca-67de-47e7-d3d6-55fb68b0f663"
      },
      "execution_count": 1099,
      "outputs": [
        {
          "output_type": "execute_result",
          "data": {
            "text/plain": [
              "Diesel                  7299\n",
              "Super 95                4368\n",
              "Gasoline                3252\n",
              "Regular                  503\n",
              "Super E10 95             409\n",
              "CNG                       36\n",
              "LPG                       16\n",
              "Super Plus 98             11\n",
              "Liquid petroleum gas      10\n",
              "Others                     6\n",
              "Electric                   5\n",
              "Super Plus E10 98          2\n",
              "Biogas                     1\n",
              "Domestic gas H             1\n",
              "Name: Fuel, dtype: int64"
            ]
          },
          "metadata": {},
          "execution_count": 1099
        }
      ]
    },
    {
      "cell_type": "code",
      "source": [
        "benzine = [\"Gasoline\", \"Super 95\", \"Regular\", \"Super E10 95\", \"Super Plus 98\", \"Super Plus E10 98\", \"Others\"]\n",
        "lpg = [\"LPG\", \"Liquid petroleum gas\", \"CNG\", \"Biogas\", \"Domestic gas H\"]\n",
        "\n",
        "def fueltype(x):\n",
        "    if x in benzine:\n",
        "        return \"Benzine\"\n",
        "    elif x in lpg:\n",
        "        return \"LPG/CNG\"\n",
        "    else:\n",
        "        return x\n",
        "\n",
        "df[\"Fuel\"] = df.Fuel.apply(fueltype)"
      ],
      "metadata": {
        "id": "CXnIqIqLJty2"
      },
      "execution_count": 1100,
      "outputs": []
    },
    {
      "cell_type": "code",
      "source": [
        "df.Fuel.value_counts(dropna=False)"
      ],
      "metadata": {
        "colab": {
          "base_uri": "https://localhost:8080/"
        },
        "id": "16TQSrUXJtwK",
        "outputId": "b907a9f4-1d6b-4f86-adfb-6adca0f954dc"
      },
      "execution_count": 1101,
      "outputs": [
        {
          "output_type": "execute_result",
          "data": {
            "text/plain": [
              "Benzine     8551\n",
              "Diesel      7299\n",
              "LPG/CNG       64\n",
              "Electric       5\n",
              "Name: Fuel, dtype: int64"
            ]
          },
          "metadata": {},
          "execution_count": 1101
        }
      ]
    },
    {
      "cell_type": "code",
      "source": [
        "df.info()"
      ],
      "metadata": {
        "colab": {
          "base_uri": "https://localhost:8080/"
        },
        "id": "-FwTNvBlNHuF",
        "outputId": "cf55376c-5dbf-49cf-b1f9-b4fdcd7d7bb2"
      },
      "execution_count": 1102,
      "outputs": [
        {
          "output_type": "stream",
          "name": "stdout",
          "text": [
            "<class 'pandas.core.frame.DataFrame'>\n",
            "RangeIndex: 15919 entries, 0 to 15918\n",
            "Data columns (total 32 columns):\n",
            " #   Column                 Non-Null Count  Dtype  \n",
            "---  ------                 --------------  -----  \n",
            " 0   Make_Model             15919 non-null  object \n",
            " 1   Body_Type              15859 non-null  object \n",
            " 2   Price                  15919 non-null  int64  \n",
            " 3   Vat                    11406 non-null  object \n",
            " 4   Km                     14895 non-null  float64\n",
            " 5   Previous_Owners        9279 non-null   float64\n",
            " 6   Inspection_new         3932 non-null   object \n",
            " 7   Warranty               4853 non-null   float64\n",
            " 8   Paint_Type             10147 non-null  object \n",
            " 9   Nr_of_Doors            15707 non-null  float64\n",
            " 10  Nr_of_Seats            14942 non-null  float64\n",
            " 11  Gearing_Type           15919 non-null  object \n",
            " 12  Cylinders              10239 non-null  float64\n",
            " 13  Drive_Chain            9061 non-null   object \n",
            " 14  Fuel                   15919 non-null  object \n",
            " 15  Consumption            14013 non-null  object \n",
            " 16  Co_2_Emission          14111 non-null  object \n",
            " 17  Emission_Class         12898 non-null  object \n",
            " 18  Comfort_&_Convenience  14999 non-null  object \n",
            " 19  Entertainment_&_Media  14545 non-null  object \n",
            " 20  Extras                 12957 non-null  object \n",
            " 21  Safety_&_Security      14937 non-null  object \n",
            " 22  Emission_Label         3985 non-null   object \n",
            " 23  Gears                  11207 non-null  object \n",
            " 24  Country_Version        7586 non-null   object \n",
            " 25  Age                    14322 non-null  float64\n",
            " 26  hp_kW                  15831 non-null  float64\n",
            " 27  Type                   15917 non-null  object \n",
            " 28  Upholstery_type        11048 non-null  object \n",
            " 29  Upholstery_color       10841 non-null  object \n",
            " 30  Displacement_cc        15423 non-null  float64\n",
            " 31  Weight_kg              8945 non-null   float64\n",
            "dtypes: float64(10), int64(1), object(21)\n",
            "memory usage: 3.9+ MB\n"
          ]
        }
      ]
    },
    {
      "cell_type": "code",
      "source": [
        "df[df.Fuel == \"Electric\"][[\"Make_Model\", \"Body_Type\", \"Co_2_Emission\", \"Gears\", \"hp_kW\", \"Consumption\", \"Price\"]]"
      ],
      "metadata": {
        "colab": {
          "base_uri": "https://localhost:8080/",
          "height": 0
        },
        "id": "d870VkRPJttZ",
        "outputId": "1b132145-8bf8-49fc-fe7c-f4a94c88c675"
      },
      "execution_count": 1103,
      "outputs": [
        {
          "output_type": "execute_result",
          "data": {
            "text/plain": [
              "         Make_Model Body_Type             Co_2_Emission    Gears  hp_kW  \\\n",
              "3356        Audi A3   Compact                       NaN  [\\n6\\n] 150.00   \n",
              "3612        Audi A3    Sedans  [\\n36 g CO2/km (comb)\\n]  [\\n6\\n] 110.00   \n",
              "3615        Audi A3    Sedans  [\\n36 g CO2/km (comb)\\n]  [\\n6\\n] 110.00   \n",
              "3617        Audi A3    Sedans  [\\n36 g CO2/km (comb)\\n]  [\\n6\\n] 110.00   \n",
              "13397  Renault Clio    Sedans              [[], [], []]      NaN    NaN   \n",
              "\n",
              "                                 Consumption  Price  \n",
              "3356                                     NaN  24950  \n",
              "3612   [\\n, 1.6 l/100 km (comb), \\n, \\n, \\n]  38450  \n",
              "3615   [\\n, 1.6 l/100 km (comb), \\n, \\n, \\n]  35899  \n",
              "3617   [\\n, 1.6 l/100 km (comb), \\n, \\n, \\n]  38000  \n",
              "13397                                    NaN   8490  "
            ],
            "text/html": [
              "\n",
              "  <div id=\"df-b82b7aa1-1113-4cbb-95da-89c0eb691b53\">\n",
              "    <div class=\"colab-df-container\">\n",
              "      <div>\n",
              "<style scoped>\n",
              "    .dataframe tbody tr th:only-of-type {\n",
              "        vertical-align: middle;\n",
              "    }\n",
              "\n",
              "    .dataframe tbody tr th {\n",
              "        vertical-align: top;\n",
              "    }\n",
              "\n",
              "    .dataframe thead th {\n",
              "        text-align: right;\n",
              "    }\n",
              "</style>\n",
              "<table border=\"1\" class=\"dataframe\">\n",
              "  <thead>\n",
              "    <tr style=\"text-align: right;\">\n",
              "      <th></th>\n",
              "      <th>Make_Model</th>\n",
              "      <th>Body_Type</th>\n",
              "      <th>Co_2_Emission</th>\n",
              "      <th>Gears</th>\n",
              "      <th>hp_kW</th>\n",
              "      <th>Consumption</th>\n",
              "      <th>Price</th>\n",
              "    </tr>\n",
              "  </thead>\n",
              "  <tbody>\n",
              "    <tr>\n",
              "      <th>3356</th>\n",
              "      <td>Audi A3</td>\n",
              "      <td>Compact</td>\n",
              "      <td>NaN</td>\n",
              "      <td>[\\n6\\n]</td>\n",
              "      <td>150.00</td>\n",
              "      <td>NaN</td>\n",
              "      <td>24950</td>\n",
              "    </tr>\n",
              "    <tr>\n",
              "      <th>3612</th>\n",
              "      <td>Audi A3</td>\n",
              "      <td>Sedans</td>\n",
              "      <td>[\\n36 g CO2/km (comb)\\n]</td>\n",
              "      <td>[\\n6\\n]</td>\n",
              "      <td>110.00</td>\n",
              "      <td>[\\n, 1.6 l/100 km (comb), \\n, \\n, \\n]</td>\n",
              "      <td>38450</td>\n",
              "    </tr>\n",
              "    <tr>\n",
              "      <th>3615</th>\n",
              "      <td>Audi A3</td>\n",
              "      <td>Sedans</td>\n",
              "      <td>[\\n36 g CO2/km (comb)\\n]</td>\n",
              "      <td>[\\n6\\n]</td>\n",
              "      <td>110.00</td>\n",
              "      <td>[\\n, 1.6 l/100 km (comb), \\n, \\n, \\n]</td>\n",
              "      <td>35899</td>\n",
              "    </tr>\n",
              "    <tr>\n",
              "      <th>3617</th>\n",
              "      <td>Audi A3</td>\n",
              "      <td>Sedans</td>\n",
              "      <td>[\\n36 g CO2/km (comb)\\n]</td>\n",
              "      <td>[\\n6\\n]</td>\n",
              "      <td>110.00</td>\n",
              "      <td>[\\n, 1.6 l/100 km (comb), \\n, \\n, \\n]</td>\n",
              "      <td>38000</td>\n",
              "    </tr>\n",
              "    <tr>\n",
              "      <th>13397</th>\n",
              "      <td>Renault Clio</td>\n",
              "      <td>Sedans</td>\n",
              "      <td>[[], [], []]</td>\n",
              "      <td>NaN</td>\n",
              "      <td>NaN</td>\n",
              "      <td>NaN</td>\n",
              "      <td>8490</td>\n",
              "    </tr>\n",
              "  </tbody>\n",
              "</table>\n",
              "</div>\n",
              "      <button class=\"colab-df-convert\" onclick=\"convertToInteractive('df-b82b7aa1-1113-4cbb-95da-89c0eb691b53')\"\n",
              "              title=\"Convert this dataframe to an interactive table.\"\n",
              "              style=\"display:none;\">\n",
              "        \n",
              "  <svg xmlns=\"http://www.w3.org/2000/svg\" height=\"24px\"viewBox=\"0 0 24 24\"\n",
              "       width=\"24px\">\n",
              "    <path d=\"M0 0h24v24H0V0z\" fill=\"none\"/>\n",
              "    <path d=\"M18.56 5.44l.94 2.06.94-2.06 2.06-.94-2.06-.94-.94-2.06-.94 2.06-2.06.94zm-11 1L8.5 8.5l.94-2.06 2.06-.94-2.06-.94L8.5 2.5l-.94 2.06-2.06.94zm10 10l.94 2.06.94-2.06 2.06-.94-2.06-.94-.94-2.06-.94 2.06-2.06.94z\"/><path d=\"M17.41 7.96l-1.37-1.37c-.4-.4-.92-.59-1.43-.59-.52 0-1.04.2-1.43.59L10.3 9.45l-7.72 7.72c-.78.78-.78 2.05 0 2.83L4 21.41c.39.39.9.59 1.41.59.51 0 1.02-.2 1.41-.59l7.78-7.78 2.81-2.81c.8-.78.8-2.07 0-2.86zM5.41 20L4 18.59l7.72-7.72 1.47 1.35L5.41 20z\"/>\n",
              "  </svg>\n",
              "      </button>\n",
              "      \n",
              "  <style>\n",
              "    .colab-df-container {\n",
              "      display:flex;\n",
              "      flex-wrap:wrap;\n",
              "      gap: 12px;\n",
              "    }\n",
              "\n",
              "    .colab-df-convert {\n",
              "      background-color: #E8F0FE;\n",
              "      border: none;\n",
              "      border-radius: 50%;\n",
              "      cursor: pointer;\n",
              "      display: none;\n",
              "      fill: #1967D2;\n",
              "      height: 32px;\n",
              "      padding: 0 0 0 0;\n",
              "      width: 32px;\n",
              "    }\n",
              "\n",
              "    .colab-df-convert:hover {\n",
              "      background-color: #E2EBFA;\n",
              "      box-shadow: 0px 1px 2px rgba(60, 64, 67, 0.3), 0px 1px 3px 1px rgba(60, 64, 67, 0.15);\n",
              "      fill: #174EA6;\n",
              "    }\n",
              "\n",
              "    [theme=dark] .colab-df-convert {\n",
              "      background-color: #3B4455;\n",
              "      fill: #D2E3FC;\n",
              "    }\n",
              "\n",
              "    [theme=dark] .colab-df-convert:hover {\n",
              "      background-color: #434B5C;\n",
              "      box-shadow: 0px 1px 3px 1px rgba(0, 0, 0, 0.15);\n",
              "      filter: drop-shadow(0px 1px 2px rgba(0, 0, 0, 0.3));\n",
              "      fill: #FFFFFF;\n",
              "    }\n",
              "  </style>\n",
              "\n",
              "      <script>\n",
              "        const buttonEl =\n",
              "          document.querySelector('#df-b82b7aa1-1113-4cbb-95da-89c0eb691b53 button.colab-df-convert');\n",
              "        buttonEl.style.display =\n",
              "          google.colab.kernel.accessAllowed ? 'block' : 'none';\n",
              "\n",
              "        async function convertToInteractive(key) {\n",
              "          const element = document.querySelector('#df-b82b7aa1-1113-4cbb-95da-89c0eb691b53');\n",
              "          const dataTable =\n",
              "            await google.colab.kernel.invokeFunction('convertToInteractive',\n",
              "                                                     [key], {});\n",
              "          if (!dataTable) return;\n",
              "\n",
              "          const docLinkHtml = 'Like what you see? Visit the ' +\n",
              "            '<a target=\"_blank\" href=https://colab.research.google.com/notebooks/data_table.ipynb>data table notebook</a>'\n",
              "            + ' to learn more about interactive tables.';\n",
              "          element.innerHTML = '';\n",
              "          dataTable['output_type'] = 'display_data';\n",
              "          await google.colab.output.renderOutput(dataTable, element);\n",
              "          const docLink = document.createElement('div');\n",
              "          docLink.innerHTML = docLinkHtml;\n",
              "          element.appendChild(docLink);\n",
              "        }\n",
              "      </script>\n",
              "    </div>\n",
              "  </div>\n",
              "  "
            ]
          },
          "metadata": {},
          "execution_count": 1103
        }
      ]
    },
    {
      "cell_type": "code",
      "source": [
        "df.info()"
      ],
      "metadata": {
        "colab": {
          "base_uri": "https://localhost:8080/"
        },
        "id": "vzxI0gW9JtpZ",
        "outputId": "8d36ed2e-a020-439b-f53b-27b9f4cf2a0b"
      },
      "execution_count": 1104,
      "outputs": [
        {
          "output_type": "stream",
          "name": "stdout",
          "text": [
            "<class 'pandas.core.frame.DataFrame'>\n",
            "RangeIndex: 15919 entries, 0 to 15918\n",
            "Data columns (total 32 columns):\n",
            " #   Column                 Non-Null Count  Dtype  \n",
            "---  ------                 --------------  -----  \n",
            " 0   Make_Model             15919 non-null  object \n",
            " 1   Body_Type              15859 non-null  object \n",
            " 2   Price                  15919 non-null  int64  \n",
            " 3   Vat                    11406 non-null  object \n",
            " 4   Km                     14895 non-null  float64\n",
            " 5   Previous_Owners        9279 non-null   float64\n",
            " 6   Inspection_new         3932 non-null   object \n",
            " 7   Warranty               4853 non-null   float64\n",
            " 8   Paint_Type             10147 non-null  object \n",
            " 9   Nr_of_Doors            15707 non-null  float64\n",
            " 10  Nr_of_Seats            14942 non-null  float64\n",
            " 11  Gearing_Type           15919 non-null  object \n",
            " 12  Cylinders              10239 non-null  float64\n",
            " 13  Drive_Chain            9061 non-null   object \n",
            " 14  Fuel                   15919 non-null  object \n",
            " 15  Consumption            14013 non-null  object \n",
            " 16  Co_2_Emission          14111 non-null  object \n",
            " 17  Emission_Class         12898 non-null  object \n",
            " 18  Comfort_&_Convenience  14999 non-null  object \n",
            " 19  Entertainment_&_Media  14545 non-null  object \n",
            " 20  Extras                 12957 non-null  object \n",
            " 21  Safety_&_Security      14937 non-null  object \n",
            " 22  Emission_Label         3985 non-null   object \n",
            " 23  Gears                  11207 non-null  object \n",
            " 24  Country_Version        7586 non-null   object \n",
            " 25  Age                    14322 non-null  float64\n",
            " 26  hp_kW                  15831 non-null  float64\n",
            " 27  Type                   15917 non-null  object \n",
            " 28  Upholstery_type        11048 non-null  object \n",
            " 29  Upholstery_color       10841 non-null  object \n",
            " 30  Displacement_cc        15423 non-null  float64\n",
            " 31  Weight_kg              8945 non-null   float64\n",
            "dtypes: float64(10), int64(1), object(21)\n",
            "memory usage: 3.9+ MB\n"
          ]
        }
      ]
    },
    {
      "cell_type": "code",
      "source": [
        "df_yedek_2=df.copy()\n",
        "#df=df_yedek_2.copy()"
      ],
      "metadata": {
        "id": "Uk95TTKRJtj4"
      },
      "execution_count": 1105,
      "outputs": []
    },
    {
      "cell_type": "code",
      "source": [
        "df.info()"
      ],
      "metadata": {
        "id": "O6Ynu0BhJtdr",
        "colab": {
          "base_uri": "https://localhost:8080/"
        },
        "outputId": "d46e5a86-a4e9-41b5-b16c-1d37144babde"
      },
      "execution_count": 1106,
      "outputs": [
        {
          "output_type": "stream",
          "name": "stdout",
          "text": [
            "<class 'pandas.core.frame.DataFrame'>\n",
            "RangeIndex: 15919 entries, 0 to 15918\n",
            "Data columns (total 32 columns):\n",
            " #   Column                 Non-Null Count  Dtype  \n",
            "---  ------                 --------------  -----  \n",
            " 0   Make_Model             15919 non-null  object \n",
            " 1   Body_Type              15859 non-null  object \n",
            " 2   Price                  15919 non-null  int64  \n",
            " 3   Vat                    11406 non-null  object \n",
            " 4   Km                     14895 non-null  float64\n",
            " 5   Previous_Owners        9279 non-null   float64\n",
            " 6   Inspection_new         3932 non-null   object \n",
            " 7   Warranty               4853 non-null   float64\n",
            " 8   Paint_Type             10147 non-null  object \n",
            " 9   Nr_of_Doors            15707 non-null  float64\n",
            " 10  Nr_of_Seats            14942 non-null  float64\n",
            " 11  Gearing_Type           15919 non-null  object \n",
            " 12  Cylinders              10239 non-null  float64\n",
            " 13  Drive_Chain            9061 non-null   object \n",
            " 14  Fuel                   15919 non-null  object \n",
            " 15  Consumption            14013 non-null  object \n",
            " 16  Co_2_Emission          14111 non-null  object \n",
            " 17  Emission_Class         12898 non-null  object \n",
            " 18  Comfort_&_Convenience  14999 non-null  object \n",
            " 19  Entertainment_&_Media  14545 non-null  object \n",
            " 20  Extras                 12957 non-null  object \n",
            " 21  Safety_&_Security      14937 non-null  object \n",
            " 22  Emission_Label         3985 non-null   object \n",
            " 23  Gears                  11207 non-null  object \n",
            " 24  Country_Version        7586 non-null   object \n",
            " 25  Age                    14322 non-null  float64\n",
            " 26  hp_kW                  15831 non-null  float64\n",
            " 27  Type                   15917 non-null  object \n",
            " 28  Upholstery_type        11048 non-null  object \n",
            " 29  Upholstery_color       10841 non-null  object \n",
            " 30  Displacement_cc        15423 non-null  float64\n",
            " 31  Weight_kg              8945 non-null   float64\n",
            "dtypes: float64(10), int64(1), object(21)\n",
            "memory usage: 3.9+ MB\n"
          ]
        }
      ]
    },
    {
      "cell_type": "markdown",
      "source": [
        "##Consumption"
      ],
      "metadata": {
        "id": "8BNW1JzaJH8R"
      }
    },
    {
      "cell_type": "code",
      "source": [
        "df[\"consumption_1\"]=df[\"Consumption\"]"
      ],
      "metadata": {
        "id": "dym97MgPDufp"
      },
      "execution_count": 1107,
      "outputs": []
    },
    {
      "cell_type": "code",
      "source": [
        "df[\"Consumption\"]"
      ],
      "metadata": {
        "id": "bXLKpbqwDuci",
        "colab": {
          "base_uri": "https://localhost:8080/"
        },
        "outputId": "9aada681-5bb2-42da-9c8c-6e3e835d9bfe"
      },
      "execution_count": 1108,
      "outputs": [
        {
          "output_type": "execute_result",
          "data": {
            "text/plain": [
              "0        [[3.8 l/100 km (comb)], [4.3 l/100 km (city)],...\n",
              "1        [[5.6 l/100 km (comb)], [7.1 l/100 km (city)],...\n",
              "2        [[3.8 l/100 km (comb)], [4.4 l/100 km (city)],...\n",
              "3        [[3.8 l/100 km (comb)], [4.3 l/100 km (city)],...\n",
              "4        [[4.1 l/100 km (comb)], [4.6 l/100 km (city)],...\n",
              "                               ...                        \n",
              "15914    [[5.3 l/100 km (comb)], [6.2 l/100 km (city)],...\n",
              "15915    [\\n, 7.4 l/100 km (comb), \\n, 9.2 l/100 km (ci...\n",
              "15916    [[5.3 l/100 km (comb)], [6.2 l/100 km (city)],...\n",
              "15917    [[5.3 l/100 km (comb)], [6.2 l/100 km (city)],...\n",
              "15918    [[6.8 l/100 km (comb)], [8.7 l/100 km (city)],...\n",
              "Name: Consumption, Length: 15919, dtype: object"
            ]
          },
          "metadata": {},
          "execution_count": 1108
        }
      ]
    },
    {
      "cell_type": "code",
      "source": [
        "df[\"Consumption\"].astype('str').value_counts(dropna=False)"
      ],
      "metadata": {
        "id": "GWmhxysKDuZm",
        "colab": {
          "base_uri": "https://localhost:8080/"
        },
        "outputId": "f119eee4-2916-4354-d10a-59aff89d2141"
      },
      "execution_count": 1109,
      "outputs": [
        {
          "output_type": "execute_result",
          "data": {
            "text/plain": [
              "nan                                                                                                 1906\n",
              "[['3.9 l/100 km (comb)'], ['4.1 l/100 km (city)'], ['3.7 l/100 km (country)']]                       304\n",
              "[['4.2 l/100 km (comb)'], ['5 l/100 km (city)'], ['3.7 l/100 km (country)']]                         276\n",
              "[['5.4 l/100 km (comb)'], ['6.8 l/100 km (city)'], ['4.5 l/100 km (country)']]                       257\n",
              "[['3.8 l/100 km (comb)'], ['4.3 l/100 km (city)'], ['3.5 l/100 km (country)']]                       253\n",
              "                                                                                                    ... \n",
              "[['4.2 l/100 km (comb)'], ['5.3 l/100 km (city)'], ['3.6 l/100 km (country)']]                         1\n",
              "['\\n', '5.1 l/100 km (comb)', '\\n', '6.4 l/100 km (city)', '\\n', '4.3 l/100 km (country)', '\\n']       1\n",
              "[['4.6 l/100 km (comb)'], ['5.4 l/100 km (city)'], ['6.7 l/100 km (country)']]                         1\n",
              "['\\n', '6.3 l/100 km (comb)', '\\n', '\\n', '\\n']                                                        1\n",
              "['\\n', '7.4 l/100 km (comb)', '\\n', '9.6 l/100 km (city)', '\\n', '6 l/100 km (country)', '\\n']         1\n",
              "Name: Consumption, Length: 882, dtype: int64"
            ]
          },
          "metadata": {},
          "execution_count": 1109
        }
      ]
    },
    {
      "cell_type": "code",
      "source": [
        "def cons_comb(x):\n",
        "    \n",
        "    if type(x)==list and len(x)==3:\n",
        "        if x[0] != []: return x[0][0]\n",
        "        else: return None\n",
        "        \n",
        "    if type(x)==list and len(x)==5:\n",
        "        return x[1]\n",
        "    \n",
        "    if type(x)==list and len(x)==7:\n",
        "        return x[1]\n",
        "    \n",
        "    else:\n",
        "        return None"
      ],
      "metadata": {
        "id": "iAKSq2lF_tBH"
      },
      "execution_count": 1110,
      "outputs": []
    },
    {
      "cell_type": "code",
      "source": [
        "def cons_city(x):\n",
        "    \n",
        "    if type(x)==list and len(x)==3:\n",
        "        if x[1] != []: return x[1][0]\n",
        "        else: return None\n",
        "        \n",
        "    if type(x)==list and len(x)==5:\n",
        "        return None\n",
        "    \n",
        "    if type(x)==list and len(x)==7:\n",
        "        return x[3]\n",
        "    \n",
        "    else:\n",
        "        return None"
      ],
      "metadata": {
        "id": "mkaH_Z9p_s-o"
      },
      "execution_count": 1111,
      "outputs": []
    },
    {
      "cell_type": "code",
      "source": [
        "def cons_country(x):\n",
        "    \n",
        "    if type(x)==list and len(x)==3:\n",
        "        if x[2] != []: return x[2][0]\n",
        "        else: return None\n",
        "        \n",
        "    if type(x)==list and len(x)==5:\n",
        "        return None\n",
        "    \n",
        "    if type(x)==list and len(x)==7:\n",
        "        return x[5]\n",
        "    \n",
        "    else:\n",
        "        return None"
      ],
      "metadata": {
        "id": "ioYfqU5n_s5h"
      },
      "execution_count": 1112,
      "outputs": []
    },
    {
      "cell_type": "code",
      "source": [
        "df['cons_comb'] = df.Consumption.apply(cons_comb).str.extract('(\\d{1,2}.\\d|\\d{1,3})').astype(\"float\")\n",
        "df['cons_city'] = df.Consumption.apply(cons_city).str.extract('(\\d{1,2}.\\d|\\d{1,3})').astype(\"float\")\n",
        "df['cons_country'] = df.Consumption.apply(cons_country).str.extract('(\\d{1,2}.\\d|\\d{1,3})').astype(\"float\")"
      ],
      "metadata": {
        "id": "UkyFCW0YAFZ4"
      },
      "execution_count": 1113,
      "outputs": []
    },
    {
      "cell_type": "code",
      "source": [
        "df[\"cons_comb\"].value_counts(dropna=False).head(3)"
      ],
      "metadata": {
        "colab": {
          "base_uri": "https://localhost:8080/"
        },
        "id": "wwyI-4BAAFWx",
        "outputId": "e364534d-61b8-42e9-e69e-e046b3d56a9e"
      },
      "execution_count": 1114,
      "outputs": [
        {
          "output_type": "execute_result",
          "data": {
            "text/plain": [
              "NaN     2033\n",
              "5.40     770\n",
              "3.90     733\n",
              "Name: cons_comb, dtype: int64"
            ]
          },
          "metadata": {},
          "execution_count": 1114
        }
      ]
    },
    {
      "cell_type": "code",
      "source": [
        "df[\"cons_city\"].value_counts(dropna=False).head(3)"
      ],
      "metadata": {
        "colab": {
          "base_uri": "https://localhost:8080/"
        },
        "id": "TCQLRaKLAFT4",
        "outputId": "4b454164-d257-40f3-8280-5bc8f40f077a"
      },
      "execution_count": 1115,
      "outputs": [
        {
          "output_type": "execute_result",
          "data": {
            "text/plain": [
              "NaN     2436\n",
              "5.00     669\n",
              "5.80     633\n",
              "Name: cons_city, dtype: int64"
            ]
          },
          "metadata": {},
          "execution_count": 1115
        }
      ]
    },
    {
      "cell_type": "code",
      "source": [
        "df[\"cons_country\"].value_counts(dropna=False).head(3)"
      ],
      "metadata": {
        "colab": {
          "base_uri": "https://localhost:8080/"
        },
        "id": "kQjQ5kT3AFQ5",
        "outputId": "fc117797-bc5b-46b5-840e-920eab6b0df6"
      },
      "execution_count": 1116,
      "outputs": [
        {
          "output_type": "execute_result",
          "data": {
            "text/plain": [
              "NaN     2376\n",
              "4.20    1178\n",
              "3.70    1089\n",
              "Name: cons_country, dtype: int64"
            ]
          },
          "metadata": {},
          "execution_count": 1116
        }
      ]
    },
    {
      "cell_type": "code",
      "source": [
        "df.drop('Consumption', axis=1,inplace=True)"
      ],
      "metadata": {
        "id": "6-2Y82AqAFOO"
      },
      "execution_count": 1117,
      "outputs": []
    },
    {
      "cell_type": "code",
      "source": [
        "df.drop([\"consumption_1\"],axis=1,inplace=True)"
      ],
      "metadata": {
        "id": "Iy5FB7t4Arj8"
      },
      "execution_count": 1118,
      "outputs": []
    },
    {
      "cell_type": "markdown",
      "source": [
        "##Emission"
      ],
      "metadata": {
        "id": "WKPfNDY7Angf"
      }
    },
    {
      "cell_type": "code",
      "source": [
        "df.info()"
      ],
      "metadata": {
        "colab": {
          "base_uri": "https://localhost:8080/"
        },
        "id": "dMYTAgVrA6sU",
        "outputId": "ceba5e65-179d-4eec-c68b-eac7dc01a7e5"
      },
      "execution_count": 1119,
      "outputs": [
        {
          "output_type": "stream",
          "name": "stdout",
          "text": [
            "<class 'pandas.core.frame.DataFrame'>\n",
            "RangeIndex: 15919 entries, 0 to 15918\n",
            "Data columns (total 34 columns):\n",
            " #   Column                 Non-Null Count  Dtype  \n",
            "---  ------                 --------------  -----  \n",
            " 0   Make_Model             15919 non-null  object \n",
            " 1   Body_Type              15859 non-null  object \n",
            " 2   Price                  15919 non-null  int64  \n",
            " 3   Vat                    11406 non-null  object \n",
            " 4   Km                     14895 non-null  float64\n",
            " 5   Previous_Owners        9279 non-null   float64\n",
            " 6   Inspection_new         3932 non-null   object \n",
            " 7   Warranty               4853 non-null   float64\n",
            " 8   Paint_Type             10147 non-null  object \n",
            " 9   Nr_of_Doors            15707 non-null  float64\n",
            " 10  Nr_of_Seats            14942 non-null  float64\n",
            " 11  Gearing_Type           15919 non-null  object \n",
            " 12  Cylinders              10239 non-null  float64\n",
            " 13  Drive_Chain            9061 non-null   object \n",
            " 14  Fuel                   15919 non-null  object \n",
            " 15  Co_2_Emission          14111 non-null  object \n",
            " 16  Emission_Class         12898 non-null  object \n",
            " 17  Comfort_&_Convenience  14999 non-null  object \n",
            " 18  Entertainment_&_Media  14545 non-null  object \n",
            " 19  Extras                 12957 non-null  object \n",
            " 20  Safety_&_Security      14937 non-null  object \n",
            " 21  Emission_Label         3985 non-null   object \n",
            " 22  Gears                  11207 non-null  object \n",
            " 23  Country_Version        7586 non-null   object \n",
            " 24  Age                    14322 non-null  float64\n",
            " 25  hp_kW                  15831 non-null  float64\n",
            " 26  Type                   15917 non-null  object \n",
            " 27  Upholstery_type        11048 non-null  object \n",
            " 28  Upholstery_color       10841 non-null  object \n",
            " 29  Displacement_cc        15423 non-null  float64\n",
            " 30  Weight_kg              8945 non-null   float64\n",
            " 31  cons_comb              13886 non-null  float64\n",
            " 32  cons_city              13483 non-null  float64\n",
            " 33  cons_country           13543 non-null  float64\n",
            "dtypes: float64(13), int64(1), object(20)\n",
            "memory usage: 4.1+ MB\n"
          ]
        }
      ]
    },
    {
      "cell_type": "code",
      "source": [
        "df[\"Co_2_Emission\"]"
      ],
      "metadata": {
        "colab": {
          "base_uri": "https://localhost:8080/"
        },
        "id": "EqG03pFTAFLP",
        "outputId": "513b5c36-ace7-42f3-835c-aed08551b513"
      },
      "execution_count": 1120,
      "outputs": [
        {
          "output_type": "execute_result",
          "data": {
            "text/plain": [
              "0         [\\n99 g CO2/km (comb)\\n]\n",
              "1        [\\n129 g CO2/km (comb)\\n]\n",
              "2         [\\n99 g CO2/km (comb)\\n]\n",
              "3         [\\n99 g CO2/km (comb)\\n]\n",
              "4        [\\n109 g CO2/km (comb)\\n]\n",
              "                   ...            \n",
              "15914    [\\n139 g CO2/km (comb)\\n]\n",
              "15915    [\\n168 g CO2/km (comb)\\n]\n",
              "15916    [\\n139 g CO2/km (comb)\\n]\n",
              "15917    [\\n139 g CO2/km (comb)\\n]\n",
              "15918    [\\n153 g CO2/km (comb)\\n]\n",
              "Name: Co_2_Emission, Length: 15919, dtype: object"
            ]
          },
          "metadata": {},
          "execution_count": 1120
        }
      ]
    },
    {
      "cell_type": "code",
      "source": [
        "df[\"Co_2_Emission\"].astype('str').value_counts(dropna=False)"
      ],
      "metadata": {
        "colab": {
          "base_uri": "https://localhost:8080/"
        },
        "id": "4guVbuL6AFIh",
        "outputId": "bb042395-8525-4f8c-dd86-a3e87df8840f"
      },
      "execution_count": 1121,
      "outputs": [
        {
          "output_type": "execute_result",
          "data": {
            "text/plain": [
              "nan                              1808\n",
              "['\\n120 g CO2/km (comb)\\n']       740\n",
              "[[], [], []]                      628\n",
              "['\\n99 g CO2/km (comb)\\n']        545\n",
              "['\\n97 g CO2/km (comb)\\n']        537\n",
              "                                 ... \n",
              "['\\n14 g CO2/km (comb)\\n']          1\n",
              "['\\n1,060 g CO2/km (comb)\\n']       1\n",
              "['\\n51 g CO2/km (comb)\\n']          1\n",
              "['\\n165 g CO2/km (comb)\\n']         1\n",
              "['\\n193 g CO2/km (comb)\\n']         1\n",
              "Name: Co_2_Emission, Length: 124, dtype: int64"
            ]
          },
          "metadata": {},
          "execution_count": 1121
        }
      ]
    },
    {
      "cell_type": "code",
      "source": [
        "df[\"Co_2_Emission\"]=df[\"Co_2_Emission\"].str[0].str.strip().str.replace(',', '').str.extract('(\\d+)').astype('float')"
      ],
      "metadata": {
        "id": "GSK0q7KMAFFG"
      },
      "execution_count": 1122,
      "outputs": []
    },
    {
      "cell_type": "code",
      "source": [
        "df[\"Co_2_Emission\"].value_counts(dropna=False)"
      ],
      "metadata": {
        "colab": {
          "base_uri": "https://localhost:8080/"
        },
        "id": "ayDDUW9gAmwB",
        "outputId": "8d2d6a26-7db3-4e5d-86ba-383ab3d81ffc"
      },
      "execution_count": 1123,
      "outputs": [
        {
          "output_type": "execute_result",
          "data": {
            "text/plain": [
              "NaN        2436\n",
              "120.00      740\n",
              "99.00       545\n",
              "97.00       537\n",
              "104.00      501\n",
              "           ... \n",
              "14.00         1\n",
              "1060.00       1\n",
              "51.00         1\n",
              "165.00        1\n",
              "193.00        1\n",
              "Name: Co_2_Emission, Length: 123, dtype: int64"
            ]
          },
          "metadata": {},
          "execution_count": 1123
        }
      ]
    },
    {
      "cell_type": "code",
      "source": [
        "df.info()"
      ],
      "metadata": {
        "colab": {
          "base_uri": "https://localhost:8080/"
        },
        "id": "68xHl7-iAmqK",
        "outputId": "3cc5d730-c268-453e-bbbc-f870915f8b36"
      },
      "execution_count": 1124,
      "outputs": [
        {
          "output_type": "stream",
          "name": "stdout",
          "text": [
            "<class 'pandas.core.frame.DataFrame'>\n",
            "RangeIndex: 15919 entries, 0 to 15918\n",
            "Data columns (total 34 columns):\n",
            " #   Column                 Non-Null Count  Dtype  \n",
            "---  ------                 --------------  -----  \n",
            " 0   Make_Model             15919 non-null  object \n",
            " 1   Body_Type              15859 non-null  object \n",
            " 2   Price                  15919 non-null  int64  \n",
            " 3   Vat                    11406 non-null  object \n",
            " 4   Km                     14895 non-null  float64\n",
            " 5   Previous_Owners        9279 non-null   float64\n",
            " 6   Inspection_new         3932 non-null   object \n",
            " 7   Warranty               4853 non-null   float64\n",
            " 8   Paint_Type             10147 non-null  object \n",
            " 9   Nr_of_Doors            15707 non-null  float64\n",
            " 10  Nr_of_Seats            14942 non-null  float64\n",
            " 11  Gearing_Type           15919 non-null  object \n",
            " 12  Cylinders              10239 non-null  float64\n",
            " 13  Drive_Chain            9061 non-null   object \n",
            " 14  Fuel                   15919 non-null  object \n",
            " 15  Co_2_Emission          13483 non-null  float64\n",
            " 16  Emission_Class         12898 non-null  object \n",
            " 17  Comfort_&_Convenience  14999 non-null  object \n",
            " 18  Entertainment_&_Media  14545 non-null  object \n",
            " 19  Extras                 12957 non-null  object \n",
            " 20  Safety_&_Security      14937 non-null  object \n",
            " 21  Emission_Label         3985 non-null   object \n",
            " 22  Gears                  11207 non-null  object \n",
            " 23  Country_Version        7586 non-null   object \n",
            " 24  Age                    14322 non-null  float64\n",
            " 25  hp_kW                  15831 non-null  float64\n",
            " 26  Type                   15917 non-null  object \n",
            " 27  Upholstery_type        11048 non-null  object \n",
            " 28  Upholstery_color       10841 non-null  object \n",
            " 29  Displacement_cc        15423 non-null  float64\n",
            " 30  Weight_kg              8945 non-null   float64\n",
            " 31  cons_comb              13886 non-null  float64\n",
            " 32  cons_city              13483 non-null  float64\n",
            " 33  cons_country           13543 non-null  float64\n",
            "dtypes: float64(14), int64(1), object(19)\n",
            "memory usage: 4.1+ MB\n"
          ]
        }
      ]
    },
    {
      "cell_type": "code",
      "source": [
        "df_yedek_2=df.copy()"
      ],
      "metadata": {
        "id": "HrG3k0DWAmnG"
      },
      "execution_count": 1125,
      "outputs": []
    },
    {
      "cell_type": "markdown",
      "source": [
        "## Emission Class & Emission Label"
      ],
      "metadata": {
        "id": "RGpa2CY8FtGY"
      }
    },
    {
      "cell_type": "code",
      "source": [
        "df.info()"
      ],
      "metadata": {
        "colab": {
          "base_uri": "https://localhost:8080/"
        },
        "id": "BjYmAyVrAmhD",
        "outputId": "1c110dee-9590-41fd-80e7-d8b40dccc104"
      },
      "execution_count": 1126,
      "outputs": [
        {
          "output_type": "stream",
          "name": "stdout",
          "text": [
            "<class 'pandas.core.frame.DataFrame'>\n",
            "RangeIndex: 15919 entries, 0 to 15918\n",
            "Data columns (total 34 columns):\n",
            " #   Column                 Non-Null Count  Dtype  \n",
            "---  ------                 --------------  -----  \n",
            " 0   Make_Model             15919 non-null  object \n",
            " 1   Body_Type              15859 non-null  object \n",
            " 2   Price                  15919 non-null  int64  \n",
            " 3   Vat                    11406 non-null  object \n",
            " 4   Km                     14895 non-null  float64\n",
            " 5   Previous_Owners        9279 non-null   float64\n",
            " 6   Inspection_new         3932 non-null   object \n",
            " 7   Warranty               4853 non-null   float64\n",
            " 8   Paint_Type             10147 non-null  object \n",
            " 9   Nr_of_Doors            15707 non-null  float64\n",
            " 10  Nr_of_Seats            14942 non-null  float64\n",
            " 11  Gearing_Type           15919 non-null  object \n",
            " 12  Cylinders              10239 non-null  float64\n",
            " 13  Drive_Chain            9061 non-null   object \n",
            " 14  Fuel                   15919 non-null  object \n",
            " 15  Co_2_Emission          13483 non-null  float64\n",
            " 16  Emission_Class         12898 non-null  object \n",
            " 17  Comfort_&_Convenience  14999 non-null  object \n",
            " 18  Entertainment_&_Media  14545 non-null  object \n",
            " 19  Extras                 12957 non-null  object \n",
            " 20  Safety_&_Security      14937 non-null  object \n",
            " 21  Emission_Label         3985 non-null   object \n",
            " 22  Gears                  11207 non-null  object \n",
            " 23  Country_Version        7586 non-null   object \n",
            " 24  Age                    14322 non-null  float64\n",
            " 25  hp_kW                  15831 non-null  float64\n",
            " 26  Type                   15917 non-null  object \n",
            " 27  Upholstery_type        11048 non-null  object \n",
            " 28  Upholstery_color       10841 non-null  object \n",
            " 29  Displacement_cc        15423 non-null  float64\n",
            " 30  Weight_kg              8945 non-null   float64\n",
            " 31  cons_comb              13886 non-null  float64\n",
            " 32  cons_city              13483 non-null  float64\n",
            " 33  cons_country           13543 non-null  float64\n",
            "dtypes: float64(14), int64(1), object(19)\n",
            "memory usage: 4.1+ MB\n"
          ]
        }
      ]
    },
    {
      "cell_type": "code",
      "source": [
        "df[\"Emission_Class\"]"
      ],
      "metadata": {
        "colab": {
          "base_uri": "https://localhost:8080/"
        },
        "id": "S9MYTIkFCPQE",
        "outputId": "f414c8e1-d735-4a66-cbb6-67c7b66657c3"
      },
      "execution_count": 1127,
      "outputs": [
        {
          "output_type": "execute_result",
          "data": {
            "text/plain": [
              "0              [\\nEuro 6\\n]\n",
              "1              [\\nEuro 6\\n]\n",
              "2              [\\nEuro 6\\n]\n",
              "3              [\\nEuro 6\\n]\n",
              "4              [\\nEuro 6\\n]\n",
              "                ...        \n",
              "15914                   NaN\n",
              "15915                   NaN\n",
              "15916    [\\nEuro 6d-TEMP\\n]\n",
              "15917          [\\nEuro 6\\n]\n",
              "15918          [\\nEuro 6\\n]\n",
              "Name: Emission_Class, Length: 15919, dtype: object"
            ]
          },
          "metadata": {},
          "execution_count": 1127
        }
      ]
    },
    {
      "cell_type": "code",
      "source": [
        "df['Emission_Class'].str[0].str.strip('\\n').astype(\"str\").value_counts()\n"
      ],
      "metadata": {
        "colab": {
          "base_uri": "https://localhost:8080/"
        },
        "id": "mqNz6_CtCPMp",
        "outputId": "38551522-ec1c-4671-9f5f-91e9d46e6ff2"
      },
      "execution_count": 1128,
      "outputs": [
        {
          "output_type": "execute_result",
          "data": {
            "text/plain": [
              "Euro 6          10139\n",
              "nan              3628\n",
              "Euro 6d-TEMP     1845\n",
              "Euro 6c           127\n",
              "Euro 5             78\n",
              "Euro 6d            62\n",
              "Euro 4             40\n",
              "Name: Emission_Class, dtype: int64"
            ]
          },
          "metadata": {},
          "execution_count": 1128
        }
      ]
    },
    {
      "cell_type": "code",
      "source": [
        "df['Emission_Class']=df['Emission_Class'].str[0].str.strip('\\n').astype(\"str\")"
      ],
      "metadata": {
        "id": "3dC_5Z5rCPHD"
      },
      "execution_count": 1129,
      "outputs": []
    },
    {
      "cell_type": "code",
      "source": [
        "df['Emission_Class'].value_counts(dropna=False)"
      ],
      "metadata": {
        "colab": {
          "base_uri": "https://localhost:8080/"
        },
        "id": "A7m_R-muCPD_",
        "outputId": "cd8a861e-ba04-46ac-90a3-f20fea96119c"
      },
      "execution_count": 1130,
      "outputs": [
        {
          "output_type": "execute_result",
          "data": {
            "text/plain": [
              "Euro 6          10139\n",
              "nan              3628\n",
              "Euro 6d-TEMP     1845\n",
              "Euro 6c           127\n",
              "Euro 5             78\n",
              "Euro 6d            62\n",
              "Euro 4             40\n",
              "Name: Emission_Class, dtype: int64"
            ]
          },
          "metadata": {},
          "execution_count": 1130
        }
      ]
    },
    {
      "cell_type": "code",
      "source": [
        "df.replace({\"Emission_Class\" : {\"Euro 6d-TEMP\": \"Euro 6\", \"Euro 6c\": \"Euro 6\", \"Euro 6d\": \"Euro 6\"}}, regex=True, inplace=True)"
      ],
      "metadata": {
        "id": "cXj6XONPCPBo"
      },
      "execution_count": 1131,
      "outputs": []
    },
    {
      "cell_type": "code",
      "source": [
        "df[\"Emission_Class\"].value_counts(dropna=False)"
      ],
      "metadata": {
        "colab": {
          "base_uri": "https://localhost:8080/"
        },
        "id": "iiQkWqAqCO_O",
        "outputId": "2f6ec969-166f-41b8-8eb7-fa2948194401"
      },
      "execution_count": 1132,
      "outputs": [
        {
          "output_type": "execute_result",
          "data": {
            "text/plain": [
              "Euro 6    12173\n",
              "nan        3628\n",
              "Euro 5       78\n",
              "Euro 4       40\n",
              "Name: Emission_Class, dtype: int64"
            ]
          },
          "metadata": {},
          "execution_count": 1132
        }
      ]
    },
    {
      "cell_type": "code",
      "source": [
        "df[\"Emission_Label\"]"
      ],
      "metadata": {
        "colab": {
          "base_uri": "https://localhost:8080/"
        },
        "id": "tYxg2t-7CO8-",
        "outputId": "f82be84b-a410-444f-eab3-1cfa3a0aaa90"
      },
      "execution_count": 1133,
      "outputs": [
        {
          "output_type": "execute_result",
          "data": {
            "text/plain": [
              "0                    NaN\n",
              "1        [\\n4 (Green)\\n]\n",
              "2        [\\n4 (Green)\\n]\n",
              "3                    NaN\n",
              "4                    NaN\n",
              "              ...       \n",
              "15914                NaN\n",
              "15915                NaN\n",
              "15916                NaN\n",
              "15917                NaN\n",
              "15918    [\\n4 (Green)\\n]\n",
              "Name: Emission_Label, Length: 15919, dtype: object"
            ]
          },
          "metadata": {},
          "execution_count": 1133
        }
      ]
    },
    {
      "cell_type": "code",
      "source": [
        "df['Emission_Label'].str[0].str.strip('\\n').astype(\"str\").value_counts(dropna=False)"
      ],
      "metadata": {
        "colab": {
          "base_uri": "https://localhost:8080/"
        },
        "id": "r2gpQIOLCO3y",
        "outputId": "317b8573-24f8-489a-e2fa-cb1fe1792e5a"
      },
      "execution_count": 1134,
      "outputs": [
        {
          "output_type": "execute_result",
          "data": {
            "text/plain": [
              "nan               11974\n",
              "4 (Green)          3553\n",
              "1 (No sticker)      381\n",
              "5 (Blue)              8\n",
              "3 (Yellow)            2\n",
              "2 (Red)               1\n",
              "Name: Emission_Label, dtype: int64"
            ]
          },
          "metadata": {},
          "execution_count": 1134
        }
      ]
    },
    {
      "cell_type": "code",
      "source": [
        "df.drop(['Emission_Label'],axis=1, inplace=True)"
      ],
      "metadata": {
        "id": "C3FRqLrpCO0P"
      },
      "execution_count": 1135,
      "outputs": []
    },
    {
      "cell_type": "code",
      "source": [
        "df.info()"
      ],
      "metadata": {
        "colab": {
          "base_uri": "https://localhost:8080/"
        },
        "id": "PXDOMEKcHa4E",
        "outputId": "6cdcc2b4-6318-49a6-e183-6136e8edc005"
      },
      "execution_count": 1136,
      "outputs": [
        {
          "output_type": "stream",
          "name": "stdout",
          "text": [
            "<class 'pandas.core.frame.DataFrame'>\n",
            "RangeIndex: 15919 entries, 0 to 15918\n",
            "Data columns (total 33 columns):\n",
            " #   Column                 Non-Null Count  Dtype  \n",
            "---  ------                 --------------  -----  \n",
            " 0   Make_Model             15919 non-null  object \n",
            " 1   Body_Type              15859 non-null  object \n",
            " 2   Price                  15919 non-null  int64  \n",
            " 3   Vat                    11406 non-null  object \n",
            " 4   Km                     14895 non-null  float64\n",
            " 5   Previous_Owners        9279 non-null   float64\n",
            " 6   Inspection_new         3932 non-null   object \n",
            " 7   Warranty               4853 non-null   float64\n",
            " 8   Paint_Type             10147 non-null  object \n",
            " 9   Nr_of_Doors            15707 non-null  float64\n",
            " 10  Nr_of_Seats            14942 non-null  float64\n",
            " 11  Gearing_Type           15919 non-null  object \n",
            " 12  Cylinders              10239 non-null  float64\n",
            " 13  Drive_Chain            9061 non-null   object \n",
            " 14  Fuel                   15919 non-null  object \n",
            " 15  Co_2_Emission          13483 non-null  float64\n",
            " 16  Emission_Class         15919 non-null  object \n",
            " 17  Comfort_&_Convenience  14999 non-null  object \n",
            " 18  Entertainment_&_Media  14545 non-null  object \n",
            " 19  Extras                 12957 non-null  object \n",
            " 20  Safety_&_Security      14937 non-null  object \n",
            " 21  Gears                  11207 non-null  object \n",
            " 22  Country_Version        7586 non-null   object \n",
            " 23  Age                    14322 non-null  float64\n",
            " 24  hp_kW                  15831 non-null  float64\n",
            " 25  Type                   15917 non-null  object \n",
            " 26  Upholstery_type        11048 non-null  object \n",
            " 27  Upholstery_color       10841 non-null  object \n",
            " 28  Displacement_cc        15423 non-null  float64\n",
            " 29  Weight_kg              8945 non-null   float64\n",
            " 30  cons_comb              13886 non-null  float64\n",
            " 31  cons_city              13483 non-null  float64\n",
            " 32  cons_country           13543 non-null  float64\n",
            "dtypes: float64(14), int64(1), object(18)\n",
            "memory usage: 4.0+ MB\n"
          ]
        }
      ]
    },
    {
      "cell_type": "markdown",
      "source": [
        "#Gears"
      ],
      "metadata": {
        "id": "UZU19RjCIPDF"
      }
    },
    {
      "cell_type": "code",
      "source": [
        "df['Gears'].str[0].str.strip('\\n').astype(\"str\").value_counts()\n",
        "#df['Nr_of_Seats'].str[0].str.strip('\\n').astype('float')\n",
        "#df[\"Model_Code\"].astype('str').value_counts(dropna=False)\n",
        "#df.Weight.str[0].str.strip('\\n').str.replace(',', '').str.extract('(\\d+)').astype('float').value_counts()"
      ],
      "metadata": {
        "colab": {
          "base_uri": "https://localhost:8080/"
        },
        "id": "Dgfip0WHHa1N",
        "outputId": "f9e773b1-eed2-4b65-c832-577b60206fb1"
      },
      "execution_count": 1137,
      "outputs": [
        {
          "output_type": "execute_result",
          "data": {
            "text/plain": [
              "6      5822\n",
              "nan    4712\n",
              "5      3239\n",
              "7      1908\n",
              "8       224\n",
              "9         6\n",
              "1         2\n",
              "3         2\n",
              "4         2\n",
              "2         1\n",
              "50        1\n",
              "Name: Gears, dtype: int64"
            ]
          },
          "metadata": {},
          "execution_count": 1137
        }
      ]
    },
    {
      "cell_type": "code",
      "source": [
        "df[\"Gears\"]=df['Gears'].str[0].str.strip('\\n').astype(\"str\")"
      ],
      "metadata": {
        "id": "YQKZAwCDHayw"
      },
      "execution_count": 1138,
      "outputs": []
    },
    {
      "cell_type": "code",
      "source": [
        "df[\"Gears\"].value_counts(dropna=False)"
      ],
      "metadata": {
        "colab": {
          "base_uri": "https://localhost:8080/"
        },
        "id": "fU90D_SMHav9",
        "outputId": "1b43aee6-798a-48d0-a87d-246177a4947c"
      },
      "execution_count": 1139,
      "outputs": [
        {
          "output_type": "execute_result",
          "data": {
            "text/plain": [
              "6      5822\n",
              "nan    4712\n",
              "5      3239\n",
              "7      1908\n",
              "8       224\n",
              "9         6\n",
              "1         2\n",
              "3         2\n",
              "4         2\n",
              "2         1\n",
              "50        1\n",
              "Name: Gears, dtype: int64"
            ]
          },
          "metadata": {},
          "execution_count": 1139
        }
      ]
    },
    {
      "cell_type": "code",
      "source": [
        "df.info()"
      ],
      "metadata": {
        "colab": {
          "base_uri": "https://localhost:8080/"
        },
        "id": "w3ZvKn0QHatR",
        "outputId": "8f65f038-c5f3-45f7-cf2c-3e06aadb58ca"
      },
      "execution_count": 1140,
      "outputs": [
        {
          "output_type": "stream",
          "name": "stdout",
          "text": [
            "<class 'pandas.core.frame.DataFrame'>\n",
            "RangeIndex: 15919 entries, 0 to 15918\n",
            "Data columns (total 33 columns):\n",
            " #   Column                 Non-Null Count  Dtype  \n",
            "---  ------                 --------------  -----  \n",
            " 0   Make_Model             15919 non-null  object \n",
            " 1   Body_Type              15859 non-null  object \n",
            " 2   Price                  15919 non-null  int64  \n",
            " 3   Vat                    11406 non-null  object \n",
            " 4   Km                     14895 non-null  float64\n",
            " 5   Previous_Owners        9279 non-null   float64\n",
            " 6   Inspection_new         3932 non-null   object \n",
            " 7   Warranty               4853 non-null   float64\n",
            " 8   Paint_Type             10147 non-null  object \n",
            " 9   Nr_of_Doors            15707 non-null  float64\n",
            " 10  Nr_of_Seats            14942 non-null  float64\n",
            " 11  Gearing_Type           15919 non-null  object \n",
            " 12  Cylinders              10239 non-null  float64\n",
            " 13  Drive_Chain            9061 non-null   object \n",
            " 14  Fuel                   15919 non-null  object \n",
            " 15  Co_2_Emission          13483 non-null  float64\n",
            " 16  Emission_Class         15919 non-null  object \n",
            " 17  Comfort_&_Convenience  14999 non-null  object \n",
            " 18  Entertainment_&_Media  14545 non-null  object \n",
            " 19  Extras                 12957 non-null  object \n",
            " 20  Safety_&_Security      14937 non-null  object \n",
            " 21  Gears                  15919 non-null  object \n",
            " 22  Country_Version        7586 non-null   object \n",
            " 23  Age                    14322 non-null  float64\n",
            " 24  hp_kW                  15831 non-null  float64\n",
            " 25  Type                   15917 non-null  object \n",
            " 26  Upholstery_type        11048 non-null  object \n",
            " 27  Upholstery_color       10841 non-null  object \n",
            " 28  Displacement_cc        15423 non-null  float64\n",
            " 29  Weight_kg              8945 non-null   float64\n",
            " 30  cons_comb              13886 non-null  float64\n",
            " 31  cons_city              13483 non-null  float64\n",
            " 32  cons_country           13543 non-null  float64\n",
            "dtypes: float64(14), int64(1), object(18)\n",
            "memory usage: 4.0+ MB\n"
          ]
        }
      ]
    },
    {
      "cell_type": "markdown",
      "source": [
        "# Country Version"
      ],
      "metadata": {
        "id": "vBJ5bktEIv6b"
      }
    },
    {
      "cell_type": "code",
      "source": [
        "df['Country_Version'].str[0].str.strip('\\n').astype(\"str\").value_counts()\n"
      ],
      "metadata": {
        "colab": {
          "base_uri": "https://localhost:8080/"
        },
        "id": "NRlO55H8Haq0",
        "outputId": "8bdac3d2-b78d-4e89-91c4-8d827bde5422"
      },
      "execution_count": 1141,
      "outputs": [
        {
          "output_type": "execute_result",
          "data": {
            "text/plain": [
              "nan               8333\n",
              "Germany           4502\n",
              "Italy             1038\n",
              "European Union     507\n",
              "Netherlands        464\n",
              "Spain              325\n",
              "Belgium            314\n",
              "Austria            208\n",
              "Czech Republic      52\n",
              "Poland              49\n",
              "France              38\n",
              "Denmark             33\n",
              "Hungary             28\n",
              "Japan                8\n",
              "Slovakia             4\n",
              "Croatia              4\n",
              "Sweden               3\n",
              "Romania              2\n",
              "Bulgaria             2\n",
              "Luxembourg           1\n",
              "Switzerland          1\n",
              "Slovenia             1\n",
              "Egypt                1\n",
              "Serbia               1\n",
              "Name: Country_Version, dtype: int64"
            ]
          },
          "metadata": {},
          "execution_count": 1141
        }
      ]
    },
    {
      "cell_type": "code",
      "source": [
        "df.drop(\"Country_Version\",axis=1,inplace=True)"
      ],
      "metadata": {
        "id": "U2v16X3BI-e2"
      },
      "execution_count": 1142,
      "outputs": []
    },
    {
      "cell_type": "code",
      "source": [
        "df.info()"
      ],
      "metadata": {
        "colab": {
          "base_uri": "https://localhost:8080/"
        },
        "id": "e0u5qdd7Han0",
        "outputId": "608ff494-2880-41de-e3e9-2b2519548540"
      },
      "execution_count": 1143,
      "outputs": [
        {
          "output_type": "stream",
          "name": "stdout",
          "text": [
            "<class 'pandas.core.frame.DataFrame'>\n",
            "RangeIndex: 15919 entries, 0 to 15918\n",
            "Data columns (total 32 columns):\n",
            " #   Column                 Non-Null Count  Dtype  \n",
            "---  ------                 --------------  -----  \n",
            " 0   Make_Model             15919 non-null  object \n",
            " 1   Body_Type              15859 non-null  object \n",
            " 2   Price                  15919 non-null  int64  \n",
            " 3   Vat                    11406 non-null  object \n",
            " 4   Km                     14895 non-null  float64\n",
            " 5   Previous_Owners        9279 non-null   float64\n",
            " 6   Inspection_new         3932 non-null   object \n",
            " 7   Warranty               4853 non-null   float64\n",
            " 8   Paint_Type             10147 non-null  object \n",
            " 9   Nr_of_Doors            15707 non-null  float64\n",
            " 10  Nr_of_Seats            14942 non-null  float64\n",
            " 11  Gearing_Type           15919 non-null  object \n",
            " 12  Cylinders              10239 non-null  float64\n",
            " 13  Drive_Chain            9061 non-null   object \n",
            " 14  Fuel                   15919 non-null  object \n",
            " 15  Co_2_Emission          13483 non-null  float64\n",
            " 16  Emission_Class         15919 non-null  object \n",
            " 17  Comfort_&_Convenience  14999 non-null  object \n",
            " 18  Entertainment_&_Media  14545 non-null  object \n",
            " 19  Extras                 12957 non-null  object \n",
            " 20  Safety_&_Security      14937 non-null  object \n",
            " 21  Gears                  15919 non-null  object \n",
            " 22  Age                    14322 non-null  float64\n",
            " 23  hp_kW                  15831 non-null  float64\n",
            " 24  Type                   15917 non-null  object \n",
            " 25  Upholstery_type        11048 non-null  object \n",
            " 26  Upholstery_color       10841 non-null  object \n",
            " 27  Displacement_cc        15423 non-null  float64\n",
            " 28  Weight_kg              8945 non-null   float64\n",
            " 29  cons_comb              13886 non-null  float64\n",
            " 30  cons_city              13483 non-null  float64\n",
            " 31  cons_country           13543 non-null  float64\n",
            "dtypes: float64(14), int64(1), object(17)\n",
            "memory usage: 3.9+ MB\n"
          ]
        }
      ]
    },
    {
      "cell_type": "code",
      "source": [
        "df.info()"
      ],
      "metadata": {
        "colab": {
          "base_uri": "https://localhost:8080/"
        },
        "id": "ms6uz36jMuSZ",
        "outputId": "013722a4-cff3-4f38-8965-fcfa8540dea1"
      },
      "execution_count": 1144,
      "outputs": [
        {
          "output_type": "stream",
          "name": "stdout",
          "text": [
            "<class 'pandas.core.frame.DataFrame'>\n",
            "RangeIndex: 15919 entries, 0 to 15918\n",
            "Data columns (total 32 columns):\n",
            " #   Column                 Non-Null Count  Dtype  \n",
            "---  ------                 --------------  -----  \n",
            " 0   Make_Model             15919 non-null  object \n",
            " 1   Body_Type              15859 non-null  object \n",
            " 2   Price                  15919 non-null  int64  \n",
            " 3   Vat                    11406 non-null  object \n",
            " 4   Km                     14895 non-null  float64\n",
            " 5   Previous_Owners        9279 non-null   float64\n",
            " 6   Inspection_new         3932 non-null   object \n",
            " 7   Warranty               4853 non-null   float64\n",
            " 8   Paint_Type             10147 non-null  object \n",
            " 9   Nr_of_Doors            15707 non-null  float64\n",
            " 10  Nr_of_Seats            14942 non-null  float64\n",
            " 11  Gearing_Type           15919 non-null  object \n",
            " 12  Cylinders              10239 non-null  float64\n",
            " 13  Drive_Chain            9061 non-null   object \n",
            " 14  Fuel                   15919 non-null  object \n",
            " 15  Co_2_Emission          13483 non-null  float64\n",
            " 16  Emission_Class         15919 non-null  object \n",
            " 17  Comfort_&_Convenience  14999 non-null  object \n",
            " 18  Entertainment_&_Media  14545 non-null  object \n",
            " 19  Extras                 12957 non-null  object \n",
            " 20  Safety_&_Security      14937 non-null  object \n",
            " 21  Gears                  15919 non-null  object \n",
            " 22  Age                    14322 non-null  float64\n",
            " 23  hp_kW                  15831 non-null  float64\n",
            " 24  Type                   15917 non-null  object \n",
            " 25  Upholstery_type        11048 non-null  object \n",
            " 26  Upholstery_color       10841 non-null  object \n",
            " 27  Displacement_cc        15423 non-null  float64\n",
            " 28  Weight_kg              8945 non-null   float64\n",
            " 29  cons_comb              13886 non-null  float64\n",
            " 30  cons_city              13483 non-null  float64\n",
            " 31  cons_country           13543 non-null  float64\n",
            "dtypes: float64(14), int64(1), object(17)\n",
            "memory usage: 3.9+ MB\n"
          ]
        }
      ]
    },
    {
      "cell_type": "markdown",
      "source": [
        "## Comfort_Convenience"
      ],
      "metadata": {
        "id": "Nsqt7u9wJ1ly"
      }
    },
    {
      "cell_type": "code",
      "source": [
        "df[\"Comfort_&_Convenience\"].astype('str').value_counts(dropna=False).head()"
      ],
      "metadata": {
        "colab": {
          "base_uri": "https://localhost:8080/"
        },
        "id": "G_Wv_YdENMby",
        "outputId": "0fc9acd6-798a-4719-8546-5e23e7c1f056"
      },
      "execution_count": 1145,
      "outputs": [
        {
          "output_type": "execute_result",
          "data": {
            "text/plain": [
              "nan                                                                                                                                                                                                                                                                                                                                                                                                       920\n",
              "['Air conditioning', 'Electrical side mirrors', 'Hill Holder', 'Power windows']                                                                                                                                                                                                                                                                                                                           216\n",
              "['Air conditioning', 'Electrical side mirrors', 'Power windows']                                                                                                                                                                                                                                                                                                                                          134\n",
              "['Air conditioning', 'Power windows']                                                                                                                                                                                                                                                                                                                                                                     130\n",
              "['Air conditioning', 'Armrest', 'Automatic climate control', 'Cruise control', 'Electrical side mirrors', 'Leather steering wheel', 'Light sensor', 'Lumbar support', 'Multi-function steering wheel', 'Navigation system', 'Park Distance Control', 'Parking assist system sensors front', 'Parking assist system sensors rear', 'Power windows', 'Rain sensor', 'Seat heating', 'Start-stop system']    105\n",
              "Name: Comfort_&_Convenience, dtype: int64"
            ]
          },
          "metadata": {},
          "execution_count": 1145
        }
      ]
    },
    {
      "cell_type": "code",
      "source": [
        "df['Comfort_&_Convenience'] = [\",\".join(item) if type(item) == list else item for item in df[\"Comfort_&_Convenience\"]]"
      ],
      "metadata": {
        "id": "1Kr3GJDaNH44"
      },
      "execution_count": 1146,
      "outputs": []
    },
    {
      "cell_type": "code",
      "source": [
        "df[\"Comfort_&_Convenience\"].value_counts(dropna=False)"
      ],
      "metadata": {
        "colab": {
          "base_uri": "https://localhost:8080/"
        },
        "id": "prRQqhC1J076",
        "outputId": "35a58cfd-14d6-4948-eded-6094d6c07213"
      },
      "execution_count": 1147,
      "outputs": [
        {
          "output_type": "execute_result",
          "data": {
            "text/plain": [
              "NaN                                                                                                                                                                                                                                                                                                                                                                                                                                                                                                  920\n",
              "Air conditioning,Electrical side mirrors,Hill Holder,Power windows                                                                                                                                                                                                                                                                                                                                                                                                                                   216\n",
              "Air conditioning,Electrical side mirrors,Power windows                                                                                                                                                                                                                                                                                                                                                                                                                                               134\n",
              "Air conditioning,Power windows                                                                                                                                                                                                                                                                                                                                                                                                                                                                       130\n",
              "Air conditioning,Armrest,Automatic climate control,Cruise control,Electrical side mirrors,Leather steering wheel,Light sensor,Lumbar support,Multi-function steering wheel,Navigation system,Park Distance Control,Parking assist system sensors front,Parking assist system sensors rear,Power windows,Rain sensor,Seat heating,Start-stop system                                                                                                                                                   105\n",
              "                                                                                                                                                                                                                                                                                                                                                                                                                                                                                                    ... \n",
              "Air conditioning,Cruise control,Electrical side mirrors,Hill Holder,Leather steering wheel,Light sensor,Multi-function steering wheel,Navigation system,Park Distance Control,Parking assist system sensors rear,Power windows,Rain sensor,Split rear seats,Start-stop system,Tinted windows                                                                                                                                                                                                           1\n",
              "Air conditioning,Armrest,Automatic climate control,Cruise control,Electrical side mirrors,Heated steering wheel,Hill Holder,Leather steering wheel,Light sensor,Lumbar support,Multi-function steering wheel,Navigation system,Park Distance Control,Parking assist system camera,Parking assist system sensors front,Parking assist system sensors rear,Power windows,Rain sensor,Seat heating,Sunroof                                                                                                1\n",
              "Air conditioning,Armrest,Cruise control,Electrical side mirrors,Heated steering wheel,Hill Holder,Leather steering wheel,Light sensor,Multi-function steering wheel,Park Distance Control,Parking assist system camera,Parking assist system sensors front,Parking assist system sensors rear,Power windows,Rain sensor,Seat heating,Split rear seats,Start-stop system,Tinted windows                                                                                                                 1\n",
              "Air conditioning,Automatic climate control,Cruise control,Electrical side mirrors,Leather steering wheel,Light sensor,Multi-function steering wheel,Park Distance Control,Parking assist system sensors front,Parking assist system sensors rear,Power windows,Rain sensor,Seat heating                                                                                                                                                                                                                1\n",
              "Air conditioning,Automatic climate control,Cruise control,Electrically heated windshield,Electrical side mirrors,Electric tailgate,Heads-up display,Heated steering wheel,Hill Holder,Keyless central door lock,Leather steering wheel,Light sensor,Lumbar support,Navigation system,Park Distance Control,Parking assist system camera,Parking assist system self-steering,Parking assist system sensors front,Parking assist system sensors rear,Power windows,Rain sensor,Seat heating,Sunroof      1\n",
              "Name: Comfort_&_Convenience, Length: 6199, dtype: int64"
            ]
          },
          "metadata": {},
          "execution_count": 1147
        }
      ]
    },
    {
      "cell_type": "code",
      "source": [
        "df_yedek_2=df.copy()\n",
        "#df=df_yedek_2.copy()"
      ],
      "metadata": {
        "id": "nwnGcvaaOAEV"
      },
      "execution_count": 1148,
      "outputs": []
    },
    {
      "cell_type": "markdown",
      "source": [
        "## Entertainment_&_Media"
      ],
      "metadata": {
        "id": "unOZRDMkLcLm"
      }
    },
    {
      "cell_type": "code",
      "source": [
        "df[\"Entertainment_&_Media\"].astype('str').value_counts(dropna=False).head()"
      ],
      "metadata": {
        "colab": {
          "base_uri": "https://localhost:8080/"
        },
        "id": "eMb4_PU-N720",
        "outputId": "cf328bc7-c8c9-4c5f-c370-4d993cac672c"
      },
      "execution_count": 1149,
      "outputs": [
        {
          "output_type": "execute_result",
          "data": {
            "text/plain": [
              "nan                                                                                               1374\n",
              "['Bluetooth', 'Hands-free equipment', 'On-board computer', 'Radio', 'USB']                        1282\n",
              "['Bluetooth', 'Hands-free equipment', 'MP3', 'On-board computer', 'Radio', 'USB']                  982\n",
              "['Bluetooth', 'CD player', 'Hands-free equipment', 'MP3', 'On-board computer', 'Radio', 'USB']     783\n",
              "['On-board computer', 'Radio']                                                                     487\n",
              "Name: Entertainment_&_Media, dtype: int64"
            ]
          },
          "metadata": {},
          "execution_count": 1149
        }
      ]
    },
    {
      "cell_type": "code",
      "source": [
        "df[\"Entertainment_&_Media\"]=[\",\".join(item) if type(item) == list else item for item in df[\"Entertainment_&_Media\"]]"
      ],
      "metadata": {
        "id": "WupGsogrN7yI"
      },
      "execution_count": 1150,
      "outputs": []
    },
    {
      "cell_type": "code",
      "source": [
        "df[\"Entertainment_&_Media\"].value_counts(dropna=False).head()"
      ],
      "metadata": {
        "colab": {
          "base_uri": "https://localhost:8080/"
        },
        "id": "DSA-7pErN7ua",
        "outputId": "67d47645-1e93-4524-8ac3-a1792b10d613"
      },
      "execution_count": 1151,
      "outputs": [
        {
          "output_type": "execute_result",
          "data": {
            "text/plain": [
              "NaN                                                                         1374\n",
              "Bluetooth,Hands-free equipment,On-board computer,Radio,USB                  1282\n",
              "Bluetooth,Hands-free equipment,MP3,On-board computer,Radio,USB               982\n",
              "Bluetooth,CD player,Hands-free equipment,MP3,On-board computer,Radio,USB     783\n",
              "On-board computer,Radio                                                      487\n",
              "Name: Entertainment_&_Media, dtype: int64"
            ]
          },
          "metadata": {},
          "execution_count": 1151
        }
      ]
    },
    {
      "cell_type": "markdown",
      "source": [
        "##Extras"
      ],
      "metadata": {
        "id": "eC_gIuxpL69m"
      }
    },
    {
      "cell_type": "code",
      "source": [
        "df[\"Extras\"].astype('str').value_counts(dropna=False).head()"
      ],
      "metadata": {
        "colab": {
          "base_uri": "https://localhost:8080/"
        },
        "id": "eX04S5XrL5E1",
        "outputId": "3a7d11e3-1cf2-4eed-f8ff-bd321a4a861c"
      },
      "execution_count": 1152,
      "outputs": [
        {
          "output_type": "execute_result",
          "data": {
            "text/plain": [
              "['Alloy wheels']                                     3245\n",
              "nan                                                  2962\n",
              "['Alloy wheels', 'Touch screen']                      697\n",
              "['Alloy wheels', 'Voice Control']                     577\n",
              "['Alloy wheels', 'Touch screen', 'Voice Control']     541\n",
              "Name: Extras, dtype: int64"
            ]
          },
          "metadata": {},
          "execution_count": 1152
        }
      ]
    },
    {
      "cell_type": "code",
      "source": [
        "df[\"Extras\"] = [\",\".join(item) if type(item) == list else item for item in df[\"Extras\"]]"
      ],
      "metadata": {
        "id": "KA4N8HZwLYTu"
      },
      "execution_count": 1153,
      "outputs": []
    },
    {
      "cell_type": "code",
      "source": [
        "df[\"Extras\"].value_counts(dropna=False).head()"
      ],
      "metadata": {
        "colab": {
          "base_uri": "https://localhost:8080/"
        },
        "id": "BD_DUMZULYOP",
        "outputId": "cb5060d1-3e62-485a-9cc1-bd079bde7734"
      },
      "execution_count": 1154,
      "outputs": [
        {
          "output_type": "execute_result",
          "data": {
            "text/plain": [
              "Alloy wheels                               3245\n",
              "NaN                                        2962\n",
              "Alloy wheels,Touch screen                   697\n",
              "Alloy wheels,Voice Control                  577\n",
              "Alloy wheels,Touch screen,Voice Control     541\n",
              "Name: Extras, dtype: int64"
            ]
          },
          "metadata": {},
          "execution_count": 1154
        }
      ]
    },
    {
      "cell_type": "code",
      "source": [
        "df_yedek_2=df.copy()\n",
        "#df=df_yedek_2.copy()"
      ],
      "metadata": {
        "id": "o2kUbbdeLYJ3"
      },
      "execution_count": 1155,
      "outputs": []
    },
    {
      "cell_type": "markdown",
      "source": [
        "## Safety_Security"
      ],
      "metadata": {
        "id": "1yssl6Q1PNhi"
      }
    },
    {
      "cell_type": "code",
      "source": [
        "df.info()"
      ],
      "metadata": {
        "colab": {
          "base_uri": "https://localhost:8080/"
        },
        "id": "5kNRinRcPgLL",
        "outputId": "3cff18a0-49bd-4524-97fa-b8ebe84ebdb5"
      },
      "execution_count": 1156,
      "outputs": [
        {
          "output_type": "stream",
          "name": "stdout",
          "text": [
            "<class 'pandas.core.frame.DataFrame'>\n",
            "RangeIndex: 15919 entries, 0 to 15918\n",
            "Data columns (total 32 columns):\n",
            " #   Column                 Non-Null Count  Dtype  \n",
            "---  ------                 --------------  -----  \n",
            " 0   Make_Model             15919 non-null  object \n",
            " 1   Body_Type              15859 non-null  object \n",
            " 2   Price                  15919 non-null  int64  \n",
            " 3   Vat                    11406 non-null  object \n",
            " 4   Km                     14895 non-null  float64\n",
            " 5   Previous_Owners        9279 non-null   float64\n",
            " 6   Inspection_new         3932 non-null   object \n",
            " 7   Warranty               4853 non-null   float64\n",
            " 8   Paint_Type             10147 non-null  object \n",
            " 9   Nr_of_Doors            15707 non-null  float64\n",
            " 10  Nr_of_Seats            14942 non-null  float64\n",
            " 11  Gearing_Type           15919 non-null  object \n",
            " 12  Cylinders              10239 non-null  float64\n",
            " 13  Drive_Chain            9061 non-null   object \n",
            " 14  Fuel                   15919 non-null  object \n",
            " 15  Co_2_Emission          13483 non-null  float64\n",
            " 16  Emission_Class         15919 non-null  object \n",
            " 17  Comfort_&_Convenience  14999 non-null  object \n",
            " 18  Entertainment_&_Media  14545 non-null  object \n",
            " 19  Extras                 12957 non-null  object \n",
            " 20  Safety_&_Security      14937 non-null  object \n",
            " 21  Gears                  15919 non-null  object \n",
            " 22  Age                    14322 non-null  float64\n",
            " 23  hp_kW                  15831 non-null  float64\n",
            " 24  Type                   15917 non-null  object \n",
            " 25  Upholstery_type        11048 non-null  object \n",
            " 26  Upholstery_color       10841 non-null  object \n",
            " 27  Displacement_cc        15423 non-null  float64\n",
            " 28  Weight_kg              8945 non-null   float64\n",
            " 29  cons_comb              13886 non-null  float64\n",
            " 30  cons_city              13483 non-null  float64\n",
            " 31  cons_country           13543 non-null  float64\n",
            "dtypes: float64(14), int64(1), object(17)\n",
            "memory usage: 3.9+ MB\n"
          ]
        }
      ]
    },
    {
      "cell_type": "code",
      "source": [
        "df[\"Safety_&_Security\"].astype('str').value_counts(dropna=False).head()"
      ],
      "metadata": {
        "colab": {
          "base_uri": "https://localhost:8080/"
        },
        "id": "s672UVYmLYHA",
        "outputId": "5761c9b5-8a94-49fa-8ac9-8c93cdbecf9c"
      },
      "execution_count": 1157,
      "outputs": [
        {
          "output_type": "execute_result",
          "data": {
            "text/plain": [
              "nan                                                                                                                                                                                                                                                                                                   982\n",
              "['ABS', 'Central door lock', 'Daytime running lights', 'Driver-side airbag', 'Electronic stability control', 'Fog lights', 'Immobilizer', 'Isofix', 'Passenger-side airbag', 'Power steering', 'Side airbag', 'Tire pressure monitoring system', 'Traction control']                                  538\n",
              "['ABS', 'Central door lock', 'Daytime running lights', 'Driver-side airbag', 'Electronic stability control', 'Immobilizer', 'Isofix', 'Passenger-side airbag', 'Power steering', 'Side airbag', 'Tire pressure monitoring system', 'Traction control']                                                480\n",
              "['ABS', 'Central door lock', 'Daytime running lights', 'Driver-side airbag', 'Electronic stability control', 'Immobilizer', 'Isofix', 'Passenger-side airbag', 'Power steering', 'Side airbag', 'Tire pressure monitoring system', 'Traction control', 'Xenon headlights']                            275\n",
              "['ABS', 'Central door lock', 'Daytime running lights', 'Driver-side airbag', 'Electronic stability control', 'Fog lights', 'Immobilizer', 'Isofix', 'LED Daytime Running Lights', 'Passenger-side airbag', 'Power steering', 'Side airbag', 'Tire pressure monitoring system', 'Traction control']    272\n",
              "Name: Safety_&_Security, dtype: int64"
            ]
          },
          "metadata": {},
          "execution_count": 1157
        }
      ]
    },
    {
      "cell_type": "code",
      "source": [
        "df[\"Safety_&_Security\"] = [\",\".join(item) if type(item) == list else item for item in df[\"Safety_&_Security\"]]"
      ],
      "metadata": {
        "id": "6wfqE_y4Iu-Y"
      },
      "execution_count": 1158,
      "outputs": []
    },
    {
      "cell_type": "code",
      "source": [
        "df[\"Safety_&_Security\"].value_counts(dropna=False)"
      ],
      "metadata": {
        "colab": {
          "base_uri": "https://localhost:8080/"
        },
        "id": "REV3KGQlIu7c",
        "outputId": "c09be4d0-992e-4742-8b00-387c319b9961"
      },
      "execution_count": 1159,
      "outputs": [
        {
          "output_type": "execute_result",
          "data": {
            "text/plain": [
              "NaN                                                                                                                                                                                                                                                                                                                                                               982\n",
              "ABS,Central door lock,Daytime running lights,Driver-side airbag,Electronic stability control,Fog lights,Immobilizer,Isofix,Passenger-side airbag,Power steering,Side airbag,Tire pressure monitoring system,Traction control                                                                                                                                      538\n",
              "ABS,Central door lock,Daytime running lights,Driver-side airbag,Electronic stability control,Immobilizer,Isofix,Passenger-side airbag,Power steering,Side airbag,Tire pressure monitoring system,Traction control                                                                                                                                                 480\n",
              "ABS,Central door lock,Daytime running lights,Driver-side airbag,Electronic stability control,Immobilizer,Isofix,Passenger-side airbag,Power steering,Side airbag,Tire pressure monitoring system,Traction control,Xenon headlights                                                                                                                                275\n",
              "ABS,Central door lock,Daytime running lights,Driver-side airbag,Electronic stability control,Fog lights,Immobilizer,Isofix,LED Daytime Running Lights,Passenger-side airbag,Power steering,Side airbag,Tire pressure monitoring system,Traction control                                                                                                           272\n",
              "                                                                                                                                                                                                                                                                                                                                                                 ... \n",
              "ABS,Central door lock,Electronic stability control,Immobilizer,Isofix,Passenger-side airbag,Power steering,Side airbag                                                                                                                                                                                                                                              1\n",
              "ABS,Adaptive Cruise Control,Central door lock,Daytime running lights,Driver-side airbag,Electronic stability control,Emergency brake assistant,Immobilizer,Isofix,Passenger-side airbag,Power steering,Side airbag,Tire pressure monitoring system,Traction control                                                                                                 1\n",
              "ABS,Adaptive Cruise Control,Alarm system,Central door lock,Driver-side airbag,Electronic stability control,Fog lights,Immobilizer,Isofix,Lane departure warning system,LED Daytime Running Lights,Passenger-side airbag,Power steering,Side airbag,Tire pressure monitoring system,Traction control,Xenon headlights                                                1\n",
              "ABS,Adaptive Cruise Control,Central door lock,Daytime running lights,Driver-side airbag,Electronic stability control,Fog lights,Immobilizer,Isofix,Power steering,Tire pressure monitoring system,Traction control                                                                                                                                                  1\n",
              "ABS,Adaptive Cruise Control,Central door lock,Daytime running lights,Driver-side airbag,Electronic stability control,Emergency brake assistant,Fog lights,Immobilizer,Isofix,Lane departure warning system,LED Daytime Running Lights,LED Headlights,Passenger-side airbag,Power steering,Side airbag,Tire pressure monitoring system,Traffic sign recognition      1\n",
              "Name: Safety_&_Security, Length: 4444, dtype: int64"
            ]
          },
          "metadata": {},
          "execution_count": 1159
        }
      ]
    },
    {
      "cell_type": "markdown",
      "source": [
        "Its Time to save our cleaned file as in cvs format"
      ],
      "metadata": {
        "id": "vJYb3ouZQIyU"
      }
    },
    {
      "cell_type": "code",
      "source": [
        "df.shape"
      ],
      "metadata": {
        "colab": {
          "base_uri": "https://localhost:8080/"
        },
        "id": "H2_O3-CKIu4F",
        "outputId": "46bafd27-701b-46cf-fb76-cc63c99a06d8"
      },
      "execution_count": 1160,
      "outputs": [
        {
          "output_type": "execute_result",
          "data": {
            "text/plain": [
              "(15919, 32)"
            ]
          },
          "metadata": {},
          "execution_count": 1160
        }
      ]
    },
    {
      "cell_type": "code",
      "source": [
        "df.head().T"
      ],
      "metadata": {
        "colab": {
          "base_uri": "https://localhost:8080/",
          "height": 1000
        },
        "id": "C0qsRS63Iu0G",
        "outputId": "87ac5e5f-c11c-4b15-acb1-ea5f409501ee"
      },
      "execution_count": 1161,
      "outputs": [
        {
          "output_type": "execute_result",
          "data": {
            "text/plain": [
              "                                                                       0  \\\n",
              "Make_Model                                                       Audi A1   \n",
              "Body_Type                                                         Sedans   \n",
              "Price                                                              15770   \n",
              "Vat                                                       VAT deductible   \n",
              "Km                                                              56013.00   \n",
              "Previous_Owners                                                     2.00   \n",
              "Inspection_new                                                       Yes   \n",
              "Warranty                                                             NaN   \n",
              "Paint_Type                                                      Metallic   \n",
              "Nr_of_Doors                                                         5.00   \n",
              "Nr_of_Seats                                                         5.00   \n",
              "Gearing_Type                                         [\\n, Automatic, \\n]   \n",
              "Cylinders                                                           3.00   \n",
              "Drive_Chain                                                        front   \n",
              "Fuel                                                              Diesel   \n",
              "Co_2_Emission                                                      99.00   \n",
              "Emission_Class                                                    Euro 6   \n",
              "Comfort_&_Convenience  Air conditioning,Armrest,Automatic climate con...   \n",
              "Entertainment_&_Media  Bluetooth,Hands-free equipment,On-board comput...   \n",
              "Extras                    Alloy wheels,Catalytic Converter,Voice Control   \n",
              "Safety_&_Security      ABS,Central door lock,Daytime running lights,D...   \n",
              "Gears                                                                nan   \n",
              "Age                                                                 3.00   \n",
              "hp_kW                                                              66.00   \n",
              "Type                                                                Used   \n",
              "Upholstery_type                                                    Cloth   \n",
              "Upholstery_color                                                   Black   \n",
              "Displacement_cc                                                  1422.00   \n",
              "Weight_kg                                                        1220.00   \n",
              "cons_comb                                                           3.80   \n",
              "cons_city                                                           4.30   \n",
              "cons_country                                                        3.50   \n",
              "\n",
              "                                                                       1  \\\n",
              "Make_Model                                                       Audi A1   \n",
              "Body_Type                                                         Sedans   \n",
              "Price                                                              14500   \n",
              "Vat                                                     Price negotiable   \n",
              "Km                                                              80000.00   \n",
              "Previous_Owners                                                      NaN   \n",
              "Inspection_new                                                       NaN   \n",
              "Warranty                                                             NaN   \n",
              "Paint_Type                                                           NaN   \n",
              "Nr_of_Doors                                                         3.00   \n",
              "Nr_of_Seats                                                         4.00   \n",
              "Gearing_Type                                         [\\n, Automatic, \\n]   \n",
              "Cylinders                                                           4.00   \n",
              "Drive_Chain                                                        front   \n",
              "Fuel                                                             Benzine   \n",
              "Co_2_Emission                                                     129.00   \n",
              "Emission_Class                                                    Euro 6   \n",
              "Comfort_&_Convenience  Air conditioning,Automatic climate control,Hil...   \n",
              "Entertainment_&_Media  Bluetooth,Hands-free equipment,On-board comput...   \n",
              "Extras                 Alloy wheels,Sport seats,Sport suspension,Voic...   \n",
              "Safety_&_Security      ABS,Central door lock,Central door lock with r...   \n",
              "Gears                                                                  7   \n",
              "Age                                                                 2.00   \n",
              "hp_kW                                                             141.00   \n",
              "Type                                                                Used   \n",
              "Upholstery_type                                                    Cloth   \n",
              "Upholstery_color                                                    Grey   \n",
              "Displacement_cc                                                  1798.00   \n",
              "Weight_kg                                                        1255.00   \n",
              "cons_comb                                                           5.60   \n",
              "cons_city                                                           7.10   \n",
              "cons_country                                                        4.70   \n",
              "\n",
              "                                                                       2  \\\n",
              "Make_Model                                                       Audi A1   \n",
              "Body_Type                                                         Sedans   \n",
              "Price                                                              14640   \n",
              "Vat                                                       VAT deductible   \n",
              "Km                                                              83450.00   \n",
              "Previous_Owners                                                     1.00   \n",
              "Inspection_new                                                       NaN   \n",
              "Warranty                                                             NaN   \n",
              "Paint_Type                                                      Metallic   \n",
              "Nr_of_Doors                                                         4.00   \n",
              "Nr_of_Seats                                                         4.00   \n",
              "Gearing_Type                                         [\\n, Automatic, \\n]   \n",
              "Cylinders                                                            NaN   \n",
              "Drive_Chain                                                        front   \n",
              "Fuel                                                              Diesel   \n",
              "Co_2_Emission                                                      99.00   \n",
              "Emission_Class                                                    Euro 6   \n",
              "Comfort_&_Convenience  Air conditioning,Cruise control,Electrical sid...   \n",
              "Entertainment_&_Media                              MP3,On-board computer   \n",
              "Extras                                        Alloy wheels,Voice Control   \n",
              "Safety_&_Security      ABS,Central door lock,Daytime running lights,D...   \n",
              "Gears                                                                nan   \n",
              "Age                                                                 3.00   \n",
              "hp_kW                                                              85.00   \n",
              "Type                                                                Used   \n",
              "Upholstery_type                                                    Cloth   \n",
              "Upholstery_color                                                   Black   \n",
              "Displacement_cc                                                  1598.00   \n",
              "Weight_kg                                                            NaN   \n",
              "cons_comb                                                           3.80   \n",
              "cons_city                                                           4.40   \n",
              "cons_country                                                        3.40   \n",
              "\n",
              "                                                                       3  \\\n",
              "Make_Model                                                       Audi A1   \n",
              "Body_Type                                                         Sedans   \n",
              "Price                                                              14500   \n",
              "Vat                                                                 None   \n",
              "Km                                                              73000.00   \n",
              "Previous_Owners                                                     1.00   \n",
              "Inspection_new                                                       NaN   \n",
              "Warranty                                                             NaN   \n",
              "Paint_Type                                                      Metallic   \n",
              "Nr_of_Doors                                                         3.00   \n",
              "Nr_of_Seats                                                         4.00   \n",
              "Gearing_Type                                         [\\n, Automatic, \\n]   \n",
              "Cylinders                                                           3.00   \n",
              "Drive_Chain                                                          NaN   \n",
              "Fuel                                                              Diesel   \n",
              "Co_2_Emission                                                      99.00   \n",
              "Emission_Class                                                    Euro 6   \n",
              "Comfort_&_Convenience  Air suspension,Armrest,Auxiliary heating,Elect...   \n",
              "Entertainment_&_Media  Bluetooth,CD player,Hands-free equipment,MP3,O...   \n",
              "Extras                            Alloy wheels,Sport seats,Voice Control   \n",
              "Safety_&_Security      ABS,Alarm system,Central door lock with remote...   \n",
              "Gears                                                                  6   \n",
              "Age                                                                 3.00   \n",
              "hp_kW                                                              66.00   \n",
              "Type                                                                Used   \n",
              "Upholstery_type                                                      NaN   \n",
              "Upholstery_color                                                     NaN   \n",
              "Displacement_cc                                                  1422.00   \n",
              "Weight_kg                                                        1195.00   \n",
              "cons_comb                                                           3.80   \n",
              "cons_city                                                           4.30   \n",
              "cons_country                                                        3.50   \n",
              "\n",
              "                                                                       4  \n",
              "Make_Model                                                       Audi A1  \n",
              "Body_Type                                                         Sedans  \n",
              "Price                                                              16790  \n",
              "Vat                                                                 None  \n",
              "Km                                                              16200.00  \n",
              "Previous_Owners                                                     1.00  \n",
              "Inspection_new                                                       Yes  \n",
              "Warranty                                                             NaN  \n",
              "Paint_Type                                                      Metallic  \n",
              "Nr_of_Doors                                                         5.00  \n",
              "Nr_of_Seats                                                         5.00  \n",
              "Gearing_Type                                         [\\n, Automatic, \\n]  \n",
              "Cylinders                                                           3.00  \n",
              "Drive_Chain                                                        front  \n",
              "Fuel                                                              Diesel  \n",
              "Co_2_Emission                                                     109.00  \n",
              "Emission_Class                                                    Euro 6  \n",
              "Comfort_&_Convenience  Air conditioning,Armrest,Automatic climate con...  \n",
              "Entertainment_&_Media  Bluetooth,CD player,Hands-free equipment,MP3,O...  \n",
              "Extras                 Alloy wheels,Sport package,Sport suspension,Vo...  \n",
              "Safety_&_Security      ABS,Central door lock,Driver-side airbag,Elect...  \n",
              "Gears                                                                nan  \n",
              "Age                                                                 3.00  \n",
              "hp_kW                                                              66.00  \n",
              "Type                                                                Used  \n",
              "Upholstery_type                                                    Cloth  \n",
              "Upholstery_color                                                   Black  \n",
              "Displacement_cc                                                  1422.00  \n",
              "Weight_kg                                                            NaN  \n",
              "cons_comb                                                           4.10  \n",
              "cons_city                                                           4.60  \n",
              "cons_country                                                        3.80  "
            ],
            "text/html": [
              "\n",
              "  <div id=\"df-407d8b8b-470d-43ad-85e2-789c9de1a9a9\">\n",
              "    <div class=\"colab-df-container\">\n",
              "      <div>\n",
              "<style scoped>\n",
              "    .dataframe tbody tr th:only-of-type {\n",
              "        vertical-align: middle;\n",
              "    }\n",
              "\n",
              "    .dataframe tbody tr th {\n",
              "        vertical-align: top;\n",
              "    }\n",
              "\n",
              "    .dataframe thead th {\n",
              "        text-align: right;\n",
              "    }\n",
              "</style>\n",
              "<table border=\"1\" class=\"dataframe\">\n",
              "  <thead>\n",
              "    <tr style=\"text-align: right;\">\n",
              "      <th></th>\n",
              "      <th>0</th>\n",
              "      <th>1</th>\n",
              "      <th>2</th>\n",
              "      <th>3</th>\n",
              "      <th>4</th>\n",
              "    </tr>\n",
              "  </thead>\n",
              "  <tbody>\n",
              "    <tr>\n",
              "      <th>Make_Model</th>\n",
              "      <td>Audi A1</td>\n",
              "      <td>Audi A1</td>\n",
              "      <td>Audi A1</td>\n",
              "      <td>Audi A1</td>\n",
              "      <td>Audi A1</td>\n",
              "    </tr>\n",
              "    <tr>\n",
              "      <th>Body_Type</th>\n",
              "      <td>Sedans</td>\n",
              "      <td>Sedans</td>\n",
              "      <td>Sedans</td>\n",
              "      <td>Sedans</td>\n",
              "      <td>Sedans</td>\n",
              "    </tr>\n",
              "    <tr>\n",
              "      <th>Price</th>\n",
              "      <td>15770</td>\n",
              "      <td>14500</td>\n",
              "      <td>14640</td>\n",
              "      <td>14500</td>\n",
              "      <td>16790</td>\n",
              "    </tr>\n",
              "    <tr>\n",
              "      <th>Vat</th>\n",
              "      <td>VAT deductible</td>\n",
              "      <td>Price negotiable</td>\n",
              "      <td>VAT deductible</td>\n",
              "      <td>None</td>\n",
              "      <td>None</td>\n",
              "    </tr>\n",
              "    <tr>\n",
              "      <th>Km</th>\n",
              "      <td>56013.00</td>\n",
              "      <td>80000.00</td>\n",
              "      <td>83450.00</td>\n",
              "      <td>73000.00</td>\n",
              "      <td>16200.00</td>\n",
              "    </tr>\n",
              "    <tr>\n",
              "      <th>Previous_Owners</th>\n",
              "      <td>2.00</td>\n",
              "      <td>NaN</td>\n",
              "      <td>1.00</td>\n",
              "      <td>1.00</td>\n",
              "      <td>1.00</td>\n",
              "    </tr>\n",
              "    <tr>\n",
              "      <th>Inspection_new</th>\n",
              "      <td>Yes</td>\n",
              "      <td>NaN</td>\n",
              "      <td>NaN</td>\n",
              "      <td>NaN</td>\n",
              "      <td>Yes</td>\n",
              "    </tr>\n",
              "    <tr>\n",
              "      <th>Warranty</th>\n",
              "      <td>NaN</td>\n",
              "      <td>NaN</td>\n",
              "      <td>NaN</td>\n",
              "      <td>NaN</td>\n",
              "      <td>NaN</td>\n",
              "    </tr>\n",
              "    <tr>\n",
              "      <th>Paint_Type</th>\n",
              "      <td>Metallic</td>\n",
              "      <td>NaN</td>\n",
              "      <td>Metallic</td>\n",
              "      <td>Metallic</td>\n",
              "      <td>Metallic</td>\n",
              "    </tr>\n",
              "    <tr>\n",
              "      <th>Nr_of_Doors</th>\n",
              "      <td>5.00</td>\n",
              "      <td>3.00</td>\n",
              "      <td>4.00</td>\n",
              "      <td>3.00</td>\n",
              "      <td>5.00</td>\n",
              "    </tr>\n",
              "    <tr>\n",
              "      <th>Nr_of_Seats</th>\n",
              "      <td>5.00</td>\n",
              "      <td>4.00</td>\n",
              "      <td>4.00</td>\n",
              "      <td>4.00</td>\n",
              "      <td>5.00</td>\n",
              "    </tr>\n",
              "    <tr>\n",
              "      <th>Gearing_Type</th>\n",
              "      <td>[\\n, Automatic, \\n]</td>\n",
              "      <td>[\\n, Automatic, \\n]</td>\n",
              "      <td>[\\n, Automatic, \\n]</td>\n",
              "      <td>[\\n, Automatic, \\n]</td>\n",
              "      <td>[\\n, Automatic, \\n]</td>\n",
              "    </tr>\n",
              "    <tr>\n",
              "      <th>Cylinders</th>\n",
              "      <td>3.00</td>\n",
              "      <td>4.00</td>\n",
              "      <td>NaN</td>\n",
              "      <td>3.00</td>\n",
              "      <td>3.00</td>\n",
              "    </tr>\n",
              "    <tr>\n",
              "      <th>Drive_Chain</th>\n",
              "      <td>front</td>\n",
              "      <td>front</td>\n",
              "      <td>front</td>\n",
              "      <td>NaN</td>\n",
              "      <td>front</td>\n",
              "    </tr>\n",
              "    <tr>\n",
              "      <th>Fuel</th>\n",
              "      <td>Diesel</td>\n",
              "      <td>Benzine</td>\n",
              "      <td>Diesel</td>\n",
              "      <td>Diesel</td>\n",
              "      <td>Diesel</td>\n",
              "    </tr>\n",
              "    <tr>\n",
              "      <th>Co_2_Emission</th>\n",
              "      <td>99.00</td>\n",
              "      <td>129.00</td>\n",
              "      <td>99.00</td>\n",
              "      <td>99.00</td>\n",
              "      <td>109.00</td>\n",
              "    </tr>\n",
              "    <tr>\n",
              "      <th>Emission_Class</th>\n",
              "      <td>Euro 6</td>\n",
              "      <td>Euro 6</td>\n",
              "      <td>Euro 6</td>\n",
              "      <td>Euro 6</td>\n",
              "      <td>Euro 6</td>\n",
              "    </tr>\n",
              "    <tr>\n",
              "      <th>Comfort_&amp;_Convenience</th>\n",
              "      <td>Air conditioning,Armrest,Automatic climate con...</td>\n",
              "      <td>Air conditioning,Automatic climate control,Hil...</td>\n",
              "      <td>Air conditioning,Cruise control,Electrical sid...</td>\n",
              "      <td>Air suspension,Armrest,Auxiliary heating,Elect...</td>\n",
              "      <td>Air conditioning,Armrest,Automatic climate con...</td>\n",
              "    </tr>\n",
              "    <tr>\n",
              "      <th>Entertainment_&amp;_Media</th>\n",
              "      <td>Bluetooth,Hands-free equipment,On-board comput...</td>\n",
              "      <td>Bluetooth,Hands-free equipment,On-board comput...</td>\n",
              "      <td>MP3,On-board computer</td>\n",
              "      <td>Bluetooth,CD player,Hands-free equipment,MP3,O...</td>\n",
              "      <td>Bluetooth,CD player,Hands-free equipment,MP3,O...</td>\n",
              "    </tr>\n",
              "    <tr>\n",
              "      <th>Extras</th>\n",
              "      <td>Alloy wheels,Catalytic Converter,Voice Control</td>\n",
              "      <td>Alloy wheels,Sport seats,Sport suspension,Voic...</td>\n",
              "      <td>Alloy wheels,Voice Control</td>\n",
              "      <td>Alloy wheels,Sport seats,Voice Control</td>\n",
              "      <td>Alloy wheels,Sport package,Sport suspension,Vo...</td>\n",
              "    </tr>\n",
              "    <tr>\n",
              "      <th>Safety_&amp;_Security</th>\n",
              "      <td>ABS,Central door lock,Daytime running lights,D...</td>\n",
              "      <td>ABS,Central door lock,Central door lock with r...</td>\n",
              "      <td>ABS,Central door lock,Daytime running lights,D...</td>\n",
              "      <td>ABS,Alarm system,Central door lock with remote...</td>\n",
              "      <td>ABS,Central door lock,Driver-side airbag,Elect...</td>\n",
              "    </tr>\n",
              "    <tr>\n",
              "      <th>Gears</th>\n",
              "      <td>nan</td>\n",
              "      <td>7</td>\n",
              "      <td>nan</td>\n",
              "      <td>6</td>\n",
              "      <td>nan</td>\n",
              "    </tr>\n",
              "    <tr>\n",
              "      <th>Age</th>\n",
              "      <td>3.00</td>\n",
              "      <td>2.00</td>\n",
              "      <td>3.00</td>\n",
              "      <td>3.00</td>\n",
              "      <td>3.00</td>\n",
              "    </tr>\n",
              "    <tr>\n",
              "      <th>hp_kW</th>\n",
              "      <td>66.00</td>\n",
              "      <td>141.00</td>\n",
              "      <td>85.00</td>\n",
              "      <td>66.00</td>\n",
              "      <td>66.00</td>\n",
              "    </tr>\n",
              "    <tr>\n",
              "      <th>Type</th>\n",
              "      <td>Used</td>\n",
              "      <td>Used</td>\n",
              "      <td>Used</td>\n",
              "      <td>Used</td>\n",
              "      <td>Used</td>\n",
              "    </tr>\n",
              "    <tr>\n",
              "      <th>Upholstery_type</th>\n",
              "      <td>Cloth</td>\n",
              "      <td>Cloth</td>\n",
              "      <td>Cloth</td>\n",
              "      <td>NaN</td>\n",
              "      <td>Cloth</td>\n",
              "    </tr>\n",
              "    <tr>\n",
              "      <th>Upholstery_color</th>\n",
              "      <td>Black</td>\n",
              "      <td>Grey</td>\n",
              "      <td>Black</td>\n",
              "      <td>NaN</td>\n",
              "      <td>Black</td>\n",
              "    </tr>\n",
              "    <tr>\n",
              "      <th>Displacement_cc</th>\n",
              "      <td>1422.00</td>\n",
              "      <td>1798.00</td>\n",
              "      <td>1598.00</td>\n",
              "      <td>1422.00</td>\n",
              "      <td>1422.00</td>\n",
              "    </tr>\n",
              "    <tr>\n",
              "      <th>Weight_kg</th>\n",
              "      <td>1220.00</td>\n",
              "      <td>1255.00</td>\n",
              "      <td>NaN</td>\n",
              "      <td>1195.00</td>\n",
              "      <td>NaN</td>\n",
              "    </tr>\n",
              "    <tr>\n",
              "      <th>cons_comb</th>\n",
              "      <td>3.80</td>\n",
              "      <td>5.60</td>\n",
              "      <td>3.80</td>\n",
              "      <td>3.80</td>\n",
              "      <td>4.10</td>\n",
              "    </tr>\n",
              "    <tr>\n",
              "      <th>cons_city</th>\n",
              "      <td>4.30</td>\n",
              "      <td>7.10</td>\n",
              "      <td>4.40</td>\n",
              "      <td>4.30</td>\n",
              "      <td>4.60</td>\n",
              "    </tr>\n",
              "    <tr>\n",
              "      <th>cons_country</th>\n",
              "      <td>3.50</td>\n",
              "      <td>4.70</td>\n",
              "      <td>3.40</td>\n",
              "      <td>3.50</td>\n",
              "      <td>3.80</td>\n",
              "    </tr>\n",
              "  </tbody>\n",
              "</table>\n",
              "</div>\n",
              "      <button class=\"colab-df-convert\" onclick=\"convertToInteractive('df-407d8b8b-470d-43ad-85e2-789c9de1a9a9')\"\n",
              "              title=\"Convert this dataframe to an interactive table.\"\n",
              "              style=\"display:none;\">\n",
              "        \n",
              "  <svg xmlns=\"http://www.w3.org/2000/svg\" height=\"24px\"viewBox=\"0 0 24 24\"\n",
              "       width=\"24px\">\n",
              "    <path d=\"M0 0h24v24H0V0z\" fill=\"none\"/>\n",
              "    <path d=\"M18.56 5.44l.94 2.06.94-2.06 2.06-.94-2.06-.94-.94-2.06-.94 2.06-2.06.94zm-11 1L8.5 8.5l.94-2.06 2.06-.94-2.06-.94L8.5 2.5l-.94 2.06-2.06.94zm10 10l.94 2.06.94-2.06 2.06-.94-2.06-.94-.94-2.06-.94 2.06-2.06.94z\"/><path d=\"M17.41 7.96l-1.37-1.37c-.4-.4-.92-.59-1.43-.59-.52 0-1.04.2-1.43.59L10.3 9.45l-7.72 7.72c-.78.78-.78 2.05 0 2.83L4 21.41c.39.39.9.59 1.41.59.51 0 1.02-.2 1.41-.59l7.78-7.78 2.81-2.81c.8-.78.8-2.07 0-2.86zM5.41 20L4 18.59l7.72-7.72 1.47 1.35L5.41 20z\"/>\n",
              "  </svg>\n",
              "      </button>\n",
              "      \n",
              "  <style>\n",
              "    .colab-df-container {\n",
              "      display:flex;\n",
              "      flex-wrap:wrap;\n",
              "      gap: 12px;\n",
              "    }\n",
              "\n",
              "    .colab-df-convert {\n",
              "      background-color: #E8F0FE;\n",
              "      border: none;\n",
              "      border-radius: 50%;\n",
              "      cursor: pointer;\n",
              "      display: none;\n",
              "      fill: #1967D2;\n",
              "      height: 32px;\n",
              "      padding: 0 0 0 0;\n",
              "      width: 32px;\n",
              "    }\n",
              "\n",
              "    .colab-df-convert:hover {\n",
              "      background-color: #E2EBFA;\n",
              "      box-shadow: 0px 1px 2px rgba(60, 64, 67, 0.3), 0px 1px 3px 1px rgba(60, 64, 67, 0.15);\n",
              "      fill: #174EA6;\n",
              "    }\n",
              "\n",
              "    [theme=dark] .colab-df-convert {\n",
              "      background-color: #3B4455;\n",
              "      fill: #D2E3FC;\n",
              "    }\n",
              "\n",
              "    [theme=dark] .colab-df-convert:hover {\n",
              "      background-color: #434B5C;\n",
              "      box-shadow: 0px 1px 3px 1px rgba(0, 0, 0, 0.15);\n",
              "      filter: drop-shadow(0px 1px 2px rgba(0, 0, 0, 0.3));\n",
              "      fill: #FFFFFF;\n",
              "    }\n",
              "  </style>\n",
              "\n",
              "      <script>\n",
              "        const buttonEl =\n",
              "          document.querySelector('#df-407d8b8b-470d-43ad-85e2-789c9de1a9a9 button.colab-df-convert');\n",
              "        buttonEl.style.display =\n",
              "          google.colab.kernel.accessAllowed ? 'block' : 'none';\n",
              "\n",
              "        async function convertToInteractive(key) {\n",
              "          const element = document.querySelector('#df-407d8b8b-470d-43ad-85e2-789c9de1a9a9');\n",
              "          const dataTable =\n",
              "            await google.colab.kernel.invokeFunction('convertToInteractive',\n",
              "                                                     [key], {});\n",
              "          if (!dataTable) return;\n",
              "\n",
              "          const docLinkHtml = 'Like what you see? Visit the ' +\n",
              "            '<a target=\"_blank\" href=https://colab.research.google.com/notebooks/data_table.ipynb>data table notebook</a>'\n",
              "            + ' to learn more about interactive tables.';\n",
              "          element.innerHTML = '';\n",
              "          dataTable['output_type'] = 'display_data';\n",
              "          await google.colab.output.renderOutput(dataTable, element);\n",
              "          const docLink = document.createElement('div');\n",
              "          docLink.innerHTML = docLinkHtml;\n",
              "          element.appendChild(docLink);\n",
              "        }\n",
              "      </script>\n",
              "    </div>\n",
              "  </div>\n",
              "  "
            ]
          },
          "metadata": {},
          "execution_count": 1161
        }
      ]
    },
    {
      "cell_type": "code",
      "source": [
        "df.info()"
      ],
      "metadata": {
        "colab": {
          "base_uri": "https://localhost:8080/"
        },
        "id": "Yv7srdTsIuww",
        "outputId": "2488b689-1765-470c-b1d0-4b2bb58ffc8e"
      },
      "execution_count": 1162,
      "outputs": [
        {
          "output_type": "stream",
          "name": "stdout",
          "text": [
            "<class 'pandas.core.frame.DataFrame'>\n",
            "RangeIndex: 15919 entries, 0 to 15918\n",
            "Data columns (total 32 columns):\n",
            " #   Column                 Non-Null Count  Dtype  \n",
            "---  ------                 --------------  -----  \n",
            " 0   Make_Model             15919 non-null  object \n",
            " 1   Body_Type              15859 non-null  object \n",
            " 2   Price                  15919 non-null  int64  \n",
            " 3   Vat                    11406 non-null  object \n",
            " 4   Km                     14895 non-null  float64\n",
            " 5   Previous_Owners        9279 non-null   float64\n",
            " 6   Inspection_new         3932 non-null   object \n",
            " 7   Warranty               4853 non-null   float64\n",
            " 8   Paint_Type             10147 non-null  object \n",
            " 9   Nr_of_Doors            15707 non-null  float64\n",
            " 10  Nr_of_Seats            14942 non-null  float64\n",
            " 11  Gearing_Type           15919 non-null  object \n",
            " 12  Cylinders              10239 non-null  float64\n",
            " 13  Drive_Chain            9061 non-null   object \n",
            " 14  Fuel                   15919 non-null  object \n",
            " 15  Co_2_Emission          13483 non-null  float64\n",
            " 16  Emission_Class         15919 non-null  object \n",
            " 17  Comfort_&_Convenience  14999 non-null  object \n",
            " 18  Entertainment_&_Media  14545 non-null  object \n",
            " 19  Extras                 12957 non-null  object \n",
            " 20  Safety_&_Security      14937 non-null  object \n",
            " 21  Gears                  15919 non-null  object \n",
            " 22  Age                    14322 non-null  float64\n",
            " 23  hp_kW                  15831 non-null  float64\n",
            " 24  Type                   15917 non-null  object \n",
            " 25  Upholstery_type        11048 non-null  object \n",
            " 26  Upholstery_color       10841 non-null  object \n",
            " 27  Displacement_cc        15423 non-null  float64\n",
            " 28  Weight_kg              8945 non-null   float64\n",
            " 29  cons_comb              13886 non-null  float64\n",
            " 30  cons_city              13483 non-null  float64\n",
            " 31  cons_country           13543 non-null  float64\n",
            "dtypes: float64(14), int64(1), object(17)\n",
            "memory usage: 3.9+ MB\n"
          ]
        }
      ]
    },
    {
      "cell_type": "code",
      "source": [
        "df.to_csv(\"clean_scout.csv\", index=False)"
      ],
      "metadata": {
        "id": "UDFdwkvEfZuV"
      },
      "execution_count": 1163,
      "outputs": []
    },
    {
      "cell_type": "markdown",
      "metadata": {
        "id": "uGeKSdYds1MD"
      },
      "source": [
        "# PART- 2 `( Handling With Missing Vales )`"
      ]
    },
    {
      "cell_type": "code",
      "execution_count": null,
      "metadata": {
        "id": "WDZnqBhbs1ME"
      },
      "outputs": [],
      "source": [
        ""
      ]
    },
    {
      "cell_type": "markdown",
      "metadata": {
        "id": "gPPdPAu5s1ME"
      },
      "source": [
        "# PART- 3 `( Handling With Outliers )`"
      ]
    },
    {
      "cell_type": "code",
      "execution_count": null,
      "metadata": {
        "id": "Is4HLjHWs1MF"
      },
      "outputs": [],
      "source": [
        ""
      ]
    },
    {
      "cell_type": "markdown",
      "metadata": {
        "id": "EKxmsgfts1MG"
      },
      "source": [
        "# Final Step (Checking final situation of data via graphs)"
      ]
    },
    {
      "cell_type": "code",
      "execution_count": null,
      "metadata": {
        "id": "8mgL_Bd0s1MG"
      },
      "outputs": [],
      "source": [
        ""
      ]
    },
    {
      "cell_type": "markdown",
      "metadata": {
        "id": "2PgUVPoes1MH"
      },
      "source": [
        "## Export dataframe to csv file (without dummy)"
      ]
    },
    {
      "cell_type": "code",
      "execution_count": null,
      "metadata": {
        "id": "Byg_o2ZMs1MI"
      },
      "outputs": [],
      "source": [
        "df.to_csv(\"final_scout_not_dummy.csv\", index=False)"
      ]
    },
    {
      "cell_type": "markdown",
      "metadata": {
        "id": "hrw9hr-3s1MJ"
      },
      "source": [
        "# Dummy Operation"
      ]
    },
    {
      "cell_type": "code",
      "execution_count": null,
      "metadata": {
        "id": "faDyWTC9s1MJ"
      },
      "outputs": [],
      "source": [
        ""
      ]
    },
    {
      "cell_type": "markdown",
      "metadata": {
        "id": "DUOdihlqs1MJ"
      },
      "source": [
        "## Export dataframe to csv file (dummy)"
      ]
    },
    {
      "cell_type": "code",
      "execution_count": null,
      "metadata": {
        "id": "IJT7Yl1Us1MK"
      },
      "outputs": [],
      "source": [
        "df_dummied.to_csv(\"final_scout_dummy.csv\", index=False)"
      ]
    }
  ],
  "metadata": {
    "colab": {
      "name": "DAwPy_Capstone_Project_(AutoScout)_Part1(DataCleaning)_D1461_Metin_V1.ipynb",
      "provenance": [],
      "collapsed_sections": [],
      "include_colab_link": true
    },
    "kernelspec": {
      "display_name": "Python 3",
      "language": "python",
      "name": "python3"
    },
    "language_info": {
      "codemirror_mode": {
        "name": "ipython",
        "version": 3
      },
      "file_extension": ".py",
      "mimetype": "text/x-python",
      "name": "python",
      "nbconvert_exporter": "python",
      "pygments_lexer": "ipython3",
      "version": "3.8.13"
    },
    "toc": {
      "base_numbering": 1,
      "nav_menu": {},
      "number_sections": false,
      "sideBar": true,
      "skip_h1_title": false,
      "title_cell": "Table of Contents",
      "title_sidebar": "Contents",
      "toc_cell": false,
      "toc_position": {},
      "toc_section_display": true,
      "toc_window_display": false
    }
  },
  "nbformat": 4,
  "nbformat_minor": 0
}