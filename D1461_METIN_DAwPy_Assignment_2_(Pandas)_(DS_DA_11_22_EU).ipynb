{
  "cells": [
    {
      "cell_type": "markdown",
      "metadata": {
        "id": "view-in-github",
        "colab_type": "text"
      },
      "source": [
        "<a href=\"https://colab.research.google.com/github/MK2709/DS11-assigments/blob/main/D1461_METIN_DAwPy_Assignment_2_(Pandas)_(DS_DA_11_22_EU).ipynb\" target=\"_parent\"><img src=\"https://colab.research.google.com/assets/colab-badge.svg\" alt=\"Open In Colab\"/></a>"
      ]
    },
    {
      "cell_type": "markdown",
      "metadata": {
        "id": "2Q2YNVLgSvOW"
      },
      "source": [
        "___\n",
        "\n",
        "<p style=\"text-align: center;\"><img src=\"https://docs.google.com/uc?id=1lY0Uj5R04yMY3-ZppPWxqCr5pvBLYPnV\" class=\"img-fluid\" alt=\"Rossum\"></p>\n",
        "\n",
        "\n",
        "____\n"
      ]
    },
    {
      "cell_type": "code",
      "execution_count": 2,
      "metadata": {
        "id": "B_QumsHbSvOY"
      },
      "outputs": [],
      "source": [
        "import pandas as pd"
      ]
    },
    {
      "cell_type": "code",
      "execution_count": 3,
      "metadata": {
        "id": "25j5bwRWSvOZ"
      },
      "outputs": [],
      "source": [
        "ecom = pd.read_csv('data.csv',encoding= 'unicode_escape')"
      ]
    },
    {
      "cell_type": "markdown",
      "metadata": {
        "id": "TLbpDTj4SvOa"
      },
      "source": [
        "**Check the head of the DataFrame.**"
      ]
    },
    {
      "cell_type": "code",
      "execution_count": 4,
      "metadata": {
        "colab": {
          "base_uri": "https://localhost:8080/",
          "height": 337
        },
        "id": "9pU3w5TGSvOa",
        "outputId": "3c84a649-a38c-48a5-c25b-a138fbcb3340"
      },
      "outputs": [
        {
          "output_type": "execute_result",
          "data": {
            "text/plain": [
              "  InvoiceNo StockCode                          Description  Quantity  \\\n",
              "0    536365    85123A   WHITE HANGING HEART T-LIGHT HOLDER         6   \n",
              "1    536365     71053                  WHITE METAL LANTERN         6   \n",
              "2    536365    84406B       CREAM CUPID HEARTS COAT HANGER         8   \n",
              "3    536365    84029G  KNITTED UNION FLAG HOT WATER BOTTLE         6   \n",
              "4    536365    84029E       RED WOOLLY HOTTIE WHITE HEART.         6   \n",
              "\n",
              "      InvoiceDate  UnitPrice  CustomerID         Country  \n",
              "0  12/1/2010 8:26       2.55     17850.0  United Kingdom  \n",
              "1  12/1/2010 8:26       3.39     17850.0  United Kingdom  \n",
              "2  12/1/2010 8:26       2.75     17850.0  United Kingdom  \n",
              "3  12/1/2010 8:26       3.39     17850.0  United Kingdom  \n",
              "4  12/1/2010 8:26       3.39     17850.0  United Kingdom  "
            ],
            "text/html": [
              "\n",
              "  <div id=\"df-b085055e-4a55-4fb1-976e-ade6998be5b7\">\n",
              "    <div class=\"colab-df-container\">\n",
              "      <div>\n",
              "<style scoped>\n",
              "    .dataframe tbody tr th:only-of-type {\n",
              "        vertical-align: middle;\n",
              "    }\n",
              "\n",
              "    .dataframe tbody tr th {\n",
              "        vertical-align: top;\n",
              "    }\n",
              "\n",
              "    .dataframe thead th {\n",
              "        text-align: right;\n",
              "    }\n",
              "</style>\n",
              "<table border=\"1\" class=\"dataframe\">\n",
              "  <thead>\n",
              "    <tr style=\"text-align: right;\">\n",
              "      <th></th>\n",
              "      <th>InvoiceNo</th>\n",
              "      <th>StockCode</th>\n",
              "      <th>Description</th>\n",
              "      <th>Quantity</th>\n",
              "      <th>InvoiceDate</th>\n",
              "      <th>UnitPrice</th>\n",
              "      <th>CustomerID</th>\n",
              "      <th>Country</th>\n",
              "    </tr>\n",
              "  </thead>\n",
              "  <tbody>\n",
              "    <tr>\n",
              "      <th>0</th>\n",
              "      <td>536365</td>\n",
              "      <td>85123A</td>\n",
              "      <td>WHITE HANGING HEART T-LIGHT HOLDER</td>\n",
              "      <td>6</td>\n",
              "      <td>12/1/2010 8:26</td>\n",
              "      <td>2.55</td>\n",
              "      <td>17850.0</td>\n",
              "      <td>United Kingdom</td>\n",
              "    </tr>\n",
              "    <tr>\n",
              "      <th>1</th>\n",
              "      <td>536365</td>\n",
              "      <td>71053</td>\n",
              "      <td>WHITE METAL LANTERN</td>\n",
              "      <td>6</td>\n",
              "      <td>12/1/2010 8:26</td>\n",
              "      <td>3.39</td>\n",
              "      <td>17850.0</td>\n",
              "      <td>United Kingdom</td>\n",
              "    </tr>\n",
              "    <tr>\n",
              "      <th>2</th>\n",
              "      <td>536365</td>\n",
              "      <td>84406B</td>\n",
              "      <td>CREAM CUPID HEARTS COAT HANGER</td>\n",
              "      <td>8</td>\n",
              "      <td>12/1/2010 8:26</td>\n",
              "      <td>2.75</td>\n",
              "      <td>17850.0</td>\n",
              "      <td>United Kingdom</td>\n",
              "    </tr>\n",
              "    <tr>\n",
              "      <th>3</th>\n",
              "      <td>536365</td>\n",
              "      <td>84029G</td>\n",
              "      <td>KNITTED UNION FLAG HOT WATER BOTTLE</td>\n",
              "      <td>6</td>\n",
              "      <td>12/1/2010 8:26</td>\n",
              "      <td>3.39</td>\n",
              "      <td>17850.0</td>\n",
              "      <td>United Kingdom</td>\n",
              "    </tr>\n",
              "    <tr>\n",
              "      <th>4</th>\n",
              "      <td>536365</td>\n",
              "      <td>84029E</td>\n",
              "      <td>RED WOOLLY HOTTIE WHITE HEART.</td>\n",
              "      <td>6</td>\n",
              "      <td>12/1/2010 8:26</td>\n",
              "      <td>3.39</td>\n",
              "      <td>17850.0</td>\n",
              "      <td>United Kingdom</td>\n",
              "    </tr>\n",
              "  </tbody>\n",
              "</table>\n",
              "</div>\n",
              "      <button class=\"colab-df-convert\" onclick=\"convertToInteractive('df-b085055e-4a55-4fb1-976e-ade6998be5b7')\"\n",
              "              title=\"Convert this dataframe to an interactive table.\"\n",
              "              style=\"display:none;\">\n",
              "        \n",
              "  <svg xmlns=\"http://www.w3.org/2000/svg\" height=\"24px\"viewBox=\"0 0 24 24\"\n",
              "       width=\"24px\">\n",
              "    <path d=\"M0 0h24v24H0V0z\" fill=\"none\"/>\n",
              "    <path d=\"M18.56 5.44l.94 2.06.94-2.06 2.06-.94-2.06-.94-.94-2.06-.94 2.06-2.06.94zm-11 1L8.5 8.5l.94-2.06 2.06-.94-2.06-.94L8.5 2.5l-.94 2.06-2.06.94zm10 10l.94 2.06.94-2.06 2.06-.94-2.06-.94-.94-2.06-.94 2.06-2.06.94z\"/><path d=\"M17.41 7.96l-1.37-1.37c-.4-.4-.92-.59-1.43-.59-.52 0-1.04.2-1.43.59L10.3 9.45l-7.72 7.72c-.78.78-.78 2.05 0 2.83L4 21.41c.39.39.9.59 1.41.59.51 0 1.02-.2 1.41-.59l7.78-7.78 2.81-2.81c.8-.78.8-2.07 0-2.86zM5.41 20L4 18.59l7.72-7.72 1.47 1.35L5.41 20z\"/>\n",
              "  </svg>\n",
              "      </button>\n",
              "      \n",
              "  <style>\n",
              "    .colab-df-container {\n",
              "      display:flex;\n",
              "      flex-wrap:wrap;\n",
              "      gap: 12px;\n",
              "    }\n",
              "\n",
              "    .colab-df-convert {\n",
              "      background-color: #E8F0FE;\n",
              "      border: none;\n",
              "      border-radius: 50%;\n",
              "      cursor: pointer;\n",
              "      display: none;\n",
              "      fill: #1967D2;\n",
              "      height: 32px;\n",
              "      padding: 0 0 0 0;\n",
              "      width: 32px;\n",
              "    }\n",
              "\n",
              "    .colab-df-convert:hover {\n",
              "      background-color: #E2EBFA;\n",
              "      box-shadow: 0px 1px 2px rgba(60, 64, 67, 0.3), 0px 1px 3px 1px rgba(60, 64, 67, 0.15);\n",
              "      fill: #174EA6;\n",
              "    }\n",
              "\n",
              "    [theme=dark] .colab-df-convert {\n",
              "      background-color: #3B4455;\n",
              "      fill: #D2E3FC;\n",
              "    }\n",
              "\n",
              "    [theme=dark] .colab-df-convert:hover {\n",
              "      background-color: #434B5C;\n",
              "      box-shadow: 0px 1px 3px 1px rgba(0, 0, 0, 0.15);\n",
              "      filter: drop-shadow(0px 1px 2px rgba(0, 0, 0, 0.3));\n",
              "      fill: #FFFFFF;\n",
              "    }\n",
              "  </style>\n",
              "\n",
              "      <script>\n",
              "        const buttonEl =\n",
              "          document.querySelector('#df-b085055e-4a55-4fb1-976e-ade6998be5b7 button.colab-df-convert');\n",
              "        buttonEl.style.display =\n",
              "          google.colab.kernel.accessAllowed ? 'block' : 'none';\n",
              "\n",
              "        async function convertToInteractive(key) {\n",
              "          const element = document.querySelector('#df-b085055e-4a55-4fb1-976e-ade6998be5b7');\n",
              "          const dataTable =\n",
              "            await google.colab.kernel.invokeFunction('convertToInteractive',\n",
              "                                                     [key], {});\n",
              "          if (!dataTable) return;\n",
              "\n",
              "          const docLinkHtml = 'Like what you see? Visit the ' +\n",
              "            '<a target=\"_blank\" href=https://colab.research.google.com/notebooks/data_table.ipynb>data table notebook</a>'\n",
              "            + ' to learn more about interactive tables.';\n",
              "          element.innerHTML = '';\n",
              "          dataTable['output_type'] = 'display_data';\n",
              "          await google.colab.output.renderOutput(dataTable, element);\n",
              "          const docLink = document.createElement('div');\n",
              "          docLink.innerHTML = docLinkHtml;\n",
              "          element.appendChild(docLink);\n",
              "        }\n",
              "      </script>\n",
              "    </div>\n",
              "  </div>\n",
              "  "
            ]
          },
          "metadata": {},
          "execution_count": 4
        }
      ],
      "source": [
        "ecom.head()"
      ]
    },
    {
      "cell_type": "markdown",
      "metadata": {
        "id": "RX1FS0oMSvOc"
      },
      "source": [
        "** How many rows and columns are there? **"
      ]
    },
    {
      "cell_type": "code",
      "execution_count": 5,
      "metadata": {
        "colab": {
          "base_uri": "https://localhost:8080/"
        },
        "id": "i_po8MNnSvOc",
        "outputId": "5529fce3-e885-4a41-c75c-9b39c5dd13d5"
      },
      "outputs": [
        {
          "output_type": "stream",
          "name": "stdout",
          "text": [
            "<class 'pandas.core.frame.DataFrame'>\n",
            "RangeIndex: 49912 entries, 0 to 49911\n",
            "Data columns (total 8 columns):\n",
            " #   Column       Non-Null Count  Dtype  \n",
            "---  ------       --------------  -----  \n",
            " 0   InvoiceNo    49912 non-null  object \n",
            " 1   StockCode    49912 non-null  object \n",
            " 2   Description  49770 non-null  object \n",
            " 3   Quantity     49912 non-null  int64  \n",
            " 4   InvoiceDate  49912 non-null  object \n",
            " 5   UnitPrice    49911 non-null  float64\n",
            " 6   CustomerID   32030 non-null  float64\n",
            " 7   Country      49911 non-null  object \n",
            "dtypes: float64(2), int64(1), object(5)\n",
            "memory usage: 3.0+ MB\n"
          ]
        }
      ],
      "source": [
        "ecom.info()"
      ]
    },
    {
      "cell_type": "markdown",
      "metadata": {
        "id": "DnzzB1b5SvOd"
      },
      "source": [
        "** Show the statistical measurements of ecom dataset **"
      ]
    },
    {
      "cell_type": "code",
      "execution_count": 6,
      "metadata": {
        "colab": {
          "base_uri": "https://localhost:8080/",
          "height": 300
        },
        "id": "nhmKY1b-SvOe",
        "outputId": "87b4c7eb-0f66-4a1a-a34a-85355d5b5428"
      },
      "outputs": [
        {
          "output_type": "execute_result",
          "data": {
            "text/plain": [
              "           Quantity     UnitPrice    CustomerID\n",
              "count  49912.000000  49911.000000  32030.000000\n",
              "mean       8.294218      6.423712  15426.016422\n",
              "std       55.576019    166.653120   1752.300279\n",
              "min    -9360.000000      0.000000  12347.000000\n",
              "25%        1.000000      1.250000  14057.000000\n",
              "50%        2.000000      2.510000  15464.000000\n",
              "75%        8.000000      4.250000  17041.000000\n",
              "max     2880.000000  16888.020000  18283.000000"
            ],
            "text/html": [
              "\n",
              "  <div id=\"df-0258255e-df46-41e7-944c-5642d0488159\">\n",
              "    <div class=\"colab-df-container\">\n",
              "      <div>\n",
              "<style scoped>\n",
              "    .dataframe tbody tr th:only-of-type {\n",
              "        vertical-align: middle;\n",
              "    }\n",
              "\n",
              "    .dataframe tbody tr th {\n",
              "        vertical-align: top;\n",
              "    }\n",
              "\n",
              "    .dataframe thead th {\n",
              "        text-align: right;\n",
              "    }\n",
              "</style>\n",
              "<table border=\"1\" class=\"dataframe\">\n",
              "  <thead>\n",
              "    <tr style=\"text-align: right;\">\n",
              "      <th></th>\n",
              "      <th>Quantity</th>\n",
              "      <th>UnitPrice</th>\n",
              "      <th>CustomerID</th>\n",
              "    </tr>\n",
              "  </thead>\n",
              "  <tbody>\n",
              "    <tr>\n",
              "      <th>count</th>\n",
              "      <td>49912.000000</td>\n",
              "      <td>49911.000000</td>\n",
              "      <td>32030.000000</td>\n",
              "    </tr>\n",
              "    <tr>\n",
              "      <th>mean</th>\n",
              "      <td>8.294218</td>\n",
              "      <td>6.423712</td>\n",
              "      <td>15426.016422</td>\n",
              "    </tr>\n",
              "    <tr>\n",
              "      <th>std</th>\n",
              "      <td>55.576019</td>\n",
              "      <td>166.653120</td>\n",
              "      <td>1752.300279</td>\n",
              "    </tr>\n",
              "    <tr>\n",
              "      <th>min</th>\n",
              "      <td>-9360.000000</td>\n",
              "      <td>0.000000</td>\n",
              "      <td>12347.000000</td>\n",
              "    </tr>\n",
              "    <tr>\n",
              "      <th>25%</th>\n",
              "      <td>1.000000</td>\n",
              "      <td>1.250000</td>\n",
              "      <td>14057.000000</td>\n",
              "    </tr>\n",
              "    <tr>\n",
              "      <th>50%</th>\n",
              "      <td>2.000000</td>\n",
              "      <td>2.510000</td>\n",
              "      <td>15464.000000</td>\n",
              "    </tr>\n",
              "    <tr>\n",
              "      <th>75%</th>\n",
              "      <td>8.000000</td>\n",
              "      <td>4.250000</td>\n",
              "      <td>17041.000000</td>\n",
              "    </tr>\n",
              "    <tr>\n",
              "      <th>max</th>\n",
              "      <td>2880.000000</td>\n",
              "      <td>16888.020000</td>\n",
              "      <td>18283.000000</td>\n",
              "    </tr>\n",
              "  </tbody>\n",
              "</table>\n",
              "</div>\n",
              "      <button class=\"colab-df-convert\" onclick=\"convertToInteractive('df-0258255e-df46-41e7-944c-5642d0488159')\"\n",
              "              title=\"Convert this dataframe to an interactive table.\"\n",
              "              style=\"display:none;\">\n",
              "        \n",
              "  <svg xmlns=\"http://www.w3.org/2000/svg\" height=\"24px\"viewBox=\"0 0 24 24\"\n",
              "       width=\"24px\">\n",
              "    <path d=\"M0 0h24v24H0V0z\" fill=\"none\"/>\n",
              "    <path d=\"M18.56 5.44l.94 2.06.94-2.06 2.06-.94-2.06-.94-.94-2.06-.94 2.06-2.06.94zm-11 1L8.5 8.5l.94-2.06 2.06-.94-2.06-.94L8.5 2.5l-.94 2.06-2.06.94zm10 10l.94 2.06.94-2.06 2.06-.94-2.06-.94-.94-2.06-.94 2.06-2.06.94z\"/><path d=\"M17.41 7.96l-1.37-1.37c-.4-.4-.92-.59-1.43-.59-.52 0-1.04.2-1.43.59L10.3 9.45l-7.72 7.72c-.78.78-.78 2.05 0 2.83L4 21.41c.39.39.9.59 1.41.59.51 0 1.02-.2 1.41-.59l7.78-7.78 2.81-2.81c.8-.78.8-2.07 0-2.86zM5.41 20L4 18.59l7.72-7.72 1.47 1.35L5.41 20z\"/>\n",
              "  </svg>\n",
              "      </button>\n",
              "      \n",
              "  <style>\n",
              "    .colab-df-container {\n",
              "      display:flex;\n",
              "      flex-wrap:wrap;\n",
              "      gap: 12px;\n",
              "    }\n",
              "\n",
              "    .colab-df-convert {\n",
              "      background-color: #E8F0FE;\n",
              "      border: none;\n",
              "      border-radius: 50%;\n",
              "      cursor: pointer;\n",
              "      display: none;\n",
              "      fill: #1967D2;\n",
              "      height: 32px;\n",
              "      padding: 0 0 0 0;\n",
              "      width: 32px;\n",
              "    }\n",
              "\n",
              "    .colab-df-convert:hover {\n",
              "      background-color: #E2EBFA;\n",
              "      box-shadow: 0px 1px 2px rgba(60, 64, 67, 0.3), 0px 1px 3px 1px rgba(60, 64, 67, 0.15);\n",
              "      fill: #174EA6;\n",
              "    }\n",
              "\n",
              "    [theme=dark] .colab-df-convert {\n",
              "      background-color: #3B4455;\n",
              "      fill: #D2E3FC;\n",
              "    }\n",
              "\n",
              "    [theme=dark] .colab-df-convert:hover {\n",
              "      background-color: #434B5C;\n",
              "      box-shadow: 0px 1px 3px 1px rgba(0, 0, 0, 0.15);\n",
              "      filter: drop-shadow(0px 1px 2px rgba(0, 0, 0, 0.3));\n",
              "      fill: #FFFFFF;\n",
              "    }\n",
              "  </style>\n",
              "\n",
              "      <script>\n",
              "        const buttonEl =\n",
              "          document.querySelector('#df-0258255e-df46-41e7-944c-5642d0488159 button.colab-df-convert');\n",
              "        buttonEl.style.display =\n",
              "          google.colab.kernel.accessAllowed ? 'block' : 'none';\n",
              "\n",
              "        async function convertToInteractive(key) {\n",
              "          const element = document.querySelector('#df-0258255e-df46-41e7-944c-5642d0488159');\n",
              "          const dataTable =\n",
              "            await google.colab.kernel.invokeFunction('convertToInteractive',\n",
              "                                                     [key], {});\n",
              "          if (!dataTable) return;\n",
              "\n",
              "          const docLinkHtml = 'Like what you see? Visit the ' +\n",
              "            '<a target=\"_blank\" href=https://colab.research.google.com/notebooks/data_table.ipynb>data table notebook</a>'\n",
              "            + ' to learn more about interactive tables.';\n",
              "          element.innerHTML = '';\n",
              "          dataTable['output_type'] = 'display_data';\n",
              "          await google.colab.output.renderOutput(dataTable, element);\n",
              "          const docLink = document.createElement('div');\n",
              "          docLink.innerHTML = docLinkHtml;\n",
              "          element.appendChild(docLink);\n",
              "        }\n",
              "      </script>\n",
              "    </div>\n",
              "  </div>\n",
              "  "
            ]
          },
          "metadata": {},
          "execution_count": 6
        }
      ],
      "source": [
        "ecom.describe()"
      ]
    },
    {
      "cell_type": "markdown",
      "metadata": {
        "id": "ajogE9PISvOe"
      },
      "source": [
        "** What is the average Purchase Price? **"
      ]
    },
    {
      "cell_type": "code",
      "execution_count": 7,
      "metadata": {
        "colab": {
          "base_uri": "https://localhost:8080/"
        },
        "id": "yG_RDgIdSvOf",
        "outputId": "fa2c0c93-6c51-486c-af5b-2f0985eadf57"
      },
      "outputs": [
        {
          "output_type": "execute_result",
          "data": {
            "text/plain": [
              "6.42371220773067"
            ]
          },
          "metadata": {},
          "execution_count": 7
        }
      ],
      "source": [
        "ecom[\"UnitPrice\"].mean()"
      ]
    },
    {
      "cell_type": "markdown",
      "metadata": {
        "id": "0a665BtqSvOf"
      },
      "source": [
        "** What were the highest and lowest purchase prices? **"
      ]
    },
    {
      "cell_type": "code",
      "execution_count": 8,
      "metadata": {
        "colab": {
          "base_uri": "https://localhost:8080/"
        },
        "id": "MTCUzcvDSvOg",
        "outputId": "564a4515-c29b-4b97-c130-3ec5c62a8fd0"
      },
      "outputs": [
        {
          "output_type": "execute_result",
          "data": {
            "text/plain": [
              "16888.02"
            ]
          },
          "metadata": {},
          "execution_count": 8
        }
      ],
      "source": [
        "ecom[\"UnitPrice\"].max()"
      ]
    },
    {
      "cell_type": "code",
      "execution_count": 9,
      "metadata": {
        "colab": {
          "base_uri": "https://localhost:8080/"
        },
        "id": "cibF1yG_SvOg",
        "outputId": "56af6b5a-973b-4139-961b-202c5d6a7e53"
      },
      "outputs": [
        {
          "output_type": "execute_result",
          "data": {
            "text/plain": [
              "0.0"
            ]
          },
          "metadata": {},
          "execution_count": 9
        }
      ],
      "source": [
        "ecom[\"UnitPrice\"].min()"
      ]
    },
    {
      "cell_type": "markdown",
      "metadata": {
        "id": "2hlg_-S3SvOh"
      },
      "source": [
        "** List the country names and number of records belongs to each country **"
      ]
    },
    {
      "cell_type": "code",
      "execution_count": 10,
      "metadata": {
        "colab": {
          "base_uri": "https://localhost:8080/"
        },
        "id": "uorNjVIrSvOh",
        "outputId": "ad36a58c-4cef-4ce8-f9bb-170e2590053b"
      },
      "outputs": [
        {
          "output_type": "execute_result",
          "data": {
            "text/plain": [
              "United Kingdom     46933\n",
              "Germany              811\n",
              "France               608\n",
              "EIRE                 418\n",
              "Spain                174\n",
              "Norway               147\n",
              "Portugal             141\n",
              "Belgium               99\n",
              "Australia             83\n",
              "Cyprus                83\n",
              "Netherlands           72\n",
              "Japan                 69\n",
              "Switzerland           49\n",
              "Italy                 42\n",
              "Sweden                41\n",
              "Lithuania             35\n",
              "Iceland               31\n",
              "Denmark               20\n",
              "Channel Islands       17\n",
              "Finland               17\n",
              "Austria                9\n",
              "Poland                 8\n",
              "Israel                 2\n",
              "Bahrain                2\n",
              "Name: Country, dtype: int64"
            ]
          },
          "metadata": {},
          "execution_count": 10
        }
      ],
      "source": [
        "ecom.Country.value_counts()"
      ]
    },
    {
      "cell_type": "markdown",
      "metadata": {
        "id": "18Hkz6zfSvOi"
      },
      "source": [
        "** How many records are as Country United Kingdom? **"
      ]
    },
    {
      "cell_type": "code",
      "execution_count": 11,
      "metadata": {
        "colab": {
          "base_uri": "https://localhost:8080/"
        },
        "id": "pRl_QJQTSvOi",
        "outputId": "6a25d63c-ac0c-4deb-cec0-ed36e6a533db"
      },
      "outputs": [
        {
          "output_type": "execute_result",
          "data": {
            "text/plain": [
              "InvoiceNo      46933\n",
              "StockCode      46933\n",
              "Description    46791\n",
              "Quantity       46933\n",
              "InvoiceDate    46933\n",
              "UnitPrice      46933\n",
              "CustomerID     29095\n",
              "Country        46933\n",
              "dtype: int64"
            ]
          },
          "metadata": {},
          "execution_count": 11
        }
      ],
      "source": [
        "ecom[ecom[\"Country\"] == \"United Kingdom\"].count()"
      ]
    },
    {
      "cell_type": "markdown",
      "metadata": {
        "id": "DhiyxTHUSvOi"
      },
      "source": [
        "** Create a column named Total which shows the total amount of spend using UnitPrice and Quantity ? **\n"
      ]
    },
    {
      "cell_type": "code",
      "execution_count": 12,
      "metadata": {
        "colab": {
          "base_uri": "https://localhost:8080/"
        },
        "id": "wBFADECbSvOj",
        "outputId": "bc8a93be-3c27-4c16-d5d4-9f7e2b24178a"
      },
      "outputs": [
        {
          "output_type": "execute_result",
          "data": {
            "text/plain": [
              "0        15.30\n",
              "1        20.34\n",
              "2        22.00\n",
              "3        20.34\n",
              "4        20.34\n",
              "         ...  \n",
              "49907     2.10\n",
              "49908     4.95\n",
              "49909     2.75\n",
              "49910     3.75\n",
              "49911      NaN\n",
              "Name: Total, Length: 49912, dtype: float64"
            ]
          },
          "metadata": {},
          "execution_count": 12
        }
      ],
      "source": [
        "ecom[\"Total\"] = ecom[\"UnitPrice\"]* ecom.Quantity\n",
        "ecom.Total"
      ]
    },
    {
      "cell_type": "markdown",
      "metadata": {
        "id": "S3Z7hWmdSvOj"
      },
      "source": [
        "** Show total pending amount according to the Countries **"
      ]
    },
    {
      "cell_type": "code",
      "execution_count": 13,
      "metadata": {
        "colab": {
          "base_uri": "https://localhost:8080/"
        },
        "id": "V7Jqq1pGSvOj",
        "outputId": "01b21fd4-567d-45f2-e7f4-63323571c297"
      },
      "outputs": [
        {
          "output_type": "execute_result",
          "data": {
            "text/plain": [
              "Country\n",
              "Australia            8.15948\n",
              "Austria              0.25704\n",
              "Bahrain              0.00000\n",
              "Belgium              1.77501\n",
              "Channel Islands      0.36353\n",
              "Cyprus               1.59082\n",
              "Denmark              1.28150\n",
              "EIRE                 8.79728\n",
              "Finland              0.89280\n",
              "France              12.86875\n",
              "Germany             18.38383\n",
              "Iceland              0.71179\n",
              "Israel              -0.22744\n",
              "Italy                0.78685\n",
              "Japan                7.59527\n",
              "Lithuania            1.66106\n",
              "Netherlands          8.78448\n",
              "Norway               3.78712\n",
              "Poland               0.24816\n",
              "Portugal             2.73620\n",
              "Spain                1.85640\n",
              "Sweden               3.15386\n",
              "Switzerland          1.30492\n",
              "United Kingdom     752.70785\n",
              "Name: Total, dtype: float64"
            ]
          },
          "metadata": {},
          "execution_count": 13
        }
      ],
      "source": [
        "ecom.groupby(\"Country\")[\"Total\"].sum()/1000"
      ]
    },
    {
      "cell_type": "markdown",
      "metadata": {
        "id": "IrwLc-AHSvOk"
      },
      "source": [
        "** Which Country spend least? **"
      ]
    },
    {
      "cell_type": "code",
      "execution_count": 14,
      "metadata": {
        "colab": {
          "base_uri": "https://localhost:8080/"
        },
        "id": "_RW8KHyISvOk",
        "outputId": "087edbe1-8cd7-459a-aa18-01488943b033"
      },
      "outputs": [
        {
          "output_type": "execute_result",
          "data": {
            "text/plain": [
              "Country\n",
              "Israel   -227.44\n",
              "Name: Total, dtype: float64"
            ]
          },
          "metadata": {},
          "execution_count": 14
        }
      ],
      "source": [
        "ecom.groupby(\"Country\")[\"Total\"].sum().sort_values(ascending = True)[:1]"
      ]
    },
    {
      "cell_type": "markdown",
      "metadata": {
        "id": "kd4-Tkm9SvOk"
      },
      "source": [
        "** Calculate average of spending according to country with apply function? **"
      ]
    },
    {
      "cell_type": "code",
      "execution_count": null,
      "metadata": {
        "id": "yWeDchewSvOl"
      },
      "outputs": [],
      "source": [
        "ecom.groupby(\"Country\")[\"Total\"].apply(np.mean)"
      ]
    },
    {
      "cell_type": "markdown",
      "metadata": {
        "id": "h4by5UJSSvOl"
      },
      "source": [
        "** Calculate average,mean,max of spending according to country with agg function? **"
      ]
    },
    {
      "cell_type": "code",
      "execution_count": null,
      "metadata": {
        "id": "NFa87rAQSvOl"
      },
      "outputs": [],
      "source": [
        "ecom.groupby(\"Country\")[\"Total\"].aggregate({\"min\",\"max\",\"mean\"})"
      ]
    },
    {
      "cell_type": "markdown",
      "metadata": {
        "id": "5sRXJivJSvOl"
      },
      "source": [
        "** What is the max Total spending in whole dataset and show the records of that spending ?**"
      ]
    },
    {
      "cell_type": "code",
      "execution_count": null,
      "metadata": {
        "id": "iLpNTlwMSvOl"
      },
      "outputs": [],
      "source": [
        "ecom[ecom.Total == ecom.Total.max()]"
      ]
    },
    {
      "cell_type": "markdown",
      "metadata": {
        "id": "dW8gqWsUSvOm"
      },
      "source": [
        "** How many people who live in Spain spend more than average Total ?**"
      ]
    },
    {
      "cell_type": "code",
      "execution_count": null,
      "metadata": {
        "id": "thJWCoUfSvOm"
      },
      "outputs": [],
      "source": [
        "ecom[(ecom.Total>ecom.Total.mean()) & (ecom.Country == \"Spain\")]\n"
      ]
    },
    {
      "cell_type": "code",
      "source": [
        "ecom[(ecom.Total>ecom.Total.mean()) & (ecom.Country == \"Spain\")].count()"
      ],
      "metadata": {
        "id": "SMLorAvoVMVI"
      },
      "execution_count": null,
      "outputs": []
    },
    {
      "cell_type": "markdown",
      "metadata": {
        "id": "7IKAthKWSvOm"
      },
      "source": [
        "** Convert datatype of InvoiceDate to datetime and assign it to new column name InvoiceDate2**"
      ]
    },
    {
      "cell_type": "code",
      "execution_count": null,
      "metadata": {
        "id": "RuCdp64aSvOm"
      },
      "outputs": [],
      "source": [
        "ecom[\"InvoiceDate2\"] = pd.to_datetime(ecom.InvoiceDate)\n",
        "ecom[\"InvoiceDate2\"]"
      ]
    },
    {
      "cell_type": "markdown",
      "metadata": {
        "id": "OHnkYTLqSvOn"
      },
      "source": [
        "** Take only date values (year-month-day) from InvoiceDate2 and assign it to a new column named date **"
      ]
    },
    {
      "cell_type": "code",
      "execution_count": null,
      "metadata": {
        "id": "BNnqVjQuSvOn"
      },
      "outputs": [],
      "source": [
        "ecom.InvoiceDate2.dt.date"
      ]
    },
    {
      "cell_type": "code",
      "execution_count": null,
      "metadata": {
        "id": "veRIAIMPSvOn"
      },
      "outputs": [],
      "source": [
        "ecom.date"
      ]
    },
    {
      "cell_type": "code",
      "execution_count": null,
      "metadata": {
        "id": "Azg3P56jSvOn"
      },
      "outputs": [],
      "source": [
        "ecom.head()"
      ]
    },
    {
      "cell_type": "markdown",
      "metadata": {
        "id": "5FXhgmf9SvOn"
      },
      "source": [
        "** drop InvoiceDate2 and InvoiceDate columns permanently **"
      ]
    },
    {
      "cell_type": "code",
      "execution_count": null,
      "metadata": {
        "id": "k5raz9aMSvOo"
      },
      "outputs": [],
      "source": [
        "ecom.drop(columns=[\"InvoiceDate2\",\"InvoiceDate\"],inplace=True)\n",
        "ecom.head()"
      ]
    },
    {
      "cell_type": "markdown",
      "metadata": {
        "id": "3lCtZ3JNSvOo"
      },
      "source": [
        "** Remove A, B, G and E from first 5 rows of ecom dataframe with a string method **"
      ]
    },
    {
      "cell_type": "code",
      "execution_count": null,
      "metadata": {
        "id": "_KHCdGZ6SvOo"
      },
      "outputs": [],
      "source": [
        "ecom.StockCode[:5].str.replace(\"A\",\"\").str.replace(\"B\",\"\").str.replace(\"G\",\"\").str.replace(\"E\",\"\")"
      ]
    },
    {
      "cell_type": "code",
      "source": [
        "ecom.StockCode[:5].str.extract(\"(\\d+)\",expand=False)"
      ],
      "metadata": {
        "id": "sKpjoUBXVwIL"
      },
      "execution_count": null,
      "outputs": []
    },
    {
      "cell_type": "markdown",
      "metadata": {
        "id": "OjiVx3F1SvOo"
      },
      "source": [
        "** take only Total and date columns with loc and craete a new df named ecom2 **"
      ]
    },
    {
      "cell_type": "code",
      "execution_count": null,
      "metadata": {
        "id": "dnvD4H18SvOo"
      },
      "outputs": [],
      "source": [
        "ecom2 = ecom.loc[:,\"Total\":\"date\"]\n",
        "ecom2"
      ]
    },
    {
      "cell_type": "markdown",
      "metadata": {
        "id": "B-T9dJqQSvOp"
      },
      "source": [
        "** take only InvoiceNo and CustomerID columns with iloc and craete a new df named ecom3 **"
      ]
    },
    {
      "cell_type": "code",
      "execution_count": null,
      "metadata": {
        "id": "0b5k_PI6SvOp"
      },
      "outputs": [],
      "source": [
        "ecom3 = ecom.iloc[:,[0,5,7]]\n",
        "ecom3"
      ]
    },
    {
      "cell_type": "markdown",
      "metadata": {
        "id": "MqJmoVJFSvOp"
      },
      "source": [
        "** Combine ecom2 and ecom3 with concat **"
      ]
    },
    {
      "cell_type": "code",
      "execution_count": null,
      "metadata": {
        "id": "pXvIBatRSvOp"
      },
      "outputs": [],
      "source": [
        "ecom_concat = pd.concat([ecom2,ecom3],axis = 1)\n",
        "ecom_concat"
      ]
    },
    {
      "cell_type": "markdown",
      "metadata": {
        "id": "KL_w7L7DSvOq"
      },
      "source": [
        "** Combine ecom2 and ecom3 with merge **"
      ]
    },
    {
      "cell_type": "code",
      "execution_count": null,
      "metadata": {
        "id": "DOnX7wLRSvOq"
      },
      "outputs": [],
      "source": [
        "pd.merge(ecom2,ecom3)\n",
        "ecom.duplicated().sum()\n",
        "ecom_merge = pd.merge(ecom2.iloc[:400],ecom3.iloc[:400])\n",
        "ecom_merge.drop_duplicates()"
      ]
    },
    {
      "cell_type": "markdown",
      "metadata": {
        "id": "lsgaamkTSvOq"
      },
      "source": [
        "** Combine ecom2 and ecom3 with join **"
      ]
    },
    {
      "cell_type": "code",
      "execution_count": null,
      "metadata": {
        "id": "hSpNtZy3SvOq"
      },
      "outputs": [],
      "source": [
        "ecom2.join(ecom3,lsuffix=\"_left\",rsuffix=\"_right\")"
      ]
    },
    {
      "cell_type": "markdown",
      "metadata": {
        "id": "t5gkvOfRSvOq"
      },
      "source": [
        "# Congrats!"
      ]
    },
    {
      "cell_type": "code",
      "execution_count": null,
      "metadata": {
        "id": "BS5i72kUSvOq"
      },
      "outputs": [],
      "source": [
        ""
      ]
    }
  ],
  "metadata": {
    "kernelspec": {
      "display_name": "Python 3",
      "language": "python",
      "name": "python3"
    },
    "language_info": {
      "codemirror_mode": {
        "name": "ipython",
        "version": 3
      },
      "file_extension": ".py",
      "mimetype": "text/x-python",
      "name": "python",
      "nbconvert_exporter": "python",
      "pygments_lexer": "ipython3",
      "version": "3.8.13"
    },
    "toc": {
      "base_numbering": 1,
      "nav_menu": {},
      "number_sections": true,
      "sideBar": true,
      "skip_h1_title": false,
      "title_cell": "Table of Contents",
      "title_sidebar": "Contents",
      "toc_cell": false,
      "toc_position": {},
      "toc_section_display": true,
      "toc_window_display": false
    },
    "colab": {
      "name": "D1461_METIN_DAwPy Assignment-2 (Pandas) (DS-DA-11/22 EU).ipynb",
      "provenance": [],
      "collapsed_sections": [],
      "include_colab_link": true
    }
  },
  "nbformat": 4,
  "nbformat_minor": 0
}